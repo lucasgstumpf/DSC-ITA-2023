{
 "cells": [
  {
   "cell_type": "code",
   "execution_count": 11,
   "metadata": {},
   "outputs": [],
   "source": [
    "from util.utils import *\n",
    "import os"
   ]
  },
  {
   "cell_type": "code",
   "execution_count": 12,
   "metadata": {},
   "outputs": [],
   "source": [
    "## load datasets\n",
    "def loadDataframes():\n",
    "    cat62 = None\n",
    "    #cat62 = openDataframe(\"cat62_bronze.csv\")\n",
    "    espera = openDataframe(\"espera_bronze.csv\")\n",
    "    bimtra = openDataframe(\"bimtra_bronze.csv\")\n",
    "    metaf = openDataframe(\"metaf_bronze.csv\")\n",
    "    metar = openDataframe(\"metar_bronze.csv\")\n",
    "    tc_prev = openDataframe(\"tc-prev_bronze.csv\")\n",
    "    tc_real = openDataframe(\"tc-real_bronze.csv\")\n",
    "    return cat62, espera, bimtra, metaf, metar, tc_prev, tc_real\n",
    "\n",
    "cat62, espera, bimtra, metaf, metar, tc_prev, tc_real = loadDataframes()"
   ]
  },
  {
   "cell_type": "code",
   "execution_count": 13,
   "metadata": {},
   "outputs": [],
   "source": [
    "tc_real['aero'] = tc_real['aero'].apply(lambda x: 'SB' + x)"
   ]
  },
  {
   "cell_type": "code",
   "execution_count": 14,
   "metadata": {},
   "outputs": [],
   "source": [
    "# MERGE BIMTRA - TC_REA\n",
    "\n",
    "resultado = bimtra.merge(tc_real, left_on=['origem'], right_on=['aero'], how='inner')\n",
    "\n",
    "# Use uma função lambda para calcular a diferença entre dt_dep e hora\n",
    "resultado = resultado[resultado.apply(lambda row: abs(row['dt_dep'] - row['hora']) <= 1800000, axis=1)]\n",
    "\n",
    "resultado = resultado.rename(columns={'hora': 'hora_real'})\n",
    "resultado = resultado.rename(columns={'aero': 'aero_real'})\n",
    "resultado = resultado.rename(columns={'hora_formatted': 'hora_formatted_real'})\n",
    "\n"
   ]
  },
  {
   "cell_type": "code",
   "execution_count": 15,
   "metadata": {},
   "outputs": [],
   "source": [
    "# MERGE COM RESULTADO E TC PREAV AGORA\n",
    "tc_prev['aero'] = tc_prev['aero'].apply(lambda x: 'SB' + x)"
   ]
  },
  {
   "cell_type": "code",
   "execution_count": 16,
   "metadata": {},
   "outputs": [],
   "source": [
    "resultado2 = resultado.merge(tc_prev, left_on=['destino'], right_on=['aero'], how='inner')\n",
    "\n",
    "# Use uma função lambda para calcular a diferença entre dt_dep e hora\n",
    "resultado2 = resultado2[resultado2.apply(lambda row: abs(row['hora'] - row['dt_arr']) <= 1800000, axis=1)]\n",
    "resultado2 = resultado2.rename(columns={'hora': 'hora_prev'})\n",
    "resultado2 = resultado2.rename(columns={'hora_formatted': 'hora_formatted_prev'})\n",
    "resultado2 = resultado2.rename(columns={'aero': 'aero_prev'})"
   ]
  },
  {
   "cell_type": "code",
   "execution_count": 17,
   "metadata": {},
   "outputs": [],
   "source": [
    "## RESULTADO COM METAR\n",
    "resultado3 = resultado2.merge(metar, left_on=['origem'], right_on=['aero'], how='inner')\n",
    "\n",
    "# Use uma função lambda para calcular a diferença entre dt_dep e hora\n",
    "resultado3 = resultado3[resultado3.apply(lambda row: abs(row['hora'] - row['dt_dep']) <= 1800000, axis=1)]\n",
    "resultado3 = resultado3.rename(columns={'hora': 'hora_metar'})\n",
    "resultado3 = resultado3.rename(columns={'hora_formatted': 'hora_formatted_metar'})\n",
    "resultado3 = resultado3.rename(columns={'aero': 'aero_metar'})\n"
   ]
  },
  {
   "cell_type": "code",
   "execution_count": 18,
   "metadata": {},
   "outputs": [],
   "source": [
    "## RESULTADO COM METAF\n",
    "resultado4 = resultado3.merge(metaf, left_on=['destino'], right_on=['aero'], how='inner')\n",
    "\n",
    "# Use uma função lambda para calcular a diferença entre dt_dep e hora\n",
    "resultado4 = resultado4[resultado4.apply(lambda row: abs(row['hora'] - row['dt_arr']) <= 1800000, axis=1)]\n",
    "resultado4 = resultado4.rename(columns={'hora': 'hora_metaf'})\n",
    "resultado4 = resultado4.rename(columns={'hora_formatted': 'hora_formatted_metaf'})\n",
    "resultado4 = resultado4.rename(columns={'aero': 'aero_metaf'})\n"
   ]
  },
  {
   "cell_type": "code",
   "execution_count": 20,
   "metadata": {},
   "outputs": [
    {
     "data": {
      "text/html": [
       "<div>\n",
       "<style scoped>\n",
       "    .dataframe tbody tr th:only-of-type {\n",
       "        vertical-align: middle;\n",
       "    }\n",
       "\n",
       "    .dataframe tbody tr th {\n",
       "        vertical-align: top;\n",
       "    }\n",
       "\n",
       "    .dataframe thead th {\n",
       "        text-align: right;\n",
       "    }\n",
       "</style>\n",
       "<table border=\"1\" class=\"dataframe\">\n",
       "  <thead>\n",
       "    <tr style=\"text-align: right;\">\n",
       "      <th></th>\n",
       "      <th>flightid</th>\n",
       "      <th>origem</th>\n",
       "      <th>destino</th>\n",
       "      <th>dt_dep</th>\n",
       "      <th>dt_arr</th>\n",
       "      <th>dt_dep_formatted</th>\n",
       "      <th>dt_arr_formatted</th>\n",
       "      <th>hora_real</th>\n",
       "      <th>nova_cabeceira</th>\n",
       "      <th>antiga_cabeceira</th>\n",
       "      <th>...</th>\n",
       "      <th>aero_prev</th>\n",
       "      <th>hora_formatted_prev</th>\n",
       "      <th>hora_metar</th>\n",
       "      <th>metar</th>\n",
       "      <th>aero_metar</th>\n",
       "      <th>hora_formatted_metar</th>\n",
       "      <th>hora_metaf</th>\n",
       "      <th>metaf</th>\n",
       "      <th>aero_metaf</th>\n",
       "      <th>hora_formatted_metaf</th>\n",
       "    </tr>\n",
       "  </thead>\n",
       "  <tbody>\n",
       "    <tr>\n",
       "      <th>8025</th>\n",
       "      <td>b6fae10418d00900c1a8e8388af71abf</td>\n",
       "      <td>SBGR</td>\n",
       "      <td>SBBR</td>\n",
       "      <td>1679325532000</td>\n",
       "      <td>1679330517000</td>\n",
       "      <td>Monday, March 20, 2023 12:18:52</td>\n",
       "      <td>Monday, March 20, 2023 13:41:57</td>\n",
       "      <td>1679326233000</td>\n",
       "      <td>28L</td>\n",
       "      <td>10R</td>\n",
       "      <td>...</td>\n",
       "      <td>SBBR</td>\n",
       "      <td>Monday, March 20, 2023 14:00:00</td>\n",
       "      <td>1679324400000</td>\n",
       "      <td>METAR SBGR 201500Z 28006KT 9999 SCT045 30/18 Q...</td>\n",
       "      <td>SBGR</td>\n",
       "      <td>Monday, March 20, 2023 12:00:00</td>\n",
       "      <td>1679331600000</td>\n",
       "      <td>METAF SBBR 201700Z 07008KT CAVOK 26/15 Q1013=\\n</td>\n",
       "      <td>SBBR</td>\n",
       "      <td>Monday, March 20, 2023 14:00:00</td>\n",
       "    </tr>\n",
       "  </tbody>\n",
       "</table>\n",
       "<p>1 rows × 24 columns</p>\n",
       "</div>"
      ],
      "text/plain": [
       "                              flightid origem destino         dt_dep  \\\n",
       "8025  b6fae10418d00900c1a8e8388af71abf   SBGR    SBBR  1679325532000   \n",
       "\n",
       "             dt_arr                 dt_dep_formatted  \\\n",
       "8025  1679330517000  Monday, March 20, 2023 12:18:52   \n",
       "\n",
       "                     dt_arr_formatted      hora_real nova_cabeceira  \\\n",
       "8025  Monday, March 20, 2023 13:41:57  1679326233000            28L   \n",
       "\n",
       "     antiga_cabeceira  ... aero_prev              hora_formatted_prev  \\\n",
       "8025              10R  ...      SBBR  Monday, March 20, 2023 14:00:00   \n",
       "\n",
       "         hora_metar                                              metar  \\\n",
       "8025  1679324400000  METAR SBGR 201500Z 28006KT 9999 SCT045 30/18 Q...   \n",
       "\n",
       "     aero_metar             hora_formatted_metar     hora_metaf  \\\n",
       "8025       SBGR  Monday, March 20, 2023 12:00:00  1679331600000   \n",
       "\n",
       "                                                metaf aero_metaf  \\\n",
       "8025  METAF SBBR 201700Z 07008KT CAVOK 26/15 Q1013=\\n       SBBR   \n",
       "\n",
       "                 hora_formatted_metaf  \n",
       "8025  Monday, March 20, 2023 14:00:00  \n",
       "\n",
       "[1 rows x 24 columns]"
      ]
     },
     "execution_count": 20,
     "metadata": {},
     "output_type": "execute_result"
    }
   ],
   "source": [
    "resultado4.head(1)"
   ]
  },
  {
   "cell_type": "code",
   "execution_count": null,
   "metadata": {},
   "outputs": [],
   "source": [
    "resultado4.to_csv(\"../data/processed_data/merged_bronze.csv\")"
   ]
  }
 ],
 "metadata": {
  "kernelspec": {
   "display_name": "Python 3",
   "language": "python",
   "name": "python3"
  },
  "language_info": {
   "codemirror_mode": {
    "name": "ipython",
    "version": 3
   },
   "file_extension": ".py",
   "mimetype": "text/x-python",
   "name": "python",
   "nbconvert_exporter": "python",
   "pygments_lexer": "ipython3",
   "version": "3.11.5"
  }
 },
 "nbformat": 4,
 "nbformat_minor": 2
}
