{
 "cells": [
  {
   "cell_type": "code",
   "execution_count": 40,
   "metadata": {},
   "outputs": [],
   "source": [
    "from util.utils import *\n",
    "import os"
   ]
  },
  {
   "cell_type": "code",
   "execution_count": 41,
   "metadata": {},
   "outputs": [],
   "source": [
    "## load datasets\n",
    "def loadDataframes():\n",
    "    cat62 = None\n",
    "    #cat62 = openDataframe(\"cat62_bronze.csv\")\n",
    "    espera = openDataframe(\"espera_bronze.csv\")\n",
    "    bimtra = openDataframe(\"bimtra_bronze.csv\")\n",
    "    metaf = openDataframe(\"metaf_bronze.csv\")\n",
    "    metar = openDataframe(\"metar_bronze.csv\")\n",
    "    tc_prev = openDataframe(\"tc-prev_bronze.csv\")\n",
    "    tc_real = openDataframe(\"tc-real_bronze.csv\")\n",
    "    return cat62, espera, bimtra, metaf, metar, tc_prev, tc_real\n",
    "\n",
    "cat62, espera, bimtra, metaf, metar, tc_prev, tc_real = loadDataframes()"
   ]
  },
  {
   "cell_type": "code",
   "execution_count": 42,
   "metadata": {},
   "outputs": [],
   "source": [
    "tc_real['aero'] = tc_real['aero'].apply(lambda x: 'SB' + x)"
   ]
  },
  {
   "cell_type": "code",
   "execution_count": 43,
   "metadata": {},
   "outputs": [],
   "source": [
    "# MERGE BIMTRA - TC_REA\n",
    "\n",
    "resultado = bimtra.merge(tc_real, left_on=['origem'], right_on=['aero'], how='inner')\n",
    "\n",
    "# Use uma função lambda para calcular a diferença entre dt_dep e hora\n",
    "resultado = resultado[resultado.apply(lambda row: abs(row['dt_dep'] - row['hora']) <= 1800000, axis=1)]\n",
    "\n",
    "resultado = resultado.rename(columns={'hora': 'hora_real'})\n",
    "resultado = resultado.rename(columns={'aero': 'aero_real'})\n",
    "resultado = resultado.rename(columns={'hora_formatted': 'hora_formatted_real'})\n",
    "\n"
   ]
  },
  {
   "cell_type": "code",
   "execution_count": 44,
   "metadata": {},
   "outputs": [],
   "source": [
    "# MERGE COM RESULTADO E TC PREAV AGORA\n",
    "tc_prev['aero'] = tc_prev['aero'].apply(lambda x: 'SB' + x)"
   ]
  },
  {
   "cell_type": "code",
   "execution_count": 45,
   "metadata": {},
   "outputs": [],
   "source": [
    "resultado2 = resultado.merge(tc_prev, left_on=['destino'], right_on=['aero'], how='inner')\n",
    "\n",
    "# Use uma função lambda para calcular a diferença entre dt_dep e hora\n",
    "resultado2 = resultado2[resultado2.apply(lambda row: abs(row['hora'] - row['dt_arr']) <= 1800000, axis=1)]\n",
    "resultado2 = resultado2.rename(columns={'hora': 'hora_prev'})\n",
    "resultado2 = resultado2.rename(columns={'hora_formatted': 'hora_formatted_prev'})\n",
    "resultado2 = resultado2.rename(columns={'aero': 'aero_prev'})"
   ]
  },
  {
   "cell_type": "code",
   "execution_count": 46,
   "metadata": {},
   "outputs": [],
   "source": [
    "## RESULTADO COM METAR\n",
    "resultado3 = resultado2.merge(metar, left_on=['origem'], right_on=['aero'], how='inner')\n",
    "\n",
    "# Use uma função lambda para calcular a diferença entre dt_dep e hora\n",
    "resultado3 = resultado3[resultado3.apply(lambda row: abs(row['dt_dep'] - row['hora']) <= 600000, axis=1)]\n",
    "resultado3 = resultado3.rename(columns={'hora': 'hora_metar'})\n",
    "resultado3 = resultado3.rename(columns={'hora_formatted': 'hora_formatted_metar'})\n",
    "resultado3 = resultado3.rename(columns={'aero': 'aero_metar'})\n"
   ]
  },
  {
   "cell_type": "code",
   "execution_count": 47,
   "metadata": {},
   "outputs": [
    {
     "data": {
      "text/plain": [
       "(3676, 20)"
      ]
     },
     "execution_count": 47,
     "metadata": {},
     "output_type": "execute_result"
    }
   ],
   "source": [
    "resultado3.shape"
   ]
  },
  {
   "cell_type": "code",
   "execution_count": 48,
   "metadata": {},
   "outputs": [],
   "source": [
    "## RESULTADO COM METAF\n",
    "resultado4 = resultado3.merge(metaf, left_on=['destino'], right_on=['aero'], how='inner')\n",
    "\n",
    "# Use uma função lambda para calcular a diferença entre dt_dep e hora\n",
    "resultado4 = resultado4[resultado4.apply(lambda row: abs(row['hora'] - row['dt_arr']) <= 600000, axis=1)]\n",
    "resultado4 = resultado4.rename(columns={'hora': 'hora_metaf'})\n",
    "resultado4 = resultado4.rename(columns={'hora_formatted': 'hora_formatted_metaf'})\n",
    "resultado4 = resultado4.rename(columns={'aero': 'aero_metaf'})\n"
   ]
  },
  {
   "cell_type": "code",
   "execution_count": 49,
   "metadata": {},
   "outputs": [
    {
     "data": {
      "text/plain": [
       "(832, 24)"
      ]
     },
     "execution_count": 49,
     "metadata": {},
     "output_type": "execute_result"
    }
   ],
   "source": [
    "resultado4.shape"
   ]
  },
  {
   "cell_type": "code",
   "execution_count": 52,
   "metadata": {},
   "outputs": [
    {
     "data": {
      "text/html": [
       "<div>\n",
       "<style scoped>\n",
       "    .dataframe tbody tr th:only-of-type {\n",
       "        vertical-align: middle;\n",
       "    }\n",
       "\n",
       "    .dataframe tbody tr th {\n",
       "        vertical-align: top;\n",
       "    }\n",
       "\n",
       "    .dataframe thead th {\n",
       "        text-align: right;\n",
       "    }\n",
       "</style>\n",
       "<table border=\"1\" class=\"dataframe\">\n",
       "  <thead>\n",
       "    <tr style=\"text-align: right;\">\n",
       "      <th></th>\n",
       "      <th>flightid</th>\n",
       "      <th>origem</th>\n",
       "      <th>destino</th>\n",
       "      <th>dt_dep</th>\n",
       "      <th>dt_arr</th>\n",
       "      <th>dt_dep_formatted</th>\n",
       "      <th>dt_arr_formatted</th>\n",
       "      <th>hora_real</th>\n",
       "      <th>nova_cabeceira</th>\n",
       "      <th>antiga_cabeceira</th>\n",
       "      <th>...</th>\n",
       "      <th>aero_prev</th>\n",
       "      <th>hora_formatted_prev</th>\n",
       "      <th>hora_metar</th>\n",
       "      <th>metar</th>\n",
       "      <th>aero_metar</th>\n",
       "      <th>hora_formatted_metar</th>\n",
       "      <th>hora_metaf</th>\n",
       "      <th>metaf</th>\n",
       "      <th>aero_metaf</th>\n",
       "      <th>hora_formatted_metaf</th>\n",
       "    </tr>\n",
       "  </thead>\n",
       "  <tbody>\n",
       "    <tr>\n",
       "      <th>2214</th>\n",
       "      <td>810f965ce283a33ab6cbb303ccaaaddd</td>\n",
       "      <td>SBGR</td>\n",
       "      <td>SBBR</td>\n",
       "      <td>1680295888000</td>\n",
       "      <td>1680300446000</td>\n",
       "      <td>Friday, March 31, 2023 17:51:28</td>\n",
       "      <td>Friday, March 31, 2023 19:07:26</td>\n",
       "      <td>1680295644000</td>\n",
       "      <td>10R</td>\n",
       "      <td>30</td>\n",
       "      <td>...</td>\n",
       "      <td>SBBR</td>\n",
       "      <td>Friday, March 31, 2023 19:00:00</td>\n",
       "      <td>1680296400000</td>\n",
       "      <td>METAR SBGR 312100Z 07007KT 7000 SCT011 21/20 Q...</td>\n",
       "      <td>SBGR</td>\n",
       "      <td>Friday, March 31, 2023 18:00:00</td>\n",
       "      <td>1680300000000</td>\n",
       "      <td>METAF SBBR 312200Z  15006KT CAVOK 28/10 Q1013=\\n</td>\n",
       "      <td>SBBR</td>\n",
       "      <td>Friday, March 31, 2023 19:00:00</td>\n",
       "    </tr>\n",
       "    <tr>\n",
       "      <th>7927</th>\n",
       "      <td>d1e8b77083f797ad9f69ebf4d2df0e13</td>\n",
       "      <td>SBKP</td>\n",
       "      <td>SBBR</td>\n",
       "      <td>1680126618000</td>\n",
       "      <td>1680130843000</td>\n",
       "      <td>Wednesday, March 29, 2023 18:50:18</td>\n",
       "      <td>Wednesday, March 29, 2023 20:00:43</td>\n",
       "      <td>1680126051000</td>\n",
       "      <td>15</td>\n",
       "      <td>17</td>\n",
       "      <td>...</td>\n",
       "      <td>SBBR</td>\n",
       "      <td>Wednesday, March 29, 2023 20:00:00</td>\n",
       "      <td>1680127200000</td>\n",
       "      <td>METAR SBKP 292200Z VRB02KT 8000 -TSRA FEW025 F...</td>\n",
       "      <td>SBKP</td>\n",
       "      <td>Wednesday, March 29, 2023 19:00:00</td>\n",
       "      <td>1680130800000</td>\n",
       "      <td>METAF SBBR 292300Z 09004KT CAVOK 26/09 Q1014=\\n</td>\n",
       "      <td>SBBR</td>\n",
       "      <td>Wednesday, March 29, 2023 20:00:00</td>\n",
       "    </tr>\n",
       "    <tr>\n",
       "      <th>28667</th>\n",
       "      <td>5b515ea8e42b84f9f3aa57fdd28d6937</td>\n",
       "      <td>SBPA</td>\n",
       "      <td>SBBR</td>\n",
       "      <td>1679907100000</td>\n",
       "      <td>1679914554000</td>\n",
       "      <td>Monday, March 27, 2023 05:51:40</td>\n",
       "      <td>Monday, March 27, 2023 07:55:54</td>\n",
       "      <td>1679908025000</td>\n",
       "      <td>11</td>\n",
       "      <td>29</td>\n",
       "      <td>...</td>\n",
       "      <td>SBBR</td>\n",
       "      <td>Monday, March 27, 2023 08:00:00</td>\n",
       "      <td>1679907600000</td>\n",
       "      <td>METAR SBPA 270900Z 00000KT CAVOK 18/16 Q1017=</td>\n",
       "      <td>SBPA</td>\n",
       "      <td>Monday, March 27, 2023 06:00:00</td>\n",
       "      <td>1679914800000</td>\n",
       "      <td>METAF SBBR 271100Z  12005KT CAVOK 21/12 Q1016=\\n</td>\n",
       "      <td>SBBR</td>\n",
       "      <td>Monday, March 27, 2023 08:00:00</td>\n",
       "    </tr>\n",
       "    <tr>\n",
       "      <th>50851</th>\n",
       "      <td>558f95b81bae1856ba3d589bd0218de5</td>\n",
       "      <td>SBSP</td>\n",
       "      <td>SBBR</td>\n",
       "      <td>1680283516000</td>\n",
       "      <td>1680289041000</td>\n",
       "      <td>Friday, March 31, 2023 14:25:16</td>\n",
       "      <td>Friday, March 31, 2023 15:57:21</td>\n",
       "      <td>1680283058000</td>\n",
       "      <td>17R</td>\n",
       "      <td>28</td>\n",
       "      <td>...</td>\n",
       "      <td>SBBR</td>\n",
       "      <td>Friday, March 31, 2023 16:00:00</td>\n",
       "      <td>1680283500000</td>\n",
       "      <td>SPECI SBSP 311725Z VRB04KT 5000 TSRA BR FEW011...</td>\n",
       "      <td>SBSP</td>\n",
       "      <td>Friday, March 31, 2023 14:25:00</td>\n",
       "      <td>1680289200000</td>\n",
       "      <td>METAF SBBR 311900Z  12006KT CAVOK 29/09 Q1012=\\n</td>\n",
       "      <td>SBBR</td>\n",
       "      <td>Friday, March 31, 2023 16:00:00</td>\n",
       "    </tr>\n",
       "    <tr>\n",
       "      <th>51171</th>\n",
       "      <td>558f95b81bae1856ba3d589bd0218de5</td>\n",
       "      <td>SBSP</td>\n",
       "      <td>SBBR</td>\n",
       "      <td>1680283516000</td>\n",
       "      <td>1680289041000</td>\n",
       "      <td>Friday, March 31, 2023 14:25:16</td>\n",
       "      <td>Friday, March 31, 2023 15:57:21</td>\n",
       "      <td>1680285028000</td>\n",
       "      <td>17R</td>\n",
       "      <td>12</td>\n",
       "      <td>...</td>\n",
       "      <td>SBBR</td>\n",
       "      <td>Friday, March 31, 2023 16:00:00</td>\n",
       "      <td>1680283500000</td>\n",
       "      <td>SPECI SBSP 311725Z VRB04KT 5000 TSRA BR FEW011...</td>\n",
       "      <td>SBSP</td>\n",
       "      <td>Friday, March 31, 2023 14:25:00</td>\n",
       "      <td>1680289200000</td>\n",
       "      <td>METAF SBBR 311900Z  12006KT CAVOK 29/09 Q1012=\\n</td>\n",
       "      <td>SBBR</td>\n",
       "      <td>Friday, March 31, 2023 16:00:00</td>\n",
       "    </tr>\n",
       "  </tbody>\n",
       "</table>\n",
       "<p>5 rows × 24 columns</p>\n",
       "</div>"
      ],
      "text/plain": [
       "                               flightid origem destino         dt_dep  \\\n",
       "2214   810f965ce283a33ab6cbb303ccaaaddd   SBGR    SBBR  1680295888000   \n",
       "7927   d1e8b77083f797ad9f69ebf4d2df0e13   SBKP    SBBR  1680126618000   \n",
       "28667  5b515ea8e42b84f9f3aa57fdd28d6937   SBPA    SBBR  1679907100000   \n",
       "50851  558f95b81bae1856ba3d589bd0218de5   SBSP    SBBR  1680283516000   \n",
       "51171  558f95b81bae1856ba3d589bd0218de5   SBSP    SBBR  1680283516000   \n",
       "\n",
       "              dt_arr                    dt_dep_formatted  \\\n",
       "2214   1680300446000     Friday, March 31, 2023 17:51:28   \n",
       "7927   1680130843000  Wednesday, March 29, 2023 18:50:18   \n",
       "28667  1679914554000     Monday, March 27, 2023 05:51:40   \n",
       "50851  1680289041000     Friday, March 31, 2023 14:25:16   \n",
       "51171  1680289041000     Friday, March 31, 2023 14:25:16   \n",
       "\n",
       "                         dt_arr_formatted      hora_real nova_cabeceira  \\\n",
       "2214      Friday, March 31, 2023 19:07:26  1680295644000            10R   \n",
       "7927   Wednesday, March 29, 2023 20:00:43  1680126051000             15   \n",
       "28667     Monday, March 27, 2023 07:55:54  1679908025000             11   \n",
       "50851     Friday, March 31, 2023 15:57:21  1680283058000            17R   \n",
       "51171     Friday, March 31, 2023 15:57:21  1680285028000            17R   \n",
       "\n",
       "      antiga_cabeceira  ... aero_prev                 hora_formatted_prev  \\\n",
       "2214                30  ...      SBBR     Friday, March 31, 2023 19:00:00   \n",
       "7927                17  ...      SBBR  Wednesday, March 29, 2023 20:00:00   \n",
       "28667               29  ...      SBBR     Monday, March 27, 2023 08:00:00   \n",
       "50851               28  ...      SBBR     Friday, March 31, 2023 16:00:00   \n",
       "51171               12  ...      SBBR     Friday, March 31, 2023 16:00:00   \n",
       "\n",
       "          hora_metar                                              metar  \\\n",
       "2214   1680296400000  METAR SBGR 312100Z 07007KT 7000 SCT011 21/20 Q...   \n",
       "7927   1680127200000  METAR SBKP 292200Z VRB02KT 8000 -TSRA FEW025 F...   \n",
       "28667  1679907600000      METAR SBPA 270900Z 00000KT CAVOK 18/16 Q1017=   \n",
       "50851  1680283500000  SPECI SBSP 311725Z VRB04KT 5000 TSRA BR FEW011...   \n",
       "51171  1680283500000  SPECI SBSP 311725Z VRB04KT 5000 TSRA BR FEW011...   \n",
       "\n",
       "      aero_metar                hora_formatted_metar     hora_metaf  \\\n",
       "2214        SBGR     Friday, March 31, 2023 18:00:00  1680300000000   \n",
       "7927        SBKP  Wednesday, March 29, 2023 19:00:00  1680130800000   \n",
       "28667       SBPA     Monday, March 27, 2023 06:00:00  1679914800000   \n",
       "50851       SBSP     Friday, March 31, 2023 14:25:00  1680289200000   \n",
       "51171       SBSP     Friday, March 31, 2023 14:25:00  1680289200000   \n",
       "\n",
       "                                                  metaf aero_metaf  \\\n",
       "2214   METAF SBBR 312200Z  15006KT CAVOK 28/10 Q1013=\\n       SBBR   \n",
       "7927    METAF SBBR 292300Z 09004KT CAVOK 26/09 Q1014=\\n       SBBR   \n",
       "28667  METAF SBBR 271100Z  12005KT CAVOK 21/12 Q1016=\\n       SBBR   \n",
       "50851  METAF SBBR 311900Z  12006KT CAVOK 29/09 Q1012=\\n       SBBR   \n",
       "51171  METAF SBBR 311900Z  12006KT CAVOK 29/09 Q1012=\\n       SBBR   \n",
       "\n",
       "                     hora_formatted_metaf  \n",
       "2214      Friday, March 31, 2023 19:00:00  \n",
       "7927   Wednesday, March 29, 2023 20:00:00  \n",
       "28667     Monday, March 27, 2023 08:00:00  \n",
       "50851     Friday, March 31, 2023 16:00:00  \n",
       "51171     Friday, March 31, 2023 16:00:00  \n",
       "\n",
       "[5 rows x 24 columns]"
      ]
     },
     "execution_count": 52,
     "metadata": {},
     "output_type": "execute_result"
    }
   ],
   "source": [
    "resultado4.head()"
   ]
  },
  {
   "cell_type": "code",
   "execution_count": 51,
   "metadata": {},
   "outputs": [],
   "source": [
    "resultado4.to_csv(\"../data/processed_data/merged_bronze.csv\")"
   ]
  }
 ],
 "metadata": {
  "kernelspec": {
   "display_name": "Python 3",
   "language": "python",
   "name": "python3"
  },
  "language_info": {
   "codemirror_mode": {
    "name": "ipython",
    "version": 3
   },
   "file_extension": ".py",
   "mimetype": "text/x-python",
   "name": "python",
   "nbconvert_exporter": "python",
   "pygments_lexer": "ipython3",
   "version": "3.11.5"
  }
 },
 "nbformat": 4,
 "nbformat_minor": 2
}
