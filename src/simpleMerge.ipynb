{
 "cells": [
  {
   "cell_type": "code",
   "execution_count": 27,
   "metadata": {},
   "outputs": [],
   "source": [
    "from util.utils import *\n",
    "import os"
   ]
  },
  {
   "cell_type": "code",
   "execution_count": 28,
   "metadata": {},
   "outputs": [],
   "source": [
    "## load datasets\n",
    "def loadDataframes():\n",
    "    cat62 = None\n",
    "    #cat62 = openDataframe(\"cat62_bronze.csv\")\n",
    "    espera = openDataframe(\"espera_bronze.csv\")\n",
    "    bimtra = openDataframe(\"bimtra_bronze.csv\")\n",
    "    metaf = openDataframe(\"metaf_bronze.csv\")\n",
    "    metar = openDataframe(\"metar_bronze.csv\")\n",
    "    tc_prev = openDataframe(\"tc-prev_bronze.csv\")\n",
    "    tc_real = openDataframe(\"tc-real_bronze.csv\")\n",
    "    return cat62, espera, bimtra, metaf, metar, tc_prev, tc_real\n",
    "\n",
    "cat62, espera, bimtra, metaf, metar, tc_prev, tc_real = loadDataframes()"
   ]
  },
  {
   "cell_type": "code",
   "execution_count": 29,
   "metadata": {},
   "outputs": [],
   "source": [
    "tc_real['aero'] = tc_real['aero'].apply(lambda x: 'SB' + x)"
   ]
  },
  {
   "cell_type": "code",
   "execution_count": 30,
   "metadata": {},
   "outputs": [
    {
     "name": "stdout",
     "output_type": "stream",
     "text": [
      "(54819048, 12)\n"
     ]
    }
   ],
   "source": [
    "# MERGE BIMTRA - TC_REA\n",
    "resultado = bimtra.merge(tc_real, left_on='origem', right_on='aero', how='inner')\n",
    "print(resultado.shape)\n",
    "\n",
    "# Filtrar usando uma função lambda após a mesclagem\n",
    "resultado = resultado.loc[abs(resultado['dt_dep'] - resultado['hora']) <= 1800000]\n",
    "\n",
    "# Renomear as colunas\n",
    "resultado = resultado.rename(columns={'hora': 'hora_real', 'aero': 'aero_real', 'hora_formatted': 'hora_formatted_real'})\n"
   ]
  },
  {
   "cell_type": "code",
   "execution_count": 31,
   "metadata": {},
   "outputs": [
    {
     "data": {
      "text/plain": [
       "(33491, 12)"
      ]
     },
     "execution_count": 31,
     "metadata": {},
     "output_type": "execute_result"
    }
   ],
   "source": [
    "resultado.shape"
   ]
  },
  {
   "cell_type": "code",
   "execution_count": 32,
   "metadata": {},
   "outputs": [],
   "source": [
    "# MERGE COM RESULTADO E TC PREAV AGORA\n",
    "tc_prev['aero'] = tc_prev['aero'].apply(lambda x: 'SB' + x)"
   ]
  },
  {
   "cell_type": "code",
   "execution_count": 33,
   "metadata": {},
   "outputs": [],
   "source": [
    "# MERGE BIMTRA - TC_PREV\n",
    "resultado2 = resultado.merge(tc_prev, left_on='destino', right_on='aero', how='inner')\n",
    "\n",
    "# Filtrar usando uma função lambda após a mesclagem\n",
    "resultado2 = resultado2.loc[abs(resultado2['hora'] - resultado2['dt_arr']) <= 1800000]\n",
    "\n",
    "# Renomear as colunas\n",
    "resultado2 = resultado2.rename(columns={'hora': 'hora_prev', 'hora_formatted': 'hora_formatted_prev', 'aero': 'aero_prev'})\n"
   ]
  },
  {
   "cell_type": "code",
   "execution_count": 34,
   "metadata": {},
   "outputs": [],
   "source": [
    "# MERGE RESULTADO2 - METAR\n",
    "resultado3 = resultado2.merge(metar, left_on='origem', right_on='aero', how='inner')\n",
    "\n",
    "# Filtrar usando uma função lambda após a mesclagem\n",
    "resultado3 = resultado3.loc[abs(resultado3['dt_dep'] - resultado3['hora']) <= 1800000]\n",
    "\n",
    "# Renomear as colunas\n",
    "resultado3 = resultado3.rename(columns={'hora': 'hora_metar', 'hora_formatted': 'hora_formatted_metar', 'aero': 'aero_metar'})\n"
   ]
  },
  {
   "cell_type": "code",
   "execution_count": 35,
   "metadata": {},
   "outputs": [
    {
     "data": {
      "text/plain": [
       "(45247, 20)"
      ]
     },
     "execution_count": 35,
     "metadata": {},
     "output_type": "execute_result"
    }
   ],
   "source": [
    "resultado3.shape"
   ]
  },
  {
   "cell_type": "code",
   "execution_count": 36,
   "metadata": {},
   "outputs": [],
   "source": [
    "# MERGE RESULTADO3 - METAF\n",
    "resultado4 = resultado3.merge(metaf, left_on='destino', right_on='aero', how='inner')\n",
    "\n",
    "# Filtrar usando uma função lambda após a mesclagem\n",
    "resultado4 = resultado4.loc[abs(resultado4['hora'] - resultado4['dt_arr']) <= 1800000]\n",
    "\n",
    "# Renomear as colunas\n",
    "resultado4 = resultado4.rename(columns={'hora': 'hora_metaf', 'hora_formatted': 'hora_formatted_metaf', 'aero': 'aero_metaf'})\n"
   ]
  },
  {
   "cell_type": "code",
   "execution_count": 37,
   "metadata": {},
   "outputs": [
    {
     "data": {
      "text/plain": [
       "(38113, 24)"
      ]
     },
     "execution_count": 37,
     "metadata": {},
     "output_type": "execute_result"
    }
   ],
   "source": [
    "resultado4.shape"
   ]
  },
  {
   "cell_type": "code",
   "execution_count": 38,
   "metadata": {},
   "outputs": [
    {
     "data": {
      "text/html": [
       "<div>\n",
       "<style scoped>\n",
       "    .dataframe tbody tr th:only-of-type {\n",
       "        vertical-align: middle;\n",
       "    }\n",
       "\n",
       "    .dataframe tbody tr th {\n",
       "        vertical-align: top;\n",
       "    }\n",
       "\n",
       "    .dataframe thead th {\n",
       "        text-align: right;\n",
       "    }\n",
       "</style>\n",
       "<table border=\"1\" class=\"dataframe\">\n",
       "  <thead>\n",
       "    <tr style=\"text-align: right;\">\n",
       "      <th></th>\n",
       "      <th>flightid</th>\n",
       "      <th>origem</th>\n",
       "      <th>destino</th>\n",
       "      <th>dt_dep</th>\n",
       "      <th>dt_arr</th>\n",
       "      <th>dt_dep_formatted</th>\n",
       "      <th>dt_arr_formatted</th>\n",
       "      <th>hora_real</th>\n",
       "      <th>nova_cabeceira</th>\n",
       "      <th>antiga_cabeceira</th>\n",
       "      <th>...</th>\n",
       "      <th>aero_prev</th>\n",
       "      <th>hora_formatted_prev</th>\n",
       "      <th>hora_metar</th>\n",
       "      <th>metar</th>\n",
       "      <th>aero_metar</th>\n",
       "      <th>hora_formatted_metar</th>\n",
       "      <th>hora_metaf</th>\n",
       "      <th>metaf</th>\n",
       "      <th>aero_metaf</th>\n",
       "      <th>hora_formatted_metaf</th>\n",
       "    </tr>\n",
       "  </thead>\n",
       "  <tbody>\n",
       "    <tr>\n",
       "      <th>1</th>\n",
       "      <td>ffb9ee53437196c08c6329ec5a50a3e1</td>\n",
       "      <td>SBCT</td>\n",
       "      <td>SBKP</td>\n",
       "      <td>1675211054000</td>\n",
       "      <td>1675214748000</td>\n",
       "      <td>Tuesday, January 31, 2023 21:24:14</td>\n",
       "      <td>Tuesday, January 31, 2023 22:25:48</td>\n",
       "      <td>1675209845000</td>\n",
       "      <td>33</td>\n",
       "      <td>15</td>\n",
       "      <td>...</td>\n",
       "      <td>SBKP</td>\n",
       "      <td>Tuesday, January 31, 2023 22:00:00</td>\n",
       "      <td>1675209600000</td>\n",
       "      <td>METAR SBCT 010000Z 02003KT 9999 FEW030 SCT100 ...</td>\n",
       "      <td>SBCT</td>\n",
       "      <td>Tuesday, January 31, 2023 21:00:00</td>\n",
       "      <td>1675213200000</td>\n",
       "      <td>METAF SBKP 010100Z  10007KT 6000  - RA  BKN033...</td>\n",
       "      <td>SBKP</td>\n",
       "      <td>Tuesday, January 31, 2023 22:00:00</td>\n",
       "    </tr>\n",
       "    <tr>\n",
       "      <th>2046</th>\n",
       "      <td>27aef8f18a47f429df6f9a9c91cef8c5</td>\n",
       "      <td>SBCT</td>\n",
       "      <td>SBKP</td>\n",
       "      <td>1675292483000</td>\n",
       "      <td>1675294999000</td>\n",
       "      <td>Wednesday, February 01, 2023 20:01:23</td>\n",
       "      <td>Wednesday, February 01, 2023 20:43:19</td>\n",
       "      <td>1675292144000</td>\n",
       "      <td>15</td>\n",
       "      <td>33</td>\n",
       "      <td>...</td>\n",
       "      <td>SBKP</td>\n",
       "      <td>Wednesday, February 01, 2023 21:00:00</td>\n",
       "      <td>1675292400000</td>\n",
       "      <td>METAR SBCT 012300Z 09005KT 9999 SCT045 22/22 Q...</td>\n",
       "      <td>SBCT</td>\n",
       "      <td>Wednesday, February 01, 2023 20:00:00</td>\n",
       "      <td>1675296000000</td>\n",
       "      <td>METAF SBKP 020000Z 09005KT 6000       BKN025  ...</td>\n",
       "      <td>SBKP</td>\n",
       "      <td>Wednesday, February 01, 2023 21:00:00</td>\n",
       "    </tr>\n",
       "    <tr>\n",
       "      <th>4078</th>\n",
       "      <td>101feb32f21cb8722639c3b8cd54acc0</td>\n",
       "      <td>SBCT</td>\n",
       "      <td>SBKP</td>\n",
       "      <td>1675329948000</td>\n",
       "      <td>1675332840000</td>\n",
       "      <td>Thursday, February 02, 2023 06:25:48</td>\n",
       "      <td>Thursday, February 02, 2023 07:14:00</td>\n",
       "      <td>1675329953000</td>\n",
       "      <td>33</td>\n",
       "      <td>15</td>\n",
       "      <td>...</td>\n",
       "      <td>SBKP</td>\n",
       "      <td>Thursday, February 02, 2023 07:00:00</td>\n",
       "      <td>1675328400000</td>\n",
       "      <td>METAR SBCT 020900Z 32005KT 9999 BKN010 20/20 Q...</td>\n",
       "      <td>SBCT</td>\n",
       "      <td>Thursday, February 02, 2023 06:00:00</td>\n",
       "      <td>1675332000000</td>\n",
       "      <td>METAF SBKP 021000Z  35005KT 2000    RABR OVC02...</td>\n",
       "      <td>SBKP</td>\n",
       "      <td>Thursday, February 02, 2023 07:00:00</td>\n",
       "    </tr>\n",
       "    <tr>\n",
       "      <th>6106</th>\n",
       "      <td>f24ce5831353c8e053986b4dd2a39bf7</td>\n",
       "      <td>SBCT</td>\n",
       "      <td>SBKP</td>\n",
       "      <td>1675350095000</td>\n",
       "      <td>1675352830000</td>\n",
       "      <td>Thursday, February 02, 2023 12:01:35</td>\n",
       "      <td>Thursday, February 02, 2023 12:47:10</td>\n",
       "      <td>1675349277000</td>\n",
       "      <td>29</td>\n",
       "      <td>33</td>\n",
       "      <td>...</td>\n",
       "      <td>SBKP</td>\n",
       "      <td>Thursday, February 02, 2023 13:00:00</td>\n",
       "      <td>1675350000000</td>\n",
       "      <td>METAR SBCT 021500Z 34011KT 9999 OVC025 25/24 Q...</td>\n",
       "      <td>SBCT</td>\n",
       "      <td>Thursday, February 02, 2023 12:00:00</td>\n",
       "      <td>1675353600000</td>\n",
       "      <td>METAF SBKP 021600Z  29009KT 9999       BKN033 ...</td>\n",
       "      <td>SBKP</td>\n",
       "      <td>Thursday, February 02, 2023 13:00:00</td>\n",
       "    </tr>\n",
       "    <tr>\n",
       "      <th>8128</th>\n",
       "      <td>f24ce5831353c8e053986b4dd2a39bf7</td>\n",
       "      <td>SBCT</td>\n",
       "      <td>SBKP</td>\n",
       "      <td>1675350095000</td>\n",
       "      <td>1675352830000</td>\n",
       "      <td>Thursday, February 02, 2023 12:01:35</td>\n",
       "      <td>Thursday, February 02, 2023 12:47:10</td>\n",
       "      <td>1675349697000</td>\n",
       "      <td>33</td>\n",
       "      <td>29</td>\n",
       "      <td>...</td>\n",
       "      <td>SBKP</td>\n",
       "      <td>Thursday, February 02, 2023 13:00:00</td>\n",
       "      <td>1675350000000</td>\n",
       "      <td>METAR SBCT 021500Z 34011KT 9999 OVC025 25/24 Q...</td>\n",
       "      <td>SBCT</td>\n",
       "      <td>Thursday, February 02, 2023 12:00:00</td>\n",
       "      <td>1675353600000</td>\n",
       "      <td>METAF SBKP 021600Z  29009KT 9999       BKN033 ...</td>\n",
       "      <td>SBKP</td>\n",
       "      <td>Thursday, February 02, 2023 13:00:00</td>\n",
       "    </tr>\n",
       "  </tbody>\n",
       "</table>\n",
       "<p>5 rows × 24 columns</p>\n",
       "</div>"
      ],
      "text/plain": [
       "                              flightid origem destino         dt_dep  \\\n",
       "1     ffb9ee53437196c08c6329ec5a50a3e1   SBCT    SBKP  1675211054000   \n",
       "2046  27aef8f18a47f429df6f9a9c91cef8c5   SBCT    SBKP  1675292483000   \n",
       "4078  101feb32f21cb8722639c3b8cd54acc0   SBCT    SBKP  1675329948000   \n",
       "6106  f24ce5831353c8e053986b4dd2a39bf7   SBCT    SBKP  1675350095000   \n",
       "8128  f24ce5831353c8e053986b4dd2a39bf7   SBCT    SBKP  1675350095000   \n",
       "\n",
       "             dt_arr                       dt_dep_formatted  \\\n",
       "1     1675214748000     Tuesday, January 31, 2023 21:24:14   \n",
       "2046  1675294999000  Wednesday, February 01, 2023 20:01:23   \n",
       "4078  1675332840000   Thursday, February 02, 2023 06:25:48   \n",
       "6106  1675352830000   Thursday, February 02, 2023 12:01:35   \n",
       "8128  1675352830000   Thursday, February 02, 2023 12:01:35   \n",
       "\n",
       "                           dt_arr_formatted      hora_real nova_cabeceira  \\\n",
       "1        Tuesday, January 31, 2023 22:25:48  1675209845000             33   \n",
       "2046  Wednesday, February 01, 2023 20:43:19  1675292144000             15   \n",
       "4078   Thursday, February 02, 2023 07:14:00  1675329953000             33   \n",
       "6106   Thursday, February 02, 2023 12:47:10  1675349277000             29   \n",
       "8128   Thursday, February 02, 2023 12:47:10  1675349697000             33   \n",
       "\n",
       "     antiga_cabeceira  ... aero_prev                    hora_formatted_prev  \\\n",
       "1                  15  ...      SBKP     Tuesday, January 31, 2023 22:00:00   \n",
       "2046               33  ...      SBKP  Wednesday, February 01, 2023 21:00:00   \n",
       "4078               15  ...      SBKP   Thursday, February 02, 2023 07:00:00   \n",
       "6106               33  ...      SBKP   Thursday, February 02, 2023 13:00:00   \n",
       "8128               29  ...      SBKP   Thursday, February 02, 2023 13:00:00   \n",
       "\n",
       "         hora_metar                                              metar  \\\n",
       "1     1675209600000  METAR SBCT 010000Z 02003KT 9999 FEW030 SCT100 ...   \n",
       "2046  1675292400000  METAR SBCT 012300Z 09005KT 9999 SCT045 22/22 Q...   \n",
       "4078  1675328400000  METAR SBCT 020900Z 32005KT 9999 BKN010 20/20 Q...   \n",
       "6106  1675350000000  METAR SBCT 021500Z 34011KT 9999 OVC025 25/24 Q...   \n",
       "8128  1675350000000  METAR SBCT 021500Z 34011KT 9999 OVC025 25/24 Q...   \n",
       "\n",
       "     aero_metar                   hora_formatted_metar     hora_metaf  \\\n",
       "1          SBCT     Tuesday, January 31, 2023 21:00:00  1675213200000   \n",
       "2046       SBCT  Wednesday, February 01, 2023 20:00:00  1675296000000   \n",
       "4078       SBCT   Thursday, February 02, 2023 06:00:00  1675332000000   \n",
       "6106       SBCT   Thursday, February 02, 2023 12:00:00  1675353600000   \n",
       "8128       SBCT   Thursday, February 02, 2023 12:00:00  1675353600000   \n",
       "\n",
       "                                                  metaf aero_metaf  \\\n",
       "1     METAF SBKP 010100Z  10007KT 6000  - RA  BKN033...       SBKP   \n",
       "2046  METAF SBKP 020000Z 09005KT 6000       BKN025  ...       SBKP   \n",
       "4078  METAF SBKP 021000Z  35005KT 2000    RABR OVC02...       SBKP   \n",
       "6106  METAF SBKP 021600Z  29009KT 9999       BKN033 ...       SBKP   \n",
       "8128  METAF SBKP 021600Z  29009KT 9999       BKN033 ...       SBKP   \n",
       "\n",
       "                       hora_formatted_metaf  \n",
       "1        Tuesday, January 31, 2023 22:00:00  \n",
       "2046  Wednesday, February 01, 2023 21:00:00  \n",
       "4078   Thursday, February 02, 2023 07:00:00  \n",
       "6106   Thursday, February 02, 2023 13:00:00  \n",
       "8128   Thursday, February 02, 2023 13:00:00  \n",
       "\n",
       "[5 rows x 24 columns]"
      ]
     },
     "execution_count": 38,
     "metadata": {},
     "output_type": "execute_result"
    }
   ],
   "source": [
    "resultado4.head()"
   ]
  },
  {
   "cell_type": "code",
   "execution_count": 39,
   "metadata": {},
   "outputs": [],
   "source": [
    "resultado4.to_csv(\"../data/processed_data/merged_bronze_02.csv\")"
   ]
  }
 ],
 "metadata": {
  "kernelspec": {
   "display_name": "Python 3",
   "language": "python",
   "name": "python3"
  },
  "language_info": {
   "codemirror_mode": {
    "name": "ipython",
    "version": 3
   },
   "file_extension": ".py",
   "mimetype": "text/x-python",
   "name": "python",
   "nbconvert_exporter": "python",
   "pygments_lexer": "ipython3",
   "version": "3.11.5"
  }
 },
 "nbformat": 4,
 "nbformat_minor": 2
}
