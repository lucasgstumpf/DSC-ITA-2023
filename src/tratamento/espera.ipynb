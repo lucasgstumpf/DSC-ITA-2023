{
 "cells": [
  {
   "cell_type": "code",
   "execution_count": 2,
   "metadata": {},
   "outputs": [],
   "source": [
    "from util.utils import *\n",
    "# import importlib\n",
    "# importlib.reload(utils)\n",
    "# from util.utils import *\n",
    "import pandas as pd"
   ]
  },
  {
   "cell_type": "code",
   "execution_count": 4,
   "metadata": {},
   "outputs": [
    {
     "data": {
      "text/html": [
       "<div>\n",
       "<style scoped>\n",
       "    .dataframe tbody tr th:only-of-type {\n",
       "        vertical-align: middle;\n",
       "    }\n",
       "\n",
       "    .dataframe tbody tr th {\n",
       "        vertical-align: top;\n",
       "    }\n",
       "\n",
       "    .dataframe thead th {\n",
       "        text-align: right;\n",
       "    }\n",
       "</style>\n",
       "<table border=\"1\" class=\"dataframe\">\n",
       "  <thead>\n",
       "    <tr style=\"text-align: right;\">\n",
       "      <th></th>\n",
       "      <th>esperas</th>\n",
       "      <th>hora</th>\n",
       "      <th>aero</th>\n",
       "      <th>hora_formated</th>\n",
       "    </tr>\n",
       "  </thead>\n",
       "  <tbody>\n",
       "    <tr>\n",
       "      <th>0</th>\n",
       "      <td>0</td>\n",
       "      <td>1654041600000</td>\n",
       "      <td>SBBR</td>\n",
       "      <td>Tuesday, May 31, 2022 09:00:00</td>\n",
       "    </tr>\n",
       "    <tr>\n",
       "      <th>1</th>\n",
       "      <td>0</td>\n",
       "      <td>1654045200000</td>\n",
       "      <td>SBBR</td>\n",
       "      <td>Tuesday, May 31, 2022 10:00:00</td>\n",
       "    </tr>\n",
       "    <tr>\n",
       "      <th>2</th>\n",
       "      <td>0</td>\n",
       "      <td>1654048800000</td>\n",
       "      <td>SBBR</td>\n",
       "      <td>Tuesday, May 31, 2022 11:00:00</td>\n",
       "    </tr>\n",
       "    <tr>\n",
       "      <th>3</th>\n",
       "      <td>0</td>\n",
       "      <td>1654052400000</td>\n",
       "      <td>SBBR</td>\n",
       "      <td>Wednesday, June 01, 2022 12:00:00</td>\n",
       "    </tr>\n",
       "    <tr>\n",
       "      <th>4</th>\n",
       "      <td>0</td>\n",
       "      <td>1654056000000</td>\n",
       "      <td>SBBR</td>\n",
       "      <td>Wednesday, June 01, 2022 01:00:00</td>\n",
       "    </tr>\n",
       "  </tbody>\n",
       "</table>\n",
       "</div>"
      ],
      "text/plain": [
       "   esperas           hora  aero                      hora_formated\n",
       "0        0  1654041600000  SBBR     Tuesday, May 31, 2022 09:00:00\n",
       "1        0  1654045200000  SBBR     Tuesday, May 31, 2022 10:00:00\n",
       "2        0  1654048800000  SBBR     Tuesday, May 31, 2022 11:00:00\n",
       "3        0  1654052400000  SBBR  Wednesday, June 01, 2022 12:00:00\n",
       "4        0  1654056000000  SBBR  Wednesday, June 01, 2022 01:00:00"
      ]
     },
     "execution_count": 4,
     "metadata": {},
     "output_type": "execute_result"
    }
   ],
   "source": [
    "def espera_dataPipeline():\n",
    "    df = openDataframe(\"espera_silver.csv\")\n",
    "    df = removeDuplicatesRows(df)\n",
    "    \n",
    "    saveDataframe(df, \"espera_silver.csv\")\n",
    "    return df\n",
    "\n",
    "df = espera_dataPipeline()\n",
    "df.head()"
   ]
  },
  {
   "cell_type": "code",
   "execution_count": null,
   "metadata": {},
   "outputs": [],
   "source": []
  }
 ],
 "metadata": {
  "kernelspec": {
   "display_name": "Python 3",
   "language": "python",
   "name": "python3"
  },
  "language_info": {
   "codemirror_mode": {
    "name": "ipython",
    "version": 3
   },
   "file_extension": ".py",
   "mimetype": "text/x-python",
   "name": "python",
   "nbconvert_exporter": "python",
   "pygments_lexer": "ipython3",
   "version": "3.9.4"
  },
  "orig_nbformat": 4
 },
 "nbformat": 4,
 "nbformat_minor": 2
}
