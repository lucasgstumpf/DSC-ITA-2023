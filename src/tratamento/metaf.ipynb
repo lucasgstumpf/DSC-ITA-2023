{
 "cells": [
  {
   "cell_type": "code",
   "execution_count": 2,
   "metadata": {},
   "outputs": [],
   "source": [
    "import sys\n",
    "sys.path.append('../')\n",
    "from util.utils import *"
   ]
  },
  {
   "cell_type": "code",
   "execution_count": 3,
   "metadata": {},
   "outputs": [],
   "source": [
    "def roundHour(df, hora):\n",
    "    df[hora] = df[hora]/1000\n",
    "    df[hora] = df[hora].apply(lambda x: datetime.fromtimestamp(x))\n",
    "    df[hora] = df[hora].apply(lambda x: x.replace(minute=0, second=0, microsecond=0))\n",
    "    return df\n",
    "\n"
   ]
  },
  {
   "cell_type": "code",
   "execution_count": 5,
   "metadata": {},
   "outputs": [
    {
     "data": {
      "text/html": [
       "<div>\n",
       "<style scoped>\n",
       "    .dataframe tbody tr th:only-of-type {\n",
       "        vertical-align: middle;\n",
       "    }\n",
       "\n",
       "    .dataframe tbody tr th {\n",
       "        vertical-align: top;\n",
       "    }\n",
       "\n",
       "    .dataframe thead th {\n",
       "        text-align: right;\n",
       "    }\n",
       "</style>\n",
       "<table border=\"1\" class=\"dataframe\">\n",
       "  <thead>\n",
       "    <tr style=\"text-align: right;\">\n",
       "      <th></th>\n",
       "      <th>hora</th>\n",
       "      <th>metaf</th>\n",
       "      <th>aero</th>\n",
       "      <th>hora_formatted</th>\n",
       "    </tr>\n",
       "  </thead>\n",
       "  <tbody>\n",
       "    <tr>\n",
       "      <th>0</th>\n",
       "      <td>2023-03-15 09:00:00</td>\n",
       "      <td>METAF SBBR 151200Z  12007KT 9999       BKN018 ...</td>\n",
       "      <td>SBBR</td>\n",
       "      <td>Wednesday, March 15, 2023 09:00:00</td>\n",
       "    </tr>\n",
       "    <tr>\n",
       "      <th>1</th>\n",
       "      <td>2023-03-15 10:00:00</td>\n",
       "      <td>METAF SBBR 151300Z  12007KT 9999       BKN024 ...</td>\n",
       "      <td>SBBR</td>\n",
       "      <td>Wednesday, March 15, 2023 10:00:00</td>\n",
       "    </tr>\n",
       "    <tr>\n",
       "      <th>2</th>\n",
       "      <td>2023-03-15 11:00:00</td>\n",
       "      <td>METAF SBBR 151400Z  11006KT 9999       BKN031 ...</td>\n",
       "      <td>SBBR</td>\n",
       "      <td>Wednesday, March 15, 2023 11:00:00</td>\n",
       "    </tr>\n",
       "    <tr>\n",
       "      <th>3</th>\n",
       "      <td>2023-03-15 12:00:00</td>\n",
       "      <td>METAF SBBR 151500Z  10006KT 9999       FEW033 ...</td>\n",
       "      <td>SBBR</td>\n",
       "      <td>Wednesday, March 15, 2023 12:00:00</td>\n",
       "    </tr>\n",
       "    <tr>\n",
       "      <th>4</th>\n",
       "      <td>2023-03-15 13:00:00</td>\n",
       "      <td>METAF SBBR 151600Z  10006KT CAVOK 27/15 Q1014=\\n</td>\n",
       "      <td>SBBR</td>\n",
       "      <td>Wednesday, March 15, 2023 13:00:00</td>\n",
       "    </tr>\n",
       "  </tbody>\n",
       "</table>\n",
       "</div>"
      ],
      "text/plain": [
       "                 hora                                              metaf  \\\n",
       "0 2023-03-15 09:00:00  METAF SBBR 151200Z  12007KT 9999       BKN018 ...   \n",
       "1 2023-03-15 10:00:00  METAF SBBR 151300Z  12007KT 9999       BKN024 ...   \n",
       "2 2023-03-15 11:00:00  METAF SBBR 151400Z  11006KT 9999       BKN031 ...   \n",
       "3 2023-03-15 12:00:00  METAF SBBR 151500Z  10006KT 9999       FEW033 ...   \n",
       "4 2023-03-15 13:00:00   METAF SBBR 151600Z  10006KT CAVOK 27/15 Q1014=\\n   \n",
       "\n",
       "   aero                      hora_formatted  \n",
       "0  SBBR  Wednesday, March 15, 2023 09:00:00  \n",
       "1  SBBR  Wednesday, March 15, 2023 10:00:00  \n",
       "2  SBBR  Wednesday, March 15, 2023 11:00:00  \n",
       "3  SBBR  Wednesday, March 15, 2023 12:00:00  \n",
       "4  SBBR  Wednesday, March 15, 2023 13:00:00  "
      ]
     },
     "execution_count": 5,
     "metadata": {},
     "output_type": "execute_result"
    }
   ],
   "source": [
    " def metaf_dataPipeline():\n",
    "    df = openDataframe(\"metaf_bronze.csv\")\n",
    "    df = removeDuplicatesRows(df)\n",
    "    #df = roundHour(df, \"hora\")\n",
    "    \n",
    "    saveDataframe(df, \"metaf_silver.csv\")\n",
    "    return df\n",
    "\n",
    "df = metaf_dataPipeline()\n",
    "df.head()"
   ]
  },
  {
   "cell_type": "code",
   "execution_count": null,
   "metadata": {},
   "outputs": [],
   "source": []
  }
 ],
 "metadata": {
  "kernelspec": {
   "display_name": "Python 3",
   "language": "python",
   "name": "python3"
  },
  "language_info": {
   "codemirror_mode": {
    "name": "ipython",
    "version": 3
   },
   "file_extension": ".py",
   "mimetype": "text/x-python",
   "name": "python",
   "nbconvert_exporter": "python",
   "pygments_lexer": "ipython3",
   "version": "3.9.4"
  },
  "orig_nbformat": 4
 },
 "nbformat": 4,
 "nbformat_minor": 2
}
