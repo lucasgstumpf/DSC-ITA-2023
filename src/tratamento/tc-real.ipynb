{
 "cells": [
  {
   "cell_type": "code",
   "execution_count": 1,
   "metadata": {},
   "outputs": [],
   "source": [
    "from util.utils import *"
   ]
  },
  {
   "cell_type": "code",
   "execution_count": 2,
   "metadata": {},
   "outputs": [
    {
     "data": {
      "text/html": [
       "<div>\n",
       "<style scoped>\n",
       "    .dataframe tbody tr th:only-of-type {\n",
       "        vertical-align: middle;\n",
       "    }\n",
       "\n",
       "    .dataframe tbody tr th {\n",
       "        vertical-align: top;\n",
       "    }\n",
       "\n",
       "    .dataframe thead th {\n",
       "        text-align: right;\n",
       "    }\n",
       "</style>\n",
       "<table border=\"1\" class=\"dataframe\">\n",
       "  <thead>\n",
       "    <tr style=\"text-align: right;\">\n",
       "      <th></th>\n",
       "      <th>hora</th>\n",
       "      <th>nova_cabeceira</th>\n",
       "      <th>antiga_cabeceira</th>\n",
       "      <th>aero</th>\n",
       "      <th>hora_formated</th>\n",
       "    </tr>\n",
       "  </thead>\n",
       "  <tbody>\n",
       "    <tr>\n",
       "      <th>0</th>\n",
       "      <td>1654092843000</td>\n",
       "      <td>32</td>\n",
       "      <td>03</td>\n",
       "      <td>FL</td>\n",
       "      <td>Wednesday, June 01, 2022 11:14:03</td>\n",
       "    </tr>\n",
       "    <tr>\n",
       "      <th>1</th>\n",
       "      <td>1654109470000</td>\n",
       "      <td>18</td>\n",
       "      <td>12</td>\n",
       "      <td>RF</td>\n",
       "      <td>Wednesday, June 01, 2022 03:51:10</td>\n",
       "    </tr>\n",
       "    <tr>\n",
       "      <th>2</th>\n",
       "      <td>1654110745000</td>\n",
       "      <td>16</td>\n",
       "      <td>13</td>\n",
       "      <td>CF</td>\n",
       "      <td>Wednesday, June 01, 2022 04:12:25</td>\n",
       "    </tr>\n",
       "    <tr>\n",
       "      <th>3</th>\n",
       "      <td>1654110758000</td>\n",
       "      <td>15</td>\n",
       "      <td>26</td>\n",
       "      <td>GL</td>\n",
       "      <td>Wednesday, June 01, 2022 04:12:38</td>\n",
       "    </tr>\n",
       "    <tr>\n",
       "      <th>4</th>\n",
       "      <td>1654110777000</td>\n",
       "      <td>15</td>\n",
       "      <td>26</td>\n",
       "      <td>GL</td>\n",
       "      <td>Wednesday, June 01, 2022 04:12:57</td>\n",
       "    </tr>\n",
       "  </tbody>\n",
       "</table>\n",
       "</div>"
      ],
      "text/plain": [
       "            hora nova_cabeceira antiga_cabeceira aero  \\\n",
       "0  1654092843000             32               03   FL   \n",
       "1  1654109470000             18               12   RF   \n",
       "2  1654110745000             16               13   CF   \n",
       "3  1654110758000             15               26   GL   \n",
       "4  1654110777000             15               26   GL   \n",
       "\n",
       "                       hora_formated  \n",
       "0  Wednesday, June 01, 2022 11:14:03  \n",
       "1  Wednesday, June 01, 2022 03:51:10  \n",
       "2  Wednesday, June 01, 2022 04:12:25  \n",
       "3  Wednesday, June 01, 2022 04:12:38  \n",
       "4  Wednesday, June 01, 2022 04:12:57  "
      ]
     },
     "execution_count": 2,
     "metadata": {},
     "output_type": "execute_result"
    }
   ],
   "source": [
    "def tc_real_dataPipeline():\n",
    "    df = openDataframe(\"tc-real_silver.csv\")\n",
    "    df = removeDuplicatesRows(df)\n",
    "    \n",
    "    saveDataframe(df, \"tc-real_silver.csv\")\n",
    "    return df\n",
    "\n",
    "df = tc_real_dataPipeline()\n",
    "df.head()"
   ]
  },
  {
   "cell_type": "code",
   "execution_count": null,
   "metadata": {},
   "outputs": [],
   "source": []
  }
 ],
 "metadata": {
  "kernelspec": {
   "display_name": "Python 3",
   "language": "python",
   "name": "python3"
  },
  "language_info": {
   "codemirror_mode": {
    "name": "ipython",
    "version": 3
   },
   "file_extension": ".py",
   "mimetype": "text/x-python",
   "name": "python",
   "nbconvert_exporter": "python",
   "pygments_lexer": "ipython3",
   "version": "3.9.4"
  },
  "orig_nbformat": 4
 },
 "nbformat": 4,
 "nbformat_minor": 2
}
