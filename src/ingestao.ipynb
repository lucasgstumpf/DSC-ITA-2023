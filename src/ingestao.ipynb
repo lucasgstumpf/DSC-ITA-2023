{
 "cells": [
  {
   "cell_type": "markdown",
   "metadata": {},
   "source": [
    "### imports"
   ]
  },
  {
   "cell_type": "code",
   "execution_count": 21,
   "metadata": {},
   "outputs": [],
   "source": [
    "import pandas as pd\n",
    "import numpy as np\n",
    "import requests\n",
    "import os\n",
    "from datetime import datetime, timedelta\n",
    "\n",
    "from tqdm import tqdm\n",
    "import json\n",
    "import pytz\n",
    "\n",
    "# HORA MINIMA 2020/01 -> 2023/04\n",
    "# formatado data final/inicial 2023-03\n"
   ]
  },
  {
   "cell_type": "code",
   "execution_count": 22,
   "metadata": {},
   "outputs": [],
   "source": [
    "def toDate24(df,coluna):\n",
    "    brasilia_timezone = pytz.timezone('America/Sao_Paulo')\n",
    "\n",
    "    # Converte o timestamp para o fuso horário de Brasília\n",
    "    nova_coluna = coluna + \"_formatted\"\n",
    "    df[nova_coluna] = df[coluna].apply(lambda x: datetime.fromtimestamp(int(x)/1000, tz=brasilia_timezone).strftime(\"%A, %B %d, %Y %H:%M:%S\"))\n",
    "\n",
    "    return df\n"
   ]
  },
  {
   "cell_type": "markdown",
   "metadata": {},
   "source": [
    "### /bimtra\n",
    "\n",
    "Fazer a requisição necessaria para baixar os dados e salvar em \"raw_bimtra\"\n"
   ]
  },
  {
   "cell_type": "code",
   "execution_count": 23,
   "metadata": {},
   "outputs": [],
   "source": [
    "\n",
    "def toRawBimtra(pathfile,dataInicial,dataFinal):\n",
    "    def bimtra_req(idate,fdate):\n",
    "        url = 'http://montreal.icea.decea.mil.br:5002/api/v1/bimtra'\n",
    "        params = {\n",
    "            'token': 'a779d04f85c4bf6cfa586d30aaec57c44e9b7173',\n",
    "            'idate': idate,\n",
    "            'fdate': fdate\n",
    "        }\n",
    "        headers = {\n",
    "            'accept': 'application/json'\n",
    "        }\n",
    "\n",
    "        response = requests.get(url, params=params, headers=headers)\n",
    "\n",
    "        if response.status_code == 200:\n",
    "            data = response.json()\n",
    "            return data\n",
    "        else:\n",
    "            print(f\"Falha na requisição. Código de status: {response.status_code}\")\n",
    "\n",
    "    dateArray = np.arange(np.datetime64(dataInicial), np.datetime64(dataFinal), np.timedelta64(1,'M'))\n",
    "    print(dateArray)\n",
    "    pathfile = '../data/raw_data/bimtra_raw.txt'\n",
    "    if os.path.exists(pathfile) :\n",
    "        first = False\n",
    "    else:\n",
    "        first = True\n",
    "\n",
    "    for aux in tqdm(range(len(dateArray)-1)):\n",
    "        idate = str(dateArray[aux])+\"-01\"\n",
    "        fdate = str(dateArray[aux+1])+\"-01\"\n",
    "        print(f\"\\nidate: {idate} , fdate: {fdate}\")\n",
    "        data = bimtra_req(idate,fdate)\n",
    "        data = str(data).replace(\"'\",'\"')\n",
    "        if str(data) != \"[]\": \n",
    "            with open(pathfile, 'a') as arquivo:\n",
    "                if first:\n",
    "                    arquivo.write(str(data)[:-1])\n",
    "                    first = False\n",
    "                    \n",
    "                else:\n",
    "                    arquivo.write(\",\"+str(data)[1:-1])\n",
    "                print(\"Saved data\")\n",
    "    with open(pathfile, 'a') as arquivo:\n",
    "        arquivo.write(\"]\")\n",
    "\n",
    "def toCSVBimtra(pathfile):\n",
    "    with open(pathfile, 'r') as arquivo:\n",
    "        # Carregue o conteúdo do arquivo em uma lista de dicionários\n",
    "        data_complete = json.load(arquivo)\n",
    "\n",
    "    df = pd.DataFrame(data_complete)\n",
    "    df = toDate24(df,\"dt_dep\")\n",
    "    df = toDate24(df,\"dt_arr\")\n",
    "\n",
    "\n",
    "    df.to_csv(\"../data/processed_data/bimtra_bronze.csv\",index=False)\n",
    "    \n",
    "def ingestaoBimtra(dataInicial, dataFinal):\n",
    "    pathfile =  '../data/raw_data/bimtra_raw.txt'\n",
    "    if os.path.exists(pathfile):         \n",
    "        os.remove(pathfile)\n",
    "    toRawBimtra(pathfile,dataInicial, dataFinal)\n",
    "    toCSVBimtra(pathfile)\n"
   ]
  },
  {
   "cell_type": "markdown",
   "metadata": {},
   "source": [
    "### /espera\n",
    "\n",
    "Fazer a requisição necessaria para baixar os dados e salvar em \"raw_espera\"\n"
   ]
  },
  {
   "cell_type": "code",
   "execution_count": 24,
   "metadata": {},
   "outputs": [],
   "source": [
    "\n",
    "def toRawEspera(pathfile,dataInicial,dataFinal):\n",
    "    def espera_req(idate,fdate):\n",
    "        url = 'http://montreal.icea.decea.mil.br:5002/api/v1/esperas'\n",
    "        params = {\n",
    "            'token': 'a779d04f85c4bf6cfa586d30aaec57c44e9b7173',\n",
    "            'idate': idate,\n",
    "            'fdate': fdate\n",
    "        }\n",
    "        headers = {\n",
    "            'accept': 'application/json'\n",
    "        }\n",
    "        response = requests.get(url, params=params, headers=headers)\n",
    "        if response.status_code == 200:\n",
    "            data = response.json()\n",
    "            return data\n",
    "        else:\n",
    "            print(f\"Falha na requisição. Código de status: {response.status_code}\")\n",
    "    dateArray = np.arange(np.datetime64(dataInicial), np.datetime64(dataFinal), np.timedelta64(1,'M'))\n",
    "\n",
    "    if os.path.exists(pathfile) :\n",
    "        first = False\n",
    "    else:\n",
    "        first = True\n",
    "\n",
    "    for aux in tqdm(range(len(dateArray)-1)):\n",
    "        idate = str(dateArray[aux])+\"-01\"\n",
    "        fdate = str(dateArray[aux+1])+\"-01\"\n",
    "        print(f\"\\nidate: {idate} , fdate: {fdate}\")\n",
    "        data = espera_req(idate,fdate)\n",
    "        data = str(data).replace(\"'\",'\"')\n",
    "        if str(data) != \"[]\": \n",
    "            with open(pathfile, 'a') as arquivo:\n",
    "                if first:\n",
    "                    arquivo.write(str(data)[:-1])\n",
    "                    first = False\n",
    "                else:\n",
    "                    arquivo.write(\",\"+str(data)[1:-1])\n",
    "                print(\"Saved data\")\n",
    "    with open(pathfile, 'a') as arquivo:\n",
    "        arquivo.write(\"]\")\n",
    "\n",
    "def toCSVEspera(pathfile):\n",
    "    with open(pathfile, 'r') as arquivo:\n",
    "    # Carregue o conteúdo do arquivo em uma lista de dicionários\n",
    "        data_complete = json.load(arquivo)\n",
    "\n",
    "    df = pd.DataFrame(data_complete)\n",
    "\n",
    "    df = toDate24(df,'hora')\n",
    "\n",
    "    df.to_csv(\"../data/processed_data/espera_bronze.csv\",index=False)\n",
    "\n",
    "def ingestaoEspera(dataInicial,dataFinal):\n",
    "    pathfile = '../data/raw_data/espera_raw.txt'\n",
    "    if os.path.exists(pathfile):         \n",
    "        os.remove(pathfile)\n",
    "    toRawEspera(pathfile,dataInicial,dataFinal)\n",
    "    toCSVEspera(pathfile)\n",
    "\n"
   ]
  },
  {
   "cell_type": "markdown",
   "metadata": {},
   "source": [
    "### /MetaF\n",
    "\n",
    "Fazer a requisição necessaria para baixar os dados e salvar em \"raw_metaf\""
   ]
  },
  {
   "cell_type": "code",
   "execution_count": 25,
   "metadata": {},
   "outputs": [],
   "source": [
    "def toRawMetaF(pathfile,dataInicial,dataFinal): \n",
    "\n",
    "    def metaf_req(idate,fdate):\n",
    "        url = 'http://montreal.icea.decea.mil.br:5002/api/v1/metaf'\n",
    "        params = {\n",
    "            'token': 'a779d04f85c4bf6cfa586d30aaec57c44e9b7173',\n",
    "            'idate': idate,\n",
    "            'fdate': fdate\n",
    "        }\n",
    "        headers = {\n",
    "            'accept': 'application/json'\n",
    "        }\n",
    "\n",
    "        response = requests.get(url, params=params, headers=headers)\n",
    "\n",
    "        if response.status_code == 200:\n",
    "            data = response.json()\n",
    "            return data\n",
    "        else:\n",
    "            print(f\"Falha na requisição. Código de status: {response.status_code}\")\n",
    "\n",
    "    dateArray = np.arange(np.datetime64(dataInicial), np.datetime64(dataFinal), np.timedelta64(1,'M'))\n",
    "\n",
    "    if os.path.exists(pathfile) :\n",
    "        first = False\n",
    "    else:\n",
    "        first = True\n",
    "\n",
    "    for aux in tqdm(range(len(dateArray)-1)):\n",
    "        idate = str(dateArray[aux])+\"-01\"\n",
    "        fdate = str(dateArray[aux+1])+\"-01\"\n",
    "        print(f\"\\nidate: {idate} , fdate: {fdate}\")\n",
    "        data = metaf_req(idate,fdate)\n",
    "        data = str(data).replace(\"'\",'\"')\n",
    "        if str(data) != \"[]\": \n",
    "            with open(pathfile, 'a') as arquivo:\n",
    "                if first:\n",
    "                    arquivo.write(str(data)[:-1])\n",
    "                    first = False\n",
    "                    \n",
    "                else:\n",
    "                    arquivo.write(\",\"+str(data)[1:-1])\n",
    "                print(\"Saved data\")\n",
    "    with open(pathfile, 'a') as arquivo:\n",
    "        arquivo.write(\"]\")\n",
    "\n",
    "def toCSVMetaF(pathfile):\n",
    "    with open(pathfile, 'r') as arquivo:\n",
    "    # Carregue o conteúdo do arquivo em uma lista de dicionários\n",
    "        data_complete = json.load(arquivo)\n",
    "\n",
    "    df = pd.DataFrame(data_complete)\n",
    "\n",
    "    df = toDate24(df,'hora')\n",
    "\n",
    "    df.to_csv(\"../data/processed_data/metaf_bronze.csv\",index=False)\n",
    "\n",
    "\n",
    "def ingestaoMetaf(dataInicial,dataFinal):\n",
    "    pathfile = '../data/raw_data/metaf_raw.txt'\n",
    "    if os.path.exists(pathfile):         \n",
    "        os.remove(pathfile)\n",
    "    toRawMetaF(pathfile,dataInicial,dataFinal)\n",
    "    toCSVMetaF(pathfile)\n",
    "\n"
   ]
  },
  {
   "cell_type": "markdown",
   "metadata": {},
   "source": [
    "### /MetaR\n",
    "\n",
    "Fazer a requisição necessaria para baixar os dados e salvar em \"raw_metar\""
   ]
  },
  {
   "cell_type": "code",
   "execution_count": 26,
   "metadata": {},
   "outputs": [],
   "source": [
    "def toRawMetaR(pathfile,dataInicial,dataFinal):\n",
    "    def metar_req(idate,fdate):\n",
    "        url = 'http://montreal.icea.decea.mil.br:5002/api/v1/metar'\n",
    "        params = {\n",
    "            'token': 'a779d04f85c4bf6cfa586d30aaec57c44e9b7173',\n",
    "            'idate': idate,\n",
    "            'fdate': fdate\n",
    "        }\n",
    "        headers = {\n",
    "            'accept': 'application/json'\n",
    "        }\n",
    "\n",
    "        response = requests.get(url, params=params, headers=headers)\n",
    "\n",
    "        if response.status_code == 200:\n",
    "            data = response.json()\n",
    "            return data\n",
    "        else:\n",
    "            print(f\"Falha na requisição. Código de status: {response.status_code}\")\n",
    "\n",
    "    dateArray = np.arange(np.datetime64(dataInicial), np.datetime64(dataFinal), np.timedelta64(1,'M'))\n",
    "    \n",
    "    if os.path.exists(pathfile) :\n",
    "        first = False\n",
    "    else:\n",
    "        first = True\n",
    "\n",
    "    for aux in tqdm(range(len(dateArray)-1)):\n",
    "        idate = str(dateArray[aux])+\"-01\"\n",
    "        fdate = str(dateArray[aux+1])+\"-01\"\n",
    "        print(f\"\\nidate: {idate} , fdate: {fdate}\")\n",
    "        data = metar_req(idate,fdate)\n",
    "        data = str(data).replace(\"'\",'\"')\n",
    "        if str(data) != \"[]\": \n",
    "            with open(pathfile, 'a') as arquivo:\n",
    "                if first:\n",
    "                    arquivo.write(str(data)[:-1])\n",
    "                    first = False\n",
    "                    \n",
    "                else:\n",
    "                    arquivo.write(\",\"+str(data)[1:-1])\n",
    "                print(\"Saved data\")\n",
    "    with open(pathfile, 'a') as arquivo:\n",
    "        arquivo.write(\"]\")\n",
    "\n",
    "def toCSVMetar(pathfile):\n",
    "    with open(pathfile, 'r') as arquivo:\n",
    "    # Carregue o conteúdo do arquivo em uma lista de dicionários\n",
    "        data_complete = json.load(arquivo)\n",
    "\n",
    "    df = pd.DataFrame(data_complete)\n",
    "    df = toDate24(df,'hora')\n",
    "\n",
    "    df.to_csv(\"../data/processed_data/metar_bronze.csv\",index=False)\n",
    "\n",
    "def ingestaoMetaR(dataInicial,dataFinal):\n",
    "    pathfile = '../data/raw_data/metar_raw.txt'\n",
    "    if os.path.exists(pathfile):         \n",
    "        os.remove(pathfile)\n",
    "    toRawMetaR(pathfile,dataInicial,dataFinal)\n",
    "    toCSVMetar(pathfile)\n"
   ]
  },
  {
   "cell_type": "markdown",
   "metadata": {},
   "source": [
    "### /Tc-Prev\n",
    "\n",
    "\n",
    "Fazer a requisição necessaria para baixar os dados e salvar em \"raw_tc-prev\""
   ]
  },
  {
   "cell_type": "code",
   "execution_count": 27,
   "metadata": {},
   "outputs": [],
   "source": [
    "def toRawTcPrev(pathfile,dataInicial,dataFinal):\n",
    "    def metaf_req(idate,fdate):\n",
    "        url = 'http://montreal.icea.decea.mil.br:5002/api/v1/tc-prev'\n",
    "        params = {\n",
    "            'token': 'a779d04f85c4bf6cfa586d30aaec57c44e9b7173',\n",
    "            'idate': idate,\n",
    "            'fdate': fdate\n",
    "        }\n",
    "        headers = {\n",
    "            'accept': 'application/json'\n",
    "        }\n",
    "\n",
    "        response = requests.get(url, params=params, headers=headers)\n",
    "\n",
    "        if response.status_code == 200:\n",
    "            data = response.json()\n",
    "            return data\n",
    "        else:\n",
    "            print(f\"Falha na requisição. Código de status: {response.status_code}\")\n",
    "\n",
    "    dateArray = np.arange(np.datetime64(dataInicial), np.datetime64(dataFinal), np.timedelta64(1,'M'))\n",
    "\n",
    "    if os.path.exists(pathfile) :\n",
    "        first = False\n",
    "    else:\n",
    "        first = True\n",
    "\n",
    "    for aux in tqdm(range(len(dateArray)-1)):\n",
    "        idate = str(dateArray[aux])+\"-01\"\n",
    "        fdate = str(dateArray[aux+1])+\"-01\"\n",
    "        print(f\"\\nidate: {idate} , fdate: {fdate}\")\n",
    "        data = metaf_req(idate,fdate)\n",
    "        data = str(data).replace(\"'\",'\"')\n",
    "        if str(data) != \"[]\": \n",
    "            with open(pathfile, 'a') as arquivo:\n",
    "                if first:\n",
    "                    arquivo.write(str(data)[:-1])\n",
    "                    first = False\n",
    "                    \n",
    "                else:\n",
    "                    arquivo.write(\",\"+str(data)[1:-1])\n",
    "                print(\"Saved data\")\n",
    "    with open(pathfile, 'a') as arquivo:\n",
    "        arquivo.write(\"]\")\n",
    "\n",
    "def toCSVTcPrev(pathfile):\n",
    "    with open(pathfile, 'r') as arquivo:\n",
    "    # Carregue o conteúdo do arquivo em uma lista de dicionários\n",
    "        data_complete = json.load(arquivo)\n",
    "\n",
    "    df = pd.DataFrame(data_complete)\n",
    "\n",
    "    df = toDate24(df,'hora')\n",
    "    df.to_csv(\"../data/processed_data/tc-prev_bronze.csv\",index=False)\n",
    "\n",
    "def ingestaoTcPrev(dataInicial,dataFinal):\n",
    "    pathfile = '../data/raw_data/tc-prev_raw.txt'\n",
    "    if os.path.exists(pathfile):         \n",
    "        os.remove(pathfile)\n",
    "    toRawTcPrev(pathfile,dataInicial,dataFinal)\n",
    "    toCSVTcPrev(pathfile)\n"
   ]
  },
  {
   "cell_type": "markdown",
   "metadata": {},
   "source": [
    "### /Tc-real\n",
    "\n",
    "\n",
    "Fazer a requisição necessaria para baixar os dados e salvar em \"raw_tc-real\""
   ]
  },
  {
   "cell_type": "code",
   "execution_count": 28,
   "metadata": {},
   "outputs": [],
   "source": [
    "def toRawTcreal(pathfile,dataInicial,dataFinal):\n",
    "    def metaf_req(idate,fdate):\n",
    "        url = 'http://montreal.icea.decea.mil.br:5002/api/v1/tc-real'\n",
    "        params = {\n",
    "            'token': 'a779d04f85c4bf6cfa586d30aaec57c44e9b7173',\n",
    "            'idate': idate,\n",
    "            'fdate': fdate\n",
    "        }\n",
    "        headers = {\n",
    "            'accept': 'application/json'\n",
    "        }\n",
    "\n",
    "        response = requests.get(url, params=params, headers=headers)\n",
    "\n",
    "        if response.status_code == 200:\n",
    "            data = response.json()\n",
    "            return data\n",
    "        else:\n",
    "            print(f\"Falha na requisição. Código de status: {response.status_code}\")\n",
    "\n",
    "    dateArray = np.arange(np.datetime64(dataInicial), np.datetime64(dataFinal), np.timedelta64(1,'M'))\n",
    "    \n",
    "\n",
    "    if os.path.exists(pathfile) :\n",
    "        first = False\n",
    "    else:\n",
    "        first = True\n",
    "\n",
    "    for aux in tqdm(range(len(dateArray)-1)):\n",
    "        idate = str(dateArray[aux])+\"-01\"\n",
    "        fdate = str(dateArray[aux+1])+\"-01\"\n",
    "        print(f\"\\nidate: {idate} , fdate: {fdate}\")\n",
    "        data = metaf_req(idate,fdate)\n",
    "        data = str(data).replace(\"'\",'\"')\n",
    "        if str(data) != \"[]\": \n",
    "            with open(pathfile, 'a') as arquivo:\n",
    "                if first:\n",
    "                    arquivo.write(str(data)[:-1])\n",
    "                    first = False\n",
    "                    \n",
    "                else:\n",
    "                    arquivo.write(\",\"+str(data)[1:-1])\n",
    "                print(\"Saved data\")\n",
    "    with open(pathfile, 'a') as arquivo:\n",
    "        arquivo.write(\"]\")\n",
    "\n",
    "def toCSVTcReal(pathfile):\n",
    "    with open(pathfile, 'r') as arquivo:\n",
    "    # Carregue o conteúdo do arquivo em uma lista de dicionários\n",
    "        data_complete = json.load(arquivo)\n",
    "\n",
    "    df = pd.DataFrame(data_complete)\n",
    "\n",
    "    df = toDate24(df,'hora')\n",
    "\n",
    "    df.to_csv(\"../data/processed_data/tc-real_bronze.csv\",index=False)\n",
    "\n",
    "def ingestaoTcReal(dataInicial,dataFinal):\n",
    "    pathfile = '../data/raw_data/tc-real_raw.txt'\n",
    "    if os.path.exists(pathfile):         \n",
    "        os.remove(pathfile)\n",
    "    toRawTcreal(pathfile,dataInicial,dataFinal)\n",
    "    toCSVTcReal(pathfile)\n",
    "\n"
   ]
  },
  {
   "cell_type": "markdown",
   "metadata": {},
   "source": [
    "### /cat-62\n",
    "\n",
    "\n",
    "Fazer a requisição necessaria para baixar os dados e salvar em \"raw_cat-62\""
   ]
  },
  {
   "cell_type": "code",
   "execution_count": 29,
   "metadata": {},
   "outputs": [],
   "source": [
    "def toRawCat62(pathfile,dataInicial,dataFinal):\n",
    "    def cat62_req(idate,fdate):\n",
    "        url = 'http://montreal.icea.decea.mil.br:5002/api/v1/cat-62'\n",
    "        params = {\n",
    "            'token': 'a779d04f85c4bf6cfa586d30aaec57c44e9b7173',\n",
    "            'idate': idate,\n",
    "            'fdate': fdate\n",
    "        }\n",
    "        headers = {\n",
    "            'accept': 'application/json'\n",
    "        }\n",
    "\n",
    "        response = requests.get(url, params=params, headers=headers)\n",
    "\n",
    "        if response.status_code == 200:\n",
    "            data = response.json()\n",
    "            return data\n",
    "        else:\n",
    "            print(f\"Falha na requisição. Código de status: {response.status_code}\")\n",
    "    # Adicione o tempo correto nas datas\n",
    "    dataInicial = dataInicial + '-01 00:00:00.000'\n",
    "    dataFinal = dataFinal + '-01 00:00:00.000'\n",
    "\n",
    "    # Converta as datas para objetos np.datetime64\n",
    "    dataInicial_np = np.datetime64(dataInicial)\n",
    "    dataFinal_np = np.datetime64(dataFinal)\n",
    "\n",
    "    # Crie um array de datas em intervalos de 1 hora\n",
    "    dateArray = np.arange(dataInicial_np, dataFinal_np, np.timedelta64(1, 'h'))\n",
    "\n",
    "    if os.path.exists(pathfile) :\n",
    "        first = False\n",
    "    else:\n",
    "        first = True\n",
    "\n",
    "    for aux in tqdm(range(len(dateArray)-1)):\n",
    "        idate = str(dateArray[aux]).replace(\"T\",\" \")\n",
    "        fdate = str(dateArray[aux+1]).replace(\"T\",\" \")\n",
    "        print(f\"\\nidate: {idate} , fdate: {fdate}\")\n",
    "        data = cat62_req(idate,fdate)\n",
    "        data = str(data).replace(\"'\",'\"')\n",
    "        if str(data) != \"[]\": \n",
    "            with open(pathfile, 'a') as arquivo:\n",
    "                if first:\n",
    "                    data = data.replace(\"None\",\"0.0\")\n",
    "                    arquivo.write(str(data)[:-1])\n",
    "                    first = False\n",
    "                    \n",
    "                else:\n",
    "                    data = data.replace(\"None\",\"0.0\")\n",
    "                    arquivo.write(\",\"+str(data)[1:-1])\n",
    "                print(\"Saved data\")\n",
    "    with open(pathfile, 'a') as arquivo:\n",
    "        arquivo.write(\"]\")\n",
    "\n",
    "def toCSVCat62(pathfile):\n",
    "    with open(pathfile, 'r') as arquivo:\n",
    "    # Carregue o conteúdo do arquivo em uma lista de dicionários\n",
    "        data_complete = json.load(arquivo)\n",
    "\n",
    "    df = pd.DataFrame(data_complete)\n",
    "\n",
    "    df = toDate24(df,'dt_radar')\n",
    "\n",
    "    df.to_csv(\"../data/processed_data/cat62_bronze.csv\",index=False)\n",
    "\n",
    "def ingestaoCat62(dataInicial,dataFinal):\n",
    "    pathfile = '../data/raw_data/cat62_raw.txt'\n",
    "    if os.path.exists(pathfile):\n",
    "        if os.path.exists(pathfile):         os.remove(pathfile)\n",
    "    toRawCat62(pathfile,dataInicial,dataFinal)\n",
    "    toCSVCat62(pathfile)\n"
   ]
  },
  {
   "cell_type": "markdown",
   "metadata": {},
   "source": [
    "### Pipeline completa"
   ]
  },
  {
   "cell_type": "code",
   "execution_count": 30,
   "metadata": {},
   "outputs": [
    {
     "name": "stdout",
     "output_type": "stream",
     "text": [
      "\n",
      " Iniciando Bimtra\n",
      "['2023-02' '2023-03' '2023-04' '2023-05']\n"
     ]
    },
    {
     "name": "stderr",
     "output_type": "stream",
     "text": [
      "  0%|          | 0/3 [00:00<?, ?it/s]"
     ]
    },
    {
     "name": "stdout",
     "output_type": "stream",
     "text": [
      "\n",
      "idate: 2023-02-01 , fdate: 2023-03-01\n"
     ]
    },
    {
     "name": "stderr",
     "output_type": "stream",
     "text": [
      " 33%|███▎      | 1/3 [00:01<00:03,  1.58s/it]"
     ]
    },
    {
     "name": "stdout",
     "output_type": "stream",
     "text": [
      "Saved data\n",
      "\n",
      "idate: 2023-03-01 , fdate: 2023-04-01\n"
     ]
    },
    {
     "name": "stderr",
     "output_type": "stream",
     "text": [
      " 67%|██████▋   | 2/3 [00:03<00:01,  1.77s/it]"
     ]
    },
    {
     "name": "stdout",
     "output_type": "stream",
     "text": [
      "Saved data\n",
      "\n",
      "idate: 2023-04-01 , fdate: 2023-05-01\n"
     ]
    },
    {
     "name": "stderr",
     "output_type": "stream",
     "text": [
      "100%|██████████| 3/3 [00:05<00:00,  1.84s/it]"
     ]
    },
    {
     "name": "stdout",
     "output_type": "stream",
     "text": [
      "Saved data\n"
     ]
    },
    {
     "name": "stderr",
     "output_type": "stream",
     "text": [
      "\n"
     ]
    },
    {
     "name": "stdout",
     "output_type": "stream",
     "text": [
      "\n",
      " Iniciando Cat62\n"
     ]
    },
    {
     "name": "stderr",
     "output_type": "stream",
     "text": [
      "  0%|          | 0/3 [00:00<?, ?it/s]"
     ]
    },
    {
     "name": "stdout",
     "output_type": "stream",
     "text": [
      "\n",
      "idate: 2023-02-01 , fdate: 2023-03-01\n"
     ]
    },
    {
     "name": "stderr",
     "output_type": "stream",
     "text": [
      " 33%|███▎      | 1/3 [00:00<00:00,  2.25it/s]"
     ]
    },
    {
     "name": "stdout",
     "output_type": "stream",
     "text": [
      "Saved data\n",
      "\n",
      "idate: 2023-03-01 , fdate: 2023-04-01\n"
     ]
    },
    {
     "name": "stderr",
     "output_type": "stream",
     "text": [
      " 67%|██████▋   | 2/3 [00:00<00:00,  2.16it/s]"
     ]
    },
    {
     "name": "stdout",
     "output_type": "stream",
     "text": [
      "Saved data\n",
      "\n",
      "idate: 2023-04-01 , fdate: 2023-05-01\n"
     ]
    },
    {
     "name": "stderr",
     "output_type": "stream",
     "text": [
      "100%|██████████| 3/3 [00:01<00:00,  2.11it/s]"
     ]
    },
    {
     "name": "stdout",
     "output_type": "stream",
     "text": [
      "Saved data\n"
     ]
    },
    {
     "name": "stderr",
     "output_type": "stream",
     "text": [
      "\n"
     ]
    },
    {
     "name": "stdout",
     "output_type": "stream",
     "text": [
      "\n",
      " Iniciando Metaf\n"
     ]
    },
    {
     "name": "stderr",
     "output_type": "stream",
     "text": [
      "  0%|          | 0/3 [00:00<?, ?it/s]"
     ]
    },
    {
     "name": "stdout",
     "output_type": "stream",
     "text": [
      "\n",
      "idate: 2023-02-01 , fdate: 2023-03-01\n"
     ]
    },
    {
     "name": "stderr",
     "output_type": "stream",
     "text": [
      " 33%|███▎      | 1/3 [00:00<00:00,  3.20it/s]"
     ]
    },
    {
     "name": "stdout",
     "output_type": "stream",
     "text": [
      "Saved data\n",
      "\n",
      "idate: 2023-03-01 , fdate: 2023-04-01\n"
     ]
    },
    {
     "name": "stderr",
     "output_type": "stream",
     "text": [
      " 67%|██████▋   | 2/3 [00:00<00:00,  2.65it/s]"
     ]
    },
    {
     "name": "stdout",
     "output_type": "stream",
     "text": [
      "Saved data\n",
      "\n",
      "idate: 2023-04-01 , fdate: 2023-05-01\n"
     ]
    },
    {
     "name": "stderr",
     "output_type": "stream",
     "text": [
      "100%|██████████| 3/3 [00:01<00:00,  2.47it/s]"
     ]
    },
    {
     "name": "stdout",
     "output_type": "stream",
     "text": [
      "Saved data\n"
     ]
    },
    {
     "name": "stderr",
     "output_type": "stream",
     "text": [
      "\n"
     ]
    },
    {
     "name": "stdout",
     "output_type": "stream",
     "text": [
      "\n",
      " Iniciando Metar\n"
     ]
    },
    {
     "name": "stderr",
     "output_type": "stream",
     "text": [
      "  0%|          | 0/3 [00:00<?, ?it/s]"
     ]
    },
    {
     "name": "stdout",
     "output_type": "stream",
     "text": [
      "\n",
      "idate: 2023-02-01 , fdate: 2023-03-01\n"
     ]
    },
    {
     "name": "stderr",
     "output_type": "stream",
     "text": [
      " 33%|███▎      | 1/3 [00:00<00:01,  1.53it/s]"
     ]
    },
    {
     "name": "stdout",
     "output_type": "stream",
     "text": [
      "Saved data\n",
      "\n",
      "idate: 2023-03-01 , fdate: 2023-04-01\n"
     ]
    },
    {
     "name": "stderr",
     "output_type": "stream",
     "text": [
      " 67%|██████▋   | 2/3 [00:01<00:00,  1.82it/s]"
     ]
    },
    {
     "name": "stdout",
     "output_type": "stream",
     "text": [
      "Saved data\n",
      "\n",
      "idate: 2023-04-01 , fdate: 2023-05-01\n"
     ]
    },
    {
     "name": "stderr",
     "output_type": "stream",
     "text": [
      "100%|██████████| 3/3 [00:01<00:00,  1.89it/s]"
     ]
    },
    {
     "name": "stdout",
     "output_type": "stream",
     "text": [
      "Saved data\n"
     ]
    },
    {
     "name": "stderr",
     "output_type": "stream",
     "text": [
      "\n"
     ]
    },
    {
     "name": "stdout",
     "output_type": "stream",
     "text": [
      "\n",
      " Iniciando Tc Real\n"
     ]
    },
    {
     "name": "stderr",
     "output_type": "stream",
     "text": [
      "  0%|          | 0/3 [00:00<?, ?it/s]"
     ]
    },
    {
     "name": "stdout",
     "output_type": "stream",
     "text": [
      "\n",
      "idate: 2023-02-01 , fdate: 2023-03-01\n"
     ]
    },
    {
     "name": "stderr",
     "output_type": "stream",
     "text": [
      " 33%|███▎      | 1/3 [00:00<00:00,  2.60it/s]"
     ]
    },
    {
     "name": "stdout",
     "output_type": "stream",
     "text": [
      "Saved data\n",
      "\n",
      "idate: 2023-03-01 , fdate: 2023-04-01\n"
     ]
    },
    {
     "name": "stderr",
     "output_type": "stream",
     "text": [
      " 67%|██████▋   | 2/3 [00:00<00:00,  2.86it/s]"
     ]
    },
    {
     "name": "stdout",
     "output_type": "stream",
     "text": [
      "Saved data\n",
      "\n",
      "idate: 2023-04-01 , fdate: 2023-05-01\n"
     ]
    },
    {
     "name": "stderr",
     "output_type": "stream",
     "text": [
      "100%|██████████| 3/3 [00:01<00:00,  2.78it/s]\n"
     ]
    },
    {
     "name": "stdout",
     "output_type": "stream",
     "text": [
      "Saved data\n",
      "\n",
      " Iniciando Tc Prev\n"
     ]
    },
    {
     "name": "stderr",
     "output_type": "stream",
     "text": [
      "  0%|          | 0/3 [00:00<?, ?it/s]"
     ]
    },
    {
     "name": "stdout",
     "output_type": "stream",
     "text": [
      "\n",
      "idate: 2023-02-01 , fdate: 2023-03-01\n"
     ]
    },
    {
     "name": "stderr",
     "output_type": "stream",
     "text": [
      " 33%|███▎      | 1/3 [00:00<00:00,  2.62it/s]"
     ]
    },
    {
     "name": "stdout",
     "output_type": "stream",
     "text": [
      "Saved data\n",
      "\n",
      "idate: 2023-03-01 , fdate: 2023-04-01\n"
     ]
    },
    {
     "name": "stderr",
     "output_type": "stream",
     "text": [
      " 67%|██████▋   | 2/3 [00:00<00:00,  2.50it/s]"
     ]
    },
    {
     "name": "stdout",
     "output_type": "stream",
     "text": [
      "Saved data\n",
      "\n",
      "idate: 2023-04-01 , fdate: 2023-05-01\n"
     ]
    },
    {
     "name": "stderr",
     "output_type": "stream",
     "text": [
      "100%|██████████| 3/3 [00:01<00:00,  2.50it/s]"
     ]
    },
    {
     "name": "stdout",
     "output_type": "stream",
     "text": [
      "Saved data\n"
     ]
    },
    {
     "name": "stderr",
     "output_type": "stream",
     "text": [
      "\n"
     ]
    }
   ],
   "source": [
    "def pipeline_ingestao():\n",
    "    dataInicial = '2023-02' # 2021-01 2023-05'\n",
    "    dataFinal = '2023-06'\n",
    "    print(\"\\n Iniciando Bimtra\")\n",
    "    ingestaoBimtra(dataInicial,dataFinal)\n",
    "    print(\"\\n Iniciando Cat62\")\n",
    "    # ingestaoCat62(dataInicial,dataFinal)\n",
    "    # print(\"\\n Iniciando espera\")\n",
    "    ingestaoEspera(dataInicial,dataFinal)\n",
    "    print(\"\\n Iniciando Metaf\")\n",
    "    ingestaoMetaf(dataInicial,dataFinal)\n",
    "    print(\"\\n Iniciando Metar\")\n",
    "    ingestaoMetaR(dataInicial,dataFinal)\n",
    "    print(\"\\n Iniciando Tc Real\")\n",
    "    ingestaoTcReal(dataInicial,dataFinal)\n",
    "    print(\"\\n Iniciando Tc Prev\")\n",
    "    ingestaoTcPrev(dataInicial,dataFinal)\n",
    "\n",
    "pipeline_ingestao()"
   ]
  },
  {
   "cell_type": "code",
   "execution_count": null,
   "metadata": {},
   "outputs": [],
   "source": []
  }
 ],
 "metadata": {
  "kernelspec": {
   "display_name": "Python 3",
   "language": "python",
   "name": "python3"
  },
  "language_info": {
   "codemirror_mode": {
    "name": "ipython",
    "version": 3
   },
   "file_extension": ".py",
   "mimetype": "text/x-python",
   "name": "python",
   "nbconvert_exporter": "python",
   "pygments_lexer": "ipython3",
   "version": "3.11.5"
  },
  "orig_nbformat": 4
 },
 "nbformat": 4,
 "nbformat_minor": 2
}
