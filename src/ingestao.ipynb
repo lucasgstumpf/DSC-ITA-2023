{
 "cells": [
  {
   "cell_type": "markdown",
   "metadata": {},
   "source": [
    "### imports"
   ]
  },
  {
   "cell_type": "code",
   "execution_count": 1,
   "metadata": {},
   "outputs": [],
   "source": [
    "import pandas as pd\n",
    "import numpy as np\n",
    "import requests\n",
    "import os\n",
    "from datetime import datetime, timedelta\n",
    "\n",
    "from tqdm import tqdm\n",
    "import json\n",
    "import pytz\n",
    "\n",
    "# HORA MINIMA 2020/01 -> 2023/04\n",
    "# formatado data final/inicial 2023-03\n"
   ]
  },
  {
   "cell_type": "code",
   "execution_count": 2,
   "metadata": {},
   "outputs": [],
   "source": [
    "def toDate24(df,coluna):\n",
    "    brasilia_timezone = pytz.timezone('America/Sao_Paulo')\n",
    "\n",
    "    # Converte o timestamp para o fuso horário de Brasília\n",
    "    nova_coluna = coluna + \"_formatted\"\n",
    "    df[nova_coluna] = df[coluna].apply(lambda x: datetime.fromtimestamp(int(x)/1000, tz=brasilia_timezone).strftime(\"%A, %B %d, %Y %H:%M:%S\"))\n",
    "\n",
    "    return df\n"
   ]
  },
  {
   "cell_type": "markdown",
   "metadata": {},
   "source": [
    "### /bimtra\n",
    "\n",
    "Fazer a requisição necessaria para baixar os dados e salvar em \"raw_bimtra\"\n"
   ]
  },
  {
   "cell_type": "code",
   "execution_count": 3,
   "metadata": {},
   "outputs": [],
   "source": [
    "\n",
    "def toRawBimtra(pathfile,dataInicial,dataFinal):\n",
    "    def bimtra_req(idate,fdate):\n",
    "        url = 'http://montreal.icea.decea.mil.br:5002/api/v1/bimtra'\n",
    "        params = {\n",
    "            'token': 'a779d04f85c4bf6cfa586d30aaec57c44e9b7173',\n",
    "            'idate': idate,\n",
    "            'fdate': fdate\n",
    "        }\n",
    "        headers = {\n",
    "            'accept': 'application/json'\n",
    "        }\n",
    "\n",
    "        response = requests.get(url, params=params, headers=headers)\n",
    "\n",
    "        if response.status_code == 200:\n",
    "            data = response.json()\n",
    "            return data\n",
    "        else:\n",
    "            print(f\"Falha na requisição. Código de status: {response.status_code}\")\n",
    "\n",
    "    dateArray = np.arange(np.datetime64(dataInicial), np.datetime64(dataFinal), np.timedelta64(1,'M'))\n",
    "    print(dateArray)\n",
    "    pathfile = '../data/raw_data/bimtra_raw.txt'\n",
    "    if os.path.exists(pathfile) :\n",
    "        first = False\n",
    "    else:\n",
    "        first = True\n",
    "\n",
    "    for aux in tqdm(range(len(dateArray)-1)):\n",
    "        idate = str(dateArray[aux])+\"-01\"\n",
    "        fdate = str(dateArray[aux+1])+\"-01\"\n",
    "        print(f\"\\nidate: {idate} , fdate: {fdate}\")\n",
    "        data = bimtra_req(idate,fdate)\n",
    "        data = str(data).replace(\"'\",'\"')\n",
    "        if str(data) != \"[]\": \n",
    "            with open(pathfile, 'a') as arquivo:\n",
    "                if first:\n",
    "                    arquivo.write(str(data)[:-1])\n",
    "                    first = False\n",
    "                    \n",
    "                else:\n",
    "                    arquivo.write(\",\"+str(data)[1:-1])\n",
    "                print(\"Saved data\")\n",
    "    with open(pathfile, 'a') as arquivo:\n",
    "        arquivo.write(\"]\")\n",
    "\n",
    "def toCSVBimtra(pathfile):\n",
    "    with open(pathfile, 'r') as arquivo:\n",
    "        # Carregue o conteúdo do arquivo em uma lista de dicionários\n",
    "        data_complete = json.load(arquivo)\n",
    "\n",
    "    df = pd.DataFrame(data_complete)\n",
    "    df = toDate24(df,\"dt_dep\")\n",
    "    df = toDate24(df,\"dt_arr\")\n",
    "\n",
    "\n",
    "    df.to_csv(\"../data/processed_data/bimtra_bronze.csv\",index=False)\n",
    "    \n",
    "def ingestaoBimtra(dataInicial, dataFinal):\n",
    "    pathfile =  '../data/raw_data/bimtra_raw.txt'\n",
    "    if os.path.exists(pathfile):         \n",
    "        os.remove(pathfile)\n",
    "    toRawBimtra(pathfile,dataInicial, dataFinal)\n",
    "    toCSVBimtra(pathfile)\n"
   ]
  },
  {
   "cell_type": "markdown",
   "metadata": {},
   "source": [
    "### /espera\n",
    "\n",
    "Fazer a requisição necessaria para baixar os dados e salvar em \"raw_espera\"\n"
   ]
  },
  {
   "cell_type": "code",
   "execution_count": 4,
   "metadata": {},
   "outputs": [],
   "source": [
    "\n",
    "def toRawEspera(pathfile,dataInicial,dataFinal):\n",
    "    def espera_req(idate,fdate):\n",
    "        url = 'http://montreal.icea.decea.mil.br:5002/api/v1/esperas'\n",
    "        params = {\n",
    "            'token': 'a779d04f85c4bf6cfa586d30aaec57c44e9b7173',\n",
    "            'idate': idate,\n",
    "            'fdate': fdate\n",
    "        }\n",
    "        headers = {\n",
    "            'accept': 'application/json'\n",
    "        }\n",
    "        response = requests.get(url, params=params, headers=headers)\n",
    "        if response.status_code == 200:\n",
    "            data = response.json()\n",
    "            return data\n",
    "        else:\n",
    "            print(f\"Falha na requisição. Código de status: {response.status_code}\")\n",
    "    dateArray = np.arange(np.datetime64(dataInicial), np.datetime64(dataFinal), np.timedelta64(1,'M'))\n",
    "\n",
    "    if os.path.exists(pathfile) :\n",
    "        first = False\n",
    "    else:\n",
    "        first = True\n",
    "\n",
    "    for aux in tqdm(range(len(dateArray)-1)):\n",
    "        idate = str(dateArray[aux])+\"-01\"\n",
    "        fdate = str(dateArray[aux+1])+\"-01\"\n",
    "        print(f\"\\nidate: {idate} , fdate: {fdate}\")\n",
    "        data = espera_req(idate,fdate)\n",
    "        data = str(data).replace(\"'\",'\"')\n",
    "        if str(data) != \"[]\": \n",
    "            with open(pathfile, 'a') as arquivo:\n",
    "                if first:\n",
    "                    arquivo.write(str(data)[:-1])\n",
    "                    first = False\n",
    "                else:\n",
    "                    arquivo.write(\",\"+str(data)[1:-1])\n",
    "                print(\"Saved data\")\n",
    "    with open(pathfile, 'a') as arquivo:\n",
    "        arquivo.write(\"]\")\n",
    "\n",
    "def toCSVEspera(pathfile):\n",
    "    with open(pathfile, 'r') as arquivo:\n",
    "    # Carregue o conteúdo do arquivo em uma lista de dicionários\n",
    "        data_complete = json.load(arquivo)\n",
    "\n",
    "    df = pd.DataFrame(data_complete)\n",
    "\n",
    "    df = toDate24(df,'hora')\n",
    "\n",
    "    df.to_csv(\"../data/processed_data/espera_bronze.csv\",index=False)\n",
    "\n",
    "def ingestaoEspera(dataInicial,dataFinal):\n",
    "    pathfile = '../data/raw_data/espera_raw.txt'\n",
    "    if os.path.exists(pathfile):         \n",
    "        os.remove(pathfile)\n",
    "    toRawEspera(pathfile,dataInicial,dataFinal)\n",
    "    toCSVEspera(pathfile)\n",
    "\n"
   ]
  },
  {
   "cell_type": "markdown",
   "metadata": {},
   "source": [
    "### /MetaF\n",
    "\n",
    "Fazer a requisição necessaria para baixar os dados e salvar em \"raw_metaf\""
   ]
  },
  {
   "cell_type": "code",
   "execution_count": 5,
   "metadata": {},
   "outputs": [],
   "source": [
    "def toRawMetaF(pathfile,dataInicial,dataFinal): \n",
    "\n",
    "    def metaf_req(idate,fdate):\n",
    "        url = 'http://montreal.icea.decea.mil.br:5002/api/v1/metaf'\n",
    "        params = {\n",
    "            'token': 'a779d04f85c4bf6cfa586d30aaec57c44e9b7173',\n",
    "            'idate': idate,\n",
    "            'fdate': fdate\n",
    "        }\n",
    "        headers = {\n",
    "            'accept': 'application/json'\n",
    "        }\n",
    "\n",
    "        response = requests.get(url, params=params, headers=headers)\n",
    "\n",
    "        if response.status_code == 200:\n",
    "            data = response.json()\n",
    "            return data\n",
    "        else:\n",
    "            print(f\"Falha na requisição. Código de status: {response.status_code}\")\n",
    "\n",
    "    dateArray = np.arange(np.datetime64(dataInicial), np.datetime64(dataFinal), np.timedelta64(1,'M'))\n",
    "\n",
    "    if os.path.exists(pathfile) :\n",
    "        first = False\n",
    "    else:\n",
    "        first = True\n",
    "\n",
    "    for aux in tqdm(range(len(dateArray)-1)):\n",
    "        idate = str(dateArray[aux])+\"-01\"\n",
    "        fdate = str(dateArray[aux+1])+\"-01\"\n",
    "        print(f\"\\nidate: {idate} , fdate: {fdate}\")\n",
    "        data = metaf_req(idate,fdate)\n",
    "        data = str(data).replace(\"'\",'\"')\n",
    "        if str(data) != \"[]\": \n",
    "            with open(pathfile, 'a') as arquivo:\n",
    "                if first:\n",
    "                    arquivo.write(str(data)[:-1])\n",
    "                    first = False\n",
    "                    \n",
    "                else:\n",
    "                    arquivo.write(\",\"+str(data)[1:-1])\n",
    "                print(\"Saved data\")\n",
    "    with open(pathfile, 'a') as arquivo:\n",
    "        arquivo.write(\"]\")\n",
    "\n",
    "def toCSVMetaF(pathfile):\n",
    "    with open(pathfile, 'r') as arquivo:\n",
    "    # Carregue o conteúdo do arquivo em uma lista de dicionários\n",
    "        data_complete = json.load(arquivo)\n",
    "\n",
    "    df = pd.DataFrame(data_complete)\n",
    "\n",
    "    df = toDate24(df,'hora')\n",
    "\n",
    "    df.to_csv(\"../data/processed_data/metaf_bronze.csv\",index=False)\n",
    "\n",
    "\n",
    "def ingestaoMetaf(dataInicial,dataFinal):\n",
    "    pathfile = '../data/raw_data/metaf_raw.txt'\n",
    "    if os.path.exists(pathfile):         \n",
    "        os.remove(pathfile)\n",
    "    toRawMetaF(pathfile,dataInicial,dataFinal)\n",
    "    toCSVMetaF(pathfile)\n",
    "\n"
   ]
  },
  {
   "cell_type": "markdown",
   "metadata": {},
   "source": [
    "### /MetaR\n",
    "\n",
    "Fazer a requisição necessaria para baixar os dados e salvar em \"raw_metar\""
   ]
  },
  {
   "cell_type": "code",
   "execution_count": 6,
   "metadata": {},
   "outputs": [],
   "source": [
    "def toRawMetaR(pathfile,dataInicial,dataFinal):\n",
    "    def metar_req(idate,fdate):\n",
    "        url = 'http://montreal.icea.decea.mil.br:5002/api/v1/metar'\n",
    "        params = {\n",
    "            'token': 'a779d04f85c4bf6cfa586d30aaec57c44e9b7173',\n",
    "            'idate': idate,\n",
    "            'fdate': fdate\n",
    "        }\n",
    "        headers = {\n",
    "            'accept': 'application/json'\n",
    "        }\n",
    "\n",
    "        response = requests.get(url, params=params, headers=headers)\n",
    "\n",
    "        if response.status_code == 200:\n",
    "            data = response.json()\n",
    "            return data\n",
    "        else:\n",
    "            print(f\"Falha na requisição. Código de status: {response.status_code}\")\n",
    "\n",
    "    dateArray = np.arange(np.datetime64(dataInicial), np.datetime64(dataFinal), np.timedelta64(1,'M'))\n",
    "    \n",
    "    if os.path.exists(pathfile) :\n",
    "        first = False\n",
    "    else:\n",
    "        first = True\n",
    "\n",
    "    for aux in tqdm(range(len(dateArray)-1)):\n",
    "        idate = str(dateArray[aux])+\"-01\"\n",
    "        fdate = str(dateArray[aux+1])+\"-01\"\n",
    "        print(f\"\\nidate: {idate} , fdate: {fdate}\")\n",
    "        data = metar_req(idate,fdate)\n",
    "        data = str(data).replace(\"'\",'\"')\n",
    "        if str(data) != \"[]\": \n",
    "            with open(pathfile, 'a') as arquivo:\n",
    "                if first:\n",
    "                    arquivo.write(str(data)[:-1])\n",
    "                    first = False\n",
    "                    \n",
    "                else:\n",
    "                    arquivo.write(\",\"+str(data)[1:-1])\n",
    "                print(\"Saved data\")\n",
    "    with open(pathfile, 'a') as arquivo:\n",
    "        arquivo.write(\"]\")\n",
    "\n",
    "def toCSVMetar(pathfile):\n",
    "    with open(pathfile, 'r') as arquivo:\n",
    "    # Carregue o conteúdo do arquivo em uma lista de dicionários\n",
    "        data_complete = json.load(arquivo)\n",
    "\n",
    "    df = pd.DataFrame(data_complete)\n",
    "    df = toDate24(df,'hora')\n",
    "\n",
    "    df.to_csv(\"../data/processed_data/metar_bronze.csv\",index=False)\n",
    "\n",
    "def ingestaoMetaR(dataInicial,dataFinal):\n",
    "    pathfile = '../data/raw_data/metar_raw.txt'\n",
    "    if os.path.exists(pathfile):         \n",
    "        os.remove(pathfile)\n",
    "    toRawMetaR(pathfile,dataInicial,dataFinal)\n",
    "    toCSVMetar(pathfile)\n"
   ]
  },
  {
   "cell_type": "markdown",
   "metadata": {},
   "source": [
    "### /Tc-Prev\n",
    "\n",
    "\n",
    "Fazer a requisição necessaria para baixar os dados e salvar em \"raw_tc-prev\""
   ]
  },
  {
   "cell_type": "code",
   "execution_count": 7,
   "metadata": {},
   "outputs": [],
   "source": [
    "def toRawTcPrev(pathfile,dataInicial,dataFinal):\n",
    "    def metaf_req(idate,fdate):\n",
    "        url = 'http://montreal.icea.decea.mil.br:5002/api/v1/tc-prev'\n",
    "        params = {\n",
    "            'token': 'a779d04f85c4bf6cfa586d30aaec57c44e9b7173',\n",
    "            'idate': idate,\n",
    "            'fdate': fdate\n",
    "        }\n",
    "        headers = {\n",
    "            'accept': 'application/json'\n",
    "        }\n",
    "\n",
    "        response = requests.get(url, params=params, headers=headers)\n",
    "\n",
    "        if response.status_code == 200:\n",
    "            data = response.json()\n",
    "            return data\n",
    "        else:\n",
    "            print(f\"Falha na requisição. Código de status: {response.status_code}\")\n",
    "\n",
    "    dateArray = np.arange(np.datetime64(dataInicial), np.datetime64(dataFinal), np.timedelta64(1,'M'))\n",
    "\n",
    "    if os.path.exists(pathfile) :\n",
    "        first = False\n",
    "    else:\n",
    "        first = True\n",
    "\n",
    "    for aux in tqdm(range(len(dateArray)-1)):\n",
    "        idate = str(dateArray[aux])+\"-01\"\n",
    "        fdate = str(dateArray[aux+1])+\"-01\"\n",
    "        print(f\"\\nidate: {idate} , fdate: {fdate}\")\n",
    "        data = metaf_req(idate,fdate)\n",
    "        data = str(data).replace(\"'\",'\"')\n",
    "        if str(data) != \"[]\": \n",
    "            with open(pathfile, 'a') as arquivo:\n",
    "                if first:\n",
    "                    arquivo.write(str(data)[:-1])\n",
    "                    first = False\n",
    "                    \n",
    "                else:\n",
    "                    arquivo.write(\",\"+str(data)[1:-1])\n",
    "                print(\"Saved data\")\n",
    "    with open(pathfile, 'a') as arquivo:\n",
    "        arquivo.write(\"]\")\n",
    "\n",
    "def toCSVTcPrev(pathfile):\n",
    "    with open(pathfile, 'r') as arquivo:\n",
    "    # Carregue o conteúdo do arquivo em uma lista de dicionários\n",
    "        data_complete = json.load(arquivo)\n",
    "\n",
    "    df = pd.DataFrame(data_complete)\n",
    "\n",
    "    df = toDate24(df,'hora')\n",
    "    df.to_csv(\"../data/processed_data/tc-prev_bronze.csv\",index=False)\n",
    "\n",
    "def ingestaoTcPrev(dataInicial,dataFinal):\n",
    "    pathfile = '../data/raw_data/tc-prev_raw.txt'\n",
    "    if os.path.exists(pathfile):         \n",
    "        os.remove(pathfile)\n",
    "    toRawTcPrev(pathfile,dataInicial,dataFinal)\n",
    "    toCSVTcPrev(pathfile)\n"
   ]
  },
  {
   "cell_type": "markdown",
   "metadata": {},
   "source": [
    "### /Tc-real\n",
    "\n",
    "\n",
    "Fazer a requisição necessaria para baixar os dados e salvar em \"raw_tc-real\""
   ]
  },
  {
   "cell_type": "code",
   "execution_count": 8,
   "metadata": {},
   "outputs": [],
   "source": [
    "def toRawTcreal(pathfile,dataInicial,dataFinal):\n",
    "    def metaf_req(idate,fdate):\n",
    "        url = 'http://montreal.icea.decea.mil.br:5002/api/v1/tc-real'\n",
    "        params = {\n",
    "            'token': 'a779d04f85c4bf6cfa586d30aaec57c44e9b7173',\n",
    "            'idate': idate,\n",
    "            'fdate': fdate\n",
    "        }\n",
    "        headers = {\n",
    "            'accept': 'application/json'\n",
    "        }\n",
    "\n",
    "        response = requests.get(url, params=params, headers=headers)\n",
    "\n",
    "        if response.status_code == 200:\n",
    "            data = response.json()\n",
    "            return data\n",
    "        else:\n",
    "            print(f\"Falha na requisição. Código de status: {response.status_code}\")\n",
    "\n",
    "    dateArray = np.arange(np.datetime64(dataInicial), np.datetime64(dataFinal), np.timedelta64(1,'M'))\n",
    "    \n",
    "\n",
    "    if os.path.exists(pathfile) :\n",
    "        first = False\n",
    "    else:\n",
    "        first = True\n",
    "\n",
    "    for aux in tqdm(range(len(dateArray)-1)):\n",
    "        idate = str(dateArray[aux])+\"-01\"\n",
    "        fdate = str(dateArray[aux+1])+\"-01\"\n",
    "        print(f\"\\nidate: {idate} , fdate: {fdate}\")\n",
    "        data = metaf_req(idate,fdate)\n",
    "        data = str(data).replace(\"'\",'\"')\n",
    "        if str(data) != \"[]\": \n",
    "            with open(pathfile, 'a') as arquivo:\n",
    "                if first:\n",
    "                    arquivo.write(str(data)[:-1])\n",
    "                    first = False\n",
    "                    \n",
    "                else:\n",
    "                    arquivo.write(\",\"+str(data)[1:-1])\n",
    "                print(\"Saved data\")\n",
    "    with open(pathfile, 'a') as arquivo:\n",
    "        arquivo.write(\"]\")\n",
    "\n",
    "def toCSVTcReal(pathfile):\n",
    "    with open(pathfile, 'r') as arquivo:\n",
    "    # Carregue o conteúdo do arquivo em uma lista de dicionários\n",
    "        data_complete = json.load(arquivo)\n",
    "\n",
    "    df = pd.DataFrame(data_complete)\n",
    "\n",
    "    df = toDate24(df,'hora')\n",
    "\n",
    "    df.to_csv(\"../data/processed_data/tc-real_bronze.csv\",index=False)\n",
    "\n",
    "def ingestaoTcReal(dataInicial,dataFinal):\n",
    "    pathfile = '../data/raw_data/tc-real_raw.txt'\n",
    "    if os.path.exists(pathfile):         \n",
    "        os.remove(pathfile)\n",
    "    toRawTcreal(pathfile,dataInicial,dataFinal)\n",
    "    toCSVTcReal(pathfile)\n",
    "\n"
   ]
  },
  {
   "cell_type": "markdown",
   "metadata": {},
   "source": [
    "### /cat-62\n",
    "\n",
    "\n",
    "Fazer a requisição necessaria para baixar os dados e salvar em \"raw_cat-62\""
   ]
  },
  {
   "cell_type": "code",
   "execution_count": 9,
   "metadata": {},
   "outputs": [],
   "source": [
    "def toRawCat62(pathfile,dataInicial,dataFinal):\n",
    "    def cat62_req(idate,fdate):\n",
    "        url = 'http://montreal.icea.decea.mil.br:5002/api/v1/cat-62'\n",
    "        params = {\n",
    "            'token': 'a779d04f85c4bf6cfa586d30aaec57c44e9b7173',\n",
    "            'idate': idate,\n",
    "            'fdate': fdate\n",
    "        }\n",
    "        headers = {\n",
    "            'accept': 'application/json'\n",
    "        }\n",
    "\n",
    "        response = requests.get(url, params=params, headers=headers)\n",
    "\n",
    "        if response.status_code == 200:\n",
    "            data = response.json()\n",
    "            return data\n",
    "        else:\n",
    "            print(f\"Falha na requisição. Código de status: {response.status_code}\")\n",
    "    # Adicione o tempo correto nas datas\n",
    "    dataInicial = dataInicial + '-01 00:00:00.000'\n",
    "    dataFinal = dataFinal + '-01 00:00:00.000'\n",
    "\n",
    "    # Converta as datas para objetos np.datetime64\n",
    "    dataInicial_np = np.datetime64(dataInicial)\n",
    "    dataFinal_np = np.datetime64(dataFinal)\n",
    "\n",
    "    # Crie um array de datas em intervalos de 1 hora\n",
    "    dateArray = np.arange(dataInicial_np, dataFinal_np, np.timedelta64(1, 'h'))\n",
    "\n",
    "    if os.path.exists(pathfile) :\n",
    "        first = False\n",
    "    else:\n",
    "        first = True\n",
    "\n",
    "    for aux in tqdm(range(len(dateArray)-1)):\n",
    "        idate = str(dateArray[aux]).replace(\"T\",\" \")\n",
    "        fdate = str(dateArray[aux+1]).replace(\"T\",\" \")\n",
    "        print(f\"\\nidate: {idate} , fdate: {fdate}\")\n",
    "        data = cat62_req(idate,fdate)\n",
    "        data = str(data).replace(\"'\",'\"')\n",
    "        if str(data) != \"[]\": \n",
    "            with open(pathfile, 'a') as arquivo:\n",
    "                if first:\n",
    "                    data = data.replace(\"None\",\"0.0\")\n",
    "                    arquivo.write(str(data)[:-1])\n",
    "                    first = False\n",
    "                    \n",
    "                else:\n",
    "                    data = data.replace(\"None\",\"0.0\")\n",
    "                    arquivo.write(\",\"+str(data)[1:-1])\n",
    "                print(\"Saved data\")\n",
    "    with open(pathfile, 'a') as arquivo:\n",
    "        arquivo.write(\"]\")\n",
    "\n",
    "def toCSVCat62(pathfile):\n",
    "    with open(pathfile, 'r') as arquivo:\n",
    "    # Carregue o conteúdo do arquivo em uma lista de dicionários\n",
    "        data_complete = json.load(arquivo)\n",
    "\n",
    "    df = pd.DataFrame(data_complete)\n",
    "\n",
    "    df = toDate24(df,'dt_radar')\n",
    "\n",
    "    df.to_csv(\"../data/processed_data/cat62_bronze.csv\",index=False)\n",
    "\n",
    "def ingestaoCat62(dataInicial,dataFinal):\n",
    "    pathfile = '../data/raw_data/cat62_raw.txt'\n",
    "    if os.path.exists(pathfile):\n",
    "        if os.path.exists(pathfile):         os.remove(pathfile)\n",
    "    toRawCat62(pathfile,dataInicial,dataFinal)\n",
    "    toCSVCat62(pathfile)\n"
   ]
  },
  {
   "cell_type": "markdown",
   "metadata": {},
   "source": [
    "### Pipeline completa"
   ]
  },
  {
   "cell_type": "code",
   "execution_count": 10,
   "metadata": {},
   "outputs": [
    {
     "name": "stdout",
     "output_type": "stream",
     "text": [
      "\n",
      " Iniciando Bimtra\n",
      "['2023-03' '2023-04']\n"
     ]
    },
    {
     "name": "stderr",
     "output_type": "stream",
     "text": [
      "  0%|          | 0/1 [00:00<?, ?it/s]"
     ]
    },
    {
     "name": "stdout",
     "output_type": "stream",
     "text": [
      "\n",
      "idate: 2023-03-01 , fdate: 2023-04-01\n"
     ]
    },
    {
     "name": "stderr",
     "output_type": "stream",
     "text": [
      "100%|██████████| 1/1 [00:01<00:00,  1.43s/it]"
     ]
    },
    {
     "name": "stdout",
     "output_type": "stream",
     "text": [
      "Saved data\n"
     ]
    },
    {
     "name": "stderr",
     "output_type": "stream",
     "text": [
      "\n"
     ]
    },
    {
     "name": "stdout",
     "output_type": "stream",
     "text": [
      "\n",
      " Iniciando Cat62\n"
     ]
    },
    {
     "name": "stderr",
     "output_type": "stream",
     "text": [
      "  0%|          | 0/1463 [00:00<?, ?it/s]"
     ]
    },
    {
     "name": "stdout",
     "output_type": "stream",
     "text": [
      "\n",
      "idate: 2023-03-01 00:00:00.000 , fdate: 2023-03-01 01:00:00.000\n"
     ]
    },
    {
     "name": "stderr",
     "output_type": "stream",
     "text": [
      "  0%|          | 1/1463 [00:01<44:03,  1.81s/it]"
     ]
    },
    {
     "name": "stdout",
     "output_type": "stream",
     "text": [
      "Saved data\n",
      "\n",
      "idate: 2023-03-01 01:00:00.000 , fdate: 2023-03-01 02:00:00.000\n"
     ]
    },
    {
     "name": "stderr",
     "output_type": "stream",
     "text": [
      "  0%|          | 2/1463 [00:03<45:17,  1.86s/it]"
     ]
    },
    {
     "name": "stdout",
     "output_type": "stream",
     "text": [
      "Saved data\n",
      "\n",
      "idate: 2023-03-01 02:00:00.000 , fdate: 2023-03-01 03:00:00.000\n"
     ]
    },
    {
     "name": "stderr",
     "output_type": "stream",
     "text": [
      "  0%|          | 3/1463 [00:05<45:05,  1.85s/it]"
     ]
    },
    {
     "name": "stdout",
     "output_type": "stream",
     "text": [
      "Saved data\n",
      "\n",
      "idate: 2023-03-01 03:00:00.000 , fdate: 2023-03-01 04:00:00.000\n"
     ]
    },
    {
     "name": "stderr",
     "output_type": "stream",
     "text": [
      "  0%|          | 4/1463 [00:07<45:27,  1.87s/it]"
     ]
    },
    {
     "name": "stdout",
     "output_type": "stream",
     "text": [
      "Saved data\n",
      "\n",
      "idate: 2023-03-01 04:00:00.000 , fdate: 2023-03-01 05:00:00.000\n"
     ]
    },
    {
     "name": "stderr",
     "output_type": "stream",
     "text": [
      "  0%|          | 5/1463 [00:09<43:46,  1.80s/it]"
     ]
    },
    {
     "name": "stdout",
     "output_type": "stream",
     "text": [
      "Saved data\n",
      "\n",
      "idate: 2023-03-01 05:00:00.000 , fdate: 2023-03-01 06:00:00.000\n"
     ]
    },
    {
     "name": "stderr",
     "output_type": "stream",
     "text": [
      "  0%|          | 6/1463 [00:10<42:33,  1.75s/it]"
     ]
    },
    {
     "name": "stdout",
     "output_type": "stream",
     "text": [
      "Saved data\n",
      "\n",
      "idate: 2023-03-01 06:00:00.000 , fdate: 2023-03-01 07:00:00.000\n"
     ]
    },
    {
     "name": "stderr",
     "output_type": "stream",
     "text": [
      "  0%|          | 7/1463 [00:12<41:46,  1.72s/it]"
     ]
    },
    {
     "name": "stdout",
     "output_type": "stream",
     "text": [
      "Saved data\n",
      "\n",
      "idate: 2023-03-01 07:00:00.000 , fdate: 2023-03-01 08:00:00.000\n"
     ]
    },
    {
     "name": "stderr",
     "output_type": "stream",
     "text": [
      "  1%|          | 8/1463 [00:14<41:48,  1.72s/it]"
     ]
    },
    {
     "name": "stdout",
     "output_type": "stream",
     "text": [
      "Saved data\n",
      "\n",
      "idate: 2023-03-01 08:00:00.000 , fdate: 2023-03-01 09:00:00.000\n"
     ]
    },
    {
     "name": "stderr",
     "output_type": "stream",
     "text": [
      "  1%|          | 9/1463 [00:15<42:25,  1.75s/it]"
     ]
    },
    {
     "name": "stdout",
     "output_type": "stream",
     "text": [
      "Saved data\n",
      "\n",
      "idate: 2023-03-01 09:00:00.000 , fdate: 2023-03-01 10:00:00.000\n"
     ]
    },
    {
     "name": "stderr",
     "output_type": "stream",
     "text": [
      "  1%|          | 10/1463 [00:17<43:59,  1.82s/it]"
     ]
    },
    {
     "name": "stdout",
     "output_type": "stream",
     "text": [
      "Saved data\n",
      "\n",
      "idate: 2023-03-01 10:00:00.000 , fdate: 2023-03-01 11:00:00.000\n"
     ]
    },
    {
     "name": "stderr",
     "output_type": "stream",
     "text": [
      "  1%|          | 11/1463 [00:20<50:05,  2.07s/it]"
     ]
    },
    {
     "name": "stdout",
     "output_type": "stream",
     "text": [
      "Saved data\n",
      "\n",
      "idate: 2023-03-01 11:00:00.000 , fdate: 2023-03-01 12:00:00.000\n"
     ]
    },
    {
     "name": "stderr",
     "output_type": "stream",
     "text": [
      "  1%|          | 12/1463 [00:22<50:01,  2.07s/it]"
     ]
    },
    {
     "name": "stdout",
     "output_type": "stream",
     "text": [
      "Saved data\n",
      "\n",
      "idate: 2023-03-01 12:00:00.000 , fdate: 2023-03-01 13:00:00.000\n"
     ]
    },
    {
     "name": "stderr",
     "output_type": "stream",
     "text": [
      "  1%|          | 13/1463 [00:24<50:12,  2.08s/it]"
     ]
    },
    {
     "name": "stdout",
     "output_type": "stream",
     "text": [
      "Saved data\n",
      "\n",
      "idate: 2023-03-01 13:00:00.000 , fdate: 2023-03-01 14:00:00.000\n"
     ]
    },
    {
     "name": "stderr",
     "output_type": "stream",
     "text": [
      "  1%|          | 14/1463 [00:26<49:20,  2.04s/it]"
     ]
    },
    {
     "name": "stdout",
     "output_type": "stream",
     "text": [
      "Saved data\n",
      "\n",
      "idate: 2023-03-01 14:00:00.000 , fdate: 2023-03-01 15:00:00.000\n"
     ]
    },
    {
     "name": "stderr",
     "output_type": "stream",
     "text": [
      "  1%|          | 15/1463 [00:28<48:24,  2.01s/it]"
     ]
    },
    {
     "name": "stdout",
     "output_type": "stream",
     "text": [
      "Saved data\n",
      "\n",
      "idate: 2023-03-01 15:00:00.000 , fdate: 2023-03-01 16:00:00.000\n"
     ]
    },
    {
     "name": "stderr",
     "output_type": "stream",
     "text": [
      "  1%|          | 16/1463 [00:30<47:30,  1.97s/it]"
     ]
    },
    {
     "name": "stdout",
     "output_type": "stream",
     "text": [
      "Saved data\n",
      "\n",
      "idate: 2023-03-01 16:00:00.000 , fdate: 2023-03-01 17:00:00.000\n"
     ]
    },
    {
     "name": "stderr",
     "output_type": "stream",
     "text": [
      "  1%|          | 17/1463 [00:32<47:48,  1.98s/it]"
     ]
    },
    {
     "name": "stdout",
     "output_type": "stream",
     "text": [
      "Saved data\n",
      "\n",
      "idate: 2023-03-01 17:00:00.000 , fdate: 2023-03-01 18:00:00.000\n"
     ]
    },
    {
     "name": "stderr",
     "output_type": "stream",
     "text": [
      "  1%|          | 18/1463 [00:34<46:59,  1.95s/it]"
     ]
    },
    {
     "name": "stdout",
     "output_type": "stream",
     "text": [
      "Saved data\n",
      "\n",
      "idate: 2023-03-01 18:00:00.000 , fdate: 2023-03-01 19:00:00.000\n"
     ]
    },
    {
     "name": "stderr",
     "output_type": "stream",
     "text": [
      "  1%|▏         | 19/1463 [00:36<46:44,  1.94s/it]"
     ]
    },
    {
     "name": "stdout",
     "output_type": "stream",
     "text": [
      "Saved data\n",
      "\n",
      "idate: 2023-03-01 19:00:00.000 , fdate: 2023-03-01 20:00:00.000\n"
     ]
    },
    {
     "name": "stderr",
     "output_type": "stream",
     "text": [
      "  1%|▏         | 20/1463 [00:38<46:35,  1.94s/it]"
     ]
    },
    {
     "name": "stdout",
     "output_type": "stream",
     "text": [
      "Saved data\n",
      "\n",
      "idate: 2023-03-01 20:00:00.000 , fdate: 2023-03-01 21:00:00.000\n"
     ]
    },
    {
     "name": "stderr",
     "output_type": "stream",
     "text": [
      "  1%|▏         | 21/1463 [00:40<46:24,  1.93s/it]"
     ]
    },
    {
     "name": "stdout",
     "output_type": "stream",
     "text": [
      "Saved data\n",
      "\n",
      "idate: 2023-03-01 21:00:00.000 , fdate: 2023-03-01 22:00:00.000\n"
     ]
    },
    {
     "name": "stderr",
     "output_type": "stream",
     "text": [
      "  2%|▏         | 22/1463 [00:42<47:06,  1.96s/it]"
     ]
    },
    {
     "name": "stdout",
     "output_type": "stream",
     "text": [
      "Saved data\n",
      "\n",
      "idate: 2023-03-01 22:00:00.000 , fdate: 2023-03-01 23:00:00.000\n"
     ]
    },
    {
     "name": "stderr",
     "output_type": "stream",
     "text": [
      "  2%|▏         | 23/1463 [00:44<46:57,  1.96s/it]"
     ]
    },
    {
     "name": "stdout",
     "output_type": "stream",
     "text": [
      "Saved data\n",
      "\n",
      "idate: 2023-03-01 23:00:00.000 , fdate: 2023-03-02 00:00:00.000\n"
     ]
    },
    {
     "name": "stderr",
     "output_type": "stream",
     "text": [
      "  2%|▏         | 24/1463 [00:45<45:56,  1.92s/it]"
     ]
    },
    {
     "name": "stdout",
     "output_type": "stream",
     "text": [
      "Saved data\n",
      "\n",
      "idate: 2023-03-02 00:00:00.000 , fdate: 2023-03-02 01:00:00.000\n"
     ]
    },
    {
     "name": "stderr",
     "output_type": "stream",
     "text": [
      "  2%|▏         | 25/1463 [00:47<44:55,  1.87s/it]"
     ]
    },
    {
     "name": "stdout",
     "output_type": "stream",
     "text": [
      "Saved data\n",
      "\n",
      "idate: 2023-03-02 01:00:00.000 , fdate: 2023-03-02 02:00:00.000\n"
     ]
    },
    {
     "name": "stderr",
     "output_type": "stream",
     "text": [
      "  2%|▏         | 26/1463 [00:49<44:56,  1.88s/it]"
     ]
    },
    {
     "name": "stdout",
     "output_type": "stream",
     "text": [
      "Saved data\n",
      "\n",
      "idate: 2023-03-02 02:00:00.000 , fdate: 2023-03-02 03:00:00.000\n"
     ]
    },
    {
     "name": "stderr",
     "output_type": "stream",
     "text": [
      "  2%|▏         | 27/1463 [00:51<44:36,  1.86s/it]"
     ]
    },
    {
     "name": "stdout",
     "output_type": "stream",
     "text": [
      "Saved data\n",
      "\n",
      "idate: 2023-03-02 03:00:00.000 , fdate: 2023-03-02 04:00:00.000\n"
     ]
    },
    {
     "name": "stderr",
     "output_type": "stream",
     "text": [
      "  2%|▏         | 28/1463 [00:53<43:41,  1.83s/it]"
     ]
    },
    {
     "name": "stdout",
     "output_type": "stream",
     "text": [
      "Saved data\n",
      "\n",
      "idate: 2023-03-02 04:00:00.000 , fdate: 2023-03-02 05:00:00.000\n"
     ]
    },
    {
     "name": "stderr",
     "output_type": "stream",
     "text": [
      "  2%|▏         | 29/1463 [00:54<42:57,  1.80s/it]"
     ]
    },
    {
     "name": "stdout",
     "output_type": "stream",
     "text": [
      "Saved data\n",
      "\n",
      "idate: 2023-03-02 05:00:00.000 , fdate: 2023-03-02 06:00:00.000\n"
     ]
    },
    {
     "name": "stderr",
     "output_type": "stream",
     "text": [
      "  2%|▏         | 30/1463 [00:56<41:46,  1.75s/it]"
     ]
    },
    {
     "name": "stdout",
     "output_type": "stream",
     "text": [
      "Saved data\n",
      "\n",
      "idate: 2023-03-02 06:00:00.000 , fdate: 2023-03-02 07:00:00.000\n"
     ]
    },
    {
     "name": "stderr",
     "output_type": "stream",
     "text": [
      "  2%|▏         | 31/1463 [00:58<41:01,  1.72s/it]"
     ]
    },
    {
     "name": "stdout",
     "output_type": "stream",
     "text": [
      "Saved data\n",
      "\n",
      "idate: 2023-03-02 07:00:00.000 , fdate: 2023-03-02 08:00:00.000\n"
     ]
    },
    {
     "name": "stderr",
     "output_type": "stream",
     "text": [
      "  2%|▏         | 32/1463 [00:59<40:58,  1.72s/it]"
     ]
    },
    {
     "name": "stdout",
     "output_type": "stream",
     "text": [
      "Saved data\n",
      "\n",
      "idate: 2023-03-02 08:00:00.000 , fdate: 2023-03-02 09:00:00.000\n"
     ]
    },
    {
     "name": "stderr",
     "output_type": "stream",
     "text": [
      "  2%|▏         | 33/1463 [01:01<41:25,  1.74s/it]"
     ]
    },
    {
     "name": "stdout",
     "output_type": "stream",
     "text": [
      "Saved data\n",
      "\n",
      "idate: 2023-03-02 09:00:00.000 , fdate: 2023-03-02 10:00:00.000\n"
     ]
    },
    {
     "name": "stderr",
     "output_type": "stream",
     "text": [
      "  2%|▏         | 34/1463 [01:03<43:41,  1.83s/it]"
     ]
    },
    {
     "name": "stdout",
     "output_type": "stream",
     "text": [
      "Saved data\n",
      "\n",
      "idate: 2023-03-02 10:00:00.000 , fdate: 2023-03-02 11:00:00.000\n"
     ]
    },
    {
     "name": "stderr",
     "output_type": "stream",
     "text": [
      "  2%|▏         | 35/1463 [01:05<45:07,  1.90s/it]"
     ]
    },
    {
     "name": "stdout",
     "output_type": "stream",
     "text": [
      "Saved data\n",
      "\n",
      "idate: 2023-03-02 11:00:00.000 , fdate: 2023-03-02 12:00:00.000\n"
     ]
    },
    {
     "name": "stderr",
     "output_type": "stream",
     "text": [
      "  2%|▏         | 36/1463 [01:07<45:51,  1.93s/it]"
     ]
    },
    {
     "name": "stdout",
     "output_type": "stream",
     "text": [
      "Saved data\n",
      "\n",
      "idate: 2023-03-02 12:00:00.000 , fdate: 2023-03-02 13:00:00.000\n"
     ]
    },
    {
     "name": "stderr",
     "output_type": "stream",
     "text": [
      "  3%|▎         | 37/1463 [01:09<47:31,  2.00s/it]"
     ]
    },
    {
     "name": "stdout",
     "output_type": "stream",
     "text": [
      "Saved data\n",
      "\n",
      "idate: 2023-03-02 13:00:00.000 , fdate: 2023-03-02 14:00:00.000\n"
     ]
    },
    {
     "name": "stderr",
     "output_type": "stream",
     "text": [
      "  3%|▎         | 38/1463 [01:11<47:24,  2.00s/it]"
     ]
    },
    {
     "name": "stdout",
     "output_type": "stream",
     "text": [
      "Saved data\n",
      "\n",
      "idate: 2023-03-02 14:00:00.000 , fdate: 2023-03-02 15:00:00.000\n"
     ]
    },
    {
     "name": "stderr",
     "output_type": "stream",
     "text": [
      "  3%|▎         | 39/1463 [01:13<47:05,  1.98s/it]"
     ]
    },
    {
     "name": "stdout",
     "output_type": "stream",
     "text": [
      "Saved data\n",
      "\n",
      "idate: 2023-03-02 15:00:00.000 , fdate: 2023-03-02 16:00:00.000\n"
     ]
    },
    {
     "name": "stderr",
     "output_type": "stream",
     "text": [
      "  3%|▎         | 40/1463 [01:15<46:03,  1.94s/it]"
     ]
    },
    {
     "name": "stdout",
     "output_type": "stream",
     "text": [
      "Saved data\n",
      "\n",
      "idate: 2023-03-02 16:00:00.000 , fdate: 2023-03-02 17:00:00.000\n"
     ]
    },
    {
     "name": "stderr",
     "output_type": "stream",
     "text": [
      "  3%|▎         | 41/1463 [01:17<45:36,  1.92s/it]"
     ]
    },
    {
     "name": "stdout",
     "output_type": "stream",
     "text": [
      "Saved data\n",
      "\n",
      "idate: 2023-03-02 17:00:00.000 , fdate: 2023-03-02 18:00:00.000\n"
     ]
    },
    {
     "name": "stderr",
     "output_type": "stream",
     "text": [
      "  3%|▎         | 42/1463 [01:19<44:25,  1.88s/it]"
     ]
    },
    {
     "name": "stdout",
     "output_type": "stream",
     "text": [
      "Saved data\n",
      "\n",
      "idate: 2023-03-02 18:00:00.000 , fdate: 2023-03-02 19:00:00.000\n"
     ]
    },
    {
     "name": "stderr",
     "output_type": "stream",
     "text": [
      "  3%|▎         | 43/1463 [01:21<45:02,  1.90s/it]"
     ]
    },
    {
     "name": "stdout",
     "output_type": "stream",
     "text": [
      "Saved data\n",
      "\n",
      "idate: 2023-03-02 19:00:00.000 , fdate: 2023-03-02 20:00:00.000\n"
     ]
    },
    {
     "name": "stderr",
     "output_type": "stream",
     "text": [
      "  3%|▎         | 44/1463 [01:23<45:39,  1.93s/it]"
     ]
    },
    {
     "name": "stdout",
     "output_type": "stream",
     "text": [
      "Saved data\n",
      "\n",
      "idate: 2023-03-02 20:00:00.000 , fdate: 2023-03-02 21:00:00.000\n"
     ]
    },
    {
     "name": "stderr",
     "output_type": "stream",
     "text": [
      "  3%|▎         | 45/1463 [01:25<45:51,  1.94s/it]"
     ]
    },
    {
     "name": "stdout",
     "output_type": "stream",
     "text": [
      "Saved data\n",
      "\n",
      "idate: 2023-03-02 21:00:00.000 , fdate: 2023-03-02 22:00:00.000\n"
     ]
    },
    {
     "name": "stderr",
     "output_type": "stream",
     "text": [
      "  3%|▎         | 46/1463 [01:27<46:12,  1.96s/it]"
     ]
    },
    {
     "name": "stdout",
     "output_type": "stream",
     "text": [
      "Saved data\n",
      "\n",
      "idate: 2023-03-02 22:00:00.000 , fdate: 2023-03-02 23:00:00.000\n"
     ]
    },
    {
     "name": "stderr",
     "output_type": "stream",
     "text": [
      "  3%|▎         | 47/1463 [01:29<46:27,  1.97s/it]"
     ]
    },
    {
     "name": "stdout",
     "output_type": "stream",
     "text": [
      "Saved data\n",
      "\n",
      "idate: 2023-03-02 23:00:00.000 , fdate: 2023-03-03 00:00:00.000\n"
     ]
    },
    {
     "name": "stderr",
     "output_type": "stream",
     "text": [
      "  3%|▎         | 48/1463 [01:31<46:03,  1.95s/it]"
     ]
    },
    {
     "name": "stdout",
     "output_type": "stream",
     "text": [
      "Saved data\n",
      "\n",
      "idate: 2023-03-03 00:00:00.000 , fdate: 2023-03-03 01:00:00.000\n"
     ]
    },
    {
     "name": "stderr",
     "output_type": "stream",
     "text": [
      "  3%|▎         | 49/1463 [01:33<44:34,  1.89s/it]"
     ]
    },
    {
     "name": "stdout",
     "output_type": "stream",
     "text": [
      "Saved data\n",
      "\n",
      "idate: 2023-03-03 01:00:00.000 , fdate: 2023-03-03 02:00:00.000\n"
     ]
    },
    {
     "name": "stderr",
     "output_type": "stream",
     "text": [
      "  3%|▎         | 50/1463 [01:34<44:24,  1.89s/it]"
     ]
    },
    {
     "name": "stdout",
     "output_type": "stream",
     "text": [
      "Saved data\n",
      "\n",
      "idate: 2023-03-03 02:00:00.000 , fdate: 2023-03-03 03:00:00.000\n"
     ]
    },
    {
     "name": "stderr",
     "output_type": "stream",
     "text": [
      "  3%|▎         | 51/1463 [01:36<45:51,  1.95s/it]"
     ]
    },
    {
     "name": "stdout",
     "output_type": "stream",
     "text": [
      "Saved data\n",
      "\n",
      "idate: 2023-03-03 03:00:00.000 , fdate: 2023-03-03 04:00:00.000\n"
     ]
    },
    {
     "name": "stderr",
     "output_type": "stream",
     "text": [
      "  4%|▎         | 52/1463 [01:38<44:22,  1.89s/it]"
     ]
    },
    {
     "name": "stdout",
     "output_type": "stream",
     "text": [
      "Saved data\n",
      "\n",
      "idate: 2023-03-03 04:00:00.000 , fdate: 2023-03-03 05:00:00.000\n"
     ]
    },
    {
     "name": "stderr",
     "output_type": "stream",
     "text": [
      "  4%|▎         | 53/1463 [01:40<43:01,  1.83s/it]"
     ]
    },
    {
     "name": "stdout",
     "output_type": "stream",
     "text": [
      "Saved data\n",
      "\n",
      "idate: 2023-03-03 05:00:00.000 , fdate: 2023-03-03 06:00:00.000\n"
     ]
    },
    {
     "name": "stderr",
     "output_type": "stream",
     "text": [
      "  4%|▎         | 54/1463 [01:42<41:43,  1.78s/it]"
     ]
    },
    {
     "name": "stdout",
     "output_type": "stream",
     "text": [
      "Saved data\n",
      "\n",
      "idate: 2023-03-03 06:00:00.000 , fdate: 2023-03-03 07:00:00.000\n"
     ]
    },
    {
     "name": "stderr",
     "output_type": "stream",
     "text": [
      "  4%|▍         | 55/1463 [01:43<40:46,  1.74s/it]"
     ]
    },
    {
     "name": "stdout",
     "output_type": "stream",
     "text": [
      "Saved data\n",
      "\n",
      "idate: 2023-03-03 07:00:00.000 , fdate: 2023-03-03 08:00:00.000\n"
     ]
    },
    {
     "name": "stderr",
     "output_type": "stream",
     "text": [
      "  4%|▍         | 56/1463 [01:45<40:40,  1.73s/it]"
     ]
    },
    {
     "name": "stdout",
     "output_type": "stream",
     "text": [
      "Saved data\n",
      "\n",
      "idate: 2023-03-03 08:00:00.000 , fdate: 2023-03-03 09:00:00.000\n"
     ]
    },
    {
     "name": "stderr",
     "output_type": "stream",
     "text": [
      "  4%|▍         | 57/1463 [01:47<41:05,  1.75s/it]"
     ]
    },
    {
     "name": "stdout",
     "output_type": "stream",
     "text": [
      "Saved data\n",
      "\n",
      "idate: 2023-03-03 09:00:00.000 , fdate: 2023-03-03 10:00:00.000\n"
     ]
    },
    {
     "name": "stderr",
     "output_type": "stream",
     "text": [
      "  4%|▍         | 58/1463 [01:49<42:29,  1.81s/it]"
     ]
    },
    {
     "name": "stdout",
     "output_type": "stream",
     "text": [
      "Saved data\n",
      "\n",
      "idate: 2023-03-03 10:00:00.000 , fdate: 2023-03-03 11:00:00.000\n"
     ]
    },
    {
     "name": "stderr",
     "output_type": "stream",
     "text": [
      "  4%|▍         | 59/1463 [01:51<43:36,  1.86s/it]"
     ]
    },
    {
     "name": "stdout",
     "output_type": "stream",
     "text": [
      "Saved data\n",
      "\n",
      "idate: 2023-03-03 11:00:00.000 , fdate: 2023-03-03 12:00:00.000\n"
     ]
    },
    {
     "name": "stderr",
     "output_type": "stream",
     "text": [
      "  4%|▍         | 60/1463 [01:53<44:28,  1.90s/it]"
     ]
    },
    {
     "name": "stdout",
     "output_type": "stream",
     "text": [
      "Saved data\n",
      "\n",
      "idate: 2023-03-03 12:00:00.000 , fdate: 2023-03-03 13:00:00.000\n"
     ]
    },
    {
     "name": "stderr",
     "output_type": "stream",
     "text": [
      "  4%|▍         | 61/1463 [01:55<45:29,  1.95s/it]"
     ]
    },
    {
     "name": "stdout",
     "output_type": "stream",
     "text": [
      "Saved data\n",
      "\n",
      "idate: 2023-03-03 13:00:00.000 , fdate: 2023-03-03 14:00:00.000\n"
     ]
    },
    {
     "name": "stderr",
     "output_type": "stream",
     "text": [
      "  4%|▍         | 62/1463 [01:57<45:15,  1.94s/it]"
     ]
    },
    {
     "name": "stdout",
     "output_type": "stream",
     "text": [
      "Saved data\n",
      "\n",
      "idate: 2023-03-03 14:00:00.000 , fdate: 2023-03-03 15:00:00.000\n"
     ]
    },
    {
     "name": "stderr",
     "output_type": "stream",
     "text": [
      "  4%|▍         | 63/1463 [01:59<45:11,  1.94s/it]"
     ]
    },
    {
     "name": "stdout",
     "output_type": "stream",
     "text": [
      "Saved data\n",
      "\n",
      "idate: 2023-03-03 15:00:00.000 , fdate: 2023-03-03 16:00:00.000\n"
     ]
    },
    {
     "name": "stderr",
     "output_type": "stream",
     "text": [
      "  4%|▍         | 64/1463 [02:00<44:42,  1.92s/it]"
     ]
    },
    {
     "name": "stdout",
     "output_type": "stream",
     "text": [
      "Saved data\n",
      "\n",
      "idate: 2023-03-03 16:00:00.000 , fdate: 2023-03-03 17:00:00.000\n"
     ]
    },
    {
     "name": "stderr",
     "output_type": "stream",
     "text": [
      "  4%|▍         | 65/1463 [02:02<44:28,  1.91s/it]"
     ]
    },
    {
     "name": "stdout",
     "output_type": "stream",
     "text": [
      "Saved data\n",
      "\n",
      "idate: 2023-03-03 17:00:00.000 , fdate: 2023-03-03 18:00:00.000\n"
     ]
    },
    {
     "name": "stderr",
     "output_type": "stream",
     "text": [
      "  5%|▍         | 66/1463 [02:04<44:23,  1.91s/it]"
     ]
    },
    {
     "name": "stdout",
     "output_type": "stream",
     "text": [
      "Saved data\n",
      "\n",
      "idate: 2023-03-03 18:00:00.000 , fdate: 2023-03-03 19:00:00.000\n"
     ]
    },
    {
     "name": "stderr",
     "output_type": "stream",
     "text": [
      "  5%|▍         | 67/1463 [02:06<42:58,  1.85s/it]"
     ]
    },
    {
     "name": "stdout",
     "output_type": "stream",
     "text": [
      "Saved data\n",
      "\n",
      "idate: 2023-03-03 19:00:00.000 , fdate: 2023-03-03 20:00:00.000\n"
     ]
    },
    {
     "name": "stderr",
     "output_type": "stream",
     "text": [
      "  5%|▍         | 68/1463 [02:08<43:58,  1.89s/it]"
     ]
    },
    {
     "name": "stdout",
     "output_type": "stream",
     "text": [
      "Saved data\n",
      "\n",
      "idate: 2023-03-03 20:00:00.000 , fdate: 2023-03-03 21:00:00.000\n"
     ]
    },
    {
     "name": "stderr",
     "output_type": "stream",
     "text": [
      "  5%|▍         | 69/1463 [02:10<44:28,  1.91s/it]"
     ]
    },
    {
     "name": "stdout",
     "output_type": "stream",
     "text": [
      "Saved data\n",
      "\n",
      "idate: 2023-03-03 21:00:00.000 , fdate: 2023-03-03 22:00:00.000\n"
     ]
    },
    {
     "name": "stderr",
     "output_type": "stream",
     "text": [
      "  5%|▍         | 70/1463 [02:12<46:35,  2.01s/it]"
     ]
    },
    {
     "name": "stdout",
     "output_type": "stream",
     "text": [
      "Saved data\n",
      "\n",
      "idate: 2023-03-03 22:00:00.000 , fdate: 2023-03-03 23:00:00.000\n"
     ]
    },
    {
     "name": "stderr",
     "output_type": "stream",
     "text": [
      "  5%|▍         | 71/1463 [02:14<46:40,  2.01s/it]"
     ]
    },
    {
     "name": "stdout",
     "output_type": "stream",
     "text": [
      "Saved data\n",
      "\n",
      "idate: 2023-03-03 23:00:00.000 , fdate: 2023-03-04 00:00:00.000\n"
     ]
    },
    {
     "name": "stderr",
     "output_type": "stream",
     "text": [
      "  5%|▍         | 72/1463 [02:16<45:05,  1.95s/it]"
     ]
    },
    {
     "name": "stdout",
     "output_type": "stream",
     "text": [
      "Saved data\n",
      "\n",
      "idate: 2023-03-04 00:00:00.000 , fdate: 2023-03-04 01:00:00.000\n"
     ]
    },
    {
     "name": "stderr",
     "output_type": "stream",
     "text": [
      "  5%|▍         | 73/1463 [02:18<43:58,  1.90s/it]"
     ]
    },
    {
     "name": "stdout",
     "output_type": "stream",
     "text": [
      "Saved data\n",
      "\n",
      "idate: 2023-03-04 01:00:00.000 , fdate: 2023-03-04 02:00:00.000\n"
     ]
    },
    {
     "name": "stderr",
     "output_type": "stream",
     "text": [
      "  5%|▌         | 74/1463 [02:20<44:57,  1.94s/it]"
     ]
    },
    {
     "name": "stdout",
     "output_type": "stream",
     "text": [
      "Saved data\n",
      "\n",
      "idate: 2023-03-04 02:00:00.000 , fdate: 2023-03-04 03:00:00.000\n"
     ]
    },
    {
     "name": "stderr",
     "output_type": "stream",
     "text": [
      "  5%|▌         | 75/1463 [02:22<44:04,  1.90s/it]"
     ]
    },
    {
     "name": "stdout",
     "output_type": "stream",
     "text": [
      "Saved data\n",
      "\n",
      "idate: 2023-03-04 03:00:00.000 , fdate: 2023-03-04 04:00:00.000\n"
     ]
    },
    {
     "name": "stderr",
     "output_type": "stream",
     "text": [
      "  5%|▌         | 76/1463 [02:23<43:11,  1.87s/it]"
     ]
    },
    {
     "name": "stdout",
     "output_type": "stream",
     "text": [
      "Saved data\n",
      "\n",
      "idate: 2023-03-04 04:00:00.000 , fdate: 2023-03-04 05:00:00.000\n"
     ]
    },
    {
     "name": "stderr",
     "output_type": "stream",
     "text": [
      "  5%|▌         | 77/1463 [02:25<41:48,  1.81s/it]"
     ]
    },
    {
     "name": "stdout",
     "output_type": "stream",
     "text": [
      "Saved data\n",
      "\n",
      "idate: 2023-03-04 05:00:00.000 , fdate: 2023-03-04 06:00:00.000\n"
     ]
    },
    {
     "name": "stderr",
     "output_type": "stream",
     "text": [
      "  5%|▌         | 78/1463 [02:27<40:25,  1.75s/it]"
     ]
    },
    {
     "name": "stdout",
     "output_type": "stream",
     "text": [
      "Saved data\n",
      "\n",
      "idate: 2023-03-04 06:00:00.000 , fdate: 2023-03-04 07:00:00.000\n"
     ]
    },
    {
     "name": "stderr",
     "output_type": "stream",
     "text": [
      "  5%|▌         | 79/1463 [02:28<39:56,  1.73s/it]"
     ]
    },
    {
     "name": "stdout",
     "output_type": "stream",
     "text": [
      "Saved data\n",
      "\n",
      "idate: 2023-03-04 07:00:00.000 , fdate: 2023-03-04 08:00:00.000\n"
     ]
    },
    {
     "name": "stderr",
     "output_type": "stream",
     "text": [
      "  5%|▌         | 80/1463 [02:30<40:03,  1.74s/it]"
     ]
    },
    {
     "name": "stdout",
     "output_type": "stream",
     "text": [
      "Saved data\n",
      "\n",
      "idate: 2023-03-04 08:00:00.000 , fdate: 2023-03-04 09:00:00.000\n"
     ]
    },
    {
     "name": "stderr",
     "output_type": "stream",
     "text": [
      "  6%|▌         | 81/1463 [02:32<40:34,  1.76s/it]"
     ]
    },
    {
     "name": "stdout",
     "output_type": "stream",
     "text": [
      "Saved data\n",
      "\n",
      "idate: 2023-03-04 09:00:00.000 , fdate: 2023-03-04 10:00:00.000\n"
     ]
    },
    {
     "name": "stderr",
     "output_type": "stream",
     "text": [
      "  6%|▌         | 82/1463 [02:34<42:01,  1.83s/it]"
     ]
    },
    {
     "name": "stdout",
     "output_type": "stream",
     "text": [
      "Saved data\n",
      "\n",
      "idate: 2023-03-04 10:00:00.000 , fdate: 2023-03-04 11:00:00.000\n"
     ]
    },
    {
     "name": "stderr",
     "output_type": "stream",
     "text": [
      "  6%|▌         | 83/1463 [02:36<42:37,  1.85s/it]"
     ]
    },
    {
     "name": "stdout",
     "output_type": "stream",
     "text": [
      "Saved data\n",
      "\n",
      "idate: 2023-03-04 11:00:00.000 , fdate: 2023-03-04 12:00:00.000\n"
     ]
    },
    {
     "name": "stderr",
     "output_type": "stream",
     "text": [
      "  6%|▌         | 84/1463 [02:38<43:00,  1.87s/it]"
     ]
    },
    {
     "name": "stdout",
     "output_type": "stream",
     "text": [
      "Saved data\n",
      "\n",
      "idate: 2023-03-04 12:00:00.000 , fdate: 2023-03-04 13:00:00.000\n"
     ]
    },
    {
     "name": "stderr",
     "output_type": "stream",
     "text": [
      "  6%|▌         | 85/1463 [02:40<44:09,  1.92s/it]"
     ]
    },
    {
     "name": "stdout",
     "output_type": "stream",
     "text": [
      "Saved data\n",
      "\n",
      "idate: 2023-03-04 13:00:00.000 , fdate: 2023-03-04 14:00:00.000\n"
     ]
    },
    {
     "name": "stderr",
     "output_type": "stream",
     "text": [
      "  6%|▌         | 86/1463 [02:42<43:59,  1.92s/it]"
     ]
    },
    {
     "name": "stdout",
     "output_type": "stream",
     "text": [
      "Saved data\n",
      "\n",
      "idate: 2023-03-04 14:00:00.000 , fdate: 2023-03-04 15:00:00.000\n"
     ]
    },
    {
     "name": "stderr",
     "output_type": "stream",
     "text": [
      "  6%|▌         | 87/1463 [02:44<44:14,  1.93s/it]"
     ]
    },
    {
     "name": "stdout",
     "output_type": "stream",
     "text": [
      "Saved data\n",
      "\n",
      "idate: 2023-03-04 15:00:00.000 , fdate: 2023-03-04 16:00:00.000\n"
     ]
    },
    {
     "name": "stderr",
     "output_type": "stream",
     "text": [
      "  6%|▌         | 88/1463 [02:46<43:53,  1.92s/it]"
     ]
    },
    {
     "name": "stdout",
     "output_type": "stream",
     "text": [
      "Saved data\n",
      "\n",
      "idate: 2023-03-04 16:00:00.000 , fdate: 2023-03-04 17:00:00.000\n"
     ]
    },
    {
     "name": "stderr",
     "output_type": "stream",
     "text": [
      "  6%|▌         | 89/1463 [02:47<43:28,  1.90s/it]"
     ]
    },
    {
     "name": "stdout",
     "output_type": "stream",
     "text": [
      "Saved data\n",
      "\n",
      "idate: 2023-03-04 17:00:00.000 , fdate: 2023-03-04 18:00:00.000\n"
     ]
    },
    {
     "name": "stderr",
     "output_type": "stream",
     "text": [
      "  6%|▌         | 90/1463 [02:49<43:11,  1.89s/it]"
     ]
    },
    {
     "name": "stdout",
     "output_type": "stream",
     "text": [
      "Saved data\n",
      "\n",
      "idate: 2023-03-04 18:00:00.000 , fdate: 2023-03-04 19:00:00.000\n"
     ]
    },
    {
     "name": "stderr",
     "output_type": "stream",
     "text": [
      "  6%|▌         | 91/1463 [02:51<43:08,  1.89s/it]"
     ]
    },
    {
     "name": "stdout",
     "output_type": "stream",
     "text": [
      "Saved data\n",
      "\n",
      "idate: 2023-03-04 19:00:00.000 , fdate: 2023-03-04 20:00:00.000\n"
     ]
    },
    {
     "name": "stderr",
     "output_type": "stream",
     "text": [
      "  6%|▋         | 92/1463 [02:53<42:50,  1.88s/it]"
     ]
    },
    {
     "name": "stdout",
     "output_type": "stream",
     "text": [
      "Saved data\n",
      "\n",
      "idate: 2023-03-04 20:00:00.000 , fdate: 2023-03-04 21:00:00.000\n"
     ]
    },
    {
     "name": "stderr",
     "output_type": "stream",
     "text": [
      "  6%|▋         | 93/1463 [02:55<42:44,  1.87s/it]"
     ]
    },
    {
     "name": "stdout",
     "output_type": "stream",
     "text": [
      "Saved data\n",
      "\n",
      "idate: 2023-03-04 21:00:00.000 , fdate: 2023-03-04 22:00:00.000\n"
     ]
    },
    {
     "name": "stderr",
     "output_type": "stream",
     "text": [
      "  6%|▋         | 94/1463 [02:57<42:24,  1.86s/it]"
     ]
    },
    {
     "name": "stdout",
     "output_type": "stream",
     "text": [
      "Saved data\n",
      "\n",
      "idate: 2023-03-04 22:00:00.000 , fdate: 2023-03-04 23:00:00.000\n"
     ]
    },
    {
     "name": "stderr",
     "output_type": "stream",
     "text": [
      "  6%|▋         | 95/1463 [02:59<42:19,  1.86s/it]"
     ]
    },
    {
     "name": "stdout",
     "output_type": "stream",
     "text": [
      "Saved data\n",
      "\n",
      "idate: 2023-03-04 23:00:00.000 , fdate: 2023-03-05 00:00:00.000\n"
     ]
    },
    {
     "name": "stderr",
     "output_type": "stream",
     "text": [
      "  7%|▋         | 96/1463 [03:00<41:34,  1.82s/it]"
     ]
    },
    {
     "name": "stdout",
     "output_type": "stream",
     "text": [
      "Saved data\n",
      "\n",
      "idate: 2023-03-05 00:00:00.000 , fdate: 2023-03-05 01:00:00.000\n"
     ]
    },
    {
     "name": "stderr",
     "output_type": "stream",
     "text": [
      "  7%|▋         | 97/1463 [03:02<40:48,  1.79s/it]"
     ]
    },
    {
     "name": "stdout",
     "output_type": "stream",
     "text": [
      "Saved data\n",
      "\n",
      "idate: 2023-03-05 01:00:00.000 , fdate: 2023-03-05 02:00:00.000\n"
     ]
    },
    {
     "name": "stderr",
     "output_type": "stream",
     "text": [
      "  7%|▋         | 98/1463 [03:04<41:21,  1.82s/it]"
     ]
    },
    {
     "name": "stdout",
     "output_type": "stream",
     "text": [
      "Saved data\n",
      "\n",
      "idate: 2023-03-05 02:00:00.000 , fdate: 2023-03-05 03:00:00.000\n"
     ]
    },
    {
     "name": "stderr",
     "output_type": "stream",
     "text": [
      "  7%|▋         | 99/1463 [03:06<40:57,  1.80s/it]"
     ]
    },
    {
     "name": "stdout",
     "output_type": "stream",
     "text": [
      "Saved data\n",
      "\n",
      "idate: 2023-03-05 03:00:00.000 , fdate: 2023-03-05 04:00:00.000\n"
     ]
    },
    {
     "name": "stderr",
     "output_type": "stream",
     "text": [
      "  7%|▋         | 100/1463 [03:07<40:23,  1.78s/it]"
     ]
    },
    {
     "name": "stdout",
     "output_type": "stream",
     "text": [
      "Saved data\n",
      "\n",
      "idate: 2023-03-05 04:00:00.000 , fdate: 2023-03-05 05:00:00.000\n"
     ]
    },
    {
     "name": "stderr",
     "output_type": "stream",
     "text": [
      "  7%|▋         | 101/1463 [03:09<39:27,  1.74s/it]"
     ]
    },
    {
     "name": "stdout",
     "output_type": "stream",
     "text": [
      "Saved data\n",
      "\n",
      "idate: 2023-03-05 05:00:00.000 , fdate: 2023-03-05 06:00:00.000\n"
     ]
    },
    {
     "name": "stderr",
     "output_type": "stream",
     "text": [
      "  7%|▋         | 102/1463 [03:11<38:13,  1.69s/it]"
     ]
    },
    {
     "name": "stdout",
     "output_type": "stream",
     "text": [
      "Saved data\n",
      "\n",
      "idate: 2023-03-05 06:00:00.000 , fdate: 2023-03-05 07:00:00.000\n"
     ]
    },
    {
     "name": "stderr",
     "output_type": "stream",
     "text": [
      "  7%|▋         | 103/1463 [03:12<37:56,  1.67s/it]"
     ]
    },
    {
     "name": "stdout",
     "output_type": "stream",
     "text": [
      "Saved data\n",
      "\n",
      "idate: 2023-03-05 07:00:00.000 , fdate: 2023-03-05 08:00:00.000\n"
     ]
    },
    {
     "name": "stderr",
     "output_type": "stream",
     "text": [
      "  7%|▋         | 104/1463 [03:14<37:48,  1.67s/it]"
     ]
    },
    {
     "name": "stdout",
     "output_type": "stream",
     "text": [
      "Saved data\n",
      "\n",
      "idate: 2023-03-05 08:00:00.000 , fdate: 2023-03-05 09:00:00.000\n"
     ]
    },
    {
     "name": "stderr",
     "output_type": "stream",
     "text": [
      "  7%|▋         | 105/1463 [03:16<38:30,  1.70s/it]"
     ]
    },
    {
     "name": "stdout",
     "output_type": "stream",
     "text": [
      "Saved data\n",
      "\n",
      "idate: 2023-03-05 09:00:00.000 , fdate: 2023-03-05 10:00:00.000\n"
     ]
    },
    {
     "name": "stderr",
     "output_type": "stream",
     "text": [
      "  7%|▋         | 106/1463 [03:17<39:33,  1.75s/it]"
     ]
    },
    {
     "name": "stdout",
     "output_type": "stream",
     "text": [
      "Saved data\n",
      "\n",
      "idate: 2023-03-05 10:00:00.000 , fdate: 2023-03-05 11:00:00.000\n"
     ]
    },
    {
     "name": "stderr",
     "output_type": "stream",
     "text": [
      "  7%|▋         | 107/1463 [03:19<39:49,  1.76s/it]"
     ]
    },
    {
     "name": "stdout",
     "output_type": "stream",
     "text": [
      "Saved data\n",
      "\n",
      "idate: 2023-03-05 11:00:00.000 , fdate: 2023-03-05 12:00:00.000\n"
     ]
    },
    {
     "name": "stderr",
     "output_type": "stream",
     "text": [
      "  7%|▋         | 108/1463 [03:21<40:19,  1.79s/it]"
     ]
    },
    {
     "name": "stdout",
     "output_type": "stream",
     "text": [
      "Saved data\n",
      "\n",
      "idate: 2023-03-05 12:00:00.000 , fdate: 2023-03-05 13:00:00.000\n"
     ]
    },
    {
     "name": "stderr",
     "output_type": "stream",
     "text": [
      "  7%|▋         | 109/1463 [03:23<41:09,  1.82s/it]"
     ]
    },
    {
     "name": "stdout",
     "output_type": "stream",
     "text": [
      "Saved data\n",
      "\n",
      "idate: 2023-03-05 13:00:00.000 , fdate: 2023-03-05 14:00:00.000\n"
     ]
    },
    {
     "name": "stderr",
     "output_type": "stream",
     "text": [
      "  8%|▊         | 110/1463 [03:25<41:52,  1.86s/it]"
     ]
    },
    {
     "name": "stdout",
     "output_type": "stream",
     "text": [
      "Saved data\n",
      "\n",
      "idate: 2023-03-05 14:00:00.000 , fdate: 2023-03-05 15:00:00.000\n"
     ]
    },
    {
     "name": "stderr",
     "output_type": "stream",
     "text": [
      "  8%|▊         | 111/1463 [03:27<42:34,  1.89s/it]"
     ]
    },
    {
     "name": "stdout",
     "output_type": "stream",
     "text": [
      "Saved data\n",
      "\n",
      "idate: 2023-03-05 15:00:00.000 , fdate: 2023-03-05 16:00:00.000\n"
     ]
    },
    {
     "name": "stderr",
     "output_type": "stream",
     "text": [
      "  8%|▊         | 112/1463 [03:29<42:20,  1.88s/it]"
     ]
    },
    {
     "name": "stdout",
     "output_type": "stream",
     "text": [
      "Saved data\n",
      "\n",
      "idate: 2023-03-05 16:00:00.000 , fdate: 2023-03-05 17:00:00.000\n"
     ]
    },
    {
     "name": "stderr",
     "output_type": "stream",
     "text": [
      "  8%|▊         | 113/1463 [03:31<42:18,  1.88s/it]"
     ]
    },
    {
     "name": "stdout",
     "output_type": "stream",
     "text": [
      "Saved data\n",
      "\n",
      "idate: 2023-03-05 17:00:00.000 , fdate: 2023-03-05 18:00:00.000\n"
     ]
    },
    {
     "name": "stderr",
     "output_type": "stream",
     "text": [
      "  8%|▊         | 114/1463 [03:33<42:24,  1.89s/it]"
     ]
    },
    {
     "name": "stdout",
     "output_type": "stream",
     "text": [
      "Saved data\n",
      "\n",
      "idate: 2023-03-05 18:00:00.000 , fdate: 2023-03-05 19:00:00.000\n"
     ]
    },
    {
     "name": "stderr",
     "output_type": "stream",
     "text": [
      "  8%|▊         | 115/1463 [03:34<42:37,  1.90s/it]"
     ]
    },
    {
     "name": "stdout",
     "output_type": "stream",
     "text": [
      "Saved data\n",
      "\n",
      "idate: 2023-03-05 19:00:00.000 , fdate: 2023-03-05 20:00:00.000\n"
     ]
    },
    {
     "name": "stderr",
     "output_type": "stream",
     "text": [
      "  8%|▊         | 116/1463 [03:37<43:59,  1.96s/it]"
     ]
    },
    {
     "name": "stdout",
     "output_type": "stream",
     "text": [
      "Saved data\n",
      "\n",
      "idate: 2023-03-05 20:00:00.000 , fdate: 2023-03-05 21:00:00.000\n"
     ]
    },
    {
     "name": "stderr",
     "output_type": "stream",
     "text": [
      "  8%|▊         | 117/1463 [03:39<44:14,  1.97s/it]"
     ]
    },
    {
     "name": "stdout",
     "output_type": "stream",
     "text": [
      "Saved data\n",
      "\n",
      "idate: 2023-03-05 21:00:00.000 , fdate: 2023-03-05 22:00:00.000\n"
     ]
    },
    {
     "name": "stderr",
     "output_type": "stream",
     "text": [
      "  8%|▊         | 118/1463 [03:41<44:08,  1.97s/it]"
     ]
    },
    {
     "name": "stdout",
     "output_type": "stream",
     "text": [
      "Saved data\n",
      "\n",
      "idate: 2023-03-05 22:00:00.000 , fdate: 2023-03-05 23:00:00.000\n"
     ]
    },
    {
     "name": "stderr",
     "output_type": "stream",
     "text": [
      "  8%|▊         | 119/1463 [03:43<44:13,  1.97s/it]"
     ]
    },
    {
     "name": "stdout",
     "output_type": "stream",
     "text": [
      "Saved data\n",
      "\n",
      "idate: 2023-03-05 23:00:00.000 , fdate: 2023-03-06 00:00:00.000\n"
     ]
    },
    {
     "name": "stderr",
     "output_type": "stream",
     "text": [
      "  8%|▊         | 120/1463 [03:44<43:39,  1.95s/it]"
     ]
    },
    {
     "name": "stdout",
     "output_type": "stream",
     "text": [
      "Saved data\n",
      "\n",
      "idate: 2023-03-06 00:00:00.000 , fdate: 2023-03-06 01:00:00.000\n"
     ]
    },
    {
     "name": "stderr",
     "output_type": "stream",
     "text": [
      "  8%|▊         | 121/1463 [03:46<42:29,  1.90s/it]"
     ]
    },
    {
     "name": "stdout",
     "output_type": "stream",
     "text": [
      "Saved data\n",
      "\n",
      "idate: 2023-03-06 01:00:00.000 , fdate: 2023-03-06 02:00:00.000\n"
     ]
    },
    {
     "name": "stderr",
     "output_type": "stream",
     "text": [
      "  8%|▊         | 122/1463 [03:48<42:13,  1.89s/it]"
     ]
    },
    {
     "name": "stdout",
     "output_type": "stream",
     "text": [
      "Saved data\n",
      "\n",
      "idate: 2023-03-06 02:00:00.000 , fdate: 2023-03-06 03:00:00.000\n"
     ]
    },
    {
     "name": "stderr",
     "output_type": "stream",
     "text": [
      "  8%|▊         | 123/1463 [03:50<41:59,  1.88s/it]"
     ]
    },
    {
     "name": "stdout",
     "output_type": "stream",
     "text": [
      "Saved data\n",
      "\n",
      "idate: 2023-03-06 03:00:00.000 , fdate: 2023-03-06 04:00:00.000\n"
     ]
    },
    {
     "name": "stderr",
     "output_type": "stream",
     "text": [
      "  8%|▊         | 124/1463 [03:52<41:14,  1.85s/it]"
     ]
    },
    {
     "name": "stdout",
     "output_type": "stream",
     "text": [
      "Saved data\n",
      "\n",
      "idate: 2023-03-06 04:00:00.000 , fdate: 2023-03-06 05:00:00.000\n"
     ]
    },
    {
     "name": "stderr",
     "output_type": "stream",
     "text": [
      "  9%|▊         | 125/1463 [03:53<40:06,  1.80s/it]"
     ]
    },
    {
     "name": "stdout",
     "output_type": "stream",
     "text": [
      "Saved data\n",
      "\n",
      "idate: 2023-03-06 05:00:00.000 , fdate: 2023-03-06 06:00:00.000\n"
     ]
    },
    {
     "name": "stderr",
     "output_type": "stream",
     "text": [
      "  9%|▊         | 126/1463 [03:55<39:18,  1.76s/it]"
     ]
    },
    {
     "name": "stdout",
     "output_type": "stream",
     "text": [
      "Saved data\n",
      "\n",
      "idate: 2023-03-06 06:00:00.000 , fdate: 2023-03-06 07:00:00.000\n"
     ]
    },
    {
     "name": "stderr",
     "output_type": "stream",
     "text": [
      "  9%|▊         | 127/1463 [03:57<38:49,  1.74s/it]"
     ]
    },
    {
     "name": "stdout",
     "output_type": "stream",
     "text": [
      "Saved data\n",
      "\n",
      "idate: 2023-03-06 07:00:00.000 , fdate: 2023-03-06 08:00:00.000\n"
     ]
    },
    {
     "name": "stderr",
     "output_type": "stream",
     "text": [
      "  9%|▊         | 128/1463 [03:58<38:21,  1.72s/it]"
     ]
    },
    {
     "name": "stdout",
     "output_type": "stream",
     "text": [
      "Saved data\n",
      "\n",
      "idate: 2023-03-06 08:00:00.000 , fdate: 2023-03-06 09:00:00.000\n"
     ]
    },
    {
     "name": "stderr",
     "output_type": "stream",
     "text": [
      "  9%|▉         | 129/1463 [04:00<38:45,  1.74s/it]"
     ]
    },
    {
     "name": "stdout",
     "output_type": "stream",
     "text": [
      "Saved data\n",
      "\n",
      "idate: 2023-03-06 09:00:00.000 , fdate: 2023-03-06 10:00:00.000\n"
     ]
    },
    {
     "name": "stderr",
     "output_type": "stream",
     "text": [
      "  9%|▉         | 130/1463 [04:02<40:33,  1.83s/it]"
     ]
    },
    {
     "name": "stdout",
     "output_type": "stream",
     "text": [
      "Saved data\n",
      "\n",
      "idate: 2023-03-06 10:00:00.000 , fdate: 2023-03-06 11:00:00.000\n"
     ]
    },
    {
     "name": "stderr",
     "output_type": "stream",
     "text": [
      "  9%|▉         | 131/1463 [04:04<41:19,  1.86s/it]"
     ]
    },
    {
     "name": "stdout",
     "output_type": "stream",
     "text": [
      "Saved data\n",
      "\n",
      "idate: 2023-03-06 11:00:00.000 , fdate: 2023-03-06 12:00:00.000\n"
     ]
    },
    {
     "name": "stderr",
     "output_type": "stream",
     "text": [
      "  9%|▉         | 132/1463 [04:06<42:15,  1.91s/it]"
     ]
    },
    {
     "name": "stdout",
     "output_type": "stream",
     "text": [
      "Saved data\n",
      "\n",
      "idate: 2023-03-06 12:00:00.000 , fdate: 2023-03-06 13:00:00.000\n"
     ]
    },
    {
     "name": "stderr",
     "output_type": "stream",
     "text": [
      "  9%|▉         | 133/1463 [04:08<42:28,  1.92s/it]"
     ]
    },
    {
     "name": "stdout",
     "output_type": "stream",
     "text": [
      "Saved data\n",
      "\n",
      "idate: 2023-03-06 13:00:00.000 , fdate: 2023-03-06 14:00:00.000\n"
     ]
    },
    {
     "name": "stderr",
     "output_type": "stream",
     "text": [
      "  9%|▉         | 134/1463 [04:10<42:42,  1.93s/it]"
     ]
    },
    {
     "name": "stdout",
     "output_type": "stream",
     "text": [
      "Saved data\n",
      "\n",
      "idate: 2023-03-06 14:00:00.000 , fdate: 2023-03-06 15:00:00.000\n"
     ]
    },
    {
     "name": "stderr",
     "output_type": "stream",
     "text": [
      "  9%|▉         | 135/1463 [04:12<42:49,  1.93s/it]"
     ]
    },
    {
     "name": "stdout",
     "output_type": "stream",
     "text": [
      "Saved data\n",
      "\n",
      "idate: 2023-03-06 15:00:00.000 , fdate: 2023-03-06 16:00:00.000\n"
     ]
    },
    {
     "name": "stderr",
     "output_type": "stream",
     "text": [
      "  9%|▉         | 136/1463 [04:14<42:25,  1.92s/it]"
     ]
    },
    {
     "name": "stdout",
     "output_type": "stream",
     "text": [
      "Saved data\n",
      "\n",
      "idate: 2023-03-06 16:00:00.000 , fdate: 2023-03-06 17:00:00.000\n"
     ]
    },
    {
     "name": "stderr",
     "output_type": "stream",
     "text": [
      "  9%|▉         | 137/1463 [04:16<42:14,  1.91s/it]"
     ]
    },
    {
     "name": "stdout",
     "output_type": "stream",
     "text": [
      "Saved data\n",
      "\n",
      "idate: 2023-03-06 17:00:00.000 , fdate: 2023-03-06 18:00:00.000\n"
     ]
    },
    {
     "name": "stderr",
     "output_type": "stream",
     "text": [
      "  9%|▉         | 138/1463 [04:18<42:13,  1.91s/it]"
     ]
    },
    {
     "name": "stdout",
     "output_type": "stream",
     "text": [
      "Saved data\n",
      "\n",
      "idate: 2023-03-06 18:00:00.000 , fdate: 2023-03-06 19:00:00.000\n"
     ]
    },
    {
     "name": "stderr",
     "output_type": "stream",
     "text": [
      " 10%|▉         | 139/1463 [04:20<42:04,  1.91s/it]"
     ]
    },
    {
     "name": "stdout",
     "output_type": "stream",
     "text": [
      "Saved data\n",
      "\n",
      "idate: 2023-03-06 19:00:00.000 , fdate: 2023-03-06 20:00:00.000\n"
     ]
    },
    {
     "name": "stderr",
     "output_type": "stream",
     "text": [
      " 10%|▉         | 140/1463 [04:22<42:03,  1.91s/it]"
     ]
    },
    {
     "name": "stdout",
     "output_type": "stream",
     "text": [
      "Saved data\n",
      "\n",
      "idate: 2023-03-06 20:00:00.000 , fdate: 2023-03-06 21:00:00.000\n"
     ]
    },
    {
     "name": "stderr",
     "output_type": "stream",
     "text": [
      " 10%|▉         | 141/1463 [04:24<43:05,  1.96s/it]"
     ]
    },
    {
     "name": "stdout",
     "output_type": "stream",
     "text": [
      "Saved data\n",
      "\n",
      "idate: 2023-03-06 21:00:00.000 , fdate: 2023-03-06 22:00:00.000\n"
     ]
    },
    {
     "name": "stderr",
     "output_type": "stream",
     "text": [
      " 10%|▉         | 142/1463 [04:25<41:52,  1.90s/it]"
     ]
    },
    {
     "name": "stdout",
     "output_type": "stream",
     "text": [
      "Saved data\n",
      "\n",
      "idate: 2023-03-06 22:00:00.000 , fdate: 2023-03-06 23:00:00.000\n"
     ]
    },
    {
     "name": "stderr",
     "output_type": "stream",
     "text": [
      " 10%|▉         | 143/1463 [04:27<40:31,  1.84s/it]"
     ]
    },
    {
     "name": "stdout",
     "output_type": "stream",
     "text": [
      "Saved data\n",
      "\n",
      "idate: 2023-03-06 23:00:00.000 , fdate: 2023-03-07 00:00:00.000\n"
     ]
    },
    {
     "name": "stderr",
     "output_type": "stream",
     "text": [
      " 10%|▉         | 144/1463 [04:29<38:51,  1.77s/it]"
     ]
    },
    {
     "name": "stdout",
     "output_type": "stream",
     "text": [
      "Saved data\n",
      "\n",
      "idate: 2023-03-07 00:00:00.000 , fdate: 2023-03-07 01:00:00.000\n"
     ]
    },
    {
     "name": "stderr",
     "output_type": "stream",
     "text": [
      " 10%|▉         | 145/1463 [04:30<37:32,  1.71s/it]"
     ]
    },
    {
     "name": "stdout",
     "output_type": "stream",
     "text": [
      "Saved data\n",
      "\n",
      "idate: 2023-03-07 01:00:00.000 , fdate: 2023-03-07 02:00:00.000\n"
     ]
    },
    {
     "name": "stderr",
     "output_type": "stream",
     "text": [
      " 10%|▉         | 146/1463 [04:32<36:45,  1.67s/it]"
     ]
    },
    {
     "name": "stdout",
     "output_type": "stream",
     "text": [
      "\n",
      "idate: 2023-03-07 02:00:00.000 , fdate: 2023-03-07 03:00:00.000\n"
     ]
    },
    {
     "name": "stderr",
     "output_type": "stream",
     "text": [
      " 10%|█         | 147/1463 [04:33<36:10,  1.65s/it]"
     ]
    },
    {
     "name": "stdout",
     "output_type": "stream",
     "text": [
      "Saved data\n",
      "\n",
      "idate: 2023-03-07 03:00:00.000 , fdate: 2023-03-07 04:00:00.000\n"
     ]
    },
    {
     "name": "stderr",
     "output_type": "stream",
     "text": [
      " 10%|█         | 148/1463 [04:35<36:53,  1.68s/it]"
     ]
    },
    {
     "name": "stdout",
     "output_type": "stream",
     "text": [
      "Saved data\n",
      "\n",
      "idate: 2023-03-07 04:00:00.000 , fdate: 2023-03-07 05:00:00.000\n"
     ]
    },
    {
     "name": "stderr",
     "output_type": "stream",
     "text": [
      " 10%|█         | 149/1463 [04:37<36:19,  1.66s/it]"
     ]
    },
    {
     "name": "stdout",
     "output_type": "stream",
     "text": [
      "Saved data\n",
      "\n",
      "idate: 2023-03-07 05:00:00.000 , fdate: 2023-03-07 06:00:00.000\n"
     ]
    },
    {
     "name": "stderr",
     "output_type": "stream",
     "text": [
      " 10%|█         | 150/1463 [04:38<36:01,  1.65s/it]"
     ]
    },
    {
     "name": "stdout",
     "output_type": "stream",
     "text": [
      "Saved data\n",
      "\n",
      "idate: 2023-03-07 06:00:00.000 , fdate: 2023-03-07 07:00:00.000\n"
     ]
    },
    {
     "name": "stderr",
     "output_type": "stream",
     "text": [
      " 10%|█         | 151/1463 [04:40<35:58,  1.65s/it]"
     ]
    },
    {
     "name": "stdout",
     "output_type": "stream",
     "text": [
      "Saved data\n",
      "\n",
      "idate: 2023-03-07 07:00:00.000 , fdate: 2023-03-07 08:00:00.000\n"
     ]
    },
    {
     "name": "stderr",
     "output_type": "stream",
     "text": [
      " 10%|█         | 152/1463 [04:42<36:02,  1.65s/it]"
     ]
    },
    {
     "name": "stdout",
     "output_type": "stream",
     "text": [
      "Saved data\n",
      "\n",
      "idate: 2023-03-07 08:00:00.000 , fdate: 2023-03-07 09:00:00.000\n"
     ]
    },
    {
     "name": "stderr",
     "output_type": "stream",
     "text": [
      " 10%|█         | 153/1463 [04:44<36:54,  1.69s/it]"
     ]
    },
    {
     "name": "stdout",
     "output_type": "stream",
     "text": [
      "Saved data\n",
      "\n",
      "idate: 2023-03-07 09:00:00.000 , fdate: 2023-03-07 10:00:00.000\n"
     ]
    },
    {
     "name": "stderr",
     "output_type": "stream",
     "text": [
      " 11%|█         | 154/1463 [04:46<39:15,  1.80s/it]"
     ]
    },
    {
     "name": "stdout",
     "output_type": "stream",
     "text": [
      "Saved data\n",
      "\n",
      "idate: 2023-03-07 10:00:00.000 , fdate: 2023-03-07 11:00:00.000\n"
     ]
    },
    {
     "name": "stderr",
     "output_type": "stream",
     "text": [
      " 11%|█         | 155/1463 [04:48<40:17,  1.85s/it]"
     ]
    },
    {
     "name": "stdout",
     "output_type": "stream",
     "text": [
      "Saved data\n",
      "\n",
      "idate: 2023-03-07 11:00:00.000 , fdate: 2023-03-07 12:00:00.000\n"
     ]
    },
    {
     "name": "stderr",
     "output_type": "stream",
     "text": [
      " 11%|█         | 156/1463 [04:49<40:41,  1.87s/it]"
     ]
    },
    {
     "name": "stdout",
     "output_type": "stream",
     "text": [
      "Saved data\n",
      "\n",
      "idate: 2023-03-07 12:00:00.000 , fdate: 2023-03-07 13:00:00.000\n"
     ]
    },
    {
     "name": "stderr",
     "output_type": "stream",
     "text": [
      " 11%|█         | 157/1463 [04:52<42:09,  1.94s/it]"
     ]
    },
    {
     "name": "stdout",
     "output_type": "stream",
     "text": [
      "Saved data\n",
      "\n",
      "idate: 2023-03-07 13:00:00.000 , fdate: 2023-03-07 14:00:00.000\n"
     ]
    },
    {
     "name": "stderr",
     "output_type": "stream",
     "text": [
      " 11%|█         | 158/1463 [04:54<42:33,  1.96s/it]"
     ]
    },
    {
     "name": "stdout",
     "output_type": "stream",
     "text": [
      "Saved data\n",
      "\n",
      "idate: 2023-03-07 14:00:00.000 , fdate: 2023-03-07 15:00:00.000\n"
     ]
    },
    {
     "name": "stderr",
     "output_type": "stream",
     "text": [
      " 11%|█         | 159/1463 [04:55<42:14,  1.94s/it]"
     ]
    },
    {
     "name": "stdout",
     "output_type": "stream",
     "text": [
      "Saved data\n",
      "\n",
      "idate: 2023-03-07 15:00:00.000 , fdate: 2023-03-07 16:00:00.000\n"
     ]
    },
    {
     "name": "stderr",
     "output_type": "stream",
     "text": [
      " 11%|█         | 160/1463 [04:57<42:14,  1.95s/it]"
     ]
    },
    {
     "name": "stdout",
     "output_type": "stream",
     "text": [
      "Saved data\n",
      "\n",
      "idate: 2023-03-07 16:00:00.000 , fdate: 2023-03-07 17:00:00.000\n"
     ]
    },
    {
     "name": "stderr",
     "output_type": "stream",
     "text": [
      " 11%|█         | 161/1463 [04:59<41:57,  1.93s/it]"
     ]
    },
    {
     "name": "stdout",
     "output_type": "stream",
     "text": [
      "Saved data\n",
      "\n",
      "idate: 2023-03-07 17:00:00.000 , fdate: 2023-03-07 18:00:00.000\n"
     ]
    },
    {
     "name": "stderr",
     "output_type": "stream",
     "text": [
      " 11%|█         | 162/1463 [05:01<41:48,  1.93s/it]"
     ]
    },
    {
     "name": "stdout",
     "output_type": "stream",
     "text": [
      "Saved data\n",
      "\n",
      "idate: 2023-03-07 18:00:00.000 , fdate: 2023-03-07 19:00:00.000\n"
     ]
    },
    {
     "name": "stderr",
     "output_type": "stream",
     "text": [
      " 11%|█         | 163/1463 [05:03<42:58,  1.98s/it]"
     ]
    },
    {
     "name": "stdout",
     "output_type": "stream",
     "text": [
      "Saved data\n",
      "\n",
      "idate: 2023-03-07 19:00:00.000 , fdate: 2023-03-07 20:00:00.000\n"
     ]
    },
    {
     "name": "stderr",
     "output_type": "stream",
     "text": [
      " 11%|█         | 164/1463 [05:05<42:06,  1.94s/it]"
     ]
    },
    {
     "name": "stdout",
     "output_type": "stream",
     "text": [
      "Saved data\n",
      "\n",
      "idate: 2023-03-07 20:00:00.000 , fdate: 2023-03-07 21:00:00.000\n"
     ]
    },
    {
     "name": "stderr",
     "output_type": "stream",
     "text": [
      " 11%|█▏        | 165/1463 [05:07<42:25,  1.96s/it]"
     ]
    },
    {
     "name": "stdout",
     "output_type": "stream",
     "text": [
      "Saved data\n",
      "\n",
      "idate: 2023-03-07 21:00:00.000 , fdate: 2023-03-07 22:00:00.000\n"
     ]
    },
    {
     "name": "stderr",
     "output_type": "stream",
     "text": [
      " 11%|█▏        | 166/1463 [05:09<41:29,  1.92s/it]"
     ]
    },
    {
     "name": "stdout",
     "output_type": "stream",
     "text": [
      "Saved data\n",
      "\n",
      "idate: 2023-03-07 22:00:00.000 , fdate: 2023-03-07 23:00:00.000\n"
     ]
    },
    {
     "name": "stderr",
     "output_type": "stream",
     "text": [
      " 11%|█▏        | 167/1463 [05:11<40:49,  1.89s/it]"
     ]
    },
    {
     "name": "stdout",
     "output_type": "stream",
     "text": [
      "Saved data\n",
      "\n",
      "idate: 2023-03-07 23:00:00.000 , fdate: 2023-03-08 00:00:00.000\n"
     ]
    },
    {
     "name": "stderr",
     "output_type": "stream",
     "text": [
      " 11%|█▏        | 168/1463 [05:13<39:22,  1.82s/it]"
     ]
    },
    {
     "name": "stdout",
     "output_type": "stream",
     "text": [
      "Saved data\n",
      "\n",
      "idate: 2023-03-08 00:00:00.000 , fdate: 2023-03-08 01:00:00.000\n"
     ]
    },
    {
     "name": "stderr",
     "output_type": "stream",
     "text": [
      " 12%|█▏        | 169/1463 [05:14<38:20,  1.78s/it]"
     ]
    },
    {
     "name": "stdout",
     "output_type": "stream",
     "text": [
      "Saved data\n",
      "\n",
      "idate: 2023-03-08 01:00:00.000 , fdate: 2023-03-08 02:00:00.000\n"
     ]
    },
    {
     "name": "stderr",
     "output_type": "stream",
     "text": [
      " 12%|█▏        | 170/1463 [05:16<37:38,  1.75s/it]"
     ]
    },
    {
     "name": "stdout",
     "output_type": "stream",
     "text": [
      "Saved data\n",
      "\n",
      "idate: 2023-03-08 02:00:00.000 , fdate: 2023-03-08 03:00:00.000\n"
     ]
    },
    {
     "name": "stderr",
     "output_type": "stream",
     "text": [
      " 12%|█▏        | 171/1463 [05:17<36:41,  1.70s/it]"
     ]
    },
    {
     "name": "stdout",
     "output_type": "stream",
     "text": [
      "\n",
      "idate: 2023-03-08 03:00:00.000 , fdate: 2023-03-08 04:00:00.000\n"
     ]
    },
    {
     "name": "stderr",
     "output_type": "stream",
     "text": [
      " 12%|█▏        | 172/1463 [05:19<35:55,  1.67s/it]"
     ]
    },
    {
     "name": "stdout",
     "output_type": "stream",
     "text": [
      "Saved data\n",
      "\n",
      "idate: 2023-03-08 04:00:00.000 , fdate: 2023-03-08 05:00:00.000\n"
     ]
    },
    {
     "name": "stderr",
     "output_type": "stream",
     "text": [
      " 12%|█▏        | 173/1463 [05:21<35:46,  1.66s/it]"
     ]
    },
    {
     "name": "stdout",
     "output_type": "stream",
     "text": [
      "Saved data\n",
      "\n",
      "idate: 2023-03-08 05:00:00.000 , fdate: 2023-03-08 06:00:00.000\n"
     ]
    },
    {
     "name": "stderr",
     "output_type": "stream",
     "text": [
      " 12%|█▏        | 174/1463 [05:22<35:24,  1.65s/it]"
     ]
    },
    {
     "name": "stdout",
     "output_type": "stream",
     "text": [
      "Saved data\n",
      "\n",
      "idate: 2023-03-08 06:00:00.000 , fdate: 2023-03-08 07:00:00.000\n"
     ]
    },
    {
     "name": "stderr",
     "output_type": "stream",
     "text": [
      " 12%|█▏        | 175/1463 [05:24<35:17,  1.64s/it]"
     ]
    },
    {
     "name": "stdout",
     "output_type": "stream",
     "text": [
      "Saved data\n",
      "\n",
      "idate: 2023-03-08 07:00:00.000 , fdate: 2023-03-08 08:00:00.000\n"
     ]
    },
    {
     "name": "stderr",
     "output_type": "stream",
     "text": [
      " 12%|█▏        | 176/1463 [05:26<35:19,  1.65s/it]"
     ]
    },
    {
     "name": "stdout",
     "output_type": "stream",
     "text": [
      "Saved data\n",
      "\n",
      "idate: 2023-03-08 08:00:00.000 , fdate: 2023-03-08 09:00:00.000\n"
     ]
    },
    {
     "name": "stderr",
     "output_type": "stream",
     "text": [
      " 12%|█▏        | 177/1463 [05:27<35:55,  1.68s/it]"
     ]
    },
    {
     "name": "stdout",
     "output_type": "stream",
     "text": [
      "Saved data\n",
      "\n",
      "idate: 2023-03-08 09:00:00.000 , fdate: 2023-03-08 10:00:00.000\n"
     ]
    },
    {
     "name": "stderr",
     "output_type": "stream",
     "text": [
      " 12%|█▏        | 178/1463 [05:29<36:29,  1.70s/it]"
     ]
    },
    {
     "name": "stdout",
     "output_type": "stream",
     "text": [
      "Saved data\n",
      "\n",
      "idate: 2023-03-08 10:00:00.000 , fdate: 2023-03-08 11:00:00.000\n"
     ]
    },
    {
     "name": "stderr",
     "output_type": "stream",
     "text": [
      " 12%|█▏        | 179/1463 [05:31<37:25,  1.75s/it]"
     ]
    },
    {
     "name": "stdout",
     "output_type": "stream",
     "text": [
      "Saved data\n",
      "\n",
      "idate: 2023-03-08 11:00:00.000 , fdate: 2023-03-08 12:00:00.000\n"
     ]
    },
    {
     "name": "stderr",
     "output_type": "stream",
     "text": [
      " 12%|█▏        | 180/1463 [05:33<38:20,  1.79s/it]"
     ]
    },
    {
     "name": "stdout",
     "output_type": "stream",
     "text": [
      "Saved data\n",
      "\n",
      "idate: 2023-03-08 12:00:00.000 , fdate: 2023-03-08 13:00:00.000\n"
     ]
    },
    {
     "name": "stderr",
     "output_type": "stream",
     "text": [
      " 12%|█▏        | 181/1463 [05:35<38:24,  1.80s/it]"
     ]
    },
    {
     "name": "stdout",
     "output_type": "stream",
     "text": [
      "Saved data\n",
      "\n",
      "idate: 2023-03-08 13:00:00.000 , fdate: 2023-03-08 14:00:00.000\n"
     ]
    },
    {
     "name": "stderr",
     "output_type": "stream",
     "text": [
      " 12%|█▏        | 182/1463 [05:36<38:01,  1.78s/it]"
     ]
    },
    {
     "name": "stdout",
     "output_type": "stream",
     "text": [
      "Saved data\n",
      "\n",
      "idate: 2023-03-08 14:00:00.000 , fdate: 2023-03-08 15:00:00.000\n"
     ]
    },
    {
     "name": "stderr",
     "output_type": "stream",
     "text": [
      " 13%|█▎        | 183/1463 [05:38<38:57,  1.83s/it]"
     ]
    },
    {
     "name": "stdout",
     "output_type": "stream",
     "text": [
      "Saved data\n",
      "\n",
      "idate: 2023-03-08 15:00:00.000 , fdate: 2023-03-08 16:00:00.000\n"
     ]
    },
    {
     "name": "stderr",
     "output_type": "stream",
     "text": [
      " 13%|█▎        | 184/1463 [05:40<39:19,  1.84s/it]"
     ]
    },
    {
     "name": "stdout",
     "output_type": "stream",
     "text": [
      "Saved data\n",
      "\n",
      "idate: 2023-03-08 16:00:00.000 , fdate: 2023-03-08 17:00:00.000\n"
     ]
    },
    {
     "name": "stderr",
     "output_type": "stream",
     "text": [
      " 13%|█▎        | 185/1463 [05:42<39:00,  1.83s/it]"
     ]
    },
    {
     "name": "stdout",
     "output_type": "stream",
     "text": [
      "Saved data\n",
      "\n",
      "idate: 2023-03-08 17:00:00.000 , fdate: 2023-03-08 18:00:00.000\n"
     ]
    },
    {
     "name": "stderr",
     "output_type": "stream",
     "text": [
      " 13%|█▎        | 186/1463 [05:44<38:43,  1.82s/it]"
     ]
    },
    {
     "name": "stdout",
     "output_type": "stream",
     "text": [
      "Saved data\n",
      "\n",
      "idate: 2023-03-08 18:00:00.000 , fdate: 2023-03-08 19:00:00.000\n"
     ]
    },
    {
     "name": "stderr",
     "output_type": "stream",
     "text": [
      " 13%|█▎        | 187/1463 [05:46<38:38,  1.82s/it]"
     ]
    },
    {
     "name": "stdout",
     "output_type": "stream",
     "text": [
      "Saved data\n",
      "\n",
      "idate: 2023-03-08 19:00:00.000 , fdate: 2023-03-08 20:00:00.000\n"
     ]
    },
    {
     "name": "stderr",
     "output_type": "stream",
     "text": [
      " 13%|█▎        | 188/1463 [05:47<38:12,  1.80s/it]"
     ]
    },
    {
     "name": "stdout",
     "output_type": "stream",
     "text": [
      "Saved data\n",
      "\n",
      "idate: 2023-03-08 20:00:00.000 , fdate: 2023-03-08 21:00:00.000\n"
     ]
    },
    {
     "name": "stderr",
     "output_type": "stream",
     "text": [
      " 13%|█▎        | 189/1463 [05:49<38:48,  1.83s/it]"
     ]
    },
    {
     "name": "stdout",
     "output_type": "stream",
     "text": [
      "Saved data\n",
      "\n",
      "idate: 2023-03-08 21:00:00.000 , fdate: 2023-03-08 22:00:00.000\n"
     ]
    },
    {
     "name": "stderr",
     "output_type": "stream",
     "text": [
      " 13%|█▎        | 190/1463 [05:51<39:52,  1.88s/it]"
     ]
    },
    {
     "name": "stdout",
     "output_type": "stream",
     "text": [
      "Saved data\n",
      "\n",
      "idate: 2023-03-08 22:00:00.000 , fdate: 2023-03-08 23:00:00.000\n"
     ]
    },
    {
     "name": "stderr",
     "output_type": "stream",
     "text": [
      " 13%|█▎        | 191/1463 [05:53<40:39,  1.92s/it]"
     ]
    },
    {
     "name": "stdout",
     "output_type": "stream",
     "text": [
      "Saved data\n",
      "\n",
      "idate: 2023-03-08 23:00:00.000 , fdate: 2023-03-09 00:00:00.000\n"
     ]
    },
    {
     "name": "stderr",
     "output_type": "stream",
     "text": [
      " 13%|█▎        | 192/1463 [05:55<40:14,  1.90s/it]"
     ]
    },
    {
     "name": "stdout",
     "output_type": "stream",
     "text": [
      "Saved data\n",
      "\n",
      "idate: 2023-03-09 00:00:00.000 , fdate: 2023-03-09 01:00:00.000\n"
     ]
    },
    {
     "name": "stderr",
     "output_type": "stream",
     "text": [
      " 13%|█▎        | 193/1463 [05:57<39:22,  1.86s/it]"
     ]
    },
    {
     "name": "stdout",
     "output_type": "stream",
     "text": [
      "Saved data\n",
      "\n",
      "idate: 2023-03-09 01:00:00.000 , fdate: 2023-03-09 02:00:00.000\n"
     ]
    },
    {
     "name": "stderr",
     "output_type": "stream",
     "text": [
      " 13%|█▎        | 194/1463 [05:59<39:14,  1.86s/it]"
     ]
    },
    {
     "name": "stdout",
     "output_type": "stream",
     "text": [
      "Saved data\n",
      "\n",
      "idate: 2023-03-09 02:00:00.000 , fdate: 2023-03-09 03:00:00.000\n"
     ]
    },
    {
     "name": "stderr",
     "output_type": "stream",
     "text": [
      " 13%|█▎        | 195/1463 [06:01<40:02,  1.89s/it]"
     ]
    },
    {
     "name": "stdout",
     "output_type": "stream",
     "text": [
      "Saved data\n",
      "\n",
      "idate: 2023-03-09 03:00:00.000 , fdate: 2023-03-09 04:00:00.000\n"
     ]
    },
    {
     "name": "stderr",
     "output_type": "stream",
     "text": [
      " 13%|█▎        | 196/1463 [06:03<40:35,  1.92s/it]"
     ]
    },
    {
     "name": "stdout",
     "output_type": "stream",
     "text": [
      "Saved data\n",
      "\n",
      "idate: 2023-03-09 04:00:00.000 , fdate: 2023-03-09 05:00:00.000\n"
     ]
    },
    {
     "name": "stderr",
     "output_type": "stream",
     "text": [
      " 13%|█▎        | 197/1463 [06:04<39:04,  1.85s/it]"
     ]
    },
    {
     "name": "stdout",
     "output_type": "stream",
     "text": [
      "Saved data\n",
      "\n",
      "idate: 2023-03-09 05:00:00.000 , fdate: 2023-03-09 06:00:00.000\n"
     ]
    },
    {
     "name": "stderr",
     "output_type": "stream",
     "text": [
      " 14%|█▎        | 198/1463 [06:06<37:42,  1.79s/it]"
     ]
    },
    {
     "name": "stdout",
     "output_type": "stream",
     "text": [
      "Saved data\n",
      "\n",
      "idate: 2023-03-09 06:00:00.000 , fdate: 2023-03-09 07:00:00.000\n"
     ]
    },
    {
     "name": "stderr",
     "output_type": "stream",
     "text": [
      " 14%|█▎        | 199/1463 [06:08<36:47,  1.75s/it]"
     ]
    },
    {
     "name": "stdout",
     "output_type": "stream",
     "text": [
      "Saved data\n",
      "\n",
      "idate: 2023-03-09 07:00:00.000 , fdate: 2023-03-09 08:00:00.000\n"
     ]
    },
    {
     "name": "stderr",
     "output_type": "stream",
     "text": [
      " 14%|█▎        | 200/1463 [06:09<36:52,  1.75s/it]"
     ]
    },
    {
     "name": "stdout",
     "output_type": "stream",
     "text": [
      "Saved data\n",
      "\n",
      "idate: 2023-03-09 08:00:00.000 , fdate: 2023-03-09 09:00:00.000\n"
     ]
    },
    {
     "name": "stderr",
     "output_type": "stream",
     "text": [
      " 14%|█▎        | 201/1463 [06:11<37:37,  1.79s/it]"
     ]
    },
    {
     "name": "stdout",
     "output_type": "stream",
     "text": [
      "Saved data\n",
      "\n",
      "idate: 2023-03-09 09:00:00.000 , fdate: 2023-03-09 10:00:00.000\n"
     ]
    },
    {
     "name": "stderr",
     "output_type": "stream",
     "text": [
      " 14%|█▍        | 202/1463 [06:13<39:35,  1.88s/it]"
     ]
    },
    {
     "name": "stdout",
     "output_type": "stream",
     "text": [
      "Saved data\n",
      "\n",
      "idate: 2023-03-09 10:00:00.000 , fdate: 2023-03-09 11:00:00.000\n"
     ]
    },
    {
     "name": "stderr",
     "output_type": "stream",
     "text": [
      " 14%|█▍        | 203/1463 [06:16<40:29,  1.93s/it]"
     ]
    },
    {
     "name": "stdout",
     "output_type": "stream",
     "text": [
      "Saved data\n",
      "\n",
      "idate: 2023-03-09 11:00:00.000 , fdate: 2023-03-09 12:00:00.000\n"
     ]
    },
    {
     "name": "stderr",
     "output_type": "stream",
     "text": [
      " 14%|█▍        | 204/1463 [06:17<39:34,  1.89s/it]"
     ]
    },
    {
     "name": "stdout",
     "output_type": "stream",
     "text": [
      "Saved data\n",
      "\n",
      "idate: 2023-03-09 12:00:00.000 , fdate: 2023-03-09 13:00:00.000\n"
     ]
    },
    {
     "name": "stderr",
     "output_type": "stream",
     "text": [
      " 14%|█▍        | 205/1463 [06:19<37:43,  1.80s/it]"
     ]
    },
    {
     "name": "stdout",
     "output_type": "stream",
     "text": [
      "Saved data\n",
      "\n",
      "idate: 2023-03-09 13:00:00.000 , fdate: 2023-03-09 14:00:00.000\n"
     ]
    },
    {
     "name": "stderr",
     "output_type": "stream",
     "text": [
      " 14%|█▍        | 206/1463 [06:21<38:27,  1.84s/it]"
     ]
    },
    {
     "name": "stdout",
     "output_type": "stream",
     "text": [
      "Saved data\n",
      "\n",
      "idate: 2023-03-09 14:00:00.000 , fdate: 2023-03-09 15:00:00.000\n"
     ]
    },
    {
     "name": "stderr",
     "output_type": "stream",
     "text": [
      " 14%|█▍        | 207/1463 [06:23<39:02,  1.86s/it]"
     ]
    },
    {
     "name": "stdout",
     "output_type": "stream",
     "text": [
      "Saved data\n",
      "\n",
      "idate: 2023-03-09 15:00:00.000 , fdate: 2023-03-09 16:00:00.000\n"
     ]
    },
    {
     "name": "stderr",
     "output_type": "stream",
     "text": [
      " 14%|█▍        | 208/1463 [06:24<38:03,  1.82s/it]"
     ]
    },
    {
     "name": "stdout",
     "output_type": "stream",
     "text": [
      "Saved data\n",
      "\n",
      "idate: 2023-03-09 16:00:00.000 , fdate: 2023-03-09 17:00:00.000\n"
     ]
    },
    {
     "name": "stderr",
     "output_type": "stream",
     "text": [
      " 14%|█▍        | 209/1463 [06:27<40:00,  1.91s/it]"
     ]
    },
    {
     "name": "stdout",
     "output_type": "stream",
     "text": [
      "Saved data\n",
      "\n",
      "idate: 2023-03-09 17:00:00.000 , fdate: 2023-03-09 18:00:00.000\n"
     ]
    },
    {
     "name": "stderr",
     "output_type": "stream",
     "text": [
      " 14%|█▍        | 210/1463 [06:29<40:32,  1.94s/it]"
     ]
    },
    {
     "name": "stdout",
     "output_type": "stream",
     "text": [
      "Saved data\n",
      "\n",
      "idate: 2023-03-09 18:00:00.000 , fdate: 2023-03-09 19:00:00.000\n"
     ]
    },
    {
     "name": "stderr",
     "output_type": "stream",
     "text": [
      " 14%|█▍        | 211/1463 [06:31<40:59,  1.96s/it]"
     ]
    },
    {
     "name": "stdout",
     "output_type": "stream",
     "text": [
      "Saved data\n",
      "\n",
      "idate: 2023-03-09 19:00:00.000 , fdate: 2023-03-09 20:00:00.000\n"
     ]
    },
    {
     "name": "stderr",
     "output_type": "stream",
     "text": [
      " 14%|█▍        | 212/1463 [06:33<41:10,  1.97s/it]"
     ]
    },
    {
     "name": "stdout",
     "output_type": "stream",
     "text": [
      "Saved data\n",
      "\n",
      "idate: 2023-03-09 20:00:00.000 , fdate: 2023-03-09 21:00:00.000\n"
     ]
    },
    {
     "name": "stderr",
     "output_type": "stream",
     "text": [
      " 15%|█▍        | 213/1463 [06:35<41:14,  1.98s/it]"
     ]
    },
    {
     "name": "stdout",
     "output_type": "stream",
     "text": [
      "Saved data\n",
      "\n",
      "idate: 2023-03-09 21:00:00.000 , fdate: 2023-03-09 22:00:00.000\n"
     ]
    },
    {
     "name": "stderr",
     "output_type": "stream",
     "text": [
      " 15%|█▍        | 214/1463 [06:37<42:46,  2.06s/it]"
     ]
    },
    {
     "name": "stdout",
     "output_type": "stream",
     "text": [
      "Saved data\n",
      "\n",
      "idate: 2023-03-09 22:00:00.000 , fdate: 2023-03-09 23:00:00.000\n"
     ]
    },
    {
     "name": "stderr",
     "output_type": "stream",
     "text": [
      " 15%|█▍        | 215/1463 [06:39<42:39,  2.05s/it]"
     ]
    },
    {
     "name": "stdout",
     "output_type": "stream",
     "text": [
      "Saved data\n",
      "\n",
      "idate: 2023-03-09 23:00:00.000 , fdate: 2023-03-10 00:00:00.000\n"
     ]
    },
    {
     "name": "stderr",
     "output_type": "stream",
     "text": [
      " 15%|█▍        | 216/1463 [06:41<41:35,  2.00s/it]"
     ]
    },
    {
     "name": "stdout",
     "output_type": "stream",
     "text": [
      "Saved data\n",
      "\n",
      "idate: 2023-03-10 00:00:00.000 , fdate: 2023-03-10 01:00:00.000\n"
     ]
    },
    {
     "name": "stderr",
     "output_type": "stream",
     "text": [
      " 15%|█▍        | 217/1463 [06:43<39:57,  1.92s/it]"
     ]
    },
    {
     "name": "stdout",
     "output_type": "stream",
     "text": [
      "Saved data\n",
      "\n",
      "idate: 2023-03-10 01:00:00.000 , fdate: 2023-03-10 02:00:00.000\n"
     ]
    },
    {
     "name": "stderr",
     "output_type": "stream",
     "text": [
      " 15%|█▍        | 218/1463 [06:44<40:16,  1.94s/it]"
     ]
    },
    {
     "name": "stdout",
     "output_type": "stream",
     "text": [
      "Saved data\n",
      "\n",
      "idate: 2023-03-10 02:00:00.000 , fdate: 2023-03-10 03:00:00.000\n"
     ]
    },
    {
     "name": "stderr",
     "output_type": "stream",
     "text": [
      " 15%|█▍        | 219/1463 [06:46<39:44,  1.92s/it]"
     ]
    },
    {
     "name": "stdout",
     "output_type": "stream",
     "text": [
      "Saved data\n",
      "\n",
      "idate: 2023-03-10 03:00:00.000 , fdate: 2023-03-10 04:00:00.000\n"
     ]
    },
    {
     "name": "stderr",
     "output_type": "stream",
     "text": [
      " 15%|█▌        | 220/1463 [06:48<38:27,  1.86s/it]"
     ]
    },
    {
     "name": "stdout",
     "output_type": "stream",
     "text": [
      "Saved data\n",
      "\n",
      "idate: 2023-03-10 04:00:00.000 , fdate: 2023-03-10 05:00:00.000\n"
     ]
    },
    {
     "name": "stderr",
     "output_type": "stream",
     "text": [
      " 15%|█▌        | 221/1463 [06:50<37:19,  1.80s/it]"
     ]
    },
    {
     "name": "stdout",
     "output_type": "stream",
     "text": [
      "Saved data\n",
      "\n",
      "idate: 2023-03-10 05:00:00.000 , fdate: 2023-03-10 06:00:00.000\n"
     ]
    },
    {
     "name": "stderr",
     "output_type": "stream",
     "text": [
      " 15%|█▌        | 222/1463 [06:51<36:07,  1.75s/it]"
     ]
    },
    {
     "name": "stdout",
     "output_type": "stream",
     "text": [
      "Saved data\n",
      "\n",
      "idate: 2023-03-10 06:00:00.000 , fdate: 2023-03-10 07:00:00.000\n"
     ]
    },
    {
     "name": "stderr",
     "output_type": "stream",
     "text": [
      " 15%|█▌        | 223/1463 [06:53<35:39,  1.73s/it]"
     ]
    },
    {
     "name": "stdout",
     "output_type": "stream",
     "text": [
      "Saved data\n",
      "\n",
      "idate: 2023-03-10 07:00:00.000 , fdate: 2023-03-10 08:00:00.000\n"
     ]
    },
    {
     "name": "stderr",
     "output_type": "stream",
     "text": [
      " 15%|█▌        | 224/1463 [06:55<35:48,  1.73s/it]"
     ]
    },
    {
     "name": "stdout",
     "output_type": "stream",
     "text": [
      "Saved data\n",
      "\n",
      "idate: 2023-03-10 08:00:00.000 , fdate: 2023-03-10 09:00:00.000\n"
     ]
    },
    {
     "name": "stderr",
     "output_type": "stream",
     "text": [
      " 15%|█▌        | 225/1463 [06:57<35:53,  1.74s/it]"
     ]
    },
    {
     "name": "stdout",
     "output_type": "stream",
     "text": [
      "Saved data\n",
      "\n",
      "idate: 2023-03-10 09:00:00.000 , fdate: 2023-03-10 10:00:00.000\n"
     ]
    },
    {
     "name": "stderr",
     "output_type": "stream",
     "text": [
      " 15%|█▌        | 226/1463 [06:58<36:50,  1.79s/it]"
     ]
    },
    {
     "name": "stdout",
     "output_type": "stream",
     "text": [
      "Saved data\n",
      "\n",
      "idate: 2023-03-10 10:00:00.000 , fdate: 2023-03-10 11:00:00.000\n"
     ]
    },
    {
     "name": "stderr",
     "output_type": "stream",
     "text": [
      " 16%|█▌        | 227/1463 [07:00<38:21,  1.86s/it]"
     ]
    },
    {
     "name": "stdout",
     "output_type": "stream",
     "text": [
      "Saved data\n",
      "\n",
      "idate: 2023-03-10 11:00:00.000 , fdate: 2023-03-10 12:00:00.000\n"
     ]
    },
    {
     "name": "stderr",
     "output_type": "stream",
     "text": [
      " 16%|█▌        | 228/1463 [07:02<38:30,  1.87s/it]"
     ]
    },
    {
     "name": "stdout",
     "output_type": "stream",
     "text": [
      "Saved data\n",
      "\n",
      "idate: 2023-03-10 12:00:00.000 , fdate: 2023-03-10 13:00:00.000\n"
     ]
    },
    {
     "name": "stderr",
     "output_type": "stream",
     "text": [
      " 16%|█▌        | 229/1463 [07:04<39:19,  1.91s/it]"
     ]
    },
    {
     "name": "stdout",
     "output_type": "stream",
     "text": [
      "Saved data\n",
      "\n",
      "idate: 2023-03-10 13:00:00.000 , fdate: 2023-03-10 14:00:00.000\n"
     ]
    },
    {
     "name": "stderr",
     "output_type": "stream",
     "text": [
      " 16%|█▌        | 230/1463 [07:06<39:32,  1.92s/it]"
     ]
    },
    {
     "name": "stdout",
     "output_type": "stream",
     "text": [
      "Saved data\n",
      "\n",
      "idate: 2023-03-10 14:00:00.000 , fdate: 2023-03-10 15:00:00.000\n"
     ]
    },
    {
     "name": "stderr",
     "output_type": "stream",
     "text": [
      " 16%|█▌        | 231/1463 [07:08<39:43,  1.93s/it]"
     ]
    },
    {
     "name": "stdout",
     "output_type": "stream",
     "text": [
      "Saved data\n",
      "\n",
      "idate: 2023-03-10 15:00:00.000 , fdate: 2023-03-10 16:00:00.000\n"
     ]
    },
    {
     "name": "stderr",
     "output_type": "stream",
     "text": [
      " 16%|█▌        | 232/1463 [07:10<39:33,  1.93s/it]"
     ]
    },
    {
     "name": "stdout",
     "output_type": "stream",
     "text": [
      "Saved data\n",
      "\n",
      "idate: 2023-03-10 16:00:00.000 , fdate: 2023-03-10 17:00:00.000\n"
     ]
    },
    {
     "name": "stderr",
     "output_type": "stream",
     "text": [
      " 16%|█▌        | 233/1463 [07:12<40:32,  1.98s/it]"
     ]
    },
    {
     "name": "stdout",
     "output_type": "stream",
     "text": [
      "Saved data\n",
      "\n",
      "idate: 2023-03-10 17:00:00.000 , fdate: 2023-03-10 18:00:00.000\n"
     ]
    },
    {
     "name": "stderr",
     "output_type": "stream",
     "text": [
      " 16%|█▌        | 234/1463 [07:14<40:12,  1.96s/it]"
     ]
    },
    {
     "name": "stdout",
     "output_type": "stream",
     "text": [
      "Saved data\n",
      "\n",
      "idate: 2023-03-10 18:00:00.000 , fdate: 2023-03-10 19:00:00.000\n"
     ]
    },
    {
     "name": "stderr",
     "output_type": "stream",
     "text": [
      " 16%|█▌        | 235/1463 [07:16<40:14,  1.97s/it]"
     ]
    },
    {
     "name": "stdout",
     "output_type": "stream",
     "text": [
      "Saved data\n",
      "\n",
      "idate: 2023-03-10 19:00:00.000 , fdate: 2023-03-10 20:00:00.000\n"
     ]
    },
    {
     "name": "stderr",
     "output_type": "stream",
     "text": [
      " 16%|█▌        | 236/1463 [07:18<41:01,  2.01s/it]"
     ]
    },
    {
     "name": "stdout",
     "output_type": "stream",
     "text": [
      "Saved data\n",
      "\n",
      "idate: 2023-03-10 20:00:00.000 , fdate: 2023-03-10 21:00:00.000\n"
     ]
    },
    {
     "name": "stderr",
     "output_type": "stream",
     "text": [
      " 16%|█▌        | 237/1463 [07:20<40:33,  1.99s/it]"
     ]
    },
    {
     "name": "stdout",
     "output_type": "stream",
     "text": [
      "Saved data\n",
      "\n",
      "idate: 2023-03-10 21:00:00.000 , fdate: 2023-03-10 22:00:00.000\n"
     ]
    },
    {
     "name": "stderr",
     "output_type": "stream",
     "text": [
      " 16%|█▋        | 238/1463 [07:23<44:30,  2.18s/it]"
     ]
    },
    {
     "name": "stdout",
     "output_type": "stream",
     "text": [
      "Saved data\n",
      "\n",
      "idate: 2023-03-10 22:00:00.000 , fdate: 2023-03-10 23:00:00.000\n"
     ]
    },
    {
     "name": "stderr",
     "output_type": "stream",
     "text": [
      " 16%|█▋        | 239/1463 [07:25<43:02,  2.11s/it]"
     ]
    },
    {
     "name": "stdout",
     "output_type": "stream",
     "text": [
      "Saved data\n",
      "\n",
      "idate: 2023-03-10 23:00:00.000 , fdate: 2023-03-11 00:00:00.000\n"
     ]
    },
    {
     "name": "stderr",
     "output_type": "stream",
     "text": [
      " 16%|█▋        | 240/1463 [07:27<42:26,  2.08s/it]"
     ]
    },
    {
     "name": "stdout",
     "output_type": "stream",
     "text": [
      "Saved data\n",
      "\n",
      "idate: 2023-03-11 00:00:00.000 , fdate: 2023-03-11 01:00:00.000\n"
     ]
    },
    {
     "name": "stderr",
     "output_type": "stream",
     "text": [
      " 16%|█▋        | 241/1463 [07:29<41:27,  2.04s/it]"
     ]
    },
    {
     "name": "stdout",
     "output_type": "stream",
     "text": [
      "Saved data\n",
      "\n",
      "idate: 2023-03-11 01:00:00.000 , fdate: 2023-03-11 02:00:00.000\n"
     ]
    },
    {
     "name": "stderr",
     "output_type": "stream",
     "text": [
      " 17%|█▋        | 242/1463 [07:31<40:29,  1.99s/it]"
     ]
    },
    {
     "name": "stdout",
     "output_type": "stream",
     "text": [
      "Saved data\n",
      "\n",
      "idate: 2023-03-11 02:00:00.000 , fdate: 2023-03-11 03:00:00.000\n"
     ]
    },
    {
     "name": "stderr",
     "output_type": "stream",
     "text": [
      " 17%|█▋        | 243/1463 [07:33<40:11,  1.98s/it]"
     ]
    },
    {
     "name": "stdout",
     "output_type": "stream",
     "text": [
      "Saved data\n",
      "\n",
      "idate: 2023-03-11 03:00:00.000 , fdate: 2023-03-11 04:00:00.000\n"
     ]
    },
    {
     "name": "stderr",
     "output_type": "stream",
     "text": [
      " 17%|█▋        | 244/1463 [07:34<38:57,  1.92s/it]"
     ]
    },
    {
     "name": "stdout",
     "output_type": "stream",
     "text": [
      "Saved data\n",
      "\n",
      "idate: 2023-03-11 04:00:00.000 , fdate: 2023-03-11 05:00:00.000\n"
     ]
    },
    {
     "name": "stderr",
     "output_type": "stream",
     "text": [
      " 17%|█▋        | 245/1463 [07:36<37:24,  1.84s/it]"
     ]
    },
    {
     "name": "stdout",
     "output_type": "stream",
     "text": [
      "Saved data\n",
      "\n",
      "idate: 2023-03-11 05:00:00.000 , fdate: 2023-03-11 06:00:00.000\n"
     ]
    },
    {
     "name": "stderr",
     "output_type": "stream",
     "text": [
      " 17%|█▋        | 246/1463 [07:38<36:03,  1.78s/it]"
     ]
    },
    {
     "name": "stdout",
     "output_type": "stream",
     "text": [
      "Saved data\n",
      "\n",
      "idate: 2023-03-11 06:00:00.000 , fdate: 2023-03-11 07:00:00.000\n"
     ]
    },
    {
     "name": "stderr",
     "output_type": "stream",
     "text": [
      " 17%|█▋        | 247/1463 [07:39<35:00,  1.73s/it]"
     ]
    },
    {
     "name": "stdout",
     "output_type": "stream",
     "text": [
      "Saved data\n",
      "\n",
      "idate: 2023-03-11 07:00:00.000 , fdate: 2023-03-11 08:00:00.000\n"
     ]
    },
    {
     "name": "stderr",
     "output_type": "stream",
     "text": [
      " 17%|█▋        | 248/1463 [07:41<34:44,  1.72s/it]"
     ]
    },
    {
     "name": "stdout",
     "output_type": "stream",
     "text": [
      "Saved data\n",
      "\n",
      "idate: 2023-03-11 08:00:00.000 , fdate: 2023-03-11 09:00:00.000\n"
     ]
    },
    {
     "name": "stderr",
     "output_type": "stream",
     "text": [
      " 17%|█▋        | 249/1463 [07:43<35:31,  1.76s/it]"
     ]
    },
    {
     "name": "stdout",
     "output_type": "stream",
     "text": [
      "Saved data\n",
      "\n",
      "idate: 2023-03-11 09:00:00.000 , fdate: 2023-03-11 10:00:00.000\n"
     ]
    },
    {
     "name": "stderr",
     "output_type": "stream",
     "text": [
      " 17%|█▋        | 250/1463 [07:45<36:46,  1.82s/it]"
     ]
    },
    {
     "name": "stdout",
     "output_type": "stream",
     "text": [
      "Saved data\n",
      "\n",
      "idate: 2023-03-11 10:00:00.000 , fdate: 2023-03-11 11:00:00.000\n"
     ]
    },
    {
     "name": "stderr",
     "output_type": "stream",
     "text": [
      " 17%|█▋        | 251/1463 [07:47<37:16,  1.85s/it]"
     ]
    },
    {
     "name": "stdout",
     "output_type": "stream",
     "text": [
      "Saved data\n",
      "\n",
      "idate: 2023-03-11 11:00:00.000 , fdate: 2023-03-11 12:00:00.000\n"
     ]
    },
    {
     "name": "stderr",
     "output_type": "stream",
     "text": [
      " 17%|█▋        | 252/1463 [07:49<38:33,  1.91s/it]"
     ]
    },
    {
     "name": "stdout",
     "output_type": "stream",
     "text": [
      "Saved data\n",
      "\n",
      "idate: 2023-03-11 12:00:00.000 , fdate: 2023-03-11 13:00:00.000\n"
     ]
    },
    {
     "name": "stderr",
     "output_type": "stream",
     "text": [
      " 17%|█▋        | 253/1463 [07:51<38:49,  1.93s/it]"
     ]
    },
    {
     "name": "stdout",
     "output_type": "stream",
     "text": [
      "Saved data\n",
      "\n",
      "idate: 2023-03-11 13:00:00.000 , fdate: 2023-03-11 14:00:00.000\n"
     ]
    },
    {
     "name": "stderr",
     "output_type": "stream",
     "text": [
      " 17%|█▋        | 254/1463 [07:53<38:48,  1.93s/it]"
     ]
    },
    {
     "name": "stdout",
     "output_type": "stream",
     "text": [
      "Saved data\n",
      "\n",
      "idate: 2023-03-11 14:00:00.000 , fdate: 2023-03-11 15:00:00.000\n"
     ]
    },
    {
     "name": "stderr",
     "output_type": "stream",
     "text": [
      " 17%|█▋        | 255/1463 [07:55<38:43,  1.92s/it]"
     ]
    },
    {
     "name": "stdout",
     "output_type": "stream",
     "text": [
      "Saved data\n",
      "\n",
      "idate: 2023-03-11 15:00:00.000 , fdate: 2023-03-11 16:00:00.000\n"
     ]
    },
    {
     "name": "stderr",
     "output_type": "stream",
     "text": [
      " 17%|█▋        | 256/1463 [07:56<38:11,  1.90s/it]"
     ]
    },
    {
     "name": "stdout",
     "output_type": "stream",
     "text": [
      "Saved data\n",
      "\n",
      "idate: 2023-03-11 16:00:00.000 , fdate: 2023-03-11 17:00:00.000\n"
     ]
    },
    {
     "name": "stderr",
     "output_type": "stream",
     "text": [
      " 18%|█▊        | 257/1463 [07:58<38:26,  1.91s/it]"
     ]
    },
    {
     "name": "stdout",
     "output_type": "stream",
     "text": [
      "Saved data\n",
      "\n",
      "idate: 2023-03-11 17:00:00.000 , fdate: 2023-03-11 18:00:00.000\n"
     ]
    },
    {
     "name": "stderr",
     "output_type": "stream",
     "text": [
      " 18%|█▊        | 258/1463 [08:00<38:16,  1.91s/it]"
     ]
    },
    {
     "name": "stdout",
     "output_type": "stream",
     "text": [
      "Saved data\n",
      "\n",
      "idate: 2023-03-11 18:00:00.000 , fdate: 2023-03-11 19:00:00.000\n"
     ]
    },
    {
     "name": "stderr",
     "output_type": "stream",
     "text": [
      " 18%|█▊        | 259/1463 [08:02<37:57,  1.89s/it]"
     ]
    },
    {
     "name": "stdout",
     "output_type": "stream",
     "text": [
      "Saved data\n",
      "\n",
      "idate: 2023-03-11 19:00:00.000 , fdate: 2023-03-11 20:00:00.000\n"
     ]
    },
    {
     "name": "stderr",
     "output_type": "stream",
     "text": [
      " 18%|█▊        | 260/1463 [08:04<37:45,  1.88s/it]"
     ]
    },
    {
     "name": "stdout",
     "output_type": "stream",
     "text": [
      "Saved data\n",
      "\n",
      "idate: 2023-03-11 20:00:00.000 , fdate: 2023-03-11 21:00:00.000\n"
     ]
    },
    {
     "name": "stderr",
     "output_type": "stream",
     "text": [
      " 18%|█▊        | 261/1463 [08:06<37:37,  1.88s/it]"
     ]
    },
    {
     "name": "stdout",
     "output_type": "stream",
     "text": [
      "Saved data\n",
      "\n",
      "idate: 2023-03-11 21:00:00.000 , fdate: 2023-03-11 22:00:00.000\n"
     ]
    },
    {
     "name": "stderr",
     "output_type": "stream",
     "text": [
      " 18%|█▊        | 262/1463 [08:08<37:19,  1.86s/it]"
     ]
    },
    {
     "name": "stdout",
     "output_type": "stream",
     "text": [
      "Saved data\n",
      "\n",
      "idate: 2023-03-11 22:00:00.000 , fdate: 2023-03-11 23:00:00.000\n"
     ]
    },
    {
     "name": "stderr",
     "output_type": "stream",
     "text": [
      " 18%|█▊        | 263/1463 [08:10<37:17,  1.86s/it]"
     ]
    },
    {
     "name": "stdout",
     "output_type": "stream",
     "text": [
      "Saved data\n",
      "\n",
      "idate: 2023-03-11 23:00:00.000 , fdate: 2023-03-12 00:00:00.000\n"
     ]
    },
    {
     "name": "stderr",
     "output_type": "stream",
     "text": [
      " 18%|█▊        | 264/1463 [08:11<36:26,  1.82s/it]"
     ]
    },
    {
     "name": "stdout",
     "output_type": "stream",
     "text": [
      "Saved data\n",
      "\n",
      "idate: 2023-03-12 00:00:00.000 , fdate: 2023-03-12 01:00:00.000\n"
     ]
    },
    {
     "name": "stderr",
     "output_type": "stream",
     "text": [
      " 18%|█▊        | 265/1463 [08:13<35:53,  1.80s/it]"
     ]
    },
    {
     "name": "stdout",
     "output_type": "stream",
     "text": [
      "Saved data\n",
      "\n",
      "idate: 2023-03-12 01:00:00.000 , fdate: 2023-03-12 02:00:00.000\n"
     ]
    },
    {
     "name": "stderr",
     "output_type": "stream",
     "text": [
      " 18%|█▊        | 266/1463 [08:15<35:33,  1.78s/it]"
     ]
    },
    {
     "name": "stdout",
     "output_type": "stream",
     "text": [
      "Saved data\n",
      "\n",
      "idate: 2023-03-12 02:00:00.000 , fdate: 2023-03-12 03:00:00.000\n"
     ]
    },
    {
     "name": "stderr",
     "output_type": "stream",
     "text": [
      " 18%|█▊        | 267/1463 [08:16<35:26,  1.78s/it]"
     ]
    },
    {
     "name": "stdout",
     "output_type": "stream",
     "text": [
      "Saved data\n",
      "\n",
      "idate: 2023-03-12 03:00:00.000 , fdate: 2023-03-12 04:00:00.000\n"
     ]
    },
    {
     "name": "stderr",
     "output_type": "stream",
     "text": [
      " 18%|█▊        | 268/1463 [08:18<34:54,  1.75s/it]"
     ]
    },
    {
     "name": "stdout",
     "output_type": "stream",
     "text": [
      "Saved data\n",
      "\n",
      "idate: 2023-03-12 04:00:00.000 , fdate: 2023-03-12 05:00:00.000\n"
     ]
    },
    {
     "name": "stderr",
     "output_type": "stream",
     "text": [
      " 18%|█▊        | 269/1463 [08:20<34:12,  1.72s/it]"
     ]
    },
    {
     "name": "stdout",
     "output_type": "stream",
     "text": [
      "Saved data\n",
      "\n",
      "idate: 2023-03-12 05:00:00.000 , fdate: 2023-03-12 06:00:00.000\n"
     ]
    },
    {
     "name": "stderr",
     "output_type": "stream",
     "text": [
      " 18%|█▊        | 270/1463 [08:21<33:31,  1.69s/it]"
     ]
    },
    {
     "name": "stdout",
     "output_type": "stream",
     "text": [
      "Saved data\n",
      "\n",
      "idate: 2023-03-12 06:00:00.000 , fdate: 2023-03-12 07:00:00.000\n"
     ]
    },
    {
     "name": "stderr",
     "output_type": "stream",
     "text": [
      " 19%|█▊        | 271/1463 [08:23<33:28,  1.68s/it]"
     ]
    },
    {
     "name": "stdout",
     "output_type": "stream",
     "text": [
      "Saved data\n",
      "\n",
      "idate: 2023-03-12 07:00:00.000 , fdate: 2023-03-12 08:00:00.000\n"
     ]
    },
    {
     "name": "stderr",
     "output_type": "stream",
     "text": [
      " 19%|█▊        | 272/1463 [08:25<33:17,  1.68s/it]"
     ]
    },
    {
     "name": "stdout",
     "output_type": "stream",
     "text": [
      "Saved data\n",
      "\n",
      "idate: 2023-03-12 08:00:00.000 , fdate: 2023-03-12 09:00:00.000\n"
     ]
    },
    {
     "name": "stderr",
     "output_type": "stream",
     "text": [
      " 19%|█▊        | 273/1463 [08:26<33:28,  1.69s/it]"
     ]
    },
    {
     "name": "stdout",
     "output_type": "stream",
     "text": [
      "Saved data\n",
      "\n",
      "idate: 2023-03-12 09:00:00.000 , fdate: 2023-03-12 10:00:00.000\n"
     ]
    },
    {
     "name": "stderr",
     "output_type": "stream",
     "text": [
      " 19%|█▊        | 274/1463 [08:28<34:28,  1.74s/it]"
     ]
    },
    {
     "name": "stdout",
     "output_type": "stream",
     "text": [
      "Saved data\n",
      "\n",
      "idate: 2023-03-12 10:00:00.000 , fdate: 2023-03-12 11:00:00.000\n"
     ]
    },
    {
     "name": "stderr",
     "output_type": "stream",
     "text": [
      " 19%|█▉        | 275/1463 [08:30<34:50,  1.76s/it]"
     ]
    },
    {
     "name": "stdout",
     "output_type": "stream",
     "text": [
      "Saved data\n",
      "\n",
      "idate: 2023-03-12 11:00:00.000 , fdate: 2023-03-12 12:00:00.000\n"
     ]
    },
    {
     "name": "stderr",
     "output_type": "stream",
     "text": [
      " 19%|█▉        | 276/1463 [08:32<35:30,  1.79s/it]"
     ]
    },
    {
     "name": "stdout",
     "output_type": "stream",
     "text": [
      "Saved data\n",
      "\n",
      "idate: 2023-03-12 12:00:00.000 , fdate: 2023-03-12 13:00:00.000\n"
     ]
    },
    {
     "name": "stderr",
     "output_type": "stream",
     "text": [
      " 19%|█▉        | 277/1463 [08:34<36:53,  1.87s/it]"
     ]
    },
    {
     "name": "stdout",
     "output_type": "stream",
     "text": [
      "Saved data\n",
      "\n",
      "idate: 2023-03-12 13:00:00.000 , fdate: 2023-03-12 14:00:00.000\n"
     ]
    },
    {
     "name": "stderr",
     "output_type": "stream",
     "text": [
      " 19%|█▉        | 278/1463 [08:36<37:05,  1.88s/it]"
     ]
    },
    {
     "name": "stdout",
     "output_type": "stream",
     "text": [
      "Saved data\n",
      "\n",
      "idate: 2023-03-12 14:00:00.000 , fdate: 2023-03-12 15:00:00.000\n"
     ]
    },
    {
     "name": "stderr",
     "output_type": "stream",
     "text": [
      " 19%|█▉        | 279/1463 [08:38<37:14,  1.89s/it]"
     ]
    },
    {
     "name": "stdout",
     "output_type": "stream",
     "text": [
      "Saved data\n",
      "\n",
      "idate: 2023-03-12 15:00:00.000 , fdate: 2023-03-12 16:00:00.000\n"
     ]
    },
    {
     "name": "stderr",
     "output_type": "stream",
     "text": [
      " 19%|█▉        | 280/1463 [08:40<37:09,  1.88s/it]"
     ]
    },
    {
     "name": "stdout",
     "output_type": "stream",
     "text": [
      "Saved data\n",
      "\n",
      "idate: 2023-03-12 16:00:00.000 , fdate: 2023-03-12 17:00:00.000\n"
     ]
    },
    {
     "name": "stderr",
     "output_type": "stream",
     "text": [
      " 19%|█▉        | 281/1463 [08:42<37:25,  1.90s/it]"
     ]
    },
    {
     "name": "stdout",
     "output_type": "stream",
     "text": [
      "Saved data\n",
      "\n",
      "idate: 2023-03-12 17:00:00.000 , fdate: 2023-03-12 18:00:00.000\n"
     ]
    },
    {
     "name": "stderr",
     "output_type": "stream",
     "text": [
      " 19%|█▉        | 282/1463 [08:44<37:27,  1.90s/it]"
     ]
    },
    {
     "name": "stdout",
     "output_type": "stream",
     "text": [
      "Saved data\n",
      "\n",
      "idate: 2023-03-12 18:00:00.000 , fdate: 2023-03-12 19:00:00.000\n"
     ]
    },
    {
     "name": "stderr",
     "output_type": "stream",
     "text": [
      " 19%|█▉        | 283/1463 [08:46<37:39,  1.91s/it]"
     ]
    },
    {
     "name": "stdout",
     "output_type": "stream",
     "text": [
      "Saved data\n",
      "\n",
      "idate: 2023-03-12 19:00:00.000 , fdate: 2023-03-12 20:00:00.000\n"
     ]
    },
    {
     "name": "stderr",
     "output_type": "stream",
     "text": [
      " 19%|█▉        | 284/1463 [08:48<38:29,  1.96s/it]"
     ]
    },
    {
     "name": "stdout",
     "output_type": "stream",
     "text": [
      "Saved data\n",
      "\n",
      "idate: 2023-03-12 20:00:00.000 , fdate: 2023-03-12 21:00:00.000\n"
     ]
    },
    {
     "name": "stderr",
     "output_type": "stream",
     "text": [
      " 19%|█▉        | 285/1463 [08:50<38:53,  1.98s/it]"
     ]
    },
    {
     "name": "stdout",
     "output_type": "stream",
     "text": [
      "Saved data\n",
      "\n",
      "idate: 2023-03-12 21:00:00.000 , fdate: 2023-03-12 22:00:00.000\n"
     ]
    },
    {
     "name": "stderr",
     "output_type": "stream",
     "text": [
      " 20%|█▉        | 286/1463 [08:52<38:55,  1.98s/it]"
     ]
    },
    {
     "name": "stdout",
     "output_type": "stream",
     "text": [
      "Saved data\n",
      "\n",
      "idate: 2023-03-12 22:00:00.000 , fdate: 2023-03-12 23:00:00.000\n"
     ]
    },
    {
     "name": "stderr",
     "output_type": "stream",
     "text": [
      " 20%|█▉        | 287/1463 [08:54<38:41,  1.97s/it]"
     ]
    },
    {
     "name": "stdout",
     "output_type": "stream",
     "text": [
      "Saved data\n",
      "\n",
      "idate: 2023-03-12 23:00:00.000 , fdate: 2023-03-13 00:00:00.000\n"
     ]
    },
    {
     "name": "stderr",
     "output_type": "stream",
     "text": [
      " 20%|█▉        | 288/1463 [08:55<37:52,  1.93s/it]"
     ]
    },
    {
     "name": "stdout",
     "output_type": "stream",
     "text": [
      "Saved data\n",
      "\n",
      "idate: 2023-03-13 00:00:00.000 , fdate: 2023-03-13 01:00:00.000\n"
     ]
    },
    {
     "name": "stderr",
     "output_type": "stream",
     "text": [
      " 20%|█▉        | 289/1463 [08:57<36:59,  1.89s/it]"
     ]
    },
    {
     "name": "stdout",
     "output_type": "stream",
     "text": [
      "Saved data\n",
      "\n",
      "idate: 2023-03-13 01:00:00.000 , fdate: 2023-03-13 02:00:00.000\n"
     ]
    },
    {
     "name": "stderr",
     "output_type": "stream",
     "text": [
      " 20%|█▉        | 290/1463 [08:59<36:53,  1.89s/it]"
     ]
    },
    {
     "name": "stdout",
     "output_type": "stream",
     "text": [
      "Saved data\n",
      "\n",
      "idate: 2023-03-13 02:00:00.000 , fdate: 2023-03-13 03:00:00.000\n"
     ]
    },
    {
     "name": "stderr",
     "output_type": "stream",
     "text": [
      " 20%|█▉        | 291/1463 [09:01<36:37,  1.88s/it]"
     ]
    },
    {
     "name": "stdout",
     "output_type": "stream",
     "text": [
      "Saved data\n",
      "\n",
      "idate: 2023-03-13 03:00:00.000 , fdate: 2023-03-13 04:00:00.000\n"
     ]
    },
    {
     "name": "stderr",
     "output_type": "stream",
     "text": [
      " 20%|█▉        | 292/1463 [09:03<35:56,  1.84s/it]"
     ]
    },
    {
     "name": "stdout",
     "output_type": "stream",
     "text": [
      "Saved data\n",
      "\n",
      "idate: 2023-03-13 04:00:00.000 , fdate: 2023-03-13 05:00:00.000\n"
     ]
    },
    {
     "name": "stderr",
     "output_type": "stream",
     "text": [
      " 20%|██        | 293/1463 [09:04<35:15,  1.81s/it]"
     ]
    },
    {
     "name": "stdout",
     "output_type": "stream",
     "text": [
      "Saved data\n",
      "\n",
      "idate: 2023-03-13 05:00:00.000 , fdate: 2023-03-13 06:00:00.000\n"
     ]
    },
    {
     "name": "stderr",
     "output_type": "stream",
     "text": [
      " 20%|██        | 294/1463 [09:06<33:58,  1.74s/it]"
     ]
    },
    {
     "name": "stdout",
     "output_type": "stream",
     "text": [
      "Saved data\n",
      "\n",
      "idate: 2023-03-13 06:00:00.000 , fdate: 2023-03-13 07:00:00.000\n"
     ]
    },
    {
     "name": "stderr",
     "output_type": "stream",
     "text": [
      " 20%|██        | 295/1463 [09:08<33:21,  1.71s/it]"
     ]
    },
    {
     "name": "stdout",
     "output_type": "stream",
     "text": [
      "Saved data\n",
      "\n",
      "idate: 2023-03-13 07:00:00.000 , fdate: 2023-03-13 08:00:00.000\n"
     ]
    },
    {
     "name": "stderr",
     "output_type": "stream",
     "text": [
      " 20%|██        | 296/1463 [09:09<33:23,  1.72s/it]"
     ]
    },
    {
     "name": "stdout",
     "output_type": "stream",
     "text": [
      "Saved data\n",
      "\n",
      "idate: 2023-03-13 08:00:00.000 , fdate: 2023-03-13 09:00:00.000\n"
     ]
    },
    {
     "name": "stderr",
     "output_type": "stream",
     "text": [
      " 20%|██        | 297/1463 [09:11<33:46,  1.74s/it]"
     ]
    },
    {
     "name": "stdout",
     "output_type": "stream",
     "text": [
      "Saved data\n",
      "\n",
      "idate: 2023-03-13 09:00:00.000 , fdate: 2023-03-13 10:00:00.000\n"
     ]
    },
    {
     "name": "stderr",
     "output_type": "stream",
     "text": [
      " 20%|██        | 298/1463 [09:13<35:52,  1.85s/it]"
     ]
    },
    {
     "name": "stdout",
     "output_type": "stream",
     "text": [
      "Saved data\n",
      "\n",
      "idate: 2023-03-13 10:00:00.000 , fdate: 2023-03-13 11:00:00.000\n"
     ]
    },
    {
     "name": "stderr",
     "output_type": "stream",
     "text": [
      " 20%|██        | 299/1463 [09:15<36:39,  1.89s/it]"
     ]
    },
    {
     "name": "stdout",
     "output_type": "stream",
     "text": [
      "Saved data\n",
      "\n",
      "idate: 2023-03-13 11:00:00.000 , fdate: 2023-03-13 12:00:00.000\n"
     ]
    },
    {
     "name": "stderr",
     "output_type": "stream",
     "text": [
      " 21%|██        | 300/1463 [09:17<36:54,  1.90s/it]"
     ]
    },
    {
     "name": "stdout",
     "output_type": "stream",
     "text": [
      "Saved data\n",
      "\n",
      "idate: 2023-03-13 12:00:00.000 , fdate: 2023-03-13 13:00:00.000\n"
     ]
    },
    {
     "name": "stderr",
     "output_type": "stream",
     "text": [
      " 21%|██        | 301/1463 [09:19<37:33,  1.94s/it]"
     ]
    },
    {
     "name": "stdout",
     "output_type": "stream",
     "text": [
      "Saved data\n",
      "\n",
      "idate: 2023-03-13 13:00:00.000 , fdate: 2023-03-13 14:00:00.000\n"
     ]
    },
    {
     "name": "stderr",
     "output_type": "stream",
     "text": [
      " 21%|██        | 302/1463 [09:21<38:05,  1.97s/it]"
     ]
    },
    {
     "name": "stdout",
     "output_type": "stream",
     "text": [
      "Saved data\n",
      "\n",
      "idate: 2023-03-13 14:00:00.000 , fdate: 2023-03-13 15:00:00.000\n"
     ]
    },
    {
     "name": "stderr",
     "output_type": "stream",
     "text": [
      " 21%|██        | 303/1463 [09:23<38:18,  1.98s/it]"
     ]
    },
    {
     "name": "stdout",
     "output_type": "stream",
     "text": [
      "Saved data\n",
      "\n",
      "idate: 2023-03-13 15:00:00.000 , fdate: 2023-03-13 16:00:00.000\n"
     ]
    },
    {
     "name": "stderr",
     "output_type": "stream",
     "text": [
      " 21%|██        | 304/1463 [09:25<37:58,  1.97s/it]"
     ]
    },
    {
     "name": "stdout",
     "output_type": "stream",
     "text": [
      "Saved data\n",
      "\n",
      "idate: 2023-03-13 16:00:00.000 , fdate: 2023-03-13 17:00:00.000\n"
     ]
    },
    {
     "name": "stderr",
     "output_type": "stream",
     "text": [
      " 21%|██        | 305/1463 [09:27<37:34,  1.95s/it]"
     ]
    },
    {
     "name": "stdout",
     "output_type": "stream",
     "text": [
      "Saved data\n",
      "\n",
      "idate: 2023-03-13 17:00:00.000 , fdate: 2023-03-13 18:00:00.000\n"
     ]
    },
    {
     "name": "stderr",
     "output_type": "stream",
     "text": [
      " 21%|██        | 306/1463 [09:29<38:16,  1.99s/it]"
     ]
    },
    {
     "name": "stdout",
     "output_type": "stream",
     "text": [
      "Saved data\n",
      "\n",
      "idate: 2023-03-13 18:00:00.000 , fdate: 2023-03-13 19:00:00.000\n"
     ]
    },
    {
     "name": "stderr",
     "output_type": "stream",
     "text": [
      " 21%|██        | 307/1463 [09:31<38:01,  1.97s/it]"
     ]
    },
    {
     "name": "stdout",
     "output_type": "stream",
     "text": [
      "Saved data\n",
      "\n",
      "idate: 2023-03-13 19:00:00.000 , fdate: 2023-03-13 20:00:00.000\n"
     ]
    },
    {
     "name": "stderr",
     "output_type": "stream",
     "text": [
      " 21%|██        | 308/1463 [09:33<38:25,  2.00s/it]"
     ]
    },
    {
     "name": "stdout",
     "output_type": "stream",
     "text": [
      "Saved data\n",
      "\n",
      "idate: 2023-03-13 20:00:00.000 , fdate: 2023-03-13 21:00:00.000\n"
     ]
    },
    {
     "name": "stderr",
     "output_type": "stream",
     "text": [
      " 21%|██        | 309/1463 [09:35<38:08,  1.98s/it]"
     ]
    },
    {
     "name": "stdout",
     "output_type": "stream",
     "text": [
      "Saved data\n",
      "\n",
      "idate: 2023-03-13 21:00:00.000 , fdate: 2023-03-13 22:00:00.000\n"
     ]
    },
    {
     "name": "stderr",
     "output_type": "stream",
     "text": [
      " 21%|██        | 310/1463 [09:37<38:04,  1.98s/it]"
     ]
    },
    {
     "name": "stdout",
     "output_type": "stream",
     "text": [
      "Saved data\n",
      "\n",
      "idate: 2023-03-13 22:00:00.000 , fdate: 2023-03-13 23:00:00.000\n"
     ]
    },
    {
     "name": "stderr",
     "output_type": "stream",
     "text": [
      " 21%|██▏       | 311/1463 [09:39<38:36,  2.01s/it]"
     ]
    },
    {
     "name": "stdout",
     "output_type": "stream",
     "text": [
      "Saved data\n",
      "\n",
      "idate: 2023-03-13 23:00:00.000 , fdate: 2023-03-14 00:00:00.000\n"
     ]
    },
    {
     "name": "stderr",
     "output_type": "stream",
     "text": [
      " 21%|██▏       | 312/1463 [09:41<37:33,  1.96s/it]"
     ]
    },
    {
     "name": "stdout",
     "output_type": "stream",
     "text": [
      "Saved data\n",
      "\n",
      "idate: 2023-03-14 00:00:00.000 , fdate: 2023-03-14 01:00:00.000\n"
     ]
    },
    {
     "name": "stderr",
     "output_type": "stream",
     "text": [
      " 21%|██▏       | 313/1463 [09:43<36:33,  1.91s/it]"
     ]
    },
    {
     "name": "stdout",
     "output_type": "stream",
     "text": [
      "Saved data\n",
      "\n",
      "idate: 2023-03-14 01:00:00.000 , fdate: 2023-03-14 02:00:00.000\n"
     ]
    },
    {
     "name": "stderr",
     "output_type": "stream",
     "text": [
      " 21%|██▏       | 314/1463 [09:45<36:35,  1.91s/it]"
     ]
    },
    {
     "name": "stdout",
     "output_type": "stream",
     "text": [
      "Saved data\n",
      "\n",
      "idate: 2023-03-14 02:00:00.000 , fdate: 2023-03-14 03:00:00.000\n"
     ]
    },
    {
     "name": "stderr",
     "output_type": "stream",
     "text": [
      " 22%|██▏       | 315/1463 [09:47<36:08,  1.89s/it]"
     ]
    },
    {
     "name": "stdout",
     "output_type": "stream",
     "text": [
      "Saved data\n",
      "\n",
      "idate: 2023-03-14 03:00:00.000 , fdate: 2023-03-14 04:00:00.000\n"
     ]
    },
    {
     "name": "stderr",
     "output_type": "stream",
     "text": [
      " 22%|██▏       | 316/1463 [09:48<35:11,  1.84s/it]"
     ]
    },
    {
     "name": "stdout",
     "output_type": "stream",
     "text": [
      "Saved data\n",
      "\n",
      "idate: 2023-03-14 04:00:00.000 , fdate: 2023-03-14 05:00:00.000\n"
     ]
    },
    {
     "name": "stderr",
     "output_type": "stream",
     "text": [
      " 22%|██▏       | 317/1463 [09:50<34:15,  1.79s/it]"
     ]
    },
    {
     "name": "stdout",
     "output_type": "stream",
     "text": [
      "Saved data\n",
      "\n",
      "idate: 2023-03-14 05:00:00.000 , fdate: 2023-03-14 06:00:00.000\n"
     ]
    },
    {
     "name": "stderr",
     "output_type": "stream",
     "text": [
      " 22%|██▏       | 318/1463 [09:52<33:07,  1.74s/it]"
     ]
    },
    {
     "name": "stdout",
     "output_type": "stream",
     "text": [
      "Saved data\n",
      "\n",
      "idate: 2023-03-14 06:00:00.000 , fdate: 2023-03-14 07:00:00.000\n"
     ]
    },
    {
     "name": "stderr",
     "output_type": "stream",
     "text": [
      " 22%|██▏       | 319/1463 [09:53<32:36,  1.71s/it]"
     ]
    },
    {
     "name": "stdout",
     "output_type": "stream",
     "text": [
      "Saved data\n",
      "\n",
      "idate: 2023-03-14 07:00:00.000 , fdate: 2023-03-14 08:00:00.000\n"
     ]
    },
    {
     "name": "stderr",
     "output_type": "stream",
     "text": [
      " 22%|██▏       | 320/1463 [09:55<32:45,  1.72s/it]"
     ]
    },
    {
     "name": "stdout",
     "output_type": "stream",
     "text": [
      "Saved data\n",
      "\n",
      "idate: 2023-03-14 08:00:00.000 , fdate: 2023-03-14 09:00:00.000\n"
     ]
    },
    {
     "name": "stderr",
     "output_type": "stream",
     "text": [
      " 22%|██▏       | 321/1463 [09:57<34:13,  1.80s/it]"
     ]
    },
    {
     "name": "stdout",
     "output_type": "stream",
     "text": [
      "Saved data\n",
      "\n",
      "idate: 2023-03-14 09:00:00.000 , fdate: 2023-03-14 10:00:00.000\n"
     ]
    },
    {
     "name": "stderr",
     "output_type": "stream",
     "text": [
      " 22%|██▏       | 322/1463 [09:59<35:18,  1.86s/it]"
     ]
    },
    {
     "name": "stdout",
     "output_type": "stream",
     "text": [
      "Saved data\n",
      "\n",
      "idate: 2023-03-14 10:00:00.000 , fdate: 2023-03-14 11:00:00.000\n"
     ]
    },
    {
     "name": "stderr",
     "output_type": "stream",
     "text": [
      " 22%|██▏       | 323/1463 [10:01<36:01,  1.90s/it]"
     ]
    },
    {
     "name": "stdout",
     "output_type": "stream",
     "text": [
      "Saved data\n",
      "\n",
      "idate: 2023-03-14 11:00:00.000 , fdate: 2023-03-14 12:00:00.000\n"
     ]
    },
    {
     "name": "stderr",
     "output_type": "stream",
     "text": [
      " 22%|██▏       | 324/1463 [10:03<36:55,  1.94s/it]"
     ]
    },
    {
     "name": "stdout",
     "output_type": "stream",
     "text": [
      "Saved data\n",
      "\n",
      "idate: 2023-03-14 12:00:00.000 , fdate: 2023-03-14 13:00:00.000\n"
     ]
    },
    {
     "name": "stderr",
     "output_type": "stream",
     "text": [
      " 22%|██▏       | 325/1463 [10:05<36:42,  1.94s/it]"
     ]
    },
    {
     "name": "stdout",
     "output_type": "stream",
     "text": [
      "Saved data\n",
      "\n",
      "idate: 2023-03-14 13:00:00.000 , fdate: 2023-03-14 14:00:00.000\n"
     ]
    },
    {
     "name": "stderr",
     "output_type": "stream",
     "text": [
      " 22%|██▏       | 326/1463 [10:07<37:04,  1.96s/it]"
     ]
    },
    {
     "name": "stdout",
     "output_type": "stream",
     "text": [
      "Saved data\n",
      "\n",
      "idate: 2023-03-14 14:00:00.000 , fdate: 2023-03-14 15:00:00.000\n"
     ]
    },
    {
     "name": "stderr",
     "output_type": "stream",
     "text": [
      " 22%|██▏       | 327/1463 [10:09<36:58,  1.95s/it]"
     ]
    },
    {
     "name": "stdout",
     "output_type": "stream",
     "text": [
      "Saved data\n",
      "\n",
      "idate: 2023-03-14 15:00:00.000 , fdate: 2023-03-14 16:00:00.000\n"
     ]
    },
    {
     "name": "stderr",
     "output_type": "stream",
     "text": [
      " 22%|██▏       | 328/1463 [10:11<36:57,  1.95s/it]"
     ]
    },
    {
     "name": "stdout",
     "output_type": "stream",
     "text": [
      "Saved data\n",
      "\n",
      "idate: 2023-03-14 16:00:00.000 , fdate: 2023-03-14 17:00:00.000\n"
     ]
    },
    {
     "name": "stderr",
     "output_type": "stream",
     "text": [
      " 22%|██▏       | 329/1463 [10:13<37:07,  1.96s/it]"
     ]
    },
    {
     "name": "stdout",
     "output_type": "stream",
     "text": [
      "Saved data\n",
      "\n",
      "idate: 2023-03-14 17:00:00.000 , fdate: 2023-03-14 18:00:00.000\n"
     ]
    },
    {
     "name": "stderr",
     "output_type": "stream",
     "text": [
      " 23%|██▎       | 330/1463 [10:15<37:39,  1.99s/it]"
     ]
    },
    {
     "name": "stdout",
     "output_type": "stream",
     "text": [
      "Saved data\n",
      "\n",
      "idate: 2023-03-14 18:00:00.000 , fdate: 2023-03-14 19:00:00.000\n"
     ]
    },
    {
     "name": "stderr",
     "output_type": "stream",
     "text": [
      " 23%|██▎       | 331/1463 [10:17<38:18,  2.03s/it]"
     ]
    },
    {
     "name": "stdout",
     "output_type": "stream",
     "text": [
      "Saved data\n",
      "\n",
      "idate: 2023-03-14 19:00:00.000 , fdate: 2023-03-14 20:00:00.000\n"
     ]
    },
    {
     "name": "stderr",
     "output_type": "stream",
     "text": [
      " 23%|██▎       | 332/1463 [10:19<38:06,  2.02s/it]"
     ]
    },
    {
     "name": "stdout",
     "output_type": "stream",
     "text": [
      "Saved data\n",
      "\n",
      "idate: 2023-03-14 20:00:00.000 , fdate: 2023-03-14 21:00:00.000\n"
     ]
    },
    {
     "name": "stderr",
     "output_type": "stream",
     "text": [
      " 23%|██▎       | 333/1463 [10:21<38:25,  2.04s/it]"
     ]
    },
    {
     "name": "stdout",
     "output_type": "stream",
     "text": [
      "Saved data\n",
      "\n",
      "idate: 2023-03-14 21:00:00.000 , fdate: 2023-03-14 22:00:00.000\n"
     ]
    },
    {
     "name": "stderr",
     "output_type": "stream",
     "text": [
      " 23%|██▎       | 334/1463 [10:23<40:05,  2.13s/it]"
     ]
    },
    {
     "name": "stdout",
     "output_type": "stream",
     "text": [
      "Saved data\n",
      "\n",
      "idate: 2023-03-14 22:00:00.000 , fdate: 2023-03-14 23:00:00.000\n"
     ]
    },
    {
     "name": "stderr",
     "output_type": "stream",
     "text": [
      " 23%|██▎       | 335/1463 [10:25<39:20,  2.09s/it]"
     ]
    },
    {
     "name": "stdout",
     "output_type": "stream",
     "text": [
      "Saved data\n",
      "\n",
      "idate: 2023-03-14 23:00:00.000 , fdate: 2023-03-15 00:00:00.000\n"
     ]
    },
    {
     "name": "stderr",
     "output_type": "stream",
     "text": [
      " 23%|██▎       | 336/1463 [10:27<37:42,  2.01s/it]"
     ]
    },
    {
     "name": "stdout",
     "output_type": "stream",
     "text": [
      "Saved data\n",
      "\n",
      "idate: 2023-03-15 00:00:00.000 , fdate: 2023-03-15 01:00:00.000\n"
     ]
    },
    {
     "name": "stderr",
     "output_type": "stream",
     "text": [
      " 23%|██▎       | 337/1463 [10:29<37:39,  2.01s/it]"
     ]
    },
    {
     "name": "stdout",
     "output_type": "stream",
     "text": [
      "Saved data\n",
      "\n",
      "idate: 2023-03-15 01:00:00.000 , fdate: 2023-03-15 02:00:00.000\n"
     ]
    },
    {
     "name": "stderr",
     "output_type": "stream",
     "text": [
      " 23%|██▎       | 338/1463 [10:31<37:19,  1.99s/it]"
     ]
    },
    {
     "name": "stdout",
     "output_type": "stream",
     "text": [
      "Saved data\n",
      "\n",
      "idate: 2023-03-15 02:00:00.000 , fdate: 2023-03-15 03:00:00.000\n"
     ]
    },
    {
     "name": "stderr",
     "output_type": "stream",
     "text": [
      " 23%|██▎       | 339/1463 [10:33<36:35,  1.95s/it]"
     ]
    },
    {
     "name": "stdout",
     "output_type": "stream",
     "text": [
      "Saved data\n",
      "\n",
      "idate: 2023-03-15 03:00:00.000 , fdate: 2023-03-15 04:00:00.000\n"
     ]
    },
    {
     "name": "stderr",
     "output_type": "stream",
     "text": [
      " 23%|██▎       | 340/1463 [10:35<35:12,  1.88s/it]"
     ]
    },
    {
     "name": "stdout",
     "output_type": "stream",
     "text": [
      "Saved data\n",
      "\n",
      "idate: 2023-03-15 04:00:00.000 , fdate: 2023-03-15 05:00:00.000\n"
     ]
    },
    {
     "name": "stderr",
     "output_type": "stream",
     "text": [
      " 23%|██▎       | 341/1463 [10:36<33:58,  1.82s/it]"
     ]
    },
    {
     "name": "stdout",
     "output_type": "stream",
     "text": [
      "Saved data\n",
      "\n",
      "idate: 2023-03-15 05:00:00.000 , fdate: 2023-03-15 06:00:00.000\n"
     ]
    },
    {
     "name": "stderr",
     "output_type": "stream",
     "text": [
      " 23%|██▎       | 342/1463 [10:38<32:41,  1.75s/it]"
     ]
    },
    {
     "name": "stdout",
     "output_type": "stream",
     "text": [
      "Saved data\n",
      "\n",
      "idate: 2023-03-15 06:00:00.000 , fdate: 2023-03-15 07:00:00.000\n"
     ]
    },
    {
     "name": "stderr",
     "output_type": "stream",
     "text": [
      " 23%|██▎       | 343/1463 [10:40<32:02,  1.72s/it]"
     ]
    },
    {
     "name": "stdout",
     "output_type": "stream",
     "text": [
      "Saved data\n",
      "\n",
      "idate: 2023-03-15 07:00:00.000 , fdate: 2023-03-15 08:00:00.000\n"
     ]
    },
    {
     "name": "stderr",
     "output_type": "stream",
     "text": [
      " 24%|██▎       | 344/1463 [10:41<31:47,  1.70s/it]"
     ]
    },
    {
     "name": "stdout",
     "output_type": "stream",
     "text": [
      "Saved data\n",
      "\n",
      "idate: 2023-03-15 08:00:00.000 , fdate: 2023-03-15 09:00:00.000\n"
     ]
    },
    {
     "name": "stderr",
     "output_type": "stream",
     "text": [
      " 24%|██▎       | 345/1463 [10:43<31:53,  1.71s/it]"
     ]
    },
    {
     "name": "stdout",
     "output_type": "stream",
     "text": [
      "Saved data\n",
      "\n",
      "idate: 2023-03-15 09:00:00.000 , fdate: 2023-03-15 10:00:00.000\n"
     ]
    },
    {
     "name": "stderr",
     "output_type": "stream",
     "text": [
      " 24%|██▎       | 346/1463 [10:45<33:56,  1.82s/it]"
     ]
    },
    {
     "name": "stdout",
     "output_type": "stream",
     "text": [
      "Saved data\n",
      "\n",
      "idate: 2023-03-15 10:00:00.000 , fdate: 2023-03-15 11:00:00.000\n"
     ]
    },
    {
     "name": "stderr",
     "output_type": "stream",
     "text": [
      " 24%|██▎       | 347/1463 [10:47<35:23,  1.90s/it]"
     ]
    },
    {
     "name": "stdout",
     "output_type": "stream",
     "text": [
      "Saved data\n",
      "\n",
      "idate: 2023-03-15 11:00:00.000 , fdate: 2023-03-15 12:00:00.000\n"
     ]
    },
    {
     "name": "stderr",
     "output_type": "stream",
     "text": [
      " 24%|██▍       | 348/1463 [10:49<35:54,  1.93s/it]"
     ]
    },
    {
     "name": "stdout",
     "output_type": "stream",
     "text": [
      "Saved data\n",
      "\n",
      "idate: 2023-03-15 12:00:00.000 , fdate: 2023-03-15 13:00:00.000\n"
     ]
    },
    {
     "name": "stderr",
     "output_type": "stream",
     "text": [
      " 24%|██▍       | 349/1463 [10:52<37:56,  2.04s/it]"
     ]
    },
    {
     "name": "stdout",
     "output_type": "stream",
     "text": [
      "Saved data\n",
      "\n",
      "idate: 2023-03-15 13:00:00.000 , fdate: 2023-03-15 14:00:00.000\n"
     ]
    },
    {
     "name": "stderr",
     "output_type": "stream",
     "text": [
      " 24%|██▍       | 350/1463 [10:54<38:58,  2.10s/it]"
     ]
    },
    {
     "name": "stdout",
     "output_type": "stream",
     "text": [
      "Saved data\n",
      "\n",
      "idate: 2023-03-15 14:00:00.000 , fdate: 2023-03-15 15:00:00.000\n"
     ]
    },
    {
     "name": "stderr",
     "output_type": "stream",
     "text": [
      " 24%|██▍       | 351/1463 [10:56<38:53,  2.10s/it]"
     ]
    },
    {
     "name": "stdout",
     "output_type": "stream",
     "text": [
      "Saved data\n",
      "\n",
      "idate: 2023-03-15 15:00:00.000 , fdate: 2023-03-15 16:00:00.000\n"
     ]
    },
    {
     "name": "stderr",
     "output_type": "stream",
     "text": [
      " 24%|██▍       | 352/1463 [10:58<38:14,  2.07s/it]"
     ]
    },
    {
     "name": "stdout",
     "output_type": "stream",
     "text": [
      "Saved data\n",
      "\n",
      "idate: 2023-03-15 16:00:00.000 , fdate: 2023-03-15 17:00:00.000\n"
     ]
    },
    {
     "name": "stderr",
     "output_type": "stream",
     "text": [
      " 24%|██▍       | 353/1463 [11:00<37:45,  2.04s/it]"
     ]
    },
    {
     "name": "stdout",
     "output_type": "stream",
     "text": [
      "Saved data\n",
      "\n",
      "idate: 2023-03-15 17:00:00.000 , fdate: 2023-03-15 18:00:00.000\n"
     ]
    },
    {
     "name": "stderr",
     "output_type": "stream",
     "text": [
      " 24%|██▍       | 354/1463 [11:03<43:22,  2.35s/it]"
     ]
    },
    {
     "name": "stdout",
     "output_type": "stream",
     "text": [
      "Saved data\n",
      "\n",
      "idate: 2023-03-15 18:00:00.000 , fdate: 2023-03-15 19:00:00.000\n"
     ]
    },
    {
     "name": "stderr",
     "output_type": "stream",
     "text": [
      " 24%|██▍       | 355/1463 [11:05<41:18,  2.24s/it]"
     ]
    },
    {
     "name": "stdout",
     "output_type": "stream",
     "text": [
      "Saved data\n",
      "\n",
      "idate: 2023-03-15 19:00:00.000 , fdate: 2023-03-15 20:00:00.000\n"
     ]
    },
    {
     "name": "stderr",
     "output_type": "stream",
     "text": [
      " 24%|██▍       | 356/1463 [11:07<40:04,  2.17s/it]"
     ]
    },
    {
     "name": "stdout",
     "output_type": "stream",
     "text": [
      "Saved data\n",
      "\n",
      "idate: 2023-03-15 20:00:00.000 , fdate: 2023-03-15 21:00:00.000\n"
     ]
    },
    {
     "name": "stderr",
     "output_type": "stream",
     "text": [
      " 24%|██▍       | 357/1463 [11:09<38:42,  2.10s/it]"
     ]
    },
    {
     "name": "stdout",
     "output_type": "stream",
     "text": [
      "Saved data\n",
      "\n",
      "idate: 2023-03-15 21:00:00.000 , fdate: 2023-03-15 22:00:00.000\n"
     ]
    },
    {
     "name": "stderr",
     "output_type": "stream",
     "text": [
      " 24%|██▍       | 358/1463 [11:11<39:18,  2.13s/it]"
     ]
    },
    {
     "name": "stdout",
     "output_type": "stream",
     "text": [
      "Saved data\n",
      "\n",
      "idate: 2023-03-15 22:00:00.000 , fdate: 2023-03-15 23:00:00.000\n"
     ]
    },
    {
     "name": "stderr",
     "output_type": "stream",
     "text": [
      " 25%|██▍       | 359/1463 [11:13<40:05,  2.18s/it]"
     ]
    },
    {
     "name": "stdout",
     "output_type": "stream",
     "text": [
      "Saved data\n",
      "\n",
      "idate: 2023-03-15 23:00:00.000 , fdate: 2023-03-16 00:00:00.000\n"
     ]
    },
    {
     "name": "stderr",
     "output_type": "stream",
     "text": [
      " 25%|██▍       | 360/1463 [11:15<37:54,  2.06s/it]"
     ]
    },
    {
     "name": "stdout",
     "output_type": "stream",
     "text": [
      "Saved data\n",
      "\n",
      "idate: 2023-03-16 00:00:00.000 , fdate: 2023-03-16 01:00:00.000\n"
     ]
    },
    {
     "name": "stderr",
     "output_type": "stream",
     "text": [
      " 25%|██▍       | 361/1463 [11:17<36:18,  1.98s/it]"
     ]
    },
    {
     "name": "stdout",
     "output_type": "stream",
     "text": [
      "Saved data\n",
      "\n",
      "idate: 2023-03-16 01:00:00.000 , fdate: 2023-03-16 02:00:00.000\n"
     ]
    },
    {
     "name": "stderr",
     "output_type": "stream",
     "text": [
      " 25%|██▍       | 362/1463 [11:19<35:39,  1.94s/it]"
     ]
    },
    {
     "name": "stdout",
     "output_type": "stream",
     "text": [
      "Saved data\n",
      "\n",
      "idate: 2023-03-16 02:00:00.000 , fdate: 2023-03-16 03:00:00.000\n"
     ]
    },
    {
     "name": "stderr",
     "output_type": "stream",
     "text": [
      " 25%|██▍       | 363/1463 [11:21<35:18,  1.93s/it]"
     ]
    },
    {
     "name": "stdout",
     "output_type": "stream",
     "text": [
      "Saved data\n",
      "\n",
      "idate: 2023-03-16 03:00:00.000 , fdate: 2023-03-16 04:00:00.000\n"
     ]
    },
    {
     "name": "stderr",
     "output_type": "stream",
     "text": [
      " 25%|██▍       | 364/1463 [11:22<34:17,  1.87s/it]"
     ]
    },
    {
     "name": "stdout",
     "output_type": "stream",
     "text": [
      "Saved data\n",
      "\n",
      "idate: 2023-03-16 04:00:00.000 , fdate: 2023-03-16 05:00:00.000\n"
     ]
    },
    {
     "name": "stderr",
     "output_type": "stream",
     "text": [
      " 25%|██▍       | 365/1463 [11:24<33:03,  1.81s/it]"
     ]
    },
    {
     "name": "stdout",
     "output_type": "stream",
     "text": [
      "Saved data\n",
      "\n",
      "idate: 2023-03-16 05:00:00.000 , fdate: 2023-03-16 06:00:00.000\n"
     ]
    },
    {
     "name": "stderr",
     "output_type": "stream",
     "text": [
      " 25%|██▌       | 366/1463 [11:26<31:54,  1.74s/it]"
     ]
    },
    {
     "name": "stdout",
     "output_type": "stream",
     "text": [
      "Saved data\n",
      "\n",
      "idate: 2023-03-16 06:00:00.000 , fdate: 2023-03-16 07:00:00.000\n"
     ]
    },
    {
     "name": "stderr",
     "output_type": "stream",
     "text": [
      " 25%|██▌       | 367/1463 [11:27<31:15,  1.71s/it]"
     ]
    },
    {
     "name": "stdout",
     "output_type": "stream",
     "text": [
      "Saved data\n",
      "\n",
      "idate: 2023-03-16 07:00:00.000 , fdate: 2023-03-16 08:00:00.000\n"
     ]
    },
    {
     "name": "stderr",
     "output_type": "stream",
     "text": [
      " 25%|██▌       | 368/1463 [11:29<31:10,  1.71s/it]"
     ]
    },
    {
     "name": "stdout",
     "output_type": "stream",
     "text": [
      "Saved data\n",
      "\n",
      "idate: 2023-03-16 08:00:00.000 , fdate: 2023-03-16 09:00:00.000\n"
     ]
    },
    {
     "name": "stderr",
     "output_type": "stream",
     "text": [
      " 25%|██▌       | 369/1463 [11:31<31:27,  1.72s/it]"
     ]
    },
    {
     "name": "stdout",
     "output_type": "stream",
     "text": [
      "Saved data\n",
      "\n",
      "idate: 2023-03-16 09:00:00.000 , fdate: 2023-03-16 10:00:00.000\n"
     ]
    },
    {
     "name": "stderr",
     "output_type": "stream",
     "text": [
      " 25%|██▌       | 370/1463 [11:33<32:53,  1.81s/it]"
     ]
    },
    {
     "name": "stdout",
     "output_type": "stream",
     "text": [
      "Saved data\n",
      "\n",
      "idate: 2023-03-16 10:00:00.000 , fdate: 2023-03-16 11:00:00.000\n"
     ]
    },
    {
     "name": "stderr",
     "output_type": "stream",
     "text": [
      " 25%|██▌       | 371/1463 [11:35<34:36,  1.90s/it]"
     ]
    },
    {
     "name": "stdout",
     "output_type": "stream",
     "text": [
      "Saved data\n",
      "\n",
      "idate: 2023-03-16 11:00:00.000 , fdate: 2023-03-16 12:00:00.000\n"
     ]
    },
    {
     "name": "stderr",
     "output_type": "stream",
     "text": [
      " 25%|██▌       | 372/1463 [11:37<35:17,  1.94s/it]"
     ]
    },
    {
     "name": "stdout",
     "output_type": "stream",
     "text": [
      "Saved data\n",
      "\n",
      "idate: 2023-03-16 12:00:00.000 , fdate: 2023-03-16 13:00:00.000\n"
     ]
    },
    {
     "name": "stderr",
     "output_type": "stream",
     "text": [
      " 25%|██▌       | 373/1463 [11:39<36:03,  1.99s/it]"
     ]
    },
    {
     "name": "stdout",
     "output_type": "stream",
     "text": [
      "Saved data\n",
      "\n",
      "idate: 2023-03-16 13:00:00.000 , fdate: 2023-03-16 14:00:00.000\n"
     ]
    },
    {
     "name": "stderr",
     "output_type": "stream",
     "text": [
      " 26%|██▌       | 374/1463 [11:41<36:12,  2.00s/it]"
     ]
    },
    {
     "name": "stdout",
     "output_type": "stream",
     "text": [
      "Saved data\n",
      "\n",
      "idate: 2023-03-16 14:00:00.000 , fdate: 2023-03-16 15:00:00.000\n"
     ]
    },
    {
     "name": "stderr",
     "output_type": "stream",
     "text": [
      " 26%|██▌       | 375/1463 [11:43<36:19,  2.00s/it]"
     ]
    },
    {
     "name": "stdout",
     "output_type": "stream",
     "text": [
      "Saved data\n",
      "\n",
      "idate: 2023-03-16 15:00:00.000 , fdate: 2023-03-16 16:00:00.000\n"
     ]
    },
    {
     "name": "stderr",
     "output_type": "stream",
     "text": [
      " 26%|██▌       | 376/1463 [11:45<37:47,  2.09s/it]"
     ]
    },
    {
     "name": "stdout",
     "output_type": "stream",
     "text": [
      "Saved data\n",
      "\n",
      "idate: 2023-03-16 16:00:00.000 , fdate: 2023-03-16 17:00:00.000\n"
     ]
    },
    {
     "name": "stderr",
     "output_type": "stream",
     "text": [
      " 26%|██▌       | 377/1463 [11:47<36:34,  2.02s/it]"
     ]
    },
    {
     "name": "stdout",
     "output_type": "stream",
     "text": [
      "Saved data\n",
      "\n",
      "idate: 2023-03-16 17:00:00.000 , fdate: 2023-03-16 18:00:00.000\n"
     ]
    },
    {
     "name": "stderr",
     "output_type": "stream",
     "text": [
      " 26%|██▌       | 378/1463 [11:49<36:16,  2.01s/it]"
     ]
    },
    {
     "name": "stdout",
     "output_type": "stream",
     "text": [
      "Saved data\n",
      "\n",
      "idate: 2023-03-16 18:00:00.000 , fdate: 2023-03-16 19:00:00.000\n"
     ]
    },
    {
     "name": "stderr",
     "output_type": "stream",
     "text": [
      " 26%|██▌       | 379/1463 [11:51<35:50,  1.98s/it]"
     ]
    },
    {
     "name": "stdout",
     "output_type": "stream",
     "text": [
      "Saved data\n",
      "\n",
      "idate: 2023-03-16 19:00:00.000 , fdate: 2023-03-16 20:00:00.000\n"
     ]
    },
    {
     "name": "stderr",
     "output_type": "stream",
     "text": [
      " 26%|██▌       | 380/1463 [11:53<35:33,  1.97s/it]"
     ]
    },
    {
     "name": "stdout",
     "output_type": "stream",
     "text": [
      "Saved data\n",
      "\n",
      "idate: 2023-03-16 20:00:00.000 , fdate: 2023-03-16 21:00:00.000\n"
     ]
    },
    {
     "name": "stderr",
     "output_type": "stream",
     "text": [
      " 26%|██▌       | 381/1463 [11:55<35:49,  1.99s/it]"
     ]
    },
    {
     "name": "stdout",
     "output_type": "stream",
     "text": [
      "Saved data\n",
      "\n",
      "idate: 2023-03-16 21:00:00.000 , fdate: 2023-03-16 22:00:00.000\n"
     ]
    },
    {
     "name": "stderr",
     "output_type": "stream",
     "text": [
      " 26%|██▌       | 382/1463 [11:57<36:01,  2.00s/it]"
     ]
    },
    {
     "name": "stdout",
     "output_type": "stream",
     "text": [
      "Saved data\n",
      "\n",
      "idate: 2023-03-16 22:00:00.000 , fdate: 2023-03-16 23:00:00.000\n"
     ]
    },
    {
     "name": "stderr",
     "output_type": "stream",
     "text": [
      " 26%|██▌       | 383/1463 [11:59<34:56,  1.94s/it]"
     ]
    },
    {
     "name": "stdout",
     "output_type": "stream",
     "text": [
      "Saved data\n",
      "\n",
      "idate: 2023-03-16 23:00:00.000 , fdate: 2023-03-17 00:00:00.000\n"
     ]
    },
    {
     "name": "stderr",
     "output_type": "stream",
     "text": [
      " 26%|██▌       | 384/1463 [12:01<34:12,  1.90s/it]"
     ]
    },
    {
     "name": "stdout",
     "output_type": "stream",
     "text": [
      "Saved data\n",
      "\n",
      "idate: 2023-03-17 00:00:00.000 , fdate: 2023-03-17 01:00:00.000\n"
     ]
    },
    {
     "name": "stderr",
     "output_type": "stream",
     "text": [
      " 26%|██▋       | 385/1463 [12:02<33:16,  1.85s/it]"
     ]
    },
    {
     "name": "stdout",
     "output_type": "stream",
     "text": [
      "Saved data\n",
      "\n",
      "idate: 2023-03-17 01:00:00.000 , fdate: 2023-03-17 02:00:00.000\n"
     ]
    },
    {
     "name": "stderr",
     "output_type": "stream",
     "text": [
      " 26%|██▋       | 386/1463 [12:04<33:21,  1.86s/it]"
     ]
    },
    {
     "name": "stdout",
     "output_type": "stream",
     "text": [
      "Saved data\n",
      "\n",
      "idate: 2023-03-17 02:00:00.000 , fdate: 2023-03-17 03:00:00.000\n"
     ]
    },
    {
     "name": "stderr",
     "output_type": "stream",
     "text": [
      " 26%|██▋       | 387/1463 [12:06<33:24,  1.86s/it]"
     ]
    },
    {
     "name": "stdout",
     "output_type": "stream",
     "text": [
      "Saved data\n",
      "\n",
      "idate: 2023-03-17 03:00:00.000 , fdate: 2023-03-17 04:00:00.000\n"
     ]
    },
    {
     "name": "stderr",
     "output_type": "stream",
     "text": [
      " 27%|██▋       | 388/1463 [12:08<32:56,  1.84s/it]"
     ]
    },
    {
     "name": "stdout",
     "output_type": "stream",
     "text": [
      "Saved data\n",
      "\n",
      "idate: 2023-03-17 04:00:00.000 , fdate: 2023-03-17 05:00:00.000\n"
     ]
    },
    {
     "name": "stderr",
     "output_type": "stream",
     "text": [
      " 27%|██▋       | 389/1463 [12:10<32:05,  1.79s/it]"
     ]
    },
    {
     "name": "stdout",
     "output_type": "stream",
     "text": [
      "Saved data\n",
      "\n",
      "idate: 2023-03-17 05:00:00.000 , fdate: 2023-03-17 06:00:00.000\n"
     ]
    },
    {
     "name": "stderr",
     "output_type": "stream",
     "text": [
      " 27%|██▋       | 390/1463 [12:11<31:04,  1.74s/it]"
     ]
    },
    {
     "name": "stdout",
     "output_type": "stream",
     "text": [
      "Saved data\n",
      "\n",
      "idate: 2023-03-17 06:00:00.000 , fdate: 2023-03-17 07:00:00.000\n"
     ]
    },
    {
     "name": "stderr",
     "output_type": "stream",
     "text": [
      " 27%|██▋       | 391/1463 [12:13<30:42,  1.72s/it]"
     ]
    },
    {
     "name": "stdout",
     "output_type": "stream",
     "text": [
      "Saved data\n",
      "\n",
      "idate: 2023-03-17 07:00:00.000 , fdate: 2023-03-17 08:00:00.000\n"
     ]
    },
    {
     "name": "stderr",
     "output_type": "stream",
     "text": [
      " 27%|██▋       | 392/1463 [12:15<30:35,  1.71s/it]"
     ]
    },
    {
     "name": "stdout",
     "output_type": "stream",
     "text": [
      "Saved data\n",
      "\n",
      "idate: 2023-03-17 08:00:00.000 , fdate: 2023-03-17 09:00:00.000\n"
     ]
    },
    {
     "name": "stderr",
     "output_type": "stream",
     "text": [
      " 27%|██▋       | 393/1463 [12:16<31:03,  1.74s/it]"
     ]
    },
    {
     "name": "stdout",
     "output_type": "stream",
     "text": [
      "Saved data\n",
      "\n",
      "idate: 2023-03-17 09:00:00.000 , fdate: 2023-03-17 10:00:00.000\n"
     ]
    },
    {
     "name": "stderr",
     "output_type": "stream",
     "text": [
      " 27%|██▋       | 394/1463 [12:19<33:04,  1.86s/it]"
     ]
    },
    {
     "name": "stdout",
     "output_type": "stream",
     "text": [
      "Saved data\n",
      "\n",
      "idate: 2023-03-17 10:00:00.000 , fdate: 2023-03-17 11:00:00.000\n"
     ]
    },
    {
     "name": "stderr",
     "output_type": "stream",
     "text": [
      " 27%|██▋       | 395/1463 [12:21<35:30,  1.99s/it]"
     ]
    },
    {
     "name": "stdout",
     "output_type": "stream",
     "text": [
      "Saved data\n",
      "\n",
      "idate: 2023-03-17 11:00:00.000 , fdate: 2023-03-17 12:00:00.000\n"
     ]
    },
    {
     "name": "stderr",
     "output_type": "stream",
     "text": [
      " 27%|██▋       | 396/1463 [12:23<35:09,  1.98s/it]"
     ]
    },
    {
     "name": "stdout",
     "output_type": "stream",
     "text": [
      "Saved data\n",
      "\n",
      "idate: 2023-03-17 12:00:00.000 , fdate: 2023-03-17 13:00:00.000\n"
     ]
    },
    {
     "name": "stderr",
     "output_type": "stream",
     "text": [
      " 27%|██▋       | 397/1463 [12:25<35:03,  1.97s/it]"
     ]
    },
    {
     "name": "stdout",
     "output_type": "stream",
     "text": [
      "Saved data\n",
      "\n",
      "idate: 2023-03-17 13:00:00.000 , fdate: 2023-03-17 14:00:00.000\n"
     ]
    },
    {
     "name": "stderr",
     "output_type": "stream",
     "text": [
      " 27%|██▋       | 398/1463 [12:27<35:03,  1.98s/it]"
     ]
    },
    {
     "name": "stdout",
     "output_type": "stream",
     "text": [
      "Saved data\n",
      "\n",
      "idate: 2023-03-17 14:00:00.000 , fdate: 2023-03-17 15:00:00.000\n"
     ]
    },
    {
     "name": "stderr",
     "output_type": "stream",
     "text": [
      " 27%|██▋       | 399/1463 [12:29<36:12,  2.04s/it]"
     ]
    },
    {
     "name": "stdout",
     "output_type": "stream",
     "text": [
      "Saved data\n",
      "\n",
      "idate: 2023-03-17 15:00:00.000 , fdate: 2023-03-17 16:00:00.000\n"
     ]
    },
    {
     "name": "stderr",
     "output_type": "stream",
     "text": [
      " 27%|██▋       | 400/1463 [12:31<37:01,  2.09s/it]"
     ]
    },
    {
     "name": "stdout",
     "output_type": "stream",
     "text": [
      "Saved data\n",
      "\n",
      "idate: 2023-03-17 16:00:00.000 , fdate: 2023-03-17 17:00:00.000\n"
     ]
    },
    {
     "name": "stderr",
     "output_type": "stream",
     "text": [
      " 27%|██▋       | 401/1463 [12:33<37:05,  2.10s/it]"
     ]
    },
    {
     "name": "stdout",
     "output_type": "stream",
     "text": [
      "Saved data\n",
      "\n",
      "idate: 2023-03-17 17:00:00.000 , fdate: 2023-03-17 18:00:00.000\n"
     ]
    },
    {
     "name": "stderr",
     "output_type": "stream",
     "text": [
      " 27%|██▋       | 402/1463 [12:35<36:50,  2.08s/it]"
     ]
    },
    {
     "name": "stdout",
     "output_type": "stream",
     "text": [
      "Saved data\n",
      "\n",
      "idate: 2023-03-17 18:00:00.000 , fdate: 2023-03-17 19:00:00.000\n"
     ]
    },
    {
     "name": "stderr",
     "output_type": "stream",
     "text": [
      " 28%|██▊       | 403/1463 [12:38<37:44,  2.14s/it]"
     ]
    },
    {
     "name": "stdout",
     "output_type": "stream",
     "text": [
      "Saved data\n",
      "\n",
      "idate: 2023-03-17 19:00:00.000 , fdate: 2023-03-17 20:00:00.000\n"
     ]
    },
    {
     "name": "stderr",
     "output_type": "stream",
     "text": [
      " 28%|██▊       | 404/1463 [12:40<37:31,  2.13s/it]"
     ]
    },
    {
     "name": "stdout",
     "output_type": "stream",
     "text": [
      "Saved data\n",
      "\n",
      "idate: 2023-03-17 20:00:00.000 , fdate: 2023-03-17 21:00:00.000\n"
     ]
    },
    {
     "name": "stderr",
     "output_type": "stream",
     "text": [
      " 28%|██▊       | 405/1463 [12:42<38:09,  2.16s/it]"
     ]
    },
    {
     "name": "stdout",
     "output_type": "stream",
     "text": [
      "Saved data\n",
      "\n",
      "idate: 2023-03-17 21:00:00.000 , fdate: 2023-03-17 22:00:00.000\n"
     ]
    },
    {
     "name": "stderr",
     "output_type": "stream",
     "text": [
      " 28%|██▊       | 406/1463 [12:45<40:18,  2.29s/it]"
     ]
    },
    {
     "name": "stdout",
     "output_type": "stream",
     "text": [
      "Saved data\n",
      "\n",
      "idate: 2023-03-17 22:00:00.000 , fdate: 2023-03-17 23:00:00.000\n"
     ]
    },
    {
     "name": "stderr",
     "output_type": "stream",
     "text": [
      " 28%|██▊       | 407/1463 [12:47<40:13,  2.29s/it]"
     ]
    },
    {
     "name": "stdout",
     "output_type": "stream",
     "text": [
      "Saved data\n",
      "\n",
      "idate: 2023-03-17 23:00:00.000 , fdate: 2023-03-18 00:00:00.000\n"
     ]
    },
    {
     "name": "stderr",
     "output_type": "stream",
     "text": [
      " 28%|██▊       | 408/1463 [12:49<37:37,  2.14s/it]"
     ]
    },
    {
     "name": "stdout",
     "output_type": "stream",
     "text": [
      "Saved data\n",
      "\n",
      "idate: 2023-03-18 00:00:00.000 , fdate: 2023-03-18 01:00:00.000\n"
     ]
    },
    {
     "name": "stderr",
     "output_type": "stream",
     "text": [
      " 28%|██▊       | 409/1463 [12:50<35:43,  2.03s/it]"
     ]
    },
    {
     "name": "stdout",
     "output_type": "stream",
     "text": [
      "Saved data\n",
      "\n",
      "idate: 2023-03-18 01:00:00.000 , fdate: 2023-03-18 02:00:00.000\n"
     ]
    },
    {
     "name": "stderr",
     "output_type": "stream",
     "text": [
      " 28%|██▊       | 410/1463 [12:52<34:47,  1.98s/it]"
     ]
    },
    {
     "name": "stdout",
     "output_type": "stream",
     "text": [
      "Saved data\n",
      "\n",
      "idate: 2023-03-18 02:00:00.000 , fdate: 2023-03-18 03:00:00.000\n"
     ]
    },
    {
     "name": "stderr",
     "output_type": "stream",
     "text": [
      " 28%|██▊       | 411/1463 [12:54<34:47,  1.98s/it]"
     ]
    },
    {
     "name": "stdout",
     "output_type": "stream",
     "text": [
      "Saved data\n",
      "\n",
      "idate: 2023-03-18 03:00:00.000 , fdate: 2023-03-18 04:00:00.000\n"
     ]
    },
    {
     "name": "stderr",
     "output_type": "stream",
     "text": [
      " 28%|██▊       | 412/1463 [12:56<33:25,  1.91s/it]"
     ]
    },
    {
     "name": "stdout",
     "output_type": "stream",
     "text": [
      "Saved data\n",
      "\n",
      "idate: 2023-03-18 04:00:00.000 , fdate: 2023-03-18 05:00:00.000\n"
     ]
    },
    {
     "name": "stderr",
     "output_type": "stream",
     "text": [
      " 28%|██▊       | 413/1463 [12:58<32:06,  1.83s/it]"
     ]
    },
    {
     "name": "stdout",
     "output_type": "stream",
     "text": [
      "Saved data\n",
      "\n",
      "idate: 2023-03-18 05:00:00.000 , fdate: 2023-03-18 06:00:00.000\n"
     ]
    },
    {
     "name": "stderr",
     "output_type": "stream",
     "text": [
      " 28%|██▊       | 414/1463 [12:59<31:17,  1.79s/it]"
     ]
    },
    {
     "name": "stdout",
     "output_type": "stream",
     "text": [
      "Saved data\n",
      "\n",
      "idate: 2023-03-18 06:00:00.000 , fdate: 2023-03-18 07:00:00.000\n"
     ]
    },
    {
     "name": "stderr",
     "output_type": "stream",
     "text": [
      " 28%|██▊       | 415/1463 [13:01<30:32,  1.75s/it]"
     ]
    },
    {
     "name": "stdout",
     "output_type": "stream",
     "text": [
      "Saved data\n",
      "\n",
      "idate: 2023-03-18 07:00:00.000 , fdate: 2023-03-18 08:00:00.000\n"
     ]
    },
    {
     "name": "stderr",
     "output_type": "stream",
     "text": [
      " 28%|██▊       | 416/1463 [13:03<30:27,  1.75s/it]"
     ]
    },
    {
     "name": "stdout",
     "output_type": "stream",
     "text": [
      "Saved data\n",
      "\n",
      "idate: 2023-03-18 08:00:00.000 , fdate: 2023-03-18 09:00:00.000\n"
     ]
    },
    {
     "name": "stderr",
     "output_type": "stream",
     "text": [
      " 29%|██▊       | 417/1463 [13:05<30:49,  1.77s/it]"
     ]
    },
    {
     "name": "stdout",
     "output_type": "stream",
     "text": [
      "Saved data\n",
      "\n",
      "idate: 2023-03-18 09:00:00.000 , fdate: 2023-03-18 10:00:00.000\n"
     ]
    },
    {
     "name": "stderr",
     "output_type": "stream",
     "text": [
      " 29%|██▊       | 418/1463 [13:07<32:01,  1.84s/it]"
     ]
    },
    {
     "name": "stdout",
     "output_type": "stream",
     "text": [
      "Saved data\n",
      "\n",
      "idate: 2023-03-18 10:00:00.000 , fdate: 2023-03-18 11:00:00.000\n"
     ]
    },
    {
     "name": "stderr",
     "output_type": "stream",
     "text": [
      " 29%|██▊       | 419/1463 [13:09<32:52,  1.89s/it]"
     ]
    },
    {
     "name": "stdout",
     "output_type": "stream",
     "text": [
      "Saved data\n",
      "\n",
      "idate: 2023-03-18 11:00:00.000 , fdate: 2023-03-18 12:00:00.000\n"
     ]
    },
    {
     "name": "stderr",
     "output_type": "stream",
     "text": [
      " 29%|██▊       | 420/1463 [13:11<34:43,  2.00s/it]"
     ]
    },
    {
     "name": "stdout",
     "output_type": "stream",
     "text": [
      "Saved data\n",
      "\n",
      "idate: 2023-03-18 12:00:00.000 , fdate: 2023-03-18 13:00:00.000\n"
     ]
    },
    {
     "name": "stderr",
     "output_type": "stream",
     "text": [
      " 29%|██▉       | 421/1463 [13:13<36:17,  2.09s/it]"
     ]
    },
    {
     "name": "stdout",
     "output_type": "stream",
     "text": [
      "Saved data\n",
      "\n",
      "idate: 2023-03-18 13:00:00.000 , fdate: 2023-03-18 14:00:00.000\n"
     ]
    },
    {
     "name": "stderr",
     "output_type": "stream",
     "text": [
      " 29%|██▉       | 422/1463 [13:15<35:58,  2.07s/it]"
     ]
    },
    {
     "name": "stdout",
     "output_type": "stream",
     "text": [
      "Saved data\n",
      "\n",
      "idate: 2023-03-18 14:00:00.000 , fdate: 2023-03-18 15:00:00.000\n"
     ]
    },
    {
     "name": "stderr",
     "output_type": "stream",
     "text": [
      " 29%|██▉       | 423/1463 [13:17<37:19,  2.15s/it]"
     ]
    },
    {
     "name": "stdout",
     "output_type": "stream",
     "text": [
      "Saved data\n",
      "\n",
      "idate: 2023-03-18 15:00:00.000 , fdate: 2023-03-18 16:00:00.000\n"
     ]
    },
    {
     "name": "stderr",
     "output_type": "stream",
     "text": [
      " 29%|██▉       | 424/1463 [13:19<36:33,  2.11s/it]"
     ]
    },
    {
     "name": "stdout",
     "output_type": "stream",
     "text": [
      "Saved data\n",
      "\n",
      "idate: 2023-03-18 16:00:00.000 , fdate: 2023-03-18 17:00:00.000\n"
     ]
    },
    {
     "name": "stderr",
     "output_type": "stream",
     "text": [
      " 29%|██▉       | 425/1463 [13:21<34:28,  1.99s/it]"
     ]
    },
    {
     "name": "stdout",
     "output_type": "stream",
     "text": [
      "Saved data\n",
      "\n",
      "idate: 2023-03-18 17:00:00.000 , fdate: 2023-03-18 18:00:00.000\n"
     ]
    },
    {
     "name": "stderr",
     "output_type": "stream",
     "text": [
      " 29%|██▉       | 426/1463 [13:23<34:14,  1.98s/it]"
     ]
    },
    {
     "name": "stdout",
     "output_type": "stream",
     "text": [
      "Saved data\n",
      "\n",
      "idate: 2023-03-18 18:00:00.000 , fdate: 2023-03-18 19:00:00.000\n"
     ]
    },
    {
     "name": "stderr",
     "output_type": "stream",
     "text": [
      " 29%|██▉       | 427/1463 [13:25<33:47,  1.96s/it]"
     ]
    },
    {
     "name": "stdout",
     "output_type": "stream",
     "text": [
      "Saved data\n",
      "\n",
      "idate: 2023-03-18 19:00:00.000 , fdate: 2023-03-18 20:00:00.000\n"
     ]
    },
    {
     "name": "stderr",
     "output_type": "stream",
     "text": [
      " 29%|██▉       | 428/1463 [13:27<33:07,  1.92s/it]"
     ]
    },
    {
     "name": "stdout",
     "output_type": "stream",
     "text": [
      "Saved data\n",
      "\n",
      "idate: 2023-03-18 20:00:00.000 , fdate: 2023-03-18 21:00:00.000\n"
     ]
    },
    {
     "name": "stderr",
     "output_type": "stream",
     "text": [
      " 29%|██▉       | 429/1463 [13:29<32:51,  1.91s/it]"
     ]
    },
    {
     "name": "stdout",
     "output_type": "stream",
     "text": [
      "Saved data\n",
      "\n",
      "idate: 2023-03-18 21:00:00.000 , fdate: 2023-03-18 22:00:00.000\n"
     ]
    },
    {
     "name": "stderr",
     "output_type": "stream",
     "text": [
      " 29%|██▉       | 430/1463 [13:31<32:44,  1.90s/it]"
     ]
    },
    {
     "name": "stdout",
     "output_type": "stream",
     "text": [
      "Saved data\n",
      "\n",
      "idate: 2023-03-18 22:00:00.000 , fdate: 2023-03-18 23:00:00.000\n"
     ]
    },
    {
     "name": "stderr",
     "output_type": "stream",
     "text": [
      " 29%|██▉       | 431/1463 [13:33<32:48,  1.91s/it]"
     ]
    },
    {
     "name": "stdout",
     "output_type": "stream",
     "text": [
      "Saved data\n",
      "\n",
      "idate: 2023-03-18 23:00:00.000 , fdate: 2023-03-19 00:00:00.000\n"
     ]
    },
    {
     "name": "stderr",
     "output_type": "stream",
     "text": [
      " 30%|██▉       | 432/1463 [13:34<31:55,  1.86s/it]"
     ]
    },
    {
     "name": "stdout",
     "output_type": "stream",
     "text": [
      "Saved data\n",
      "\n",
      "idate: 2023-03-19 00:00:00.000 , fdate: 2023-03-19 01:00:00.000\n"
     ]
    },
    {
     "name": "stderr",
     "output_type": "stream",
     "text": [
      " 30%|██▉       | 433/1463 [13:36<31:50,  1.85s/it]"
     ]
    },
    {
     "name": "stdout",
     "output_type": "stream",
     "text": [
      "Saved data\n",
      "\n",
      "idate: 2023-03-19 01:00:00.000 , fdate: 2023-03-19 02:00:00.000\n"
     ]
    },
    {
     "name": "stderr",
     "output_type": "stream",
     "text": [
      " 30%|██▉       | 434/1463 [13:38<31:20,  1.83s/it]"
     ]
    },
    {
     "name": "stdout",
     "output_type": "stream",
     "text": [
      "Saved data\n",
      "\n",
      "idate: 2023-03-19 02:00:00.000 , fdate: 2023-03-19 03:00:00.000\n"
     ]
    },
    {
     "name": "stderr",
     "output_type": "stream",
     "text": [
      " 30%|██▉       | 435/1463 [13:40<30:53,  1.80s/it]"
     ]
    },
    {
     "name": "stdout",
     "output_type": "stream",
     "text": [
      "Saved data\n",
      "\n",
      "idate: 2023-03-19 03:00:00.000 , fdate: 2023-03-19 04:00:00.000\n"
     ]
    },
    {
     "name": "stderr",
     "output_type": "stream",
     "text": [
      " 30%|██▉       | 436/1463 [13:41<31:00,  1.81s/it]"
     ]
    },
    {
     "name": "stdout",
     "output_type": "stream",
     "text": [
      "Saved data\n",
      "\n",
      "idate: 2023-03-19 04:00:00.000 , fdate: 2023-03-19 05:00:00.000\n"
     ]
    },
    {
     "name": "stderr",
     "output_type": "stream",
     "text": [
      " 30%|██▉       | 437/1463 [13:43<30:23,  1.78s/it]"
     ]
    },
    {
     "name": "stdout",
     "output_type": "stream",
     "text": [
      "Saved data\n",
      "\n",
      "idate: 2023-03-19 05:00:00.000 , fdate: 2023-03-19 06:00:00.000\n"
     ]
    },
    {
     "name": "stderr",
     "output_type": "stream",
     "text": [
      " 30%|██▉       | 438/1463 [13:45<29:33,  1.73s/it]"
     ]
    },
    {
     "name": "stdout",
     "output_type": "stream",
     "text": [
      "Saved data\n",
      "\n",
      "idate: 2023-03-19 06:00:00.000 , fdate: 2023-03-19 07:00:00.000\n"
     ]
    },
    {
     "name": "stderr",
     "output_type": "stream",
     "text": [
      " 30%|███       | 439/1463 [13:46<28:59,  1.70s/it]"
     ]
    },
    {
     "name": "stdout",
     "output_type": "stream",
     "text": [
      "Saved data\n",
      "\n",
      "idate: 2023-03-19 07:00:00.000 , fdate: 2023-03-19 08:00:00.000\n"
     ]
    },
    {
     "name": "stderr",
     "output_type": "stream",
     "text": [
      " 30%|███       | 440/1463 [13:48<28:51,  1.69s/it]"
     ]
    },
    {
     "name": "stdout",
     "output_type": "stream",
     "text": [
      "Saved data\n",
      "\n",
      "idate: 2023-03-19 08:00:00.000 , fdate: 2023-03-19 09:00:00.000\n"
     ]
    },
    {
     "name": "stderr",
     "output_type": "stream",
     "text": [
      " 30%|███       | 441/1463 [13:50<29:00,  1.70s/it]"
     ]
    },
    {
     "name": "stdout",
     "output_type": "stream",
     "text": [
      "Saved data\n",
      "\n",
      "idate: 2023-03-19 09:00:00.000 , fdate: 2023-03-19 10:00:00.000\n"
     ]
    },
    {
     "name": "stderr",
     "output_type": "stream",
     "text": [
      " 30%|███       | 442/1463 [13:52<29:57,  1.76s/it]"
     ]
    },
    {
     "name": "stdout",
     "output_type": "stream",
     "text": [
      "Saved data\n",
      "\n",
      "idate: 2023-03-19 10:00:00.000 , fdate: 2023-03-19 11:00:00.000\n"
     ]
    },
    {
     "name": "stderr",
     "output_type": "stream",
     "text": [
      " 30%|███       | 443/1463 [13:53<29:45,  1.75s/it]"
     ]
    },
    {
     "name": "stdout",
     "output_type": "stream",
     "text": [
      "Saved data\n",
      "\n",
      "idate: 2023-03-19 11:00:00.000 , fdate: 2023-03-19 12:00:00.000\n"
     ]
    },
    {
     "name": "stderr",
     "output_type": "stream",
     "text": [
      " 30%|███       | 444/1463 [13:55<30:48,  1.81s/it]"
     ]
    },
    {
     "name": "stdout",
     "output_type": "stream",
     "text": [
      "Saved data\n",
      "\n",
      "idate: 2023-03-19 12:00:00.000 , fdate: 2023-03-19 13:00:00.000\n"
     ]
    },
    {
     "name": "stderr",
     "output_type": "stream",
     "text": [
      " 30%|███       | 445/1463 [13:57<31:44,  1.87s/it]"
     ]
    },
    {
     "name": "stdout",
     "output_type": "stream",
     "text": [
      "Saved data\n",
      "\n",
      "idate: 2023-03-19 13:00:00.000 , fdate: 2023-03-19 14:00:00.000\n"
     ]
    },
    {
     "name": "stderr",
     "output_type": "stream",
     "text": [
      " 30%|███       | 446/1463 [14:00<33:28,  1.97s/it]"
     ]
    },
    {
     "name": "stdout",
     "output_type": "stream",
     "text": [
      "Saved data\n",
      "\n",
      "idate: 2023-03-19 14:00:00.000 , fdate: 2023-03-19 15:00:00.000\n"
     ]
    },
    {
     "name": "stderr",
     "output_type": "stream",
     "text": [
      " 31%|███       | 447/1463 [14:02<33:31,  1.98s/it]"
     ]
    },
    {
     "name": "stdout",
     "output_type": "stream",
     "text": [
      "Saved data\n",
      "\n",
      "idate: 2023-03-19 15:00:00.000 , fdate: 2023-03-19 16:00:00.000\n"
     ]
    },
    {
     "name": "stderr",
     "output_type": "stream",
     "text": [
      " 31%|███       | 448/1463 [14:04<33:27,  1.98s/it]"
     ]
    },
    {
     "name": "stdout",
     "output_type": "stream",
     "text": [
      "Saved data\n",
      "\n",
      "idate: 2023-03-19 16:00:00.000 , fdate: 2023-03-19 17:00:00.000\n"
     ]
    },
    {
     "name": "stderr",
     "output_type": "stream",
     "text": [
      " 31%|███       | 449/1463 [14:06<33:43,  2.00s/it]"
     ]
    },
    {
     "name": "stdout",
     "output_type": "stream",
     "text": [
      "Saved data\n",
      "\n",
      "idate: 2023-03-19 17:00:00.000 , fdate: 2023-03-19 18:00:00.000\n"
     ]
    },
    {
     "name": "stderr",
     "output_type": "stream",
     "text": [
      " 31%|███       | 450/1463 [14:08<33:16,  1.97s/it]"
     ]
    },
    {
     "name": "stdout",
     "output_type": "stream",
     "text": [
      "Saved data\n",
      "\n",
      "idate: 2023-03-19 18:00:00.000 , fdate: 2023-03-19 19:00:00.000\n"
     ]
    },
    {
     "name": "stderr",
     "output_type": "stream",
     "text": [
      " 31%|███       | 451/1463 [14:10<34:01,  2.02s/it]"
     ]
    },
    {
     "name": "stdout",
     "output_type": "stream",
     "text": [
      "Saved data\n",
      "\n",
      "idate: 2023-03-19 19:00:00.000 , fdate: 2023-03-19 20:00:00.000\n"
     ]
    },
    {
     "name": "stderr",
     "output_type": "stream",
     "text": [
      " 31%|███       | 452/1463 [14:12<33:42,  2.00s/it]"
     ]
    },
    {
     "name": "stdout",
     "output_type": "stream",
     "text": [
      "Saved data\n",
      "\n",
      "idate: 2023-03-19 20:00:00.000 , fdate: 2023-03-19 21:00:00.000\n"
     ]
    },
    {
     "name": "stderr",
     "output_type": "stream",
     "text": [
      " 31%|███       | 453/1463 [14:14<34:05,  2.02s/it]"
     ]
    },
    {
     "name": "stdout",
     "output_type": "stream",
     "text": [
      "Saved data\n",
      "\n",
      "idate: 2023-03-19 21:00:00.000 , fdate: 2023-03-19 22:00:00.000\n"
     ]
    },
    {
     "name": "stderr",
     "output_type": "stream",
     "text": [
      " 31%|███       | 454/1463 [14:16<34:39,  2.06s/it]"
     ]
    },
    {
     "name": "stdout",
     "output_type": "stream",
     "text": [
      "Saved data\n",
      "\n",
      "idate: 2023-03-19 22:00:00.000 , fdate: 2023-03-19 23:00:00.000\n"
     ]
    },
    {
     "name": "stderr",
     "output_type": "stream",
     "text": [
      " 31%|███       | 455/1463 [14:18<35:17,  2.10s/it]"
     ]
    },
    {
     "name": "stdout",
     "output_type": "stream",
     "text": [
      "Saved data\n",
      "\n",
      "idate: 2023-03-19 23:00:00.000 , fdate: 2023-03-20 00:00:00.000\n"
     ]
    },
    {
     "name": "stderr",
     "output_type": "stream",
     "text": [
      " 31%|███       | 456/1463 [14:20<33:40,  2.01s/it]"
     ]
    },
    {
     "name": "stdout",
     "output_type": "stream",
     "text": [
      "Saved data\n",
      "\n",
      "idate: 2023-03-20 00:00:00.000 , fdate: 2023-03-20 01:00:00.000\n"
     ]
    },
    {
     "name": "stderr",
     "output_type": "stream",
     "text": [
      " 31%|███       | 457/1463 [14:22<32:27,  1.94s/it]"
     ]
    },
    {
     "name": "stdout",
     "output_type": "stream",
     "text": [
      "Saved data\n",
      "\n",
      "idate: 2023-03-20 01:00:00.000 , fdate: 2023-03-20 02:00:00.000\n"
     ]
    },
    {
     "name": "stderr",
     "output_type": "stream",
     "text": [
      " 31%|███▏      | 458/1463 [14:23<31:55,  1.91s/it]"
     ]
    },
    {
     "name": "stdout",
     "output_type": "stream",
     "text": [
      "Saved data\n",
      "\n",
      "idate: 2023-03-20 02:00:00.000 , fdate: 2023-03-20 03:00:00.000\n"
     ]
    },
    {
     "name": "stderr",
     "output_type": "stream",
     "text": [
      " 31%|███▏      | 459/1463 [14:25<31:31,  1.88s/it]"
     ]
    },
    {
     "name": "stdout",
     "output_type": "stream",
     "text": [
      "Saved data\n",
      "\n",
      "idate: 2023-03-20 03:00:00.000 , fdate: 2023-03-20 04:00:00.000\n"
     ]
    },
    {
     "name": "stderr",
     "output_type": "stream",
     "text": [
      " 31%|███▏      | 460/1463 [14:27<30:42,  1.84s/it]"
     ]
    },
    {
     "name": "stdout",
     "output_type": "stream",
     "text": [
      "Saved data\n",
      "\n",
      "idate: 2023-03-20 04:00:00.000 , fdate: 2023-03-20 05:00:00.000\n"
     ]
    },
    {
     "name": "stderr",
     "output_type": "stream",
     "text": [
      " 32%|███▏      | 461/1463 [14:29<29:46,  1.78s/it]"
     ]
    },
    {
     "name": "stdout",
     "output_type": "stream",
     "text": [
      "Saved data\n",
      "\n",
      "idate: 2023-03-20 05:00:00.000 , fdate: 2023-03-20 06:00:00.000\n"
     ]
    },
    {
     "name": "stderr",
     "output_type": "stream",
     "text": [
      " 32%|███▏      | 462/1463 [14:30<28:54,  1.73s/it]"
     ]
    },
    {
     "name": "stdout",
     "output_type": "stream",
     "text": [
      "Saved data\n",
      "\n",
      "idate: 2023-03-20 06:00:00.000 , fdate: 2023-03-20 07:00:00.000\n"
     ]
    },
    {
     "name": "stderr",
     "output_type": "stream",
     "text": [
      " 32%|███▏      | 463/1463 [14:33<33:36,  2.02s/it]"
     ]
    },
    {
     "name": "stdout",
     "output_type": "stream",
     "text": [
      "Saved data\n",
      "\n",
      "idate: 2023-03-20 07:00:00.000 , fdate: 2023-03-20 08:00:00.000\n"
     ]
    },
    {
     "name": "stderr",
     "output_type": "stream",
     "text": [
      " 32%|███▏      | 464/1463 [14:35<31:56,  1.92s/it]"
     ]
    },
    {
     "name": "stdout",
     "output_type": "stream",
     "text": [
      "Saved data\n",
      "\n",
      "idate: 2023-03-20 08:00:00.000 , fdate: 2023-03-20 09:00:00.000\n"
     ]
    },
    {
     "name": "stderr",
     "output_type": "stream",
     "text": [
      " 32%|███▏      | 465/1463 [14:36<31:24,  1.89s/it]"
     ]
    },
    {
     "name": "stdout",
     "output_type": "stream",
     "text": [
      "Saved data\n",
      "\n",
      "idate: 2023-03-20 09:00:00.000 , fdate: 2023-03-20 10:00:00.000\n"
     ]
    },
    {
     "name": "stderr",
     "output_type": "stream",
     "text": [
      " 32%|███▏      | 466/1463 [14:39<32:10,  1.94s/it]"
     ]
    },
    {
     "name": "stdout",
     "output_type": "stream",
     "text": [
      "Saved data\n",
      "\n",
      "idate: 2023-03-20 10:00:00.000 , fdate: 2023-03-20 11:00:00.000\n"
     ]
    },
    {
     "name": "stderr",
     "output_type": "stream",
     "text": [
      " 32%|███▏      | 467/1463 [14:41<32:37,  1.97s/it]"
     ]
    },
    {
     "name": "stdout",
     "output_type": "stream",
     "text": [
      "Saved data\n",
      "\n",
      "idate: 2023-03-20 11:00:00.000 , fdate: 2023-03-20 12:00:00.000\n"
     ]
    },
    {
     "name": "stderr",
     "output_type": "stream",
     "text": [
      " 32%|███▏      | 468/1463 [14:43<33:52,  2.04s/it]"
     ]
    },
    {
     "name": "stdout",
     "output_type": "stream",
     "text": [
      "Saved data\n",
      "\n",
      "idate: 2023-03-20 12:00:00.000 , fdate: 2023-03-20 13:00:00.000\n"
     ]
    },
    {
     "name": "stderr",
     "output_type": "stream",
     "text": [
      " 32%|███▏      | 469/1463 [14:45<34:26,  2.08s/it]"
     ]
    },
    {
     "name": "stdout",
     "output_type": "stream",
     "text": [
      "Saved data\n",
      "\n",
      "idate: 2023-03-20 13:00:00.000 , fdate: 2023-03-20 14:00:00.000\n"
     ]
    },
    {
     "name": "stderr",
     "output_type": "stream",
     "text": [
      " 32%|███▏      | 470/1463 [14:47<36:40,  2.22s/it]"
     ]
    },
    {
     "name": "stdout",
     "output_type": "stream",
     "text": [
      "Saved data\n",
      "\n",
      "idate: 2023-03-20 14:00:00.000 , fdate: 2023-03-20 15:00:00.000\n"
     ]
    },
    {
     "name": "stderr",
     "output_type": "stream",
     "text": [
      " 32%|███▏      | 471/1463 [14:50<36:00,  2.18s/it]"
     ]
    },
    {
     "name": "stdout",
     "output_type": "stream",
     "text": [
      "Saved data\n",
      "\n",
      "idate: 2023-03-20 15:00:00.000 , fdate: 2023-03-20 16:00:00.000\n"
     ]
    },
    {
     "name": "stderr",
     "output_type": "stream",
     "text": [
      " 32%|███▏      | 472/1463 [14:52<36:32,  2.21s/it]"
     ]
    },
    {
     "name": "stdout",
     "output_type": "stream",
     "text": [
      "Saved data\n",
      "\n",
      "idate: 2023-03-20 16:00:00.000 , fdate: 2023-03-20 17:00:00.000\n"
     ]
    },
    {
     "name": "stderr",
     "output_type": "stream",
     "text": [
      " 32%|███▏      | 473/1463 [14:54<35:25,  2.15s/it]"
     ]
    },
    {
     "name": "stdout",
     "output_type": "stream",
     "text": [
      "Saved data\n",
      "\n",
      "idate: 2023-03-20 17:00:00.000 , fdate: 2023-03-20 18:00:00.000\n"
     ]
    },
    {
     "name": "stderr",
     "output_type": "stream",
     "text": [
      " 32%|███▏      | 474/1463 [14:56<35:28,  2.15s/it]"
     ]
    },
    {
     "name": "stdout",
     "output_type": "stream",
     "text": [
      "Saved data\n",
      "\n",
      "idate: 2023-03-20 18:00:00.000 , fdate: 2023-03-20 19:00:00.000\n"
     ]
    },
    {
     "name": "stderr",
     "output_type": "stream",
     "text": [
      " 32%|███▏      | 475/1463 [14:58<34:51,  2.12s/it]"
     ]
    },
    {
     "name": "stdout",
     "output_type": "stream",
     "text": [
      "Saved data\n",
      "\n",
      "idate: 2023-03-20 19:00:00.000 , fdate: 2023-03-20 20:00:00.000\n"
     ]
    },
    {
     "name": "stderr",
     "output_type": "stream",
     "text": [
      " 33%|███▎      | 476/1463 [15:00<35:15,  2.14s/it]"
     ]
    },
    {
     "name": "stdout",
     "output_type": "stream",
     "text": [
      "Saved data\n",
      "\n",
      "idate: 2023-03-20 20:00:00.000 , fdate: 2023-03-20 21:00:00.000\n"
     ]
    },
    {
     "name": "stderr",
     "output_type": "stream",
     "text": [
      " 33%|███▎      | 477/1463 [15:02<34:20,  2.09s/it]"
     ]
    },
    {
     "name": "stdout",
     "output_type": "stream",
     "text": [
      "Saved data\n",
      "\n",
      "idate: 2023-03-20 21:00:00.000 , fdate: 2023-03-20 22:00:00.000\n"
     ]
    },
    {
     "name": "stderr",
     "output_type": "stream",
     "text": [
      " 33%|███▎      | 478/1463 [15:04<34:56,  2.13s/it]"
     ]
    },
    {
     "name": "stdout",
     "output_type": "stream",
     "text": [
      "Saved data\n",
      "\n",
      "idate: 2023-03-20 22:00:00.000 , fdate: 2023-03-20 23:00:00.000\n"
     ]
    },
    {
     "name": "stderr",
     "output_type": "stream",
     "text": [
      " 33%|███▎      | 479/1463 [15:07<35:50,  2.19s/it]"
     ]
    },
    {
     "name": "stdout",
     "output_type": "stream",
     "text": [
      "Saved data\n",
      "\n",
      "idate: 2023-03-20 23:00:00.000 , fdate: 2023-03-21 00:00:00.000\n"
     ]
    },
    {
     "name": "stderr",
     "output_type": "stream",
     "text": [
      " 33%|███▎      | 480/1463 [15:09<33:54,  2.07s/it]"
     ]
    },
    {
     "name": "stdout",
     "output_type": "stream",
     "text": [
      "Saved data\n",
      "\n",
      "idate: 2023-03-21 00:00:00.000 , fdate: 2023-03-21 01:00:00.000\n"
     ]
    },
    {
     "name": "stderr",
     "output_type": "stream",
     "text": [
      " 33%|███▎      | 481/1463 [15:10<32:47,  2.00s/it]"
     ]
    },
    {
     "name": "stdout",
     "output_type": "stream",
     "text": [
      "Saved data\n",
      "\n",
      "idate: 2023-03-21 01:00:00.000 , fdate: 2023-03-21 02:00:00.000\n"
     ]
    },
    {
     "name": "stderr",
     "output_type": "stream",
     "text": [
      " 33%|███▎      | 482/1463 [15:13<34:24,  2.10s/it]"
     ]
    },
    {
     "name": "stdout",
     "output_type": "stream",
     "text": [
      "Saved data\n",
      "\n",
      "idate: 2023-03-21 02:00:00.000 , fdate: 2023-03-21 03:00:00.000\n"
     ]
    },
    {
     "name": "stderr",
     "output_type": "stream",
     "text": [
      " 33%|███▎      | 483/1463 [15:15<33:00,  2.02s/it]"
     ]
    },
    {
     "name": "stdout",
     "output_type": "stream",
     "text": [
      "Saved data\n",
      "\n",
      "idate: 2023-03-21 03:00:00.000 , fdate: 2023-03-21 04:00:00.000\n"
     ]
    },
    {
     "name": "stderr",
     "output_type": "stream",
     "text": [
      " 33%|███▎      | 484/1463 [15:16<31:36,  1.94s/it]"
     ]
    },
    {
     "name": "stdout",
     "output_type": "stream",
     "text": [
      "Saved data\n",
      "\n",
      "idate: 2023-03-21 04:00:00.000 , fdate: 2023-03-21 05:00:00.000\n"
     ]
    },
    {
     "name": "stderr",
     "output_type": "stream",
     "text": [
      " 33%|███▎      | 485/1463 [15:18<30:13,  1.85s/it]"
     ]
    },
    {
     "name": "stdout",
     "output_type": "stream",
     "text": [
      "Saved data\n",
      "\n",
      "idate: 2023-03-21 05:00:00.000 , fdate: 2023-03-21 06:00:00.000\n"
     ]
    },
    {
     "name": "stderr",
     "output_type": "stream",
     "text": [
      " 33%|███▎      | 486/1463 [15:20<29:07,  1.79s/it]"
     ]
    },
    {
     "name": "stdout",
     "output_type": "stream",
     "text": [
      "Saved data\n",
      "\n",
      "idate: 2023-03-21 06:00:00.000 , fdate: 2023-03-21 07:00:00.000\n"
     ]
    },
    {
     "name": "stderr",
     "output_type": "stream",
     "text": [
      " 33%|███▎      | 487/1463 [15:21<28:28,  1.75s/it]"
     ]
    },
    {
     "name": "stdout",
     "output_type": "stream",
     "text": [
      "Saved data\n",
      "\n",
      "idate: 2023-03-21 07:00:00.000 , fdate: 2023-03-21 08:00:00.000\n"
     ]
    },
    {
     "name": "stderr",
     "output_type": "stream",
     "text": [
      " 33%|███▎      | 488/1463 [15:23<28:17,  1.74s/it]"
     ]
    },
    {
     "name": "stdout",
     "output_type": "stream",
     "text": [
      "Saved data\n",
      "\n",
      "idate: 2023-03-21 08:00:00.000 , fdate: 2023-03-21 09:00:00.000\n"
     ]
    },
    {
     "name": "stderr",
     "output_type": "stream",
     "text": [
      " 33%|███▎      | 489/1463 [15:25<28:45,  1.77s/it]"
     ]
    },
    {
     "name": "stdout",
     "output_type": "stream",
     "text": [
      "Saved data\n",
      "\n",
      "idate: 2023-03-21 09:00:00.000 , fdate: 2023-03-21 10:00:00.000\n"
     ]
    },
    {
     "name": "stderr",
     "output_type": "stream",
     "text": [
      " 33%|███▎      | 490/1463 [15:27<30:43,  1.89s/it]"
     ]
    },
    {
     "name": "stdout",
     "output_type": "stream",
     "text": [
      "Saved data\n",
      "\n",
      "idate: 2023-03-21 10:00:00.000 , fdate: 2023-03-21 11:00:00.000\n"
     ]
    },
    {
     "name": "stderr",
     "output_type": "stream",
     "text": [
      " 34%|███▎      | 491/1463 [15:29<31:21,  1.94s/it]"
     ]
    },
    {
     "name": "stdout",
     "output_type": "stream",
     "text": [
      "Saved data\n",
      "\n",
      "idate: 2023-03-21 11:00:00.000 , fdate: 2023-03-21 12:00:00.000\n"
     ]
    },
    {
     "name": "stderr",
     "output_type": "stream",
     "text": [
      " 34%|███▎      | 492/1463 [15:31<32:03,  1.98s/it]"
     ]
    },
    {
     "name": "stdout",
     "output_type": "stream",
     "text": [
      "Saved data\n",
      "\n",
      "idate: 2023-03-21 12:00:00.000 , fdate: 2023-03-21 13:00:00.000\n"
     ]
    },
    {
     "name": "stderr",
     "output_type": "stream",
     "text": [
      " 34%|███▎      | 493/1463 [15:33<33:24,  2.07s/it]"
     ]
    },
    {
     "name": "stdout",
     "output_type": "stream",
     "text": [
      "Saved data\n",
      "\n",
      "idate: 2023-03-21 13:00:00.000 , fdate: 2023-03-21 14:00:00.000\n"
     ]
    },
    {
     "name": "stderr",
     "output_type": "stream",
     "text": [
      " 34%|███▍      | 494/1463 [15:35<33:08,  2.05s/it]"
     ]
    },
    {
     "name": "stdout",
     "output_type": "stream",
     "text": [
      "Saved data\n",
      "\n",
      "idate: 2023-03-21 14:00:00.000 , fdate: 2023-03-21 15:00:00.000\n"
     ]
    },
    {
     "name": "stderr",
     "output_type": "stream",
     "text": [
      " 34%|███▍      | 495/1463 [15:37<32:46,  2.03s/it]"
     ]
    },
    {
     "name": "stdout",
     "output_type": "stream",
     "text": [
      "Saved data\n",
      "\n",
      "idate: 2023-03-21 15:00:00.000 , fdate: 2023-03-21 16:00:00.000\n"
     ]
    },
    {
     "name": "stderr",
     "output_type": "stream",
     "text": [
      " 34%|███▍      | 496/1463 [15:40<33:55,  2.10s/it]"
     ]
    },
    {
     "name": "stdout",
     "output_type": "stream",
     "text": [
      "Saved data\n",
      "\n",
      "idate: 2023-03-21 16:00:00.000 , fdate: 2023-03-21 17:00:00.000\n"
     ]
    },
    {
     "name": "stderr",
     "output_type": "stream",
     "text": [
      " 34%|███▍      | 497/1463 [15:42<33:31,  2.08s/it]"
     ]
    },
    {
     "name": "stdout",
     "output_type": "stream",
     "text": [
      "Saved data\n",
      "\n",
      "idate: 2023-03-21 17:00:00.000 , fdate: 2023-03-21 18:00:00.000\n"
     ]
    },
    {
     "name": "stderr",
     "output_type": "stream",
     "text": [
      " 34%|███▍      | 498/1463 [15:44<33:00,  2.05s/it]"
     ]
    },
    {
     "name": "stdout",
     "output_type": "stream",
     "text": [
      "Saved data\n",
      "\n",
      "idate: 2023-03-21 18:00:00.000 , fdate: 2023-03-21 19:00:00.000\n"
     ]
    },
    {
     "name": "stderr",
     "output_type": "stream",
     "text": [
      " 34%|███▍      | 499/1463 [15:46<32:53,  2.05s/it]"
     ]
    },
    {
     "name": "stdout",
     "output_type": "stream",
     "text": [
      "Saved data\n",
      "\n",
      "idate: 2023-03-21 19:00:00.000 , fdate: 2023-03-21 20:00:00.000\n"
     ]
    },
    {
     "name": "stderr",
     "output_type": "stream",
     "text": [
      " 34%|███▍      | 500/1463 [15:48<32:21,  2.02s/it]"
     ]
    },
    {
     "name": "stdout",
     "output_type": "stream",
     "text": [
      "Saved data\n",
      "\n",
      "idate: 2023-03-21 20:00:00.000 , fdate: 2023-03-21 21:00:00.000\n"
     ]
    },
    {
     "name": "stderr",
     "output_type": "stream",
     "text": [
      " 34%|███▍      | 501/1463 [15:50<32:35,  2.03s/it]"
     ]
    },
    {
     "name": "stdout",
     "output_type": "stream",
     "text": [
      "Saved data\n",
      "\n",
      "idate: 2023-03-21 21:00:00.000 , fdate: 2023-03-21 22:00:00.000\n"
     ]
    },
    {
     "name": "stderr",
     "output_type": "stream",
     "text": [
      " 34%|███▍      | 502/1463 [15:52<33:21,  2.08s/it]"
     ]
    },
    {
     "name": "stdout",
     "output_type": "stream",
     "text": [
      "Saved data\n",
      "\n",
      "idate: 2023-03-21 22:00:00.000 , fdate: 2023-03-21 23:00:00.000\n"
     ]
    },
    {
     "name": "stderr",
     "output_type": "stream",
     "text": [
      " 34%|███▍      | 503/1463 [15:54<33:37,  2.10s/it]"
     ]
    },
    {
     "name": "stdout",
     "output_type": "stream",
     "text": [
      "Saved data\n",
      "\n",
      "idate: 2023-03-21 23:00:00.000 , fdate: 2023-03-22 00:00:00.000\n"
     ]
    },
    {
     "name": "stderr",
     "output_type": "stream",
     "text": [
      " 34%|███▍      | 504/1463 [15:56<34:01,  2.13s/it]"
     ]
    },
    {
     "name": "stdout",
     "output_type": "stream",
     "text": [
      "Saved data\n",
      "\n",
      "idate: 2023-03-22 00:00:00.000 , fdate: 2023-03-22 01:00:00.000\n"
     ]
    },
    {
     "name": "stderr",
     "output_type": "stream",
     "text": [
      " 35%|███▍      | 505/1463 [15:58<32:19,  2.02s/it]"
     ]
    },
    {
     "name": "stdout",
     "output_type": "stream",
     "text": [
      "Saved data\n",
      "\n",
      "idate: 2023-03-22 01:00:00.000 , fdate: 2023-03-22 02:00:00.000\n"
     ]
    },
    {
     "name": "stderr",
     "output_type": "stream",
     "text": [
      " 35%|███▍      | 506/1463 [16:00<31:41,  1.99s/it]"
     ]
    },
    {
     "name": "stdout",
     "output_type": "stream",
     "text": [
      "Saved data\n",
      "\n",
      "idate: 2023-03-22 02:00:00.000 , fdate: 2023-03-22 03:00:00.000\n"
     ]
    },
    {
     "name": "stderr",
     "output_type": "stream",
     "text": [
      " 35%|███▍      | 507/1463 [16:02<31:21,  1.97s/it]"
     ]
    },
    {
     "name": "stdout",
     "output_type": "stream",
     "text": [
      "Saved data\n",
      "\n",
      "idate: 2023-03-22 03:00:00.000 , fdate: 2023-03-22 04:00:00.000\n"
     ]
    },
    {
     "name": "stderr",
     "output_type": "stream",
     "text": [
      " 35%|███▍      | 508/1463 [16:04<30:05,  1.89s/it]"
     ]
    },
    {
     "name": "stdout",
     "output_type": "stream",
     "text": [
      "Saved data\n",
      "\n",
      "idate: 2023-03-22 04:00:00.000 , fdate: 2023-03-22 05:00:00.000\n"
     ]
    },
    {
     "name": "stderr",
     "output_type": "stream",
     "text": [
      " 35%|███▍      | 509/1463 [16:05<28:58,  1.82s/it]"
     ]
    },
    {
     "name": "stdout",
     "output_type": "stream",
     "text": [
      "Saved data\n",
      "\n",
      "idate: 2023-03-22 05:00:00.000 , fdate: 2023-03-22 06:00:00.000\n"
     ]
    },
    {
     "name": "stderr",
     "output_type": "stream",
     "text": [
      " 35%|███▍      | 510/1463 [16:07<27:53,  1.76s/it]"
     ]
    },
    {
     "name": "stdout",
     "output_type": "stream",
     "text": [
      "Saved data\n",
      "\n",
      "idate: 2023-03-22 06:00:00.000 , fdate: 2023-03-22 07:00:00.000\n"
     ]
    },
    {
     "name": "stderr",
     "output_type": "stream",
     "text": [
      " 35%|███▍      | 511/1463 [16:08<27:13,  1.72s/it]"
     ]
    },
    {
     "name": "stdout",
     "output_type": "stream",
     "text": [
      "Saved data\n",
      "\n",
      "idate: 2023-03-22 07:00:00.000 , fdate: 2023-03-22 08:00:00.000\n"
     ]
    },
    {
     "name": "stderr",
     "output_type": "stream",
     "text": [
      " 35%|███▍      | 512/1463 [16:10<27:08,  1.71s/it]"
     ]
    },
    {
     "name": "stdout",
     "output_type": "stream",
     "text": [
      "Saved data\n",
      "\n",
      "idate: 2023-03-22 08:00:00.000 , fdate: 2023-03-22 09:00:00.000\n"
     ]
    },
    {
     "name": "stderr",
     "output_type": "stream",
     "text": [
      " 35%|███▌      | 513/1463 [16:12<27:33,  1.74s/it]"
     ]
    },
    {
     "name": "stdout",
     "output_type": "stream",
     "text": [
      "Saved data\n",
      "\n",
      "idate: 2023-03-22 09:00:00.000 , fdate: 2023-03-22 10:00:00.000\n"
     ]
    },
    {
     "name": "stderr",
     "output_type": "stream",
     "text": [
      " 35%|███▌      | 514/1463 [16:14<28:35,  1.81s/it]"
     ]
    },
    {
     "name": "stdout",
     "output_type": "stream",
     "text": [
      "Saved data\n",
      "\n",
      "idate: 2023-03-22 10:00:00.000 , fdate: 2023-03-22 11:00:00.000\n"
     ]
    },
    {
     "name": "stderr",
     "output_type": "stream",
     "text": [
      " 35%|███▌      | 515/1463 [16:16<29:22,  1.86s/it]"
     ]
    },
    {
     "name": "stdout",
     "output_type": "stream",
     "text": [
      "Saved data\n",
      "\n",
      "idate: 2023-03-22 11:00:00.000 , fdate: 2023-03-22 12:00:00.000\n"
     ]
    },
    {
     "name": "stderr",
     "output_type": "stream",
     "text": [
      " 35%|███▌      | 516/1463 [16:18<30:20,  1.92s/it]"
     ]
    },
    {
     "name": "stdout",
     "output_type": "stream",
     "text": [
      "Saved data\n",
      "\n",
      "idate: 2023-03-22 12:00:00.000 , fdate: 2023-03-22 13:00:00.000\n"
     ]
    },
    {
     "name": "stderr",
     "output_type": "stream",
     "text": [
      " 35%|███▌      | 517/1463 [16:20<31:15,  1.98s/it]"
     ]
    },
    {
     "name": "stdout",
     "output_type": "stream",
     "text": [
      "Saved data\n",
      "\n",
      "idate: 2023-03-22 13:00:00.000 , fdate: 2023-03-22 14:00:00.000\n"
     ]
    },
    {
     "name": "stderr",
     "output_type": "stream",
     "text": [
      " 35%|███▌      | 518/1463 [16:22<31:12,  1.98s/it]"
     ]
    },
    {
     "name": "stdout",
     "output_type": "stream",
     "text": [
      "Saved data\n",
      "\n",
      "idate: 2023-03-22 14:00:00.000 , fdate: 2023-03-22 15:00:00.000\n"
     ]
    },
    {
     "name": "stderr",
     "output_type": "stream",
     "text": [
      " 35%|███▌      | 519/1463 [16:24<32:05,  2.04s/it]"
     ]
    },
    {
     "name": "stdout",
     "output_type": "stream",
     "text": [
      "Saved data\n",
      "\n",
      "idate: 2023-03-22 15:00:00.000 , fdate: 2023-03-22 16:00:00.000\n"
     ]
    },
    {
     "name": "stderr",
     "output_type": "stream",
     "text": [
      " 36%|███▌      | 520/1463 [16:26<31:34,  2.01s/it]"
     ]
    },
    {
     "name": "stdout",
     "output_type": "stream",
     "text": [
      "Saved data\n",
      "\n",
      "idate: 2023-03-22 16:00:00.000 , fdate: 2023-03-22 17:00:00.000\n"
     ]
    },
    {
     "name": "stderr",
     "output_type": "stream",
     "text": [
      " 36%|███▌      | 521/1463 [16:28<32:14,  2.05s/it]"
     ]
    },
    {
     "name": "stdout",
     "output_type": "stream",
     "text": [
      "Saved data\n",
      "\n",
      "idate: 2023-03-22 17:00:00.000 , fdate: 2023-03-22 18:00:00.000\n"
     ]
    },
    {
     "name": "stderr",
     "output_type": "stream",
     "text": [
      " 36%|███▌      | 522/1463 [16:30<32:24,  2.07s/it]"
     ]
    },
    {
     "name": "stdout",
     "output_type": "stream",
     "text": [
      "Saved data\n",
      "\n",
      "idate: 2023-03-22 18:00:00.000 , fdate: 2023-03-22 19:00:00.000\n"
     ]
    },
    {
     "name": "stderr",
     "output_type": "stream",
     "text": [
      " 36%|███▌      | 523/1463 [16:32<32:07,  2.05s/it]"
     ]
    },
    {
     "name": "stdout",
     "output_type": "stream",
     "text": [
      "Saved data\n",
      "\n",
      "idate: 2023-03-22 19:00:00.000 , fdate: 2023-03-22 20:00:00.000\n"
     ]
    },
    {
     "name": "stderr",
     "output_type": "stream",
     "text": [
      " 36%|███▌      | 524/1463 [16:35<33:39,  2.15s/it]"
     ]
    },
    {
     "name": "stdout",
     "output_type": "stream",
     "text": [
      "Saved data\n",
      "\n",
      "idate: 2023-03-22 20:00:00.000 , fdate: 2023-03-22 21:00:00.000\n"
     ]
    },
    {
     "name": "stderr",
     "output_type": "stream",
     "text": [
      " 36%|███▌      | 525/1463 [16:37<33:01,  2.11s/it]"
     ]
    },
    {
     "name": "stdout",
     "output_type": "stream",
     "text": [
      "Saved data\n",
      "\n",
      "idate: 2023-03-22 21:00:00.000 , fdate: 2023-03-22 22:00:00.000\n"
     ]
    },
    {
     "name": "stderr",
     "output_type": "stream",
     "text": [
      " 36%|███▌      | 526/1463 [16:39<32:36,  2.09s/it]"
     ]
    },
    {
     "name": "stdout",
     "output_type": "stream",
     "text": [
      "Saved data\n",
      "\n",
      "idate: 2023-03-22 22:00:00.000 , fdate: 2023-03-22 23:00:00.000\n"
     ]
    },
    {
     "name": "stderr",
     "output_type": "stream",
     "text": [
      " 36%|███▌      | 527/1463 [16:41<34:31,  2.21s/it]"
     ]
    },
    {
     "name": "stdout",
     "output_type": "stream",
     "text": [
      "Saved data\n",
      "\n",
      "idate: 2023-03-22 23:00:00.000 , fdate: 2023-03-23 00:00:00.000\n"
     ]
    },
    {
     "name": "stderr",
     "output_type": "stream",
     "text": [
      " 36%|███▌      | 528/1463 [16:43<32:53,  2.11s/it]"
     ]
    },
    {
     "name": "stdout",
     "output_type": "stream",
     "text": [
      "Saved data\n",
      "\n",
      "idate: 2023-03-23 00:00:00.000 , fdate: 2023-03-23 01:00:00.000\n"
     ]
    },
    {
     "name": "stderr",
     "output_type": "stream",
     "text": [
      " 36%|███▌      | 529/1463 [16:45<31:18,  2.01s/it]"
     ]
    },
    {
     "name": "stdout",
     "output_type": "stream",
     "text": [
      "Saved data\n",
      "\n",
      "idate: 2023-03-23 01:00:00.000 , fdate: 2023-03-23 02:00:00.000\n"
     ]
    },
    {
     "name": "stderr",
     "output_type": "stream",
     "text": [
      " 36%|███▌      | 530/1463 [16:47<31:44,  2.04s/it]"
     ]
    },
    {
     "name": "stdout",
     "output_type": "stream",
     "text": [
      "Saved data\n",
      "\n",
      "idate: 2023-03-23 02:00:00.000 , fdate: 2023-03-23 03:00:00.000\n"
     ]
    },
    {
     "name": "stderr",
     "output_type": "stream",
     "text": [
      " 36%|███▋      | 531/1463 [16:49<31:09,  2.01s/it]"
     ]
    },
    {
     "name": "stdout",
     "output_type": "stream",
     "text": [
      "Saved data\n",
      "\n",
      "idate: 2023-03-23 03:00:00.000 , fdate: 2023-03-23 04:00:00.000\n"
     ]
    },
    {
     "name": "stderr",
     "output_type": "stream",
     "text": [
      " 36%|███▋      | 532/1463 [16:51<29:55,  1.93s/it]"
     ]
    },
    {
     "name": "stdout",
     "output_type": "stream",
     "text": [
      "Saved data\n",
      "\n",
      "idate: 2023-03-23 04:00:00.000 , fdate: 2023-03-23 05:00:00.000\n"
     ]
    },
    {
     "name": "stderr",
     "output_type": "stream",
     "text": [
      " 36%|███▋      | 533/1463 [16:53<28:46,  1.86s/it]"
     ]
    },
    {
     "name": "stdout",
     "output_type": "stream",
     "text": [
      "Saved data\n",
      "\n",
      "idate: 2023-03-23 05:00:00.000 , fdate: 2023-03-23 06:00:00.000\n"
     ]
    },
    {
     "name": "stderr",
     "output_type": "stream",
     "text": [
      " 37%|███▋      | 534/1463 [16:54<27:36,  1.78s/it]"
     ]
    },
    {
     "name": "stdout",
     "output_type": "stream",
     "text": [
      "Saved data\n",
      "\n",
      "idate: 2023-03-23 06:00:00.000 , fdate: 2023-03-23 07:00:00.000\n"
     ]
    },
    {
     "name": "stderr",
     "output_type": "stream",
     "text": [
      " 37%|███▋      | 535/1463 [16:56<26:56,  1.74s/it]"
     ]
    },
    {
     "name": "stdout",
     "output_type": "stream",
     "text": [
      "Saved data\n",
      "\n",
      "idate: 2023-03-23 07:00:00.000 , fdate: 2023-03-23 08:00:00.000\n"
     ]
    },
    {
     "name": "stderr",
     "output_type": "stream",
     "text": [
      " 37%|███▋      | 536/1463 [16:58<27:01,  1.75s/it]"
     ]
    },
    {
     "name": "stdout",
     "output_type": "stream",
     "text": [
      "Saved data\n",
      "\n",
      "idate: 2023-03-23 08:00:00.000 , fdate: 2023-03-23 09:00:00.000\n"
     ]
    },
    {
     "name": "stderr",
     "output_type": "stream",
     "text": [
      " 37%|███▋      | 537/1463 [16:59<27:42,  1.80s/it]"
     ]
    },
    {
     "name": "stdout",
     "output_type": "stream",
     "text": [
      "Saved data\n",
      "\n",
      "idate: 2023-03-23 09:00:00.000 , fdate: 2023-03-23 10:00:00.000\n"
     ]
    },
    {
     "name": "stderr",
     "output_type": "stream",
     "text": [
      " 37%|███▋      | 538/1463 [17:02<29:16,  1.90s/it]"
     ]
    },
    {
     "name": "stdout",
     "output_type": "stream",
     "text": [
      "Saved data\n",
      "\n",
      "idate: 2023-03-23 10:00:00.000 , fdate: 2023-03-23 11:00:00.000\n"
     ]
    },
    {
     "name": "stderr",
     "output_type": "stream",
     "text": [
      " 37%|███▋      | 539/1463 [17:04<29:55,  1.94s/it]"
     ]
    },
    {
     "name": "stdout",
     "output_type": "stream",
     "text": [
      "Saved data\n",
      "\n",
      "idate: 2023-03-23 11:00:00.000 , fdate: 2023-03-23 12:00:00.000\n"
     ]
    },
    {
     "name": "stderr",
     "output_type": "stream",
     "text": [
      " 37%|███▋      | 540/1463 [17:06<29:54,  1.94s/it]"
     ]
    },
    {
     "name": "stdout",
     "output_type": "stream",
     "text": [
      "Saved data\n",
      "\n",
      "idate: 2023-03-23 12:00:00.000 , fdate: 2023-03-23 13:00:00.000\n"
     ]
    },
    {
     "name": "stderr",
     "output_type": "stream",
     "text": [
      " 37%|███▋      | 541/1463 [17:08<30:48,  2.00s/it]"
     ]
    },
    {
     "name": "stdout",
     "output_type": "stream",
     "text": [
      "Saved data\n",
      "\n",
      "idate: 2023-03-23 13:00:00.000 , fdate: 2023-03-23 14:00:00.000\n"
     ]
    },
    {
     "name": "stderr",
     "output_type": "stream",
     "text": [
      " 37%|███▋      | 542/1463 [17:10<30:37,  2.00s/it]"
     ]
    },
    {
     "name": "stdout",
     "output_type": "stream",
     "text": [
      "Saved data\n",
      "\n",
      "idate: 2023-03-23 14:00:00.000 , fdate: 2023-03-23 15:00:00.000\n"
     ]
    },
    {
     "name": "stderr",
     "output_type": "stream",
     "text": [
      " 37%|███▋      | 543/1463 [17:11<28:37,  1.87s/it]"
     ]
    },
    {
     "name": "stdout",
     "output_type": "stream",
     "text": [
      "\n",
      "idate: 2023-03-23 15:00:00.000 , fdate: 2023-03-23 16:00:00.000\n"
     ]
    },
    {
     "name": "stderr",
     "output_type": "stream",
     "text": [
      " 37%|███▋      | 544/1463 [17:13<27:18,  1.78s/it]"
     ]
    },
    {
     "name": "stdout",
     "output_type": "stream",
     "text": [
      "\n",
      "idate: 2023-03-23 16:00:00.000 , fdate: 2023-03-23 17:00:00.000\n"
     ]
    },
    {
     "name": "stderr",
     "output_type": "stream",
     "text": [
      " 37%|███▋      | 545/1463 [17:15<26:31,  1.73s/it]"
     ]
    },
    {
     "name": "stdout",
     "output_type": "stream",
     "text": [
      "\n",
      "idate: 2023-03-23 17:00:00.000 , fdate: 2023-03-23 18:00:00.000\n"
     ]
    },
    {
     "name": "stderr",
     "output_type": "stream",
     "text": [
      " 37%|███▋      | 546/1463 [17:16<25:52,  1.69s/it]"
     ]
    },
    {
     "name": "stdout",
     "output_type": "stream",
     "text": [
      "\n",
      "idate: 2023-03-23 18:00:00.000 , fdate: 2023-03-23 19:00:00.000\n"
     ]
    },
    {
     "name": "stderr",
     "output_type": "stream",
     "text": [
      " 37%|███▋      | 547/1463 [17:18<25:15,  1.65s/it]"
     ]
    },
    {
     "name": "stdout",
     "output_type": "stream",
     "text": [
      "\n",
      "idate: 2023-03-23 19:00:00.000 , fdate: 2023-03-23 20:00:00.000\n"
     ]
    },
    {
     "name": "stderr",
     "output_type": "stream",
     "text": [
      " 37%|███▋      | 548/1463 [17:19<24:48,  1.63s/it]"
     ]
    },
    {
     "name": "stdout",
     "output_type": "stream",
     "text": [
      "\n",
      "idate: 2023-03-23 20:00:00.000 , fdate: 2023-03-23 21:00:00.000\n"
     ]
    },
    {
     "name": "stderr",
     "output_type": "stream",
     "text": [
      " 38%|███▊      | 549/1463 [17:21<24:46,  1.63s/it]"
     ]
    },
    {
     "name": "stdout",
     "output_type": "stream",
     "text": [
      "\n",
      "idate: 2023-03-23 21:00:00.000 , fdate: 2023-03-23 22:00:00.000\n"
     ]
    },
    {
     "name": "stderr",
     "output_type": "stream",
     "text": [
      " 38%|███▊      | 550/1463 [17:22<24:31,  1.61s/it]"
     ]
    },
    {
     "name": "stdout",
     "output_type": "stream",
     "text": [
      "\n",
      "idate: 2023-03-23 22:00:00.000 , fdate: 2023-03-23 23:00:00.000\n"
     ]
    },
    {
     "name": "stderr",
     "output_type": "stream",
     "text": [
      " 38%|███▊      | 551/1463 [17:24<24:15,  1.60s/it]"
     ]
    },
    {
     "name": "stdout",
     "output_type": "stream",
     "text": [
      "\n",
      "idate: 2023-03-23 23:00:00.000 , fdate: 2023-03-24 00:00:00.000\n"
     ]
    },
    {
     "name": "stderr",
     "output_type": "stream",
     "text": [
      " 38%|███▊      | 552/1463 [17:26<24:17,  1.60s/it]"
     ]
    },
    {
     "name": "stdout",
     "output_type": "stream",
     "text": [
      "\n",
      "idate: 2023-03-24 00:00:00.000 , fdate: 2023-03-24 01:00:00.000\n"
     ]
    },
    {
     "name": "stderr",
     "output_type": "stream",
     "text": [
      " 38%|███▊      | 553/1463 [17:27<24:10,  1.59s/it]"
     ]
    },
    {
     "name": "stdout",
     "output_type": "stream",
     "text": [
      "\n",
      "idate: 2023-03-24 01:00:00.000 , fdate: 2023-03-24 02:00:00.000\n"
     ]
    },
    {
     "name": "stderr",
     "output_type": "stream",
     "text": [
      " 38%|███▊      | 554/1463 [17:29<24:04,  1.59s/it]"
     ]
    },
    {
     "name": "stdout",
     "output_type": "stream",
     "text": [
      "\n",
      "idate: 2023-03-24 02:00:00.000 , fdate: 2023-03-24 03:00:00.000\n"
     ]
    },
    {
     "name": "stderr",
     "output_type": "stream",
     "text": [
      " 38%|███▊      | 555/1463 [17:30<24:01,  1.59s/it]"
     ]
    },
    {
     "name": "stdout",
     "output_type": "stream",
     "text": [
      "\n",
      "idate: 2023-03-24 03:00:00.000 , fdate: 2023-03-24 04:00:00.000\n"
     ]
    },
    {
     "name": "stderr",
     "output_type": "stream",
     "text": [
      " 38%|███▊      | 556/1463 [17:32<23:54,  1.58s/it]"
     ]
    },
    {
     "name": "stdout",
     "output_type": "stream",
     "text": [
      "\n",
      "idate: 2023-03-24 04:00:00.000 , fdate: 2023-03-24 05:00:00.000\n"
     ]
    },
    {
     "name": "stderr",
     "output_type": "stream",
     "text": [
      " 38%|███▊      | 557/1463 [17:34<24:00,  1.59s/it]"
     ]
    },
    {
     "name": "stdout",
     "output_type": "stream",
     "text": [
      "\n",
      "idate: 2023-03-24 05:00:00.000 , fdate: 2023-03-24 06:00:00.000\n"
     ]
    },
    {
     "name": "stderr",
     "output_type": "stream",
     "text": [
      " 38%|███▊      | 558/1463 [17:35<23:56,  1.59s/it]"
     ]
    },
    {
     "name": "stdout",
     "output_type": "stream",
     "text": [
      "\n",
      "idate: 2023-03-24 06:00:00.000 , fdate: 2023-03-24 07:00:00.000\n"
     ]
    },
    {
     "name": "stderr",
     "output_type": "stream",
     "text": [
      " 38%|███▊      | 559/1463 [17:37<23:49,  1.58s/it]"
     ]
    },
    {
     "name": "stdout",
     "output_type": "stream",
     "text": [
      "\n",
      "idate: 2023-03-24 07:00:00.000 , fdate: 2023-03-24 08:00:00.000\n"
     ]
    },
    {
     "name": "stderr",
     "output_type": "stream",
     "text": [
      " 38%|███▊      | 560/1463 [17:38<23:43,  1.58s/it]"
     ]
    },
    {
     "name": "stdout",
     "output_type": "stream",
     "text": [
      "\n",
      "idate: 2023-03-24 08:00:00.000 , fdate: 2023-03-24 09:00:00.000\n"
     ]
    },
    {
     "name": "stderr",
     "output_type": "stream",
     "text": [
      " 38%|███▊      | 561/1463 [17:40<23:39,  1.57s/it]"
     ]
    },
    {
     "name": "stdout",
     "output_type": "stream",
     "text": [
      "\n",
      "idate: 2023-03-24 09:00:00.000 , fdate: 2023-03-24 10:00:00.000\n"
     ]
    },
    {
     "name": "stderr",
     "output_type": "stream",
     "text": [
      " 38%|███▊      | 562/1463 [17:41<23:37,  1.57s/it]"
     ]
    },
    {
     "name": "stdout",
     "output_type": "stream",
     "text": [
      "\n",
      "idate: 2023-03-24 10:00:00.000 , fdate: 2023-03-24 11:00:00.000\n"
     ]
    },
    {
     "name": "stderr",
     "output_type": "stream",
     "text": [
      " 38%|███▊      | 563/1463 [17:43<23:34,  1.57s/it]"
     ]
    },
    {
     "name": "stdout",
     "output_type": "stream",
     "text": [
      "\n",
      "idate: 2023-03-24 11:00:00.000 , fdate: 2023-03-24 12:00:00.000\n"
     ]
    },
    {
     "name": "stderr",
     "output_type": "stream",
     "text": [
      " 39%|███▊      | 564/1463 [17:45<24:17,  1.62s/it]"
     ]
    },
    {
     "name": "stdout",
     "output_type": "stream",
     "text": [
      "Saved data\n",
      "\n",
      "idate: 2023-03-24 12:00:00.000 , fdate: 2023-03-24 13:00:00.000\n"
     ]
    },
    {
     "name": "stderr",
     "output_type": "stream",
     "text": [
      " 39%|███▊      | 565/1463 [17:47<25:32,  1.71s/it]"
     ]
    },
    {
     "name": "stdout",
     "output_type": "stream",
     "text": [
      "Saved data\n",
      "\n",
      "idate: 2023-03-24 13:00:00.000 , fdate: 2023-03-24 14:00:00.000\n"
     ]
    },
    {
     "name": "stderr",
     "output_type": "stream",
     "text": [
      " 39%|███▊      | 566/1463 [17:48<26:14,  1.76s/it]"
     ]
    },
    {
     "name": "stdout",
     "output_type": "stream",
     "text": [
      "Saved data\n",
      "\n",
      "idate: 2023-03-24 14:00:00.000 , fdate: 2023-03-24 15:00:00.000\n"
     ]
    },
    {
     "name": "stderr",
     "output_type": "stream",
     "text": [
      " 39%|███▉      | 567/1463 [17:50<26:59,  1.81s/it]"
     ]
    },
    {
     "name": "stdout",
     "output_type": "stream",
     "text": [
      "Saved data\n",
      "\n",
      "idate: 2023-03-24 15:00:00.000 , fdate: 2023-03-24 16:00:00.000\n"
     ]
    },
    {
     "name": "stderr",
     "output_type": "stream",
     "text": [
      " 39%|███▉      | 568/1463 [17:52<27:20,  1.83s/it]"
     ]
    },
    {
     "name": "stdout",
     "output_type": "stream",
     "text": [
      "Saved data\n",
      "\n",
      "idate: 2023-03-24 16:00:00.000 , fdate: 2023-03-24 17:00:00.000\n"
     ]
    },
    {
     "name": "stderr",
     "output_type": "stream",
     "text": [
      " 39%|███▉      | 569/1463 [17:54<27:46,  1.86s/it]"
     ]
    },
    {
     "name": "stdout",
     "output_type": "stream",
     "text": [
      "Saved data\n",
      "\n",
      "idate: 2023-03-24 17:00:00.000 , fdate: 2023-03-24 18:00:00.000\n"
     ]
    },
    {
     "name": "stderr",
     "output_type": "stream",
     "text": [
      " 39%|███▉      | 570/1463 [17:56<28:07,  1.89s/it]"
     ]
    },
    {
     "name": "stdout",
     "output_type": "stream",
     "text": [
      "Saved data\n",
      "\n",
      "idate: 2023-03-24 18:00:00.000 , fdate: 2023-03-24 19:00:00.000\n"
     ]
    },
    {
     "name": "stderr",
     "output_type": "stream",
     "text": [
      " 39%|███▉      | 571/1463 [17:58<28:34,  1.92s/it]"
     ]
    },
    {
     "name": "stdout",
     "output_type": "stream",
     "text": [
      "Saved data\n",
      "\n",
      "idate: 2023-03-24 19:00:00.000 , fdate: 2023-03-24 20:00:00.000\n"
     ]
    },
    {
     "name": "stderr",
     "output_type": "stream",
     "text": [
      " 39%|███▉      | 572/1463 [18:00<28:37,  1.93s/it]"
     ]
    },
    {
     "name": "stdout",
     "output_type": "stream",
     "text": [
      "Saved data\n",
      "\n",
      "idate: 2023-03-24 20:00:00.000 , fdate: 2023-03-24 21:00:00.000\n"
     ]
    },
    {
     "name": "stderr",
     "output_type": "stream",
     "text": [
      " 39%|███▉      | 573/1463 [18:02<28:40,  1.93s/it]"
     ]
    },
    {
     "name": "stdout",
     "output_type": "stream",
     "text": [
      "Saved data\n",
      "\n",
      "idate: 2023-03-24 21:00:00.000 , fdate: 2023-03-24 22:00:00.000\n"
     ]
    },
    {
     "name": "stderr",
     "output_type": "stream",
     "text": [
      " 39%|███▉      | 574/1463 [18:04<28:39,  1.93s/it]"
     ]
    },
    {
     "name": "stdout",
     "output_type": "stream",
     "text": [
      "Saved data\n",
      "\n",
      "idate: 2023-03-24 22:00:00.000 , fdate: 2023-03-24 23:00:00.000\n"
     ]
    },
    {
     "name": "stderr",
     "output_type": "stream",
     "text": [
      " 39%|███▉      | 575/1463 [18:06<28:50,  1.95s/it]"
     ]
    },
    {
     "name": "stdout",
     "output_type": "stream",
     "text": [
      "Saved data\n",
      "\n",
      "idate: 2023-03-24 23:00:00.000 , fdate: 2023-03-25 00:00:00.000\n"
     ]
    },
    {
     "name": "stderr",
     "output_type": "stream",
     "text": [
      " 39%|███▉      | 576/1463 [18:08<28:37,  1.94s/it]"
     ]
    },
    {
     "name": "stdout",
     "output_type": "stream",
     "text": [
      "Saved data\n",
      "\n",
      "idate: 2023-03-25 00:00:00.000 , fdate: 2023-03-25 01:00:00.000\n"
     ]
    },
    {
     "name": "stderr",
     "output_type": "stream",
     "text": [
      " 39%|███▉      | 577/1463 [18:10<28:06,  1.90s/it]"
     ]
    },
    {
     "name": "stdout",
     "output_type": "stream",
     "text": [
      "Saved data\n",
      "\n",
      "idate: 2023-03-25 01:00:00.000 , fdate: 2023-03-25 02:00:00.000\n"
     ]
    },
    {
     "name": "stderr",
     "output_type": "stream",
     "text": [
      " 40%|███▉      | 578/1463 [18:12<28:07,  1.91s/it]"
     ]
    },
    {
     "name": "stdout",
     "output_type": "stream",
     "text": [
      "Saved data\n",
      "\n",
      "idate: 2023-03-25 02:00:00.000 , fdate: 2023-03-25 03:00:00.000\n"
     ]
    },
    {
     "name": "stderr",
     "output_type": "stream",
     "text": [
      " 40%|███▉      | 579/1463 [18:13<27:47,  1.89s/it]"
     ]
    },
    {
     "name": "stdout",
     "output_type": "stream",
     "text": [
      "Saved data\n",
      "\n",
      "idate: 2023-03-25 03:00:00.000 , fdate: 2023-03-25 04:00:00.000\n"
     ]
    },
    {
     "name": "stderr",
     "output_type": "stream",
     "text": [
      " 40%|███▉      | 580/1463 [18:15<27:15,  1.85s/it]"
     ]
    },
    {
     "name": "stdout",
     "output_type": "stream",
     "text": [
      "Saved data\n",
      "\n",
      "idate: 2023-03-25 04:00:00.000 , fdate: 2023-03-25 05:00:00.000\n"
     ]
    },
    {
     "name": "stderr",
     "output_type": "stream",
     "text": [
      " 40%|███▉      | 581/1463 [18:17<26:35,  1.81s/it]"
     ]
    },
    {
     "name": "stdout",
     "output_type": "stream",
     "text": [
      "Saved data\n",
      "\n",
      "idate: 2023-03-25 05:00:00.000 , fdate: 2023-03-25 06:00:00.000\n"
     ]
    },
    {
     "name": "stderr",
     "output_type": "stream",
     "text": [
      " 40%|███▉      | 582/1463 [18:19<25:44,  1.75s/it]"
     ]
    },
    {
     "name": "stdout",
     "output_type": "stream",
     "text": [
      "Saved data\n",
      "\n",
      "idate: 2023-03-25 06:00:00.000 , fdate: 2023-03-25 07:00:00.000\n"
     ]
    },
    {
     "name": "stderr",
     "output_type": "stream",
     "text": [
      " 40%|███▉      | 583/1463 [18:20<25:15,  1.72s/it]"
     ]
    },
    {
     "name": "stdout",
     "output_type": "stream",
     "text": [
      "Saved data\n",
      "\n",
      "idate: 2023-03-25 07:00:00.000 , fdate: 2023-03-25 08:00:00.000\n"
     ]
    },
    {
     "name": "stderr",
     "output_type": "stream",
     "text": [
      " 40%|███▉      | 584/1463 [18:22<25:21,  1.73s/it]"
     ]
    },
    {
     "name": "stdout",
     "output_type": "stream",
     "text": [
      "Saved data\n",
      "\n",
      "idate: 2023-03-25 08:00:00.000 , fdate: 2023-03-25 09:00:00.000\n"
     ]
    },
    {
     "name": "stderr",
     "output_type": "stream",
     "text": [
      " 40%|███▉      | 585/1463 [18:24<25:26,  1.74s/it]"
     ]
    },
    {
     "name": "stdout",
     "output_type": "stream",
     "text": [
      "Saved data\n",
      "\n",
      "idate: 2023-03-25 09:00:00.000 , fdate: 2023-03-25 10:00:00.000\n"
     ]
    },
    {
     "name": "stderr",
     "output_type": "stream",
     "text": [
      " 40%|████      | 586/1463 [18:26<26:27,  1.81s/it]"
     ]
    },
    {
     "name": "stdout",
     "output_type": "stream",
     "text": [
      "Saved data\n",
      "\n",
      "idate: 2023-03-25 10:00:00.000 , fdate: 2023-03-25 11:00:00.000\n"
     ]
    },
    {
     "name": "stderr",
     "output_type": "stream",
     "text": [
      " 40%|████      | 587/1463 [18:28<26:42,  1.83s/it]"
     ]
    },
    {
     "name": "stdout",
     "output_type": "stream",
     "text": [
      "Saved data\n",
      "\n",
      "idate: 2023-03-25 11:00:00.000 , fdate: 2023-03-25 12:00:00.000\n"
     ]
    },
    {
     "name": "stderr",
     "output_type": "stream",
     "text": [
      " 40%|████      | 588/1463 [18:29<26:46,  1.84s/it]"
     ]
    },
    {
     "name": "stdout",
     "output_type": "stream",
     "text": [
      "Saved data\n",
      "\n",
      "idate: 2023-03-25 12:00:00.000 , fdate: 2023-03-25 13:00:00.000\n"
     ]
    },
    {
     "name": "stderr",
     "output_type": "stream",
     "text": [
      " 40%|████      | 589/1463 [18:31<27:04,  1.86s/it]"
     ]
    },
    {
     "name": "stdout",
     "output_type": "stream",
     "text": [
      "Saved data\n",
      "\n",
      "idate: 2023-03-25 13:00:00.000 , fdate: 2023-03-25 14:00:00.000\n"
     ]
    },
    {
     "name": "stderr",
     "output_type": "stream",
     "text": [
      " 40%|████      | 590/1463 [18:33<27:09,  1.87s/it]"
     ]
    },
    {
     "name": "stdout",
     "output_type": "stream",
     "text": [
      "Saved data\n",
      "\n",
      "idate: 2023-03-25 14:00:00.000 , fdate: 2023-03-25 15:00:00.000\n"
     ]
    },
    {
     "name": "stderr",
     "output_type": "stream",
     "text": [
      " 40%|████      | 591/1463 [18:35<27:07,  1.87s/it]"
     ]
    },
    {
     "name": "stdout",
     "output_type": "stream",
     "text": [
      "Saved data\n",
      "\n",
      "idate: 2023-03-25 15:00:00.000 , fdate: 2023-03-25 16:00:00.000\n"
     ]
    },
    {
     "name": "stderr",
     "output_type": "stream",
     "text": [
      " 40%|████      | 592/1463 [18:37<27:06,  1.87s/it]"
     ]
    },
    {
     "name": "stdout",
     "output_type": "stream",
     "text": [
      "Saved data\n",
      "\n",
      "idate: 2023-03-25 16:00:00.000 , fdate: 2023-03-25 17:00:00.000\n"
     ]
    },
    {
     "name": "stderr",
     "output_type": "stream",
     "text": [
      " 41%|████      | 593/1463 [18:39<26:58,  1.86s/it]"
     ]
    },
    {
     "name": "stdout",
     "output_type": "stream",
     "text": [
      "Saved data\n",
      "\n",
      "idate: 2023-03-25 17:00:00.000 , fdate: 2023-03-25 18:00:00.000\n"
     ]
    },
    {
     "name": "stderr",
     "output_type": "stream",
     "text": [
      " 41%|████      | 594/1463 [18:41<27:09,  1.88s/it]"
     ]
    },
    {
     "name": "stdout",
     "output_type": "stream",
     "text": [
      "Saved data\n",
      "\n",
      "idate: 2023-03-25 18:00:00.000 , fdate: 2023-03-25 19:00:00.000\n"
     ]
    },
    {
     "name": "stderr",
     "output_type": "stream",
     "text": [
      " 41%|████      | 595/1463 [18:43<26:51,  1.86s/it]"
     ]
    },
    {
     "name": "stdout",
     "output_type": "stream",
     "text": [
      "Saved data\n",
      "\n",
      "idate: 2023-03-25 19:00:00.000 , fdate: 2023-03-25 20:00:00.000\n"
     ]
    },
    {
     "name": "stderr",
     "output_type": "stream",
     "text": [
      " 41%|████      | 596/1463 [18:44<26:38,  1.84s/it]"
     ]
    },
    {
     "name": "stdout",
     "output_type": "stream",
     "text": [
      "Saved data\n",
      "\n",
      "idate: 2023-03-25 20:00:00.000 , fdate: 2023-03-25 21:00:00.000\n"
     ]
    },
    {
     "name": "stderr",
     "output_type": "stream",
     "text": [
      " 41%|████      | 597/1463 [18:46<26:25,  1.83s/it]"
     ]
    },
    {
     "name": "stdout",
     "output_type": "stream",
     "text": [
      "Saved data\n",
      "\n",
      "idate: 2023-03-25 21:00:00.000 , fdate: 2023-03-25 22:00:00.000\n"
     ]
    },
    {
     "name": "stderr",
     "output_type": "stream",
     "text": [
      " 41%|████      | 598/1463 [18:48<26:28,  1.84s/it]"
     ]
    },
    {
     "name": "stdout",
     "output_type": "stream",
     "text": [
      "Saved data\n",
      "\n",
      "idate: 2023-03-25 22:00:00.000 , fdate: 2023-03-25 23:00:00.000\n"
     ]
    },
    {
     "name": "stderr",
     "output_type": "stream",
     "text": [
      " 41%|████      | 599/1463 [18:50<26:35,  1.85s/it]"
     ]
    },
    {
     "name": "stdout",
     "output_type": "stream",
     "text": [
      "Saved data\n",
      "\n",
      "idate: 2023-03-25 23:00:00.000 , fdate: 2023-03-26 00:00:00.000\n"
     ]
    },
    {
     "name": "stderr",
     "output_type": "stream",
     "text": [
      " 41%|████      | 600/1463 [18:52<26:06,  1.82s/it]"
     ]
    },
    {
     "name": "stdout",
     "output_type": "stream",
     "text": [
      "Saved data\n",
      "\n",
      "idate: 2023-03-26 00:00:00.000 , fdate: 2023-03-26 01:00:00.000\n"
     ]
    },
    {
     "name": "stderr",
     "output_type": "stream",
     "text": [
      " 41%|████      | 601/1463 [18:53<25:36,  1.78s/it]"
     ]
    },
    {
     "name": "stdout",
     "output_type": "stream",
     "text": [
      "Saved data\n",
      "\n",
      "idate: 2023-03-26 01:00:00.000 , fdate: 2023-03-26 02:00:00.000\n"
     ]
    },
    {
     "name": "stderr",
     "output_type": "stream",
     "text": [
      " 41%|████      | 602/1463 [18:55<25:49,  1.80s/it]"
     ]
    },
    {
     "name": "stdout",
     "output_type": "stream",
     "text": [
      "Saved data\n",
      "\n",
      "idate: 2023-03-26 02:00:00.000 , fdate: 2023-03-26 03:00:00.000\n"
     ]
    },
    {
     "name": "stderr",
     "output_type": "stream",
     "text": [
      " 41%|████      | 603/1463 [18:57<25:29,  1.78s/it]"
     ]
    },
    {
     "name": "stdout",
     "output_type": "stream",
     "text": [
      "Saved data\n",
      "\n",
      "idate: 2023-03-26 03:00:00.000 , fdate: 2023-03-26 04:00:00.000\n"
     ]
    },
    {
     "name": "stderr",
     "output_type": "stream",
     "text": [
      " 41%|████▏     | 604/1463 [18:59<25:16,  1.77s/it]"
     ]
    },
    {
     "name": "stdout",
     "output_type": "stream",
     "text": [
      "Saved data\n",
      "\n",
      "idate: 2023-03-26 04:00:00.000 , fdate: 2023-03-26 05:00:00.000\n"
     ]
    },
    {
     "name": "stderr",
     "output_type": "stream",
     "text": [
      " 41%|████▏     | 605/1463 [19:00<24:49,  1.74s/it]"
     ]
    },
    {
     "name": "stdout",
     "output_type": "stream",
     "text": [
      "Saved data\n",
      "\n",
      "idate: 2023-03-26 05:00:00.000 , fdate: 2023-03-26 06:00:00.000\n"
     ]
    },
    {
     "name": "stderr",
     "output_type": "stream",
     "text": [
      " 41%|████▏     | 606/1463 [19:02<24:12,  1.69s/it]"
     ]
    },
    {
     "name": "stdout",
     "output_type": "stream",
     "text": [
      "Saved data\n",
      "\n",
      "idate: 2023-03-26 06:00:00.000 , fdate: 2023-03-26 07:00:00.000\n"
     ]
    },
    {
     "name": "stderr",
     "output_type": "stream",
     "text": [
      " 41%|████▏     | 607/1463 [19:04<24:02,  1.68s/it]"
     ]
    },
    {
     "name": "stdout",
     "output_type": "stream",
     "text": [
      "Saved data\n",
      "\n",
      "idate: 2023-03-26 07:00:00.000 , fdate: 2023-03-26 08:00:00.000\n"
     ]
    },
    {
     "name": "stderr",
     "output_type": "stream",
     "text": [
      " 42%|████▏     | 608/1463 [19:05<24:02,  1.69s/it]"
     ]
    },
    {
     "name": "stdout",
     "output_type": "stream",
     "text": [
      "Saved data\n",
      "\n",
      "idate: 2023-03-26 08:00:00.000 , fdate: 2023-03-26 09:00:00.000\n"
     ]
    },
    {
     "name": "stderr",
     "output_type": "stream",
     "text": [
      " 42%|████▏     | 609/1463 [19:07<24:12,  1.70s/it]"
     ]
    },
    {
     "name": "stdout",
     "output_type": "stream",
     "text": [
      "Saved data\n",
      "\n",
      "idate: 2023-03-26 09:00:00.000 , fdate: 2023-03-26 10:00:00.000\n"
     ]
    },
    {
     "name": "stderr",
     "output_type": "stream",
     "text": [
      " 42%|████▏     | 610/1463 [19:09<25:04,  1.76s/it]"
     ]
    },
    {
     "name": "stdout",
     "output_type": "stream",
     "text": [
      "Saved data\n",
      "\n",
      "idate: 2023-03-26 10:00:00.000 , fdate: 2023-03-26 11:00:00.000\n"
     ]
    },
    {
     "name": "stderr",
     "output_type": "stream",
     "text": [
      " 42%|████▏     | 611/1463 [19:11<25:26,  1.79s/it]"
     ]
    },
    {
     "name": "stdout",
     "output_type": "stream",
     "text": [
      "Saved data\n",
      "\n",
      "idate: 2023-03-26 11:00:00.000 , fdate: 2023-03-26 12:00:00.000\n"
     ]
    },
    {
     "name": "stderr",
     "output_type": "stream",
     "text": [
      " 42%|████▏     | 612/1463 [19:13<27:02,  1.91s/it]"
     ]
    },
    {
     "name": "stdout",
     "output_type": "stream",
     "text": [
      "Saved data\n",
      "\n",
      "idate: 2023-03-26 12:00:00.000 , fdate: 2023-03-26 13:00:00.000\n"
     ]
    },
    {
     "name": "stderr",
     "output_type": "stream",
     "text": [
      " 42%|████▏     | 613/1463 [19:15<26:59,  1.91s/it]"
     ]
    },
    {
     "name": "stdout",
     "output_type": "stream",
     "text": [
      "Saved data\n",
      "\n",
      "idate: 2023-03-26 13:00:00.000 , fdate: 2023-03-26 14:00:00.000\n"
     ]
    },
    {
     "name": "stderr",
     "output_type": "stream",
     "text": [
      " 42%|████▏     | 614/1463 [19:17<26:42,  1.89s/it]"
     ]
    },
    {
     "name": "stdout",
     "output_type": "stream",
     "text": [
      "Saved data\n",
      "\n",
      "idate: 2023-03-26 14:00:00.000 , fdate: 2023-03-26 15:00:00.000\n"
     ]
    },
    {
     "name": "stderr",
     "output_type": "stream",
     "text": [
      " 42%|████▏     | 615/1463 [19:19<26:38,  1.89s/it]"
     ]
    },
    {
     "name": "stdout",
     "output_type": "stream",
     "text": [
      "Saved data\n",
      "\n",
      "idate: 2023-03-26 15:00:00.000 , fdate: 2023-03-26 16:00:00.000\n"
     ]
    },
    {
     "name": "stderr",
     "output_type": "stream",
     "text": [
      " 42%|████▏     | 616/1463 [19:20<26:29,  1.88s/it]"
     ]
    },
    {
     "name": "stdout",
     "output_type": "stream",
     "text": [
      "Saved data\n",
      "\n",
      "idate: 2023-03-26 16:00:00.000 , fdate: 2023-03-26 17:00:00.000\n"
     ]
    },
    {
     "name": "stderr",
     "output_type": "stream",
     "text": [
      " 42%|████▏     | 617/1463 [19:22<26:34,  1.89s/it]"
     ]
    },
    {
     "name": "stdout",
     "output_type": "stream",
     "text": [
      "Saved data\n",
      "\n",
      "idate: 2023-03-26 17:00:00.000 , fdate: 2023-03-26 18:00:00.000\n"
     ]
    },
    {
     "name": "stderr",
     "output_type": "stream",
     "text": [
      " 42%|████▏     | 618/1463 [19:24<26:15,  1.86s/it]"
     ]
    },
    {
     "name": "stdout",
     "output_type": "stream",
     "text": [
      "Saved data\n",
      "\n",
      "idate: 2023-03-26 18:00:00.000 , fdate: 2023-03-26 19:00:00.000\n"
     ]
    },
    {
     "name": "stderr",
     "output_type": "stream",
     "text": [
      " 42%|████▏     | 619/1463 [19:26<26:07,  1.86s/it]"
     ]
    },
    {
     "name": "stdout",
     "output_type": "stream",
     "text": [
      "Saved data\n",
      "\n",
      "idate: 2023-03-26 19:00:00.000 , fdate: 2023-03-26 20:00:00.000\n"
     ]
    },
    {
     "name": "stderr",
     "output_type": "stream",
     "text": [
      " 42%|████▏     | 620/1463 [19:28<26:13,  1.87s/it]"
     ]
    },
    {
     "name": "stdout",
     "output_type": "stream",
     "text": [
      "Saved data\n",
      "\n",
      "idate: 2023-03-26 20:00:00.000 , fdate: 2023-03-26 21:00:00.000\n"
     ]
    },
    {
     "name": "stderr",
     "output_type": "stream",
     "text": [
      " 42%|████▏     | 621/1463 [19:30<26:13,  1.87s/it]"
     ]
    },
    {
     "name": "stdout",
     "output_type": "stream",
     "text": [
      "Saved data\n",
      "\n",
      "idate: 2023-03-26 21:00:00.000 , fdate: 2023-03-26 22:00:00.000\n"
     ]
    },
    {
     "name": "stderr",
     "output_type": "stream",
     "text": [
      " 43%|████▎     | 622/1463 [19:32<26:09,  1.87s/it]"
     ]
    },
    {
     "name": "stdout",
     "output_type": "stream",
     "text": [
      "Saved data\n",
      "\n",
      "idate: 2023-03-26 22:00:00.000 , fdate: 2023-03-26 23:00:00.000\n"
     ]
    },
    {
     "name": "stderr",
     "output_type": "stream",
     "text": [
      " 43%|████▎     | 623/1463 [19:33<26:05,  1.86s/it]"
     ]
    },
    {
     "name": "stdout",
     "output_type": "stream",
     "text": [
      "Saved data\n",
      "\n",
      "idate: 2023-03-26 23:00:00.000 , fdate: 2023-03-27 00:00:00.000\n"
     ]
    },
    {
     "name": "stderr",
     "output_type": "stream",
     "text": [
      " 43%|████▎     | 624/1463 [19:35<25:39,  1.83s/it]"
     ]
    },
    {
     "name": "stdout",
     "output_type": "stream",
     "text": [
      "Saved data\n",
      "\n",
      "idate: 2023-03-27 00:00:00.000 , fdate: 2023-03-27 01:00:00.000\n"
     ]
    },
    {
     "name": "stderr",
     "output_type": "stream",
     "text": [
      " 43%|████▎     | 625/1463 [19:37<25:32,  1.83s/it]"
     ]
    },
    {
     "name": "stdout",
     "output_type": "stream",
     "text": [
      "Saved data\n",
      "\n",
      "idate: 2023-03-27 01:00:00.000 , fdate: 2023-03-27 02:00:00.000\n"
     ]
    },
    {
     "name": "stderr",
     "output_type": "stream",
     "text": [
      " 43%|████▎     | 626/1463 [19:39<25:24,  1.82s/it]"
     ]
    },
    {
     "name": "stdout",
     "output_type": "stream",
     "text": [
      "Saved data\n",
      "\n",
      "idate: 2023-03-27 02:00:00.000 , fdate: 2023-03-27 03:00:00.000\n"
     ]
    },
    {
     "name": "stderr",
     "output_type": "stream",
     "text": [
      " 43%|████▎     | 627/1463 [19:41<25:05,  1.80s/it]"
     ]
    },
    {
     "name": "stdout",
     "output_type": "stream",
     "text": [
      "Saved data\n",
      "\n",
      "idate: 2023-03-27 03:00:00.000 , fdate: 2023-03-27 04:00:00.000\n"
     ]
    },
    {
     "name": "stderr",
     "output_type": "stream",
     "text": [
      " 43%|████▎     | 628/1463 [19:42<24:38,  1.77s/it]"
     ]
    },
    {
     "name": "stdout",
     "output_type": "stream",
     "text": [
      "Saved data\n",
      "\n",
      "idate: 2023-03-27 04:00:00.000 , fdate: 2023-03-27 05:00:00.000\n"
     ]
    },
    {
     "name": "stderr",
     "output_type": "stream",
     "text": [
      " 43%|████▎     | 629/1463 [19:44<24:17,  1.75s/it]"
     ]
    },
    {
     "name": "stdout",
     "output_type": "stream",
     "text": [
      "Saved data\n",
      "\n",
      "idate: 2023-03-27 05:00:00.000 , fdate: 2023-03-27 06:00:00.000\n"
     ]
    },
    {
     "name": "stderr",
     "output_type": "stream",
     "text": [
      " 43%|████▎     | 630/1463 [19:46<23:46,  1.71s/it]"
     ]
    },
    {
     "name": "stdout",
     "output_type": "stream",
     "text": [
      "Saved data\n",
      "\n",
      "idate: 2023-03-27 06:00:00.000 , fdate: 2023-03-27 07:00:00.000\n"
     ]
    },
    {
     "name": "stderr",
     "output_type": "stream",
     "text": [
      " 43%|████▎     | 631/1463 [19:47<23:34,  1.70s/it]"
     ]
    },
    {
     "name": "stdout",
     "output_type": "stream",
     "text": [
      "Saved data\n",
      "\n",
      "idate: 2023-03-27 07:00:00.000 , fdate: 2023-03-27 08:00:00.000\n"
     ]
    },
    {
     "name": "stderr",
     "output_type": "stream",
     "text": [
      " 43%|████▎     | 632/1463 [19:49<23:57,  1.73s/it]"
     ]
    },
    {
     "name": "stdout",
     "output_type": "stream",
     "text": [
      "Saved data\n",
      "\n",
      "idate: 2023-03-27 08:00:00.000 , fdate: 2023-03-27 09:00:00.000\n"
     ]
    },
    {
     "name": "stderr",
     "output_type": "stream",
     "text": [
      " 43%|████▎     | 633/1463 [19:51<24:22,  1.76s/it]"
     ]
    },
    {
     "name": "stdout",
     "output_type": "stream",
     "text": [
      "Saved data\n",
      "\n",
      "idate: 2023-03-27 09:00:00.000 , fdate: 2023-03-27 10:00:00.000\n"
     ]
    },
    {
     "name": "stderr",
     "output_type": "stream",
     "text": [
      " 43%|████▎     | 634/1463 [19:53<25:24,  1.84s/it]"
     ]
    },
    {
     "name": "stdout",
     "output_type": "stream",
     "text": [
      "Saved data\n",
      "\n",
      "idate: 2023-03-27 10:00:00.000 , fdate: 2023-03-27 11:00:00.000\n"
     ]
    },
    {
     "name": "stderr",
     "output_type": "stream",
     "text": [
      " 43%|████▎     | 635/1463 [19:55<26:12,  1.90s/it]"
     ]
    },
    {
     "name": "stdout",
     "output_type": "stream",
     "text": [
      "Saved data\n",
      "\n",
      "idate: 2023-03-27 11:00:00.000 , fdate: 2023-03-27 12:00:00.000\n"
     ]
    },
    {
     "name": "stderr",
     "output_type": "stream",
     "text": [
      " 43%|████▎     | 636/1463 [19:57<26:36,  1.93s/it]"
     ]
    },
    {
     "name": "stdout",
     "output_type": "stream",
     "text": [
      "Saved data\n",
      "\n",
      "idate: 2023-03-27 12:00:00.000 , fdate: 2023-03-27 13:00:00.000\n"
     ]
    },
    {
     "name": "stderr",
     "output_type": "stream",
     "text": [
      " 44%|████▎     | 637/1463 [19:59<27:02,  1.96s/it]"
     ]
    },
    {
     "name": "stdout",
     "output_type": "stream",
     "text": [
      "Saved data\n",
      "\n",
      "idate: 2023-03-27 13:00:00.000 , fdate: 2023-03-27 14:00:00.000\n"
     ]
    },
    {
     "name": "stderr",
     "output_type": "stream",
     "text": [
      " 44%|████▎     | 638/1463 [20:01<27:29,  2.00s/it]"
     ]
    },
    {
     "name": "stdout",
     "output_type": "stream",
     "text": [
      "Saved data\n",
      "\n",
      "idate: 2023-03-27 14:00:00.000 , fdate: 2023-03-27 15:00:00.000\n"
     ]
    },
    {
     "name": "stderr",
     "output_type": "stream",
     "text": [
      " 44%|████▎     | 639/1463 [20:03<27:39,  2.01s/it]"
     ]
    },
    {
     "name": "stdout",
     "output_type": "stream",
     "text": [
      "Saved data\n",
      "\n",
      "idate: 2023-03-27 15:00:00.000 , fdate: 2023-03-27 16:00:00.000\n"
     ]
    },
    {
     "name": "stderr",
     "output_type": "stream",
     "text": [
      " 44%|████▎     | 640/1463 [20:05<27:14,  1.99s/it]"
     ]
    },
    {
     "name": "stdout",
     "output_type": "stream",
     "text": [
      "Saved data\n",
      "\n",
      "idate: 2023-03-27 16:00:00.000 , fdate: 2023-03-27 17:00:00.000\n"
     ]
    },
    {
     "name": "stderr",
     "output_type": "stream",
     "text": [
      " 44%|████▍     | 641/1463 [20:07<27:01,  1.97s/it]"
     ]
    },
    {
     "name": "stdout",
     "output_type": "stream",
     "text": [
      "Saved data\n",
      "\n",
      "idate: 2023-03-27 17:00:00.000 , fdate: 2023-03-27 18:00:00.000\n"
     ]
    },
    {
     "name": "stderr",
     "output_type": "stream",
     "text": [
      " 44%|████▍     | 642/1463 [20:09<26:41,  1.95s/it]"
     ]
    },
    {
     "name": "stdout",
     "output_type": "stream",
     "text": [
      "Saved data\n",
      "\n",
      "idate: 2023-03-27 18:00:00.000 , fdate: 2023-03-27 19:00:00.000\n"
     ]
    },
    {
     "name": "stderr",
     "output_type": "stream",
     "text": [
      " 44%|████▍     | 643/1463 [20:11<26:30,  1.94s/it]"
     ]
    },
    {
     "name": "stdout",
     "output_type": "stream",
     "text": [
      "Saved data\n",
      "\n",
      "idate: 2023-03-27 19:00:00.000 , fdate: 2023-03-27 20:00:00.000\n"
     ]
    },
    {
     "name": "stderr",
     "output_type": "stream",
     "text": [
      " 44%|████▍     | 644/1463 [20:13<26:44,  1.96s/it]"
     ]
    },
    {
     "name": "stdout",
     "output_type": "stream",
     "text": [
      "Saved data\n",
      "\n",
      "idate: 2023-03-27 20:00:00.000 , fdate: 2023-03-27 21:00:00.000\n"
     ]
    },
    {
     "name": "stderr",
     "output_type": "stream",
     "text": [
      " 44%|████▍     | 645/1463 [20:15<26:40,  1.96s/it]"
     ]
    },
    {
     "name": "stdout",
     "output_type": "stream",
     "text": [
      "Saved data\n",
      "\n",
      "idate: 2023-03-27 21:00:00.000 , fdate: 2023-03-27 22:00:00.000\n"
     ]
    },
    {
     "name": "stderr",
     "output_type": "stream",
     "text": [
      " 44%|████▍     | 646/1463 [20:17<26:53,  1.98s/it]"
     ]
    },
    {
     "name": "stdout",
     "output_type": "stream",
     "text": [
      "Saved data\n",
      "\n",
      "idate: 2023-03-27 22:00:00.000 , fdate: 2023-03-27 23:00:00.000\n"
     ]
    },
    {
     "name": "stderr",
     "output_type": "stream",
     "text": [
      " 44%|████▍     | 647/1463 [20:19<26:49,  1.97s/it]"
     ]
    },
    {
     "name": "stdout",
     "output_type": "stream",
     "text": [
      "Saved data\n",
      "\n",
      "idate: 2023-03-27 23:00:00.000 , fdate: 2023-03-28 00:00:00.000\n"
     ]
    },
    {
     "name": "stderr",
     "output_type": "stream",
     "text": [
      " 44%|████▍     | 648/1463 [20:21<26:03,  1.92s/it]"
     ]
    },
    {
     "name": "stdout",
     "output_type": "stream",
     "text": [
      "Saved data\n",
      "\n",
      "idate: 2023-03-28 00:00:00.000 , fdate: 2023-03-28 01:00:00.000\n"
     ]
    },
    {
     "name": "stderr",
     "output_type": "stream",
     "text": [
      " 44%|████▍     | 649/1463 [20:22<25:22,  1.87s/it]"
     ]
    },
    {
     "name": "stdout",
     "output_type": "stream",
     "text": [
      "Saved data\n",
      "\n",
      "idate: 2023-03-28 01:00:00.000 , fdate: 2023-03-28 02:00:00.000\n"
     ]
    },
    {
     "name": "stderr",
     "output_type": "stream",
     "text": [
      " 44%|████▍     | 650/1463 [20:24<25:45,  1.90s/it]"
     ]
    },
    {
     "name": "stdout",
     "output_type": "stream",
     "text": [
      "Saved data\n",
      "\n",
      "idate: 2023-03-28 02:00:00.000 , fdate: 2023-03-28 03:00:00.000\n"
     ]
    },
    {
     "name": "stderr",
     "output_type": "stream",
     "text": [
      " 44%|████▍     | 651/1463 [20:26<25:29,  1.88s/it]"
     ]
    },
    {
     "name": "stdout",
     "output_type": "stream",
     "text": [
      "Saved data\n",
      "\n",
      "idate: 2023-03-28 03:00:00.000 , fdate: 2023-03-28 04:00:00.000\n"
     ]
    },
    {
     "name": "stderr",
     "output_type": "stream",
     "text": [
      " 45%|████▍     | 652/1463 [20:28<24:57,  1.85s/it]"
     ]
    },
    {
     "name": "stdout",
     "output_type": "stream",
     "text": [
      "Saved data\n",
      "\n",
      "idate: 2023-03-28 04:00:00.000 , fdate: 2023-03-28 05:00:00.000\n"
     ]
    },
    {
     "name": "stderr",
     "output_type": "stream",
     "text": [
      " 45%|████▍     | 653/1463 [20:30<24:20,  1.80s/it]"
     ]
    },
    {
     "name": "stdout",
     "output_type": "stream",
     "text": [
      "Saved data\n",
      "\n",
      "idate: 2023-03-28 05:00:00.000 , fdate: 2023-03-28 06:00:00.000\n"
     ]
    },
    {
     "name": "stderr",
     "output_type": "stream",
     "text": [
      " 45%|████▍     | 654/1463 [20:31<23:33,  1.75s/it]"
     ]
    },
    {
     "name": "stdout",
     "output_type": "stream",
     "text": [
      "Saved data\n",
      "\n",
      "idate: 2023-03-28 06:00:00.000 , fdate: 2023-03-28 07:00:00.000\n"
     ]
    },
    {
     "name": "stderr",
     "output_type": "stream",
     "text": [
      " 45%|████▍     | 655/1463 [20:33<23:17,  1.73s/it]"
     ]
    },
    {
     "name": "stdout",
     "output_type": "stream",
     "text": [
      "Saved data\n",
      "\n",
      "idate: 2023-03-28 07:00:00.000 , fdate: 2023-03-28 08:00:00.000\n"
     ]
    },
    {
     "name": "stderr",
     "output_type": "stream",
     "text": [
      " 45%|████▍     | 656/1463 [20:35<23:05,  1.72s/it]"
     ]
    },
    {
     "name": "stdout",
     "output_type": "stream",
     "text": [
      "Saved data\n",
      "\n",
      "idate: 2023-03-28 08:00:00.000 , fdate: 2023-03-28 09:00:00.000\n"
     ]
    },
    {
     "name": "stderr",
     "output_type": "stream",
     "text": [
      " 45%|████▍     | 657/1463 [20:36<23:48,  1.77s/it]"
     ]
    },
    {
     "name": "stdout",
     "output_type": "stream",
     "text": [
      "Saved data\n",
      "\n",
      "idate: 2023-03-28 09:00:00.000 , fdate: 2023-03-28 10:00:00.000\n"
     ]
    },
    {
     "name": "stderr",
     "output_type": "stream",
     "text": [
      " 45%|████▍     | 658/1463 [20:38<24:30,  1.83s/it]"
     ]
    },
    {
     "name": "stdout",
     "output_type": "stream",
     "text": [
      "Saved data\n",
      "\n",
      "idate: 2023-03-28 10:00:00.000 , fdate: 2023-03-28 11:00:00.000\n"
     ]
    },
    {
     "name": "stderr",
     "output_type": "stream",
     "text": [
      " 45%|████▌     | 659/1463 [20:40<24:47,  1.85s/it]"
     ]
    },
    {
     "name": "stdout",
     "output_type": "stream",
     "text": [
      "Saved data\n",
      "\n",
      "idate: 2023-03-28 11:00:00.000 , fdate: 2023-03-28 12:00:00.000\n"
     ]
    },
    {
     "name": "stderr",
     "output_type": "stream",
     "text": [
      " 45%|████▌     | 660/1463 [20:42<25:03,  1.87s/it]"
     ]
    },
    {
     "name": "stdout",
     "output_type": "stream",
     "text": [
      "Saved data\n",
      "\n",
      "idate: 2023-03-28 12:00:00.000 , fdate: 2023-03-28 13:00:00.000\n"
     ]
    },
    {
     "name": "stderr",
     "output_type": "stream",
     "text": [
      " 45%|████▌     | 661/1463 [20:44<25:57,  1.94s/it]"
     ]
    },
    {
     "name": "stdout",
     "output_type": "stream",
     "text": [
      "Saved data\n",
      "\n",
      "idate: 2023-03-28 13:00:00.000 , fdate: 2023-03-28 14:00:00.000\n"
     ]
    },
    {
     "name": "stderr",
     "output_type": "stream",
     "text": [
      " 45%|████▌     | 662/1463 [20:46<25:54,  1.94s/it]"
     ]
    },
    {
     "name": "stdout",
     "output_type": "stream",
     "text": [
      "Saved data\n",
      "\n",
      "idate: 2023-03-28 14:00:00.000 , fdate: 2023-03-28 15:00:00.000\n"
     ]
    },
    {
     "name": "stderr",
     "output_type": "stream",
     "text": [
      " 45%|████▌     | 663/1463 [20:48<25:52,  1.94s/it]"
     ]
    },
    {
     "name": "stdout",
     "output_type": "stream",
     "text": [
      "Saved data\n",
      "\n",
      "idate: 2023-03-28 15:00:00.000 , fdate: 2023-03-28 16:00:00.000\n"
     ]
    },
    {
     "name": "stderr",
     "output_type": "stream",
     "text": [
      " 45%|████▌     | 664/1463 [20:50<25:51,  1.94s/it]"
     ]
    },
    {
     "name": "stdout",
     "output_type": "stream",
     "text": [
      "Saved data\n",
      "\n",
      "idate: 2023-03-28 16:00:00.000 , fdate: 2023-03-28 17:00:00.000\n"
     ]
    },
    {
     "name": "stderr",
     "output_type": "stream",
     "text": [
      " 45%|████▌     | 665/1463 [20:52<26:21,  1.98s/it]"
     ]
    },
    {
     "name": "stdout",
     "output_type": "stream",
     "text": [
      "Saved data\n",
      "\n",
      "idate: 2023-03-28 17:00:00.000 , fdate: 2023-03-28 18:00:00.000\n"
     ]
    },
    {
     "name": "stderr",
     "output_type": "stream",
     "text": [
      " 46%|████▌     | 666/1463 [20:54<26:10,  1.97s/it]"
     ]
    },
    {
     "name": "stdout",
     "output_type": "stream",
     "text": [
      "Saved data\n",
      "\n",
      "idate: 2023-03-28 18:00:00.000 , fdate: 2023-03-28 19:00:00.000\n"
     ]
    },
    {
     "name": "stderr",
     "output_type": "stream",
     "text": [
      " 46%|████▌     | 667/1463 [20:56<26:46,  2.02s/it]"
     ]
    },
    {
     "name": "stdout",
     "output_type": "stream",
     "text": [
      "Saved data\n",
      "\n",
      "idate: 2023-03-28 19:00:00.000 , fdate: 2023-03-28 20:00:00.000\n"
     ]
    },
    {
     "name": "stderr",
     "output_type": "stream",
     "text": [
      " 46%|████▌     | 668/1463 [20:58<26:27,  2.00s/it]"
     ]
    },
    {
     "name": "stdout",
     "output_type": "stream",
     "text": [
      "Saved data\n",
      "\n",
      "idate: 2023-03-28 20:00:00.000 , fdate: 2023-03-28 21:00:00.000\n"
     ]
    },
    {
     "name": "stderr",
     "output_type": "stream",
     "text": [
      " 46%|████▌     | 669/1463 [21:00<26:13,  1.98s/it]"
     ]
    },
    {
     "name": "stdout",
     "output_type": "stream",
     "text": [
      "Saved data\n",
      "\n",
      "idate: 2023-03-28 21:00:00.000 , fdate: 2023-03-28 22:00:00.000\n"
     ]
    },
    {
     "name": "stderr",
     "output_type": "stream",
     "text": [
      " 46%|████▌     | 670/1463 [21:02<26:44,  2.02s/it]"
     ]
    },
    {
     "name": "stdout",
     "output_type": "stream",
     "text": [
      "Saved data\n",
      "\n",
      "idate: 2023-03-28 22:00:00.000 , fdate: 2023-03-28 23:00:00.000\n"
     ]
    },
    {
     "name": "stderr",
     "output_type": "stream",
     "text": [
      " 46%|████▌     | 671/1463 [21:04<26:26,  2.00s/it]"
     ]
    },
    {
     "name": "stdout",
     "output_type": "stream",
     "text": [
      "Saved data\n",
      "\n",
      "idate: 2023-03-28 23:00:00.000 , fdate: 2023-03-29 00:00:00.000\n"
     ]
    },
    {
     "name": "stderr",
     "output_type": "stream",
     "text": [
      " 46%|████▌     | 672/1463 [21:06<25:35,  1.94s/it]"
     ]
    },
    {
     "name": "stdout",
     "output_type": "stream",
     "text": [
      "Saved data\n",
      "\n",
      "idate: 2023-03-29 00:00:00.000 , fdate: 2023-03-29 01:00:00.000\n"
     ]
    },
    {
     "name": "stderr",
     "output_type": "stream",
     "text": [
      " 46%|████▌     | 673/1463 [21:08<25:03,  1.90s/it]"
     ]
    },
    {
     "name": "stdout",
     "output_type": "stream",
     "text": [
      "Saved data\n",
      "\n",
      "idate: 2023-03-29 01:00:00.000 , fdate: 2023-03-29 02:00:00.000\n"
     ]
    },
    {
     "name": "stderr",
     "output_type": "stream",
     "text": [
      " 46%|████▌     | 674/1463 [21:10<24:53,  1.89s/it]"
     ]
    },
    {
     "name": "stdout",
     "output_type": "stream",
     "text": [
      "Saved data\n",
      "\n",
      "idate: 2023-03-29 02:00:00.000 , fdate: 2023-03-29 03:00:00.000\n"
     ]
    },
    {
     "name": "stderr",
     "output_type": "stream",
     "text": [
      " 46%|████▌     | 675/1463 [21:12<24:41,  1.88s/it]"
     ]
    },
    {
     "name": "stdout",
     "output_type": "stream",
     "text": [
      "Saved data\n",
      "\n",
      "idate: 2023-03-29 03:00:00.000 , fdate: 2023-03-29 04:00:00.000\n"
     ]
    },
    {
     "name": "stderr",
     "output_type": "stream",
     "text": [
      " 46%|████▌     | 676/1463 [21:13<23:48,  1.82s/it]"
     ]
    },
    {
     "name": "stdout",
     "output_type": "stream",
     "text": [
      "Saved data\n",
      "\n",
      "idate: 2023-03-29 04:00:00.000 , fdate: 2023-03-29 05:00:00.000\n"
     ]
    },
    {
     "name": "stderr",
     "output_type": "stream",
     "text": [
      " 46%|████▋     | 677/1463 [21:15<22:52,  1.75s/it]"
     ]
    },
    {
     "name": "stdout",
     "output_type": "stream",
     "text": [
      "\n",
      "idate: 2023-03-29 05:00:00.000 , fdate: 2023-03-29 06:00:00.000\n"
     ]
    },
    {
     "name": "stderr",
     "output_type": "stream",
     "text": [
      " 46%|████▋     | 678/1463 [21:16<22:12,  1.70s/it]"
     ]
    },
    {
     "name": "stdout",
     "output_type": "stream",
     "text": [
      "\n",
      "idate: 2023-03-29 06:00:00.000 , fdate: 2023-03-29 07:00:00.000\n"
     ]
    },
    {
     "name": "stderr",
     "output_type": "stream",
     "text": [
      " 46%|████▋     | 679/1463 [21:18<21:48,  1.67s/it]"
     ]
    },
    {
     "name": "stdout",
     "output_type": "stream",
     "text": [
      "\n",
      "idate: 2023-03-29 07:00:00.000 , fdate: 2023-03-29 08:00:00.000\n"
     ]
    },
    {
     "name": "stderr",
     "output_type": "stream",
     "text": [
      " 46%|████▋     | 680/1463 [21:20<21:20,  1.64s/it]"
     ]
    },
    {
     "name": "stdout",
     "output_type": "stream",
     "text": [
      "\n",
      "idate: 2023-03-29 08:00:00.000 , fdate: 2023-03-29 09:00:00.000\n"
     ]
    },
    {
     "name": "stderr",
     "output_type": "stream",
     "text": [
      " 47%|████▋     | 681/1463 [21:21<21:07,  1.62s/it]"
     ]
    },
    {
     "name": "stdout",
     "output_type": "stream",
     "text": [
      "\n",
      "idate: 2023-03-29 09:00:00.000 , fdate: 2023-03-29 10:00:00.000\n"
     ]
    },
    {
     "name": "stderr",
     "output_type": "stream",
     "text": [
      " 47%|████▋     | 682/1463 [21:23<21:03,  1.62s/it]"
     ]
    },
    {
     "name": "stdout",
     "output_type": "stream",
     "text": [
      "\n",
      "idate: 2023-03-29 10:00:00.000 , fdate: 2023-03-29 11:00:00.000\n"
     ]
    },
    {
     "name": "stderr",
     "output_type": "stream",
     "text": [
      " 47%|████▋     | 683/1463 [21:24<20:49,  1.60s/it]"
     ]
    },
    {
     "name": "stdout",
     "output_type": "stream",
     "text": [
      "\n",
      "idate: 2023-03-29 11:00:00.000 , fdate: 2023-03-29 12:00:00.000\n"
     ]
    },
    {
     "name": "stderr",
     "output_type": "stream",
     "text": [
      " 47%|████▋     | 684/1463 [21:26<21:42,  1.67s/it]"
     ]
    },
    {
     "name": "stdout",
     "output_type": "stream",
     "text": [
      "Saved data\n",
      "\n",
      "idate: 2023-03-29 12:00:00.000 , fdate: 2023-03-29 13:00:00.000\n"
     ]
    },
    {
     "name": "stderr",
     "output_type": "stream",
     "text": [
      " 47%|████▋     | 685/1463 [21:28<23:31,  1.81s/it]"
     ]
    },
    {
     "name": "stdout",
     "output_type": "stream",
     "text": [
      "Saved data\n",
      "\n",
      "idate: 2023-03-29 13:00:00.000 , fdate: 2023-03-29 14:00:00.000\n"
     ]
    },
    {
     "name": "stderr",
     "output_type": "stream",
     "text": [
      " 47%|████▋     | 686/1463 [21:30<24:27,  1.89s/it]"
     ]
    },
    {
     "name": "stdout",
     "output_type": "stream",
     "text": [
      "Saved data\n",
      "\n",
      "idate: 2023-03-29 14:00:00.000 , fdate: 2023-03-29 15:00:00.000\n"
     ]
    },
    {
     "name": "stderr",
     "output_type": "stream",
     "text": [
      " 47%|████▋     | 687/1463 [21:32<24:45,  1.91s/it]"
     ]
    },
    {
     "name": "stdout",
     "output_type": "stream",
     "text": [
      "Saved data\n",
      "\n",
      "idate: 2023-03-29 15:00:00.000 , fdate: 2023-03-29 16:00:00.000\n"
     ]
    },
    {
     "name": "stderr",
     "output_type": "stream",
     "text": [
      " 47%|████▋     | 688/1463 [21:34<24:49,  1.92s/it]"
     ]
    },
    {
     "name": "stdout",
     "output_type": "stream",
     "text": [
      "Saved data\n",
      "\n",
      "idate: 2023-03-29 16:00:00.000 , fdate: 2023-03-29 17:00:00.000\n"
     ]
    },
    {
     "name": "stderr",
     "output_type": "stream",
     "text": [
      " 47%|████▋     | 689/1463 [21:36<24:59,  1.94s/it]"
     ]
    },
    {
     "name": "stdout",
     "output_type": "stream",
     "text": [
      "Saved data\n",
      "\n",
      "idate: 2023-03-29 17:00:00.000 , fdate: 2023-03-29 18:00:00.000\n"
     ]
    },
    {
     "name": "stderr",
     "output_type": "stream",
     "text": [
      " 47%|████▋     | 690/1463 [21:38<24:59,  1.94s/it]"
     ]
    },
    {
     "name": "stdout",
     "output_type": "stream",
     "text": [
      "Saved data\n",
      "\n",
      "idate: 2023-03-29 18:00:00.000 , fdate: 2023-03-29 19:00:00.000\n"
     ]
    },
    {
     "name": "stderr",
     "output_type": "stream",
     "text": [
      " 47%|████▋     | 691/1463 [21:40<24:57,  1.94s/it]"
     ]
    },
    {
     "name": "stdout",
     "output_type": "stream",
     "text": [
      "Saved data\n",
      "\n",
      "idate: 2023-03-29 19:00:00.000 , fdate: 2023-03-29 20:00:00.000\n"
     ]
    },
    {
     "name": "stderr",
     "output_type": "stream",
     "text": [
      " 47%|████▋     | 692/1463 [21:42<25:07,  1.96s/it]"
     ]
    },
    {
     "name": "stdout",
     "output_type": "stream",
     "text": [
      "Saved data\n",
      "\n",
      "idate: 2023-03-29 20:00:00.000 , fdate: 2023-03-29 21:00:00.000\n"
     ]
    },
    {
     "name": "stderr",
     "output_type": "stream",
     "text": [
      " 47%|████▋     | 693/1463 [21:44<25:16,  1.97s/it]"
     ]
    },
    {
     "name": "stdout",
     "output_type": "stream",
     "text": [
      "Saved data\n",
      "\n",
      "idate: 2023-03-29 21:00:00.000 , fdate: 2023-03-29 22:00:00.000\n"
     ]
    },
    {
     "name": "stderr",
     "output_type": "stream",
     "text": [
      " 47%|████▋     | 694/1463 [21:46<25:16,  1.97s/it]"
     ]
    },
    {
     "name": "stdout",
     "output_type": "stream",
     "text": [
      "Saved data\n",
      "\n",
      "idate: 2023-03-29 22:00:00.000 , fdate: 2023-03-29 23:00:00.000\n"
     ]
    },
    {
     "name": "stderr",
     "output_type": "stream",
     "text": [
      " 48%|████▊     | 695/1463 [21:48<25:12,  1.97s/it]"
     ]
    },
    {
     "name": "stdout",
     "output_type": "stream",
     "text": [
      "Saved data\n",
      "\n",
      "idate: 2023-03-29 23:00:00.000 , fdate: 2023-03-30 00:00:00.000\n"
     ]
    },
    {
     "name": "stderr",
     "output_type": "stream",
     "text": [
      " 48%|████▊     | 696/1463 [21:50<24:31,  1.92s/it]"
     ]
    },
    {
     "name": "stdout",
     "output_type": "stream",
     "text": [
      "Saved data\n",
      "\n",
      "idate: 2023-03-30 00:00:00.000 , fdate: 2023-03-30 01:00:00.000\n"
     ]
    },
    {
     "name": "stderr",
     "output_type": "stream",
     "text": [
      " 48%|████▊     | 697/1463 [21:52<24:12,  1.90s/it]"
     ]
    },
    {
     "name": "stdout",
     "output_type": "stream",
     "text": [
      "Saved data\n",
      "\n",
      "idate: 2023-03-30 01:00:00.000 , fdate: 2023-03-30 02:00:00.000\n"
     ]
    },
    {
     "name": "stderr",
     "output_type": "stream",
     "text": [
      " 48%|████▊     | 698/1463 [21:54<23:59,  1.88s/it]"
     ]
    },
    {
     "name": "stdout",
     "output_type": "stream",
     "text": [
      "Saved data\n",
      "\n",
      "idate: 2023-03-30 02:00:00.000 , fdate: 2023-03-30 03:00:00.000\n"
     ]
    },
    {
     "name": "stderr",
     "output_type": "stream",
     "text": [
      " 48%|████▊     | 699/1463 [21:56<24:00,  1.89s/it]"
     ]
    },
    {
     "name": "stdout",
     "output_type": "stream",
     "text": [
      "Saved data\n",
      "\n",
      "idate: 2023-03-30 03:00:00.000 , fdate: 2023-03-30 04:00:00.000\n"
     ]
    },
    {
     "name": "stderr",
     "output_type": "stream",
     "text": [
      " 48%|████▊     | 700/1463 [21:57<23:34,  1.85s/it]"
     ]
    },
    {
     "name": "stdout",
     "output_type": "stream",
     "text": [
      "Saved data\n",
      "\n",
      "idate: 2023-03-30 04:00:00.000 , fdate: 2023-03-30 05:00:00.000\n"
     ]
    },
    {
     "name": "stderr",
     "output_type": "stream",
     "text": [
      " 48%|████▊     | 701/1463 [21:59<22:56,  1.81s/it]"
     ]
    },
    {
     "name": "stdout",
     "output_type": "stream",
     "text": [
      "Saved data\n",
      "\n",
      "idate: 2023-03-30 05:00:00.000 , fdate: 2023-03-30 06:00:00.000\n"
     ]
    },
    {
     "name": "stderr",
     "output_type": "stream",
     "text": [
      " 48%|████▊     | 702/1463 [22:01<22:19,  1.76s/it]"
     ]
    },
    {
     "name": "stdout",
     "output_type": "stream",
     "text": [
      "Saved data\n",
      "\n",
      "idate: 2023-03-30 06:00:00.000 , fdate: 2023-03-30 07:00:00.000\n"
     ]
    },
    {
     "name": "stderr",
     "output_type": "stream",
     "text": [
      " 48%|████▊     | 703/1463 [22:02<21:51,  1.73s/it]"
     ]
    },
    {
     "name": "stdout",
     "output_type": "stream",
     "text": [
      "Saved data\n",
      "\n",
      "idate: 2023-03-30 07:00:00.000 , fdate: 2023-03-30 08:00:00.000\n"
     ]
    },
    {
     "name": "stderr",
     "output_type": "stream",
     "text": [
      " 48%|████▊     | 704/1463 [22:04<21:47,  1.72s/it]"
     ]
    },
    {
     "name": "stdout",
     "output_type": "stream",
     "text": [
      "Saved data\n",
      "\n",
      "idate: 2023-03-30 08:00:00.000 , fdate: 2023-03-30 09:00:00.000\n"
     ]
    },
    {
     "name": "stderr",
     "output_type": "stream",
     "text": [
      " 48%|████▊     | 705/1463 [22:06<21:51,  1.73s/it]"
     ]
    },
    {
     "name": "stdout",
     "output_type": "stream",
     "text": [
      "Saved data\n",
      "\n",
      "idate: 2023-03-30 09:00:00.000 , fdate: 2023-03-30 10:00:00.000\n"
     ]
    },
    {
     "name": "stderr",
     "output_type": "stream",
     "text": [
      " 48%|████▊     | 706/1463 [22:08<22:59,  1.82s/it]"
     ]
    },
    {
     "name": "stdout",
     "output_type": "stream",
     "text": [
      "Saved data\n",
      "\n",
      "idate: 2023-03-30 10:00:00.000 , fdate: 2023-03-30 11:00:00.000\n"
     ]
    },
    {
     "name": "stderr",
     "output_type": "stream",
     "text": [
      " 48%|████▊     | 707/1463 [22:10<23:38,  1.88s/it]"
     ]
    },
    {
     "name": "stdout",
     "output_type": "stream",
     "text": [
      "Saved data\n",
      "\n",
      "idate: 2023-03-30 11:00:00.000 , fdate: 2023-03-30 12:00:00.000\n"
     ]
    },
    {
     "name": "stderr",
     "output_type": "stream",
     "text": [
      " 48%|████▊     | 708/1463 [22:12<23:51,  1.90s/it]"
     ]
    },
    {
     "name": "stdout",
     "output_type": "stream",
     "text": [
      "Saved data\n",
      "\n",
      "idate: 2023-03-30 12:00:00.000 , fdate: 2023-03-30 13:00:00.000\n"
     ]
    },
    {
     "name": "stderr",
     "output_type": "stream",
     "text": [
      " 48%|████▊     | 709/1463 [22:14<24:13,  1.93s/it]"
     ]
    },
    {
     "name": "stdout",
     "output_type": "stream",
     "text": [
      "Saved data\n",
      "\n",
      "idate: 2023-03-30 13:00:00.000 , fdate: 2023-03-30 14:00:00.000\n"
     ]
    },
    {
     "name": "stderr",
     "output_type": "stream",
     "text": [
      " 49%|████▊     | 710/1463 [22:16<24:37,  1.96s/it]"
     ]
    },
    {
     "name": "stdout",
     "output_type": "stream",
     "text": [
      "Saved data\n",
      "\n",
      "idate: 2023-03-30 14:00:00.000 , fdate: 2023-03-30 15:00:00.000\n"
     ]
    },
    {
     "name": "stderr",
     "output_type": "stream",
     "text": [
      " 49%|████▊     | 711/1463 [22:18<24:44,  1.97s/it]"
     ]
    },
    {
     "name": "stdout",
     "output_type": "stream",
     "text": [
      "Saved data\n",
      "\n",
      "idate: 2023-03-30 15:00:00.000 , fdate: 2023-03-30 16:00:00.000\n"
     ]
    },
    {
     "name": "stderr",
     "output_type": "stream",
     "text": [
      " 49%|████▊     | 712/1463 [22:20<24:01,  1.92s/it]"
     ]
    },
    {
     "name": "stdout",
     "output_type": "stream",
     "text": [
      "Saved data\n",
      "\n",
      "idate: 2023-03-30 16:00:00.000 , fdate: 2023-03-30 17:00:00.000\n"
     ]
    },
    {
     "name": "stderr",
     "output_type": "stream",
     "text": [
      " 49%|████▊     | 713/1463 [22:21<23:31,  1.88s/it]"
     ]
    },
    {
     "name": "stdout",
     "output_type": "stream",
     "text": [
      "Saved data\n",
      "\n",
      "idate: 2023-03-30 17:00:00.000 , fdate: 2023-03-30 18:00:00.000\n"
     ]
    },
    {
     "name": "stderr",
     "output_type": "stream",
     "text": [
      " 49%|████▉     | 714/1463 [22:23<23:13,  1.86s/it]"
     ]
    },
    {
     "name": "stdout",
     "output_type": "stream",
     "text": [
      "Saved data\n",
      "\n",
      "idate: 2023-03-30 18:00:00.000 , fdate: 2023-03-30 19:00:00.000\n"
     ]
    },
    {
     "name": "stderr",
     "output_type": "stream",
     "text": [
      " 49%|████▉     | 715/1463 [22:25<23:13,  1.86s/it]"
     ]
    },
    {
     "name": "stdout",
     "output_type": "stream",
     "text": [
      "Saved data\n",
      "\n",
      "idate: 2023-03-30 19:00:00.000 , fdate: 2023-03-30 20:00:00.000\n"
     ]
    },
    {
     "name": "stderr",
     "output_type": "stream",
     "text": [
      " 49%|████▉     | 716/1463 [22:27<23:18,  1.87s/it]"
     ]
    },
    {
     "name": "stdout",
     "output_type": "stream",
     "text": [
      "Saved data\n",
      "\n",
      "idate: 2023-03-30 20:00:00.000 , fdate: 2023-03-30 21:00:00.000\n"
     ]
    },
    {
     "name": "stderr",
     "output_type": "stream",
     "text": [
      " 49%|████▉     | 717/1463 [22:29<22:42,  1.83s/it]"
     ]
    },
    {
     "name": "stdout",
     "output_type": "stream",
     "text": [
      "Saved data\n",
      "\n",
      "idate: 2023-03-30 21:00:00.000 , fdate: 2023-03-30 22:00:00.000\n"
     ]
    },
    {
     "name": "stderr",
     "output_type": "stream",
     "text": [
      " 49%|████▉     | 718/1463 [22:31<23:06,  1.86s/it]"
     ]
    },
    {
     "name": "stdout",
     "output_type": "stream",
     "text": [
      "Saved data\n",
      "\n",
      "idate: 2023-03-30 22:00:00.000 , fdate: 2023-03-30 23:00:00.000\n"
     ]
    },
    {
     "name": "stderr",
     "output_type": "stream",
     "text": [
      " 49%|████▉     | 719/1463 [22:33<23:28,  1.89s/it]"
     ]
    },
    {
     "name": "stdout",
     "output_type": "stream",
     "text": [
      "Saved data\n",
      "\n",
      "idate: 2023-03-30 23:00:00.000 , fdate: 2023-03-31 00:00:00.000\n"
     ]
    },
    {
     "name": "stderr",
     "output_type": "stream",
     "text": [
      " 49%|████▉     | 720/1463 [22:34<23:29,  1.90s/it]"
     ]
    },
    {
     "name": "stdout",
     "output_type": "stream",
     "text": [
      "Saved data\n",
      "\n",
      "idate: 2023-03-31 00:00:00.000 , fdate: 2023-03-31 01:00:00.000\n"
     ]
    },
    {
     "name": "stderr",
     "output_type": "stream",
     "text": [
      " 49%|████▉     | 721/1463 [22:36<23:00,  1.86s/it]"
     ]
    },
    {
     "name": "stdout",
     "output_type": "stream",
     "text": [
      "Saved data\n",
      "\n",
      "idate: 2023-03-31 01:00:00.000 , fdate: 2023-03-31 02:00:00.000\n"
     ]
    },
    {
     "name": "stderr",
     "output_type": "stream",
     "text": [
      " 49%|████▉     | 722/1463 [22:38<23:03,  1.87s/it]"
     ]
    },
    {
     "name": "stdout",
     "output_type": "stream",
     "text": [
      "Saved data\n",
      "\n",
      "idate: 2023-03-31 02:00:00.000 , fdate: 2023-03-31 03:00:00.000\n"
     ]
    },
    {
     "name": "stderr",
     "output_type": "stream",
     "text": [
      " 49%|████▉     | 723/1463 [22:40<23:03,  1.87s/it]"
     ]
    },
    {
     "name": "stdout",
     "output_type": "stream",
     "text": [
      "Saved data\n",
      "\n",
      "idate: 2023-03-31 03:00:00.000 , fdate: 2023-03-31 04:00:00.000\n"
     ]
    },
    {
     "name": "stderr",
     "output_type": "stream",
     "text": [
      " 49%|████▉     | 724/1463 [22:42<22:36,  1.84s/it]"
     ]
    },
    {
     "name": "stdout",
     "output_type": "stream",
     "text": [
      "Saved data\n",
      "\n",
      "idate: 2023-03-31 04:00:00.000 , fdate: 2023-03-31 05:00:00.000\n"
     ]
    },
    {
     "name": "stderr",
     "output_type": "stream",
     "text": [
      " 50%|████▉     | 725/1463 [22:43<21:58,  1.79s/it]"
     ]
    },
    {
     "name": "stdout",
     "output_type": "stream",
     "text": [
      "Saved data\n",
      "\n",
      "idate: 2023-03-31 05:00:00.000 , fdate: 2023-03-31 06:00:00.000\n"
     ]
    },
    {
     "name": "stderr",
     "output_type": "stream",
     "text": [
      " 50%|████▉     | 726/1463 [22:45<21:22,  1.74s/it]"
     ]
    },
    {
     "name": "stdout",
     "output_type": "stream",
     "text": [
      "Saved data\n",
      "\n",
      "idate: 2023-03-31 06:00:00.000 , fdate: 2023-03-31 07:00:00.000\n"
     ]
    },
    {
     "name": "stderr",
     "output_type": "stream",
     "text": [
      " 50%|████▉     | 727/1463 [22:47<20:59,  1.71s/it]"
     ]
    },
    {
     "name": "stdout",
     "output_type": "stream",
     "text": [
      "Saved data\n",
      "\n",
      "idate: 2023-03-31 07:00:00.000 , fdate: 2023-03-31 08:00:00.000\n"
     ]
    },
    {
     "name": "stderr",
     "output_type": "stream",
     "text": [
      " 50%|████▉     | 728/1463 [22:48<20:48,  1.70s/it]"
     ]
    },
    {
     "name": "stdout",
     "output_type": "stream",
     "text": [
      "Saved data\n",
      "\n",
      "idate: 2023-03-31 08:00:00.000 , fdate: 2023-03-31 09:00:00.000\n"
     ]
    },
    {
     "name": "stderr",
     "output_type": "stream",
     "text": [
      " 50%|████▉     | 729/1463 [22:50<21:09,  1.73s/it]"
     ]
    },
    {
     "name": "stdout",
     "output_type": "stream",
     "text": [
      "Saved data\n",
      "\n",
      "idate: 2023-03-31 09:00:00.000 , fdate: 2023-03-31 10:00:00.000\n"
     ]
    },
    {
     "name": "stderr",
     "output_type": "stream",
     "text": [
      " 50%|████▉     | 730/1463 [22:52<22:04,  1.81s/it]"
     ]
    },
    {
     "name": "stdout",
     "output_type": "stream",
     "text": [
      "Saved data\n",
      "\n",
      "idate: 2023-03-31 10:00:00.000 , fdate: 2023-03-31 11:00:00.000\n"
     ]
    },
    {
     "name": "stderr",
     "output_type": "stream",
     "text": [
      " 50%|████▉     | 731/1463 [22:54<22:34,  1.85s/it]"
     ]
    },
    {
     "name": "stdout",
     "output_type": "stream",
     "text": [
      "Saved data\n",
      "\n",
      "idate: 2023-03-31 11:00:00.000 , fdate: 2023-03-31 12:00:00.000\n"
     ]
    },
    {
     "name": "stderr",
     "output_type": "stream",
     "text": [
      " 50%|█████     | 732/1463 [22:56<22:36,  1.86s/it]"
     ]
    },
    {
     "name": "stdout",
     "output_type": "stream",
     "text": [
      "Saved data\n",
      "\n",
      "idate: 2023-03-31 12:00:00.000 , fdate: 2023-03-31 13:00:00.000\n"
     ]
    },
    {
     "name": "stderr",
     "output_type": "stream",
     "text": [
      " 50%|█████     | 733/1463 [22:58<22:55,  1.88s/it]"
     ]
    },
    {
     "name": "stdout",
     "output_type": "stream",
     "text": [
      "Saved data\n",
      "\n",
      "idate: 2023-03-31 13:00:00.000 , fdate: 2023-03-31 14:00:00.000\n"
     ]
    },
    {
     "name": "stderr",
     "output_type": "stream",
     "text": [
      " 50%|█████     | 734/1463 [23:00<23:08,  1.90s/it]"
     ]
    },
    {
     "name": "stdout",
     "output_type": "stream",
     "text": [
      "Saved data\n",
      "\n",
      "idate: 2023-03-31 14:00:00.000 , fdate: 2023-03-31 15:00:00.000\n"
     ]
    },
    {
     "name": "stderr",
     "output_type": "stream",
     "text": [
      " 50%|█████     | 735/1463 [23:02<23:23,  1.93s/it]"
     ]
    },
    {
     "name": "stdout",
     "output_type": "stream",
     "text": [
      "Saved data\n",
      "\n",
      "idate: 2023-03-31 15:00:00.000 , fdate: 2023-03-31 16:00:00.000\n"
     ]
    },
    {
     "name": "stderr",
     "output_type": "stream",
     "text": [
      " 50%|█████     | 736/1463 [23:04<23:24,  1.93s/it]"
     ]
    },
    {
     "name": "stdout",
     "output_type": "stream",
     "text": [
      "Saved data\n",
      "\n",
      "idate: 2023-03-31 16:00:00.000 , fdate: 2023-03-31 17:00:00.000\n"
     ]
    },
    {
     "name": "stderr",
     "output_type": "stream",
     "text": [
      " 50%|█████     | 737/1463 [23:06<23:24,  1.93s/it]"
     ]
    },
    {
     "name": "stdout",
     "output_type": "stream",
     "text": [
      "Saved data\n",
      "\n",
      "idate: 2023-03-31 17:00:00.000 , fdate: 2023-03-31 18:00:00.000\n"
     ]
    },
    {
     "name": "stderr",
     "output_type": "stream",
     "text": [
      " 50%|█████     | 738/1463 [23:08<23:52,  1.98s/it]"
     ]
    },
    {
     "name": "stdout",
     "output_type": "stream",
     "text": [
      "Saved data\n",
      "\n",
      "idate: 2023-03-31 18:00:00.000 , fdate: 2023-03-31 19:00:00.000\n"
     ]
    },
    {
     "name": "stderr",
     "output_type": "stream",
     "text": [
      " 51%|█████     | 739/1463 [23:10<23:42,  1.96s/it]"
     ]
    },
    {
     "name": "stdout",
     "output_type": "stream",
     "text": [
      "Saved data\n",
      "\n",
      "idate: 2023-03-31 19:00:00.000 , fdate: 2023-03-31 20:00:00.000\n"
     ]
    },
    {
     "name": "stderr",
     "output_type": "stream",
     "text": [
      " 51%|█████     | 740/1463 [23:12<23:42,  1.97s/it]"
     ]
    },
    {
     "name": "stdout",
     "output_type": "stream",
     "text": [
      "Saved data\n",
      "\n",
      "idate: 2023-03-31 20:00:00.000 , fdate: 2023-03-31 21:00:00.000\n"
     ]
    },
    {
     "name": "stderr",
     "output_type": "stream",
     "text": [
      " 51%|█████     | 741/1463 [23:14<23:23,  1.94s/it]"
     ]
    },
    {
     "name": "stdout",
     "output_type": "stream",
     "text": [
      "Saved data\n",
      "\n",
      "idate: 2023-03-31 21:00:00.000 , fdate: 2023-03-31 22:00:00.000\n"
     ]
    },
    {
     "name": "stderr",
     "output_type": "stream",
     "text": [
      " 51%|█████     | 742/1463 [23:16<23:42,  1.97s/it]"
     ]
    },
    {
     "name": "stdout",
     "output_type": "stream",
     "text": [
      "Saved data\n",
      "\n",
      "idate: 2023-03-31 22:00:00.000 , fdate: 2023-03-31 23:00:00.000\n"
     ]
    },
    {
     "name": "stderr",
     "output_type": "stream",
     "text": [
      " 51%|█████     | 743/1463 [23:18<23:42,  1.98s/it]"
     ]
    },
    {
     "name": "stdout",
     "output_type": "stream",
     "text": [
      "Saved data\n",
      "\n",
      "idate: 2023-03-31 23:00:00.000 , fdate: 2023-04-01 00:00:00.000\n"
     ]
    },
    {
     "name": "stderr",
     "output_type": "stream",
     "text": [
      " 51%|█████     | 744/1463 [23:19<23:00,  1.92s/it]"
     ]
    },
    {
     "name": "stdout",
     "output_type": "stream",
     "text": [
      "Saved data\n",
      "\n",
      "idate: 2023-04-01 00:00:00.000 , fdate: 2023-04-01 01:00:00.000\n"
     ]
    },
    {
     "name": "stderr",
     "output_type": "stream",
     "text": [
      " 51%|█████     | 745/1463 [23:21<22:22,  1.87s/it]"
     ]
    },
    {
     "name": "stdout",
     "output_type": "stream",
     "text": [
      "Saved data\n",
      "\n",
      "idate: 2023-04-01 01:00:00.000 , fdate: 2023-04-01 02:00:00.000\n"
     ]
    },
    {
     "name": "stderr",
     "output_type": "stream",
     "text": [
      " 51%|█████     | 746/1463 [23:23<22:34,  1.89s/it]"
     ]
    },
    {
     "name": "stdout",
     "output_type": "stream",
     "text": [
      "Saved data\n",
      "\n",
      "idate: 2023-04-01 02:00:00.000 , fdate: 2023-04-01 03:00:00.000\n"
     ]
    },
    {
     "name": "stderr",
     "output_type": "stream",
     "text": [
      " 51%|█████     | 747/1463 [23:25<22:24,  1.88s/it]"
     ]
    },
    {
     "name": "stdout",
     "output_type": "stream",
     "text": [
      "Saved data\n",
      "\n",
      "idate: 2023-04-01 03:00:00.000 , fdate: 2023-04-01 04:00:00.000\n"
     ]
    },
    {
     "name": "stderr",
     "output_type": "stream",
     "text": [
      " 51%|█████     | 748/1463 [23:27<22:00,  1.85s/it]"
     ]
    },
    {
     "name": "stdout",
     "output_type": "stream",
     "text": [
      "Saved data\n",
      "\n",
      "idate: 2023-04-01 04:00:00.000 , fdate: 2023-04-01 05:00:00.000\n"
     ]
    },
    {
     "name": "stderr",
     "output_type": "stream",
     "text": [
      " 51%|█████     | 749/1463 [23:28<21:28,  1.80s/it]"
     ]
    },
    {
     "name": "stdout",
     "output_type": "stream",
     "text": [
      "Saved data\n",
      "\n",
      "idate: 2023-04-01 05:00:00.000 , fdate: 2023-04-01 06:00:00.000\n"
     ]
    },
    {
     "name": "stderr",
     "output_type": "stream",
     "text": [
      " 51%|█████▏    | 750/1463 [23:30<20:45,  1.75s/it]"
     ]
    },
    {
     "name": "stdout",
     "output_type": "stream",
     "text": [
      "Saved data\n",
      "\n",
      "idate: 2023-04-01 06:00:00.000 , fdate: 2023-04-01 07:00:00.000\n"
     ]
    },
    {
     "name": "stderr",
     "output_type": "stream",
     "text": [
      " 51%|█████▏    | 751/1463 [23:32<20:38,  1.74s/it]"
     ]
    },
    {
     "name": "stdout",
     "output_type": "stream",
     "text": [
      "Saved data\n",
      "\n",
      "idate: 2023-04-01 07:00:00.000 , fdate: 2023-04-01 08:00:00.000\n"
     ]
    },
    {
     "name": "stderr",
     "output_type": "stream",
     "text": [
      " 51%|█████▏    | 752/1463 [23:34<20:34,  1.74s/it]"
     ]
    },
    {
     "name": "stdout",
     "output_type": "stream",
     "text": [
      "Saved data\n",
      "\n",
      "idate: 2023-04-01 08:00:00.000 , fdate: 2023-04-01 09:00:00.000\n"
     ]
    },
    {
     "name": "stderr",
     "output_type": "stream",
     "text": [
      " 51%|█████▏    | 753/1463 [23:35<20:52,  1.76s/it]"
     ]
    },
    {
     "name": "stdout",
     "output_type": "stream",
     "text": [
      "Saved data\n",
      "\n",
      "idate: 2023-04-01 09:00:00.000 , fdate: 2023-04-01 10:00:00.000\n"
     ]
    },
    {
     "name": "stderr",
     "output_type": "stream",
     "text": [
      " 52%|█████▏    | 754/1463 [23:38<22:10,  1.88s/it]"
     ]
    },
    {
     "name": "stdout",
     "output_type": "stream",
     "text": [
      "Saved data\n",
      "\n",
      "idate: 2023-04-01 10:00:00.000 , fdate: 2023-04-01 11:00:00.000\n"
     ]
    },
    {
     "name": "stderr",
     "output_type": "stream",
     "text": [
      " 52%|█████▏    | 755/1463 [23:40<22:47,  1.93s/it]"
     ]
    },
    {
     "name": "stdout",
     "output_type": "stream",
     "text": [
      "Saved data\n",
      "\n",
      "idate: 2023-04-01 11:00:00.000 , fdate: 2023-04-01 12:00:00.000\n"
     ]
    },
    {
     "name": "stderr",
     "output_type": "stream",
     "text": [
      " 52%|█████▏    | 756/1463 [23:42<23:02,  1.95s/it]"
     ]
    },
    {
     "name": "stdout",
     "output_type": "stream",
     "text": [
      "Saved data\n",
      "\n",
      "idate: 2023-04-01 12:00:00.000 , fdate: 2023-04-01 13:00:00.000\n"
     ]
    },
    {
     "name": "stderr",
     "output_type": "stream",
     "text": [
      " 52%|█████▏    | 757/1463 [23:44<24:06,  2.05s/it]"
     ]
    },
    {
     "name": "stdout",
     "output_type": "stream",
     "text": [
      "Saved data\n",
      "\n",
      "idate: 2023-04-01 13:00:00.000 , fdate: 2023-04-01 14:00:00.000\n"
     ]
    },
    {
     "name": "stderr",
     "output_type": "stream",
     "text": [
      " 52%|█████▏    | 758/1463 [23:46<24:19,  2.07s/it]"
     ]
    },
    {
     "name": "stdout",
     "output_type": "stream",
     "text": [
      "Saved data\n",
      "\n",
      "idate: 2023-04-01 14:00:00.000 , fdate: 2023-04-01 15:00:00.000\n"
     ]
    },
    {
     "name": "stderr",
     "output_type": "stream",
     "text": [
      " 52%|█████▏    | 759/1463 [23:48<24:38,  2.10s/it]"
     ]
    },
    {
     "name": "stdout",
     "output_type": "stream",
     "text": [
      "Saved data\n",
      "\n",
      "idate: 2023-04-01 15:00:00.000 , fdate: 2023-04-01 16:00:00.000\n"
     ]
    },
    {
     "name": "stderr",
     "output_type": "stream",
     "text": [
      " 52%|█████▏    | 760/1463 [23:50<24:11,  2.06s/it]"
     ]
    },
    {
     "name": "stdout",
     "output_type": "stream",
     "text": [
      "Saved data\n",
      "\n",
      "idate: 2023-04-01 16:00:00.000 , fdate: 2023-04-01 17:00:00.000\n"
     ]
    },
    {
     "name": "stderr",
     "output_type": "stream",
     "text": [
      " 52%|█████▏    | 761/1463 [23:52<23:53,  2.04s/it]"
     ]
    },
    {
     "name": "stdout",
     "output_type": "stream",
     "text": [
      "Saved data\n",
      "\n",
      "idate: 2023-04-01 17:00:00.000 , fdate: 2023-04-01 18:00:00.000\n"
     ]
    },
    {
     "name": "stderr",
     "output_type": "stream",
     "text": [
      " 52%|█████▏    | 762/1463 [23:54<23:51,  2.04s/it]"
     ]
    },
    {
     "name": "stdout",
     "output_type": "stream",
     "text": [
      "Saved data\n",
      "\n",
      "idate: 2023-04-01 18:00:00.000 , fdate: 2023-04-01 19:00:00.000\n"
     ]
    },
    {
     "name": "stderr",
     "output_type": "stream",
     "text": [
      " 52%|█████▏    | 763/1463 [23:56<23:43,  2.03s/it]"
     ]
    },
    {
     "name": "stdout",
     "output_type": "stream",
     "text": [
      "Saved data\n",
      "\n",
      "idate: 2023-04-01 19:00:00.000 , fdate: 2023-04-01 20:00:00.000\n"
     ]
    },
    {
     "name": "stderr",
     "output_type": "stream",
     "text": [
      " 52%|█████▏    | 764/1463 [23:58<23:26,  2.01s/it]"
     ]
    },
    {
     "name": "stdout",
     "output_type": "stream",
     "text": [
      "Saved data\n",
      "\n",
      "idate: 2023-04-01 20:00:00.000 , fdate: 2023-04-01 21:00:00.000\n"
     ]
    },
    {
     "name": "stderr",
     "output_type": "stream",
     "text": [
      " 52%|█████▏    | 765/1463 [24:00<23:15,  2.00s/it]"
     ]
    },
    {
     "name": "stdout",
     "output_type": "stream",
     "text": [
      "Saved data\n",
      "\n",
      "idate: 2023-04-01 21:00:00.000 , fdate: 2023-04-01 22:00:00.000\n"
     ]
    },
    {
     "name": "stderr",
     "output_type": "stream",
     "text": [
      " 52%|█████▏    | 766/1463 [24:02<23:21,  2.01s/it]"
     ]
    },
    {
     "name": "stdout",
     "output_type": "stream",
     "text": [
      "Saved data\n",
      "\n",
      "idate: 2023-04-01 22:00:00.000 , fdate: 2023-04-01 23:00:00.000\n"
     ]
    },
    {
     "name": "stderr",
     "output_type": "stream",
     "text": [
      " 52%|█████▏    | 767/1463 [24:04<23:01,  1.99s/it]"
     ]
    },
    {
     "name": "stdout",
     "output_type": "stream",
     "text": [
      "Saved data\n",
      "\n",
      "idate: 2023-04-01 23:00:00.000 , fdate: 2023-04-02 00:00:00.000\n"
     ]
    },
    {
     "name": "stderr",
     "output_type": "stream",
     "text": [
      " 52%|█████▏    | 768/1463 [24:06<22:18,  1.93s/it]"
     ]
    },
    {
     "name": "stdout",
     "output_type": "stream",
     "text": [
      "Saved data\n",
      "\n",
      "idate: 2023-04-02 00:00:00.000 , fdate: 2023-04-02 01:00:00.000\n"
     ]
    },
    {
     "name": "stderr",
     "output_type": "stream",
     "text": [
      " 53%|█████▎    | 769/1463 [24:08<21:37,  1.87s/it]"
     ]
    },
    {
     "name": "stdout",
     "output_type": "stream",
     "text": [
      "Saved data\n",
      "\n",
      "idate: 2023-04-02 01:00:00.000 , fdate: 2023-04-02 02:00:00.000\n"
     ]
    },
    {
     "name": "stderr",
     "output_type": "stream",
     "text": [
      " 53%|█████▎    | 770/1463 [24:09<21:19,  1.85s/it]"
     ]
    },
    {
     "name": "stdout",
     "output_type": "stream",
     "text": [
      "Saved data\n",
      "\n",
      "idate: 2023-04-02 02:00:00.000 , fdate: 2023-04-02 03:00:00.000\n"
     ]
    },
    {
     "name": "stderr",
     "output_type": "stream",
     "text": [
      " 53%|█████▎    | 771/1463 [24:11<21:05,  1.83s/it]"
     ]
    },
    {
     "name": "stdout",
     "output_type": "stream",
     "text": [
      "Saved data\n",
      "\n",
      "idate: 2023-04-02 03:00:00.000 , fdate: 2023-04-02 04:00:00.000\n"
     ]
    },
    {
     "name": "stderr",
     "output_type": "stream",
     "text": [
      " 53%|█████▎    | 772/1463 [24:13<20:47,  1.81s/it]"
     ]
    },
    {
     "name": "stdout",
     "output_type": "stream",
     "text": [
      "Saved data\n",
      "\n",
      "idate: 2023-04-02 04:00:00.000 , fdate: 2023-04-02 05:00:00.000\n"
     ]
    },
    {
     "name": "stderr",
     "output_type": "stream",
     "text": [
      " 53%|█████▎    | 773/1463 [24:15<20:21,  1.77s/it]"
     ]
    },
    {
     "name": "stdout",
     "output_type": "stream",
     "text": [
      "Saved data\n",
      "\n",
      "idate: 2023-04-02 05:00:00.000 , fdate: 2023-04-02 06:00:00.000\n"
     ]
    },
    {
     "name": "stderr",
     "output_type": "stream",
     "text": [
      " 53%|█████▎    | 774/1463 [24:16<19:50,  1.73s/it]"
     ]
    },
    {
     "name": "stdout",
     "output_type": "stream",
     "text": [
      "Saved data\n",
      "\n",
      "idate: 2023-04-02 06:00:00.000 , fdate: 2023-04-02 07:00:00.000\n"
     ]
    },
    {
     "name": "stderr",
     "output_type": "stream",
     "text": [
      " 53%|█████▎    | 775/1463 [24:18<19:38,  1.71s/it]"
     ]
    },
    {
     "name": "stdout",
     "output_type": "stream",
     "text": [
      "Saved data\n",
      "\n",
      "idate: 2023-04-02 07:00:00.000 , fdate: 2023-04-02 08:00:00.000\n"
     ]
    },
    {
     "name": "stderr",
     "output_type": "stream",
     "text": [
      " 53%|█████▎    | 776/1463 [24:20<19:37,  1.71s/it]"
     ]
    },
    {
     "name": "stdout",
     "output_type": "stream",
     "text": [
      "Saved data\n",
      "\n",
      "idate: 2023-04-02 08:00:00.000 , fdate: 2023-04-02 09:00:00.000\n"
     ]
    },
    {
     "name": "stderr",
     "output_type": "stream",
     "text": [
      " 53%|█████▎    | 777/1463 [24:21<19:47,  1.73s/it]"
     ]
    },
    {
     "name": "stdout",
     "output_type": "stream",
     "text": [
      "Saved data\n",
      "\n",
      "idate: 2023-04-02 09:00:00.000 , fdate: 2023-04-02 10:00:00.000\n"
     ]
    },
    {
     "name": "stderr",
     "output_type": "stream",
     "text": [
      " 53%|█████▎    | 778/1463 [24:23<20:25,  1.79s/it]"
     ]
    },
    {
     "name": "stdout",
     "output_type": "stream",
     "text": [
      "Saved data\n",
      "\n",
      "idate: 2023-04-02 10:00:00.000 , fdate: 2023-04-02 11:00:00.000\n"
     ]
    },
    {
     "name": "stderr",
     "output_type": "stream",
     "text": [
      " 53%|█████▎    | 779/1463 [24:25<20:40,  1.81s/it]"
     ]
    },
    {
     "name": "stdout",
     "output_type": "stream",
     "text": [
      "Saved data\n",
      "\n",
      "idate: 2023-04-02 11:00:00.000 , fdate: 2023-04-02 12:00:00.000\n"
     ]
    },
    {
     "name": "stderr",
     "output_type": "stream",
     "text": [
      " 53%|█████▎    | 780/1463 [24:27<21:32,  1.89s/it]"
     ]
    },
    {
     "name": "stdout",
     "output_type": "stream",
     "text": [
      "Saved data\n",
      "\n",
      "idate: 2023-04-02 12:00:00.000 , fdate: 2023-04-02 13:00:00.000\n"
     ]
    },
    {
     "name": "stderr",
     "output_type": "stream",
     "text": [
      " 53%|█████▎    | 781/1463 [24:29<22:04,  1.94s/it]"
     ]
    },
    {
     "name": "stdout",
     "output_type": "stream",
     "text": [
      "Saved data\n",
      "\n",
      "idate: 2023-04-02 13:00:00.000 , fdate: 2023-04-02 14:00:00.000\n"
     ]
    },
    {
     "name": "stderr",
     "output_type": "stream",
     "text": [
      " 53%|█████▎    | 782/1463 [24:31<22:22,  1.97s/it]"
     ]
    },
    {
     "name": "stdout",
     "output_type": "stream",
     "text": [
      "Saved data\n",
      "\n",
      "idate: 2023-04-02 14:00:00.000 , fdate: 2023-04-02 15:00:00.000\n"
     ]
    },
    {
     "name": "stderr",
     "output_type": "stream",
     "text": [
      " 54%|█████▎    | 783/1463 [24:34<23:15,  2.05s/it]"
     ]
    },
    {
     "name": "stdout",
     "output_type": "stream",
     "text": [
      "Saved data\n",
      "\n",
      "idate: 2023-04-02 15:00:00.000 , fdate: 2023-04-02 16:00:00.000\n"
     ]
    },
    {
     "name": "stderr",
     "output_type": "stream",
     "text": [
      " 54%|█████▎    | 784/1463 [24:36<23:04,  2.04s/it]"
     ]
    },
    {
     "name": "stdout",
     "output_type": "stream",
     "text": [
      "Saved data\n",
      "\n",
      "idate: 2023-04-02 16:00:00.000 , fdate: 2023-04-02 17:00:00.000\n"
     ]
    },
    {
     "name": "stderr",
     "output_type": "stream",
     "text": [
      " 54%|█████▎    | 785/1463 [24:38<22:59,  2.04s/it]"
     ]
    },
    {
     "name": "stdout",
     "output_type": "stream",
     "text": [
      "Saved data\n",
      "\n",
      "idate: 2023-04-02 17:00:00.000 , fdate: 2023-04-02 18:00:00.000\n"
     ]
    },
    {
     "name": "stderr",
     "output_type": "stream",
     "text": [
      " 54%|█████▎    | 786/1463 [24:40<23:35,  2.09s/it]"
     ]
    },
    {
     "name": "stdout",
     "output_type": "stream",
     "text": [
      "Saved data\n",
      "\n",
      "idate: 2023-04-02 18:00:00.000 , fdate: 2023-04-02 19:00:00.000\n"
     ]
    },
    {
     "name": "stderr",
     "output_type": "stream",
     "text": [
      " 54%|█████▍    | 787/1463 [24:42<23:34,  2.09s/it]"
     ]
    },
    {
     "name": "stdout",
     "output_type": "stream",
     "text": [
      "Saved data\n",
      "\n",
      "idate: 2023-04-02 19:00:00.000 , fdate: 2023-04-02 20:00:00.000\n"
     ]
    },
    {
     "name": "stderr",
     "output_type": "stream",
     "text": [
      " 54%|█████▍    | 788/1463 [24:44<23:22,  2.08s/it]"
     ]
    },
    {
     "name": "stdout",
     "output_type": "stream",
     "text": [
      "Saved data\n",
      "\n",
      "idate: 2023-04-02 20:00:00.000 , fdate: 2023-04-02 21:00:00.000\n"
     ]
    },
    {
     "name": "stderr",
     "output_type": "stream",
     "text": [
      " 54%|█████▍    | 789/1463 [24:46<23:32,  2.10s/it]"
     ]
    },
    {
     "name": "stdout",
     "output_type": "stream",
     "text": [
      "Saved data\n",
      "\n",
      "idate: 2023-04-02 21:00:00.000 , fdate: 2023-04-02 22:00:00.000\n"
     ]
    },
    {
     "name": "stderr",
     "output_type": "stream",
     "text": [
      " 54%|█████▍    | 790/1463 [24:48<23:56,  2.13s/it]"
     ]
    },
    {
     "name": "stdout",
     "output_type": "stream",
     "text": [
      "Saved data\n",
      "\n",
      "idate: 2023-04-02 22:00:00.000 , fdate: 2023-04-02 23:00:00.000\n"
     ]
    },
    {
     "name": "stderr",
     "output_type": "stream",
     "text": [
      " 54%|█████▍    | 791/1463 [24:51<24:07,  2.15s/it]"
     ]
    },
    {
     "name": "stdout",
     "output_type": "stream",
     "text": [
      "Saved data\n",
      "\n",
      "idate: 2023-04-02 23:00:00.000 , fdate: 2023-04-03 00:00:00.000\n"
     ]
    },
    {
     "name": "stderr",
     "output_type": "stream",
     "text": [
      " 54%|█████▍    | 792/1463 [24:52<23:17,  2.08s/it]"
     ]
    },
    {
     "name": "stdout",
     "output_type": "stream",
     "text": [
      "Saved data\n",
      "\n",
      "idate: 2023-04-03 00:00:00.000 , fdate: 2023-04-03 01:00:00.000\n"
     ]
    },
    {
     "name": "stderr",
     "output_type": "stream",
     "text": [
      " 54%|█████▍    | 793/1463 [24:54<22:23,  2.01s/it]"
     ]
    },
    {
     "name": "stdout",
     "output_type": "stream",
     "text": [
      "Saved data\n",
      "\n",
      "idate: 2023-04-03 01:00:00.000 , fdate: 2023-04-03 02:00:00.000\n"
     ]
    },
    {
     "name": "stderr",
     "output_type": "stream",
     "text": [
      " 54%|█████▍    | 794/1463 [24:56<22:36,  2.03s/it]"
     ]
    },
    {
     "name": "stdout",
     "output_type": "stream",
     "text": [
      "Saved data\n",
      "\n",
      "idate: 2023-04-03 02:00:00.000 , fdate: 2023-04-03 03:00:00.000\n"
     ]
    },
    {
     "name": "stderr",
     "output_type": "stream",
     "text": [
      " 54%|█████▍    | 795/1463 [24:58<21:59,  1.98s/it]"
     ]
    },
    {
     "name": "stdout",
     "output_type": "stream",
     "text": [
      "Saved data\n",
      "\n",
      "idate: 2023-04-03 03:00:00.000 , fdate: 2023-04-03 04:00:00.000\n"
     ]
    },
    {
     "name": "stderr",
     "output_type": "stream",
     "text": [
      " 54%|█████▍    | 796/1463 [25:00<21:15,  1.91s/it]"
     ]
    },
    {
     "name": "stdout",
     "output_type": "stream",
     "text": [
      "Saved data\n",
      "\n",
      "idate: 2023-04-03 04:00:00.000 , fdate: 2023-04-03 05:00:00.000\n"
     ]
    },
    {
     "name": "stderr",
     "output_type": "stream",
     "text": [
      " 54%|█████▍    | 797/1463 [25:02<20:23,  1.84s/it]"
     ]
    },
    {
     "name": "stdout",
     "output_type": "stream",
     "text": [
      "Saved data\n",
      "\n",
      "idate: 2023-04-03 05:00:00.000 , fdate: 2023-04-03 06:00:00.000\n"
     ]
    },
    {
     "name": "stderr",
     "output_type": "stream",
     "text": [
      " 55%|█████▍    | 798/1463 [25:03<19:33,  1.76s/it]"
     ]
    },
    {
     "name": "stdout",
     "output_type": "stream",
     "text": [
      "Saved data\n",
      "\n",
      "idate: 2023-04-03 06:00:00.000 , fdate: 2023-04-03 07:00:00.000\n"
     ]
    },
    {
     "name": "stderr",
     "output_type": "stream",
     "text": [
      " 55%|█████▍    | 799/1463 [25:05<19:15,  1.74s/it]"
     ]
    },
    {
     "name": "stdout",
     "output_type": "stream",
     "text": [
      "Saved data\n",
      "\n",
      "idate: 2023-04-03 07:00:00.000 , fdate: 2023-04-03 08:00:00.000\n"
     ]
    },
    {
     "name": "stderr",
     "output_type": "stream",
     "text": [
      " 55%|█████▍    | 800/1463 [25:07<19:14,  1.74s/it]"
     ]
    },
    {
     "name": "stdout",
     "output_type": "stream",
     "text": [
      "Saved data\n",
      "\n",
      "idate: 2023-04-03 08:00:00.000 , fdate: 2023-04-03 09:00:00.000\n"
     ]
    },
    {
     "name": "stderr",
     "output_type": "stream",
     "text": [
      " 55%|█████▍    | 801/1463 [25:09<19:28,  1.77s/it]"
     ]
    },
    {
     "name": "stdout",
     "output_type": "stream",
     "text": [
      "Saved data\n",
      "\n",
      "idate: 2023-04-03 09:00:00.000 , fdate: 2023-04-03 10:00:00.000\n"
     ]
    },
    {
     "name": "stderr",
     "output_type": "stream",
     "text": [
      " 55%|█████▍    | 802/1463 [25:11<20:30,  1.86s/it]"
     ]
    },
    {
     "name": "stdout",
     "output_type": "stream",
     "text": [
      "Saved data\n",
      "\n",
      "idate: 2023-04-03 10:00:00.000 , fdate: 2023-04-03 11:00:00.000\n"
     ]
    },
    {
     "name": "stderr",
     "output_type": "stream",
     "text": [
      " 55%|█████▍    | 803/1463 [25:13<21:44,  1.98s/it]"
     ]
    },
    {
     "name": "stdout",
     "output_type": "stream",
     "text": [
      "Saved data\n",
      "\n",
      "idate: 2023-04-03 11:00:00.000 , fdate: 2023-04-03 12:00:00.000\n"
     ]
    },
    {
     "name": "stderr",
     "output_type": "stream",
     "text": [
      " 55%|█████▍    | 804/1463 [25:15<22:10,  2.02s/it]"
     ]
    },
    {
     "name": "stdout",
     "output_type": "stream",
     "text": [
      "Saved data\n",
      "\n",
      "idate: 2023-04-03 12:00:00.000 , fdate: 2023-04-03 13:00:00.000\n"
     ]
    },
    {
     "name": "stderr",
     "output_type": "stream",
     "text": [
      " 55%|█████▌    | 805/1463 [25:17<23:11,  2.11s/it]"
     ]
    },
    {
     "name": "stdout",
     "output_type": "stream",
     "text": [
      "Saved data\n",
      "\n",
      "idate: 2023-04-03 13:00:00.000 , fdate: 2023-04-03 14:00:00.000\n"
     ]
    },
    {
     "name": "stderr",
     "output_type": "stream",
     "text": [
      " 55%|█████▌    | 806/1463 [25:19<23:22,  2.13s/it]"
     ]
    },
    {
     "name": "stdout",
     "output_type": "stream",
     "text": [
      "Saved data\n",
      "\n",
      "idate: 2023-04-03 14:00:00.000 , fdate: 2023-04-03 15:00:00.000\n"
     ]
    },
    {
     "name": "stderr",
     "output_type": "stream",
     "text": [
      " 55%|█████▌    | 807/1463 [25:22<23:29,  2.15s/it]"
     ]
    },
    {
     "name": "stdout",
     "output_type": "stream",
     "text": [
      "Saved data\n",
      "\n",
      "idate: 2023-04-03 15:00:00.000 , fdate: 2023-04-03 16:00:00.000\n"
     ]
    },
    {
     "name": "stderr",
     "output_type": "stream",
     "text": [
      " 55%|█████▌    | 808/1463 [25:24<23:21,  2.14s/it]"
     ]
    },
    {
     "name": "stdout",
     "output_type": "stream",
     "text": [
      "Saved data\n",
      "\n",
      "idate: 2023-04-03 16:00:00.000 , fdate: 2023-04-03 17:00:00.000\n"
     ]
    },
    {
     "name": "stderr",
     "output_type": "stream",
     "text": [
      " 55%|█████▌    | 809/1463 [25:26<24:02,  2.21s/it]"
     ]
    },
    {
     "name": "stdout",
     "output_type": "stream",
     "text": [
      "Saved data\n",
      "\n",
      "idate: 2023-04-03 17:00:00.000 , fdate: 2023-04-03 18:00:00.000\n"
     ]
    },
    {
     "name": "stderr",
     "output_type": "stream",
     "text": [
      " 55%|█████▌    | 810/1463 [25:28<23:18,  2.14s/it]"
     ]
    },
    {
     "name": "stdout",
     "output_type": "stream",
     "text": [
      "Saved data\n",
      "\n",
      "idate: 2023-04-03 18:00:00.000 , fdate: 2023-04-03 19:00:00.000\n"
     ]
    },
    {
     "name": "stderr",
     "output_type": "stream",
     "text": [
      " 55%|█████▌    | 811/1463 [25:30<22:26,  2.06s/it]"
     ]
    },
    {
     "name": "stdout",
     "output_type": "stream",
     "text": [
      "Saved data\n",
      "\n",
      "idate: 2023-04-03 19:00:00.000 , fdate: 2023-04-03 20:00:00.000\n"
     ]
    },
    {
     "name": "stderr",
     "output_type": "stream",
     "text": [
      " 56%|█████▌    | 812/1463 [25:32<22:11,  2.04s/it]"
     ]
    },
    {
     "name": "stdout",
     "output_type": "stream",
     "text": [
      "Saved data\n",
      "\n",
      "idate: 2023-04-03 20:00:00.000 , fdate: 2023-04-03 21:00:00.000\n"
     ]
    },
    {
     "name": "stderr",
     "output_type": "stream",
     "text": [
      " 56%|█████▌    | 813/1463 [25:34<22:28,  2.07s/it]"
     ]
    },
    {
     "name": "stdout",
     "output_type": "stream",
     "text": [
      "Saved data\n",
      "\n",
      "idate: 2023-04-03 21:00:00.000 , fdate: 2023-04-03 22:00:00.000\n"
     ]
    },
    {
     "name": "stderr",
     "output_type": "stream",
     "text": [
      " 56%|█████▌    | 814/1463 [25:36<22:54,  2.12s/it]"
     ]
    },
    {
     "name": "stdout",
     "output_type": "stream",
     "text": [
      "Saved data\n",
      "\n",
      "idate: 2023-04-03 22:00:00.000 , fdate: 2023-04-03 23:00:00.000\n"
     ]
    },
    {
     "name": "stderr",
     "output_type": "stream",
     "text": [
      " 56%|█████▌    | 815/1463 [25:39<22:57,  2.13s/it]"
     ]
    },
    {
     "name": "stdout",
     "output_type": "stream",
     "text": [
      "Saved data\n",
      "\n",
      "idate: 2023-04-03 23:00:00.000 , fdate: 2023-04-04 00:00:00.000\n"
     ]
    },
    {
     "name": "stderr",
     "output_type": "stream",
     "text": [
      " 56%|█████▌    | 816/1463 [25:40<22:23,  2.08s/it]"
     ]
    },
    {
     "name": "stdout",
     "output_type": "stream",
     "text": [
      "Saved data\n",
      "\n",
      "idate: 2023-04-04 00:00:00.000 , fdate: 2023-04-04 01:00:00.000\n"
     ]
    },
    {
     "name": "stderr",
     "output_type": "stream",
     "text": [
      " 56%|█████▌    | 817/1463 [25:42<21:31,  2.00s/it]"
     ]
    },
    {
     "name": "stdout",
     "output_type": "stream",
     "text": [
      "Saved data\n",
      "\n",
      "idate: 2023-04-04 01:00:00.000 , fdate: 2023-04-04 02:00:00.000\n"
     ]
    },
    {
     "name": "stderr",
     "output_type": "stream",
     "text": [
      " 56%|█████▌    | 818/1463 [25:44<21:14,  1.98s/it]"
     ]
    },
    {
     "name": "stdout",
     "output_type": "stream",
     "text": [
      "Saved data\n",
      "\n",
      "idate: 2023-04-04 02:00:00.000 , fdate: 2023-04-04 03:00:00.000\n"
     ]
    },
    {
     "name": "stderr",
     "output_type": "stream",
     "text": [
      " 56%|█████▌    | 819/1463 [25:46<20:59,  1.96s/it]"
     ]
    },
    {
     "name": "stdout",
     "output_type": "stream",
     "text": [
      "Saved data\n",
      "\n",
      "idate: 2023-04-04 03:00:00.000 , fdate: 2023-04-04 04:00:00.000\n"
     ]
    },
    {
     "name": "stderr",
     "output_type": "stream",
     "text": [
      " 56%|█████▌    | 820/1463 [25:48<20:18,  1.90s/it]"
     ]
    },
    {
     "name": "stdout",
     "output_type": "stream",
     "text": [
      "Saved data\n",
      "\n",
      "idate: 2023-04-04 04:00:00.000 , fdate: 2023-04-04 05:00:00.000\n"
     ]
    },
    {
     "name": "stderr",
     "output_type": "stream",
     "text": [
      " 56%|█████▌    | 821/1463 [25:50<19:36,  1.83s/it]"
     ]
    },
    {
     "name": "stdout",
     "output_type": "stream",
     "text": [
      "Saved data\n",
      "\n",
      "idate: 2023-04-04 05:00:00.000 , fdate: 2023-04-04 06:00:00.000\n"
     ]
    },
    {
     "name": "stderr",
     "output_type": "stream",
     "text": [
      " 56%|█████▌    | 822/1463 [25:51<18:59,  1.78s/it]"
     ]
    },
    {
     "name": "stdout",
     "output_type": "stream",
     "text": [
      "Saved data\n",
      "\n",
      "idate: 2023-04-04 06:00:00.000 , fdate: 2023-04-04 07:00:00.000\n"
     ]
    },
    {
     "name": "stderr",
     "output_type": "stream",
     "text": [
      " 56%|█████▋    | 823/1463 [25:53<18:36,  1.74s/it]"
     ]
    },
    {
     "name": "stdout",
     "output_type": "stream",
     "text": [
      "Saved data\n",
      "\n",
      "idate: 2023-04-04 07:00:00.000 , fdate: 2023-04-04 08:00:00.000\n"
     ]
    },
    {
     "name": "stderr",
     "output_type": "stream",
     "text": [
      " 56%|█████▋    | 824/1463 [25:55<18:37,  1.75s/it]"
     ]
    },
    {
     "name": "stdout",
     "output_type": "stream",
     "text": [
      "Saved data\n",
      "\n",
      "idate: 2023-04-04 08:00:00.000 , fdate: 2023-04-04 09:00:00.000\n"
     ]
    },
    {
     "name": "stderr",
     "output_type": "stream",
     "text": [
      " 56%|█████▋    | 825/1463 [25:56<18:48,  1.77s/it]"
     ]
    },
    {
     "name": "stdout",
     "output_type": "stream",
     "text": [
      "Saved data\n",
      "\n",
      "idate: 2023-04-04 09:00:00.000 , fdate: 2023-04-04 10:00:00.000\n"
     ]
    },
    {
     "name": "stderr",
     "output_type": "stream",
     "text": [
      " 56%|█████▋    | 826/1463 [25:59<19:39,  1.85s/it]"
     ]
    },
    {
     "name": "stdout",
     "output_type": "stream",
     "text": [
      "Saved data\n",
      "\n",
      "idate: 2023-04-04 10:00:00.000 , fdate: 2023-04-04 11:00:00.000\n"
     ]
    },
    {
     "name": "stderr",
     "output_type": "stream",
     "text": [
      " 57%|█████▋    | 827/1463 [26:01<20:46,  1.96s/it]"
     ]
    },
    {
     "name": "stdout",
     "output_type": "stream",
     "text": [
      "Saved data\n",
      "\n",
      "idate: 2023-04-04 11:00:00.000 , fdate: 2023-04-04 12:00:00.000\n"
     ]
    },
    {
     "name": "stderr",
     "output_type": "stream",
     "text": [
      " 57%|█████▋    | 828/1463 [26:03<21:35,  2.04s/it]"
     ]
    },
    {
     "name": "stdout",
     "output_type": "stream",
     "text": [
      "Saved data\n",
      "\n",
      "idate: 2023-04-04 12:00:00.000 , fdate: 2023-04-04 13:00:00.000\n"
     ]
    },
    {
     "name": "stderr",
     "output_type": "stream",
     "text": [
      " 57%|█████▋    | 829/1463 [26:05<22:09,  2.10s/it]"
     ]
    },
    {
     "name": "stdout",
     "output_type": "stream",
     "text": [
      "Saved data\n",
      "\n",
      "idate: 2023-04-04 13:00:00.000 , fdate: 2023-04-04 14:00:00.000\n"
     ]
    },
    {
     "name": "stderr",
     "output_type": "stream",
     "text": [
      " 57%|█████▋    | 830/1463 [26:07<22:18,  2.12s/it]"
     ]
    },
    {
     "name": "stdout",
     "output_type": "stream",
     "text": [
      "Saved data\n",
      "\n",
      "idate: 2023-04-04 14:00:00.000 , fdate: 2023-04-04 15:00:00.000\n"
     ]
    },
    {
     "name": "stderr",
     "output_type": "stream",
     "text": [
      " 57%|█████▋    | 831/1463 [26:09<22:12,  2.11s/it]"
     ]
    },
    {
     "name": "stdout",
     "output_type": "stream",
     "text": [
      "Saved data\n",
      "\n",
      "idate: 2023-04-04 15:00:00.000 , fdate: 2023-04-04 16:00:00.000\n"
     ]
    },
    {
     "name": "stderr",
     "output_type": "stream",
     "text": [
      " 57%|█████▋    | 832/1463 [26:12<22:25,  2.13s/it]"
     ]
    },
    {
     "name": "stdout",
     "output_type": "stream",
     "text": [
      "Saved data\n",
      "\n",
      "idate: 2023-04-04 16:00:00.000 , fdate: 2023-04-04 17:00:00.000\n"
     ]
    },
    {
     "name": "stderr",
     "output_type": "stream",
     "text": [
      " 57%|█████▋    | 833/1463 [26:14<22:26,  2.14s/it]"
     ]
    },
    {
     "name": "stdout",
     "output_type": "stream",
     "text": [
      "Saved data\n",
      "\n",
      "idate: 2023-04-04 17:00:00.000 , fdate: 2023-04-04 18:00:00.000\n"
     ]
    },
    {
     "name": "stderr",
     "output_type": "stream",
     "text": [
      " 57%|█████▋    | 834/1463 [26:16<22:25,  2.14s/it]"
     ]
    },
    {
     "name": "stdout",
     "output_type": "stream",
     "text": [
      "Saved data\n",
      "\n",
      "idate: 2023-04-04 18:00:00.000 , fdate: 2023-04-04 19:00:00.000\n"
     ]
    },
    {
     "name": "stderr",
     "output_type": "stream",
     "text": [
      " 57%|█████▋    | 835/1463 [26:18<22:45,  2.17s/it]"
     ]
    },
    {
     "name": "stdout",
     "output_type": "stream",
     "text": [
      "Saved data\n",
      "\n",
      "idate: 2023-04-04 19:00:00.000 , fdate: 2023-04-04 20:00:00.000\n"
     ]
    },
    {
     "name": "stderr",
     "output_type": "stream",
     "text": [
      " 57%|█████▋    | 836/1463 [26:20<22:22,  2.14s/it]"
     ]
    },
    {
     "name": "stdout",
     "output_type": "stream",
     "text": [
      "Saved data\n",
      "\n",
      "idate: 2023-04-04 20:00:00.000 , fdate: 2023-04-04 21:00:00.000\n"
     ]
    },
    {
     "name": "stderr",
     "output_type": "stream",
     "text": [
      " 57%|█████▋    | 837/1463 [26:22<22:11,  2.13s/it]"
     ]
    },
    {
     "name": "stdout",
     "output_type": "stream",
     "text": [
      "Saved data\n",
      "\n",
      "idate: 2023-04-04 21:00:00.000 , fdate: 2023-04-04 22:00:00.000\n"
     ]
    },
    {
     "name": "stderr",
     "output_type": "stream",
     "text": [
      " 57%|█████▋    | 838/1463 [26:25<22:47,  2.19s/it]"
     ]
    },
    {
     "name": "stdout",
     "output_type": "stream",
     "text": [
      "Saved data\n",
      "\n",
      "idate: 2023-04-04 22:00:00.000 , fdate: 2023-04-04 23:00:00.000\n"
     ]
    },
    {
     "name": "stderr",
     "output_type": "stream",
     "text": [
      " 57%|█████▋    | 839/1463 [26:27<23:09,  2.23s/it]"
     ]
    },
    {
     "name": "stdout",
     "output_type": "stream",
     "text": [
      "Saved data\n",
      "\n",
      "idate: 2023-04-04 23:00:00.000 , fdate: 2023-04-05 00:00:00.000\n"
     ]
    },
    {
     "name": "stderr",
     "output_type": "stream",
     "text": [
      " 57%|█████▋    | 840/1463 [26:29<22:12,  2.14s/it]"
     ]
    },
    {
     "name": "stdout",
     "output_type": "stream",
     "text": [
      "Saved data\n",
      "\n",
      "idate: 2023-04-05 00:00:00.000 , fdate: 2023-04-05 01:00:00.000\n"
     ]
    },
    {
     "name": "stderr",
     "output_type": "stream",
     "text": [
      " 57%|█████▋    | 841/1463 [26:31<21:18,  2.06s/it]"
     ]
    },
    {
     "name": "stdout",
     "output_type": "stream",
     "text": [
      "Saved data\n",
      "\n",
      "idate: 2023-04-05 01:00:00.000 , fdate: 2023-04-05 02:00:00.000\n"
     ]
    },
    {
     "name": "stderr",
     "output_type": "stream",
     "text": [
      " 58%|█████▊    | 842/1463 [26:33<20:50,  2.01s/it]"
     ]
    },
    {
     "name": "stdout",
     "output_type": "stream",
     "text": [
      "Saved data\n",
      "\n",
      "idate: 2023-04-05 02:00:00.000 , fdate: 2023-04-05 03:00:00.000\n"
     ]
    },
    {
     "name": "stderr",
     "output_type": "stream",
     "text": [
      " 58%|█████▊    | 843/1463 [26:35<20:22,  1.97s/it]"
     ]
    },
    {
     "name": "stdout",
     "output_type": "stream",
     "text": [
      "Saved data\n",
      "\n",
      "idate: 2023-04-05 03:00:00.000 , fdate: 2023-04-05 04:00:00.000\n"
     ]
    },
    {
     "name": "stderr",
     "output_type": "stream",
     "text": [
      " 58%|█████▊    | 844/1463 [26:36<19:49,  1.92s/it]"
     ]
    },
    {
     "name": "stdout",
     "output_type": "stream",
     "text": [
      "Saved data\n",
      "\n",
      "idate: 2023-04-05 04:00:00.000 , fdate: 2023-04-05 05:00:00.000\n"
     ]
    },
    {
     "name": "stderr",
     "output_type": "stream",
     "text": [
      " 58%|█████▊    | 845/1463 [26:38<18:55,  1.84s/it]"
     ]
    },
    {
     "name": "stdout",
     "output_type": "stream",
     "text": [
      "Saved data\n",
      "\n",
      "idate: 2023-04-05 05:00:00.000 , fdate: 2023-04-05 06:00:00.000\n"
     ]
    },
    {
     "name": "stderr",
     "output_type": "stream",
     "text": [
      " 58%|█████▊    | 846/1463 [26:40<18:00,  1.75s/it]"
     ]
    },
    {
     "name": "stdout",
     "output_type": "stream",
     "text": [
      "Saved data\n",
      "\n",
      "idate: 2023-04-05 06:00:00.000 , fdate: 2023-04-05 07:00:00.000\n"
     ]
    },
    {
     "name": "stderr",
     "output_type": "stream",
     "text": [
      " 58%|█████▊    | 847/1463 [26:41<17:45,  1.73s/it]"
     ]
    },
    {
     "name": "stdout",
     "output_type": "stream",
     "text": [
      "Saved data\n",
      "\n",
      "idate: 2023-04-05 07:00:00.000 , fdate: 2023-04-05 08:00:00.000\n"
     ]
    },
    {
     "name": "stderr",
     "output_type": "stream",
     "text": [
      " 58%|█████▊    | 848/1463 [26:43<17:39,  1.72s/it]"
     ]
    },
    {
     "name": "stdout",
     "output_type": "stream",
     "text": [
      "Saved data\n",
      "\n",
      "idate: 2023-04-05 08:00:00.000 , fdate: 2023-04-05 09:00:00.000\n"
     ]
    },
    {
     "name": "stderr",
     "output_type": "stream",
     "text": [
      " 58%|█████▊    | 849/1463 [26:45<18:46,  1.83s/it]"
     ]
    },
    {
     "name": "stdout",
     "output_type": "stream",
     "text": [
      "Saved data\n",
      "\n",
      "idate: 2023-04-05 09:00:00.000 , fdate: 2023-04-05 10:00:00.000\n"
     ]
    },
    {
     "name": "stderr",
     "output_type": "stream",
     "text": [
      " 58%|█████▊    | 850/1463 [26:47<19:52,  1.94s/it]"
     ]
    },
    {
     "name": "stdout",
     "output_type": "stream",
     "text": [
      "Saved data\n",
      "\n",
      "idate: 2023-04-05 10:00:00.000 , fdate: 2023-04-05 11:00:00.000\n"
     ]
    },
    {
     "name": "stderr",
     "output_type": "stream",
     "text": [
      " 58%|█████▊    | 851/1463 [26:49<20:21,  2.00s/it]"
     ]
    },
    {
     "name": "stdout",
     "output_type": "stream",
     "text": [
      "Saved data\n",
      "\n",
      "idate: 2023-04-05 11:00:00.000 , fdate: 2023-04-05 12:00:00.000\n"
     ]
    },
    {
     "name": "stderr",
     "output_type": "stream",
     "text": [
      " 58%|█████▊    | 852/1463 [26:52<21:43,  2.13s/it]"
     ]
    },
    {
     "name": "stdout",
     "output_type": "stream",
     "text": [
      "Saved data\n",
      "\n",
      "idate: 2023-04-05 12:00:00.000 , fdate: 2023-04-05 13:00:00.000\n"
     ]
    },
    {
     "name": "stderr",
     "output_type": "stream",
     "text": [
      " 58%|█████▊    | 853/1463 [26:54<22:38,  2.23s/it]"
     ]
    },
    {
     "name": "stdout",
     "output_type": "stream",
     "text": [
      "Saved data\n",
      "\n",
      "idate: 2023-04-05 13:00:00.000 , fdate: 2023-04-05 14:00:00.000\n"
     ]
    },
    {
     "name": "stderr",
     "output_type": "stream",
     "text": [
      " 58%|█████▊    | 854/1463 [26:56<21:51,  2.15s/it]"
     ]
    },
    {
     "name": "stdout",
     "output_type": "stream",
     "text": [
      "Saved data\n",
      "\n",
      "idate: 2023-04-05 14:00:00.000 , fdate: 2023-04-05 15:00:00.000\n"
     ]
    },
    {
     "name": "stderr",
     "output_type": "stream",
     "text": [
      " 58%|█████▊    | 855/1463 [26:58<20:28,  2.02s/it]"
     ]
    },
    {
     "name": "stdout",
     "output_type": "stream",
     "text": [
      "Saved data\n",
      "\n",
      "idate: 2023-04-05 15:00:00.000 , fdate: 2023-04-05 16:00:00.000\n"
     ]
    },
    {
     "name": "stderr",
     "output_type": "stream",
     "text": [
      " 59%|█████▊    | 856/1463 [27:00<19:28,  1.93s/it]"
     ]
    },
    {
     "name": "stdout",
     "output_type": "stream",
     "text": [
      "Saved data\n",
      "\n",
      "idate: 2023-04-05 16:00:00.000 , fdate: 2023-04-05 17:00:00.000\n"
     ]
    },
    {
     "name": "stderr",
     "output_type": "stream",
     "text": [
      " 59%|█████▊    | 857/1463 [27:02<20:14,  2.00s/it]"
     ]
    },
    {
     "name": "stdout",
     "output_type": "stream",
     "text": [
      "Saved data\n",
      "\n",
      "idate: 2023-04-05 17:00:00.000 , fdate: 2023-04-05 18:00:00.000\n"
     ]
    },
    {
     "name": "stderr",
     "output_type": "stream",
     "text": [
      " 59%|█████▊    | 858/1463 [27:04<20:57,  2.08s/it]"
     ]
    },
    {
     "name": "stdout",
     "output_type": "stream",
     "text": [
      "Saved data\n",
      "\n",
      "idate: 2023-04-05 18:00:00.000 , fdate: 2023-04-05 19:00:00.000\n"
     ]
    },
    {
     "name": "stderr",
     "output_type": "stream",
     "text": [
      " 59%|█████▊    | 859/1463 [27:06<20:48,  2.07s/it]"
     ]
    },
    {
     "name": "stdout",
     "output_type": "stream",
     "text": [
      "Saved data\n",
      "\n",
      "idate: 2023-04-05 19:00:00.000 , fdate: 2023-04-05 20:00:00.000\n"
     ]
    },
    {
     "name": "stderr",
     "output_type": "stream",
     "text": [
      " 59%|█████▉    | 860/1463 [27:08<20:19,  2.02s/it]"
     ]
    },
    {
     "name": "stdout",
     "output_type": "stream",
     "text": [
      "Saved data\n",
      "\n",
      "idate: 2023-04-05 20:00:00.000 , fdate: 2023-04-05 21:00:00.000\n"
     ]
    },
    {
     "name": "stderr",
     "output_type": "stream",
     "text": [
      " 59%|█████▉    | 861/1463 [27:10<20:33,  2.05s/it]"
     ]
    },
    {
     "name": "stdout",
     "output_type": "stream",
     "text": [
      "Saved data\n",
      "\n",
      "idate: 2023-04-05 21:00:00.000 , fdate: 2023-04-05 22:00:00.000\n"
     ]
    },
    {
     "name": "stderr",
     "output_type": "stream",
     "text": [
      " 59%|█████▉    | 862/1463 [27:12<21:12,  2.12s/it]"
     ]
    },
    {
     "name": "stdout",
     "output_type": "stream",
     "text": [
      "Saved data\n",
      "\n",
      "idate: 2023-04-05 22:00:00.000 , fdate: 2023-04-05 23:00:00.000\n"
     ]
    },
    {
     "name": "stderr",
     "output_type": "stream",
     "text": [
      " 59%|█████▉    | 863/1463 [27:14<20:38,  2.06s/it]"
     ]
    },
    {
     "name": "stdout",
     "output_type": "stream",
     "text": [
      "Saved data\n",
      "\n",
      "idate: 2023-04-05 23:00:00.000 , fdate: 2023-04-06 00:00:00.000\n"
     ]
    },
    {
     "name": "stderr",
     "output_type": "stream",
     "text": [
      " 59%|█████▉    | 864/1463 [27:16<19:40,  1.97s/it]"
     ]
    },
    {
     "name": "stdout",
     "output_type": "stream",
     "text": [
      "Saved data\n",
      "\n",
      "idate: 2023-04-06 00:00:00.000 , fdate: 2023-04-06 01:00:00.000\n"
     ]
    },
    {
     "name": "stderr",
     "output_type": "stream",
     "text": [
      " 59%|█████▉    | 865/1463 [27:18<19:13,  1.93s/it]"
     ]
    },
    {
     "name": "stdout",
     "output_type": "stream",
     "text": [
      "Saved data\n",
      "\n",
      "idate: 2023-04-06 01:00:00.000 , fdate: 2023-04-06 02:00:00.000\n"
     ]
    },
    {
     "name": "stderr",
     "output_type": "stream",
     "text": [
      " 59%|█████▉    | 866/1463 [27:20<19:18,  1.94s/it]"
     ]
    },
    {
     "name": "stdout",
     "output_type": "stream",
     "text": [
      "Saved data\n",
      "\n",
      "idate: 2023-04-06 02:00:00.000 , fdate: 2023-04-06 03:00:00.000\n"
     ]
    },
    {
     "name": "stderr",
     "output_type": "stream",
     "text": [
      " 59%|█████▉    | 867/1463 [27:22<19:27,  1.96s/it]"
     ]
    },
    {
     "name": "stdout",
     "output_type": "stream",
     "text": [
      "Saved data\n",
      "\n",
      "idate: 2023-04-06 03:00:00.000 , fdate: 2023-04-06 04:00:00.000\n"
     ]
    },
    {
     "name": "stderr",
     "output_type": "stream",
     "text": [
      " 59%|█████▉    | 868/1463 [27:24<19:18,  1.95s/it]"
     ]
    },
    {
     "name": "stdout",
     "output_type": "stream",
     "text": [
      "Saved data\n",
      "\n",
      "idate: 2023-04-06 04:00:00.000 , fdate: 2023-04-06 05:00:00.000\n"
     ]
    },
    {
     "name": "stderr",
     "output_type": "stream",
     "text": [
      " 59%|█████▉    | 869/1463 [27:26<18:35,  1.88s/it]"
     ]
    },
    {
     "name": "stdout",
     "output_type": "stream",
     "text": [
      "Saved data\n",
      "\n",
      "idate: 2023-04-06 05:00:00.000 , fdate: 2023-04-06 06:00:00.000\n"
     ]
    },
    {
     "name": "stderr",
     "output_type": "stream",
     "text": [
      " 59%|█████▉    | 870/1463 [27:27<17:48,  1.80s/it]"
     ]
    },
    {
     "name": "stdout",
     "output_type": "stream",
     "text": [
      "Saved data\n",
      "\n",
      "idate: 2023-04-06 06:00:00.000 , fdate: 2023-04-06 07:00:00.000\n"
     ]
    },
    {
     "name": "stderr",
     "output_type": "stream",
     "text": [
      " 60%|█████▉    | 871/1463 [27:29<17:26,  1.77s/it]"
     ]
    },
    {
     "name": "stdout",
     "output_type": "stream",
     "text": [
      "Saved data\n",
      "\n",
      "idate: 2023-04-06 07:00:00.000 , fdate: 2023-04-06 08:00:00.000\n"
     ]
    },
    {
     "name": "stderr",
     "output_type": "stream",
     "text": [
      " 60%|█████▉    | 872/1463 [27:31<17:18,  1.76s/it]"
     ]
    },
    {
     "name": "stdout",
     "output_type": "stream",
     "text": [
      "Saved data\n",
      "\n",
      "idate: 2023-04-06 08:00:00.000 , fdate: 2023-04-06 09:00:00.000\n"
     ]
    },
    {
     "name": "stderr",
     "output_type": "stream",
     "text": [
      " 60%|█████▉    | 873/1463 [27:33<17:41,  1.80s/it]"
     ]
    },
    {
     "name": "stdout",
     "output_type": "stream",
     "text": [
      "Saved data\n",
      "\n",
      "idate: 2023-04-06 09:00:00.000 , fdate: 2023-04-06 10:00:00.000\n"
     ]
    },
    {
     "name": "stderr",
     "output_type": "stream",
     "text": [
      " 60%|█████▉    | 874/1463 [27:35<19:00,  1.94s/it]"
     ]
    },
    {
     "name": "stdout",
     "output_type": "stream",
     "text": [
      "Saved data\n",
      "\n",
      "idate: 2023-04-06 10:00:00.000 , fdate: 2023-04-06 11:00:00.000\n"
     ]
    },
    {
     "name": "stderr",
     "output_type": "stream",
     "text": [
      " 60%|█████▉    | 875/1463 [27:37<20:33,  2.10s/it]"
     ]
    },
    {
     "name": "stdout",
     "output_type": "stream",
     "text": [
      "Saved data\n",
      "\n",
      "idate: 2023-04-06 11:00:00.000 , fdate: 2023-04-06 12:00:00.000\n"
     ]
    },
    {
     "name": "stderr",
     "output_type": "stream",
     "text": [
      " 60%|█████▉    | 876/1463 [27:39<20:34,  2.10s/it]"
     ]
    },
    {
     "name": "stdout",
     "output_type": "stream",
     "text": [
      "Saved data\n",
      "\n",
      "idate: 2023-04-06 12:00:00.000 , fdate: 2023-04-06 13:00:00.000\n"
     ]
    },
    {
     "name": "stderr",
     "output_type": "stream",
     "text": [
      " 60%|█████▉    | 877/1463 [27:42<21:33,  2.21s/it]"
     ]
    },
    {
     "name": "stdout",
     "output_type": "stream",
     "text": [
      "Saved data\n",
      "\n",
      "idate: 2023-04-06 13:00:00.000 , fdate: 2023-04-06 14:00:00.000\n"
     ]
    },
    {
     "name": "stderr",
     "output_type": "stream",
     "text": [
      " 60%|██████    | 878/1463 [27:44<21:11,  2.17s/it]"
     ]
    },
    {
     "name": "stdout",
     "output_type": "stream",
     "text": [
      "Saved data\n",
      "\n",
      "idate: 2023-04-06 14:00:00.000 , fdate: 2023-04-06 15:00:00.000\n"
     ]
    },
    {
     "name": "stderr",
     "output_type": "stream",
     "text": [
      " 60%|██████    | 879/1463 [27:46<21:33,  2.21s/it]"
     ]
    },
    {
     "name": "stdout",
     "output_type": "stream",
     "text": [
      "Saved data\n",
      "\n",
      "idate: 2023-04-06 15:00:00.000 , fdate: 2023-04-06 16:00:00.000\n"
     ]
    },
    {
     "name": "stderr",
     "output_type": "stream",
     "text": [
      " 60%|██████    | 880/1463 [27:48<21:03,  2.17s/it]"
     ]
    },
    {
     "name": "stdout",
     "output_type": "stream",
     "text": [
      "Saved data\n",
      "\n",
      "idate: 2023-04-06 16:00:00.000 , fdate: 2023-04-06 17:00:00.000\n"
     ]
    },
    {
     "name": "stderr",
     "output_type": "stream",
     "text": [
      " 60%|██████    | 881/1463 [27:50<20:57,  2.16s/it]"
     ]
    },
    {
     "name": "stdout",
     "output_type": "stream",
     "text": [
      "Saved data\n",
      "\n",
      "idate: 2023-04-06 17:00:00.000 , fdate: 2023-04-06 18:00:00.000\n"
     ]
    },
    {
     "name": "stderr",
     "output_type": "stream",
     "text": [
      " 60%|██████    | 882/1463 [27:53<21:02,  2.17s/it]"
     ]
    },
    {
     "name": "stdout",
     "output_type": "stream",
     "text": [
      "Saved data\n",
      "\n",
      "idate: 2023-04-06 18:00:00.000 , fdate: 2023-04-06 19:00:00.000\n"
     ]
    },
    {
     "name": "stderr",
     "output_type": "stream",
     "text": [
      " 60%|██████    | 883/1463 [27:55<20:46,  2.15s/it]"
     ]
    },
    {
     "name": "stdout",
     "output_type": "stream",
     "text": [
      "Saved data\n",
      "\n",
      "idate: 2023-04-06 19:00:00.000 , fdate: 2023-04-06 20:00:00.000\n"
     ]
    },
    {
     "name": "stderr",
     "output_type": "stream",
     "text": [
      " 60%|██████    | 884/1463 [27:57<20:54,  2.17s/it]"
     ]
    },
    {
     "name": "stdout",
     "output_type": "stream",
     "text": [
      "Saved data\n",
      "\n",
      "idate: 2023-04-06 20:00:00.000 , fdate: 2023-04-06 21:00:00.000\n"
     ]
    },
    {
     "name": "stderr",
     "output_type": "stream",
     "text": [
      " 60%|██████    | 885/1463 [27:59<21:02,  2.18s/it]"
     ]
    },
    {
     "name": "stdout",
     "output_type": "stream",
     "text": [
      "Saved data\n",
      "\n",
      "idate: 2023-04-06 21:00:00.000 , fdate: 2023-04-06 22:00:00.000\n"
     ]
    },
    {
     "name": "stderr",
     "output_type": "stream",
     "text": [
      " 61%|██████    | 886/1463 [28:02<21:52,  2.27s/it]"
     ]
    },
    {
     "name": "stdout",
     "output_type": "stream",
     "text": [
      "Saved data\n",
      "\n",
      "idate: 2023-04-06 22:00:00.000 , fdate: 2023-04-06 23:00:00.000\n"
     ]
    },
    {
     "name": "stderr",
     "output_type": "stream",
     "text": [
      " 61%|██████    | 887/1463 [28:04<21:51,  2.28s/it]"
     ]
    },
    {
     "name": "stdout",
     "output_type": "stream",
     "text": [
      "Saved data\n",
      "\n",
      "idate: 2023-04-06 23:00:00.000 , fdate: 2023-04-07 00:00:00.000\n"
     ]
    },
    {
     "name": "stderr",
     "output_type": "stream",
     "text": [
      " 61%|██████    | 888/1463 [28:06<20:45,  2.17s/it]"
     ]
    },
    {
     "name": "stdout",
     "output_type": "stream",
     "text": [
      "Saved data\n",
      "\n",
      "idate: 2023-04-07 00:00:00.000 , fdate: 2023-04-07 01:00:00.000\n"
     ]
    },
    {
     "name": "stderr",
     "output_type": "stream",
     "text": [
      " 61%|██████    | 889/1463 [28:08<19:47,  2.07s/it]"
     ]
    },
    {
     "name": "stdout",
     "output_type": "stream",
     "text": [
      "Saved data\n",
      "\n",
      "idate: 2023-04-07 01:00:00.000 , fdate: 2023-04-07 02:00:00.000\n"
     ]
    },
    {
     "name": "stderr",
     "output_type": "stream",
     "text": [
      " 61%|██████    | 890/1463 [28:10<20:04,  2.10s/it]"
     ]
    },
    {
     "name": "stdout",
     "output_type": "stream",
     "text": [
      "Saved data\n",
      "\n",
      "idate: 2023-04-07 02:00:00.000 , fdate: 2023-04-07 03:00:00.000\n"
     ]
    },
    {
     "name": "stderr",
     "output_type": "stream",
     "text": [
      " 61%|██████    | 891/1463 [28:12<19:35,  2.05s/it]"
     ]
    },
    {
     "name": "stdout",
     "output_type": "stream",
     "text": [
      "Saved data\n",
      "\n",
      "idate: 2023-04-07 03:00:00.000 , fdate: 2023-04-07 04:00:00.000\n"
     ]
    },
    {
     "name": "stderr",
     "output_type": "stream",
     "text": [
      " 61%|██████    | 892/1463 [28:14<18:56,  1.99s/it]"
     ]
    },
    {
     "name": "stdout",
     "output_type": "stream",
     "text": [
      "Saved data\n",
      "\n",
      "idate: 2023-04-07 04:00:00.000 , fdate: 2023-04-07 05:00:00.000\n"
     ]
    },
    {
     "name": "stderr",
     "output_type": "stream",
     "text": [
      " 61%|██████    | 893/1463 [28:15<18:31,  1.95s/it]"
     ]
    },
    {
     "name": "stdout",
     "output_type": "stream",
     "text": [
      "Saved data\n",
      "\n",
      "idate: 2023-04-07 05:00:00.000 , fdate: 2023-04-07 06:00:00.000\n"
     ]
    },
    {
     "name": "stderr",
     "output_type": "stream",
     "text": [
      " 61%|██████    | 894/1463 [28:17<17:34,  1.85s/it]"
     ]
    },
    {
     "name": "stdout",
     "output_type": "stream",
     "text": [
      "Saved data\n",
      "\n",
      "idate: 2023-04-07 06:00:00.000 , fdate: 2023-04-07 07:00:00.000\n"
     ]
    },
    {
     "name": "stderr",
     "output_type": "stream",
     "text": [
      " 61%|██████    | 895/1463 [28:19<17:11,  1.82s/it]"
     ]
    },
    {
     "name": "stdout",
     "output_type": "stream",
     "text": [
      "Saved data\n",
      "\n",
      "idate: 2023-04-07 07:00:00.000 , fdate: 2023-04-07 08:00:00.000\n"
     ]
    },
    {
     "name": "stderr",
     "output_type": "stream",
     "text": [
      " 61%|██████    | 896/1463 [28:21<17:12,  1.82s/it]"
     ]
    },
    {
     "name": "stdout",
     "output_type": "stream",
     "text": [
      "Saved data\n",
      "\n",
      "idate: 2023-04-07 08:00:00.000 , fdate: 2023-04-07 09:00:00.000\n"
     ]
    },
    {
     "name": "stderr",
     "output_type": "stream",
     "text": [
      " 61%|██████▏   | 897/1463 [28:23<17:18,  1.84s/it]"
     ]
    },
    {
     "name": "stdout",
     "output_type": "stream",
     "text": [
      "Saved data\n",
      "\n",
      "idate: 2023-04-07 09:00:00.000 , fdate: 2023-04-07 10:00:00.000\n"
     ]
    },
    {
     "name": "stderr",
     "output_type": "stream",
     "text": [
      " 61%|██████▏   | 898/1463 [28:25<18:57,  2.01s/it]"
     ]
    },
    {
     "name": "stdout",
     "output_type": "stream",
     "text": [
      "Saved data\n",
      "\n",
      "idate: 2023-04-07 10:00:00.000 , fdate: 2023-04-07 11:00:00.000\n"
     ]
    },
    {
     "name": "stderr",
     "output_type": "stream",
     "text": [
      " 61%|██████▏   | 899/1463 [28:27<19:54,  2.12s/it]"
     ]
    },
    {
     "name": "stdout",
     "output_type": "stream",
     "text": [
      "Saved data\n",
      "\n",
      "idate: 2023-04-07 11:00:00.000 , fdate: 2023-04-07 12:00:00.000\n"
     ]
    },
    {
     "name": "stderr",
     "output_type": "stream",
     "text": [
      " 62%|██████▏   | 900/1463 [28:30<20:17,  2.16s/it]"
     ]
    },
    {
     "name": "stdout",
     "output_type": "stream",
     "text": [
      "Saved data\n",
      "\n",
      "idate: 2023-04-07 12:00:00.000 , fdate: 2023-04-07 13:00:00.000\n"
     ]
    },
    {
     "name": "stderr",
     "output_type": "stream",
     "text": [
      " 62%|██████▏   | 901/1463 [28:32<20:29,  2.19s/it]"
     ]
    },
    {
     "name": "stdout",
     "output_type": "stream",
     "text": [
      "Saved data\n",
      "\n",
      "idate: 2023-04-07 13:00:00.000 , fdate: 2023-04-07 14:00:00.000\n"
     ]
    },
    {
     "name": "stderr",
     "output_type": "stream",
     "text": [
      " 62%|██████▏   | 902/1463 [28:34<20:34,  2.20s/it]"
     ]
    },
    {
     "name": "stdout",
     "output_type": "stream",
     "text": [
      "Saved data\n",
      "\n",
      "idate: 2023-04-07 14:00:00.000 , fdate: 2023-04-07 15:00:00.000\n"
     ]
    },
    {
     "name": "stderr",
     "output_type": "stream",
     "text": [
      " 62%|██████▏   | 903/1463 [28:36<20:34,  2.20s/it]"
     ]
    },
    {
     "name": "stdout",
     "output_type": "stream",
     "text": [
      "Saved data\n",
      "\n",
      "idate: 2023-04-07 15:00:00.000 , fdate: 2023-04-07 16:00:00.000\n"
     ]
    },
    {
     "name": "stderr",
     "output_type": "stream",
     "text": [
      " 62%|██████▏   | 904/1463 [28:38<19:49,  2.13s/it]"
     ]
    },
    {
     "name": "stdout",
     "output_type": "stream",
     "text": [
      "Saved data\n",
      "\n",
      "idate: 2023-04-07 16:00:00.000 , fdate: 2023-04-07 17:00:00.000\n"
     ]
    },
    {
     "name": "stderr",
     "output_type": "stream",
     "text": [
      " 62%|██████▏   | 905/1463 [28:40<20:07,  2.16s/it]"
     ]
    },
    {
     "name": "stdout",
     "output_type": "stream",
     "text": [
      "Saved data\n",
      "\n",
      "idate: 2023-04-07 17:00:00.000 , fdate: 2023-04-07 18:00:00.000\n"
     ]
    },
    {
     "name": "stderr",
     "output_type": "stream",
     "text": [
      " 62%|██████▏   | 906/1463 [28:42<19:41,  2.12s/it]"
     ]
    },
    {
     "name": "stdout",
     "output_type": "stream",
     "text": [
      "Saved data\n",
      "\n",
      "idate: 2023-04-07 18:00:00.000 , fdate: 2023-04-07 19:00:00.000\n"
     ]
    },
    {
     "name": "stderr",
     "output_type": "stream",
     "text": [
      " 62%|██████▏   | 907/1463 [28:44<18:13,  1.97s/it]"
     ]
    },
    {
     "name": "stdout",
     "output_type": "stream",
     "text": [
      "\n",
      "idate: 2023-04-07 19:00:00.000 , fdate: 2023-04-07 20:00:00.000\n"
     ]
    },
    {
     "name": "stderr",
     "output_type": "stream",
     "text": [
      " 62%|██████▏   | 908/1463 [28:46<17:07,  1.85s/it]"
     ]
    },
    {
     "name": "stdout",
     "output_type": "stream",
     "text": [
      "\n",
      "idate: 2023-04-07 20:00:00.000 , fdate: 2023-04-07 21:00:00.000\n"
     ]
    },
    {
     "name": "stderr",
     "output_type": "stream",
     "text": [
      " 62%|██████▏   | 909/1463 [28:47<16:16,  1.76s/it]"
     ]
    },
    {
     "name": "stdout",
     "output_type": "stream",
     "text": [
      "\n",
      "idate: 2023-04-07 21:00:00.000 , fdate: 2023-04-07 22:00:00.000\n"
     ]
    },
    {
     "name": "stderr",
     "output_type": "stream",
     "text": [
      " 62%|██████▏   | 910/1463 [28:49<15:38,  1.70s/it]"
     ]
    },
    {
     "name": "stdout",
     "output_type": "stream",
     "text": [
      "\n",
      "idate: 2023-04-07 22:00:00.000 , fdate: 2023-04-07 23:00:00.000\n"
     ]
    },
    {
     "name": "stderr",
     "output_type": "stream",
     "text": [
      " 62%|██████▏   | 911/1463 [28:50<15:17,  1.66s/it]"
     ]
    },
    {
     "name": "stdout",
     "output_type": "stream",
     "text": [
      "\n",
      "idate: 2023-04-07 23:00:00.000 , fdate: 2023-04-08 00:00:00.000\n"
     ]
    },
    {
     "name": "stderr",
     "output_type": "stream",
     "text": [
      " 62%|██████▏   | 912/1463 [28:52<15:02,  1.64s/it]"
     ]
    },
    {
     "name": "stdout",
     "output_type": "stream",
     "text": [
      "\n",
      "idate: 2023-04-08 00:00:00.000 , fdate: 2023-04-08 01:00:00.000\n"
     ]
    },
    {
     "name": "stderr",
     "output_type": "stream",
     "text": [
      " 62%|██████▏   | 913/1463 [28:54<14:47,  1.61s/it]"
     ]
    },
    {
     "name": "stdout",
     "output_type": "stream",
     "text": [
      "\n",
      "idate: 2023-04-08 01:00:00.000 , fdate: 2023-04-08 02:00:00.000\n"
     ]
    },
    {
     "name": "stderr",
     "output_type": "stream",
     "text": [
      " 62%|██████▏   | 914/1463 [28:55<14:41,  1.61s/it]"
     ]
    },
    {
     "name": "stdout",
     "output_type": "stream",
     "text": [
      "\n",
      "idate: 2023-04-08 02:00:00.000 , fdate: 2023-04-08 03:00:00.000\n"
     ]
    },
    {
     "name": "stderr",
     "output_type": "stream",
     "text": [
      " 63%|██████▎   | 915/1463 [28:57<14:35,  1.60s/it]"
     ]
    },
    {
     "name": "stdout",
     "output_type": "stream",
     "text": [
      "\n",
      "idate: 2023-04-08 03:00:00.000 , fdate: 2023-04-08 04:00:00.000\n"
     ]
    },
    {
     "name": "stderr",
     "output_type": "stream",
     "text": [
      " 63%|██████▎   | 916/1463 [28:58<14:42,  1.61s/it]"
     ]
    },
    {
     "name": "stdout",
     "output_type": "stream",
     "text": [
      "Saved data\n",
      "\n",
      "idate: 2023-04-08 04:00:00.000 , fdate: 2023-04-08 05:00:00.000\n"
     ]
    },
    {
     "name": "stderr",
     "output_type": "stream",
     "text": [
      " 63%|██████▎   | 917/1463 [29:00<14:39,  1.61s/it]"
     ]
    },
    {
     "name": "stdout",
     "output_type": "stream",
     "text": [
      "Saved data\n",
      "\n",
      "idate: 2023-04-08 05:00:00.000 , fdate: 2023-04-08 06:00:00.000\n"
     ]
    },
    {
     "name": "stderr",
     "output_type": "stream",
     "text": [
      " 63%|██████▎   | 918/1463 [29:02<14:34,  1.60s/it]"
     ]
    },
    {
     "name": "stdout",
     "output_type": "stream",
     "text": [
      "Saved data\n",
      "\n",
      "idate: 2023-04-08 06:00:00.000 , fdate: 2023-04-08 07:00:00.000\n"
     ]
    },
    {
     "name": "stderr",
     "output_type": "stream",
     "text": [
      " 63%|██████▎   | 919/1463 [29:03<14:41,  1.62s/it]"
     ]
    },
    {
     "name": "stdout",
     "output_type": "stream",
     "text": [
      "Saved data\n",
      "\n",
      "idate: 2023-04-08 07:00:00.000 , fdate: 2023-04-08 08:00:00.000\n"
     ]
    },
    {
     "name": "stderr",
     "output_type": "stream",
     "text": [
      " 63%|██████▎   | 920/1463 [29:05<14:44,  1.63s/it]"
     ]
    },
    {
     "name": "stdout",
     "output_type": "stream",
     "text": [
      "Saved data\n",
      "\n",
      "idate: 2023-04-08 08:00:00.000 , fdate: 2023-04-08 09:00:00.000\n"
     ]
    },
    {
     "name": "stderr",
     "output_type": "stream",
     "text": [
      " 63%|██████▎   | 921/1463 [29:07<15:33,  1.72s/it]"
     ]
    },
    {
     "name": "stdout",
     "output_type": "stream",
     "text": [
      "Saved data\n",
      "\n",
      "idate: 2023-04-08 09:00:00.000 , fdate: 2023-04-08 10:00:00.000\n"
     ]
    },
    {
     "name": "stderr",
     "output_type": "stream",
     "text": [
      " 63%|██████▎   | 922/1463 [29:09<16:31,  1.83s/it]"
     ]
    },
    {
     "name": "stdout",
     "output_type": "stream",
     "text": [
      "Saved data\n",
      "\n",
      "idate: 2023-04-08 10:00:00.000 , fdate: 2023-04-08 11:00:00.000\n"
     ]
    },
    {
     "name": "stderr",
     "output_type": "stream",
     "text": [
      " 63%|██████▎   | 923/1463 [29:11<17:06,  1.90s/it]"
     ]
    },
    {
     "name": "stdout",
     "output_type": "stream",
     "text": [
      "Saved data\n",
      "\n",
      "idate: 2023-04-08 11:00:00.000 , fdate: 2023-04-08 12:00:00.000\n"
     ]
    },
    {
     "name": "stderr",
     "output_type": "stream",
     "text": [
      " 63%|██████▎   | 924/1463 [29:13<17:05,  1.90s/it]"
     ]
    },
    {
     "name": "stdout",
     "output_type": "stream",
     "text": [
      "Saved data\n",
      "\n",
      "idate: 2023-04-08 12:00:00.000 , fdate: 2023-04-08 13:00:00.000\n"
     ]
    },
    {
     "name": "stderr",
     "output_type": "stream",
     "text": [
      " 63%|██████▎   | 925/1463 [29:15<17:42,  1.97s/it]"
     ]
    },
    {
     "name": "stdout",
     "output_type": "stream",
     "text": [
      "Saved data\n",
      "\n",
      "idate: 2023-04-08 13:00:00.000 , fdate: 2023-04-08 14:00:00.000\n"
     ]
    },
    {
     "name": "stderr",
     "output_type": "stream",
     "text": [
      " 63%|██████▎   | 926/1463 [29:17<17:44,  1.98s/it]"
     ]
    },
    {
     "name": "stdout",
     "output_type": "stream",
     "text": [
      "Saved data\n",
      "\n",
      "idate: 2023-04-08 14:00:00.000 , fdate: 2023-04-08 15:00:00.000\n"
     ]
    },
    {
     "name": "stderr",
     "output_type": "stream",
     "text": [
      " 63%|██████▎   | 927/1463 [29:19<18:16,  2.05s/it]"
     ]
    },
    {
     "name": "stdout",
     "output_type": "stream",
     "text": [
      "Saved data\n",
      "\n",
      "idate: 2023-04-08 15:00:00.000 , fdate: 2023-04-08 16:00:00.000\n"
     ]
    },
    {
     "name": "stderr",
     "output_type": "stream",
     "text": [
      " 63%|██████▎   | 928/1463 [29:21<17:53,  2.01s/it]"
     ]
    },
    {
     "name": "stdout",
     "output_type": "stream",
     "text": [
      "Saved data\n",
      "\n",
      "idate: 2023-04-08 16:00:00.000 , fdate: 2023-04-08 17:00:00.000\n"
     ]
    },
    {
     "name": "stderr",
     "output_type": "stream",
     "text": [
      " 63%|██████▎   | 929/1463 [29:23<17:32,  1.97s/it]"
     ]
    },
    {
     "name": "stdout",
     "output_type": "stream",
     "text": [
      "Saved data\n",
      "\n",
      "idate: 2023-04-08 17:00:00.000 , fdate: 2023-04-08 18:00:00.000\n"
     ]
    },
    {
     "name": "stderr",
     "output_type": "stream",
     "text": [
      " 64%|██████▎   | 930/1463 [29:25<17:54,  2.02s/it]"
     ]
    },
    {
     "name": "stdout",
     "output_type": "stream",
     "text": [
      "Saved data\n",
      "\n",
      "idate: 2023-04-08 18:00:00.000 , fdate: 2023-04-08 19:00:00.000\n"
     ]
    },
    {
     "name": "stderr",
     "output_type": "stream",
     "text": [
      " 64%|██████▎   | 931/1463 [29:27<17:57,  2.03s/it]"
     ]
    },
    {
     "name": "stdout",
     "output_type": "stream",
     "text": [
      "Saved data\n",
      "\n",
      "idate: 2023-04-08 19:00:00.000 , fdate: 2023-04-08 20:00:00.000\n"
     ]
    },
    {
     "name": "stderr",
     "output_type": "stream",
     "text": [
      " 64%|██████▎   | 932/1463 [29:29<17:30,  1.98s/it]"
     ]
    },
    {
     "name": "stdout",
     "output_type": "stream",
     "text": [
      "Saved data\n",
      "\n",
      "idate: 2023-04-08 20:00:00.000 , fdate: 2023-04-08 21:00:00.000\n"
     ]
    },
    {
     "name": "stderr",
     "output_type": "stream",
     "text": [
      " 64%|██████▍   | 933/1463 [29:31<17:21,  1.96s/it]"
     ]
    },
    {
     "name": "stdout",
     "output_type": "stream",
     "text": [
      "Saved data\n",
      "\n",
      "idate: 2023-04-08 21:00:00.000 , fdate: 2023-04-08 22:00:00.000\n"
     ]
    },
    {
     "name": "stderr",
     "output_type": "stream",
     "text": [
      " 64%|██████▍   | 934/1463 [29:33<17:37,  2.00s/it]"
     ]
    },
    {
     "name": "stdout",
     "output_type": "stream",
     "text": [
      "Saved data\n",
      "\n",
      "idate: 2023-04-08 22:00:00.000 , fdate: 2023-04-08 23:00:00.000\n"
     ]
    },
    {
     "name": "stderr",
     "output_type": "stream",
     "text": [
      " 64%|██████▍   | 935/1463 [29:35<17:16,  1.96s/it]"
     ]
    },
    {
     "name": "stdout",
     "output_type": "stream",
     "text": [
      "Saved data\n",
      "\n",
      "idate: 2023-04-08 23:00:00.000 , fdate: 2023-04-09 00:00:00.000\n"
     ]
    },
    {
     "name": "stderr",
     "output_type": "stream",
     "text": [
      " 64%|██████▍   | 936/1463 [29:37<16:54,  1.92s/it]"
     ]
    },
    {
     "name": "stdout",
     "output_type": "stream",
     "text": [
      "Saved data\n",
      "\n",
      "idate: 2023-04-09 00:00:00.000 , fdate: 2023-04-09 01:00:00.000\n"
     ]
    },
    {
     "name": "stderr",
     "output_type": "stream",
     "text": [
      " 64%|██████▍   | 937/1463 [29:38<16:13,  1.85s/it]"
     ]
    },
    {
     "name": "stdout",
     "output_type": "stream",
     "text": [
      "Saved data\n",
      "\n",
      "idate: 2023-04-09 01:00:00.000 , fdate: 2023-04-09 02:00:00.000\n"
     ]
    },
    {
     "name": "stderr",
     "output_type": "stream",
     "text": [
      " 64%|██████▍   | 938/1463 [29:40<15:58,  1.83s/it]"
     ]
    },
    {
     "name": "stdout",
     "output_type": "stream",
     "text": [
      "Saved data\n",
      "\n",
      "idate: 2023-04-09 02:00:00.000 , fdate: 2023-04-09 03:00:00.000\n"
     ]
    },
    {
     "name": "stderr",
     "output_type": "stream",
     "text": [
      " 64%|██████▍   | 939/1463 [29:42<15:40,  1.79s/it]"
     ]
    },
    {
     "name": "stdout",
     "output_type": "stream",
     "text": [
      "Saved data\n",
      "\n",
      "idate: 2023-04-09 03:00:00.000 , fdate: 2023-04-09 04:00:00.000\n"
     ]
    },
    {
     "name": "stderr",
     "output_type": "stream",
     "text": [
      " 64%|██████▍   | 940/1463 [29:44<15:22,  1.76s/it]"
     ]
    },
    {
     "name": "stdout",
     "output_type": "stream",
     "text": [
      "Saved data\n",
      "\n",
      "idate: 2023-04-09 04:00:00.000 , fdate: 2023-04-09 05:00:00.000\n"
     ]
    },
    {
     "name": "stderr",
     "output_type": "stream",
     "text": [
      " 64%|██████▍   | 941/1463 [29:45<15:03,  1.73s/it]"
     ]
    },
    {
     "name": "stdout",
     "output_type": "stream",
     "text": [
      "Saved data\n",
      "\n",
      "idate: 2023-04-09 05:00:00.000 , fdate: 2023-04-09 06:00:00.000\n"
     ]
    },
    {
     "name": "stderr",
     "output_type": "stream",
     "text": [
      " 64%|██████▍   | 942/1463 [29:47<14:37,  1.68s/it]"
     ]
    },
    {
     "name": "stdout",
     "output_type": "stream",
     "text": [
      "Saved data\n",
      "\n",
      "idate: 2023-04-09 06:00:00.000 , fdate: 2023-04-09 07:00:00.000\n"
     ]
    },
    {
     "name": "stderr",
     "output_type": "stream",
     "text": [
      " 64%|██████▍   | 943/1463 [29:48<14:30,  1.67s/it]"
     ]
    },
    {
     "name": "stdout",
     "output_type": "stream",
     "text": [
      "Saved data\n",
      "\n",
      "idate: 2023-04-09 07:00:00.000 , fdate: 2023-04-09 08:00:00.000\n"
     ]
    },
    {
     "name": "stderr",
     "output_type": "stream",
     "text": [
      " 65%|██████▍   | 944/1463 [29:50<14:31,  1.68s/it]"
     ]
    },
    {
     "name": "stdout",
     "output_type": "stream",
     "text": [
      "Saved data\n",
      "\n",
      "idate: 2023-04-09 08:00:00.000 , fdate: 2023-04-09 09:00:00.000\n"
     ]
    },
    {
     "name": "stderr",
     "output_type": "stream",
     "text": [
      " 65%|██████▍   | 945/1463 [29:52<14:29,  1.68s/it]"
     ]
    },
    {
     "name": "stdout",
     "output_type": "stream",
     "text": [
      "Saved data\n",
      "\n",
      "idate: 2023-04-09 09:00:00.000 , fdate: 2023-04-09 10:00:00.000\n"
     ]
    },
    {
     "name": "stderr",
     "output_type": "stream",
     "text": [
      " 65%|██████▍   | 946/1463 [29:54<15:06,  1.75s/it]"
     ]
    },
    {
     "name": "stdout",
     "output_type": "stream",
     "text": [
      "Saved data\n",
      "\n",
      "idate: 2023-04-09 10:00:00.000 , fdate: 2023-04-09 11:00:00.000\n"
     ]
    },
    {
     "name": "stderr",
     "output_type": "stream",
     "text": [
      " 65%|██████▍   | 947/1463 [29:56<15:22,  1.79s/it]"
     ]
    },
    {
     "name": "stdout",
     "output_type": "stream",
     "text": [
      "Saved data\n",
      "\n",
      "idate: 2023-04-09 11:00:00.000 , fdate: 2023-04-09 12:00:00.000\n"
     ]
    },
    {
     "name": "stderr",
     "output_type": "stream",
     "text": [
      " 65%|██████▍   | 948/1463 [29:58<15:56,  1.86s/it]"
     ]
    },
    {
     "name": "stdout",
     "output_type": "stream",
     "text": [
      "Saved data\n",
      "\n",
      "idate: 2023-04-09 12:00:00.000 , fdate: 2023-04-09 13:00:00.000\n"
     ]
    },
    {
     "name": "stderr",
     "output_type": "stream",
     "text": [
      " 65%|██████▍   | 949/1463 [30:00<16:41,  1.95s/it]"
     ]
    },
    {
     "name": "stdout",
     "output_type": "stream",
     "text": [
      "Saved data\n",
      "\n",
      "idate: 2023-04-09 13:00:00.000 , fdate: 2023-04-09 14:00:00.000\n"
     ]
    },
    {
     "name": "stderr",
     "output_type": "stream",
     "text": [
      " 65%|██████▍   | 950/1463 [30:02<17:38,  2.06s/it]"
     ]
    },
    {
     "name": "stdout",
     "output_type": "stream",
     "text": [
      "Saved data\n",
      "\n",
      "idate: 2023-04-09 14:00:00.000 , fdate: 2023-04-09 15:00:00.000\n"
     ]
    },
    {
     "name": "stderr",
     "output_type": "stream",
     "text": [
      " 65%|██████▌   | 951/1463 [30:04<17:27,  2.05s/it]"
     ]
    },
    {
     "name": "stdout",
     "output_type": "stream",
     "text": [
      "Saved data\n",
      "\n",
      "idate: 2023-04-09 15:00:00.000 , fdate: 2023-04-09 16:00:00.000\n"
     ]
    },
    {
     "name": "stderr",
     "output_type": "stream",
     "text": [
      " 65%|██████▌   | 952/1463 [30:06<17:24,  2.04s/it]"
     ]
    },
    {
     "name": "stdout",
     "output_type": "stream",
     "text": [
      "Saved data\n",
      "\n",
      "idate: 2023-04-09 16:00:00.000 , fdate: 2023-04-09 17:00:00.000\n"
     ]
    },
    {
     "name": "stderr",
     "output_type": "stream",
     "text": [
      " 65%|██████▌   | 953/1463 [30:08<17:38,  2.08s/it]"
     ]
    },
    {
     "name": "stdout",
     "output_type": "stream",
     "text": [
      "Saved data\n",
      "\n",
      "idate: 2023-04-09 17:00:00.000 , fdate: 2023-04-09 18:00:00.000\n"
     ]
    },
    {
     "name": "stderr",
     "output_type": "stream",
     "text": [
      " 65%|██████▌   | 954/1463 [30:10<17:40,  2.08s/it]"
     ]
    },
    {
     "name": "stdout",
     "output_type": "stream",
     "text": [
      "Saved data\n",
      "\n",
      "idate: 2023-04-09 18:00:00.000 , fdate: 2023-04-09 19:00:00.000\n"
     ]
    },
    {
     "name": "stderr",
     "output_type": "stream",
     "text": [
      " 65%|██████▌   | 955/1463 [30:13<17:43,  2.09s/it]"
     ]
    },
    {
     "name": "stdout",
     "output_type": "stream",
     "text": [
      "Saved data\n",
      "\n",
      "idate: 2023-04-09 19:00:00.000 , fdate: 2023-04-09 20:00:00.000\n"
     ]
    },
    {
     "name": "stderr",
     "output_type": "stream",
     "text": [
      " 65%|██████▌   | 956/1463 [30:15<17:47,  2.11s/it]"
     ]
    },
    {
     "name": "stdout",
     "output_type": "stream",
     "text": [
      "Saved data\n",
      "\n",
      "idate: 2023-04-09 20:00:00.000 , fdate: 2023-04-09 21:00:00.000\n"
     ]
    },
    {
     "name": "stderr",
     "output_type": "stream",
     "text": [
      " 65%|██████▌   | 957/1463 [30:17<17:45,  2.11s/it]"
     ]
    },
    {
     "name": "stdout",
     "output_type": "stream",
     "text": [
      "Saved data\n",
      "\n",
      "idate: 2023-04-09 21:00:00.000 , fdate: 2023-04-09 22:00:00.000\n"
     ]
    },
    {
     "name": "stderr",
     "output_type": "stream",
     "text": [
      " 65%|██████▌   | 958/1463 [30:19<17:52,  2.12s/it]"
     ]
    },
    {
     "name": "stdout",
     "output_type": "stream",
     "text": [
      "Saved data\n",
      "\n",
      "idate: 2023-04-09 22:00:00.000 , fdate: 2023-04-09 23:00:00.000\n"
     ]
    },
    {
     "name": "stderr",
     "output_type": "stream",
     "text": [
      " 66%|██████▌   | 959/1463 [30:21<18:27,  2.20s/it]"
     ]
    },
    {
     "name": "stdout",
     "output_type": "stream",
     "text": [
      "Saved data\n",
      "\n",
      "idate: 2023-04-09 23:00:00.000 , fdate: 2023-04-10 00:00:00.000\n"
     ]
    },
    {
     "name": "stderr",
     "output_type": "stream",
     "text": [
      " 66%|██████▌   | 960/1463 [30:23<17:37,  2.10s/it]"
     ]
    },
    {
     "name": "stdout",
     "output_type": "stream",
     "text": [
      "Saved data\n",
      "\n",
      "idate: 2023-04-10 00:00:00.000 , fdate: 2023-04-10 01:00:00.000\n"
     ]
    },
    {
     "name": "stderr",
     "output_type": "stream",
     "text": [
      " 66%|██████▌   | 961/1463 [30:25<17:25,  2.08s/it]"
     ]
    },
    {
     "name": "stdout",
     "output_type": "stream",
     "text": [
      "Saved data\n",
      "\n",
      "idate: 2023-04-10 01:00:00.000 , fdate: 2023-04-10 02:00:00.000\n"
     ]
    },
    {
     "name": "stderr",
     "output_type": "stream",
     "text": [
      " 66%|██████▌   | 962/1463 [30:27<17:13,  2.06s/it]"
     ]
    },
    {
     "name": "stdout",
     "output_type": "stream",
     "text": [
      "Saved data\n",
      "\n",
      "idate: 2023-04-10 02:00:00.000 , fdate: 2023-04-10 03:00:00.000\n"
     ]
    },
    {
     "name": "stderr",
     "output_type": "stream",
     "text": [
      " 66%|██████▌   | 963/1463 [30:29<16:54,  2.03s/it]"
     ]
    },
    {
     "name": "stdout",
     "output_type": "stream",
     "text": [
      "Saved data\n",
      "\n",
      "idate: 2023-04-10 03:00:00.000 , fdate: 2023-04-10 04:00:00.000\n"
     ]
    },
    {
     "name": "stderr",
     "output_type": "stream",
     "text": [
      " 66%|██████▌   | 964/1463 [30:31<16:38,  2.00s/it]"
     ]
    },
    {
     "name": "stdout",
     "output_type": "stream",
     "text": [
      "Saved data\n",
      "\n",
      "idate: 2023-04-10 04:00:00.000 , fdate: 2023-04-10 05:00:00.000\n"
     ]
    },
    {
     "name": "stderr",
     "output_type": "stream",
     "text": [
      " 66%|██████▌   | 965/1463 [30:33<16:42,  2.01s/it]"
     ]
    },
    {
     "name": "stdout",
     "output_type": "stream",
     "text": [
      "Saved data\n",
      "\n",
      "idate: 2023-04-10 05:00:00.000 , fdate: 2023-04-10 06:00:00.000\n"
     ]
    },
    {
     "name": "stderr",
     "output_type": "stream",
     "text": [
      " 66%|██████▌   | 966/1463 [30:35<15:39,  1.89s/it]"
     ]
    },
    {
     "name": "stdout",
     "output_type": "stream",
     "text": [
      "Saved data\n",
      "\n",
      "idate: 2023-04-10 06:00:00.000 , fdate: 2023-04-10 07:00:00.000\n"
     ]
    },
    {
     "name": "stderr",
     "output_type": "stream",
     "text": [
      " 66%|██████▌   | 967/1463 [30:36<15:01,  1.82s/it]"
     ]
    },
    {
     "name": "stdout",
     "output_type": "stream",
     "text": [
      "Saved data\n",
      "\n",
      "idate: 2023-04-10 07:00:00.000 , fdate: 2023-04-10 08:00:00.000\n"
     ]
    },
    {
     "name": "stderr",
     "output_type": "stream",
     "text": [
      " 66%|██████▌   | 968/1463 [30:38<14:47,  1.79s/it]"
     ]
    },
    {
     "name": "stdout",
     "output_type": "stream",
     "text": [
      "Saved data\n",
      "\n",
      "idate: 2023-04-10 08:00:00.000 , fdate: 2023-04-10 09:00:00.000\n"
     ]
    },
    {
     "name": "stderr",
     "output_type": "stream",
     "text": [
      " 66%|██████▌   | 969/1463 [30:40<14:53,  1.81s/it]"
     ]
    },
    {
     "name": "stdout",
     "output_type": "stream",
     "text": [
      "Saved data\n",
      "\n",
      "idate: 2023-04-10 09:00:00.000 , fdate: 2023-04-10 10:00:00.000\n"
     ]
    },
    {
     "name": "stderr",
     "output_type": "stream",
     "text": [
      " 66%|██████▋   | 970/1463 [30:42<16:10,  1.97s/it]"
     ]
    },
    {
     "name": "stdout",
     "output_type": "stream",
     "text": [
      "Saved data\n",
      "\n",
      "idate: 2023-04-10 10:00:00.000 , fdate: 2023-04-10 11:00:00.000\n"
     ]
    },
    {
     "name": "stderr",
     "output_type": "stream",
     "text": [
      " 66%|██████▋   | 971/1463 [30:45<17:01,  2.08s/it]"
     ]
    },
    {
     "name": "stdout",
     "output_type": "stream",
     "text": [
      "Saved data\n",
      "\n",
      "idate: 2023-04-10 11:00:00.000 , fdate: 2023-04-10 12:00:00.000\n"
     ]
    },
    {
     "name": "stderr",
     "output_type": "stream",
     "text": [
      " 66%|██████▋   | 972/1463 [30:47<17:14,  2.11s/it]"
     ]
    },
    {
     "name": "stdout",
     "output_type": "stream",
     "text": [
      "Saved data\n",
      "\n",
      "idate: 2023-04-10 12:00:00.000 , fdate: 2023-04-10 13:00:00.000\n"
     ]
    },
    {
     "name": "stderr",
     "output_type": "stream",
     "text": [
      " 67%|██████▋   | 973/1463 [30:49<17:14,  2.11s/it]"
     ]
    },
    {
     "name": "stdout",
     "output_type": "stream",
     "text": [
      "Saved data\n",
      "\n",
      "idate: 2023-04-10 13:00:00.000 , fdate: 2023-04-10 14:00:00.000\n"
     ]
    },
    {
     "name": "stderr",
     "output_type": "stream",
     "text": [
      " 67%|██████▋   | 974/1463 [30:51<16:43,  2.05s/it]"
     ]
    },
    {
     "name": "stdout",
     "output_type": "stream",
     "text": [
      "Saved data\n",
      "\n",
      "idate: 2023-04-10 14:00:00.000 , fdate: 2023-04-10 15:00:00.000\n"
     ]
    },
    {
     "name": "stderr",
     "output_type": "stream",
     "text": [
      " 67%|██████▋   | 975/1463 [30:53<17:05,  2.10s/it]"
     ]
    },
    {
     "name": "stdout",
     "output_type": "stream",
     "text": [
      "Saved data\n",
      "\n",
      "idate: 2023-04-10 15:00:00.000 , fdate: 2023-04-10 16:00:00.000\n"
     ]
    },
    {
     "name": "stderr",
     "output_type": "stream",
     "text": [
      " 67%|██████▋   | 976/1463 [30:55<17:22,  2.14s/it]"
     ]
    },
    {
     "name": "stdout",
     "output_type": "stream",
     "text": [
      "Saved data\n",
      "\n",
      "idate: 2023-04-10 16:00:00.000 , fdate: 2023-04-10 17:00:00.000\n"
     ]
    },
    {
     "name": "stderr",
     "output_type": "stream",
     "text": [
      " 67%|██████▋   | 977/1463 [30:57<16:45,  2.07s/it]"
     ]
    },
    {
     "name": "stdout",
     "output_type": "stream",
     "text": [
      "Saved data\n",
      "\n",
      "idate: 2023-04-10 17:00:00.000 , fdate: 2023-04-10 18:00:00.000\n"
     ]
    },
    {
     "name": "stderr",
     "output_type": "stream",
     "text": [
      " 67%|██████▋   | 978/1463 [30:59<15:41,  1.94s/it]"
     ]
    },
    {
     "name": "stdout",
     "output_type": "stream",
     "text": [
      "Saved data\n",
      "\n",
      "idate: 2023-04-10 18:00:00.000 , fdate: 2023-04-10 19:00:00.000\n"
     ]
    },
    {
     "name": "stderr",
     "output_type": "stream",
     "text": [
      " 67%|██████▋   | 979/1463 [31:00<14:48,  1.83s/it]"
     ]
    },
    {
     "name": "stdout",
     "output_type": "stream",
     "text": [
      "\n",
      "idate: 2023-04-10 19:00:00.000 , fdate: 2023-04-10 20:00:00.000\n"
     ]
    },
    {
     "name": "stderr",
     "output_type": "stream",
     "text": [
      " 67%|██████▋   | 980/1463 [31:02<14:05,  1.75s/it]"
     ]
    },
    {
     "name": "stdout",
     "output_type": "stream",
     "text": [
      "\n",
      "idate: 2023-04-10 20:00:00.000 , fdate: 2023-04-10 21:00:00.000\n"
     ]
    },
    {
     "name": "stderr",
     "output_type": "stream",
     "text": [
      " 67%|██████▋   | 981/1463 [31:04<13:36,  1.69s/it]"
     ]
    },
    {
     "name": "stdout",
     "output_type": "stream",
     "text": [
      "\n",
      "idate: 2023-04-10 21:00:00.000 , fdate: 2023-04-10 22:00:00.000\n"
     ]
    },
    {
     "name": "stderr",
     "output_type": "stream",
     "text": [
      " 67%|██████▋   | 982/1463 [31:05<13:17,  1.66s/it]"
     ]
    },
    {
     "name": "stdout",
     "output_type": "stream",
     "text": [
      "\n",
      "idate: 2023-04-10 22:00:00.000 , fdate: 2023-04-10 23:00:00.000\n"
     ]
    },
    {
     "name": "stderr",
     "output_type": "stream",
     "text": [
      " 67%|██████▋   | 983/1463 [31:07<13:05,  1.64s/it]"
     ]
    },
    {
     "name": "stdout",
     "output_type": "stream",
     "text": [
      "\n",
      "idate: 2023-04-10 23:00:00.000 , fdate: 2023-04-11 00:00:00.000\n"
     ]
    },
    {
     "name": "stderr",
     "output_type": "stream",
     "text": [
      " 67%|██████▋   | 984/1463 [31:08<12:53,  1.61s/it]"
     ]
    },
    {
     "name": "stdout",
     "output_type": "stream",
     "text": [
      "\n",
      "idate: 2023-04-11 00:00:00.000 , fdate: 2023-04-11 01:00:00.000\n"
     ]
    },
    {
     "name": "stderr",
     "output_type": "stream",
     "text": [
      " 67%|██████▋   | 985/1463 [31:10<12:50,  1.61s/it]"
     ]
    },
    {
     "name": "stdout",
     "output_type": "stream",
     "text": [
      "\n",
      "idate: 2023-04-11 01:00:00.000 , fdate: 2023-04-11 02:00:00.000\n"
     ]
    },
    {
     "name": "stderr",
     "output_type": "stream",
     "text": [
      " 67%|██████▋   | 986/1463 [31:12<12:44,  1.60s/it]"
     ]
    },
    {
     "name": "stdout",
     "output_type": "stream",
     "text": [
      "\n",
      "idate: 2023-04-11 02:00:00.000 , fdate: 2023-04-11 03:00:00.000\n"
     ]
    },
    {
     "name": "stderr",
     "output_type": "stream",
     "text": [
      " 67%|██████▋   | 987/1463 [31:13<12:38,  1.59s/it]"
     ]
    },
    {
     "name": "stdout",
     "output_type": "stream",
     "text": [
      "\n",
      "idate: 2023-04-11 03:00:00.000 , fdate: 2023-04-11 04:00:00.000\n"
     ]
    },
    {
     "name": "stderr",
     "output_type": "stream",
     "text": [
      " 68%|██████▊   | 988/1463 [31:15<12:32,  1.58s/it]"
     ]
    },
    {
     "name": "stdout",
     "output_type": "stream",
     "text": [
      "\n",
      "idate: 2023-04-11 04:00:00.000 , fdate: 2023-04-11 05:00:00.000\n"
     ]
    },
    {
     "name": "stderr",
     "output_type": "stream",
     "text": [
      " 68%|██████▊   | 989/1463 [31:16<12:33,  1.59s/it]"
     ]
    },
    {
     "name": "stdout",
     "output_type": "stream",
     "text": [
      "\n",
      "idate: 2023-04-11 05:00:00.000 , fdate: 2023-04-11 06:00:00.000\n"
     ]
    },
    {
     "name": "stderr",
     "output_type": "stream",
     "text": [
      " 68%|██████▊   | 990/1463 [31:18<12:31,  1.59s/it]"
     ]
    },
    {
     "name": "stdout",
     "output_type": "stream",
     "text": [
      "\n",
      "idate: 2023-04-11 06:00:00.000 , fdate: 2023-04-11 07:00:00.000\n"
     ]
    },
    {
     "name": "stderr",
     "output_type": "stream",
     "text": [
      " 68%|██████▊   | 991/1463 [31:19<12:30,  1.59s/it]"
     ]
    },
    {
     "name": "stdout",
     "output_type": "stream",
     "text": [
      "\n",
      "idate: 2023-04-11 07:00:00.000 , fdate: 2023-04-11 08:00:00.000\n"
     ]
    },
    {
     "name": "stderr",
     "output_type": "stream",
     "text": [
      " 68%|██████▊   | 992/1463 [31:21<12:26,  1.58s/it]"
     ]
    },
    {
     "name": "stdout",
     "output_type": "stream",
     "text": [
      "\n",
      "idate: 2023-04-11 08:00:00.000 , fdate: 2023-04-11 09:00:00.000\n"
     ]
    },
    {
     "name": "stderr",
     "output_type": "stream",
     "text": [
      " 68%|██████▊   | 993/1463 [31:23<12:29,  1.59s/it]"
     ]
    },
    {
     "name": "stdout",
     "output_type": "stream",
     "text": [
      "\n",
      "idate: 2023-04-11 09:00:00.000 , fdate: 2023-04-11 10:00:00.000\n"
     ]
    },
    {
     "name": "stderr",
     "output_type": "stream",
     "text": [
      " 68%|██████▊   | 994/1463 [31:24<12:23,  1.59s/it]"
     ]
    },
    {
     "name": "stdout",
     "output_type": "stream",
     "text": [
      "\n",
      "idate: 2023-04-11 10:00:00.000 , fdate: 2023-04-11 11:00:00.000\n"
     ]
    },
    {
     "name": "stderr",
     "output_type": "stream",
     "text": [
      " 68%|██████▊   | 995/1463 [31:26<12:18,  1.58s/it]"
     ]
    },
    {
     "name": "stdout",
     "output_type": "stream",
     "text": [
      "\n",
      "idate: 2023-04-11 11:00:00.000 , fdate: 2023-04-11 12:00:00.000\n"
     ]
    },
    {
     "name": "stderr",
     "output_type": "stream",
     "text": [
      " 68%|██████▊   | 996/1463 [31:27<12:17,  1.58s/it]"
     ]
    },
    {
     "name": "stdout",
     "output_type": "stream",
     "text": [
      "\n",
      "idate: 2023-04-11 12:00:00.000 , fdate: 2023-04-11 13:00:00.000\n"
     ]
    },
    {
     "name": "stderr",
     "output_type": "stream",
     "text": [
      " 68%|██████▊   | 997/1463 [31:29<12:18,  1.58s/it]"
     ]
    },
    {
     "name": "stdout",
     "output_type": "stream",
     "text": [
      "\n",
      "idate: 2023-04-11 13:00:00.000 , fdate: 2023-04-11 14:00:00.000\n"
     ]
    },
    {
     "name": "stderr",
     "output_type": "stream",
     "text": [
      " 68%|██████▊   | 998/1463 [31:31<12:15,  1.58s/it]"
     ]
    },
    {
     "name": "stdout",
     "output_type": "stream",
     "text": [
      "\n",
      "idate: 2023-04-11 14:00:00.000 , fdate: 2023-04-11 15:00:00.000\n"
     ]
    },
    {
     "name": "stderr",
     "output_type": "stream",
     "text": [
      " 68%|██████▊   | 999/1463 [31:32<12:17,  1.59s/it]"
     ]
    },
    {
     "name": "stdout",
     "output_type": "stream",
     "text": [
      "\n",
      "idate: 2023-04-11 15:00:00.000 , fdate: 2023-04-11 16:00:00.000\n"
     ]
    },
    {
     "name": "stderr",
     "output_type": "stream",
     "text": [
      " 68%|██████▊   | 1000/1463 [31:34<12:07,  1.57s/it]"
     ]
    },
    {
     "name": "stdout",
     "output_type": "stream",
     "text": [
      "\n",
      "idate: 2023-04-11 16:00:00.000 , fdate: 2023-04-11 17:00:00.000\n"
     ]
    },
    {
     "name": "stderr",
     "output_type": "stream",
     "text": [
      " 68%|██████▊   | 1001/1463 [31:35<12:01,  1.56s/it]"
     ]
    },
    {
     "name": "stdout",
     "output_type": "stream",
     "text": [
      "\n",
      "idate: 2023-04-11 17:00:00.000 , fdate: 2023-04-11 18:00:00.000\n"
     ]
    },
    {
     "name": "stderr",
     "output_type": "stream",
     "text": [
      " 68%|██████▊   | 1002/1463 [31:37<12:00,  1.56s/it]"
     ]
    },
    {
     "name": "stdout",
     "output_type": "stream",
     "text": [
      "\n",
      "idate: 2023-04-11 18:00:00.000 , fdate: 2023-04-11 19:00:00.000\n"
     ]
    },
    {
     "name": "stderr",
     "output_type": "stream",
     "text": [
      " 69%|██████▊   | 1003/1463 [31:39<14:02,  1.83s/it]"
     ]
    },
    {
     "name": "stdout",
     "output_type": "stream",
     "text": [
      "Saved data\n",
      "\n",
      "idate: 2023-04-11 19:00:00.000 , fdate: 2023-04-11 20:00:00.000\n"
     ]
    },
    {
     "name": "stderr",
     "output_type": "stream",
     "text": [
      " 69%|██████▊   | 1004/1463 [31:42<15:14,  1.99s/it]"
     ]
    },
    {
     "name": "stdout",
     "output_type": "stream",
     "text": [
      "Saved data\n",
      "\n",
      "idate: 2023-04-11 20:00:00.000 , fdate: 2023-04-11 21:00:00.000\n"
     ]
    },
    {
     "name": "stderr",
     "output_type": "stream",
     "text": [
      " 69%|██████▊   | 1005/1463 [31:44<15:39,  2.05s/it]"
     ]
    },
    {
     "name": "stdout",
     "output_type": "stream",
     "text": [
      "Saved data\n",
      "\n",
      "idate: 2023-04-11 21:00:00.000 , fdate: 2023-04-11 22:00:00.000\n"
     ]
    },
    {
     "name": "stderr",
     "output_type": "stream",
     "text": [
      " 69%|██████▉   | 1006/1463 [31:46<17:00,  2.23s/it]"
     ]
    },
    {
     "name": "stdout",
     "output_type": "stream",
     "text": [
      "Saved data\n",
      "\n",
      "idate: 2023-04-11 22:00:00.000 , fdate: 2023-04-11 23:00:00.000\n"
     ]
    },
    {
     "name": "stderr",
     "output_type": "stream",
     "text": [
      " 69%|██████▉   | 1007/1463 [31:49<17:48,  2.34s/it]"
     ]
    },
    {
     "name": "stdout",
     "output_type": "stream",
     "text": [
      "Saved data\n",
      "\n",
      "idate: 2023-04-11 23:00:00.000 , fdate: 2023-04-12 00:00:00.000\n"
     ]
    },
    {
     "name": "stderr",
     "output_type": "stream",
     "text": [
      " 69%|██████▉   | 1008/1463 [31:51<17:00,  2.24s/it]"
     ]
    },
    {
     "name": "stdout",
     "output_type": "stream",
     "text": [
      "Saved data\n",
      "\n",
      "idate: 2023-04-12 00:00:00.000 , fdate: 2023-04-12 01:00:00.000\n"
     ]
    },
    {
     "name": "stderr",
     "output_type": "stream",
     "text": [
      " 69%|██████▉   | 1009/1463 [31:53<16:08,  2.13s/it]"
     ]
    },
    {
     "name": "stdout",
     "output_type": "stream",
     "text": [
      "Saved data\n",
      "\n",
      "idate: 2023-04-12 01:00:00.000 , fdate: 2023-04-12 02:00:00.000\n"
     ]
    },
    {
     "name": "stderr",
     "output_type": "stream",
     "text": [
      " 69%|██████▉   | 1010/1463 [31:55<16:17,  2.16s/it]"
     ]
    },
    {
     "name": "stdout",
     "output_type": "stream",
     "text": [
      "Saved data\n",
      "\n",
      "idate: 2023-04-12 02:00:00.000 , fdate: 2023-04-12 03:00:00.000\n"
     ]
    },
    {
     "name": "stderr",
     "output_type": "stream",
     "text": [
      " 69%|██████▉   | 1011/1463 [31:57<15:38,  2.08s/it]"
     ]
    },
    {
     "name": "stdout",
     "output_type": "stream",
     "text": [
      "Saved data\n",
      "\n",
      "idate: 2023-04-12 03:00:00.000 , fdate: 2023-04-12 04:00:00.000\n"
     ]
    },
    {
     "name": "stderr",
     "output_type": "stream",
     "text": [
      " 69%|██████▉   | 1012/1463 [31:59<14:54,  1.98s/it]"
     ]
    },
    {
     "name": "stdout",
     "output_type": "stream",
     "text": [
      "Saved data\n",
      "\n",
      "idate: 2023-04-12 04:00:00.000 , fdate: 2023-04-12 05:00:00.000\n"
     ]
    },
    {
     "name": "stderr",
     "output_type": "stream",
     "text": [
      " 69%|██████▉   | 1013/1463 [32:00<14:17,  1.91s/it]"
     ]
    },
    {
     "name": "stdout",
     "output_type": "stream",
     "text": [
      "Saved data\n",
      "\n",
      "idate: 2023-04-12 05:00:00.000 , fdate: 2023-04-12 06:00:00.000\n"
     ]
    },
    {
     "name": "stderr",
     "output_type": "stream",
     "text": [
      " 69%|██████▉   | 1014/1463 [32:02<13:30,  1.80s/it]"
     ]
    },
    {
     "name": "stdout",
     "output_type": "stream",
     "text": [
      "Saved data\n",
      "\n",
      "idate: 2023-04-12 06:00:00.000 , fdate: 2023-04-12 07:00:00.000\n"
     ]
    },
    {
     "name": "stderr",
     "output_type": "stream",
     "text": [
      " 69%|██████▉   | 1015/1463 [32:04<13:07,  1.76s/it]"
     ]
    },
    {
     "name": "stdout",
     "output_type": "stream",
     "text": [
      "Saved data\n",
      "\n",
      "idate: 2023-04-12 07:00:00.000 , fdate: 2023-04-12 08:00:00.000\n"
     ]
    },
    {
     "name": "stderr",
     "output_type": "stream",
     "text": [
      " 69%|██████▉   | 1016/1463 [32:05<12:58,  1.74s/it]"
     ]
    },
    {
     "name": "stdout",
     "output_type": "stream",
     "text": [
      "Saved data\n",
      "\n",
      "idate: 2023-04-12 08:00:00.000 , fdate: 2023-04-12 09:00:00.000\n"
     ]
    },
    {
     "name": "stderr",
     "output_type": "stream",
     "text": [
      " 70%|██████▉   | 1017/1463 [32:07<13:13,  1.78s/it]"
     ]
    },
    {
     "name": "stdout",
     "output_type": "stream",
     "text": [
      "Saved data\n",
      "\n",
      "idate: 2023-04-12 09:00:00.000 , fdate: 2023-04-12 10:00:00.000\n"
     ]
    },
    {
     "name": "stderr",
     "output_type": "stream",
     "text": [
      " 70%|██████▉   | 1018/1463 [32:10<14:45,  1.99s/it]"
     ]
    },
    {
     "name": "stdout",
     "output_type": "stream",
     "text": [
      "Saved data\n",
      "\n",
      "idate: 2023-04-12 10:00:00.000 , fdate: 2023-04-12 11:00:00.000\n"
     ]
    },
    {
     "name": "stderr",
     "output_type": "stream",
     "text": [
      " 70%|██████▉   | 1019/1463 [32:12<15:20,  2.07s/it]"
     ]
    },
    {
     "name": "stdout",
     "output_type": "stream",
     "text": [
      "Saved data\n",
      "\n",
      "idate: 2023-04-12 11:00:00.000 , fdate: 2023-04-12 12:00:00.000\n"
     ]
    },
    {
     "name": "stderr",
     "output_type": "stream",
     "text": [
      " 70%|██████▉   | 1020/1463 [32:15<16:21,  2.21s/it]"
     ]
    },
    {
     "name": "stdout",
     "output_type": "stream",
     "text": [
      "Saved data\n",
      "\n",
      "idate: 2023-04-12 12:00:00.000 , fdate: 2023-04-12 13:00:00.000\n"
     ]
    },
    {
     "name": "stderr",
     "output_type": "stream",
     "text": [
      " 70%|██████▉   | 1021/1463 [32:17<17:23,  2.36s/it]"
     ]
    },
    {
     "name": "stdout",
     "output_type": "stream",
     "text": [
      "Saved data\n",
      "\n",
      "idate: 2023-04-12 13:00:00.000 , fdate: 2023-04-12 14:00:00.000\n"
     ]
    },
    {
     "name": "stderr",
     "output_type": "stream",
     "text": [
      " 70%|██████▉   | 1022/1463 [32:20<17:44,  2.41s/it]"
     ]
    },
    {
     "name": "stdout",
     "output_type": "stream",
     "text": [
      "Saved data\n",
      "\n",
      "idate: 2023-04-12 14:00:00.000 , fdate: 2023-04-12 15:00:00.000\n"
     ]
    },
    {
     "name": "stderr",
     "output_type": "stream",
     "text": [
      " 70%|██████▉   | 1023/1463 [32:22<17:44,  2.42s/it]"
     ]
    },
    {
     "name": "stdout",
     "output_type": "stream",
     "text": [
      "Saved data\n",
      "\n",
      "idate: 2023-04-12 15:00:00.000 , fdate: 2023-04-12 16:00:00.000\n"
     ]
    },
    {
     "name": "stderr",
     "output_type": "stream",
     "text": [
      " 70%|██████▉   | 1024/1463 [32:25<18:08,  2.48s/it]"
     ]
    },
    {
     "name": "stdout",
     "output_type": "stream",
     "text": [
      "Saved data\n",
      "\n",
      "idate: 2023-04-12 16:00:00.000 , fdate: 2023-04-12 17:00:00.000\n"
     ]
    },
    {
     "name": "stderr",
     "output_type": "stream",
     "text": [
      " 70%|███████   | 1025/1463 [32:27<18:09,  2.49s/it]"
     ]
    },
    {
     "name": "stdout",
     "output_type": "stream",
     "text": [
      "Saved data\n",
      "\n",
      "idate: 2023-04-12 17:00:00.000 , fdate: 2023-04-12 18:00:00.000\n"
     ]
    },
    {
     "name": "stderr",
     "output_type": "stream",
     "text": [
      " 70%|███████   | 1026/1463 [32:30<18:14,  2.50s/it]"
     ]
    },
    {
     "name": "stdout",
     "output_type": "stream",
     "text": [
      "Saved data\n",
      "\n",
      "idate: 2023-04-12 18:00:00.000 , fdate: 2023-04-12 19:00:00.000\n"
     ]
    },
    {
     "name": "stderr",
     "output_type": "stream",
     "text": [
      " 70%|███████   | 1027/1463 [32:32<18:18,  2.52s/it]"
     ]
    },
    {
     "name": "stdout",
     "output_type": "stream",
     "text": [
      "Saved data\n",
      "\n",
      "idate: 2023-04-12 19:00:00.000 , fdate: 2023-04-12 20:00:00.000\n"
     ]
    },
    {
     "name": "stderr",
     "output_type": "stream",
     "text": [
      " 70%|███████   | 1028/1463 [32:35<18:29,  2.55s/it]"
     ]
    },
    {
     "name": "stdout",
     "output_type": "stream",
     "text": [
      "Saved data\n",
      "\n",
      "idate: 2023-04-12 20:00:00.000 , fdate: 2023-04-12 21:00:00.000\n"
     ]
    },
    {
     "name": "stderr",
     "output_type": "stream",
     "text": [
      " 70%|███████   | 1029/1463 [32:38<19:02,  2.63s/it]"
     ]
    },
    {
     "name": "stdout",
     "output_type": "stream",
     "text": [
      "Saved data\n",
      "\n",
      "idate: 2023-04-12 21:00:00.000 , fdate: 2023-04-12 22:00:00.000\n"
     ]
    },
    {
     "name": "stderr",
     "output_type": "stream",
     "text": [
      " 70%|███████   | 1030/1463 [32:41<19:46,  2.74s/it]"
     ]
    },
    {
     "name": "stdout",
     "output_type": "stream",
     "text": [
      "Saved data\n",
      "\n",
      "idate: 2023-04-12 22:00:00.000 , fdate: 2023-04-12 23:00:00.000\n"
     ]
    },
    {
     "name": "stderr",
     "output_type": "stream",
     "text": [
      " 70%|███████   | 1031/1463 [32:44<19:46,  2.75s/it]"
     ]
    },
    {
     "name": "stdout",
     "output_type": "stream",
     "text": [
      "Saved data\n",
      "\n",
      "idate: 2023-04-12 23:00:00.000 , fdate: 2023-04-13 00:00:00.000\n"
     ]
    },
    {
     "name": "stderr",
     "output_type": "stream",
     "text": [
      " 71%|███████   | 1032/1463 [32:46<18:18,  2.55s/it]"
     ]
    },
    {
     "name": "stdout",
     "output_type": "stream",
     "text": [
      "Saved data\n",
      "\n",
      "idate: 2023-04-13 00:00:00.000 , fdate: 2023-04-13 01:00:00.000\n"
     ]
    },
    {
     "name": "stderr",
     "output_type": "stream",
     "text": [
      " 71%|███████   | 1033/1463 [32:48<17:10,  2.40s/it]"
     ]
    },
    {
     "name": "stdout",
     "output_type": "stream",
     "text": [
      "Saved data\n",
      "\n",
      "idate: 2023-04-13 01:00:00.000 , fdate: 2023-04-13 02:00:00.000\n"
     ]
    },
    {
     "name": "stderr",
     "output_type": "stream",
     "text": [
      " 71%|███████   | 1034/1463 [32:50<17:09,  2.40s/it]"
     ]
    },
    {
     "name": "stdout",
     "output_type": "stream",
     "text": [
      "Saved data\n",
      "\n",
      "idate: 2023-04-13 02:00:00.000 , fdate: 2023-04-13 03:00:00.000\n"
     ]
    },
    {
     "name": "stderr",
     "output_type": "stream",
     "text": [
      " 71%|███████   | 1035/1463 [32:52<16:50,  2.36s/it]"
     ]
    },
    {
     "name": "stdout",
     "output_type": "stream",
     "text": [
      "Saved data\n",
      "\n",
      "idate: 2023-04-13 03:00:00.000 , fdate: 2023-04-13 04:00:00.000\n"
     ]
    },
    {
     "name": "stderr",
     "output_type": "stream",
     "text": [
      " 71%|███████   | 1036/1463 [32:54<15:52,  2.23s/it]"
     ]
    },
    {
     "name": "stdout",
     "output_type": "stream",
     "text": [
      "Saved data\n",
      "\n",
      "idate: 2023-04-13 04:00:00.000 , fdate: 2023-04-13 05:00:00.000\n"
     ]
    },
    {
     "name": "stderr",
     "output_type": "stream",
     "text": [
      " 71%|███████   | 1037/1463 [32:56<14:47,  2.08s/it]"
     ]
    },
    {
     "name": "stdout",
     "output_type": "stream",
     "text": [
      "Saved data\n",
      "\n",
      "idate: 2023-04-13 05:00:00.000 , fdate: 2023-04-13 06:00:00.000\n"
     ]
    },
    {
     "name": "stderr",
     "output_type": "stream",
     "text": [
      " 71%|███████   | 1038/1463 [32:58<13:44,  1.94s/it]"
     ]
    },
    {
     "name": "stdout",
     "output_type": "stream",
     "text": [
      "Saved data\n",
      "\n",
      "idate: 2023-04-13 06:00:00.000 , fdate: 2023-04-13 07:00:00.000\n"
     ]
    },
    {
     "name": "stderr",
     "output_type": "stream",
     "text": [
      " 71%|███████   | 1039/1463 [32:59<13:11,  1.87s/it]"
     ]
    },
    {
     "name": "stdout",
     "output_type": "stream",
     "text": [
      "Saved data\n",
      "\n",
      "idate: 2023-04-13 07:00:00.000 , fdate: 2023-04-13 08:00:00.000\n"
     ]
    },
    {
     "name": "stderr",
     "output_type": "stream",
     "text": [
      " 71%|███████   | 1040/1463 [33:01<13:08,  1.86s/it]"
     ]
    },
    {
     "name": "stdout",
     "output_type": "stream",
     "text": [
      "Saved data\n",
      "\n",
      "idate: 2023-04-13 08:00:00.000 , fdate: 2023-04-13 09:00:00.000\n"
     ]
    },
    {
     "name": "stderr",
     "output_type": "stream",
     "text": [
      " 71%|███████   | 1041/1463 [33:03<13:23,  1.91s/it]"
     ]
    },
    {
     "name": "stdout",
     "output_type": "stream",
     "text": [
      "Saved data\n",
      "\n",
      "idate: 2023-04-13 09:00:00.000 , fdate: 2023-04-13 10:00:00.000\n"
     ]
    },
    {
     "name": "stderr",
     "output_type": "stream",
     "text": [
      " 71%|███████   | 1042/1463 [33:06<15:38,  2.23s/it]"
     ]
    },
    {
     "name": "stdout",
     "output_type": "stream",
     "text": [
      "Saved data\n",
      "\n",
      "idate: 2023-04-13 10:00:00.000 , fdate: 2023-04-13 11:00:00.000\n"
     ]
    },
    {
     "name": "stderr",
     "output_type": "stream",
     "text": [
      " 71%|███████▏  | 1043/1463 [33:09<17:10,  2.45s/it]"
     ]
    },
    {
     "name": "stdout",
     "output_type": "stream",
     "text": [
      "Saved data\n",
      "\n",
      "idate: 2023-04-13 11:00:00.000 , fdate: 2023-04-13 12:00:00.000\n"
     ]
    },
    {
     "name": "stderr",
     "output_type": "stream",
     "text": [
      " 71%|███████▏  | 1044/1463 [33:12<18:28,  2.65s/it]"
     ]
    },
    {
     "name": "stdout",
     "output_type": "stream",
     "text": [
      "Saved data\n",
      "\n",
      "idate: 2023-04-13 12:00:00.000 , fdate: 2023-04-13 13:00:00.000\n"
     ]
    },
    {
     "name": "stderr",
     "output_type": "stream",
     "text": [
      " 71%|███████▏  | 1045/1463 [33:16<19:48,  2.84s/it]"
     ]
    },
    {
     "name": "stdout",
     "output_type": "stream",
     "text": [
      "Saved data\n",
      "\n",
      "idate: 2023-04-13 13:00:00.000 , fdate: 2023-04-13 14:00:00.000\n"
     ]
    },
    {
     "name": "stderr",
     "output_type": "stream",
     "text": [
      " 71%|███████▏  | 1046/1463 [33:19<20:39,  2.97s/it]"
     ]
    },
    {
     "name": "stdout",
     "output_type": "stream",
     "text": [
      "Saved data\n",
      "\n",
      "idate: 2023-04-13 14:00:00.000 , fdate: 2023-04-13 15:00:00.000\n"
     ]
    },
    {
     "name": "stderr",
     "output_type": "stream",
     "text": [
      " 72%|███████▏  | 1047/1463 [33:22<20:02,  2.89s/it]"
     ]
    },
    {
     "name": "stdout",
     "output_type": "stream",
     "text": [
      "Saved data\n",
      "\n",
      "idate: 2023-04-13 15:00:00.000 , fdate: 2023-04-13 16:00:00.000\n"
     ]
    },
    {
     "name": "stderr",
     "output_type": "stream",
     "text": [
      " 72%|███████▏  | 1048/1463 [33:24<19:53,  2.87s/it]"
     ]
    },
    {
     "name": "stdout",
     "output_type": "stream",
     "text": [
      "Saved data\n",
      "\n",
      "idate: 2023-04-13 16:00:00.000 , fdate: 2023-04-13 17:00:00.000\n"
     ]
    },
    {
     "name": "stderr",
     "output_type": "stream",
     "text": [
      " 72%|███████▏  | 1049/1463 [33:27<19:48,  2.87s/it]"
     ]
    },
    {
     "name": "stdout",
     "output_type": "stream",
     "text": [
      "Saved data\n",
      "\n",
      "idate: 2023-04-13 17:00:00.000 , fdate: 2023-04-13 18:00:00.000\n"
     ]
    },
    {
     "name": "stderr",
     "output_type": "stream",
     "text": [
      " 72%|███████▏  | 1050/1463 [33:30<20:05,  2.92s/it]"
     ]
    },
    {
     "name": "stdout",
     "output_type": "stream",
     "text": [
      "Saved data\n",
      "\n",
      "idate: 2023-04-13 18:00:00.000 , fdate: 2023-04-13 19:00:00.000\n"
     ]
    },
    {
     "name": "stderr",
     "output_type": "stream",
     "text": [
      " 72%|███████▏  | 1051/1463 [33:33<19:48,  2.88s/it]"
     ]
    },
    {
     "name": "stdout",
     "output_type": "stream",
     "text": [
      "Saved data\n",
      "\n",
      "idate: 2023-04-13 19:00:00.000 , fdate: 2023-04-13 20:00:00.000\n"
     ]
    },
    {
     "name": "stderr",
     "output_type": "stream",
     "text": [
      " 72%|███████▏  | 1052/1463 [33:36<20:10,  2.95s/it]"
     ]
    },
    {
     "name": "stdout",
     "output_type": "stream",
     "text": [
      "Saved data\n",
      "\n",
      "idate: 2023-04-13 20:00:00.000 , fdate: 2023-04-13 21:00:00.000\n"
     ]
    },
    {
     "name": "stderr",
     "output_type": "stream",
     "text": [
      " 72%|███████▏  | 1053/1463 [33:39<20:38,  3.02s/it]"
     ]
    },
    {
     "name": "stdout",
     "output_type": "stream",
     "text": [
      "Saved data\n",
      "\n",
      "idate: 2023-04-13 21:00:00.000 , fdate: 2023-04-13 22:00:00.000\n"
     ]
    },
    {
     "name": "stderr",
     "output_type": "stream",
     "text": [
      " 72%|███████▏  | 1054/1463 [33:42<20:22,  2.99s/it]"
     ]
    },
    {
     "name": "stdout",
     "output_type": "stream",
     "text": [
      "Saved data\n",
      "\n",
      "idate: 2023-04-13 22:00:00.000 , fdate: 2023-04-13 23:00:00.000\n"
     ]
    },
    {
     "name": "stderr",
     "output_type": "stream",
     "text": [
      " 72%|███████▏  | 1055/1463 [33:45<20:06,  2.96s/it]"
     ]
    },
    {
     "name": "stdout",
     "output_type": "stream",
     "text": [
      "Saved data\n",
      "\n",
      "idate: 2023-04-13 23:00:00.000 , fdate: 2023-04-14 00:00:00.000\n"
     ]
    },
    {
     "name": "stderr",
     "output_type": "stream",
     "text": [
      " 72%|███████▏  | 1056/1463 [33:47<18:23,  2.71s/it]"
     ]
    },
    {
     "name": "stdout",
     "output_type": "stream",
     "text": [
      "Saved data\n",
      "\n",
      "idate: 2023-04-14 00:00:00.000 , fdate: 2023-04-14 01:00:00.000\n"
     ]
    },
    {
     "name": "stderr",
     "output_type": "stream",
     "text": [
      " 72%|███████▏  | 1057/1463 [33:49<17:05,  2.53s/it]"
     ]
    },
    {
     "name": "stdout",
     "output_type": "stream",
     "text": [
      "Saved data\n",
      "\n",
      "idate: 2023-04-14 01:00:00.000 , fdate: 2023-04-14 02:00:00.000\n"
     ]
    },
    {
     "name": "stderr",
     "output_type": "stream",
     "text": [
      " 72%|███████▏  | 1058/1463 [33:52<17:14,  2.55s/it]"
     ]
    },
    {
     "name": "stdout",
     "output_type": "stream",
     "text": [
      "Saved data\n",
      "\n",
      "idate: 2023-04-14 02:00:00.000 , fdate: 2023-04-14 03:00:00.000\n"
     ]
    },
    {
     "name": "stderr",
     "output_type": "stream",
     "text": [
      " 72%|███████▏  | 1059/1463 [33:54<16:23,  2.43s/it]"
     ]
    },
    {
     "name": "stdout",
     "output_type": "stream",
     "text": [
      "Saved data\n",
      "\n",
      "idate: 2023-04-14 03:00:00.000 , fdate: 2023-04-14 04:00:00.000\n"
     ]
    },
    {
     "name": "stderr",
     "output_type": "stream",
     "text": [
      " 72%|███████▏  | 1060/1463 [33:56<15:13,  2.27s/it]"
     ]
    },
    {
     "name": "stdout",
     "output_type": "stream",
     "text": [
      "Saved data\n",
      "\n",
      "idate: 2023-04-14 04:00:00.000 , fdate: 2023-04-14 05:00:00.000\n"
     ]
    },
    {
     "name": "stderr",
     "output_type": "stream",
     "text": [
      " 73%|███████▎  | 1061/1463 [33:58<13:57,  2.08s/it]"
     ]
    },
    {
     "name": "stdout",
     "output_type": "stream",
     "text": [
      "Saved data\n",
      "\n",
      "idate: 2023-04-14 05:00:00.000 , fdate: 2023-04-14 06:00:00.000\n"
     ]
    },
    {
     "name": "stderr",
     "output_type": "stream",
     "text": [
      " 73%|███████▎  | 1062/1463 [33:59<12:58,  1.94s/it]"
     ]
    },
    {
     "name": "stdout",
     "output_type": "stream",
     "text": [
      "Saved data\n",
      "\n",
      "idate: 2023-04-14 06:00:00.000 , fdate: 2023-04-14 07:00:00.000\n"
     ]
    },
    {
     "name": "stderr",
     "output_type": "stream",
     "text": [
      " 73%|███████▎  | 1063/1463 [34:01<12:23,  1.86s/it]"
     ]
    },
    {
     "name": "stdout",
     "output_type": "stream",
     "text": [
      "Saved data\n",
      "\n",
      "idate: 2023-04-14 07:00:00.000 , fdate: 2023-04-14 08:00:00.000\n"
     ]
    },
    {
     "name": "stderr",
     "output_type": "stream",
     "text": [
      " 73%|███████▎  | 1064/1463 [34:03<12:02,  1.81s/it]"
     ]
    },
    {
     "name": "stdout",
     "output_type": "stream",
     "text": [
      "Saved data\n",
      "\n",
      "idate: 2023-04-14 08:00:00.000 , fdate: 2023-04-14 09:00:00.000\n"
     ]
    },
    {
     "name": "stderr",
     "output_type": "stream",
     "text": [
      " 73%|███████▎  | 1065/1463 [34:05<12:21,  1.86s/it]"
     ]
    },
    {
     "name": "stdout",
     "output_type": "stream",
     "text": [
      "Saved data\n",
      "\n",
      "idate: 2023-04-14 09:00:00.000 , fdate: 2023-04-14 10:00:00.000\n"
     ]
    },
    {
     "name": "stderr",
     "output_type": "stream",
     "text": [
      " 73%|███████▎  | 1066/1463 [34:08<14:20,  2.17s/it]"
     ]
    },
    {
     "name": "stdout",
     "output_type": "stream",
     "text": [
      "Saved data\n",
      "\n",
      "idate: 2023-04-14 10:00:00.000 , fdate: 2023-04-14 11:00:00.000\n"
     ]
    },
    {
     "name": "stderr",
     "output_type": "stream",
     "text": [
      " 73%|███████▎  | 1067/1463 [34:11<16:18,  2.47s/it]"
     ]
    },
    {
     "name": "stdout",
     "output_type": "stream",
     "text": [
      "Saved data\n",
      "\n",
      "idate: 2023-04-14 11:00:00.000 , fdate: 2023-04-14 12:00:00.000\n"
     ]
    },
    {
     "name": "stderr",
     "output_type": "stream",
     "text": [
      " 73%|███████▎  | 1068/1463 [34:13<16:34,  2.52s/it]"
     ]
    },
    {
     "name": "stdout",
     "output_type": "stream",
     "text": [
      "Saved data\n",
      "\n",
      "idate: 2023-04-14 12:00:00.000 , fdate: 2023-04-14 13:00:00.000\n"
     ]
    },
    {
     "name": "stderr",
     "output_type": "stream",
     "text": [
      " 73%|███████▎  | 1069/1463 [34:16<17:21,  2.64s/it]"
     ]
    },
    {
     "name": "stdout",
     "output_type": "stream",
     "text": [
      "Saved data\n",
      "\n",
      "idate: 2023-04-14 13:00:00.000 , fdate: 2023-04-14 14:00:00.000\n"
     ]
    },
    {
     "name": "stderr",
     "output_type": "stream",
     "text": [
      " 73%|███████▎  | 1070/1463 [34:19<17:53,  2.73s/it]"
     ]
    },
    {
     "name": "stdout",
     "output_type": "stream",
     "text": [
      "Saved data\n",
      "\n",
      "idate: 2023-04-14 14:00:00.000 , fdate: 2023-04-14 15:00:00.000\n"
     ]
    },
    {
     "name": "stderr",
     "output_type": "stream",
     "text": [
      " 73%|███████▎  | 1071/1463 [34:22<17:29,  2.68s/it]"
     ]
    },
    {
     "name": "stdout",
     "output_type": "stream",
     "text": [
      "Saved data\n",
      "\n",
      "idate: 2023-04-14 15:00:00.000 , fdate: 2023-04-14 16:00:00.000\n"
     ]
    },
    {
     "name": "stderr",
     "output_type": "stream",
     "text": [
      " 73%|███████▎  | 1072/1463 [34:24<16:55,  2.60s/it]"
     ]
    },
    {
     "name": "stdout",
     "output_type": "stream",
     "text": [
      "Saved data\n",
      "\n",
      "idate: 2023-04-14 16:00:00.000 , fdate: 2023-04-14 17:00:00.000\n"
     ]
    },
    {
     "name": "stderr",
     "output_type": "stream",
     "text": [
      " 73%|███████▎  | 1073/1463 [34:27<16:46,  2.58s/it]"
     ]
    },
    {
     "name": "stdout",
     "output_type": "stream",
     "text": [
      "Saved data\n",
      "\n",
      "idate: 2023-04-14 17:00:00.000 , fdate: 2023-04-14 18:00:00.000\n"
     ]
    },
    {
     "name": "stderr",
     "output_type": "stream",
     "text": [
      " 73%|███████▎  | 1074/1463 [34:29<16:29,  2.54s/it]"
     ]
    },
    {
     "name": "stdout",
     "output_type": "stream",
     "text": [
      "Saved data\n",
      "\n",
      "idate: 2023-04-14 18:00:00.000 , fdate: 2023-04-14 19:00:00.000\n"
     ]
    },
    {
     "name": "stderr",
     "output_type": "stream",
     "text": [
      " 73%|███████▎  | 1075/1463 [34:32<16:30,  2.55s/it]"
     ]
    },
    {
     "name": "stdout",
     "output_type": "stream",
     "text": [
      "Saved data\n",
      "\n",
      "idate: 2023-04-14 19:00:00.000 , fdate: 2023-04-14 20:00:00.000\n"
     ]
    },
    {
     "name": "stderr",
     "output_type": "stream",
     "text": [
      " 74%|███████▎  | 1076/1463 [34:34<16:34,  2.57s/it]"
     ]
    },
    {
     "name": "stdout",
     "output_type": "stream",
     "text": [
      "Saved data\n",
      "\n",
      "idate: 2023-04-14 20:00:00.000 , fdate: 2023-04-14 21:00:00.000\n"
     ]
    },
    {
     "name": "stderr",
     "output_type": "stream",
     "text": [
      " 74%|███████▎  | 1077/1463 [34:37<16:05,  2.50s/it]"
     ]
    },
    {
     "name": "stdout",
     "output_type": "stream",
     "text": [
      "Saved data\n",
      "\n",
      "idate: 2023-04-14 21:00:00.000 , fdate: 2023-04-14 22:00:00.000\n"
     ]
    },
    {
     "name": "stderr",
     "output_type": "stream",
     "text": [
      " 74%|███████▎  | 1078/1463 [34:39<15:44,  2.45s/it]"
     ]
    },
    {
     "name": "stdout",
     "output_type": "stream",
     "text": [
      "Saved data\n",
      "\n",
      "idate: 2023-04-14 22:00:00.000 , fdate: 2023-04-14 23:00:00.000\n"
     ]
    },
    {
     "name": "stderr",
     "output_type": "stream",
     "text": [
      " 74%|███████▍  | 1079/1463 [34:41<15:28,  2.42s/it]"
     ]
    },
    {
     "name": "stdout",
     "output_type": "stream",
     "text": [
      "Saved data\n",
      "\n",
      "idate: 2023-04-14 23:00:00.000 , fdate: 2023-04-15 00:00:00.000\n"
     ]
    },
    {
     "name": "stderr",
     "output_type": "stream",
     "text": [
      " 74%|███████▍  | 1080/1463 [34:43<14:40,  2.30s/it]"
     ]
    },
    {
     "name": "stdout",
     "output_type": "stream",
     "text": [
      "Saved data\n",
      "\n",
      "idate: 2023-04-15 00:00:00.000 , fdate: 2023-04-15 01:00:00.000\n"
     ]
    },
    {
     "name": "stderr",
     "output_type": "stream",
     "text": [
      " 74%|███████▍  | 1081/1463 [34:45<14:00,  2.20s/it]"
     ]
    },
    {
     "name": "stdout",
     "output_type": "stream",
     "text": [
      "Saved data\n",
      "\n",
      "idate: 2023-04-15 01:00:00.000 , fdate: 2023-04-15 02:00:00.000\n"
     ]
    },
    {
     "name": "stderr",
     "output_type": "stream",
     "text": [
      " 74%|███████▍  | 1082/1463 [34:48<13:57,  2.20s/it]"
     ]
    },
    {
     "name": "stdout",
     "output_type": "stream",
     "text": [
      "Saved data\n",
      "\n",
      "idate: 2023-04-15 02:00:00.000 , fdate: 2023-04-15 03:00:00.000\n"
     ]
    },
    {
     "name": "stderr",
     "output_type": "stream",
     "text": [
      " 74%|███████▍  | 1083/1463 [34:50<13:39,  2.16s/it]"
     ]
    },
    {
     "name": "stdout",
     "output_type": "stream",
     "text": [
      "Saved data\n",
      "\n",
      "idate: 2023-04-15 03:00:00.000 , fdate: 2023-04-15 04:00:00.000\n"
     ]
    },
    {
     "name": "stderr",
     "output_type": "stream",
     "text": [
      " 74%|███████▍  | 1084/1463 [34:51<12:50,  2.03s/it]"
     ]
    },
    {
     "name": "stdout",
     "output_type": "stream",
     "text": [
      "Saved data\n",
      "\n",
      "idate: 2023-04-15 04:00:00.000 , fdate: 2023-04-15 05:00:00.000\n"
     ]
    },
    {
     "name": "stderr",
     "output_type": "stream",
     "text": [
      " 74%|███████▍  | 1085/1463 [34:53<12:08,  1.93s/it]"
     ]
    },
    {
     "name": "stdout",
     "output_type": "stream",
     "text": [
      "Saved data\n",
      "\n",
      "idate: 2023-04-15 05:00:00.000 , fdate: 2023-04-15 06:00:00.000\n"
     ]
    },
    {
     "name": "stderr",
     "output_type": "stream",
     "text": [
      " 74%|███████▍  | 1086/1463 [34:55<11:22,  1.81s/it]"
     ]
    },
    {
     "name": "stdout",
     "output_type": "stream",
     "text": [
      "Saved data\n",
      "\n",
      "idate: 2023-04-15 06:00:00.000 , fdate: 2023-04-15 07:00:00.000\n"
     ]
    },
    {
     "name": "stderr",
     "output_type": "stream",
     "text": [
      " 74%|███████▍  | 1087/1463 [34:56<11:02,  1.76s/it]"
     ]
    },
    {
     "name": "stdout",
     "output_type": "stream",
     "text": [
      "Saved data\n",
      "\n",
      "idate: 2023-04-15 07:00:00.000 , fdate: 2023-04-15 08:00:00.000\n"
     ]
    },
    {
     "name": "stderr",
     "output_type": "stream",
     "text": [
      " 74%|███████▍  | 1088/1463 [34:58<10:47,  1.73s/it]"
     ]
    },
    {
     "name": "stdout",
     "output_type": "stream",
     "text": [
      "Saved data\n",
      "\n",
      "idate: 2023-04-15 08:00:00.000 , fdate: 2023-04-15 09:00:00.000\n"
     ]
    },
    {
     "name": "stderr",
     "output_type": "stream",
     "text": [
      " 74%|███████▍  | 1089/1463 [35:00<10:55,  1.75s/it]"
     ]
    },
    {
     "name": "stdout",
     "output_type": "stream",
     "text": [
      "Saved data\n",
      "\n",
      "idate: 2023-04-15 09:00:00.000 , fdate: 2023-04-15 10:00:00.000\n"
     ]
    },
    {
     "name": "stderr",
     "output_type": "stream",
     "text": [
      " 75%|███████▍  | 1090/1463 [35:02<12:05,  1.95s/it]"
     ]
    },
    {
     "name": "stdout",
     "output_type": "stream",
     "text": [
      "Saved data\n",
      "\n",
      "idate: 2023-04-15 10:00:00.000 , fdate: 2023-04-15 11:00:00.000\n"
     ]
    },
    {
     "name": "stderr",
     "output_type": "stream",
     "text": [
      " 75%|███████▍  | 1091/1463 [35:05<12:47,  2.06s/it]"
     ]
    },
    {
     "name": "stdout",
     "output_type": "stream",
     "text": [
      "Saved data\n",
      "\n",
      "idate: 2023-04-15 11:00:00.000 , fdate: 2023-04-15 12:00:00.000\n"
     ]
    },
    {
     "name": "stderr",
     "output_type": "stream",
     "text": [
      " 75%|███████▍  | 1092/1463 [35:07<12:48,  2.07s/it]"
     ]
    },
    {
     "name": "stdout",
     "output_type": "stream",
     "text": [
      "Saved data\n",
      "\n",
      "idate: 2023-04-15 12:00:00.000 , fdate: 2023-04-15 13:00:00.000\n"
     ]
    },
    {
     "name": "stderr",
     "output_type": "stream",
     "text": [
      " 75%|███████▍  | 1093/1463 [35:09<13:16,  2.15s/it]"
     ]
    },
    {
     "name": "stdout",
     "output_type": "stream",
     "text": [
      "Saved data\n",
      "\n",
      "idate: 2023-04-15 13:00:00.000 , fdate: 2023-04-15 14:00:00.000\n"
     ]
    },
    {
     "name": "stderr",
     "output_type": "stream",
     "text": [
      " 75%|███████▍  | 1094/1463 [35:11<13:36,  2.21s/it]"
     ]
    },
    {
     "name": "stdout",
     "output_type": "stream",
     "text": [
      "Saved data\n",
      "\n",
      "idate: 2023-04-15 14:00:00.000 , fdate: 2023-04-15 15:00:00.000\n"
     ]
    },
    {
     "name": "stderr",
     "output_type": "stream",
     "text": [
      " 75%|███████▍  | 1095/1463 [35:13<13:18,  2.17s/it]"
     ]
    },
    {
     "name": "stdout",
     "output_type": "stream",
     "text": [
      "Saved data\n",
      "\n",
      "idate: 2023-04-15 15:00:00.000 , fdate: 2023-04-15 16:00:00.000\n"
     ]
    },
    {
     "name": "stderr",
     "output_type": "stream",
     "text": [
      " 75%|███████▍  | 1096/1463 [35:16<13:18,  2.17s/it]"
     ]
    },
    {
     "name": "stdout",
     "output_type": "stream",
     "text": [
      "Saved data\n",
      "\n",
      "idate: 2023-04-15 16:00:00.000 , fdate: 2023-04-15 17:00:00.000\n"
     ]
    },
    {
     "name": "stderr",
     "output_type": "stream",
     "text": [
      " 75%|███████▍  | 1097/1463 [35:18<13:10,  2.16s/it]"
     ]
    },
    {
     "name": "stdout",
     "output_type": "stream",
     "text": [
      "Saved data\n",
      "\n",
      "idate: 2023-04-15 17:00:00.000 , fdate: 2023-04-15 18:00:00.000\n"
     ]
    },
    {
     "name": "stderr",
     "output_type": "stream",
     "text": [
      " 75%|███████▌  | 1098/1463 [35:20<13:12,  2.17s/it]"
     ]
    },
    {
     "name": "stdout",
     "output_type": "stream",
     "text": [
      "Saved data\n",
      "\n",
      "idate: 2023-04-15 18:00:00.000 , fdate: 2023-04-15 19:00:00.000\n"
     ]
    },
    {
     "name": "stderr",
     "output_type": "stream",
     "text": [
      " 75%|███████▌  | 1099/1463 [35:22<13:10,  2.17s/it]"
     ]
    },
    {
     "name": "stdout",
     "output_type": "stream",
     "text": [
      "Saved data\n",
      "\n",
      "idate: 2023-04-15 19:00:00.000 , fdate: 2023-04-15 20:00:00.000\n"
     ]
    },
    {
     "name": "stderr",
     "output_type": "stream",
     "text": [
      " 75%|███████▌  | 1100/1463 [35:24<12:46,  2.11s/it]"
     ]
    },
    {
     "name": "stdout",
     "output_type": "stream",
     "text": [
      "Saved data\n",
      "\n",
      "idate: 2023-04-15 20:00:00.000 , fdate: 2023-04-15 21:00:00.000\n"
     ]
    },
    {
     "name": "stderr",
     "output_type": "stream",
     "text": [
      " 75%|███████▌  | 1101/1463 [35:26<12:52,  2.14s/it]"
     ]
    },
    {
     "name": "stdout",
     "output_type": "stream",
     "text": [
      "Saved data\n",
      "\n",
      "idate: 2023-04-15 21:00:00.000 , fdate: 2023-04-15 22:00:00.000\n"
     ]
    },
    {
     "name": "stderr",
     "output_type": "stream",
     "text": [
      " 75%|███████▌  | 1102/1463 [35:28<13:01,  2.16s/it]"
     ]
    },
    {
     "name": "stdout",
     "output_type": "stream",
     "text": [
      "Saved data\n",
      "\n",
      "idate: 2023-04-15 22:00:00.000 , fdate: 2023-04-15 23:00:00.000\n"
     ]
    },
    {
     "name": "stderr",
     "output_type": "stream",
     "text": [
      " 75%|███████▌  | 1103/1463 [35:31<13:03,  2.18s/it]"
     ]
    },
    {
     "name": "stdout",
     "output_type": "stream",
     "text": [
      "Saved data\n",
      "\n",
      "idate: 2023-04-15 23:00:00.000 , fdate: 2023-04-16 00:00:00.000\n"
     ]
    },
    {
     "name": "stderr",
     "output_type": "stream",
     "text": [
      " 75%|███████▌  | 1104/1463 [35:33<12:37,  2.11s/it]"
     ]
    },
    {
     "name": "stdout",
     "output_type": "stream",
     "text": [
      "Saved data\n",
      "\n",
      "idate: 2023-04-16 00:00:00.000 , fdate: 2023-04-16 01:00:00.000\n"
     ]
    },
    {
     "name": "stderr",
     "output_type": "stream",
     "text": [
      " 76%|███████▌  | 1105/1463 [35:34<11:58,  2.01s/it]"
     ]
    },
    {
     "name": "stdout",
     "output_type": "stream",
     "text": [
      "Saved data\n",
      "\n",
      "idate: 2023-04-16 01:00:00.000 , fdate: 2023-04-16 02:00:00.000\n"
     ]
    },
    {
     "name": "stderr",
     "output_type": "stream",
     "text": [
      " 76%|███████▌  | 1106/1463 [35:36<11:51,  1.99s/it]"
     ]
    },
    {
     "name": "stdout",
     "output_type": "stream",
     "text": [
      "Saved data\n",
      "\n",
      "idate: 2023-04-16 02:00:00.000 , fdate: 2023-04-16 03:00:00.000\n"
     ]
    },
    {
     "name": "stderr",
     "output_type": "stream",
     "text": [
      " 76%|███████▌  | 1107/1463 [35:38<11:44,  1.98s/it]"
     ]
    },
    {
     "name": "stdout",
     "output_type": "stream",
     "text": [
      "Saved data\n",
      "\n",
      "idate: 2023-04-16 03:00:00.000 , fdate: 2023-04-16 04:00:00.000\n"
     ]
    },
    {
     "name": "stderr",
     "output_type": "stream",
     "text": [
      " 76%|███████▌  | 1108/1463 [35:40<10:59,  1.86s/it]"
     ]
    },
    {
     "name": "stdout",
     "output_type": "stream",
     "text": [
      "Saved data\n",
      "\n",
      "idate: 2023-04-16 04:00:00.000 , fdate: 2023-04-16 05:00:00.000\n"
     ]
    },
    {
     "name": "stderr",
     "output_type": "stream",
     "text": [
      " 76%|███████▌  | 1109/1463 [35:41<10:25,  1.77s/it]"
     ]
    },
    {
     "name": "stdout",
     "output_type": "stream",
     "text": [
      "\n",
      "idate: 2023-04-16 05:00:00.000 , fdate: 2023-04-16 06:00:00.000\n"
     ]
    },
    {
     "name": "stderr",
     "output_type": "stream",
     "text": [
      " 76%|███████▌  | 1110/1463 [35:43<10:05,  1.72s/it]"
     ]
    },
    {
     "name": "stdout",
     "output_type": "stream",
     "text": [
      "Saved data\n",
      "\n",
      "idate: 2023-04-16 06:00:00.000 , fdate: 2023-04-16 07:00:00.000\n"
     ]
    },
    {
     "name": "stderr",
     "output_type": "stream",
     "text": [
      " 76%|███████▌  | 1111/1463 [35:45<09:55,  1.69s/it]"
     ]
    },
    {
     "name": "stdout",
     "output_type": "stream",
     "text": [
      "Saved data\n",
      "\n",
      "idate: 2023-04-16 07:00:00.000 , fdate: 2023-04-16 08:00:00.000\n"
     ]
    },
    {
     "name": "stderr",
     "output_type": "stream",
     "text": [
      " 76%|███████▌  | 1112/1463 [35:46<09:47,  1.67s/it]"
     ]
    },
    {
     "name": "stdout",
     "output_type": "stream",
     "text": [
      "Saved data\n",
      "\n",
      "idate: 2023-04-16 08:00:00.000 , fdate: 2023-04-16 09:00:00.000\n"
     ]
    },
    {
     "name": "stderr",
     "output_type": "stream",
     "text": [
      " 76%|███████▌  | 1113/1463 [35:48<09:49,  1.68s/it]"
     ]
    },
    {
     "name": "stdout",
     "output_type": "stream",
     "text": [
      "Saved data\n",
      "\n",
      "idate: 2023-04-16 09:00:00.000 , fdate: 2023-04-16 10:00:00.000\n"
     ]
    },
    {
     "name": "stderr",
     "output_type": "stream",
     "text": [
      " 76%|███████▌  | 1114/1463 [35:50<11:06,  1.91s/it]"
     ]
    },
    {
     "name": "stdout",
     "output_type": "stream",
     "text": [
      "Saved data\n",
      "\n",
      "idate: 2023-04-16 10:00:00.000 , fdate: 2023-04-16 11:00:00.000\n"
     ]
    },
    {
     "name": "stderr",
     "output_type": "stream",
     "text": [
      " 76%|███████▌  | 1115/1463 [35:53<11:32,  1.99s/it]"
     ]
    },
    {
     "name": "stdout",
     "output_type": "stream",
     "text": [
      "Saved data\n",
      "\n",
      "idate: 2023-04-16 11:00:00.000 , fdate: 2023-04-16 12:00:00.000\n"
     ]
    },
    {
     "name": "stderr",
     "output_type": "stream",
     "text": [
      " 76%|███████▋  | 1116/1463 [35:55<12:05,  2.09s/it]"
     ]
    },
    {
     "name": "stdout",
     "output_type": "stream",
     "text": [
      "Saved data\n",
      "\n",
      "idate: 2023-04-16 12:00:00.000 , fdate: 2023-04-16 13:00:00.000\n"
     ]
    },
    {
     "name": "stderr",
     "output_type": "stream",
     "text": [
      " 76%|███████▋  | 1117/1463 [35:57<12:34,  2.18s/it]"
     ]
    },
    {
     "name": "stdout",
     "output_type": "stream",
     "text": [
      "Saved data\n",
      "\n",
      "idate: 2023-04-16 13:00:00.000 , fdate: 2023-04-16 14:00:00.000\n"
     ]
    },
    {
     "name": "stderr",
     "output_type": "stream",
     "text": [
      " 76%|███████▋  | 1118/1463 [36:00<12:51,  2.24s/it]"
     ]
    },
    {
     "name": "stdout",
     "output_type": "stream",
     "text": [
      "Saved data\n",
      "\n",
      "idate: 2023-04-16 14:00:00.000 , fdate: 2023-04-16 15:00:00.000\n"
     ]
    },
    {
     "name": "stderr",
     "output_type": "stream",
     "text": [
      " 76%|███████▋  | 1119/1463 [36:02<12:48,  2.23s/it]"
     ]
    },
    {
     "name": "stdout",
     "output_type": "stream",
     "text": [
      "Saved data\n",
      "\n",
      "idate: 2023-04-16 15:00:00.000 , fdate: 2023-04-16 16:00:00.000\n"
     ]
    },
    {
     "name": "stderr",
     "output_type": "stream",
     "text": [
      " 77%|███████▋  | 1120/1463 [36:04<12:38,  2.21s/it]"
     ]
    },
    {
     "name": "stdout",
     "output_type": "stream",
     "text": [
      "Saved data\n",
      "\n",
      "idate: 2023-04-16 16:00:00.000 , fdate: 2023-04-16 17:00:00.000\n"
     ]
    },
    {
     "name": "stderr",
     "output_type": "stream",
     "text": [
      " 77%|███████▋  | 1121/1463 [36:06<12:26,  2.18s/it]"
     ]
    },
    {
     "name": "stdout",
     "output_type": "stream",
     "text": [
      "Saved data\n",
      "\n",
      "idate: 2023-04-16 17:00:00.000 , fdate: 2023-04-16 18:00:00.000\n"
     ]
    },
    {
     "name": "stderr",
     "output_type": "stream",
     "text": [
      " 77%|███████▋  | 1122/1463 [36:08<12:16,  2.16s/it]"
     ]
    },
    {
     "name": "stdout",
     "output_type": "stream",
     "text": [
      "Saved data\n",
      "\n",
      "idate: 2023-04-16 18:00:00.000 , fdate: 2023-04-16 19:00:00.000\n"
     ]
    },
    {
     "name": "stderr",
     "output_type": "stream",
     "text": [
      " 77%|███████▋  | 1123/1463 [36:11<12:25,  2.19s/it]"
     ]
    },
    {
     "name": "stdout",
     "output_type": "stream",
     "text": [
      "Saved data\n",
      "\n",
      "idate: 2023-04-16 19:00:00.000 , fdate: 2023-04-16 20:00:00.000\n"
     ]
    },
    {
     "name": "stderr",
     "output_type": "stream",
     "text": [
      " 77%|███████▋  | 1124/1463 [36:13<12:19,  2.18s/it]"
     ]
    },
    {
     "name": "stdout",
     "output_type": "stream",
     "text": [
      "Saved data\n",
      "\n",
      "idate: 2023-04-16 20:00:00.000 , fdate: 2023-04-16 21:00:00.000\n"
     ]
    },
    {
     "name": "stderr",
     "output_type": "stream",
     "text": [
      " 77%|███████▋  | 1125/1463 [36:15<12:25,  2.21s/it]"
     ]
    },
    {
     "name": "stdout",
     "output_type": "stream",
     "text": [
      "Saved data\n",
      "\n",
      "idate: 2023-04-16 21:00:00.000 , fdate: 2023-04-16 22:00:00.000\n"
     ]
    },
    {
     "name": "stderr",
     "output_type": "stream",
     "text": [
      " 77%|███████▋  | 1126/1463 [36:17<12:44,  2.27s/it]"
     ]
    },
    {
     "name": "stdout",
     "output_type": "stream",
     "text": [
      "Saved data\n",
      "\n",
      "idate: 2023-04-16 22:00:00.000 , fdate: 2023-04-16 23:00:00.000\n"
     ]
    },
    {
     "name": "stderr",
     "output_type": "stream",
     "text": [
      " 77%|███████▋  | 1127/1463 [36:20<12:51,  2.30s/it]"
     ]
    },
    {
     "name": "stdout",
     "output_type": "stream",
     "text": [
      "Saved data\n",
      "\n",
      "idate: 2023-04-16 23:00:00.000 , fdate: 2023-04-17 00:00:00.000\n"
     ]
    },
    {
     "name": "stderr",
     "output_type": "stream",
     "text": [
      " 77%|███████▋  | 1128/1463 [36:22<12:08,  2.17s/it]"
     ]
    },
    {
     "name": "stdout",
     "output_type": "stream",
     "text": [
      "Saved data\n",
      "\n",
      "idate: 2023-04-17 00:00:00.000 , fdate: 2023-04-17 01:00:00.000\n"
     ]
    },
    {
     "name": "stderr",
     "output_type": "stream",
     "text": [
      " 77%|███████▋  | 1129/1463 [36:23<11:33,  2.08s/it]"
     ]
    },
    {
     "name": "stdout",
     "output_type": "stream",
     "text": [
      "Saved data\n",
      "\n",
      "idate: 2023-04-17 01:00:00.000 , fdate: 2023-04-17 02:00:00.000\n"
     ]
    },
    {
     "name": "stderr",
     "output_type": "stream",
     "text": [
      " 77%|███████▋  | 1130/1463 [36:26<11:26,  2.06s/it]"
     ]
    },
    {
     "name": "stdout",
     "output_type": "stream",
     "text": [
      "Saved data\n",
      "\n",
      "idate: 2023-04-17 02:00:00.000 , fdate: 2023-04-17 03:00:00.000\n"
     ]
    },
    {
     "name": "stderr",
     "output_type": "stream",
     "text": [
      " 77%|███████▋  | 1131/1463 [36:27<11:13,  2.03s/it]"
     ]
    },
    {
     "name": "stdout",
     "output_type": "stream",
     "text": [
      "Saved data\n",
      "\n",
      "idate: 2023-04-17 03:00:00.000 , fdate: 2023-04-17 04:00:00.000\n"
     ]
    },
    {
     "name": "stderr",
     "output_type": "stream",
     "text": [
      " 77%|███████▋  | 1132/1463 [36:29<10:46,  1.95s/it]"
     ]
    },
    {
     "name": "stdout",
     "output_type": "stream",
     "text": [
      "Saved data\n",
      "\n",
      "idate: 2023-04-17 04:00:00.000 , fdate: 2023-04-17 05:00:00.000\n"
     ]
    },
    {
     "name": "stderr",
     "output_type": "stream",
     "text": [
      " 77%|███████▋  | 1133/1463 [36:31<10:15,  1.86s/it]"
     ]
    },
    {
     "name": "stdout",
     "output_type": "stream",
     "text": [
      "Saved data\n",
      "\n",
      "idate: 2023-04-17 05:00:00.000 , fdate: 2023-04-17 06:00:00.000\n"
     ]
    },
    {
     "name": "stderr",
     "output_type": "stream",
     "text": [
      " 78%|███████▊  | 1134/1463 [36:32<09:46,  1.78s/it]"
     ]
    },
    {
     "name": "stdout",
     "output_type": "stream",
     "text": [
      "Saved data\n",
      "\n",
      "idate: 2023-04-17 06:00:00.000 , fdate: 2023-04-17 07:00:00.000\n"
     ]
    },
    {
     "name": "stderr",
     "output_type": "stream",
     "text": [
      " 78%|███████▊  | 1135/1463 [36:34<09:29,  1.74s/it]"
     ]
    },
    {
     "name": "stdout",
     "output_type": "stream",
     "text": [
      "Saved data\n",
      "\n",
      "idate: 2023-04-17 07:00:00.000 , fdate: 2023-04-17 08:00:00.000\n"
     ]
    },
    {
     "name": "stderr",
     "output_type": "stream",
     "text": [
      " 78%|███████▊  | 1136/1463 [36:36<09:21,  1.72s/it]"
     ]
    },
    {
     "name": "stdout",
     "output_type": "stream",
     "text": [
      "Saved data\n",
      "\n",
      "idate: 2023-04-17 08:00:00.000 , fdate: 2023-04-17 09:00:00.000\n"
     ]
    },
    {
     "name": "stderr",
     "output_type": "stream",
     "text": [
      " 78%|███████▊  | 1137/1463 [36:38<09:31,  1.75s/it]"
     ]
    },
    {
     "name": "stdout",
     "output_type": "stream",
     "text": [
      "Saved data\n",
      "\n",
      "idate: 2023-04-17 09:00:00.000 , fdate: 2023-04-17 10:00:00.000\n"
     ]
    },
    {
     "name": "stderr",
     "output_type": "stream",
     "text": [
      " 78%|███████▊  | 1138/1463 [36:40<10:25,  1.93s/it]"
     ]
    },
    {
     "name": "stdout",
     "output_type": "stream",
     "text": [
      "Saved data\n",
      "\n",
      "idate: 2023-04-17 10:00:00.000 , fdate: 2023-04-17 11:00:00.000\n"
     ]
    },
    {
     "name": "stderr",
     "output_type": "stream",
     "text": [
      " 78%|███████▊  | 1139/1463 [36:42<10:48,  2.00s/it]"
     ]
    },
    {
     "name": "stdout",
     "output_type": "stream",
     "text": [
      "Saved data\n",
      "\n",
      "idate: 2023-04-17 11:00:00.000 , fdate: 2023-04-17 12:00:00.000\n"
     ]
    },
    {
     "name": "stderr",
     "output_type": "stream",
     "text": [
      " 78%|███████▊  | 1140/1463 [36:44<10:48,  2.01s/it]"
     ]
    },
    {
     "name": "stdout",
     "output_type": "stream",
     "text": [
      "Saved data\n",
      "\n",
      "idate: 2023-04-17 12:00:00.000 , fdate: 2023-04-17 13:00:00.000\n"
     ]
    },
    {
     "name": "stderr",
     "output_type": "stream",
     "text": [
      " 78%|███████▊  | 1141/1463 [36:46<11:08,  2.08s/it]"
     ]
    },
    {
     "name": "stdout",
     "output_type": "stream",
     "text": [
      "Saved data\n",
      "\n",
      "idate: 2023-04-17 13:00:00.000 , fdate: 2023-04-17 14:00:00.000\n"
     ]
    },
    {
     "name": "stderr",
     "output_type": "stream",
     "text": [
      " 78%|███████▊  | 1142/1463 [36:49<11:32,  2.16s/it]"
     ]
    },
    {
     "name": "stdout",
     "output_type": "stream",
     "text": [
      "Saved data\n",
      "\n",
      "idate: 2023-04-17 14:00:00.000 , fdate: 2023-04-17 15:00:00.000\n"
     ]
    },
    {
     "name": "stderr",
     "output_type": "stream",
     "text": [
      " 78%|███████▊  | 1143/1463 [36:51<11:14,  2.11s/it]"
     ]
    },
    {
     "name": "stdout",
     "output_type": "stream",
     "text": [
      "Saved data\n",
      "\n",
      "idate: 2023-04-17 15:00:00.000 , fdate: 2023-04-17 16:00:00.000\n"
     ]
    },
    {
     "name": "stderr",
     "output_type": "stream",
     "text": [
      " 78%|███████▊  | 1144/1463 [36:53<11:01,  2.07s/it]"
     ]
    },
    {
     "name": "stdout",
     "output_type": "stream",
     "text": [
      "Saved data\n",
      "\n",
      "idate: 2023-04-17 16:00:00.000 , fdate: 2023-04-17 17:00:00.000\n"
     ]
    },
    {
     "name": "stderr",
     "output_type": "stream",
     "text": [
      " 78%|███████▊  | 1145/1463 [36:55<10:57,  2.07s/it]"
     ]
    },
    {
     "name": "stdout",
     "output_type": "stream",
     "text": [
      "Saved data\n",
      "\n",
      "idate: 2023-04-17 17:00:00.000 , fdate: 2023-04-17 18:00:00.000\n"
     ]
    },
    {
     "name": "stderr",
     "output_type": "stream",
     "text": [
      " 78%|███████▊  | 1146/1463 [36:57<11:07,  2.10s/it]"
     ]
    },
    {
     "name": "stdout",
     "output_type": "stream",
     "text": [
      "Saved data\n",
      "\n",
      "idate: 2023-04-17 18:00:00.000 , fdate: 2023-04-17 19:00:00.000\n"
     ]
    },
    {
     "name": "stderr",
     "output_type": "stream",
     "text": [
      " 78%|███████▊  | 1147/1463 [36:59<10:55,  2.07s/it]"
     ]
    },
    {
     "name": "stdout",
     "output_type": "stream",
     "text": [
      "Saved data\n",
      "\n",
      "idate: 2023-04-17 19:00:00.000 , fdate: 2023-04-17 20:00:00.000\n"
     ]
    },
    {
     "name": "stderr",
     "output_type": "stream",
     "text": [
      " 78%|███████▊  | 1148/1463 [37:01<10:49,  2.06s/it]"
     ]
    },
    {
     "name": "stdout",
     "output_type": "stream",
     "text": [
      "Saved data\n",
      "\n",
      "idate: 2023-04-17 20:00:00.000 , fdate: 2023-04-17 21:00:00.000\n"
     ]
    },
    {
     "name": "stderr",
     "output_type": "stream",
     "text": [
      " 79%|███████▊  | 1149/1463 [37:03<10:48,  2.06s/it]"
     ]
    },
    {
     "name": "stdout",
     "output_type": "stream",
     "text": [
      "Saved data\n",
      "\n",
      "idate: 2023-04-17 21:00:00.000 , fdate: 2023-04-17 22:00:00.000\n"
     ]
    },
    {
     "name": "stderr",
     "output_type": "stream",
     "text": [
      " 79%|███████▊  | 1150/1463 [37:05<11:02,  2.12s/it]"
     ]
    },
    {
     "name": "stdout",
     "output_type": "stream",
     "text": [
      "Saved data\n",
      "\n",
      "idate: 2023-04-17 22:00:00.000 , fdate: 2023-04-17 23:00:00.000\n"
     ]
    },
    {
     "name": "stderr",
     "output_type": "stream",
     "text": [
      " 79%|███████▊  | 1151/1463 [37:07<10:48,  2.08s/it]"
     ]
    },
    {
     "name": "stdout",
     "output_type": "stream",
     "text": [
      "Saved data\n",
      "\n",
      "idate: 2023-04-17 23:00:00.000 , fdate: 2023-04-18 00:00:00.000\n"
     ]
    },
    {
     "name": "stderr",
     "output_type": "stream",
     "text": [
      " 79%|███████▊  | 1152/1463 [37:09<10:22,  2.00s/it]"
     ]
    },
    {
     "name": "stdout",
     "output_type": "stream",
     "text": [
      "Saved data\n",
      "\n",
      "idate: 2023-04-18 00:00:00.000 , fdate: 2023-04-18 01:00:00.000\n"
     ]
    },
    {
     "name": "stderr",
     "output_type": "stream",
     "text": [
      " 79%|███████▉  | 1153/1463 [37:11<09:58,  1.93s/it]"
     ]
    },
    {
     "name": "stdout",
     "output_type": "stream",
     "text": [
      "Saved data\n",
      "\n",
      "idate: 2023-04-18 01:00:00.000 , fdate: 2023-04-18 02:00:00.000\n"
     ]
    },
    {
     "name": "stderr",
     "output_type": "stream",
     "text": [
      " 79%|███████▉  | 1154/1463 [37:13<09:52,  1.92s/it]"
     ]
    },
    {
     "name": "stdout",
     "output_type": "stream",
     "text": [
      "Saved data\n",
      "\n",
      "idate: 2023-04-18 02:00:00.000 , fdate: 2023-04-18 03:00:00.000\n"
     ]
    },
    {
     "name": "stderr",
     "output_type": "stream",
     "text": [
      " 79%|███████▉  | 1155/1463 [37:15<09:42,  1.89s/it]"
     ]
    },
    {
     "name": "stdout",
     "output_type": "stream",
     "text": [
      "Saved data\n",
      "\n",
      "idate: 2023-04-18 03:00:00.000 , fdate: 2023-04-18 04:00:00.000\n"
     ]
    },
    {
     "name": "stderr",
     "output_type": "stream",
     "text": [
      " 79%|███████▉  | 1156/1463 [37:16<09:27,  1.85s/it]"
     ]
    },
    {
     "name": "stdout",
     "output_type": "stream",
     "text": [
      "Saved data\n",
      "\n",
      "idate: 2023-04-18 04:00:00.000 , fdate: 2023-04-18 05:00:00.000\n"
     ]
    },
    {
     "name": "stderr",
     "output_type": "stream",
     "text": [
      " 79%|███████▉  | 1157/1463 [37:18<09:04,  1.78s/it]"
     ]
    },
    {
     "name": "stdout",
     "output_type": "stream",
     "text": [
      "Saved data\n",
      "\n",
      "idate: 2023-04-18 05:00:00.000 , fdate: 2023-04-18 06:00:00.000\n"
     ]
    },
    {
     "name": "stderr",
     "output_type": "stream",
     "text": [
      " 79%|███████▉  | 1158/1463 [37:20<08:43,  1.72s/it]"
     ]
    },
    {
     "name": "stdout",
     "output_type": "stream",
     "text": [
      "Saved data\n",
      "\n",
      "idate: 2023-04-18 06:00:00.000 , fdate: 2023-04-18 07:00:00.000\n"
     ]
    },
    {
     "name": "stderr",
     "output_type": "stream",
     "text": [
      " 79%|███████▉  | 1159/1463 [37:21<08:34,  1.69s/it]"
     ]
    },
    {
     "name": "stdout",
     "output_type": "stream",
     "text": [
      "Saved data\n",
      "\n",
      "idate: 2023-04-18 07:00:00.000 , fdate: 2023-04-18 08:00:00.000\n"
     ]
    },
    {
     "name": "stderr",
     "output_type": "stream",
     "text": [
      " 79%|███████▉  | 1160/1463 [37:23<08:32,  1.69s/it]"
     ]
    },
    {
     "name": "stdout",
     "output_type": "stream",
     "text": [
      "Saved data\n",
      "\n",
      "idate: 2023-04-18 08:00:00.000 , fdate: 2023-04-18 09:00:00.000\n"
     ]
    },
    {
     "name": "stderr",
     "output_type": "stream",
     "text": [
      " 79%|███████▉  | 1161/1463 [37:25<08:34,  1.70s/it]"
     ]
    },
    {
     "name": "stdout",
     "output_type": "stream",
     "text": [
      "Saved data\n",
      "\n",
      "idate: 2023-04-18 09:00:00.000 , fdate: 2023-04-18 10:00:00.000\n"
     ]
    },
    {
     "name": "stderr",
     "output_type": "stream",
     "text": [
      " 79%|███████▉  | 1162/1463 [37:27<09:01,  1.80s/it]"
     ]
    },
    {
     "name": "stdout",
     "output_type": "stream",
     "text": [
      "Saved data\n",
      "\n",
      "idate: 2023-04-18 10:00:00.000 , fdate: 2023-04-18 11:00:00.000\n"
     ]
    },
    {
     "name": "stderr",
     "output_type": "stream",
     "text": [
      " 79%|███████▉  | 1163/1463 [37:29<09:20,  1.87s/it]"
     ]
    },
    {
     "name": "stdout",
     "output_type": "stream",
     "text": [
      "Saved data\n",
      "\n",
      "idate: 2023-04-18 11:00:00.000 , fdate: 2023-04-18 12:00:00.000\n"
     ]
    },
    {
     "name": "stderr",
     "output_type": "stream",
     "text": [
      " 80%|███████▉  | 1164/1463 [37:31<09:28,  1.90s/it]"
     ]
    },
    {
     "name": "stdout",
     "output_type": "stream",
     "text": [
      "Saved data\n",
      "\n",
      "idate: 2023-04-18 12:00:00.000 , fdate: 2023-04-18 13:00:00.000\n"
     ]
    },
    {
     "name": "stderr",
     "output_type": "stream",
     "text": [
      " 80%|███████▉  | 1165/1463 [37:33<09:51,  1.99s/it]"
     ]
    },
    {
     "name": "stdout",
     "output_type": "stream",
     "text": [
      "Saved data\n",
      "\n",
      "idate: 2023-04-18 13:00:00.000 , fdate: 2023-04-18 14:00:00.000\n"
     ]
    },
    {
     "name": "stderr",
     "output_type": "stream",
     "text": [
      " 80%|███████▉  | 1166/1463 [37:35<09:56,  2.01s/it]"
     ]
    },
    {
     "name": "stdout",
     "output_type": "stream",
     "text": [
      "Saved data\n",
      "\n",
      "idate: 2023-04-18 14:00:00.000 , fdate: 2023-04-18 15:00:00.000\n"
     ]
    },
    {
     "name": "stderr",
     "output_type": "stream",
     "text": [
      " 80%|███████▉  | 1167/1463 [37:37<09:55,  2.01s/it]"
     ]
    },
    {
     "name": "stdout",
     "output_type": "stream",
     "text": [
      "Saved data\n",
      "\n",
      "idate: 2023-04-18 15:00:00.000 , fdate: 2023-04-18 16:00:00.000\n"
     ]
    },
    {
     "name": "stderr",
     "output_type": "stream",
     "text": [
      " 80%|███████▉  | 1168/1463 [37:39<09:52,  2.01s/it]"
     ]
    },
    {
     "name": "stdout",
     "output_type": "stream",
     "text": [
      "Saved data\n",
      "\n",
      "idate: 2023-04-18 16:00:00.000 , fdate: 2023-04-18 17:00:00.000\n"
     ]
    },
    {
     "name": "stderr",
     "output_type": "stream",
     "text": [
      " 80%|███████▉  | 1169/1463 [37:41<09:56,  2.03s/it]"
     ]
    },
    {
     "name": "stdout",
     "output_type": "stream",
     "text": [
      "Saved data\n",
      "\n",
      "idate: 2023-04-18 17:00:00.000 , fdate: 2023-04-18 18:00:00.000\n"
     ]
    },
    {
     "name": "stderr",
     "output_type": "stream",
     "text": [
      " 80%|███████▉  | 1170/1463 [37:43<09:47,  2.00s/it]"
     ]
    },
    {
     "name": "stdout",
     "output_type": "stream",
     "text": [
      "Saved data\n",
      "\n",
      "idate: 2023-04-18 18:00:00.000 , fdate: 2023-04-18 19:00:00.000\n"
     ]
    },
    {
     "name": "stderr",
     "output_type": "stream",
     "text": [
      " 80%|████████  | 1171/1463 [37:45<09:53,  2.03s/it]"
     ]
    },
    {
     "name": "stdout",
     "output_type": "stream",
     "text": [
      "Saved data\n",
      "\n",
      "idate: 2023-04-18 19:00:00.000 , fdate: 2023-04-18 20:00:00.000\n"
     ]
    },
    {
     "name": "stderr",
     "output_type": "stream",
     "text": [
      " 80%|████████  | 1172/1463 [37:47<09:55,  2.05s/it]"
     ]
    },
    {
     "name": "stdout",
     "output_type": "stream",
     "text": [
      "Saved data\n",
      "\n",
      "idate: 2023-04-18 20:00:00.000 , fdate: 2023-04-18 21:00:00.000\n"
     ]
    },
    {
     "name": "stderr",
     "output_type": "stream",
     "text": [
      " 80%|████████  | 1173/1463 [37:49<09:51,  2.04s/it]"
     ]
    },
    {
     "name": "stdout",
     "output_type": "stream",
     "text": [
      "Saved data\n",
      "\n",
      "idate: 2023-04-18 21:00:00.000 , fdate: 2023-04-18 22:00:00.000\n"
     ]
    },
    {
     "name": "stderr",
     "output_type": "stream",
     "text": [
      " 80%|████████  | 1174/1463 [37:51<09:40,  2.01s/it]"
     ]
    },
    {
     "name": "stdout",
     "output_type": "stream",
     "text": [
      "Saved data\n",
      "\n",
      "idate: 2023-04-18 22:00:00.000 , fdate: 2023-04-18 23:00:00.000\n"
     ]
    },
    {
     "name": "stderr",
     "output_type": "stream",
     "text": [
      " 80%|████████  | 1175/1463 [37:53<09:33,  1.99s/it]"
     ]
    },
    {
     "name": "stdout",
     "output_type": "stream",
     "text": [
      "Saved data\n",
      "\n",
      "idate: 2023-04-18 23:00:00.000 , fdate: 2023-04-19 00:00:00.000\n"
     ]
    },
    {
     "name": "stderr",
     "output_type": "stream",
     "text": [
      " 80%|████████  | 1176/1463 [37:55<09:17,  1.94s/it]"
     ]
    },
    {
     "name": "stdout",
     "output_type": "stream",
     "text": [
      "Saved data\n",
      "\n",
      "idate: 2023-04-19 00:00:00.000 , fdate: 2023-04-19 01:00:00.000\n"
     ]
    },
    {
     "name": "stderr",
     "output_type": "stream",
     "text": [
      " 80%|████████  | 1177/1463 [37:57<09:06,  1.91s/it]"
     ]
    },
    {
     "name": "stdout",
     "output_type": "stream",
     "text": [
      "Saved data\n",
      "\n",
      "idate: 2023-04-19 01:00:00.000 , fdate: 2023-04-19 02:00:00.000\n"
     ]
    },
    {
     "name": "stderr",
     "output_type": "stream",
     "text": [
      " 81%|████████  | 1178/1463 [37:59<09:03,  1.91s/it]"
     ]
    },
    {
     "name": "stdout",
     "output_type": "stream",
     "text": [
      "Saved data\n",
      "\n",
      "idate: 2023-04-19 02:00:00.000 , fdate: 2023-04-19 03:00:00.000\n"
     ]
    },
    {
     "name": "stderr",
     "output_type": "stream",
     "text": [
      " 81%|████████  | 1179/1463 [38:01<09:03,  1.91s/it]"
     ]
    },
    {
     "name": "stdout",
     "output_type": "stream",
     "text": [
      "Saved data\n",
      "\n",
      "idate: 2023-04-19 03:00:00.000 , fdate: 2023-04-19 04:00:00.000\n"
     ]
    },
    {
     "name": "stderr",
     "output_type": "stream",
     "text": [
      " 81%|████████  | 1180/1463 [38:02<08:48,  1.87s/it]"
     ]
    },
    {
     "name": "stdout",
     "output_type": "stream",
     "text": [
      "Saved data\n",
      "\n",
      "idate: 2023-04-19 04:00:00.000 , fdate: 2023-04-19 05:00:00.000\n"
     ]
    },
    {
     "name": "stderr",
     "output_type": "stream",
     "text": [
      " 81%|████████  | 1181/1463 [38:04<08:39,  1.84s/it]"
     ]
    },
    {
     "name": "stdout",
     "output_type": "stream",
     "text": [
      "Saved data\n",
      "\n",
      "idate: 2023-04-19 05:00:00.000 , fdate: 2023-04-19 06:00:00.000\n"
     ]
    },
    {
     "name": "stderr",
     "output_type": "stream",
     "text": [
      " 81%|████████  | 1182/1463 [38:06<08:18,  1.77s/it]"
     ]
    },
    {
     "name": "stdout",
     "output_type": "stream",
     "text": [
      "Saved data\n",
      "\n",
      "idate: 2023-04-19 06:00:00.000 , fdate: 2023-04-19 07:00:00.000\n"
     ]
    },
    {
     "name": "stderr",
     "output_type": "stream",
     "text": [
      " 81%|████████  | 1183/1463 [38:07<08:02,  1.72s/it]"
     ]
    },
    {
     "name": "stdout",
     "output_type": "stream",
     "text": [
      "Saved data\n",
      "\n",
      "idate: 2023-04-19 07:00:00.000 , fdate: 2023-04-19 08:00:00.000\n"
     ]
    },
    {
     "name": "stderr",
     "output_type": "stream",
     "text": [
      " 81%|████████  | 1184/1463 [38:09<08:00,  1.72s/it]"
     ]
    },
    {
     "name": "stdout",
     "output_type": "stream",
     "text": [
      "Saved data\n",
      "\n",
      "idate: 2023-04-19 08:00:00.000 , fdate: 2023-04-19 09:00:00.000\n"
     ]
    },
    {
     "name": "stderr",
     "output_type": "stream",
     "text": [
      " 81%|████████  | 1185/1463 [38:11<08:00,  1.73s/it]"
     ]
    },
    {
     "name": "stdout",
     "output_type": "stream",
     "text": [
      "Saved data\n",
      "\n",
      "idate: 2023-04-19 09:00:00.000 , fdate: 2023-04-19 10:00:00.000\n"
     ]
    },
    {
     "name": "stderr",
     "output_type": "stream",
     "text": [
      " 81%|████████  | 1186/1463 [38:13<08:18,  1.80s/it]"
     ]
    },
    {
     "name": "stdout",
     "output_type": "stream",
     "text": [
      "Saved data\n",
      "\n",
      "idate: 2023-04-19 10:00:00.000 , fdate: 2023-04-19 11:00:00.000\n"
     ]
    },
    {
     "name": "stderr",
     "output_type": "stream",
     "text": [
      " 81%|████████  | 1187/1463 [38:15<08:38,  1.88s/it]"
     ]
    },
    {
     "name": "stdout",
     "output_type": "stream",
     "text": [
      "Saved data\n",
      "\n",
      "idate: 2023-04-19 11:00:00.000 , fdate: 2023-04-19 12:00:00.000\n"
     ]
    },
    {
     "name": "stderr",
     "output_type": "stream",
     "text": [
      " 81%|████████  | 1188/1463 [38:17<08:39,  1.89s/it]"
     ]
    },
    {
     "name": "stdout",
     "output_type": "stream",
     "text": [
      "Saved data\n",
      "\n",
      "idate: 2023-04-19 12:00:00.000 , fdate: 2023-04-19 13:00:00.000\n"
     ]
    },
    {
     "name": "stderr",
     "output_type": "stream",
     "text": [
      " 81%|████████▏ | 1189/1463 [38:19<08:55,  1.95s/it]"
     ]
    },
    {
     "name": "stdout",
     "output_type": "stream",
     "text": [
      "Saved data\n",
      "\n",
      "idate: 2023-04-19 13:00:00.000 , fdate: 2023-04-19 14:00:00.000\n"
     ]
    },
    {
     "name": "stderr",
     "output_type": "stream",
     "text": [
      " 81%|████████▏ | 1190/1463 [38:21<09:11,  2.02s/it]"
     ]
    },
    {
     "name": "stdout",
     "output_type": "stream",
     "text": [
      "Saved data\n",
      "\n",
      "idate: 2023-04-19 14:00:00.000 , fdate: 2023-04-19 15:00:00.000\n"
     ]
    },
    {
     "name": "stderr",
     "output_type": "stream",
     "text": [
      " 81%|████████▏ | 1191/1463 [38:23<09:07,  2.01s/it]"
     ]
    },
    {
     "name": "stdout",
     "output_type": "stream",
     "text": [
      "Saved data\n",
      "\n",
      "idate: 2023-04-19 15:00:00.000 , fdate: 2023-04-19 16:00:00.000\n"
     ]
    },
    {
     "name": "stderr",
     "output_type": "stream",
     "text": [
      " 81%|████████▏ | 1192/1463 [38:25<09:03,  2.00s/it]"
     ]
    },
    {
     "name": "stdout",
     "output_type": "stream",
     "text": [
      "Saved data\n",
      "\n",
      "idate: 2023-04-19 16:00:00.000 , fdate: 2023-04-19 17:00:00.000\n"
     ]
    },
    {
     "name": "stderr",
     "output_type": "stream",
     "text": [
      " 82%|████████▏ | 1193/1463 [38:27<09:03,  2.01s/it]"
     ]
    },
    {
     "name": "stdout",
     "output_type": "stream",
     "text": [
      "Saved data\n",
      "\n",
      "idate: 2023-04-19 17:00:00.000 , fdate: 2023-04-19 18:00:00.000\n"
     ]
    },
    {
     "name": "stderr",
     "output_type": "stream",
     "text": [
      " 82%|████████▏ | 1194/1463 [38:29<09:05,  2.03s/it]"
     ]
    },
    {
     "name": "stdout",
     "output_type": "stream",
     "text": [
      "Saved data\n",
      "\n",
      "idate: 2023-04-19 18:00:00.000 , fdate: 2023-04-19 19:00:00.000\n"
     ]
    },
    {
     "name": "stderr",
     "output_type": "stream",
     "text": [
      " 82%|████████▏ | 1195/1463 [38:31<09:13,  2.06s/it]"
     ]
    },
    {
     "name": "stdout",
     "output_type": "stream",
     "text": [
      "Saved data\n",
      "\n",
      "idate: 2023-04-19 19:00:00.000 , fdate: 2023-04-19 20:00:00.000\n"
     ]
    },
    {
     "name": "stderr",
     "output_type": "stream",
     "text": [
      " 82%|████████▏ | 1196/1463 [38:33<09:14,  2.08s/it]"
     ]
    },
    {
     "name": "stdout",
     "output_type": "stream",
     "text": [
      "Saved data\n",
      "\n",
      "idate: 2023-04-19 20:00:00.000 , fdate: 2023-04-19 21:00:00.000\n"
     ]
    },
    {
     "name": "stderr",
     "output_type": "stream",
     "text": [
      " 82%|████████▏ | 1197/1463 [38:35<09:04,  2.05s/it]"
     ]
    },
    {
     "name": "stdout",
     "output_type": "stream",
     "text": [
      "Saved data\n",
      "\n",
      "idate: 2023-04-19 21:00:00.000 , fdate: 2023-04-19 22:00:00.000\n"
     ]
    },
    {
     "name": "stderr",
     "output_type": "stream",
     "text": [
      " 82%|████████▏ | 1198/1463 [38:37<09:12,  2.09s/it]"
     ]
    },
    {
     "name": "stdout",
     "output_type": "stream",
     "text": [
      "Saved data\n",
      "\n",
      "idate: 2023-04-19 22:00:00.000 , fdate: 2023-04-19 23:00:00.000\n"
     ]
    },
    {
     "name": "stderr",
     "output_type": "stream",
     "text": [
      " 82%|████████▏ | 1199/1463 [38:39<09:07,  2.07s/it]"
     ]
    },
    {
     "name": "stdout",
     "output_type": "stream",
     "text": [
      "Saved data\n",
      "\n",
      "idate: 2023-04-19 23:00:00.000 , fdate: 2023-04-20 00:00:00.000\n"
     ]
    },
    {
     "name": "stderr",
     "output_type": "stream",
     "text": [
      " 82%|████████▏ | 1200/1463 [38:41<08:47,  2.00s/it]"
     ]
    },
    {
     "name": "stdout",
     "output_type": "stream",
     "text": [
      "Saved data\n",
      "\n",
      "idate: 2023-04-20 00:00:00.000 , fdate: 2023-04-20 01:00:00.000\n"
     ]
    },
    {
     "name": "stderr",
     "output_type": "stream",
     "text": [
      " 82%|████████▏ | 1201/1463 [38:43<08:27,  1.94s/it]"
     ]
    },
    {
     "name": "stdout",
     "output_type": "stream",
     "text": [
      "Saved data\n",
      "\n",
      "idate: 2023-04-20 01:00:00.000 , fdate: 2023-04-20 02:00:00.000\n"
     ]
    },
    {
     "name": "stderr",
     "output_type": "stream",
     "text": [
      " 82%|████████▏ | 1202/1463 [38:45<08:18,  1.91s/it]"
     ]
    },
    {
     "name": "stdout",
     "output_type": "stream",
     "text": [
      "Saved data\n",
      "\n",
      "idate: 2023-04-20 02:00:00.000 , fdate: 2023-04-20 03:00:00.000\n"
     ]
    },
    {
     "name": "stderr",
     "output_type": "stream",
     "text": [
      " 82%|████████▏ | 1203/1463 [38:47<08:12,  1.90s/it]"
     ]
    },
    {
     "name": "stdout",
     "output_type": "stream",
     "text": [
      "Saved data\n",
      "\n",
      "idate: 2023-04-20 03:00:00.000 , fdate: 2023-04-20 04:00:00.000\n"
     ]
    },
    {
     "name": "stderr",
     "output_type": "stream",
     "text": [
      " 82%|████████▏ | 1204/1463 [38:49<07:59,  1.85s/it]"
     ]
    },
    {
     "name": "stdout",
     "output_type": "stream",
     "text": [
      "Saved data\n",
      "\n",
      "idate: 2023-04-20 04:00:00.000 , fdate: 2023-04-20 05:00:00.000\n"
     ]
    },
    {
     "name": "stderr",
     "output_type": "stream",
     "text": [
      " 82%|████████▏ | 1205/1463 [38:50<07:52,  1.83s/it]"
     ]
    },
    {
     "name": "stdout",
     "output_type": "stream",
     "text": [
      "Saved data\n",
      "\n",
      "idate: 2023-04-20 05:00:00.000 , fdate: 2023-04-20 06:00:00.000\n"
     ]
    },
    {
     "name": "stderr",
     "output_type": "stream",
     "text": [
      " 82%|████████▏ | 1206/1463 [38:52<07:35,  1.77s/it]"
     ]
    },
    {
     "name": "stdout",
     "output_type": "stream",
     "text": [
      "Saved data\n",
      "\n",
      "idate: 2023-04-20 06:00:00.000 , fdate: 2023-04-20 07:00:00.000\n"
     ]
    },
    {
     "name": "stderr",
     "output_type": "stream",
     "text": [
      " 83%|████████▎ | 1207/1463 [38:54<07:24,  1.74s/it]"
     ]
    },
    {
     "name": "stdout",
     "output_type": "stream",
     "text": [
      "Saved data\n",
      "\n",
      "idate: 2023-04-20 07:00:00.000 , fdate: 2023-04-20 08:00:00.000\n"
     ]
    },
    {
     "name": "stderr",
     "output_type": "stream",
     "text": [
      " 83%|████████▎ | 1208/1463 [38:55<07:20,  1.73s/it]"
     ]
    },
    {
     "name": "stdout",
     "output_type": "stream",
     "text": [
      "Saved data\n",
      "\n",
      "idate: 2023-04-20 08:00:00.000 , fdate: 2023-04-20 09:00:00.000\n"
     ]
    },
    {
     "name": "stderr",
     "output_type": "stream",
     "text": [
      " 83%|████████▎ | 1209/1463 [38:57<07:26,  1.76s/it]"
     ]
    },
    {
     "name": "stdout",
     "output_type": "stream",
     "text": [
      "Saved data\n",
      "\n",
      "idate: 2023-04-20 09:00:00.000 , fdate: 2023-04-20 10:00:00.000\n"
     ]
    },
    {
     "name": "stderr",
     "output_type": "stream",
     "text": [
      " 83%|████████▎ | 1210/1463 [38:59<07:50,  1.86s/it]"
     ]
    },
    {
     "name": "stdout",
     "output_type": "stream",
     "text": [
      "Saved data\n",
      "\n",
      "idate: 2023-04-20 10:00:00.000 , fdate: 2023-04-20 11:00:00.000\n"
     ]
    },
    {
     "name": "stderr",
     "output_type": "stream",
     "text": [
      " 83%|████████▎ | 1211/1463 [39:01<08:04,  1.92s/it]"
     ]
    },
    {
     "name": "stdout",
     "output_type": "stream",
     "text": [
      "Saved data\n",
      "\n",
      "idate: 2023-04-20 11:00:00.000 , fdate: 2023-04-20 12:00:00.000\n"
     ]
    },
    {
     "name": "stderr",
     "output_type": "stream",
     "text": [
      " 83%|████████▎ | 1212/1463 [39:03<08:01,  1.92s/it]"
     ]
    },
    {
     "name": "stdout",
     "output_type": "stream",
     "text": [
      "Saved data\n",
      "\n",
      "idate: 2023-04-20 12:00:00.000 , fdate: 2023-04-20 13:00:00.000\n"
     ]
    },
    {
     "name": "stderr",
     "output_type": "stream",
     "text": [
      " 83%|████████▎ | 1213/1463 [39:05<08:14,  1.98s/it]"
     ]
    },
    {
     "name": "stdout",
     "output_type": "stream",
     "text": [
      "Saved data\n",
      "\n",
      "idate: 2023-04-20 13:00:00.000 , fdate: 2023-04-20 14:00:00.000\n"
     ]
    },
    {
     "name": "stderr",
     "output_type": "stream",
     "text": [
      " 83%|████████▎ | 1214/1463 [39:08<08:28,  2.04s/it]"
     ]
    },
    {
     "name": "stdout",
     "output_type": "stream",
     "text": [
      "Saved data\n",
      "\n",
      "idate: 2023-04-20 14:00:00.000 , fdate: 2023-04-20 15:00:00.000\n"
     ]
    },
    {
     "name": "stderr",
     "output_type": "stream",
     "text": [
      " 83%|████████▎ | 1215/1463 [39:10<08:24,  2.03s/it]"
     ]
    },
    {
     "name": "stdout",
     "output_type": "stream",
     "text": [
      "Saved data\n",
      "\n",
      "idate: 2023-04-20 15:00:00.000 , fdate: 2023-04-20 16:00:00.000\n"
     ]
    },
    {
     "name": "stderr",
     "output_type": "stream",
     "text": [
      " 83%|████████▎ | 1216/1463 [39:12<08:18,  2.02s/it]"
     ]
    },
    {
     "name": "stdout",
     "output_type": "stream",
     "text": [
      "Saved data\n",
      "\n",
      "idate: 2023-04-20 16:00:00.000 , fdate: 2023-04-20 17:00:00.000\n"
     ]
    },
    {
     "name": "stderr",
     "output_type": "stream",
     "text": [
      " 83%|████████▎ | 1217/1463 [39:14<08:17,  2.02s/it]"
     ]
    },
    {
     "name": "stdout",
     "output_type": "stream",
     "text": [
      "Saved data\n",
      "\n",
      "idate: 2023-04-20 17:00:00.000 , fdate: 2023-04-20 18:00:00.000\n"
     ]
    },
    {
     "name": "stderr",
     "output_type": "stream",
     "text": [
      " 83%|████████▎ | 1218/1463 [39:15<08:05,  1.98s/it]"
     ]
    },
    {
     "name": "stdout",
     "output_type": "stream",
     "text": [
      "Saved data\n",
      "\n",
      "idate: 2023-04-20 18:00:00.000 , fdate: 2023-04-20 19:00:00.000\n"
     ]
    },
    {
     "name": "stderr",
     "output_type": "stream",
     "text": [
      " 83%|████████▎ | 1219/1463 [39:18<08:10,  2.01s/it]"
     ]
    },
    {
     "name": "stdout",
     "output_type": "stream",
     "text": [
      "Saved data\n",
      "\n",
      "idate: 2023-04-20 19:00:00.000 , fdate: 2023-04-20 20:00:00.000\n"
     ]
    },
    {
     "name": "stderr",
     "output_type": "stream",
     "text": [
      " 83%|████████▎ | 1220/1463 [39:20<08:06,  2.00s/it]"
     ]
    },
    {
     "name": "stdout",
     "output_type": "stream",
     "text": [
      "Saved data\n",
      "\n",
      "idate: 2023-04-20 20:00:00.000 , fdate: 2023-04-20 21:00:00.000\n"
     ]
    },
    {
     "name": "stderr",
     "output_type": "stream",
     "text": [
      " 83%|████████▎ | 1221/1463 [39:21<07:55,  1.96s/it]"
     ]
    },
    {
     "name": "stdout",
     "output_type": "stream",
     "text": [
      "Saved data\n",
      "\n",
      "idate: 2023-04-20 21:00:00.000 , fdate: 2023-04-20 22:00:00.000\n"
     ]
    },
    {
     "name": "stderr",
     "output_type": "stream",
     "text": [
      " 84%|████████▎ | 1222/1463 [39:24<08:04,  2.01s/it]"
     ]
    },
    {
     "name": "stdout",
     "output_type": "stream",
     "text": [
      "Saved data\n",
      "\n",
      "idate: 2023-04-20 22:00:00.000 , fdate: 2023-04-20 23:00:00.000\n"
     ]
    },
    {
     "name": "stderr",
     "output_type": "stream",
     "text": [
      " 84%|████████▎ | 1223/1463 [39:26<08:06,  2.03s/it]"
     ]
    },
    {
     "name": "stdout",
     "output_type": "stream",
     "text": [
      "Saved data\n",
      "\n",
      "idate: 2023-04-20 23:00:00.000 , fdate: 2023-04-21 00:00:00.000\n"
     ]
    },
    {
     "name": "stderr",
     "output_type": "stream",
     "text": [
      " 84%|████████▎ | 1224/1463 [39:27<07:48,  1.96s/it]"
     ]
    },
    {
     "name": "stdout",
     "output_type": "stream",
     "text": [
      "Saved data\n",
      "\n",
      "idate: 2023-04-21 00:00:00.000 , fdate: 2023-04-21 01:00:00.000\n"
     ]
    },
    {
     "name": "stderr",
     "output_type": "stream",
     "text": [
      " 84%|████████▎ | 1225/1463 [39:29<07:34,  1.91s/it]"
     ]
    },
    {
     "name": "stdout",
     "output_type": "stream",
     "text": [
      "Saved data\n",
      "\n",
      "idate: 2023-04-21 01:00:00.000 , fdate: 2023-04-21 02:00:00.000\n"
     ]
    },
    {
     "name": "stderr",
     "output_type": "stream",
     "text": [
      " 84%|████████▍ | 1226/1463 [39:31<07:29,  1.90s/it]"
     ]
    },
    {
     "name": "stdout",
     "output_type": "stream",
     "text": [
      "Saved data\n",
      "\n",
      "idate: 2023-04-21 02:00:00.000 , fdate: 2023-04-21 03:00:00.000\n"
     ]
    },
    {
     "name": "stderr",
     "output_type": "stream",
     "text": [
      " 84%|████████▍ | 1227/1463 [39:33<07:30,  1.91s/it]"
     ]
    },
    {
     "name": "stdout",
     "output_type": "stream",
     "text": [
      "Saved data\n",
      "\n",
      "idate: 2023-04-21 03:00:00.000 , fdate: 2023-04-21 04:00:00.000\n"
     ]
    },
    {
     "name": "stderr",
     "output_type": "stream",
     "text": [
      " 84%|████████▍ | 1228/1463 [39:35<07:19,  1.87s/it]"
     ]
    },
    {
     "name": "stdout",
     "output_type": "stream",
     "text": [
      "Saved data\n",
      "\n",
      "idate: 2023-04-21 04:00:00.000 , fdate: 2023-04-21 05:00:00.000\n"
     ]
    },
    {
     "name": "stderr",
     "output_type": "stream",
     "text": [
      " 84%|████████▍ | 1229/1463 [39:36<07:04,  1.81s/it]"
     ]
    },
    {
     "name": "stdout",
     "output_type": "stream",
     "text": [
      "Saved data\n",
      "\n",
      "idate: 2023-04-21 05:00:00.000 , fdate: 2023-04-21 06:00:00.000\n"
     ]
    },
    {
     "name": "stderr",
     "output_type": "stream",
     "text": [
      " 84%|████████▍ | 1230/1463 [39:38<06:48,  1.75s/it]"
     ]
    },
    {
     "name": "stdout",
     "output_type": "stream",
     "text": [
      "Saved data\n",
      "\n",
      "idate: 2023-04-21 06:00:00.000 , fdate: 2023-04-21 07:00:00.000\n"
     ]
    },
    {
     "name": "stderr",
     "output_type": "stream",
     "text": [
      " 84%|████████▍ | 1231/1463 [39:40<06:41,  1.73s/it]"
     ]
    },
    {
     "name": "stdout",
     "output_type": "stream",
     "text": [
      "Saved data\n",
      "\n",
      "idate: 2023-04-21 07:00:00.000 , fdate: 2023-04-21 08:00:00.000\n"
     ]
    },
    {
     "name": "stderr",
     "output_type": "stream",
     "text": [
      " 84%|████████▍ | 1232/1463 [39:41<06:37,  1.72s/it]"
     ]
    },
    {
     "name": "stdout",
     "output_type": "stream",
     "text": [
      "Saved data\n",
      "\n",
      "idate: 2023-04-21 08:00:00.000 , fdate: 2023-04-21 09:00:00.000\n"
     ]
    },
    {
     "name": "stderr",
     "output_type": "stream",
     "text": [
      " 84%|████████▍ | 1233/1463 [39:43<06:47,  1.77s/it]"
     ]
    },
    {
     "name": "stdout",
     "output_type": "stream",
     "text": [
      "Saved data\n",
      "\n",
      "idate: 2023-04-21 09:00:00.000 , fdate: 2023-04-21 10:00:00.000\n"
     ]
    },
    {
     "name": "stderr",
     "output_type": "stream",
     "text": [
      " 84%|████████▍ | 1234/1463 [39:45<07:03,  1.85s/it]"
     ]
    },
    {
     "name": "stdout",
     "output_type": "stream",
     "text": [
      "Saved data\n",
      "\n",
      "idate: 2023-04-21 10:00:00.000 , fdate: 2023-04-21 11:00:00.000\n"
     ]
    },
    {
     "name": "stderr",
     "output_type": "stream",
     "text": [
      " 84%|████████▍ | 1235/1463 [39:47<07:18,  1.92s/it]"
     ]
    },
    {
     "name": "stdout",
     "output_type": "stream",
     "text": [
      "Saved data\n",
      "\n",
      "idate: 2023-04-21 11:00:00.000 , fdate: 2023-04-21 12:00:00.000\n"
     ]
    },
    {
     "name": "stderr",
     "output_type": "stream",
     "text": [
      " 84%|████████▍ | 1236/1463 [39:49<07:20,  1.94s/it]"
     ]
    },
    {
     "name": "stdout",
     "output_type": "stream",
     "text": [
      "Saved data\n",
      "\n",
      "idate: 2023-04-21 12:00:00.000 , fdate: 2023-04-21 13:00:00.000\n"
     ]
    },
    {
     "name": "stderr",
     "output_type": "stream",
     "text": [
      " 85%|████████▍ | 1237/1463 [39:52<07:32,  2.00s/it]"
     ]
    },
    {
     "name": "stdout",
     "output_type": "stream",
     "text": [
      "Saved data\n",
      "\n",
      "idate: 2023-04-21 13:00:00.000 , fdate: 2023-04-21 14:00:00.000\n"
     ]
    },
    {
     "name": "stderr",
     "output_type": "stream",
     "text": [
      " 85%|████████▍ | 1238/1463 [39:54<07:27,  1.99s/it]"
     ]
    },
    {
     "name": "stdout",
     "output_type": "stream",
     "text": [
      "Saved data\n",
      "\n",
      "idate: 2023-04-21 14:00:00.000 , fdate: 2023-04-21 15:00:00.000\n"
     ]
    },
    {
     "name": "stderr",
     "output_type": "stream",
     "text": [
      " 85%|████████▍ | 1239/1463 [39:55<07:21,  1.97s/it]"
     ]
    },
    {
     "name": "stdout",
     "output_type": "stream",
     "text": [
      "Saved data\n",
      "\n",
      "idate: 2023-04-21 15:00:00.000 , fdate: 2023-04-21 16:00:00.000\n"
     ]
    },
    {
     "name": "stderr",
     "output_type": "stream",
     "text": [
      " 85%|████████▍ | 1240/1463 [39:57<07:09,  1.92s/it]"
     ]
    },
    {
     "name": "stdout",
     "output_type": "stream",
     "text": [
      "Saved data\n",
      "\n",
      "idate: 2023-04-21 16:00:00.000 , fdate: 2023-04-21 17:00:00.000\n"
     ]
    },
    {
     "name": "stderr",
     "output_type": "stream",
     "text": [
      " 85%|████████▍ | 1241/1463 [39:59<07:05,  1.92s/it]"
     ]
    },
    {
     "name": "stdout",
     "output_type": "stream",
     "text": [
      "Saved data\n",
      "\n",
      "idate: 2023-04-21 17:00:00.000 , fdate: 2023-04-21 18:00:00.000\n"
     ]
    },
    {
     "name": "stderr",
     "output_type": "stream",
     "text": [
      " 85%|████████▍ | 1242/1463 [40:01<07:08,  1.94s/it]"
     ]
    },
    {
     "name": "stdout",
     "output_type": "stream",
     "text": [
      "Saved data\n",
      "\n",
      "idate: 2023-04-21 18:00:00.000 , fdate: 2023-04-21 19:00:00.000\n"
     ]
    },
    {
     "name": "stderr",
     "output_type": "stream",
     "text": [
      " 85%|████████▍ | 1243/1463 [40:03<07:04,  1.93s/it]"
     ]
    },
    {
     "name": "stdout",
     "output_type": "stream",
     "text": [
      "Saved data\n",
      "\n",
      "idate: 2023-04-21 19:00:00.000 , fdate: 2023-04-21 20:00:00.000\n"
     ]
    },
    {
     "name": "stderr",
     "output_type": "stream",
     "text": [
      " 85%|████████▌ | 1244/1463 [40:05<06:59,  1.91s/it]"
     ]
    },
    {
     "name": "stdout",
     "output_type": "stream",
     "text": [
      "Saved data\n",
      "\n",
      "idate: 2023-04-21 20:00:00.000 , fdate: 2023-04-21 21:00:00.000\n"
     ]
    },
    {
     "name": "stderr",
     "output_type": "stream",
     "text": [
      " 85%|████████▌ | 1245/1463 [40:07<06:57,  1.92s/it]"
     ]
    },
    {
     "name": "stdout",
     "output_type": "stream",
     "text": [
      "Saved data\n",
      "\n",
      "idate: 2023-04-21 21:00:00.000 , fdate: 2023-04-21 22:00:00.000\n"
     ]
    },
    {
     "name": "stderr",
     "output_type": "stream",
     "text": [
      " 85%|████████▌ | 1246/1463 [40:09<06:56,  1.92s/it]"
     ]
    },
    {
     "name": "stdout",
     "output_type": "stream",
     "text": [
      "Saved data\n",
      "\n",
      "idate: 2023-04-21 22:00:00.000 , fdate: 2023-04-21 23:00:00.000\n"
     ]
    },
    {
     "name": "stderr",
     "output_type": "stream",
     "text": [
      " 85%|████████▌ | 1247/1463 [40:11<06:50,  1.90s/it]"
     ]
    },
    {
     "name": "stdout",
     "output_type": "stream",
     "text": [
      "Saved data\n",
      "\n",
      "idate: 2023-04-21 23:00:00.000 , fdate: 2023-04-22 00:00:00.000\n"
     ]
    },
    {
     "name": "stderr",
     "output_type": "stream",
     "text": [
      " 85%|████████▌ | 1248/1463 [40:12<06:37,  1.85s/it]"
     ]
    },
    {
     "name": "stdout",
     "output_type": "stream",
     "text": [
      "Saved data\n",
      "\n",
      "idate: 2023-04-22 00:00:00.000 , fdate: 2023-04-22 01:00:00.000\n"
     ]
    },
    {
     "name": "stderr",
     "output_type": "stream",
     "text": [
      " 85%|████████▌ | 1249/1463 [40:14<06:23,  1.79s/it]"
     ]
    },
    {
     "name": "stdout",
     "output_type": "stream",
     "text": [
      "Saved data\n",
      "\n",
      "idate: 2023-04-22 01:00:00.000 , fdate: 2023-04-22 02:00:00.000\n"
     ]
    },
    {
     "name": "stderr",
     "output_type": "stream",
     "text": [
      " 85%|████████▌ | 1250/1463 [40:16<06:20,  1.78s/it]"
     ]
    },
    {
     "name": "stdout",
     "output_type": "stream",
     "text": [
      "Saved data\n",
      "\n",
      "idate: 2023-04-22 02:00:00.000 , fdate: 2023-04-22 03:00:00.000\n"
     ]
    },
    {
     "name": "stderr",
     "output_type": "stream",
     "text": [
      " 86%|████████▌ | 1251/1463 [40:18<06:15,  1.77s/it]"
     ]
    },
    {
     "name": "stdout",
     "output_type": "stream",
     "text": [
      "Saved data\n",
      "\n",
      "idate: 2023-04-22 03:00:00.000 , fdate: 2023-04-22 04:00:00.000\n"
     ]
    },
    {
     "name": "stderr",
     "output_type": "stream",
     "text": [
      " 86%|████████▌ | 1252/1463 [40:19<06:07,  1.74s/it]"
     ]
    },
    {
     "name": "stdout",
     "output_type": "stream",
     "text": [
      "Saved data\n",
      "\n",
      "idate: 2023-04-22 04:00:00.000 , fdate: 2023-04-22 05:00:00.000\n"
     ]
    },
    {
     "name": "stderr",
     "output_type": "stream",
     "text": [
      " 86%|████████▌ | 1253/1463 [40:21<06:01,  1.72s/it]"
     ]
    },
    {
     "name": "stdout",
     "output_type": "stream",
     "text": [
      "Saved data\n",
      "\n",
      "idate: 2023-04-22 05:00:00.000 , fdate: 2023-04-22 06:00:00.000\n"
     ]
    },
    {
     "name": "stderr",
     "output_type": "stream",
     "text": [
      " 86%|████████▌ | 1254/1463 [40:23<05:51,  1.68s/it]"
     ]
    },
    {
     "name": "stdout",
     "output_type": "stream",
     "text": [
      "Saved data\n",
      "\n",
      "idate: 2023-04-22 06:00:00.000 , fdate: 2023-04-22 07:00:00.000\n"
     ]
    },
    {
     "name": "stderr",
     "output_type": "stream",
     "text": [
      " 86%|████████▌ | 1255/1463 [40:24<05:47,  1.67s/it]"
     ]
    },
    {
     "name": "stdout",
     "output_type": "stream",
     "text": [
      "Saved data\n",
      "\n",
      "idate: 2023-04-22 07:00:00.000 , fdate: 2023-04-22 08:00:00.000\n"
     ]
    },
    {
     "name": "stderr",
     "output_type": "stream",
     "text": [
      " 86%|████████▌ | 1256/1463 [40:26<05:47,  1.68s/it]"
     ]
    },
    {
     "name": "stdout",
     "output_type": "stream",
     "text": [
      "Saved data\n",
      "\n",
      "idate: 2023-04-22 08:00:00.000 , fdate: 2023-04-22 09:00:00.000\n"
     ]
    },
    {
     "name": "stderr",
     "output_type": "stream",
     "text": [
      " 86%|████████▌ | 1257/1463 [40:28<05:48,  1.69s/it]"
     ]
    },
    {
     "name": "stdout",
     "output_type": "stream",
     "text": [
      "Saved data\n",
      "\n",
      "idate: 2023-04-22 09:00:00.000 , fdate: 2023-04-22 10:00:00.000\n"
     ]
    },
    {
     "name": "stderr",
     "output_type": "stream",
     "text": [
      " 86%|████████▌ | 1258/1463 [40:30<06:01,  1.77s/it]"
     ]
    },
    {
     "name": "stdout",
     "output_type": "stream",
     "text": [
      "Saved data\n",
      "\n",
      "idate: 2023-04-22 10:00:00.000 , fdate: 2023-04-22 11:00:00.000\n"
     ]
    },
    {
     "name": "stderr",
     "output_type": "stream",
     "text": [
      " 86%|████████▌ | 1259/1463 [40:31<06:05,  1.79s/it]"
     ]
    },
    {
     "name": "stdout",
     "output_type": "stream",
     "text": [
      "Saved data\n",
      "\n",
      "idate: 2023-04-22 11:00:00.000 , fdate: 2023-04-22 12:00:00.000\n"
     ]
    },
    {
     "name": "stderr",
     "output_type": "stream",
     "text": [
      " 86%|████████▌ | 1260/1463 [40:33<06:06,  1.81s/it]"
     ]
    },
    {
     "name": "stdout",
     "output_type": "stream",
     "text": [
      "Saved data\n",
      "\n",
      "idate: 2023-04-22 12:00:00.000 , fdate: 2023-04-22 13:00:00.000\n"
     ]
    },
    {
     "name": "stderr",
     "output_type": "stream",
     "text": [
      " 86%|████████▌ | 1261/1463 [40:35<06:12,  1.84s/it]"
     ]
    },
    {
     "name": "stdout",
     "output_type": "stream",
     "text": [
      "Saved data\n",
      "\n",
      "idate: 2023-04-22 13:00:00.000 , fdate: 2023-04-22 14:00:00.000\n"
     ]
    },
    {
     "name": "stderr",
     "output_type": "stream",
     "text": [
      " 86%|████████▋ | 1262/1463 [40:37<06:14,  1.86s/it]"
     ]
    },
    {
     "name": "stdout",
     "output_type": "stream",
     "text": [
      "Saved data\n",
      "\n",
      "idate: 2023-04-22 14:00:00.000 , fdate: 2023-04-22 15:00:00.000\n"
     ]
    },
    {
     "name": "stderr",
     "output_type": "stream",
     "text": [
      " 86%|████████▋ | 1263/1463 [40:39<06:14,  1.87s/it]"
     ]
    },
    {
     "name": "stdout",
     "output_type": "stream",
     "text": [
      "Saved data\n",
      "\n",
      "idate: 2023-04-22 15:00:00.000 , fdate: 2023-04-22 16:00:00.000\n"
     ]
    },
    {
     "name": "stderr",
     "output_type": "stream",
     "text": [
      " 86%|████████▋ | 1264/1463 [40:41<06:10,  1.86s/it]"
     ]
    },
    {
     "name": "stdout",
     "output_type": "stream",
     "text": [
      "Saved data\n",
      "\n",
      "idate: 2023-04-22 16:00:00.000 , fdate: 2023-04-22 17:00:00.000\n"
     ]
    },
    {
     "name": "stderr",
     "output_type": "stream",
     "text": [
      " 86%|████████▋ | 1265/1463 [40:43<06:09,  1.86s/it]"
     ]
    },
    {
     "name": "stdout",
     "output_type": "stream",
     "text": [
      "Saved data\n",
      "\n",
      "idate: 2023-04-22 17:00:00.000 , fdate: 2023-04-22 18:00:00.000\n"
     ]
    },
    {
     "name": "stderr",
     "output_type": "stream",
     "text": [
      " 87%|████████▋ | 1266/1463 [40:44<06:04,  1.85s/it]"
     ]
    },
    {
     "name": "stdout",
     "output_type": "stream",
     "text": [
      "Saved data\n",
      "\n",
      "idate: 2023-04-22 18:00:00.000 , fdate: 2023-04-22 19:00:00.000\n"
     ]
    },
    {
     "name": "stderr",
     "output_type": "stream",
     "text": [
      " 87%|████████▋ | 1267/1463 [40:46<06:10,  1.89s/it]"
     ]
    },
    {
     "name": "stdout",
     "output_type": "stream",
     "text": [
      "Saved data\n",
      "\n",
      "idate: 2023-04-22 19:00:00.000 , fdate: 2023-04-22 20:00:00.000\n"
     ]
    },
    {
     "name": "stderr",
     "output_type": "stream",
     "text": [
      " 87%|████████▋ | 1268/1463 [40:48<06:04,  1.87s/it]"
     ]
    },
    {
     "name": "stdout",
     "output_type": "stream",
     "text": [
      "Saved data\n",
      "\n",
      "idate: 2023-04-22 20:00:00.000 , fdate: 2023-04-22 21:00:00.000\n"
     ]
    },
    {
     "name": "stderr",
     "output_type": "stream",
     "text": [
      " 87%|████████▋ | 1269/1463 [40:50<06:00,  1.86s/it]"
     ]
    },
    {
     "name": "stdout",
     "output_type": "stream",
     "text": [
      "Saved data\n",
      "\n",
      "idate: 2023-04-22 21:00:00.000 , fdate: 2023-04-22 22:00:00.000\n"
     ]
    },
    {
     "name": "stderr",
     "output_type": "stream",
     "text": [
      " 87%|████████▋ | 1270/1463 [40:52<06:01,  1.88s/it]"
     ]
    },
    {
     "name": "stdout",
     "output_type": "stream",
     "text": [
      "Saved data\n",
      "\n",
      "idate: 2023-04-22 22:00:00.000 , fdate: 2023-04-22 23:00:00.000\n"
     ]
    },
    {
     "name": "stderr",
     "output_type": "stream",
     "text": [
      " 87%|████████▋ | 1271/1463 [40:54<05:56,  1.86s/it]"
     ]
    },
    {
     "name": "stdout",
     "output_type": "stream",
     "text": [
      "Saved data\n",
      "\n",
      "idate: 2023-04-22 23:00:00.000 , fdate: 2023-04-23 00:00:00.000\n"
     ]
    },
    {
     "name": "stderr",
     "output_type": "stream",
     "text": [
      " 87%|████████▋ | 1272/1463 [40:56<05:48,  1.82s/it]"
     ]
    },
    {
     "name": "stdout",
     "output_type": "stream",
     "text": [
      "Saved data\n",
      "\n",
      "idate: 2023-04-23 00:00:00.000 , fdate: 2023-04-23 01:00:00.000\n"
     ]
    },
    {
     "name": "stderr",
     "output_type": "stream",
     "text": [
      " 87%|████████▋ | 1273/1463 [40:57<05:37,  1.77s/it]"
     ]
    },
    {
     "name": "stdout",
     "output_type": "stream",
     "text": [
      "Saved data\n",
      "\n",
      "idate: 2023-04-23 01:00:00.000 , fdate: 2023-04-23 02:00:00.000\n"
     ]
    },
    {
     "name": "stderr",
     "output_type": "stream",
     "text": [
      " 87%|████████▋ | 1274/1463 [40:59<05:31,  1.75s/it]"
     ]
    },
    {
     "name": "stdout",
     "output_type": "stream",
     "text": [
      "Saved data\n",
      "\n",
      "idate: 2023-04-23 02:00:00.000 , fdate: 2023-04-23 03:00:00.000\n"
     ]
    },
    {
     "name": "stderr",
     "output_type": "stream",
     "text": [
      " 87%|████████▋ | 1275/1463 [41:01<05:28,  1.75s/it]"
     ]
    },
    {
     "name": "stdout",
     "output_type": "stream",
     "text": [
      "Saved data\n",
      "\n",
      "idate: 2023-04-23 03:00:00.000 , fdate: 2023-04-23 04:00:00.000\n"
     ]
    },
    {
     "name": "stderr",
     "output_type": "stream",
     "text": [
      " 87%|████████▋ | 1276/1463 [41:02<05:22,  1.72s/it]"
     ]
    },
    {
     "name": "stdout",
     "output_type": "stream",
     "text": [
      "Saved data\n",
      "\n",
      "idate: 2023-04-23 04:00:00.000 , fdate: 2023-04-23 05:00:00.000\n"
     ]
    },
    {
     "name": "stderr",
     "output_type": "stream",
     "text": [
      " 87%|████████▋ | 1277/1463 [41:04<05:14,  1.69s/it]"
     ]
    },
    {
     "name": "stdout",
     "output_type": "stream",
     "text": [
      "Saved data\n",
      "\n",
      "idate: 2023-04-23 05:00:00.000 , fdate: 2023-04-23 06:00:00.000\n"
     ]
    },
    {
     "name": "stderr",
     "output_type": "stream",
     "text": [
      " 87%|████████▋ | 1278/1463 [41:06<05:07,  1.66s/it]"
     ]
    },
    {
     "name": "stdout",
     "output_type": "stream",
     "text": [
      "Saved data\n",
      "\n",
      "idate: 2023-04-23 06:00:00.000 , fdate: 2023-04-23 07:00:00.000\n"
     ]
    },
    {
     "name": "stderr",
     "output_type": "stream",
     "text": [
      " 87%|████████▋ | 1279/1463 [41:07<05:09,  1.68s/it]"
     ]
    },
    {
     "name": "stdout",
     "output_type": "stream",
     "text": [
      "Saved data\n",
      "\n",
      "idate: 2023-04-23 07:00:00.000 , fdate: 2023-04-23 08:00:00.000\n"
     ]
    },
    {
     "name": "stderr",
     "output_type": "stream",
     "text": [
      " 87%|████████▋ | 1280/1463 [41:09<05:07,  1.68s/it]"
     ]
    },
    {
     "name": "stdout",
     "output_type": "stream",
     "text": [
      "Saved data\n",
      "\n",
      "idate: 2023-04-23 08:00:00.000 , fdate: 2023-04-23 09:00:00.000\n"
     ]
    },
    {
     "name": "stderr",
     "output_type": "stream",
     "text": [
      " 88%|████████▊ | 1281/1463 [41:11<05:07,  1.69s/it]"
     ]
    },
    {
     "name": "stdout",
     "output_type": "stream",
     "text": [
      "Saved data\n",
      "\n",
      "idate: 2023-04-23 09:00:00.000 , fdate: 2023-04-23 10:00:00.000\n"
     ]
    },
    {
     "name": "stderr",
     "output_type": "stream",
     "text": [
      " 88%|████████▊ | 1282/1463 [41:13<05:17,  1.75s/it]"
     ]
    },
    {
     "name": "stdout",
     "output_type": "stream",
     "text": [
      "Saved data\n",
      "\n",
      "idate: 2023-04-23 10:00:00.000 , fdate: 2023-04-23 11:00:00.000\n"
     ]
    },
    {
     "name": "stderr",
     "output_type": "stream",
     "text": [
      " 88%|████████▊ | 1283/1463 [41:14<05:17,  1.77s/it]"
     ]
    },
    {
     "name": "stdout",
     "output_type": "stream",
     "text": [
      "Saved data\n",
      "\n",
      "idate: 2023-04-23 11:00:00.000 , fdate: 2023-04-23 12:00:00.000\n"
     ]
    },
    {
     "name": "stderr",
     "output_type": "stream",
     "text": [
      " 88%|████████▊ | 1284/1463 [41:16<05:21,  1.80s/it]"
     ]
    },
    {
     "name": "stdout",
     "output_type": "stream",
     "text": [
      "Saved data\n",
      "\n",
      "idate: 2023-04-23 12:00:00.000 , fdate: 2023-04-23 13:00:00.000\n"
     ]
    },
    {
     "name": "stderr",
     "output_type": "stream",
     "text": [
      " 88%|████████▊ | 1285/1463 [41:18<05:26,  1.83s/it]"
     ]
    },
    {
     "name": "stdout",
     "output_type": "stream",
     "text": [
      "Saved data\n",
      "\n",
      "idate: 2023-04-23 13:00:00.000 , fdate: 2023-04-23 14:00:00.000\n"
     ]
    },
    {
     "name": "stderr",
     "output_type": "stream",
     "text": [
      " 88%|████████▊ | 1286/1463 [41:20<05:28,  1.85s/it]"
     ]
    },
    {
     "name": "stdout",
     "output_type": "stream",
     "text": [
      "Saved data\n",
      "\n",
      "idate: 2023-04-23 14:00:00.000 , fdate: 2023-04-23 15:00:00.000\n"
     ]
    },
    {
     "name": "stderr",
     "output_type": "stream",
     "text": [
      " 88%|████████▊ | 1287/1463 [41:22<05:29,  1.87s/it]"
     ]
    },
    {
     "name": "stdout",
     "output_type": "stream",
     "text": [
      "Saved data\n",
      "\n",
      "idate: 2023-04-23 15:00:00.000 , fdate: 2023-04-23 16:00:00.000\n"
     ]
    },
    {
     "name": "stderr",
     "output_type": "stream",
     "text": [
      " 88%|████████▊ | 1288/1463 [41:24<05:31,  1.89s/it]"
     ]
    },
    {
     "name": "stdout",
     "output_type": "stream",
     "text": [
      "Saved data\n",
      "\n",
      "idate: 2023-04-23 16:00:00.000 , fdate: 2023-04-23 17:00:00.000\n"
     ]
    },
    {
     "name": "stderr",
     "output_type": "stream",
     "text": [
      " 88%|████████▊ | 1289/1463 [41:26<05:30,  1.90s/it]"
     ]
    },
    {
     "name": "stdout",
     "output_type": "stream",
     "text": [
      "Saved data\n",
      "\n",
      "idate: 2023-04-23 17:00:00.000 , fdate: 2023-04-23 18:00:00.000\n"
     ]
    },
    {
     "name": "stderr",
     "output_type": "stream",
     "text": [
      " 88%|████████▊ | 1290/1463 [41:28<05:29,  1.90s/it]"
     ]
    },
    {
     "name": "stdout",
     "output_type": "stream",
     "text": [
      "Saved data\n",
      "\n",
      "idate: 2023-04-23 18:00:00.000 , fdate: 2023-04-23 19:00:00.000\n"
     ]
    },
    {
     "name": "stderr",
     "output_type": "stream",
     "text": [
      " 88%|████████▊ | 1291/1463 [41:30<05:29,  1.92s/it]"
     ]
    },
    {
     "name": "stdout",
     "output_type": "stream",
     "text": [
      "Saved data\n",
      "\n",
      "idate: 2023-04-23 19:00:00.000 , fdate: 2023-04-23 20:00:00.000\n"
     ]
    },
    {
     "name": "stderr",
     "output_type": "stream",
     "text": [
      " 88%|████████▊ | 1292/1463 [41:31<05:21,  1.88s/it]"
     ]
    },
    {
     "name": "stdout",
     "output_type": "stream",
     "text": [
      "Saved data\n",
      "\n",
      "idate: 2023-04-23 20:00:00.000 , fdate: 2023-04-23 21:00:00.000\n"
     ]
    },
    {
     "name": "stderr",
     "output_type": "stream",
     "text": [
      " 88%|████████▊ | 1293/1463 [41:33<05:20,  1.89s/it]"
     ]
    },
    {
     "name": "stdout",
     "output_type": "stream",
     "text": [
      "Saved data\n",
      "\n",
      "idate: 2023-04-23 21:00:00.000 , fdate: 2023-04-23 22:00:00.000\n"
     ]
    },
    {
     "name": "stderr",
     "output_type": "stream",
     "text": [
      " 88%|████████▊ | 1294/1463 [41:36<05:33,  1.97s/it]"
     ]
    },
    {
     "name": "stdout",
     "output_type": "stream",
     "text": [
      "Saved data\n",
      "\n",
      "idate: 2023-04-23 22:00:00.000 , fdate: 2023-04-23 23:00:00.000\n"
     ]
    },
    {
     "name": "stderr",
     "output_type": "stream",
     "text": [
      " 89%|████████▊ | 1295/1463 [41:38<05:32,  1.98s/it]"
     ]
    },
    {
     "name": "stdout",
     "output_type": "stream",
     "text": [
      "Saved data\n",
      "\n",
      "idate: 2023-04-23 23:00:00.000 , fdate: 2023-04-24 00:00:00.000\n"
     ]
    },
    {
     "name": "stderr",
     "output_type": "stream",
     "text": [
      " 89%|████████▊ | 1296/1463 [41:39<05:24,  1.94s/it]"
     ]
    },
    {
     "name": "stdout",
     "output_type": "stream",
     "text": [
      "Saved data\n",
      "\n",
      "idate: 2023-04-24 00:00:00.000 , fdate: 2023-04-24 01:00:00.000\n"
     ]
    },
    {
     "name": "stderr",
     "output_type": "stream",
     "text": [
      " 89%|████████▊ | 1297/1463 [41:41<05:14,  1.90s/it]"
     ]
    },
    {
     "name": "stdout",
     "output_type": "stream",
     "text": [
      "Saved data\n",
      "\n",
      "idate: 2023-04-24 01:00:00.000 , fdate: 2023-04-24 02:00:00.000\n"
     ]
    },
    {
     "name": "stderr",
     "output_type": "stream",
     "text": [
      " 89%|████████▊ | 1298/1463 [41:43<05:12,  1.89s/it]"
     ]
    },
    {
     "name": "stdout",
     "output_type": "stream",
     "text": [
      "Saved data\n",
      "\n",
      "idate: 2023-04-24 02:00:00.000 , fdate: 2023-04-24 03:00:00.000\n"
     ]
    },
    {
     "name": "stderr",
     "output_type": "stream",
     "text": [
      " 89%|████████▉ | 1299/1463 [41:45<05:10,  1.89s/it]"
     ]
    },
    {
     "name": "stdout",
     "output_type": "stream",
     "text": [
      "Saved data\n",
      "\n",
      "idate: 2023-04-24 03:00:00.000 , fdate: 2023-04-24 04:00:00.000\n"
     ]
    },
    {
     "name": "stderr",
     "output_type": "stream",
     "text": [
      " 89%|████████▉ | 1300/1463 [41:47<05:01,  1.85s/it]"
     ]
    },
    {
     "name": "stdout",
     "output_type": "stream",
     "text": [
      "Saved data\n",
      "\n",
      "idate: 2023-04-24 04:00:00.000 , fdate: 2023-04-24 05:00:00.000\n"
     ]
    },
    {
     "name": "stderr",
     "output_type": "stream",
     "text": [
      " 89%|████████▉ | 1301/1463 [41:48<04:51,  1.80s/it]"
     ]
    },
    {
     "name": "stdout",
     "output_type": "stream",
     "text": [
      "Saved data\n",
      "\n",
      "idate: 2023-04-24 05:00:00.000 , fdate: 2023-04-24 06:00:00.000\n"
     ]
    },
    {
     "name": "stderr",
     "output_type": "stream",
     "text": [
      " 89%|████████▉ | 1302/1463 [41:50<04:42,  1.76s/it]"
     ]
    },
    {
     "name": "stdout",
     "output_type": "stream",
     "text": [
      "Saved data\n",
      "\n",
      "idate: 2023-04-24 06:00:00.000 , fdate: 2023-04-24 07:00:00.000\n"
     ]
    },
    {
     "name": "stderr",
     "output_type": "stream",
     "text": [
      " 89%|████████▉ | 1303/1463 [41:52<04:37,  1.74s/it]"
     ]
    },
    {
     "name": "stdout",
     "output_type": "stream",
     "text": [
      "Saved data\n",
      "\n",
      "idate: 2023-04-24 07:00:00.000 , fdate: 2023-04-24 08:00:00.000\n"
     ]
    },
    {
     "name": "stderr",
     "output_type": "stream",
     "text": [
      " 89%|████████▉ | 1304/1463 [41:53<04:35,  1.73s/it]"
     ]
    },
    {
     "name": "stdout",
     "output_type": "stream",
     "text": [
      "Saved data\n",
      "\n",
      "idate: 2023-04-24 08:00:00.000 , fdate: 2023-04-24 09:00:00.000\n"
     ]
    },
    {
     "name": "stderr",
     "output_type": "stream",
     "text": [
      " 89%|████████▉ | 1305/1463 [41:55<04:38,  1.76s/it]"
     ]
    },
    {
     "name": "stdout",
     "output_type": "stream",
     "text": [
      "Saved data\n",
      "\n",
      "idate: 2023-04-24 09:00:00.000 , fdate: 2023-04-24 10:00:00.000\n"
     ]
    },
    {
     "name": "stderr",
     "output_type": "stream",
     "text": [
      " 89%|████████▉ | 1306/1463 [41:57<04:52,  1.86s/it]"
     ]
    },
    {
     "name": "stdout",
     "output_type": "stream",
     "text": [
      "Saved data\n",
      "\n",
      "idate: 2023-04-24 10:00:00.000 , fdate: 2023-04-24 11:00:00.000\n"
     ]
    },
    {
     "name": "stderr",
     "output_type": "stream",
     "text": [
      " 89%|████████▉ | 1307/1463 [41:59<04:57,  1.91s/it]"
     ]
    },
    {
     "name": "stdout",
     "output_type": "stream",
     "text": [
      "Saved data\n",
      "\n",
      "idate: 2023-04-24 11:00:00.000 , fdate: 2023-04-24 12:00:00.000\n"
     ]
    },
    {
     "name": "stderr",
     "output_type": "stream",
     "text": [
      " 89%|████████▉ | 1308/1463 [42:01<04:56,  1.91s/it]"
     ]
    },
    {
     "name": "stdout",
     "output_type": "stream",
     "text": [
      "Saved data\n",
      "\n",
      "idate: 2023-04-24 12:00:00.000 , fdate: 2023-04-24 13:00:00.000\n"
     ]
    },
    {
     "name": "stderr",
     "output_type": "stream",
     "text": [
      " 89%|████████▉ | 1309/1463 [42:03<05:04,  1.98s/it]"
     ]
    },
    {
     "name": "stdout",
     "output_type": "stream",
     "text": [
      "Saved data\n",
      "\n",
      "idate: 2023-04-24 13:00:00.000 , fdate: 2023-04-24 14:00:00.000\n"
     ]
    },
    {
     "name": "stderr",
     "output_type": "stream",
     "text": [
      " 90%|████████▉ | 1310/1463 [42:06<05:06,  2.00s/it]"
     ]
    },
    {
     "name": "stdout",
     "output_type": "stream",
     "text": [
      "Saved data\n",
      "\n",
      "idate: 2023-04-24 14:00:00.000 , fdate: 2023-04-24 15:00:00.000\n"
     ]
    },
    {
     "name": "stderr",
     "output_type": "stream",
     "text": [
      " 90%|████████▉ | 1311/1463 [42:08<05:03,  2.00s/it]"
     ]
    },
    {
     "name": "stdout",
     "output_type": "stream",
     "text": [
      "Saved data\n",
      "\n",
      "idate: 2023-04-24 15:00:00.000 , fdate: 2023-04-24 16:00:00.000\n"
     ]
    },
    {
     "name": "stderr",
     "output_type": "stream",
     "text": [
      " 90%|████████▉ | 1312/1463 [42:09<05:00,  1.99s/it]"
     ]
    },
    {
     "name": "stdout",
     "output_type": "stream",
     "text": [
      "Saved data\n",
      "\n",
      "idate: 2023-04-24 16:00:00.000 , fdate: 2023-04-24 17:00:00.000\n"
     ]
    },
    {
     "name": "stderr",
     "output_type": "stream",
     "text": [
      " 90%|████████▉ | 1313/1463 [42:12<05:00,  2.00s/it]"
     ]
    },
    {
     "name": "stdout",
     "output_type": "stream",
     "text": [
      "Saved data\n",
      "\n",
      "idate: 2023-04-24 17:00:00.000 , fdate: 2023-04-24 18:00:00.000\n"
     ]
    },
    {
     "name": "stderr",
     "output_type": "stream",
     "text": [
      " 90%|████████▉ | 1314/1463 [42:13<04:56,  1.99s/it]"
     ]
    },
    {
     "name": "stdout",
     "output_type": "stream",
     "text": [
      "Saved data\n",
      "\n",
      "idate: 2023-04-24 18:00:00.000 , fdate: 2023-04-24 19:00:00.000\n"
     ]
    },
    {
     "name": "stderr",
     "output_type": "stream",
     "text": [
      " 90%|████████▉ | 1315/1463 [42:16<04:56,  2.00s/it]"
     ]
    },
    {
     "name": "stdout",
     "output_type": "stream",
     "text": [
      "Saved data\n",
      "\n",
      "idate: 2023-04-24 19:00:00.000 , fdate: 2023-04-24 20:00:00.000\n"
     ]
    },
    {
     "name": "stderr",
     "output_type": "stream",
     "text": [
      " 90%|████████▉ | 1316/1463 [42:18<04:54,  2.00s/it]"
     ]
    },
    {
     "name": "stdout",
     "output_type": "stream",
     "text": [
      "Saved data\n",
      "\n",
      "idate: 2023-04-24 20:00:00.000 , fdate: 2023-04-24 21:00:00.000\n"
     ]
    },
    {
     "name": "stderr",
     "output_type": "stream",
     "text": [
      " 90%|█████████ | 1317/1463 [42:20<04:53,  2.01s/it]"
     ]
    },
    {
     "name": "stdout",
     "output_type": "stream",
     "text": [
      "Saved data\n",
      "\n",
      "idate: 2023-04-24 21:00:00.000 , fdate: 2023-04-24 22:00:00.000\n"
     ]
    },
    {
     "name": "stderr",
     "output_type": "stream",
     "text": [
      " 90%|█████████ | 1318/1463 [42:22<04:56,  2.05s/it]"
     ]
    },
    {
     "name": "stdout",
     "output_type": "stream",
     "text": [
      "Saved data\n",
      "\n",
      "idate: 2023-04-24 22:00:00.000 , fdate: 2023-04-24 23:00:00.000\n"
     ]
    },
    {
     "name": "stderr",
     "output_type": "stream",
     "text": [
      " 90%|█████████ | 1319/1463 [42:24<04:52,  2.03s/it]"
     ]
    },
    {
     "name": "stdout",
     "output_type": "stream",
     "text": [
      "Saved data\n",
      "\n",
      "idate: 2023-04-24 23:00:00.000 , fdate: 2023-04-25 00:00:00.000\n"
     ]
    },
    {
     "name": "stderr",
     "output_type": "stream",
     "text": [
      " 90%|█████████ | 1320/1463 [42:25<04:41,  1.97s/it]"
     ]
    },
    {
     "name": "stdout",
     "output_type": "stream",
     "text": [
      "Saved data\n",
      "\n",
      "idate: 2023-04-25 00:00:00.000 , fdate: 2023-04-25 01:00:00.000\n"
     ]
    },
    {
     "name": "stderr",
     "output_type": "stream",
     "text": [
      " 90%|█████████ | 1321/1463 [42:27<04:31,  1.91s/it]"
     ]
    },
    {
     "name": "stdout",
     "output_type": "stream",
     "text": [
      "Saved data\n",
      "\n",
      "idate: 2023-04-25 01:00:00.000 , fdate: 2023-04-25 02:00:00.000\n"
     ]
    },
    {
     "name": "stderr",
     "output_type": "stream",
     "text": [
      " 90%|█████████ | 1322/1463 [42:29<04:27,  1.90s/it]"
     ]
    },
    {
     "name": "stdout",
     "output_type": "stream",
     "text": [
      "Saved data\n",
      "\n",
      "idate: 2023-04-25 02:00:00.000 , fdate: 2023-04-25 03:00:00.000\n"
     ]
    },
    {
     "name": "stderr",
     "output_type": "stream",
     "text": [
      " 90%|█████████ | 1323/1463 [42:31<04:21,  1.87s/it]"
     ]
    },
    {
     "name": "stdout",
     "output_type": "stream",
     "text": [
      "Saved data\n",
      "\n",
      "idate: 2023-04-25 03:00:00.000 , fdate: 2023-04-25 04:00:00.000\n"
     ]
    },
    {
     "name": "stderr",
     "output_type": "stream",
     "text": [
      " 90%|█████████ | 1324/1463 [42:33<04:16,  1.84s/it]"
     ]
    },
    {
     "name": "stdout",
     "output_type": "stream",
     "text": [
      "Saved data\n",
      "\n",
      "idate: 2023-04-25 04:00:00.000 , fdate: 2023-04-25 05:00:00.000\n"
     ]
    },
    {
     "name": "stderr",
     "output_type": "stream",
     "text": [
      " 91%|█████████ | 1325/1463 [42:34<04:07,  1.79s/it]"
     ]
    },
    {
     "name": "stdout",
     "output_type": "stream",
     "text": [
      "Saved data\n",
      "\n",
      "idate: 2023-04-25 05:00:00.000 , fdate: 2023-04-25 06:00:00.000\n"
     ]
    },
    {
     "name": "stderr",
     "output_type": "stream",
     "text": [
      " 91%|█████████ | 1326/1463 [42:36<03:57,  1.73s/it]"
     ]
    },
    {
     "name": "stdout",
     "output_type": "stream",
     "text": [
      "Saved data\n",
      "\n",
      "idate: 2023-04-25 06:00:00.000 , fdate: 2023-04-25 07:00:00.000\n"
     ]
    },
    {
     "name": "stderr",
     "output_type": "stream",
     "text": [
      " 91%|█████████ | 1327/1463 [42:38<03:55,  1.73s/it]"
     ]
    },
    {
     "name": "stdout",
     "output_type": "stream",
     "text": [
      "Saved data\n",
      "\n",
      "idate: 2023-04-25 07:00:00.000 , fdate: 2023-04-25 08:00:00.000\n"
     ]
    },
    {
     "name": "stderr",
     "output_type": "stream",
     "text": [
      " 91%|█████████ | 1328/1463 [42:39<03:53,  1.73s/it]"
     ]
    },
    {
     "name": "stdout",
     "output_type": "stream",
     "text": [
      "Saved data\n",
      "\n",
      "idate: 2023-04-25 08:00:00.000 , fdate: 2023-04-25 09:00:00.000\n"
     ]
    },
    {
     "name": "stderr",
     "output_type": "stream",
     "text": [
      " 91%|█████████ | 1329/1463 [42:41<03:54,  1.75s/it]"
     ]
    },
    {
     "name": "stdout",
     "output_type": "stream",
     "text": [
      "Saved data\n",
      "\n",
      "idate: 2023-04-25 09:00:00.000 , fdate: 2023-04-25 10:00:00.000\n"
     ]
    },
    {
     "name": "stderr",
     "output_type": "stream",
     "text": [
      " 91%|█████████ | 1330/1463 [42:43<04:04,  1.84s/it]"
     ]
    },
    {
     "name": "stdout",
     "output_type": "stream",
     "text": [
      "Saved data\n",
      "\n",
      "idate: 2023-04-25 10:00:00.000 , fdate: 2023-04-25 11:00:00.000\n"
     ]
    },
    {
     "name": "stderr",
     "output_type": "stream",
     "text": [
      " 91%|█████████ | 1331/1463 [42:45<04:06,  1.87s/it]"
     ]
    },
    {
     "name": "stdout",
     "output_type": "stream",
     "text": [
      "Saved data\n",
      "\n",
      "idate: 2023-04-25 11:00:00.000 , fdate: 2023-04-25 12:00:00.000\n"
     ]
    },
    {
     "name": "stderr",
     "output_type": "stream",
     "text": [
      " 91%|█████████ | 1332/1463 [42:47<04:08,  1.90s/it]"
     ]
    },
    {
     "name": "stdout",
     "output_type": "stream",
     "text": [
      "Saved data\n",
      "\n",
      "idate: 2023-04-25 12:00:00.000 , fdate: 2023-04-25 13:00:00.000\n"
     ]
    },
    {
     "name": "stderr",
     "output_type": "stream",
     "text": [
      " 91%|█████████ | 1333/1463 [42:49<04:16,  1.98s/it]"
     ]
    },
    {
     "name": "stdout",
     "output_type": "stream",
     "text": [
      "Saved data\n",
      "\n",
      "idate: 2023-04-25 13:00:00.000 , fdate: 2023-04-25 14:00:00.000\n"
     ]
    },
    {
     "name": "stderr",
     "output_type": "stream",
     "text": [
      " 91%|█████████ | 1334/1463 [42:51<04:16,  1.99s/it]"
     ]
    },
    {
     "name": "stdout",
     "output_type": "stream",
     "text": [
      "Saved data\n",
      "\n",
      "idate: 2023-04-25 14:00:00.000 , fdate: 2023-04-25 15:00:00.000\n"
     ]
    },
    {
     "name": "stderr",
     "output_type": "stream",
     "text": [
      " 91%|█████████▏| 1335/1463 [42:53<04:16,  2.00s/it]"
     ]
    },
    {
     "name": "stdout",
     "output_type": "stream",
     "text": [
      "Saved data\n",
      "\n",
      "idate: 2023-04-25 15:00:00.000 , fdate: 2023-04-25 16:00:00.000\n"
     ]
    },
    {
     "name": "stderr",
     "output_type": "stream",
     "text": [
      " 91%|█████████▏| 1336/1463 [42:55<04:13,  2.00s/it]"
     ]
    },
    {
     "name": "stdout",
     "output_type": "stream",
     "text": [
      "Saved data\n",
      "\n",
      "idate: 2023-04-25 16:00:00.000 , fdate: 2023-04-25 17:00:00.000\n"
     ]
    },
    {
     "name": "stderr",
     "output_type": "stream",
     "text": [
      " 91%|█████████▏| 1337/1463 [42:58<04:15,  2.03s/it]"
     ]
    },
    {
     "name": "stdout",
     "output_type": "stream",
     "text": [
      "Saved data\n",
      "\n",
      "idate: 2023-04-25 17:00:00.000 , fdate: 2023-04-25 18:00:00.000\n"
     ]
    },
    {
     "name": "stderr",
     "output_type": "stream",
     "text": [
      " 91%|█████████▏| 1338/1463 [43:00<04:16,  2.05s/it]"
     ]
    },
    {
     "name": "stdout",
     "output_type": "stream",
     "text": [
      "Saved data\n",
      "\n",
      "idate: 2023-04-25 18:00:00.000 , fdate: 2023-04-25 19:00:00.000\n"
     ]
    },
    {
     "name": "stderr",
     "output_type": "stream",
     "text": [
      " 92%|█████████▏| 1339/1463 [43:02<04:11,  2.03s/it]"
     ]
    },
    {
     "name": "stdout",
     "output_type": "stream",
     "text": [
      "Saved data\n",
      "\n",
      "idate: 2023-04-25 19:00:00.000 , fdate: 2023-04-25 20:00:00.000\n"
     ]
    },
    {
     "name": "stderr",
     "output_type": "stream",
     "text": [
      " 92%|█████████▏| 1340/1463 [43:04<04:12,  2.05s/it]"
     ]
    },
    {
     "name": "stdout",
     "output_type": "stream",
     "text": [
      "Saved data\n",
      "\n",
      "idate: 2023-04-25 20:00:00.000 , fdate: 2023-04-25 21:00:00.000\n"
     ]
    },
    {
     "name": "stderr",
     "output_type": "stream",
     "text": [
      " 92%|█████████▏| 1341/1463 [43:06<04:07,  2.03s/it]"
     ]
    },
    {
     "name": "stdout",
     "output_type": "stream",
     "text": [
      "Saved data\n",
      "\n",
      "idate: 2023-04-25 21:00:00.000 , fdate: 2023-04-25 22:00:00.000\n"
     ]
    },
    {
     "name": "stderr",
     "output_type": "stream",
     "text": [
      " 92%|█████████▏| 1342/1463 [43:08<04:05,  2.03s/it]"
     ]
    },
    {
     "name": "stdout",
     "output_type": "stream",
     "text": [
      "Saved data\n",
      "\n",
      "idate: 2023-04-25 22:00:00.000 , fdate: 2023-04-25 23:00:00.000\n"
     ]
    },
    {
     "name": "stderr",
     "output_type": "stream",
     "text": [
      " 92%|█████████▏| 1343/1463 [43:10<04:03,  2.03s/it]"
     ]
    },
    {
     "name": "stdout",
     "output_type": "stream",
     "text": [
      "Saved data\n",
      "\n",
      "idate: 2023-04-25 23:00:00.000 , fdate: 2023-04-26 00:00:00.000\n"
     ]
    },
    {
     "name": "stderr",
     "output_type": "stream",
     "text": [
      " 92%|█████████▏| 1344/1463 [43:12<03:54,  1.97s/it]"
     ]
    },
    {
     "name": "stdout",
     "output_type": "stream",
     "text": [
      "Saved data\n",
      "\n",
      "idate: 2023-04-26 00:00:00.000 , fdate: 2023-04-26 01:00:00.000\n"
     ]
    },
    {
     "name": "stderr",
     "output_type": "stream",
     "text": [
      " 92%|█████████▏| 1345/1463 [43:13<03:48,  1.94s/it]"
     ]
    },
    {
     "name": "stdout",
     "output_type": "stream",
     "text": [
      "Saved data\n",
      "\n",
      "idate: 2023-04-26 01:00:00.000 , fdate: 2023-04-26 02:00:00.000\n"
     ]
    },
    {
     "name": "stderr",
     "output_type": "stream",
     "text": [
      " 92%|█████████▏| 1346/1463 [43:15<03:45,  1.92s/it]"
     ]
    },
    {
     "name": "stdout",
     "output_type": "stream",
     "text": [
      "Saved data\n",
      "\n",
      "idate: 2023-04-26 02:00:00.000 , fdate: 2023-04-26 03:00:00.000\n"
     ]
    },
    {
     "name": "stderr",
     "output_type": "stream",
     "text": [
      " 92%|█████████▏| 1347/1463 [43:17<03:39,  1.89s/it]"
     ]
    },
    {
     "name": "stdout",
     "output_type": "stream",
     "text": [
      "Saved data\n",
      "\n",
      "idate: 2023-04-26 03:00:00.000 , fdate: 2023-04-26 04:00:00.000\n"
     ]
    },
    {
     "name": "stderr",
     "output_type": "stream",
     "text": [
      " 92%|█████████▏| 1348/1463 [43:19<03:34,  1.86s/it]"
     ]
    },
    {
     "name": "stdout",
     "output_type": "stream",
     "text": [
      "Saved data\n",
      "\n",
      "idate: 2023-04-26 04:00:00.000 , fdate: 2023-04-26 05:00:00.000\n"
     ]
    },
    {
     "name": "stderr",
     "output_type": "stream",
     "text": [
      " 92%|█████████▏| 1349/1463 [43:21<03:26,  1.81s/it]"
     ]
    },
    {
     "name": "stdout",
     "output_type": "stream",
     "text": [
      "Saved data\n",
      "\n",
      "idate: 2023-04-26 05:00:00.000 , fdate: 2023-04-26 06:00:00.000\n"
     ]
    },
    {
     "name": "stderr",
     "output_type": "stream",
     "text": [
      " 92%|█████████▏| 1350/1463 [43:22<03:17,  1.75s/it]"
     ]
    },
    {
     "name": "stdout",
     "output_type": "stream",
     "text": [
      "Saved data\n",
      "\n",
      "idate: 2023-04-26 06:00:00.000 , fdate: 2023-04-26 07:00:00.000\n"
     ]
    },
    {
     "name": "stderr",
     "output_type": "stream",
     "text": [
      " 92%|█████████▏| 1351/1463 [43:24<03:12,  1.72s/it]"
     ]
    },
    {
     "name": "stdout",
     "output_type": "stream",
     "text": [
      "Saved data\n",
      "\n",
      "idate: 2023-04-26 07:00:00.000 , fdate: 2023-04-26 08:00:00.000\n"
     ]
    },
    {
     "name": "stderr",
     "output_type": "stream",
     "text": [
      " 92%|█████████▏| 1352/1463 [43:26<03:12,  1.73s/it]"
     ]
    },
    {
     "name": "stdout",
     "output_type": "stream",
     "text": [
      "Saved data\n",
      "\n",
      "idate: 2023-04-26 08:00:00.000 , fdate: 2023-04-26 09:00:00.000\n"
     ]
    },
    {
     "name": "stderr",
     "output_type": "stream",
     "text": [
      " 92%|█████████▏| 1353/1463 [43:27<03:12,  1.75s/it]"
     ]
    },
    {
     "name": "stdout",
     "output_type": "stream",
     "text": [
      "Saved data\n",
      "\n",
      "idate: 2023-04-26 09:00:00.000 , fdate: 2023-04-26 10:00:00.000\n"
     ]
    },
    {
     "name": "stderr",
     "output_type": "stream",
     "text": [
      " 93%|█████████▎| 1354/1463 [43:29<03:18,  1.82s/it]"
     ]
    },
    {
     "name": "stdout",
     "output_type": "stream",
     "text": [
      "Saved data\n",
      "\n",
      "idate: 2023-04-26 10:00:00.000 , fdate: 2023-04-26 11:00:00.000\n"
     ]
    },
    {
     "name": "stderr",
     "output_type": "stream",
     "text": [
      " 93%|█████████▎| 1355/1463 [43:31<03:23,  1.88s/it]"
     ]
    },
    {
     "name": "stdout",
     "output_type": "stream",
     "text": [
      "Saved data\n",
      "\n",
      "idate: 2023-04-26 11:00:00.000 , fdate: 2023-04-26 12:00:00.000\n"
     ]
    },
    {
     "name": "stderr",
     "output_type": "stream",
     "text": [
      " 93%|█████████▎| 1356/1463 [43:33<03:23,  1.90s/it]"
     ]
    },
    {
     "name": "stdout",
     "output_type": "stream",
     "text": [
      "Saved data\n",
      "\n",
      "idate: 2023-04-26 12:00:00.000 , fdate: 2023-04-26 13:00:00.000\n"
     ]
    },
    {
     "name": "stderr",
     "output_type": "stream",
     "text": [
      " 93%|█████████▎| 1357/1463 [43:35<03:25,  1.94s/it]"
     ]
    },
    {
     "name": "stdout",
     "output_type": "stream",
     "text": [
      "Saved data\n",
      "\n",
      "idate: 2023-04-26 13:00:00.000 , fdate: 2023-04-26 14:00:00.000\n"
     ]
    },
    {
     "name": "stderr",
     "output_type": "stream",
     "text": [
      " 93%|█████████▎| 1358/1463 [43:37<03:26,  1.97s/it]"
     ]
    },
    {
     "name": "stdout",
     "output_type": "stream",
     "text": [
      "Saved data\n",
      "\n",
      "idate: 2023-04-26 14:00:00.000 , fdate: 2023-04-26 15:00:00.000\n"
     ]
    },
    {
     "name": "stderr",
     "output_type": "stream",
     "text": [
      " 93%|█████████▎| 1359/1463 [43:40<03:28,  2.00s/it]"
     ]
    },
    {
     "name": "stdout",
     "output_type": "stream",
     "text": [
      "Saved data\n",
      "\n",
      "idate: 2023-04-26 15:00:00.000 , fdate: 2023-04-26 16:00:00.000\n"
     ]
    },
    {
     "name": "stderr",
     "output_type": "stream",
     "text": [
      " 93%|█████████▎| 1360/1463 [43:41<03:25,  1.99s/it]"
     ]
    },
    {
     "name": "stdout",
     "output_type": "stream",
     "text": [
      "Saved data\n",
      "\n",
      "idate: 2023-04-26 16:00:00.000 , fdate: 2023-04-26 17:00:00.000\n"
     ]
    },
    {
     "name": "stderr",
     "output_type": "stream",
     "text": [
      " 93%|█████████▎| 1361/1463 [43:43<03:23,  1.99s/it]"
     ]
    },
    {
     "name": "stdout",
     "output_type": "stream",
     "text": [
      "Saved data\n",
      "\n",
      "idate: 2023-04-26 17:00:00.000 , fdate: 2023-04-26 18:00:00.000\n"
     ]
    },
    {
     "name": "stderr",
     "output_type": "stream",
     "text": [
      " 93%|█████████▎| 1362/1463 [43:45<03:19,  1.97s/it]"
     ]
    },
    {
     "name": "stdout",
     "output_type": "stream",
     "text": [
      "Saved data\n",
      "\n",
      "idate: 2023-04-26 18:00:00.000 , fdate: 2023-04-26 19:00:00.000\n"
     ]
    },
    {
     "name": "stderr",
     "output_type": "stream",
     "text": [
      " 93%|█████████▎| 1363/1463 [43:47<03:20,  2.00s/it]"
     ]
    },
    {
     "name": "stdout",
     "output_type": "stream",
     "text": [
      "Saved data\n",
      "\n",
      "idate: 2023-04-26 19:00:00.000 , fdate: 2023-04-26 20:00:00.000\n"
     ]
    },
    {
     "name": "stderr",
     "output_type": "stream",
     "text": [
      " 93%|█████████▎| 1364/1463 [43:49<03:18,  2.00s/it]"
     ]
    },
    {
     "name": "stdout",
     "output_type": "stream",
     "text": [
      "Saved data\n",
      "\n",
      "idate: 2023-04-26 20:00:00.000 , fdate: 2023-04-26 21:00:00.000\n"
     ]
    },
    {
     "name": "stderr",
     "output_type": "stream",
     "text": [
      " 93%|█████████▎| 1365/1463 [43:51<03:13,  1.98s/it]"
     ]
    },
    {
     "name": "stdout",
     "output_type": "stream",
     "text": [
      "Saved data\n",
      "\n",
      "idate: 2023-04-26 21:00:00.000 , fdate: 2023-04-26 22:00:00.000\n"
     ]
    },
    {
     "name": "stderr",
     "output_type": "stream",
     "text": [
      " 93%|█████████▎| 1366/1463 [43:54<03:17,  2.04s/it]"
     ]
    },
    {
     "name": "stdout",
     "output_type": "stream",
     "text": [
      "Saved data\n",
      "\n",
      "idate: 2023-04-26 22:00:00.000 , fdate: 2023-04-26 23:00:00.000\n"
     ]
    },
    {
     "name": "stderr",
     "output_type": "stream",
     "text": [
      " 93%|█████████▎| 1367/1463 [43:56<03:14,  2.02s/it]"
     ]
    },
    {
     "name": "stdout",
     "output_type": "stream",
     "text": [
      "Saved data\n",
      "\n",
      "idate: 2023-04-26 23:00:00.000 , fdate: 2023-04-27 00:00:00.000\n"
     ]
    },
    {
     "name": "stderr",
     "output_type": "stream",
     "text": [
      " 94%|█████████▎| 1368/1463 [43:57<03:06,  1.96s/it]"
     ]
    },
    {
     "name": "stdout",
     "output_type": "stream",
     "text": [
      "Saved data\n",
      "\n",
      "idate: 2023-04-27 00:00:00.000 , fdate: 2023-04-27 01:00:00.000\n"
     ]
    },
    {
     "name": "stderr",
     "output_type": "stream",
     "text": [
      " 94%|█████████▎| 1369/1463 [43:59<02:59,  1.91s/it]"
     ]
    },
    {
     "name": "stdout",
     "output_type": "stream",
     "text": [
      "Saved data\n",
      "\n",
      "idate: 2023-04-27 01:00:00.000 , fdate: 2023-04-27 02:00:00.000\n"
     ]
    },
    {
     "name": "stderr",
     "output_type": "stream",
     "text": [
      " 94%|█████████▎| 1370/1463 [44:01<02:56,  1.90s/it]"
     ]
    },
    {
     "name": "stdout",
     "output_type": "stream",
     "text": [
      "Saved data\n",
      "\n",
      "idate: 2023-04-27 02:00:00.000 , fdate: 2023-04-27 03:00:00.000\n"
     ]
    },
    {
     "name": "stderr",
     "output_type": "stream",
     "text": [
      " 94%|█████████▎| 1371/1463 [44:03<02:53,  1.89s/it]"
     ]
    },
    {
     "name": "stdout",
     "output_type": "stream",
     "text": [
      "Saved data\n",
      "\n",
      "idate: 2023-04-27 03:00:00.000 , fdate: 2023-04-27 04:00:00.000\n"
     ]
    },
    {
     "name": "stderr",
     "output_type": "stream",
     "text": [
      " 94%|█████████▍| 1372/1463 [44:05<02:49,  1.86s/it]"
     ]
    },
    {
     "name": "stdout",
     "output_type": "stream",
     "text": [
      "Saved data\n",
      "\n",
      "idate: 2023-04-27 04:00:00.000 , fdate: 2023-04-27 05:00:00.000\n"
     ]
    },
    {
     "name": "stderr",
     "output_type": "stream",
     "text": [
      " 94%|█████████▍| 1373/1463 [44:06<02:42,  1.81s/it]"
     ]
    },
    {
     "name": "stdout",
     "output_type": "stream",
     "text": [
      "Saved data\n",
      "\n",
      "idate: 2023-04-27 05:00:00.000 , fdate: 2023-04-27 06:00:00.000\n"
     ]
    },
    {
     "name": "stderr",
     "output_type": "stream",
     "text": [
      " 94%|█████████▍| 1374/1463 [44:08<02:35,  1.74s/it]"
     ]
    },
    {
     "name": "stdout",
     "output_type": "stream",
     "text": [
      "Saved data\n",
      "\n",
      "idate: 2023-04-27 06:00:00.000 , fdate: 2023-04-27 07:00:00.000\n"
     ]
    },
    {
     "name": "stderr",
     "output_type": "stream",
     "text": [
      " 94%|█████████▍| 1375/1463 [44:10<02:32,  1.73s/it]"
     ]
    },
    {
     "name": "stdout",
     "output_type": "stream",
     "text": [
      "Saved data\n",
      "\n",
      "idate: 2023-04-27 07:00:00.000 , fdate: 2023-04-27 08:00:00.000\n"
     ]
    },
    {
     "name": "stderr",
     "output_type": "stream",
     "text": [
      " 94%|█████████▍| 1376/1463 [44:11<02:31,  1.74s/it]"
     ]
    },
    {
     "name": "stdout",
     "output_type": "stream",
     "text": [
      "Saved data\n",
      "\n",
      "idate: 2023-04-27 08:00:00.000 , fdate: 2023-04-27 09:00:00.000\n"
     ]
    },
    {
     "name": "stderr",
     "output_type": "stream",
     "text": [
      " 94%|█████████▍| 1377/1463 [44:13<02:31,  1.77s/it]"
     ]
    },
    {
     "name": "stdout",
     "output_type": "stream",
     "text": [
      "Saved data\n",
      "\n",
      "idate: 2023-04-27 09:00:00.000 , fdate: 2023-04-27 10:00:00.000\n"
     ]
    },
    {
     "name": "stderr",
     "output_type": "stream",
     "text": [
      " 94%|█████████▍| 1378/1463 [44:15<02:37,  1.85s/it]"
     ]
    },
    {
     "name": "stdout",
     "output_type": "stream",
     "text": [
      "Saved data\n",
      "\n",
      "idate: 2023-04-27 10:00:00.000 , fdate: 2023-04-27 11:00:00.000\n"
     ]
    },
    {
     "name": "stderr",
     "output_type": "stream",
     "text": [
      " 94%|█████████▍| 1379/1463 [44:17<02:38,  1.88s/it]"
     ]
    },
    {
     "name": "stdout",
     "output_type": "stream",
     "text": [
      "Saved data\n",
      "\n",
      "idate: 2023-04-27 11:00:00.000 , fdate: 2023-04-27 12:00:00.000\n"
     ]
    },
    {
     "name": "stderr",
     "output_type": "stream",
     "text": [
      " 94%|█████████▍| 1380/1463 [44:19<02:38,  1.91s/it]"
     ]
    },
    {
     "name": "stdout",
     "output_type": "stream",
     "text": [
      "Saved data\n",
      "\n",
      "idate: 2023-04-27 12:00:00.000 , fdate: 2023-04-27 13:00:00.000\n"
     ]
    },
    {
     "name": "stderr",
     "output_type": "stream",
     "text": [
      " 94%|█████████▍| 1381/1463 [44:21<02:39,  1.94s/it]"
     ]
    },
    {
     "name": "stdout",
     "output_type": "stream",
     "text": [
      "Saved data\n",
      "\n",
      "idate: 2023-04-27 13:00:00.000 , fdate: 2023-04-27 14:00:00.000\n"
     ]
    },
    {
     "name": "stderr",
     "output_type": "stream",
     "text": [
      " 94%|█████████▍| 1382/1463 [44:23<02:39,  1.97s/it]"
     ]
    },
    {
     "name": "stdout",
     "output_type": "stream",
     "text": [
      "Saved data\n",
      "\n",
      "idate: 2023-04-27 14:00:00.000 , fdate: 2023-04-27 15:00:00.000\n"
     ]
    },
    {
     "name": "stderr",
     "output_type": "stream",
     "text": [
      " 95%|█████████▍| 1383/1463 [44:25<02:40,  2.00s/it]"
     ]
    },
    {
     "name": "stdout",
     "output_type": "stream",
     "text": [
      "Saved data\n",
      "\n",
      "idate: 2023-04-27 15:00:00.000 , fdate: 2023-04-27 16:00:00.000\n"
     ]
    },
    {
     "name": "stderr",
     "output_type": "stream",
     "text": [
      " 95%|█████████▍| 1384/1463 [44:27<02:36,  1.99s/it]"
     ]
    },
    {
     "name": "stdout",
     "output_type": "stream",
     "text": [
      "Saved data\n",
      "\n",
      "idate: 2023-04-27 16:00:00.000 , fdate: 2023-04-27 17:00:00.000\n"
     ]
    },
    {
     "name": "stderr",
     "output_type": "stream",
     "text": [
      " 95%|█████████▍| 1385/1463 [44:29<02:35,  1.99s/it]"
     ]
    },
    {
     "name": "stdout",
     "output_type": "stream",
     "text": [
      "Saved data\n",
      "\n",
      "idate: 2023-04-27 17:00:00.000 , fdate: 2023-04-27 18:00:00.000\n"
     ]
    },
    {
     "name": "stderr",
     "output_type": "stream",
     "text": [
      " 95%|█████████▍| 1386/1463 [44:31<02:31,  1.97s/it]"
     ]
    },
    {
     "name": "stdout",
     "output_type": "stream",
     "text": [
      "Saved data\n",
      "\n",
      "idate: 2023-04-27 18:00:00.000 , fdate: 2023-04-27 19:00:00.000\n"
     ]
    },
    {
     "name": "stderr",
     "output_type": "stream",
     "text": [
      " 95%|█████████▍| 1387/1463 [44:33<02:30,  1.98s/it]"
     ]
    },
    {
     "name": "stdout",
     "output_type": "stream",
     "text": [
      "Saved data\n",
      "\n",
      "idate: 2023-04-27 19:00:00.000 , fdate: 2023-04-27 20:00:00.000\n"
     ]
    },
    {
     "name": "stderr",
     "output_type": "stream",
     "text": [
      " 95%|█████████▍| 1388/1463 [44:35<02:29,  2.00s/it]"
     ]
    },
    {
     "name": "stdout",
     "output_type": "stream",
     "text": [
      "Saved data\n",
      "\n",
      "idate: 2023-04-27 20:00:00.000 , fdate: 2023-04-27 21:00:00.000\n"
     ]
    },
    {
     "name": "stderr",
     "output_type": "stream",
     "text": [
      " 95%|█████████▍| 1389/1463 [44:38<02:49,  2.30s/it]"
     ]
    },
    {
     "name": "stdout",
     "output_type": "stream",
     "text": [
      "Saved data\n",
      "\n",
      "idate: 2023-04-27 21:00:00.000 , fdate: 2023-04-27 22:00:00.000\n"
     ]
    },
    {
     "name": "stderr",
     "output_type": "stream",
     "text": [
      " 95%|█████████▌| 1390/1463 [44:41<03:05,  2.54s/it]"
     ]
    },
    {
     "name": "stdout",
     "output_type": "stream",
     "text": [
      "Saved data\n",
      "\n",
      "idate: 2023-04-27 22:00:00.000 , fdate: 2023-04-27 23:00:00.000\n"
     ]
    },
    {
     "name": "stderr",
     "output_type": "stream",
     "text": [
      " 95%|█████████▌| 1391/1463 [44:44<02:53,  2.41s/it]"
     ]
    },
    {
     "name": "stdout",
     "output_type": "stream",
     "text": [
      "Saved data\n",
      "\n",
      "idate: 2023-04-27 23:00:00.000 , fdate: 2023-04-28 00:00:00.000\n"
     ]
    },
    {
     "name": "stderr",
     "output_type": "stream",
     "text": [
      " 95%|█████████▌| 1392/1463 [44:45<02:38,  2.23s/it]"
     ]
    },
    {
     "name": "stdout",
     "output_type": "stream",
     "text": [
      "Saved data\n",
      "\n",
      "idate: 2023-04-28 00:00:00.000 , fdate: 2023-04-28 01:00:00.000\n"
     ]
    },
    {
     "name": "stderr",
     "output_type": "stream",
     "text": [
      " 95%|█████████▌| 1393/1463 [44:47<02:34,  2.21s/it]"
     ]
    },
    {
     "name": "stdout",
     "output_type": "stream",
     "text": [
      "Saved data\n",
      "\n",
      "idate: 2023-04-28 01:00:00.000 , fdate: 2023-04-28 02:00:00.000\n"
     ]
    },
    {
     "name": "stderr",
     "output_type": "stream",
     "text": [
      " 95%|█████████▌| 1394/1463 [44:49<02:25,  2.11s/it]"
     ]
    },
    {
     "name": "stdout",
     "output_type": "stream",
     "text": [
      "Saved data\n",
      "\n",
      "idate: 2023-04-28 02:00:00.000 , fdate: 2023-04-28 03:00:00.000\n"
     ]
    },
    {
     "name": "stderr",
     "output_type": "stream",
     "text": [
      " 95%|█████████▌| 1395/1463 [44:51<02:17,  2.03s/it]"
     ]
    },
    {
     "name": "stdout",
     "output_type": "stream",
     "text": [
      "Saved data\n",
      "\n",
      "idate: 2023-04-28 03:00:00.000 , fdate: 2023-04-28 04:00:00.000\n"
     ]
    },
    {
     "name": "stderr",
     "output_type": "stream",
     "text": [
      " 95%|█████████▌| 1396/1463 [44:53<02:10,  1.94s/it]"
     ]
    },
    {
     "name": "stdout",
     "output_type": "stream",
     "text": [
      "Saved data\n",
      "\n",
      "idate: 2023-04-28 04:00:00.000 , fdate: 2023-04-28 05:00:00.000\n"
     ]
    },
    {
     "name": "stderr",
     "output_type": "stream",
     "text": [
      " 95%|█████████▌| 1397/1463 [44:55<02:03,  1.87s/it]"
     ]
    },
    {
     "name": "stdout",
     "output_type": "stream",
     "text": [
      "Saved data\n",
      "\n",
      "idate: 2023-04-28 05:00:00.000 , fdate: 2023-04-28 06:00:00.000\n"
     ]
    },
    {
     "name": "stderr",
     "output_type": "stream",
     "text": [
      " 96%|█████████▌| 1398/1463 [44:56<01:56,  1.79s/it]"
     ]
    },
    {
     "name": "stdout",
     "output_type": "stream",
     "text": [
      "Saved data\n",
      "\n",
      "idate: 2023-04-28 06:00:00.000 , fdate: 2023-04-28 07:00:00.000\n"
     ]
    },
    {
     "name": "stderr",
     "output_type": "stream",
     "text": [
      " 96%|█████████▌| 1399/1463 [44:58<01:52,  1.75s/it]"
     ]
    },
    {
     "name": "stdout",
     "output_type": "stream",
     "text": [
      "Saved data\n",
      "\n",
      "idate: 2023-04-28 07:00:00.000 , fdate: 2023-04-28 08:00:00.000\n"
     ]
    },
    {
     "name": "stderr",
     "output_type": "stream",
     "text": [
      " 96%|█████████▌| 1400/1463 [45:00<01:50,  1.75s/it]"
     ]
    },
    {
     "name": "stdout",
     "output_type": "stream",
     "text": [
      "Saved data\n",
      "\n",
      "idate: 2023-04-28 08:00:00.000 , fdate: 2023-04-28 09:00:00.000\n"
     ]
    },
    {
     "name": "stderr",
     "output_type": "stream",
     "text": [
      " 96%|█████████▌| 1401/1463 [45:01<01:50,  1.78s/it]"
     ]
    },
    {
     "name": "stdout",
     "output_type": "stream",
     "text": [
      "Saved data\n",
      "\n",
      "idate: 2023-04-28 09:00:00.000 , fdate: 2023-04-28 10:00:00.000\n"
     ]
    },
    {
     "name": "stderr",
     "output_type": "stream",
     "text": [
      " 96%|█████████▌| 1402/1463 [45:04<01:53,  1.87s/it]"
     ]
    },
    {
     "name": "stdout",
     "output_type": "stream",
     "text": [
      "Saved data\n",
      "\n",
      "idate: 2023-04-28 10:00:00.000 , fdate: 2023-04-28 11:00:00.000\n"
     ]
    },
    {
     "name": "stderr",
     "output_type": "stream",
     "text": [
      " 96%|█████████▌| 1403/1463 [45:06<01:54,  1.91s/it]"
     ]
    },
    {
     "name": "stdout",
     "output_type": "stream",
     "text": [
      "Saved data\n",
      "\n",
      "idate: 2023-04-28 11:00:00.000 , fdate: 2023-04-28 12:00:00.000\n"
     ]
    },
    {
     "name": "stderr",
     "output_type": "stream",
     "text": [
      " 96%|█████████▌| 1404/1463 [45:08<01:53,  1.93s/it]"
     ]
    },
    {
     "name": "stdout",
     "output_type": "stream",
     "text": [
      "Saved data\n",
      "\n",
      "idate: 2023-04-28 12:00:00.000 , fdate: 2023-04-28 13:00:00.000\n"
     ]
    },
    {
     "name": "stderr",
     "output_type": "stream",
     "text": [
      " 96%|█████████▌| 1405/1463 [45:10<01:54,  1.98s/it]"
     ]
    },
    {
     "name": "stdout",
     "output_type": "stream",
     "text": [
      "Saved data\n",
      "\n",
      "idate: 2023-04-28 13:00:00.000 , fdate: 2023-04-28 14:00:00.000\n"
     ]
    },
    {
     "name": "stderr",
     "output_type": "stream",
     "text": [
      " 96%|█████████▌| 1406/1463 [45:12<01:56,  2.04s/it]"
     ]
    },
    {
     "name": "stdout",
     "output_type": "stream",
     "text": [
      "Saved data\n",
      "\n",
      "idate: 2023-04-28 14:00:00.000 , fdate: 2023-04-28 15:00:00.000\n"
     ]
    },
    {
     "name": "stderr",
     "output_type": "stream",
     "text": [
      " 96%|█████████▌| 1407/1463 [45:14<01:53,  2.03s/it]"
     ]
    },
    {
     "name": "stdout",
     "output_type": "stream",
     "text": [
      "Saved data\n",
      "\n",
      "idate: 2023-04-28 15:00:00.000 , fdate: 2023-04-28 16:00:00.000\n"
     ]
    },
    {
     "name": "stderr",
     "output_type": "stream",
     "text": [
      " 96%|█████████▌| 1408/1463 [45:16<01:50,  2.01s/it]"
     ]
    },
    {
     "name": "stdout",
     "output_type": "stream",
     "text": [
      "Saved data\n",
      "\n",
      "idate: 2023-04-28 16:00:00.000 , fdate: 2023-04-28 17:00:00.000\n"
     ]
    },
    {
     "name": "stderr",
     "output_type": "stream",
     "text": [
      " 96%|█████████▋| 1409/1463 [45:18<01:48,  2.01s/it]"
     ]
    },
    {
     "name": "stdout",
     "output_type": "stream",
     "text": [
      "Saved data\n",
      "\n",
      "idate: 2023-04-28 17:00:00.000 , fdate: 2023-04-28 18:00:00.000\n"
     ]
    },
    {
     "name": "stderr",
     "output_type": "stream",
     "text": [
      " 96%|█████████▋| 1410/1463 [45:20<01:46,  2.01s/it]"
     ]
    },
    {
     "name": "stdout",
     "output_type": "stream",
     "text": [
      "Saved data\n",
      "\n",
      "idate: 2023-04-28 18:00:00.000 , fdate: 2023-04-28 19:00:00.000\n"
     ]
    },
    {
     "name": "stderr",
     "output_type": "stream",
     "text": [
      " 96%|█████████▋| 1411/1463 [45:22<01:44,  2.01s/it]"
     ]
    },
    {
     "name": "stdout",
     "output_type": "stream",
     "text": [
      "Saved data\n",
      "\n",
      "idate: 2023-04-28 19:00:00.000 , fdate: 2023-04-28 20:00:00.000\n"
     ]
    },
    {
     "name": "stderr",
     "output_type": "stream",
     "text": [
      " 97%|█████████▋| 1412/1463 [45:24<01:41,  1.98s/it]"
     ]
    },
    {
     "name": "stdout",
     "output_type": "stream",
     "text": [
      "Saved data\n",
      "\n",
      "idate: 2023-04-28 20:00:00.000 , fdate: 2023-04-28 21:00:00.000\n"
     ]
    },
    {
     "name": "stderr",
     "output_type": "stream",
     "text": [
      " 97%|█████████▋| 1413/1463 [45:26<01:38,  1.97s/it]"
     ]
    },
    {
     "name": "stdout",
     "output_type": "stream",
     "text": [
      "Saved data\n",
      "\n",
      "idate: 2023-04-28 21:00:00.000 , fdate: 2023-04-28 22:00:00.000\n"
     ]
    },
    {
     "name": "stderr",
     "output_type": "stream",
     "text": [
      " 97%|█████████▋| 1414/1463 [45:28<01:37,  1.99s/it]"
     ]
    },
    {
     "name": "stdout",
     "output_type": "stream",
     "text": [
      "Saved data\n",
      "\n",
      "idate: 2023-04-28 22:00:00.000 , fdate: 2023-04-28 23:00:00.000\n"
     ]
    },
    {
     "name": "stderr",
     "output_type": "stream",
     "text": [
      " 97%|█████████▋| 1415/1463 [45:30<01:36,  2.00s/it]"
     ]
    },
    {
     "name": "stdout",
     "output_type": "stream",
     "text": [
      "Saved data\n",
      "\n",
      "idate: 2023-04-28 23:00:00.000 , fdate: 2023-04-29 00:00:00.000\n"
     ]
    },
    {
     "name": "stderr",
     "output_type": "stream",
     "text": [
      " 97%|█████████▋| 1416/1463 [45:32<01:32,  1.96s/it]"
     ]
    },
    {
     "name": "stdout",
     "output_type": "stream",
     "text": [
      "Saved data\n",
      "\n",
      "idate: 2023-04-29 00:00:00.000 , fdate: 2023-04-29 01:00:00.000\n"
     ]
    },
    {
     "name": "stderr",
     "output_type": "stream",
     "text": [
      " 97%|█████████▋| 1417/1463 [45:33<01:24,  1.85s/it]"
     ]
    },
    {
     "name": "stdout",
     "output_type": "stream",
     "text": [
      "\n",
      "idate: 2023-04-29 01:00:00.000 , fdate: 2023-04-29 02:00:00.000\n"
     ]
    },
    {
     "name": "stderr",
     "output_type": "stream",
     "text": [
      " 97%|█████████▋| 1418/1463 [45:35<01:19,  1.77s/it]"
     ]
    },
    {
     "name": "stdout",
     "output_type": "stream",
     "text": [
      "\n",
      "idate: 2023-04-29 02:00:00.000 , fdate: 2023-04-29 03:00:00.000\n"
     ]
    },
    {
     "name": "stderr",
     "output_type": "stream",
     "text": [
      " 97%|█████████▋| 1419/1463 [45:36<01:14,  1.70s/it]"
     ]
    },
    {
     "name": "stdout",
     "output_type": "stream",
     "text": [
      "\n",
      "idate: 2023-04-29 03:00:00.000 , fdate: 2023-04-29 04:00:00.000\n"
     ]
    },
    {
     "name": "stderr",
     "output_type": "stream",
     "text": [
      " 97%|█████████▋| 1420/1463 [45:38<01:14,  1.74s/it]"
     ]
    },
    {
     "name": "stdout",
     "output_type": "stream",
     "text": [
      "Saved data\n",
      "\n",
      "idate: 2023-04-29 04:00:00.000 , fdate: 2023-04-29 05:00:00.000\n"
     ]
    },
    {
     "name": "stderr",
     "output_type": "stream",
     "text": [
      " 97%|█████████▋| 1421/1463 [45:40<01:12,  1.72s/it]"
     ]
    },
    {
     "name": "stdout",
     "output_type": "stream",
     "text": [
      "Saved data\n",
      "\n",
      "idate: 2023-04-29 05:00:00.000 , fdate: 2023-04-29 06:00:00.000\n"
     ]
    },
    {
     "name": "stderr",
     "output_type": "stream",
     "text": [
      " 97%|█████████▋| 1422/1463 [45:41<01:09,  1.68s/it]"
     ]
    },
    {
     "name": "stdout",
     "output_type": "stream",
     "text": [
      "Saved data\n",
      "\n",
      "idate: 2023-04-29 06:00:00.000 , fdate: 2023-04-29 07:00:00.000\n"
     ]
    },
    {
     "name": "stderr",
     "output_type": "stream",
     "text": [
      " 97%|█████████▋| 1423/1463 [45:43<01:07,  1.68s/it]"
     ]
    },
    {
     "name": "stdout",
     "output_type": "stream",
     "text": [
      "Saved data\n",
      "\n",
      "idate: 2023-04-29 07:00:00.000 , fdate: 2023-04-29 08:00:00.000\n"
     ]
    },
    {
     "name": "stderr",
     "output_type": "stream",
     "text": [
      " 97%|█████████▋| 1424/1463 [45:45<01:05,  1.69s/it]"
     ]
    },
    {
     "name": "stdout",
     "output_type": "stream",
     "text": [
      "Saved data\n",
      "\n",
      "idate: 2023-04-29 08:00:00.000 , fdate: 2023-04-29 09:00:00.000\n"
     ]
    },
    {
     "name": "stderr",
     "output_type": "stream",
     "text": [
      " 97%|█████████▋| 1425/1463 [45:47<01:05,  1.72s/it]"
     ]
    },
    {
     "name": "stdout",
     "output_type": "stream",
     "text": [
      "Saved data\n",
      "\n",
      "idate: 2023-04-29 09:00:00.000 , fdate: 2023-04-29 10:00:00.000\n"
     ]
    },
    {
     "name": "stderr",
     "output_type": "stream",
     "text": [
      " 97%|█████████▋| 1426/1463 [45:49<01:05,  1.78s/it]"
     ]
    },
    {
     "name": "stdout",
     "output_type": "stream",
     "text": [
      "Saved data\n",
      "\n",
      "idate: 2023-04-29 10:00:00.000 , fdate: 2023-04-29 11:00:00.000\n"
     ]
    },
    {
     "name": "stderr",
     "output_type": "stream",
     "text": [
      " 98%|█████████▊| 1427/1463 [45:50<01:05,  1.82s/it]"
     ]
    },
    {
     "name": "stdout",
     "output_type": "stream",
     "text": [
      "Saved data\n",
      "\n",
      "idate: 2023-04-29 11:00:00.000 , fdate: 2023-04-29 12:00:00.000\n"
     ]
    },
    {
     "name": "stderr",
     "output_type": "stream",
     "text": [
      " 98%|█████████▊| 1428/1463 [45:52<01:04,  1.85s/it]"
     ]
    },
    {
     "name": "stdout",
     "output_type": "stream",
     "text": [
      "Saved data\n",
      "\n",
      "idate: 2023-04-29 12:00:00.000 , fdate: 2023-04-29 13:00:00.000\n"
     ]
    },
    {
     "name": "stderr",
     "output_type": "stream",
     "text": [
      " 98%|█████████▊| 1429/1463 [45:54<01:04,  1.90s/it]"
     ]
    },
    {
     "name": "stdout",
     "output_type": "stream",
     "text": [
      "Saved data\n",
      "\n",
      "idate: 2023-04-29 13:00:00.000 , fdate: 2023-04-29 14:00:00.000\n"
     ]
    },
    {
     "name": "stderr",
     "output_type": "stream",
     "text": [
      " 98%|█████████▊| 1430/1463 [45:56<01:03,  1.91s/it]"
     ]
    },
    {
     "name": "stdout",
     "output_type": "stream",
     "text": [
      "Saved data\n",
      "\n",
      "idate: 2023-04-29 14:00:00.000 , fdate: 2023-04-29 15:00:00.000\n"
     ]
    },
    {
     "name": "stderr",
     "output_type": "stream",
     "text": [
      " 98%|█████████▊| 1431/1463 [45:58<01:01,  1.92s/it]"
     ]
    },
    {
     "name": "stdout",
     "output_type": "stream",
     "text": [
      "Saved data\n",
      "\n",
      "idate: 2023-04-29 15:00:00.000 , fdate: 2023-04-29 16:00:00.000\n"
     ]
    },
    {
     "name": "stderr",
     "output_type": "stream",
     "text": [
      " 98%|█████████▊| 1432/1463 [46:00<00:58,  1.89s/it]"
     ]
    },
    {
     "name": "stdout",
     "output_type": "stream",
     "text": [
      "Saved data\n",
      "\n",
      "idate: 2023-04-29 16:00:00.000 , fdate: 2023-04-29 17:00:00.000\n"
     ]
    },
    {
     "name": "stderr",
     "output_type": "stream",
     "text": [
      " 98%|█████████▊| 1433/1463 [46:02<00:56,  1.89s/it]"
     ]
    },
    {
     "name": "stdout",
     "output_type": "stream",
     "text": [
      "Saved data\n",
      "\n",
      "idate: 2023-04-29 17:00:00.000 , fdate: 2023-04-29 18:00:00.000\n"
     ]
    },
    {
     "name": "stderr",
     "output_type": "stream",
     "text": [
      " 98%|█████████▊| 1434/1463 [46:04<00:56,  1.93s/it]"
     ]
    },
    {
     "name": "stdout",
     "output_type": "stream",
     "text": [
      "Saved data\n",
      "\n",
      "idate: 2023-04-29 18:00:00.000 , fdate: 2023-04-29 19:00:00.000\n"
     ]
    },
    {
     "name": "stderr",
     "output_type": "stream",
     "text": [
      " 98%|█████████▊| 1435/1463 [46:06<00:53,  1.92s/it]"
     ]
    },
    {
     "name": "stdout",
     "output_type": "stream",
     "text": [
      "Saved data\n",
      "\n",
      "idate: 2023-04-29 19:00:00.000 , fdate: 2023-04-29 20:00:00.000\n"
     ]
    },
    {
     "name": "stderr",
     "output_type": "stream",
     "text": [
      " 98%|█████████▊| 1436/1463 [46:08<00:51,  1.93s/it]"
     ]
    },
    {
     "name": "stdout",
     "output_type": "stream",
     "text": [
      "Saved data\n",
      "\n",
      "idate: 2023-04-29 20:00:00.000 , fdate: 2023-04-29 21:00:00.000\n"
     ]
    },
    {
     "name": "stderr",
     "output_type": "stream",
     "text": [
      " 98%|█████████▊| 1437/1463 [46:10<00:49,  1.90s/it]"
     ]
    },
    {
     "name": "stdout",
     "output_type": "stream",
     "text": [
      "Saved data\n",
      "\n",
      "idate: 2023-04-29 21:00:00.000 , fdate: 2023-04-29 22:00:00.000\n"
     ]
    },
    {
     "name": "stderr",
     "output_type": "stream",
     "text": [
      " 98%|█████████▊| 1438/1463 [46:12<00:47,  1.92s/it]"
     ]
    },
    {
     "name": "stdout",
     "output_type": "stream",
     "text": [
      "Saved data\n",
      "\n",
      "idate: 2023-04-29 22:00:00.000 , fdate: 2023-04-29 23:00:00.000\n"
     ]
    },
    {
     "name": "stderr",
     "output_type": "stream",
     "text": [
      " 98%|█████████▊| 1439/1463 [46:14<00:46,  1.92s/it]"
     ]
    },
    {
     "name": "stdout",
     "output_type": "stream",
     "text": [
      "Saved data\n",
      "\n",
      "idate: 2023-04-29 23:00:00.000 , fdate: 2023-04-30 00:00:00.000\n"
     ]
    },
    {
     "name": "stderr",
     "output_type": "stream",
     "text": [
      " 98%|█████████▊| 1440/1463 [46:15<00:42,  1.86s/it]"
     ]
    },
    {
     "name": "stdout",
     "output_type": "stream",
     "text": [
      "Saved data\n",
      "\n",
      "idate: 2023-04-30 00:00:00.000 , fdate: 2023-04-30 01:00:00.000\n"
     ]
    },
    {
     "name": "stderr",
     "output_type": "stream",
     "text": [
      " 98%|█████████▊| 1441/1463 [46:17<00:39,  1.80s/it]"
     ]
    },
    {
     "name": "stdout",
     "output_type": "stream",
     "text": [
      "Saved data\n",
      "\n",
      "idate: 2023-04-30 01:00:00.000 , fdate: 2023-04-30 02:00:00.000\n"
     ]
    },
    {
     "name": "stderr",
     "output_type": "stream",
     "text": [
      " 99%|█████████▊| 1442/1463 [46:19<00:37,  1.78s/it]"
     ]
    },
    {
     "name": "stdout",
     "output_type": "stream",
     "text": [
      "Saved data\n",
      "\n",
      "idate: 2023-04-30 02:00:00.000 , fdate: 2023-04-30 03:00:00.000\n"
     ]
    },
    {
     "name": "stderr",
     "output_type": "stream",
     "text": [
      " 99%|█████████▊| 1443/1463 [46:20<00:35,  1.76s/it]"
     ]
    },
    {
     "name": "stdout",
     "output_type": "stream",
     "text": [
      "Saved data\n",
      "\n",
      "idate: 2023-04-30 03:00:00.000 , fdate: 2023-04-30 04:00:00.000\n"
     ]
    },
    {
     "name": "stderr",
     "output_type": "stream",
     "text": [
      " 99%|█████████▊| 1444/1463 [46:22<00:33,  1.74s/it]"
     ]
    },
    {
     "name": "stdout",
     "output_type": "stream",
     "text": [
      "Saved data\n",
      "\n",
      "idate: 2023-04-30 04:00:00.000 , fdate: 2023-04-30 05:00:00.000\n"
     ]
    },
    {
     "name": "stderr",
     "output_type": "stream",
     "text": [
      " 99%|█████████▉| 1445/1463 [46:24<00:30,  1.70s/it]"
     ]
    },
    {
     "name": "stdout",
     "output_type": "stream",
     "text": [
      "Saved data\n",
      "\n",
      "idate: 2023-04-30 05:00:00.000 , fdate: 2023-04-30 06:00:00.000\n"
     ]
    },
    {
     "name": "stderr",
     "output_type": "stream",
     "text": [
      " 99%|█████████▉| 1446/1463 [46:25<00:28,  1.67s/it]"
     ]
    },
    {
     "name": "stdout",
     "output_type": "stream",
     "text": [
      "Saved data\n",
      "\n",
      "idate: 2023-04-30 06:00:00.000 , fdate: 2023-04-30 07:00:00.000\n"
     ]
    },
    {
     "name": "stderr",
     "output_type": "stream",
     "text": [
      " 99%|█████████▉| 1447/1463 [46:27<00:26,  1.67s/it]"
     ]
    },
    {
     "name": "stdout",
     "output_type": "stream",
     "text": [
      "Saved data\n",
      "\n",
      "idate: 2023-04-30 07:00:00.000 , fdate: 2023-04-30 08:00:00.000\n"
     ]
    },
    {
     "name": "stderr",
     "output_type": "stream",
     "text": [
      " 99%|█████████▉| 1448/1463 [46:29<00:25,  1.67s/it]"
     ]
    },
    {
     "name": "stdout",
     "output_type": "stream",
     "text": [
      "Saved data\n",
      "\n",
      "idate: 2023-04-30 08:00:00.000 , fdate: 2023-04-30 09:00:00.000\n"
     ]
    },
    {
     "name": "stderr",
     "output_type": "stream",
     "text": [
      " 99%|█████████▉| 1449/1463 [46:30<00:23,  1.68s/it]"
     ]
    },
    {
     "name": "stdout",
     "output_type": "stream",
     "text": [
      "Saved data\n",
      "\n",
      "idate: 2023-04-30 09:00:00.000 , fdate: 2023-04-30 10:00:00.000\n"
     ]
    },
    {
     "name": "stderr",
     "output_type": "stream",
     "text": [
      " 99%|█████████▉| 1450/1463 [46:32<00:22,  1.72s/it]"
     ]
    },
    {
     "name": "stdout",
     "output_type": "stream",
     "text": [
      "Saved data\n",
      "\n",
      "idate: 2023-04-30 10:00:00.000 , fdate: 2023-04-30 11:00:00.000\n"
     ]
    },
    {
     "name": "stderr",
     "output_type": "stream",
     "text": [
      " 99%|█████████▉| 1451/1463 [46:34<00:21,  1.76s/it]"
     ]
    },
    {
     "name": "stdout",
     "output_type": "stream",
     "text": [
      "Saved data\n",
      "\n",
      "idate: 2023-04-30 11:00:00.000 , fdate: 2023-04-30 12:00:00.000\n"
     ]
    },
    {
     "name": "stderr",
     "output_type": "stream",
     "text": [
      " 99%|█████████▉| 1452/1463 [46:36<00:19,  1.78s/it]"
     ]
    },
    {
     "name": "stdout",
     "output_type": "stream",
     "text": [
      "Saved data\n",
      "\n",
      "idate: 2023-04-30 12:00:00.000 , fdate: 2023-04-30 13:00:00.000\n"
     ]
    },
    {
     "name": "stderr",
     "output_type": "stream",
     "text": [
      " 99%|█████████▉| 1453/1463 [46:38<00:18,  1.84s/it]"
     ]
    },
    {
     "name": "stdout",
     "output_type": "stream",
     "text": [
      "Saved data\n",
      "\n",
      "idate: 2023-04-30 13:00:00.000 , fdate: 2023-04-30 14:00:00.000\n"
     ]
    },
    {
     "name": "stderr",
     "output_type": "stream",
     "text": [
      " 99%|█████████▉| 1454/1463 [46:40<00:17,  1.89s/it]"
     ]
    },
    {
     "name": "stdout",
     "output_type": "stream",
     "text": [
      "Saved data\n",
      "\n",
      "idate: 2023-04-30 14:00:00.000 , fdate: 2023-04-30 15:00:00.000\n"
     ]
    },
    {
     "name": "stderr",
     "output_type": "stream",
     "text": [
      " 99%|█████████▉| 1455/1463 [46:42<00:15,  1.91s/it]"
     ]
    },
    {
     "name": "stdout",
     "output_type": "stream",
     "text": [
      "Saved data\n",
      "\n",
      "idate: 2023-04-30 15:00:00.000 , fdate: 2023-04-30 16:00:00.000\n"
     ]
    },
    {
     "name": "stderr",
     "output_type": "stream",
     "text": [
      "100%|█████████▉| 1456/1463 [46:44<00:13,  1.89s/it]"
     ]
    },
    {
     "name": "stdout",
     "output_type": "stream",
     "text": [
      "Saved data\n",
      "\n",
      "idate: 2023-04-30 16:00:00.000 , fdate: 2023-04-30 17:00:00.000\n"
     ]
    },
    {
     "name": "stderr",
     "output_type": "stream",
     "text": [
      "100%|█████████▉| 1457/1463 [46:46<00:11,  1.89s/it]"
     ]
    },
    {
     "name": "stdout",
     "output_type": "stream",
     "text": [
      "Saved data\n",
      "\n",
      "idate: 2023-04-30 17:00:00.000 , fdate: 2023-04-30 18:00:00.000\n"
     ]
    },
    {
     "name": "stderr",
     "output_type": "stream",
     "text": [
      "100%|█████████▉| 1458/1463 [46:47<00:09,  1.87s/it]"
     ]
    },
    {
     "name": "stdout",
     "output_type": "stream",
     "text": [
      "Saved data\n",
      "\n",
      "idate: 2023-04-30 18:00:00.000 , fdate: 2023-04-30 19:00:00.000\n"
     ]
    },
    {
     "name": "stderr",
     "output_type": "stream",
     "text": [
      "100%|█████████▉| 1459/1463 [46:49<00:07,  1.90s/it]"
     ]
    },
    {
     "name": "stdout",
     "output_type": "stream",
     "text": [
      "Saved data\n",
      "\n",
      "idate: 2023-04-30 19:00:00.000 , fdate: 2023-04-30 20:00:00.000\n"
     ]
    },
    {
     "name": "stderr",
     "output_type": "stream",
     "text": [
      "100%|█████████▉| 1460/1463 [46:51<00:05,  1.87s/it]"
     ]
    },
    {
     "name": "stdout",
     "output_type": "stream",
     "text": [
      "Saved data\n",
      "\n",
      "idate: 2023-04-30 20:00:00.000 , fdate: 2023-04-30 21:00:00.000\n"
     ]
    },
    {
     "name": "stderr",
     "output_type": "stream",
     "text": [
      "100%|█████████▉| 1461/1463 [46:53<00:03,  1.87s/it]"
     ]
    },
    {
     "name": "stdout",
     "output_type": "stream",
     "text": [
      "Saved data\n",
      "\n",
      "idate: 2023-04-30 21:00:00.000 , fdate: 2023-04-30 22:00:00.000\n"
     ]
    },
    {
     "name": "stderr",
     "output_type": "stream",
     "text": [
      "100%|█████████▉| 1462/1463 [46:55<00:01,  1.90s/it]"
     ]
    },
    {
     "name": "stdout",
     "output_type": "stream",
     "text": [
      "Saved data\n",
      "\n",
      "idate: 2023-04-30 22:00:00.000 , fdate: 2023-04-30 23:00:00.000\n"
     ]
    },
    {
     "name": "stderr",
     "output_type": "stream",
     "text": [
      "100%|██████████| 1463/1463 [46:57<00:00,  1.93s/it]"
     ]
    },
    {
     "name": "stdout",
     "output_type": "stream",
     "text": [
      "Saved data\n"
     ]
    },
    {
     "name": "stderr",
     "output_type": "stream",
     "text": [
      "\n"
     ]
    },
    {
     "name": "stdout",
     "output_type": "stream",
     "text": [
      "\n",
      " Iniciando espera\n"
     ]
    },
    {
     "name": "stderr",
     "output_type": "stream",
     "text": [
      "  0%|          | 0/1 [00:00<?, ?it/s]"
     ]
    },
    {
     "name": "stdout",
     "output_type": "stream",
     "text": [
      "\n",
      "idate: 2023-03-01 , fdate: 2023-04-01\n"
     ]
    },
    {
     "name": "stderr",
     "output_type": "stream",
     "text": [
      "100%|██████████| 1/1 [00:01<00:00,  1.14s/it]"
     ]
    },
    {
     "name": "stdout",
     "output_type": "stream",
     "text": [
      "Saved data\n"
     ]
    },
    {
     "name": "stderr",
     "output_type": "stream",
     "text": [
      "\n"
     ]
    },
    {
     "name": "stdout",
     "output_type": "stream",
     "text": [
      "\n",
      " Iniciando Metaf\n"
     ]
    },
    {
     "name": "stderr",
     "output_type": "stream",
     "text": [
      "  0%|          | 0/1 [00:00<?, ?it/s]"
     ]
    },
    {
     "name": "stdout",
     "output_type": "stream",
     "text": [
      "\n",
      "idate: 2023-03-01 , fdate: 2023-04-01\n"
     ]
    },
    {
     "name": "stderr",
     "output_type": "stream",
     "text": [
      "100%|██████████| 1/1 [00:00<00:00,  1.35it/s]\n"
     ]
    },
    {
     "name": "stdout",
     "output_type": "stream",
     "text": [
      "Saved data\n",
      "\n",
      " Iniciando Metar\n"
     ]
    },
    {
     "name": "stderr",
     "output_type": "stream",
     "text": [
      "  0%|          | 0/1 [00:00<?, ?it/s]"
     ]
    },
    {
     "name": "stdout",
     "output_type": "stream",
     "text": [
      "\n",
      "idate: 2023-03-01 , fdate: 2023-04-01\n"
     ]
    },
    {
     "name": "stderr",
     "output_type": "stream",
     "text": [
      "100%|██████████| 1/1 [00:00<00:00,  1.16it/s]"
     ]
    },
    {
     "name": "stdout",
     "output_type": "stream",
     "text": [
      "Saved data\n"
     ]
    },
    {
     "name": "stderr",
     "output_type": "stream",
     "text": [
      "\n"
     ]
    },
    {
     "name": "stdout",
     "output_type": "stream",
     "text": [
      "\n",
      " Iniciando Tc Real\n"
     ]
    },
    {
     "name": "stderr",
     "output_type": "stream",
     "text": [
      "  0%|          | 0/1 [00:00<?, ?it/s]"
     ]
    },
    {
     "name": "stdout",
     "output_type": "stream",
     "text": [
      "\n",
      "idate: 2023-03-01 , fdate: 2023-04-01\n"
     ]
    },
    {
     "name": "stderr",
     "output_type": "stream",
     "text": [
      "100%|██████████| 1/1 [00:00<00:00,  1.40it/s]\n"
     ]
    },
    {
     "name": "stdout",
     "output_type": "stream",
     "text": [
      "Saved data\n",
      "\n",
      " Iniciando Tc Prev\n"
     ]
    },
    {
     "name": "stderr",
     "output_type": "stream",
     "text": [
      "  0%|          | 0/1 [00:00<?, ?it/s]"
     ]
    },
    {
     "name": "stdout",
     "output_type": "stream",
     "text": [
      "\n",
      "idate: 2023-03-01 , fdate: 2023-04-01\n"
     ]
    },
    {
     "name": "stderr",
     "output_type": "stream",
     "text": [
      "100%|██████████| 1/1 [00:00<00:00,  1.23it/s]"
     ]
    },
    {
     "name": "stdout",
     "output_type": "stream",
     "text": [
      "Saved data\n"
     ]
    },
    {
     "name": "stderr",
     "output_type": "stream",
     "text": [
      "\n"
     ]
    }
   ],
   "source": [
    "def pipeline_ingestao():\n",
    "    dataInicial = '2023-03'\n",
    "    dataFinal = '2023-05'\n",
    "    print(\"\\n Iniciando Bimtra\")\n",
    "    ingestaoBimtra(dataInicial,dataFinal)\n",
    "    print(\"\\n Iniciando Cat62\")\n",
    "    ingestaoCat62(dataInicial,dataFinal)\n",
    "    print(\"\\n Iniciando espera\")\n",
    "    ingestaoEspera(dataInicial,dataFinal)\n",
    "    print(\"\\n Iniciando Metaf\")\n",
    "    ingestaoMetaf(dataInicial,dataFinal)\n",
    "    print(\"\\n Iniciando Metar\")\n",
    "    ingestaoMetaR(dataInicial,dataFinal)\n",
    "    print(\"\\n Iniciando Tc Real\")\n",
    "    ingestaoTcReal(dataInicial,dataFinal)\n",
    "    print(\"\\n Iniciando Tc Prev\")\n",
    "    ingestaoTcPrev(dataInicial,dataFinal)\n",
    "\n",
    "pipeline_ingestao()"
   ]
  },
  {
   "cell_type": "code",
   "execution_count": null,
   "metadata": {},
   "outputs": [],
   "source": []
  }
 ],
 "metadata": {
  "kernelspec": {
   "display_name": "Python 3",
   "language": "python",
   "name": "python3"
  },
  "language_info": {
   "codemirror_mode": {
    "name": "ipython",
    "version": 3
   },
   "file_extension": ".py",
   "mimetype": "text/x-python",
   "name": "python",
   "nbconvert_exporter": "python",
   "pygments_lexer": "ipython3",
   "version": "3.11.5"
  },
  "orig_nbformat": 4
 },
 "nbformat": 4,
 "nbformat_minor": 2
}
