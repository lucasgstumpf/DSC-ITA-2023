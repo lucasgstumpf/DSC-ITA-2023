{
 "cells": [
  {
   "cell_type": "markdown",
   "metadata": {},
   "source": [
    "### O METAR, sigla de Meteorological Aerodrome Report, é o informe meteorológico regular de aeródromo e contém as seguintes informações na sequência:\n",
    "\n",
    "- Grupos de identificação;  \n",
    "- Vento à superfície;  \n",
    "- Visibilidade horizontal; \n",
    "- Alcance visual na pista (quando houver); \n",
    "- Tempo presente; \n",
    "- Nuvens (ou visibilidade vertical, se for o caso); \n",
    "- Temperaturas do ar e do ponto de orvalho; \n",
    "- Pressão atmosférica (QNH); e  \n",
    "- Informações suplementares de inclusão condicional sobre tempo recente, cortante do vento, temperatura da superfície do mar, estado do mar e, por Acordo Regional de Navegação Aérea, o estado da pista.\n",
    "\n",
    "https://ajuda.decea.mil.br/base-de-conhecimento/como-decodificar-o-metar-e-o-speci/\n",
    "\n",
    "\n",
    "pip install python-metar\n"
   ]
  },
  {
   "cell_type": "code",
   "execution_count": 107,
   "metadata": {},
   "outputs": [],
   "source": [
    "from metar import Metar\n",
    "from datetime import datetime, timedelta\n",
    "import pandas as pd\n",
    "\n",
    "df_metar = pd.read_csv(\"./processed_data/metar_silver.csv\")\n",
    "\n"
   ]
  },
  {
   "cell_type": "code",
   "execution_count": 118,
   "metadata": {},
   "outputs": [],
   "source": [
    "\n",
    "\n",
    "def interpretaMetaR(metarBruto):\n",
    "\n",
    "    metarBruto = metarBruto.replace('METAF', 'METAR')\n",
    "    metarBruto = metarBruto.replace('\\n', '')\n",
    "\n",
    "\n",
    "    station = ''\n",
    "    type = ''\n",
    "    hora_formated = ''\n",
    "    station = ''\n",
    "    dew_point = ''\n",
    "    windDirection = ''\n",
    "    windVelocity = ''\n",
    "    visibility = ''\n",
    "    pressure = ''\n",
    "    weather = ''\n",
    "    sky = ''\n",
    "    skyFeet= ''\n",
    "\n",
    "    try: \n",
    "\n",
    "        obs = Metar.Metar(metarBruto[:-1])\n",
    "        print(obs)\n",
    "\n",
    "        for item in obs.string().split('\\n'):\n",
    "            if(\"station\" in item):\n",
    "                station = item.split(\" \")[1]\n",
    "            if(\"type\" in item):\n",
    "                type = \" \".join(item.split(\" \")[1:])\n",
    "            if(\"time\" in item):\n",
    "                timeZ = \" \".join(item.split(\" \")[1:])\n",
    "                data_obj = datetime.strptime(timeZ, \"%a %b %d %H:%M:%S %Y\")\n",
    "                nova_data_obj = data_obj - timedelta(hours=3)\n",
    "                hora_formated = nova_data_obj.strftime(\"%a %b %d %H:%M:%S %Y\")\n",
    "            if(\"temperature\" in item):\n",
    "                station = item.split(\" \")[1]\n",
    "            if(\"dew point\" in item):\n",
    "                dew_point = item.split(\" \")[2]\n",
    "            if(\"wind\" in item):\n",
    "                wind = (item.split(\" \")[1:])\n",
    "                windDirection = wind[0]\n",
    "                windVelocity = wind[2]\n",
    "            if(\"visibility\" in item):\n",
    "                visibility = item.split(\" \")[1]\n",
    "            if(\"pressure\" in item):\n",
    "                pressure = item.split(\" \")[1]\n",
    "            if(\"weather\" in item):\n",
    "                weather = \" \".join(item.split(\" \")[1:])\n",
    "            if(\"sky\" in item):\n",
    "                \n",
    "                sky = item.split(\" \")[1]\n",
    "                skyFeet = item.split(\" \")[3]\n",
    "    except:\n",
    "        pass\n",
    "\n",
    "    return station, type, hora_formated, station,dew_point,windDirection,windVelocity,visibility,pressure,weather,sky,skyFeet\n",
    "        \n",
    "\n"
   ]
  },
  {
   "cell_type": "code",
   "execution_count": 109,
   "metadata": {},
   "outputs": [],
   "source": [
    "resultado_df =  df_metar['metaf'].apply(interpretaMetaR)\n",
    "resultado_df =  pd.DataFrame(resultado_df.tolist(),columns=['station', 'type', 'hora_formated', 'station','dew_point','windDirection','windVelocity','visibility','pressure','weather','sky','skyFeet'] )\n",
    "\n",
    "\n",
    "metaR_silver = pd.concat([df_metar, resultado_df], axis=1)"
   ]
  },
  {
   "cell_type": "code",
   "execution_count": 112,
   "metadata": {},
   "outputs": [
    {
     "data": {
      "text/plain": [
       "'METAF SBSP 012000Z  13007KT 9999  -TSRA  SCT025 FEW030CB 26/19 Q1014=\\n'"
      ]
     },
     "execution_count": 112,
     "metadata": {},
     "output_type": "execute_result"
    }
   ],
   "source": [
    "metaR_silver.metaf.iloc[30710]"
   ]
  },
  {
   "cell_type": "code",
   "execution_count": 119,
   "metadata": {},
   "outputs": [
    {
     "name": "stdout",
     "output_type": "stream",
     "text": [
      "station: SBSP\n",
      "type: routine report, cycle 20 (automatic report)\n",
      "time: Fri Sep  1 20:00:00 2023\n",
      "temperature: 26.0 C\n",
      "dew point: 19.0 C\n",
      "wind: SE at 7 knots\n",
      "visibility: greater than 10000 meters\n",
      "pressure: 1014.0 mb\n",
      "weather: light thunderstorm with rain\n",
      "sky: scattered clouds at 2500 feet\n",
      "     a few cumulonimbus at 3000 feet\n",
      "METAR: METAR SBSP 012000Z  13007KT 9999  -TSRA  SCT025 FEW030CB 26/19 Q1014\n"
     ]
    },
    {
     "data": {
      "text/plain": [
       "('26.0',\n",
       " 'routine report, cycle 20 (automatic report)',\n",
       " 'Fri Sep 01 17:00:00 2023',\n",
       " '26.0',\n",
       " '19.0',\n",
       " 'SE',\n",
       " '7',\n",
       " 'greater',\n",
       " '1014.0',\n",
       " 'light thunderstorm with rain',\n",
       " 'scattered',\n",
       " 'at')"
      ]
     },
     "execution_count": 119,
     "metadata": {},
     "output_type": "execute_result"
    }
   ],
   "source": [
    "interpretaMetaR(\"METAF SBSP 012000Z  13007KT 9999  -TSRA  SCT025 FEW030CB 26/19 Q1014=\\n\")"
   ]
  }
 ],
 "metadata": {
  "kernelspec": {
   "display_name": "Python 3",
   "language": "python",
   "name": "python3"
  },
  "language_info": {
   "codemirror_mode": {
    "name": "ipython",
    "version": 3
   },
   "file_extension": ".py",
   "mimetype": "text/x-python",
   "name": "python",
   "nbconvert_exporter": "python",
   "pygments_lexer": "ipython3",
   "version": "3.11.5"
  },
  "orig_nbformat": 4
 },
 "nbformat": 4,
 "nbformat_minor": 2
}
