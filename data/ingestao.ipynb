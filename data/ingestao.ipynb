{
 "cells": [
  {
   "cell_type": "markdown",
   "metadata": {},
   "source": [
    "### imports"
   ]
  },
  {
   "cell_type": "code",
   "execution_count": 5,
   "metadata": {},
   "outputs": [],
   "source": [
    "import pandas as pd\n",
    "import numpy as np\n",
    "import requests\n",
    "import os\n",
    "from datetime import datetime, timedelta\n",
    "from tqdm import tqdm\n",
    "import json"
   ]
  },
  {
   "cell_type": "markdown",
   "metadata": {},
   "source": [
    "### /bimtra\n",
    "\n",
    "Fazer a requisição necessaria para baixar os dados e salvar em \"raw_bimtra\"\n"
   ]
  },
  {
   "cell_type": "code",
   "execution_count": 6,
   "metadata": {},
   "outputs": [
    {
     "name": "stderr",
     "output_type": "stream",
     "text": [
      "  3%|▎         | 1/38 [00:00<00:07,  5.01it/s]"
     ]
    },
    {
     "name": "stdout",
     "output_type": "stream",
     "text": [
      "\n",
      "idate: 2020-01-01 , fdate: 2020-02-01\n"
     ]
    },
    {
     "name": "stderr",
     "output_type": "stream",
     "text": [
      "  5%|▌         | 2/38 [00:00<00:06,  5.74it/s]"
     ]
    },
    {
     "name": "stdout",
     "output_type": "stream",
     "text": [
      "\n",
      "idate: 2020-02-01 , fdate: 2020-03-01\n",
      "\n",
      "idate: 2020-03-01 , fdate: 2020-04-01\n"
     ]
    },
    {
     "name": "stderr",
     "output_type": "stream",
     "text": [
      " 11%|█         | 4/38 [00:00<00:06,  5.64it/s]"
     ]
    },
    {
     "name": "stdout",
     "output_type": "stream",
     "text": [
      "\n",
      "idate: 2020-04-01 , fdate: 2020-05-01\n"
     ]
    },
    {
     "name": "stderr",
     "output_type": "stream",
     "text": [
      " 13%|█▎        | 5/38 [00:00<00:05,  5.70it/s]"
     ]
    },
    {
     "name": "stdout",
     "output_type": "stream",
     "text": [
      "\n",
      "idate: 2020-05-01 , fdate: 2020-06-01\n",
      "\n",
      "idate: 2020-06-01 , fdate: 2020-07-01\n"
     ]
    },
    {
     "name": "stderr",
     "output_type": "stream",
     "text": [
      " 18%|█▊        | 7/38 [00:01<00:05,  5.83it/s]"
     ]
    },
    {
     "name": "stdout",
     "output_type": "stream",
     "text": [
      "\n",
      "idate: 2020-07-01 , fdate: 2020-08-01\n",
      "\n",
      "idate: 2020-08-01 , fdate: 2020-09-01\n"
     ]
    },
    {
     "name": "stderr",
     "output_type": "stream",
     "text": [
      " 24%|██▎       | 9/38 [00:01<00:04,  6.51it/s]"
     ]
    },
    {
     "name": "stdout",
     "output_type": "stream",
     "text": [
      "\n",
      "idate: 2020-09-01 , fdate: 2020-10-01\n",
      "\n",
      "idate: 2020-10-01 , fdate: 2020-11-01\n"
     ]
    },
    {
     "name": "stderr",
     "output_type": "stream",
     "text": [
      " 29%|██▉       | 11/38 [00:01<00:04,  6.59it/s]"
     ]
    },
    {
     "name": "stdout",
     "output_type": "stream",
     "text": [
      "\n",
      "idate: 2020-11-01 , fdate: 2020-12-01\n",
      "\n",
      "idate: 2020-12-01 , fdate: 2021-01-01\n"
     ]
    },
    {
     "name": "stderr",
     "output_type": "stream",
     "text": [
      " 34%|███▍      | 13/38 [00:02<00:03,  6.50it/s]"
     ]
    },
    {
     "name": "stdout",
     "output_type": "stream",
     "text": [
      "\n",
      "idate: 2021-01-01 , fdate: 2021-02-01\n",
      "\n",
      "idate: 2021-02-01 , fdate: 2021-03-01\n"
     ]
    },
    {
     "name": "stderr",
     "output_type": "stream",
     "text": [
      " 39%|███▉      | 15/38 [00:02<00:03,  6.17it/s]"
     ]
    },
    {
     "name": "stdout",
     "output_type": "stream",
     "text": [
      "\n",
      "idate: 2021-03-01 , fdate: 2021-04-01\n",
      "\n",
      "idate: 2021-04-01 , fdate: 2021-05-01\n"
     ]
    },
    {
     "name": "stderr",
     "output_type": "stream",
     "text": [
      " 45%|████▍     | 17/38 [00:02<00:03,  6.34it/s]"
     ]
    },
    {
     "name": "stdout",
     "output_type": "stream",
     "text": [
      "\n",
      "idate: 2021-05-01 , fdate: 2021-06-01\n",
      "\n",
      "idate: 2021-06-01 , fdate: 2021-07-01\n"
     ]
    },
    {
     "name": "stderr",
     "output_type": "stream",
     "text": [
      " 50%|█████     | 19/38 [00:03<00:03,  6.19it/s]"
     ]
    },
    {
     "name": "stdout",
     "output_type": "stream",
     "text": [
      "\n",
      "idate: 2021-07-01 , fdate: 2021-08-01\n",
      "\n",
      "idate: 2021-08-01 , fdate: 2021-09-01\n"
     ]
    },
    {
     "name": "stderr",
     "output_type": "stream",
     "text": [
      " 55%|█████▌    | 21/38 [00:03<00:02,  6.27it/s]"
     ]
    },
    {
     "name": "stdout",
     "output_type": "stream",
     "text": [
      "\n",
      "idate: 2021-09-01 , fdate: 2021-10-01\n",
      "\n",
      "idate: 2021-10-01 , fdate: 2021-11-01\n"
     ]
    },
    {
     "name": "stderr",
     "output_type": "stream",
     "text": [
      " 61%|██████    | 23/38 [00:03<00:02,  6.31it/s]"
     ]
    },
    {
     "name": "stdout",
     "output_type": "stream",
     "text": [
      "\n",
      "idate: 2021-11-01 , fdate: 2021-12-01\n",
      "\n",
      "idate: 2021-12-01 , fdate: 2022-01-01\n"
     ]
    },
    {
     "name": "stderr",
     "output_type": "stream",
     "text": [
      " 66%|██████▌   | 25/38 [00:04<00:02,  6.25it/s]"
     ]
    },
    {
     "name": "stdout",
     "output_type": "stream",
     "text": [
      "\n",
      "idate: 2022-01-01 , fdate: 2022-02-01\n",
      "\n",
      "idate: 2022-02-01 , fdate: 2022-03-01\n"
     ]
    },
    {
     "name": "stderr",
     "output_type": "stream",
     "text": [
      " 71%|███████   | 27/38 [00:04<00:01,  6.28it/s]"
     ]
    },
    {
     "name": "stdout",
     "output_type": "stream",
     "text": [
      "\n",
      "idate: 2022-03-01 , fdate: 2022-04-01\n",
      "\n",
      "idate: 2022-04-01 , fdate: 2022-05-01\n"
     ]
    },
    {
     "name": "stderr",
     "output_type": "stream",
     "text": [
      " 74%|███████▎  | 28/38 [00:04<00:01,  6.21it/s]"
     ]
    },
    {
     "name": "stdout",
     "output_type": "stream",
     "text": [
      "\n",
      "idate: 2022-05-01 , fdate: 2022-06-01\n"
     ]
    },
    {
     "name": "stderr",
     "output_type": "stream",
     "text": [
      " 76%|███████▋  | 29/38 [00:04<00:01,  5.35it/s]"
     ]
    },
    {
     "name": "stdout",
     "output_type": "stream",
     "text": [
      "Saved data\n",
      "\n",
      "idate: 2022-06-01 , fdate: 2022-07-01\n"
     ]
    },
    {
     "name": "stderr",
     "output_type": "stream",
     "text": [
      " 79%|███████▉  | 30/38 [00:05<00:03,  2.12it/s]"
     ]
    },
    {
     "name": "stdout",
     "output_type": "stream",
     "text": [
      "Saved data\n",
      "\n",
      "idate: 2022-07-01 , fdate: 2022-08-01\n"
     ]
    },
    {
     "name": "stderr",
     "output_type": "stream",
     "text": [
      " 82%|████████▏ | 31/38 [00:07<00:05,  1.36it/s]"
     ]
    },
    {
     "name": "stdout",
     "output_type": "stream",
     "text": [
      "Saved data\n",
      "\n",
      "idate: 2022-08-01 , fdate: 2022-09-01\n"
     ]
    },
    {
     "name": "stderr",
     "output_type": "stream",
     "text": [
      " 84%|████████▍ | 32/38 [00:08<00:05,  1.04it/s]"
     ]
    },
    {
     "name": "stdout",
     "output_type": "stream",
     "text": [
      "Saved data\n",
      "\n",
      "idate: 2022-09-01 , fdate: 2022-10-01\n"
     ]
    },
    {
     "name": "stderr",
     "output_type": "stream",
     "text": [
      " 87%|████████▋ | 33/38 [00:09<00:05,  1.05s/it]"
     ]
    },
    {
     "name": "stdout",
     "output_type": "stream",
     "text": [
      "Saved data\n",
      "\n",
      "idate: 2022-10-01 , fdate: 2022-11-01\n"
     ]
    },
    {
     "name": "stderr",
     "output_type": "stream",
     "text": [
      " 89%|████████▉ | 34/38 [00:11<00:04,  1.20s/it]"
     ]
    },
    {
     "name": "stdout",
     "output_type": "stream",
     "text": [
      "Saved data\n",
      "\n",
      "idate: 2022-11-01 , fdate: 2022-12-01\n"
     ]
    },
    {
     "name": "stderr",
     "output_type": "stream",
     "text": [
      " 92%|█████████▏| 35/38 [00:12<00:03,  1.23s/it]"
     ]
    },
    {
     "name": "stdout",
     "output_type": "stream",
     "text": [
      "Saved data\n",
      "\n",
      "idate: 2022-12-01 , fdate: 2023-01-01\n"
     ]
    },
    {
     "name": "stderr",
     "output_type": "stream",
     "text": [
      " 95%|█████████▍| 36/38 [00:14<00:02,  1.27s/it]"
     ]
    },
    {
     "name": "stdout",
     "output_type": "stream",
     "text": [
      "Saved data\n",
      "\n",
      "idate: 2023-01-01 , fdate: 2023-02-01\n"
     ]
    },
    {
     "name": "stderr",
     "output_type": "stream",
     "text": [
      " 97%|█████████▋| 37/38 [00:15<00:01,  1.29s/it]"
     ]
    },
    {
     "name": "stdout",
     "output_type": "stream",
     "text": [
      "Saved data\n",
      "\n",
      "idate: 2023-02-01 , fdate: 2023-03-01\n"
     ]
    },
    {
     "name": "stderr",
     "output_type": "stream",
     "text": [
      "100%|██████████| 38/38 [00:16<00:00,  2.27it/s]"
     ]
    },
    {
     "name": "stdout",
     "output_type": "stream",
     "text": [
      "Saved data\n"
     ]
    },
    {
     "name": "stderr",
     "output_type": "stream",
     "text": [
      "\n"
     ]
    }
   ],
   "source": [
    "\n",
    "def bimtra_req(idate,fdate):\n",
    "    url = 'http://montreal.icea.decea.mil.br:5002/api/v1/bimtra'\n",
    "    params = {\n",
    "        'token': 'a779d04f85c4bf6cfa586d30aaec57c44e9b7173',\n",
    "        'idate': idate,\n",
    "        'fdate': fdate\n",
    "    }\n",
    "    headers = {\n",
    "        'accept': 'application/json'\n",
    "    }\n",
    "\n",
    "    response = requests.get(url, params=params, headers=headers)\n",
    "\n",
    "    if response.status_code == 200:\n",
    "        data = response.json()\n",
    "        return data\n",
    "    else:\n",
    "        print(f\"Falha na requisição. Código de status: {response.status_code}\")\n",
    "\n",
    "dateArray = np.arange(np.datetime64('2020-01'), np.datetime64('2023-04'), np.timedelta64(1,'M'))\n",
    "pathfile = './raw_data/bimtra_raw.txt'\n",
    "if os.path.exists(pathfile) :\n",
    "    first = False\n",
    "else:\n",
    "    first = True\n",
    "\n",
    "for aux in tqdm(range(len(dateArray)-1)):\n",
    "    idate = str(dateArray[aux])+\"-01\"\n",
    "    fdate = str(dateArray[aux+1])+\"-01\"\n",
    "    print(f\"\\nidate: {idate} , fdate: {fdate}\")\n",
    "    data = bimtra_req(idate,fdate)\n",
    "    data = str(data).replace(\"'\",'\"')\n",
    "    if str(data) != \"[]\": \n",
    "        with open(pathfile, 'a') as arquivo:\n",
    "            if first:\n",
    "                arquivo.write(str(data)[:-1])\n",
    "                first = False\n",
    "                \n",
    "            else:\n",
    "                arquivo.write(\",\"+str(data)[1:-1])\n",
    "            print(\"Saved data\")\n",
    "with open(pathfile, 'a') as arquivo:\n",
    "    arquivo.write(\"]\")\n",
    "\n"
   ]
  },
  {
   "cell_type": "markdown",
   "metadata": {},
   "source": [
    "Coloca os dados em um csv, e converte a coluna de data de decolagem e pouso de segundos para data."
   ]
  },
  {
   "cell_type": "code",
   "execution_count": 7,
   "metadata": {},
   "outputs": [],
   "source": [
    "\n",
    "\n",
    "with open(pathfile, 'r') as arquivo:\n",
    "    # Carregue o conteúdo do arquivo em uma lista de dicionários\n",
    "    data_complete = json.load(arquivo)\n",
    "\n",
    "df = pd.DataFrame(data_complete)\n",
    "\n",
    "df['dt_dep_formatted'] = df['dt_dep'].apply(lambda x: datetime.fromtimestamp(int(x)/1000).strftime(\"%A, %B %d, %Y %I:%M:%S\"))\n",
    "df['dt_arr_formatted'] = df['dt_arr'].apply(lambda x: datetime.fromtimestamp(int(x)/1000).strftime(\"%A, %B %d, %Y %I:%M:%S\"))\n",
    "\n",
    "df.to_csv(\"./processed_data/bimtra_bronze.csv\",index=False)\n"
   ]
  },
  {
   "cell_type": "markdown",
   "metadata": {},
   "source": [
    "### /espera\n",
    "\n",
    "Fazer a requisição necessaria para baixar os dados e salvar em \"raw_espera\"\n"
   ]
  },
  {
   "cell_type": "code",
   "execution_count": 8,
   "metadata": {},
   "outputs": [
    {
     "name": "stderr",
     "output_type": "stream",
     "text": [
      "  3%|▎         | 1/38 [00:00<00:03,  9.41it/s]"
     ]
    },
    {
     "name": "stdout",
     "output_type": "stream",
     "text": [
      "\n",
      "idate: 2020-01-01 , fdate: 2020-02-01\n",
      "\n",
      "idate: 2020-02-01 , fdate: 2020-03-01\n"
     ]
    },
    {
     "name": "stderr",
     "output_type": "stream",
     "text": [
      "  5%|▌         | 2/38 [00:00<00:03,  9.49it/s]"
     ]
    },
    {
     "name": "stdout",
     "output_type": "stream",
     "text": [
      "\n",
      "idate: 2020-03-01 , fdate: 2020-04-01\n",
      "\n",
      "idate: 2020-04-01 , fdate: 2020-05-01\n"
     ]
    },
    {
     "name": "stderr",
     "output_type": "stream",
     "text": [
      " 13%|█▎        | 5/38 [00:00<00:03,  8.57it/s]"
     ]
    },
    {
     "name": "stdout",
     "output_type": "stream",
     "text": [
      "\n",
      "idate: 2020-05-01 , fdate: 2020-06-01\n",
      "\n",
      "idate: 2020-06-01 , fdate: 2020-07-01\n"
     ]
    },
    {
     "name": "stderr",
     "output_type": "stream",
     "text": [
      " 18%|█▊        | 7/38 [00:00<00:03,  8.12it/s]"
     ]
    },
    {
     "name": "stdout",
     "output_type": "stream",
     "text": [
      "\n",
      "idate: 2020-07-01 , fdate: 2020-08-01\n",
      "\n",
      "idate: 2020-08-01 , fdate: 2020-09-01\n"
     ]
    },
    {
     "name": "stderr",
     "output_type": "stream",
     "text": [
      " 24%|██▎       | 9/38 [00:01<00:03,  7.43it/s]"
     ]
    },
    {
     "name": "stdout",
     "output_type": "stream",
     "text": [
      "\n",
      "idate: 2020-09-01 , fdate: 2020-10-01\n",
      "\n",
      "idate: 2020-10-01 , fdate: 2020-11-01\n"
     ]
    },
    {
     "name": "stderr",
     "output_type": "stream",
     "text": [
      " 29%|██▉       | 11/38 [00:01<00:03,  7.52it/s]"
     ]
    },
    {
     "name": "stdout",
     "output_type": "stream",
     "text": [
      "\n",
      "idate: 2020-11-01 , fdate: 2020-12-01\n",
      "\n",
      "idate: 2020-12-01 , fdate: 2021-01-01\n"
     ]
    },
    {
     "name": "stderr",
     "output_type": "stream",
     "text": [
      " 34%|███▍      | 13/38 [00:01<00:03,  7.51it/s]"
     ]
    },
    {
     "name": "stdout",
     "output_type": "stream",
     "text": [
      "\n",
      "idate: 2021-01-01 , fdate: 2021-02-01\n",
      "\n",
      "idate: 2021-02-01 , fdate: 2021-03-01\n"
     ]
    },
    {
     "name": "stderr",
     "output_type": "stream",
     "text": [
      " 39%|███▉      | 15/38 [00:01<00:03,  7.63it/s]"
     ]
    },
    {
     "name": "stdout",
     "output_type": "stream",
     "text": [
      "\n",
      "idate: 2021-03-01 , fdate: 2021-04-01\n",
      "\n",
      "idate: 2021-04-01 , fdate: 2021-05-01\n"
     ]
    },
    {
     "name": "stderr",
     "output_type": "stream",
     "text": [
      " 45%|████▍     | 17/38 [00:02<00:02,  7.62it/s]"
     ]
    },
    {
     "name": "stdout",
     "output_type": "stream",
     "text": [
      "\n",
      "idate: 2021-05-01 , fdate: 2021-06-01\n",
      "\n",
      "idate: 2021-06-01 , fdate: 2021-07-01\n"
     ]
    },
    {
     "name": "stderr",
     "output_type": "stream",
     "text": [
      " 50%|█████     | 19/38 [00:02<00:02,  7.66it/s]"
     ]
    },
    {
     "name": "stdout",
     "output_type": "stream",
     "text": [
      "\n",
      "idate: 2021-07-01 , fdate: 2021-08-01\n",
      "\n",
      "idate: 2021-08-01 , fdate: 2021-09-01\n"
     ]
    },
    {
     "name": "stderr",
     "output_type": "stream",
     "text": [
      " 55%|█████▌    | 21/38 [00:02<00:02,  7.57it/s]"
     ]
    },
    {
     "name": "stdout",
     "output_type": "stream",
     "text": [
      "\n",
      "idate: 2021-09-01 , fdate: 2021-10-01\n",
      "\n",
      "idate: 2021-10-01 , fdate: 2021-11-01\n"
     ]
    },
    {
     "name": "stderr",
     "output_type": "stream",
     "text": [
      " 61%|██████    | 23/38 [00:02<00:01,  7.52it/s]"
     ]
    },
    {
     "name": "stdout",
     "output_type": "stream",
     "text": [
      "\n",
      "idate: 2021-11-01 , fdate: 2021-12-01\n",
      "\n",
      "idate: 2021-12-01 , fdate: 2022-01-01\n"
     ]
    },
    {
     "name": "stderr",
     "output_type": "stream",
     "text": [
      " 66%|██████▌   | 25/38 [00:03<00:01,  7.36it/s]"
     ]
    },
    {
     "name": "stdout",
     "output_type": "stream",
     "text": [
      "\n",
      "idate: 2022-01-01 , fdate: 2022-02-01\n",
      "\n",
      "idate: 2022-02-01 , fdate: 2022-03-01\n"
     ]
    },
    {
     "name": "stderr",
     "output_type": "stream",
     "text": [
      " 71%|███████   | 27/38 [00:03<00:01,  7.44it/s]"
     ]
    },
    {
     "name": "stdout",
     "output_type": "stream",
     "text": [
      "\n",
      "idate: 2022-03-01 , fdate: 2022-04-01\n",
      "\n",
      "idate: 2022-04-01 , fdate: 2022-05-01\n"
     ]
    },
    {
     "name": "stderr",
     "output_type": "stream",
     "text": [
      " 76%|███████▋  | 29/38 [00:03<00:01,  7.14it/s]"
     ]
    },
    {
     "name": "stdout",
     "output_type": "stream",
     "text": [
      "\n",
      "idate: 2022-05-01 , fdate: 2022-06-01\n",
      "Saved data\n",
      "\n",
      "idate: 2022-06-01 , fdate: 2022-07-01\n"
     ]
    },
    {
     "name": "stderr",
     "output_type": "stream",
     "text": [
      " 79%|███████▉  | 30/38 [00:04<00:01,  4.16it/s]"
     ]
    },
    {
     "name": "stdout",
     "output_type": "stream",
     "text": [
      "Saved data\n",
      "\n",
      "idate: 2022-07-01 , fdate: 2022-08-01\n"
     ]
    },
    {
     "name": "stderr",
     "output_type": "stream",
     "text": [
      " 82%|████████▏ | 31/38 [00:04<00:01,  3.57it/s]"
     ]
    },
    {
     "name": "stdout",
     "output_type": "stream",
     "text": [
      "Saved data\n",
      "\n",
      "idate: 2022-08-01 , fdate: 2022-09-01\n"
     ]
    },
    {
     "name": "stderr",
     "output_type": "stream",
     "text": [
      " 84%|████████▍ | 32/38 [00:05<00:02,  2.25it/s]"
     ]
    },
    {
     "name": "stdout",
     "output_type": "stream",
     "text": [
      "Saved data\n",
      "\n",
      "idate: 2022-09-01 , fdate: 2022-10-01\n"
     ]
    },
    {
     "name": "stderr",
     "output_type": "stream",
     "text": [
      " 87%|████████▋ | 33/38 [00:05<00:02,  2.16it/s]"
     ]
    },
    {
     "name": "stdout",
     "output_type": "stream",
     "text": [
      "Saved data\n",
      "\n",
      "idate: 2022-10-01 , fdate: 2022-11-01\n"
     ]
    },
    {
     "name": "stderr",
     "output_type": "stream",
     "text": [
      " 89%|████████▉ | 34/38 [00:06<00:01,  2.25it/s]"
     ]
    },
    {
     "name": "stdout",
     "output_type": "stream",
     "text": [
      "Saved data\n",
      "\n",
      "idate: 2022-11-01 , fdate: 2022-12-01\n"
     ]
    },
    {
     "name": "stderr",
     "output_type": "stream",
     "text": [
      " 92%|█████████▏| 35/38 [00:06<00:01,  2.32it/s]"
     ]
    },
    {
     "name": "stdout",
     "output_type": "stream",
     "text": [
      "Saved data\n",
      "\n",
      "idate: 2022-12-01 , fdate: 2023-01-01\n"
     ]
    },
    {
     "name": "stderr",
     "output_type": "stream",
     "text": [
      " 95%|█████████▍| 36/38 [00:07<00:00,  2.09it/s]"
     ]
    },
    {
     "name": "stdout",
     "output_type": "stream",
     "text": [
      "Saved data\n",
      "\n",
      "idate: 2023-01-01 , fdate: 2023-02-01\n"
     ]
    },
    {
     "name": "stderr",
     "output_type": "stream",
     "text": [
      " 97%|█████████▋| 37/38 [00:08<00:00,  1.87it/s]"
     ]
    },
    {
     "name": "stdout",
     "output_type": "stream",
     "text": [
      "Saved data\n",
      "\n",
      "idate: 2023-02-01 , fdate: 2023-03-01\n"
     ]
    },
    {
     "name": "stderr",
     "output_type": "stream",
     "text": [
      "100%|██████████| 38/38 [00:08<00:00,  4.53it/s]"
     ]
    },
    {
     "name": "stdout",
     "output_type": "stream",
     "text": [
      "Saved data\n"
     ]
    },
    {
     "name": "stderr",
     "output_type": "stream",
     "text": [
      "\n"
     ]
    }
   ],
   "source": [
    "\n",
    "def espera_req(idate,fdate):\n",
    "    url = 'http://montreal.icea.decea.mil.br:5002/api/v1/esperas'\n",
    "    params = {\n",
    "        'token': 'a779d04f85c4bf6cfa586d30aaec57c44e9b7173',\n",
    "        'idate': idate,\n",
    "        'fdate': fdate\n",
    "    }\n",
    "    headers = {\n",
    "        'accept': 'application/json'\n",
    "    }\n",
    "\n",
    "    response = requests.get(url, params=params, headers=headers)\n",
    "\n",
    "    if response.status_code == 200:\n",
    "        data = response.json()\n",
    "        return data\n",
    "    else:\n",
    "        print(f\"Falha na requisição. Código de status: {response.status_code}\")\n",
    "\n",
    "dateArray = np.arange(np.datetime64('2020-01'), np.datetime64('2023-04'), np.timedelta64(1,'M'))\n",
    "pathfile = './raw_data/espera_raw.txt'\n",
    "\n",
    "if os.path.exists(pathfile) :\n",
    "    first = False\n",
    "else:\n",
    "    first = True\n",
    "\n",
    "for aux in tqdm(range(len(dateArray)-1)):\n",
    "    idate = str(dateArray[aux])+\"-01\"\n",
    "    fdate = str(dateArray[aux+1])+\"-01\"\n",
    "    print(f\"\\nidate: {idate} , fdate: {fdate}\")\n",
    "    data = espera_req(idate,fdate)\n",
    "    data = str(data).replace(\"'\",'\"')\n",
    "    if str(data) != \"[]\": \n",
    "        with open(pathfile, 'a') as arquivo:\n",
    "            if first:\n",
    "                arquivo.write(str(data)[:-1])\n",
    "                first = False\n",
    "                \n",
    "            else:\n",
    "                arquivo.write(\",\"+str(data)[1:-1])\n",
    "            print(\"Saved data\")\n",
    "with open(pathfile, 'a') as arquivo:\n",
    "    arquivo.write(\"]\")\n",
    "\n"
   ]
  },
  {
   "cell_type": "code",
   "execution_count": 9,
   "metadata": {},
   "outputs": [
    {
     "data": {
      "text/html": [
       "<div>\n",
       "<style scoped>\n",
       "    .dataframe tbody tr th:only-of-type {\n",
       "        vertical-align: middle;\n",
       "    }\n",
       "\n",
       "    .dataframe tbody tr th {\n",
       "        vertical-align: top;\n",
       "    }\n",
       "\n",
       "    .dataframe thead th {\n",
       "        text-align: right;\n",
       "    }\n",
       "</style>\n",
       "<table border=\"1\" class=\"dataframe\">\n",
       "  <thead>\n",
       "    <tr style=\"text-align: right;\">\n",
       "      <th></th>\n",
       "      <th>esperas</th>\n",
       "      <th>hora</th>\n",
       "      <th>aero</th>\n",
       "      <th>hora_formated</th>\n",
       "    </tr>\n",
       "  </thead>\n",
       "  <tbody>\n",
       "    <tr>\n",
       "      <th>0</th>\n",
       "      <td>0</td>\n",
       "      <td>1654041600000</td>\n",
       "      <td>SBBR</td>\n",
       "      <td>Tuesday, May 31, 2022 09:00:00</td>\n",
       "    </tr>\n",
       "    <tr>\n",
       "      <th>1</th>\n",
       "      <td>0</td>\n",
       "      <td>1654045200000</td>\n",
       "      <td>SBBR</td>\n",
       "      <td>Tuesday, May 31, 2022 10:00:00</td>\n",
       "    </tr>\n",
       "    <tr>\n",
       "      <th>2</th>\n",
       "      <td>0</td>\n",
       "      <td>1654048800000</td>\n",
       "      <td>SBBR</td>\n",
       "      <td>Tuesday, May 31, 2022 11:00:00</td>\n",
       "    </tr>\n",
       "    <tr>\n",
       "      <th>3</th>\n",
       "      <td>0</td>\n",
       "      <td>1654052400000</td>\n",
       "      <td>SBBR</td>\n",
       "      <td>Wednesday, June 01, 2022 12:00:00</td>\n",
       "    </tr>\n",
       "    <tr>\n",
       "      <th>4</th>\n",
       "      <td>0</td>\n",
       "      <td>1654056000000</td>\n",
       "      <td>SBBR</td>\n",
       "      <td>Wednesday, June 01, 2022 01:00:00</td>\n",
       "    </tr>\n",
       "  </tbody>\n",
       "</table>\n",
       "</div>"
      ],
      "text/plain": [
       "   esperas           hora  aero                      hora_formated\n",
       "0        0  1654041600000  SBBR     Tuesday, May 31, 2022 09:00:00\n",
       "1        0  1654045200000  SBBR     Tuesday, May 31, 2022 10:00:00\n",
       "2        0  1654048800000  SBBR     Tuesday, May 31, 2022 11:00:00\n",
       "3        0  1654052400000  SBBR  Wednesday, June 01, 2022 12:00:00\n",
       "4        0  1654056000000  SBBR  Wednesday, June 01, 2022 01:00:00"
      ]
     },
     "execution_count": 9,
     "metadata": {},
     "output_type": "execute_result"
    }
   ],
   "source": [
    "with open(pathfile, 'r') as arquivo:\n",
    "    # Carregue o conteúdo do arquivo em uma lista de dicionários\n",
    "    data_complete = json.load(arquivo)\n",
    "\n",
    "df = pd.DataFrame(data_complete)\n",
    "\n",
    "df['hora_formated'] = df['hora'].apply(lambda x: datetime.fromtimestamp(int(x)/1000).strftime(\"%A, %B %d, %Y %I:%M:%S\"))\n",
    "\n",
    "df.to_csv(\"./processed_data/espera_bronze.csv\",index=False)\n",
    "\n",
    "df.head()\n"
   ]
  },
  {
   "cell_type": "markdown",
   "metadata": {},
   "source": [
    "### /MetaF\n",
    "\n",
    "Fazer a requisição necessaria para baixar os dados e salvar em \"raw_metaf\""
   ]
  },
  {
   "cell_type": "code",
   "execution_count": 10,
   "metadata": {},
   "outputs": [
    {
     "name": "stderr",
     "output_type": "stream",
     "text": [
      "  3%|▎         | 1/38 [00:00<00:05,  7.15it/s]"
     ]
    },
    {
     "name": "stdout",
     "output_type": "stream",
     "text": [
      "\n",
      "idate: 2020-01-01 , fdate: 2020-02-01\n",
      "\n",
      "idate: 2020-02-01 , fdate: 2020-03-01\n"
     ]
    },
    {
     "name": "stderr",
     "output_type": "stream",
     "text": [
      "  8%|▊         | 3/38 [00:00<00:04,  7.43it/s]"
     ]
    },
    {
     "name": "stdout",
     "output_type": "stream",
     "text": [
      "\n",
      "idate: 2020-03-01 , fdate: 2020-04-01\n",
      "\n",
      "idate: 2020-04-01 , fdate: 2020-05-01\n"
     ]
    },
    {
     "name": "stderr",
     "output_type": "stream",
     "text": [
      " 13%|█▎        | 5/38 [00:00<00:04,  7.55it/s]"
     ]
    },
    {
     "name": "stdout",
     "output_type": "stream",
     "text": [
      "\n",
      "idate: 2020-05-01 , fdate: 2020-06-01\n",
      "\n",
      "idate: 2020-06-01 , fdate: 2020-07-01\n"
     ]
    },
    {
     "name": "stderr",
     "output_type": "stream",
     "text": [
      " 18%|█▊        | 7/38 [00:00<00:04,  7.68it/s]"
     ]
    },
    {
     "name": "stdout",
     "output_type": "stream",
     "text": [
      "\n",
      "idate: 2020-07-01 , fdate: 2020-08-01\n",
      "\n",
      "idate: 2020-08-01 , fdate: 2020-09-01\n"
     ]
    },
    {
     "name": "stderr",
     "output_type": "stream",
     "text": [
      " 24%|██▎       | 9/38 [00:01<00:03,  7.72it/s]"
     ]
    },
    {
     "name": "stdout",
     "output_type": "stream",
     "text": [
      "\n",
      "idate: 2020-09-01 , fdate: 2020-10-01\n",
      "\n",
      "idate: 2020-10-01 , fdate: 2020-11-01\n"
     ]
    },
    {
     "name": "stderr",
     "output_type": "stream",
     "text": [
      " 29%|██▉       | 11/38 [00:01<00:03,  7.68it/s]"
     ]
    },
    {
     "name": "stdout",
     "output_type": "stream",
     "text": [
      "\n",
      "idate: 2020-11-01 , fdate: 2020-12-01\n",
      "\n",
      "idate: 2020-12-01 , fdate: 2021-01-01\n"
     ]
    },
    {
     "name": "stderr",
     "output_type": "stream",
     "text": [
      " 34%|███▍      | 13/38 [00:01<00:03,  7.31it/s]"
     ]
    },
    {
     "name": "stdout",
     "output_type": "stream",
     "text": [
      "\n",
      "idate: 2021-01-01 , fdate: 2021-02-01\n",
      "\n",
      "idate: 2021-02-01 , fdate: 2021-03-01\n"
     ]
    },
    {
     "name": "stderr",
     "output_type": "stream",
     "text": [
      " 39%|███▉      | 15/38 [00:01<00:03,  7.34it/s]"
     ]
    },
    {
     "name": "stdout",
     "output_type": "stream",
     "text": [
      "\n",
      "idate: 2021-03-01 , fdate: 2021-04-01\n",
      "\n",
      "idate: 2021-04-01 , fdate: 2021-05-01\n"
     ]
    },
    {
     "name": "stderr",
     "output_type": "stream",
     "text": [
      " 45%|████▍     | 17/38 [00:02<00:02,  7.53it/s]"
     ]
    },
    {
     "name": "stdout",
     "output_type": "stream",
     "text": [
      "\n",
      "idate: 2021-05-01 , fdate: 2021-06-01\n",
      "\n",
      "idate: 2021-06-01 , fdate: 2021-07-01\n"
     ]
    },
    {
     "name": "stderr",
     "output_type": "stream",
     "text": [
      " 50%|█████     | 19/38 [00:02<00:02,  7.64it/s]"
     ]
    },
    {
     "name": "stdout",
     "output_type": "stream",
     "text": [
      "\n",
      "idate: 2021-07-01 , fdate: 2021-08-01\n",
      "\n",
      "idate: 2021-08-01 , fdate: 2021-09-01\n"
     ]
    },
    {
     "name": "stderr",
     "output_type": "stream",
     "text": [
      " 55%|█████▌    | 21/38 [00:02<00:02,  7.73it/s]"
     ]
    },
    {
     "name": "stdout",
     "output_type": "stream",
     "text": [
      "\n",
      "idate: 2021-09-01 , fdate: 2021-10-01\n",
      "\n",
      "idate: 2021-10-01 , fdate: 2021-11-01\n"
     ]
    },
    {
     "name": "stderr",
     "output_type": "stream",
     "text": [
      " 61%|██████    | 23/38 [00:03<00:01,  7.79it/s]"
     ]
    },
    {
     "name": "stdout",
     "output_type": "stream",
     "text": [
      "\n",
      "idate: 2021-11-01 , fdate: 2021-12-01\n",
      "\n",
      "idate: 2021-12-01 , fdate: 2022-01-01\n"
     ]
    },
    {
     "name": "stderr",
     "output_type": "stream",
     "text": [
      " 66%|██████▌   | 25/38 [00:03<00:01,  7.83it/s]"
     ]
    },
    {
     "name": "stdout",
     "output_type": "stream",
     "text": [
      "\n",
      "idate: 2022-01-01 , fdate: 2022-02-01\n",
      "\n",
      "idate: 2022-02-01 , fdate: 2022-03-01\n"
     ]
    },
    {
     "name": "stderr",
     "output_type": "stream",
     "text": [
      " 71%|███████   | 27/38 [00:03<00:01,  7.91it/s]"
     ]
    },
    {
     "name": "stdout",
     "output_type": "stream",
     "text": [
      "\n",
      "idate: 2022-03-01 , fdate: 2022-04-01\n",
      "\n",
      "idate: 2022-04-01 , fdate: 2022-05-01\n"
     ]
    },
    {
     "name": "stderr",
     "output_type": "stream",
     "text": [
      " 76%|███████▋  | 29/38 [00:03<00:01,  7.77it/s]"
     ]
    },
    {
     "name": "stdout",
     "output_type": "stream",
     "text": [
      "\n",
      "idate: 2022-05-01 , fdate: 2022-06-01\n",
      "Saved data\n",
      "\n",
      "idate: 2022-06-01 , fdate: 2022-07-01\n"
     ]
    },
    {
     "name": "stderr",
     "output_type": "stream",
     "text": [
      " 79%|███████▉  | 30/38 [00:04<00:01,  6.03it/s]"
     ]
    },
    {
     "name": "stdout",
     "output_type": "stream",
     "text": [
      "Saved data\n",
      "\n",
      "idate: 2022-07-01 , fdate: 2022-08-01\n"
     ]
    },
    {
     "name": "stderr",
     "output_type": "stream",
     "text": [
      " 82%|████████▏ | 31/38 [00:04<00:01,  5.13it/s]"
     ]
    },
    {
     "name": "stdout",
     "output_type": "stream",
     "text": [
      "Saved data\n",
      "\n",
      "idate: 2022-08-01 , fdate: 2022-09-01\n"
     ]
    },
    {
     "name": "stderr",
     "output_type": "stream",
     "text": [
      " 84%|████████▍ | 32/38 [00:04<00:01,  3.95it/s]"
     ]
    },
    {
     "name": "stdout",
     "output_type": "stream",
     "text": [
      "Saved data\n",
      "\n",
      "idate: 2022-09-01 , fdate: 2022-10-01\n"
     ]
    },
    {
     "name": "stderr",
     "output_type": "stream",
     "text": [
      " 87%|████████▋ | 33/38 [00:05<00:01,  3.69it/s]"
     ]
    },
    {
     "name": "stdout",
     "output_type": "stream",
     "text": [
      "Saved data\n",
      "\n",
      "idate: 2022-10-01 , fdate: 2022-11-01\n"
     ]
    },
    {
     "name": "stderr",
     "output_type": "stream",
     "text": [
      " 89%|████████▉ | 34/38 [00:05<00:01,  3.75it/s]"
     ]
    },
    {
     "name": "stdout",
     "output_type": "stream",
     "text": [
      "Saved data\n",
      "\n",
      "idate: 2022-11-01 , fdate: 2022-12-01\n"
     ]
    },
    {
     "name": "stderr",
     "output_type": "stream",
     "text": [
      " 92%|█████████▏| 35/38 [00:05<00:00,  3.79it/s]"
     ]
    },
    {
     "name": "stdout",
     "output_type": "stream",
     "text": [
      "Saved data\n",
      "\n",
      "idate: 2022-12-01 , fdate: 2023-01-01\n"
     ]
    },
    {
     "name": "stderr",
     "output_type": "stream",
     "text": [
      " 95%|█████████▍| 36/38 [00:05<00:00,  3.73it/s]"
     ]
    },
    {
     "name": "stdout",
     "output_type": "stream",
     "text": [
      "Saved data\n",
      "\n",
      "idate: 2023-01-01 , fdate: 2023-02-01\n"
     ]
    },
    {
     "name": "stderr",
     "output_type": "stream",
     "text": [
      " 97%|█████████▋| 37/38 [00:06<00:00,  3.70it/s]"
     ]
    },
    {
     "name": "stdout",
     "output_type": "stream",
     "text": [
      "Saved data\n",
      "\n",
      "idate: 2023-02-01 , fdate: 2023-03-01\n"
     ]
    },
    {
     "name": "stderr",
     "output_type": "stream",
     "text": [
      "100%|██████████| 38/38 [00:06<00:00,  6.05it/s]"
     ]
    },
    {
     "name": "stdout",
     "output_type": "stream",
     "text": [
      "Saved data\n"
     ]
    },
    {
     "name": "stderr",
     "output_type": "stream",
     "text": [
      "\n"
     ]
    }
   ],
   "source": [
    "\n",
    "def metaf_req(idate,fdate):\n",
    "    url = 'http://montreal.icea.decea.mil.br:5002/api/v1/metaf'\n",
    "    params = {\n",
    "        'token': 'a779d04f85c4bf6cfa586d30aaec57c44e9b7173',\n",
    "        'idate': idate,\n",
    "        'fdate': fdate\n",
    "    }\n",
    "    headers = {\n",
    "        'accept': 'application/json'\n",
    "    }\n",
    "\n",
    "    response = requests.get(url, params=params, headers=headers)\n",
    "\n",
    "    if response.status_code == 200:\n",
    "        data = response.json()\n",
    "        return data\n",
    "    else:\n",
    "        print(f\"Falha na requisição. Código de status: {response.status_code}\")\n",
    "\n",
    "dateArray = np.arange(np.datetime64('2020-01'), np.datetime64('2023-04'), np.timedelta64(1,'M'))\n",
    "pathfile = './raw_data/metaf_raw.txt'\n",
    "\n",
    "if os.path.exists(pathfile) :\n",
    "    first = False\n",
    "else:\n",
    "    first = True\n",
    "\n",
    "for aux in tqdm(range(len(dateArray)-1)):\n",
    "    idate = str(dateArray[aux])+\"-01\"\n",
    "    fdate = str(dateArray[aux+1])+\"-01\"\n",
    "    print(f\"\\nidate: {idate} , fdate: {fdate}\")\n",
    "    data = metaf_req(idate,fdate)\n",
    "    data = str(data).replace(\"'\",'\"')\n",
    "    if str(data) != \"[]\": \n",
    "        with open(pathfile, 'a') as arquivo:\n",
    "            if first:\n",
    "                arquivo.write(str(data)[:-1])\n",
    "                first = False\n",
    "                \n",
    "            else:\n",
    "                arquivo.write(\",\"+str(data)[1:-1])\n",
    "            print(\"Saved data\")\n",
    "with open(pathfile, 'a') as arquivo:\n",
    "    arquivo.write(\"]\")\n",
    "\n"
   ]
  },
  {
   "cell_type": "code",
   "execution_count": 11,
   "metadata": {},
   "outputs": [
    {
     "data": {
      "text/html": [
       "<div>\n",
       "<style scoped>\n",
       "    .dataframe tbody tr th:only-of-type {\n",
       "        vertical-align: middle;\n",
       "    }\n",
       "\n",
       "    .dataframe tbody tr th {\n",
       "        vertical-align: top;\n",
       "    }\n",
       "\n",
       "    .dataframe thead th {\n",
       "        text-align: right;\n",
       "    }\n",
       "</style>\n",
       "<table border=\"1\" class=\"dataframe\">\n",
       "  <thead>\n",
       "    <tr style=\"text-align: right;\">\n",
       "      <th></th>\n",
       "      <th>hora</th>\n",
       "      <th>metaf</th>\n",
       "      <th>aero</th>\n",
       "      <th>hora_formated</th>\n",
       "    </tr>\n",
       "  </thead>\n",
       "  <tbody>\n",
       "    <tr>\n",
       "      <th>0</th>\n",
       "      <td>1654041600000</td>\n",
       "      <td>METAF SBGL 010000Z  25002KT 3000     BR OVC033...</td>\n",
       "      <td>SBGL</td>\n",
       "      <td>Tuesday, May 31, 2022 09:00:00</td>\n",
       "    </tr>\n",
       "    <tr>\n",
       "      <th>1</th>\n",
       "      <td>1654045200000</td>\n",
       "      <td>METAF SBGL 010100Z 02001KT 2000     BR OVC011 ...</td>\n",
       "      <td>SBGL</td>\n",
       "      <td>Tuesday, May 31, 2022 10:00:00</td>\n",
       "    </tr>\n",
       "    <tr>\n",
       "      <th>2</th>\n",
       "      <td>1654048800000</td>\n",
       "      <td>METAF SBGL 010200Z 09000KT 2000     BR OVC011 ...</td>\n",
       "      <td>SBGL</td>\n",
       "      <td>Tuesday, May 31, 2022 11:00:00</td>\n",
       "    </tr>\n",
       "    <tr>\n",
       "      <th>3</th>\n",
       "      <td>1654052400000</td>\n",
       "      <td>METAF SBGL 010300Z 09002KT 1000    RABR OVC033...</td>\n",
       "      <td>SBGL</td>\n",
       "      <td>Wednesday, June 01, 2022 12:00:00</td>\n",
       "    </tr>\n",
       "    <tr>\n",
       "      <th>4</th>\n",
       "      <td>1654056000000</td>\n",
       "      <td>METAF SBGL 010400Z 07003KT 1000    RABR OVC033...</td>\n",
       "      <td>SBGL</td>\n",
       "      <td>Wednesday, June 01, 2022 01:00:00</td>\n",
       "    </tr>\n",
       "  </tbody>\n",
       "</table>\n",
       "</div>"
      ],
      "text/plain": [
       "            hora                                              metaf  aero  \\\n",
       "0  1654041600000  METAF SBGL 010000Z  25002KT 3000     BR OVC033...  SBGL   \n",
       "1  1654045200000  METAF SBGL 010100Z 02001KT 2000     BR OVC011 ...  SBGL   \n",
       "2  1654048800000  METAF SBGL 010200Z 09000KT 2000     BR OVC011 ...  SBGL   \n",
       "3  1654052400000  METAF SBGL 010300Z 09002KT 1000    RABR OVC033...  SBGL   \n",
       "4  1654056000000  METAF SBGL 010400Z 07003KT 1000    RABR OVC033...  SBGL   \n",
       "\n",
       "                       hora_formated  \n",
       "0     Tuesday, May 31, 2022 09:00:00  \n",
       "1     Tuesday, May 31, 2022 10:00:00  \n",
       "2     Tuesday, May 31, 2022 11:00:00  \n",
       "3  Wednesday, June 01, 2022 12:00:00  \n",
       "4  Wednesday, June 01, 2022 01:00:00  "
      ]
     },
     "execution_count": 11,
     "metadata": {},
     "output_type": "execute_result"
    }
   ],
   "source": [
    "with open(pathfile, 'r') as arquivo:\n",
    "    # Carregue o conteúdo do arquivo em uma lista de dicionários\n",
    "    data_complete = json.load(arquivo)\n",
    "\n",
    "df = pd.DataFrame(data_complete)\n",
    "\n",
    "df['hora_formated'] = df['hora'].apply(lambda x: datetime.fromtimestamp(int(x)/1000).strftime(\"%A, %B %d, %Y %I:%M:%S\"))\n",
    "\n",
    "df.to_csv(\"./processed_data/metar_bronze.csv\",index=False)\n",
    "\n",
    "df.head()"
   ]
  },
  {
   "cell_type": "markdown",
   "metadata": {},
   "source": [
    "### /MetaR\n",
    "\n",
    "Fazer a requisição necessaria para baixar os dados e salvar em \"raw_metar\""
   ]
  },
  {
   "cell_type": "code",
   "execution_count": 12,
   "metadata": {},
   "outputs": [
    {
     "name": "stderr",
     "output_type": "stream",
     "text": [
      "  3%|▎         | 1/38 [00:00<00:04,  8.87it/s]"
     ]
    },
    {
     "name": "stdout",
     "output_type": "stream",
     "text": [
      "\n",
      "idate: 2020-01-01 , fdate: 2020-02-01\n",
      "\n",
      "idate: 2020-02-01 , fdate: 2020-03-01\n"
     ]
    },
    {
     "name": "stderr",
     "output_type": "stream",
     "text": [
      "  8%|▊         | 3/38 [00:00<00:03,  9.23it/s]"
     ]
    },
    {
     "name": "stdout",
     "output_type": "stream",
     "text": [
      "\n",
      "idate: 2020-03-01 , fdate: 2020-04-01\n",
      "\n",
      "idate: 2020-04-01 , fdate: 2020-05-01\n"
     ]
    },
    {
     "name": "stderr",
     "output_type": "stream",
     "text": [
      " 13%|█▎        | 5/38 [00:00<00:04,  7.96it/s]"
     ]
    },
    {
     "name": "stdout",
     "output_type": "stream",
     "text": [
      "\n",
      "idate: 2020-05-01 , fdate: 2020-06-01\n",
      "\n",
      "idate: 2020-06-01 , fdate: 2020-07-01\n"
     ]
    },
    {
     "name": "stderr",
     "output_type": "stream",
     "text": [
      " 18%|█▊        | 7/38 [00:00<00:04,  7.53it/s]"
     ]
    },
    {
     "name": "stdout",
     "output_type": "stream",
     "text": [
      "\n",
      "idate: 2020-07-01 , fdate: 2020-08-01\n",
      "\n",
      "idate: 2020-08-01 , fdate: 2020-09-01\n"
     ]
    },
    {
     "name": "stderr",
     "output_type": "stream",
     "text": [
      " 24%|██▎       | 9/38 [00:01<00:03,  7.37it/s]"
     ]
    },
    {
     "name": "stdout",
     "output_type": "stream",
     "text": [
      "\n",
      "idate: 2020-09-01 , fdate: 2020-10-01\n",
      "\n",
      "idate: 2020-10-01 , fdate: 2020-11-01\n"
     ]
    },
    {
     "name": "stderr",
     "output_type": "stream",
     "text": [
      " 29%|██▉       | 11/38 [00:01<00:03,  7.26it/s]"
     ]
    },
    {
     "name": "stdout",
     "output_type": "stream",
     "text": [
      "\n",
      "idate: 2020-11-01 , fdate: 2020-12-01\n",
      "\n",
      "idate: 2020-12-01 , fdate: 2021-01-01\n"
     ]
    },
    {
     "name": "stderr",
     "output_type": "stream",
     "text": [
      " 34%|███▍      | 13/38 [00:01<00:03,  7.31it/s]"
     ]
    },
    {
     "name": "stdout",
     "output_type": "stream",
     "text": [
      "\n",
      "idate: 2021-01-01 , fdate: 2021-02-01\n",
      "\n",
      "idate: 2021-02-01 , fdate: 2021-03-01\n"
     ]
    },
    {
     "name": "stderr",
     "output_type": "stream",
     "text": [
      " 39%|███▉      | 15/38 [00:01<00:03,  7.25it/s]"
     ]
    },
    {
     "name": "stdout",
     "output_type": "stream",
     "text": [
      "\n",
      "idate: 2021-03-01 , fdate: 2021-04-01\n",
      "\n",
      "idate: 2021-04-01 , fdate: 2021-05-01\n"
     ]
    },
    {
     "name": "stderr",
     "output_type": "stream",
     "text": [
      " 45%|████▍     | 17/38 [00:02<00:02,  7.15it/s]"
     ]
    },
    {
     "name": "stdout",
     "output_type": "stream",
     "text": [
      "\n",
      "idate: 2021-05-01 , fdate: 2021-06-01\n",
      "\n",
      "idate: 2021-06-01 , fdate: 2021-07-01\n"
     ]
    },
    {
     "name": "stderr",
     "output_type": "stream",
     "text": [
      " 50%|█████     | 19/38 [00:02<00:02,  7.21it/s]"
     ]
    },
    {
     "name": "stdout",
     "output_type": "stream",
     "text": [
      "\n",
      "idate: 2021-07-01 , fdate: 2021-08-01\n",
      "\n",
      "idate: 2021-08-01 , fdate: 2021-09-01\n"
     ]
    },
    {
     "name": "stderr",
     "output_type": "stream",
     "text": [
      " 55%|█████▌    | 21/38 [00:02<00:02,  7.35it/s]"
     ]
    },
    {
     "name": "stdout",
     "output_type": "stream",
     "text": [
      "\n",
      "idate: 2021-09-01 , fdate: 2021-10-01\n",
      "\n",
      "idate: 2021-10-01 , fdate: 2021-11-01\n"
     ]
    },
    {
     "name": "stderr",
     "output_type": "stream",
     "text": [
      " 61%|██████    | 23/38 [00:03<00:02,  7.39it/s]"
     ]
    },
    {
     "name": "stdout",
     "output_type": "stream",
     "text": [
      "\n",
      "idate: 2021-11-01 , fdate: 2021-12-01\n",
      "\n",
      "idate: 2021-12-01 , fdate: 2022-01-01\n"
     ]
    },
    {
     "name": "stderr",
     "output_type": "stream",
     "text": [
      " 66%|██████▌   | 25/38 [00:03<00:01,  7.27it/s]"
     ]
    },
    {
     "name": "stdout",
     "output_type": "stream",
     "text": [
      "\n",
      "idate: 2022-01-01 , fdate: 2022-02-01\n",
      "\n",
      "idate: 2022-02-01 , fdate: 2022-03-01\n"
     ]
    },
    {
     "name": "stderr",
     "output_type": "stream",
     "text": [
      " 71%|███████   | 27/38 [00:03<00:01,  7.13it/s]"
     ]
    },
    {
     "name": "stdout",
     "output_type": "stream",
     "text": [
      "\n",
      "idate: 2022-03-01 , fdate: 2022-04-01\n",
      "\n",
      "idate: 2022-04-01 , fdate: 2022-05-01\n"
     ]
    },
    {
     "name": "stderr",
     "output_type": "stream",
     "text": [
      " 76%|███████▋  | 29/38 [00:03<00:01,  6.67it/s]"
     ]
    },
    {
     "name": "stdout",
     "output_type": "stream",
     "text": [
      "\n",
      "idate: 2022-05-01 , fdate: 2022-06-01\n",
      "Saved data\n",
      "\n",
      "idate: 2022-06-01 , fdate: 2022-07-01\n"
     ]
    },
    {
     "name": "stderr",
     "output_type": "stream",
     "text": [
      " 79%|███████▉  | 30/38 [00:04<00:02,  3.76it/s]"
     ]
    },
    {
     "name": "stdout",
     "output_type": "stream",
     "text": [
      "Saved data\n",
      "\n",
      "idate: 2022-07-01 , fdate: 2022-08-01\n"
     ]
    },
    {
     "name": "stderr",
     "output_type": "stream",
     "text": [
      " 82%|████████▏ | 31/38 [00:04<00:02,  3.10it/s]"
     ]
    },
    {
     "name": "stdout",
     "output_type": "stream",
     "text": [
      "Saved data\n",
      "\n",
      "idate: 2022-08-01 , fdate: 2022-09-01\n"
     ]
    },
    {
     "name": "stderr",
     "output_type": "stream",
     "text": [
      " 84%|████████▍ | 32/38 [00:05<00:02,  2.68it/s]"
     ]
    },
    {
     "name": "stdout",
     "output_type": "stream",
     "text": [
      "Saved data\n",
      "\n",
      "idate: 2022-09-01 , fdate: 2022-10-01\n"
     ]
    },
    {
     "name": "stderr",
     "output_type": "stream",
     "text": [
      " 87%|████████▋ | 33/38 [00:05<00:02,  2.47it/s]"
     ]
    },
    {
     "name": "stdout",
     "output_type": "stream",
     "text": [
      "Saved data\n",
      "\n",
      "idate: 2022-10-01 , fdate: 2022-11-01\n"
     ]
    },
    {
     "name": "stderr",
     "output_type": "stream",
     "text": [
      " 89%|████████▉ | 34/38 [00:06<00:01,  2.15it/s]"
     ]
    },
    {
     "name": "stdout",
     "output_type": "stream",
     "text": [
      "Saved data\n",
      "\n",
      "idate: 2022-11-01 , fdate: 2022-12-01\n"
     ]
    },
    {
     "name": "stderr",
     "output_type": "stream",
     "text": [
      " 92%|█████████▏| 35/38 [00:07<00:01,  2.10it/s]"
     ]
    },
    {
     "name": "stdout",
     "output_type": "stream",
     "text": [
      "Saved data\n",
      "\n",
      "idate: 2022-12-01 , fdate: 2023-01-01\n"
     ]
    },
    {
     "name": "stderr",
     "output_type": "stream",
     "text": [
      " 95%|█████████▍| 36/38 [00:07<00:01,  1.93it/s]"
     ]
    },
    {
     "name": "stdout",
     "output_type": "stream",
     "text": [
      "Saved data\n",
      "\n",
      "idate: 2023-01-01 , fdate: 2023-02-01\n"
     ]
    },
    {
     "name": "stderr",
     "output_type": "stream",
     "text": [
      " 97%|█████████▋| 37/38 [00:08<00:00,  1.89it/s]"
     ]
    },
    {
     "name": "stdout",
     "output_type": "stream",
     "text": [
      "Saved data\n",
      "\n",
      "idate: 2023-02-01 , fdate: 2023-03-01\n"
     ]
    },
    {
     "name": "stderr",
     "output_type": "stream",
     "text": [
      "100%|██████████| 38/38 [00:08<00:00,  4.28it/s]"
     ]
    },
    {
     "name": "stdout",
     "output_type": "stream",
     "text": [
      "Saved data\n"
     ]
    },
    {
     "name": "stderr",
     "output_type": "stream",
     "text": [
      "\n"
     ]
    }
   ],
   "source": [
    "\n",
    "def metar_req(idate,fdate):\n",
    "    url = 'http://montreal.icea.decea.mil.br:5002/api/v1/metar'\n",
    "    params = {\n",
    "        'token': 'a779d04f85c4bf6cfa586d30aaec57c44e9b7173',\n",
    "        'idate': idate,\n",
    "        'fdate': fdate\n",
    "    }\n",
    "    headers = {\n",
    "        'accept': 'application/json'\n",
    "    }\n",
    "\n",
    "    response = requests.get(url, params=params, headers=headers)\n",
    "\n",
    "    if response.status_code == 200:\n",
    "        data = response.json()\n",
    "        return data\n",
    "    else:\n",
    "        print(f\"Falha na requisição. Código de status: {response.status_code}\")\n",
    "\n",
    "dateArray = np.arange(np.datetime64('2020-01'), np.datetime64('2023-04'), np.timedelta64(1,'M'))\n",
    "pathfile = './raw_data/metar_raw.txt'\n",
    "\n",
    "if os.path.exists(pathfile) :\n",
    "    first = False\n",
    "else:\n",
    "    first = True\n",
    "\n",
    "for aux in tqdm(range(len(dateArray)-1)):\n",
    "    idate = str(dateArray[aux])+\"-01\"\n",
    "    fdate = str(dateArray[aux+1])+\"-01\"\n",
    "    print(f\"\\nidate: {idate} , fdate: {fdate}\")\n",
    "    data = metar_req(idate,fdate)\n",
    "    data = str(data).replace(\"'\",'\"')\n",
    "    if str(data) != \"[]\": \n",
    "        with open(pathfile, 'a') as arquivo:\n",
    "            if first:\n",
    "                arquivo.write(str(data)[:-1])\n",
    "                first = False\n",
    "                \n",
    "            else:\n",
    "                arquivo.write(\",\"+str(data)[1:-1])\n",
    "            print(\"Saved data\")\n",
    "with open(pathfile, 'a') as arquivo:\n",
    "    arquivo.write(\"]\")\n",
    "\n"
   ]
  },
  {
   "cell_type": "code",
   "execution_count": 13,
   "metadata": {},
   "outputs": [
    {
     "data": {
      "text/html": [
       "<div>\n",
       "<style scoped>\n",
       "    .dataframe tbody tr th:only-of-type {\n",
       "        vertical-align: middle;\n",
       "    }\n",
       "\n",
       "    .dataframe tbody tr th {\n",
       "        vertical-align: top;\n",
       "    }\n",
       "\n",
       "    .dataframe thead th {\n",
       "        text-align: right;\n",
       "    }\n",
       "</style>\n",
       "<table border=\"1\" class=\"dataframe\">\n",
       "  <thead>\n",
       "    <tr style=\"text-align: right;\">\n",
       "      <th></th>\n",
       "      <th>hora</th>\n",
       "      <th>metar</th>\n",
       "      <th>aero</th>\n",
       "      <th>hora_formated</th>\n",
       "    </tr>\n",
       "  </thead>\n",
       "  <tbody>\n",
       "    <tr>\n",
       "      <th>0</th>\n",
       "      <td>1654041600000</td>\n",
       "      <td>METAR SBBR 010000Z 07002KT CAVOK 21/08 Q1018=</td>\n",
       "      <td>SBBR</td>\n",
       "      <td>Tuesday, May 31, 2022 09:00:00</td>\n",
       "    </tr>\n",
       "    <tr>\n",
       "      <th>1</th>\n",
       "      <td>1654045200000</td>\n",
       "      <td>METAR SBBR 010100Z 10002KT CAVOK 20/09 Q1019=</td>\n",
       "      <td>SBBR</td>\n",
       "      <td>Tuesday, May 31, 2022 10:00:00</td>\n",
       "    </tr>\n",
       "    <tr>\n",
       "      <th>2</th>\n",
       "      <td>1654048800000</td>\n",
       "      <td>METAR SBBR 010200Z 00000KT CAVOK 16/09 Q1019=</td>\n",
       "      <td>SBBR</td>\n",
       "      <td>Tuesday, May 31, 2022 11:00:00</td>\n",
       "    </tr>\n",
       "    <tr>\n",
       "      <th>3</th>\n",
       "      <td>1654052400000</td>\n",
       "      <td>METAR SBBR 010300Z 27002KT CAVOK 16/09 Q1019=</td>\n",
       "      <td>SBBR</td>\n",
       "      <td>Wednesday, June 01, 2022 12:00:00</td>\n",
       "    </tr>\n",
       "    <tr>\n",
       "      <th>4</th>\n",
       "      <td>1654056000000</td>\n",
       "      <td>METAR SBBR 010400Z 00000KT CAVOK 14/09 Q1018=</td>\n",
       "      <td>SBBR</td>\n",
       "      <td>Wednesday, June 01, 2022 01:00:00</td>\n",
       "    </tr>\n",
       "  </tbody>\n",
       "</table>\n",
       "</div>"
      ],
      "text/plain": [
       "            hora                                          metar  aero  \\\n",
       "0  1654041600000  METAR SBBR 010000Z 07002KT CAVOK 21/08 Q1018=  SBBR   \n",
       "1  1654045200000  METAR SBBR 010100Z 10002KT CAVOK 20/09 Q1019=  SBBR   \n",
       "2  1654048800000  METAR SBBR 010200Z 00000KT CAVOK 16/09 Q1019=  SBBR   \n",
       "3  1654052400000  METAR SBBR 010300Z 27002KT CAVOK 16/09 Q1019=  SBBR   \n",
       "4  1654056000000  METAR SBBR 010400Z 00000KT CAVOK 14/09 Q1018=  SBBR   \n",
       "\n",
       "                       hora_formated  \n",
       "0     Tuesday, May 31, 2022 09:00:00  \n",
       "1     Tuesday, May 31, 2022 10:00:00  \n",
       "2     Tuesday, May 31, 2022 11:00:00  \n",
       "3  Wednesday, June 01, 2022 12:00:00  \n",
       "4  Wednesday, June 01, 2022 01:00:00  "
      ]
     },
     "execution_count": 13,
     "metadata": {},
     "output_type": "execute_result"
    }
   ],
   "source": [
    "with open(pathfile, 'r') as arquivo:\n",
    "    # Carregue o conteúdo do arquivo em uma lista de dicionários\n",
    "    data_complete = json.load(arquivo)\n",
    "\n",
    "df = pd.DataFrame(data_complete)\n",
    "\n",
    "df['hora_formated'] = df['hora'].apply(lambda x: datetime.fromtimestamp(int(x)/1000).strftime(\"%A, %B %d, %Y %I:%M:%S\"))\n",
    "\n",
    "df.to_csv(\"./processed_data/metaf_bronze.csv\",index=False)\n",
    "\n",
    "df.head()"
   ]
  },
  {
   "cell_type": "markdown",
   "metadata": {},
   "source": [
    "### /Tc-Prev\n",
    "\n",
    "\n",
    "Fazer a requisição necessaria para baixar os dados e salvar em \"raw_tc-prev\""
   ]
  },
  {
   "cell_type": "code",
   "execution_count": 14,
   "metadata": {},
   "outputs": [
    {
     "name": "stderr",
     "output_type": "stream",
     "text": [
      "  3%|▎         | 1/38 [00:00<00:04,  7.68it/s]"
     ]
    },
    {
     "name": "stdout",
     "output_type": "stream",
     "text": [
      "\n",
      "idate: 2020-01-01 , fdate: 2020-02-01\n",
      "\n",
      "idate: 2020-02-01 , fdate: 2020-03-01\n"
     ]
    },
    {
     "name": "stderr",
     "output_type": "stream",
     "text": [
      "  8%|▊         | 3/38 [00:00<00:04,  7.73it/s]"
     ]
    },
    {
     "name": "stdout",
     "output_type": "stream",
     "text": [
      "\n",
      "idate: 2020-03-01 , fdate: 2020-04-01\n",
      "\n",
      "idate: 2020-04-01 , fdate: 2020-05-01\n"
     ]
    },
    {
     "name": "stderr",
     "output_type": "stream",
     "text": [
      " 13%|█▎        | 5/38 [00:00<00:04,  7.79it/s]"
     ]
    },
    {
     "name": "stdout",
     "output_type": "stream",
     "text": [
      "\n",
      "idate: 2020-05-01 , fdate: 2020-06-01\n",
      "\n",
      "idate: 2020-06-01 , fdate: 2020-07-01\n"
     ]
    },
    {
     "name": "stderr",
     "output_type": "stream",
     "text": [
      " 18%|█▊        | 7/38 [00:00<00:03,  7.83it/s]"
     ]
    },
    {
     "name": "stdout",
     "output_type": "stream",
     "text": [
      "\n",
      "idate: 2020-07-01 , fdate: 2020-08-01\n",
      "\n",
      "idate: 2020-08-01 , fdate: 2020-09-01\n"
     ]
    },
    {
     "name": "stderr",
     "output_type": "stream",
     "text": [
      " 24%|██▎       | 9/38 [00:01<00:03,  7.88it/s]"
     ]
    },
    {
     "name": "stdout",
     "output_type": "stream",
     "text": [
      "\n",
      "idate: 2020-09-01 , fdate: 2020-10-01\n",
      "\n",
      "idate: 2020-10-01 , fdate: 2020-11-01\n"
     ]
    },
    {
     "name": "stderr",
     "output_type": "stream",
     "text": [
      " 29%|██▉       | 11/38 [00:01<00:03,  7.83it/s]"
     ]
    },
    {
     "name": "stdout",
     "output_type": "stream",
     "text": [
      "\n",
      "idate: 2020-11-01 , fdate: 2020-12-01\n",
      "\n",
      "idate: 2020-12-01 , fdate: 2021-01-01\n"
     ]
    },
    {
     "name": "stderr",
     "output_type": "stream",
     "text": [
      " 34%|███▍      | 13/38 [00:01<00:03,  7.79it/s]"
     ]
    },
    {
     "name": "stdout",
     "output_type": "stream",
     "text": [
      "\n",
      "idate: 2021-01-01 , fdate: 2021-02-01\n",
      "\n",
      "idate: 2021-02-01 , fdate: 2021-03-01\n"
     ]
    },
    {
     "name": "stderr",
     "output_type": "stream",
     "text": [
      " 39%|███▉      | 15/38 [00:01<00:03,  7.63it/s]"
     ]
    },
    {
     "name": "stdout",
     "output_type": "stream",
     "text": [
      "\n",
      "idate: 2021-03-01 , fdate: 2021-04-01\n",
      "\n",
      "idate: 2021-04-01 , fdate: 2021-05-01\n"
     ]
    },
    {
     "name": "stderr",
     "output_type": "stream",
     "text": [
      " 45%|████▍     | 17/38 [00:02<00:02,  7.55it/s]"
     ]
    },
    {
     "name": "stdout",
     "output_type": "stream",
     "text": [
      "\n",
      "idate: 2021-05-01 , fdate: 2021-06-01\n",
      "\n",
      "idate: 2021-06-01 , fdate: 2021-07-01\n"
     ]
    },
    {
     "name": "stderr",
     "output_type": "stream",
     "text": [
      " 50%|█████     | 19/38 [00:02<00:02,  7.10it/s]"
     ]
    },
    {
     "name": "stdout",
     "output_type": "stream",
     "text": [
      "\n",
      "idate: 2021-07-01 , fdate: 2021-08-01\n",
      "\n",
      "idate: 2021-08-01 , fdate: 2021-09-01\n"
     ]
    },
    {
     "name": "stderr",
     "output_type": "stream",
     "text": [
      " 55%|█████▌    | 21/38 [00:02<00:02,  7.20it/s]"
     ]
    },
    {
     "name": "stdout",
     "output_type": "stream",
     "text": [
      "\n",
      "idate: 2021-09-01 , fdate: 2021-10-01\n",
      "\n",
      "idate: 2021-10-01 , fdate: 2021-11-01\n"
     ]
    },
    {
     "name": "stderr",
     "output_type": "stream",
     "text": [
      " 61%|██████    | 23/38 [00:03<00:01,  7.53it/s]"
     ]
    },
    {
     "name": "stdout",
     "output_type": "stream",
     "text": [
      "\n",
      "idate: 2021-11-01 , fdate: 2021-12-01\n",
      "\n",
      "idate: 2021-12-01 , fdate: 2022-01-01\n"
     ]
    },
    {
     "name": "stderr",
     "output_type": "stream",
     "text": [
      " 66%|██████▌   | 25/38 [00:03<00:01,  7.65it/s]"
     ]
    },
    {
     "name": "stdout",
     "output_type": "stream",
     "text": [
      "\n",
      "idate: 2022-01-01 , fdate: 2022-02-01\n",
      "\n",
      "idate: 2022-02-01 , fdate: 2022-03-01\n"
     ]
    },
    {
     "name": "stderr",
     "output_type": "stream",
     "text": [
      " 71%|███████   | 27/38 [00:03<00:01,  7.64it/s]"
     ]
    },
    {
     "name": "stdout",
     "output_type": "stream",
     "text": [
      "\n",
      "idate: 2022-03-01 , fdate: 2022-04-01\n",
      "\n",
      "idate: 2022-04-01 , fdate: 2022-05-01\n"
     ]
    },
    {
     "name": "stderr",
     "output_type": "stream",
     "text": [
      " 76%|███████▋  | 29/38 [00:03<00:01,  7.13it/s]"
     ]
    },
    {
     "name": "stdout",
     "output_type": "stream",
     "text": [
      "\n",
      "idate: 2022-05-01 , fdate: 2022-06-01\n",
      "Saved data\n",
      "\n",
      "idate: 2022-06-01 , fdate: 2022-07-01\n"
     ]
    },
    {
     "name": "stderr",
     "output_type": "stream",
     "text": [
      " 79%|███████▉  | 30/38 [00:04<00:01,  4.40it/s]"
     ]
    },
    {
     "name": "stdout",
     "output_type": "stream",
     "text": [
      "Saved data\n",
      "\n",
      "idate: 2022-07-01 , fdate: 2022-08-01\n"
     ]
    },
    {
     "name": "stderr",
     "output_type": "stream",
     "text": [
      " 82%|████████▏ | 31/38 [00:04<00:01,  3.58it/s]"
     ]
    },
    {
     "name": "stdout",
     "output_type": "stream",
     "text": [
      "Saved data\n",
      "\n",
      "idate: 2022-08-01 , fdate: 2022-09-01\n"
     ]
    },
    {
     "name": "stderr",
     "output_type": "stream",
     "text": [
      " 84%|████████▍ | 32/38 [00:05<00:01,  3.25it/s]"
     ]
    },
    {
     "name": "stdout",
     "output_type": "stream",
     "text": [
      "Saved data\n",
      "\n",
      "idate: 2022-09-01 , fdate: 2022-10-01\n"
     ]
    },
    {
     "name": "stderr",
     "output_type": "stream",
     "text": [
      " 87%|████████▋ | 33/38 [00:05<00:01,  2.96it/s]"
     ]
    },
    {
     "name": "stdout",
     "output_type": "stream",
     "text": [
      "Saved data\n",
      "\n",
      "idate: 2022-10-01 , fdate: 2022-11-01\n"
     ]
    },
    {
     "name": "stderr",
     "output_type": "stream",
     "text": [
      " 89%|████████▉ | 34/38 [00:05<00:01,  2.74it/s]"
     ]
    },
    {
     "name": "stdout",
     "output_type": "stream",
     "text": [
      "Saved data\n",
      "\n",
      "idate: 2022-11-01 , fdate: 2022-12-01\n"
     ]
    },
    {
     "name": "stderr",
     "output_type": "stream",
     "text": [
      " 92%|█████████▏| 35/38 [00:06<00:01,  2.42it/s]"
     ]
    },
    {
     "name": "stdout",
     "output_type": "stream",
     "text": [
      "Saved data\n",
      "\n",
      "idate: 2022-12-01 , fdate: 2023-01-01\n"
     ]
    },
    {
     "name": "stderr",
     "output_type": "stream",
     "text": [
      " 95%|█████████▍| 36/38 [00:06<00:00,  2.50it/s]"
     ]
    },
    {
     "name": "stdout",
     "output_type": "stream",
     "text": [
      "Saved data\n",
      "\n",
      "idate: 2023-01-01 , fdate: 2023-02-01\n"
     ]
    },
    {
     "name": "stderr",
     "output_type": "stream",
     "text": [
      " 97%|█████████▋| 37/38 [00:07<00:00,  2.55it/s]"
     ]
    },
    {
     "name": "stdout",
     "output_type": "stream",
     "text": [
      "Saved data\n",
      "\n",
      "idate: 2023-02-01 , fdate: 2023-03-01\n"
     ]
    },
    {
     "name": "stderr",
     "output_type": "stream",
     "text": [
      "100%|██████████| 38/38 [00:07<00:00,  5.06it/s]"
     ]
    },
    {
     "name": "stdout",
     "output_type": "stream",
     "text": [
      "Saved data\n"
     ]
    },
    {
     "name": "stderr",
     "output_type": "stream",
     "text": [
      "\n"
     ]
    }
   ],
   "source": [
    "\n",
    "def metaf_req(idate,fdate):\n",
    "    url = 'http://montreal.icea.decea.mil.br:5002/api/v1/tc-prev'\n",
    "    params = {\n",
    "        'token': 'a779d04f85c4bf6cfa586d30aaec57c44e9b7173',\n",
    "        'idate': idate,\n",
    "        'fdate': fdate\n",
    "    }\n",
    "    headers = {\n",
    "        'accept': 'application/json'\n",
    "    }\n",
    "\n",
    "    response = requests.get(url, params=params, headers=headers)\n",
    "\n",
    "    if response.status_code == 200:\n",
    "        data = response.json()\n",
    "        return data\n",
    "    else:\n",
    "        print(f\"Falha na requisição. Código de status: {response.status_code}\")\n",
    "\n",
    "dateArray = np.arange(np.datetime64('2020-01'), np.datetime64('2023-04'), np.timedelta64(1,'M'))\n",
    "pathfile = './raw_data/tc-prev_raw.txt'\n",
    "\n",
    "if os.path.exists(pathfile) :\n",
    "    first = False\n",
    "else:\n",
    "    first = True\n",
    "\n",
    "for aux in tqdm(range(len(dateArray)-1)):\n",
    "    idate = str(dateArray[aux])+\"-01\"\n",
    "    fdate = str(dateArray[aux+1])+\"-01\"\n",
    "    print(f\"\\nidate: {idate} , fdate: {fdate}\")\n",
    "    data = metaf_req(idate,fdate)\n",
    "    data = str(data).replace(\"'\",'\"')\n",
    "    if str(data) != \"[]\": \n",
    "        with open(pathfile, 'a') as arquivo:\n",
    "            if first:\n",
    "                arquivo.write(str(data)[:-1])\n",
    "                first = False\n",
    "                \n",
    "            else:\n",
    "                arquivo.write(\",\"+str(data)[1:-1])\n",
    "            print(\"Saved data\")\n",
    "with open(pathfile, 'a') as arquivo:\n",
    "    arquivo.write(\"]\")\n",
    "\n"
   ]
  },
  {
   "cell_type": "code",
   "execution_count": 15,
   "metadata": {},
   "outputs": [
    {
     "data": {
      "text/html": [
       "<div>\n",
       "<style scoped>\n",
       "    .dataframe tbody tr th:only-of-type {\n",
       "        vertical-align: middle;\n",
       "    }\n",
       "\n",
       "    .dataframe tbody tr th {\n",
       "        vertical-align: top;\n",
       "    }\n",
       "\n",
       "    .dataframe thead th {\n",
       "        text-align: right;\n",
       "    }\n",
       "</style>\n",
       "<table border=\"1\" class=\"dataframe\">\n",
       "  <thead>\n",
       "    <tr style=\"text-align: right;\">\n",
       "      <th></th>\n",
       "      <th>hora</th>\n",
       "      <th>troca</th>\n",
       "      <th>aero</th>\n",
       "      <th>hora_formated</th>\n",
       "    </tr>\n",
       "  </thead>\n",
       "  <tbody>\n",
       "    <tr>\n",
       "      <th>0</th>\n",
       "      <td>1654041600000</td>\n",
       "      <td>0</td>\n",
       "      <td>BR</td>\n",
       "      <td>Tuesday, May 31, 2022 09:00:00</td>\n",
       "    </tr>\n",
       "    <tr>\n",
       "      <th>1</th>\n",
       "      <td>1654045200000</td>\n",
       "      <td>0</td>\n",
       "      <td>BR</td>\n",
       "      <td>Tuesday, May 31, 2022 10:00:00</td>\n",
       "    </tr>\n",
       "    <tr>\n",
       "      <th>2</th>\n",
       "      <td>1654048800000</td>\n",
       "      <td>0</td>\n",
       "      <td>BR</td>\n",
       "      <td>Tuesday, May 31, 2022 11:00:00</td>\n",
       "    </tr>\n",
       "    <tr>\n",
       "      <th>3</th>\n",
       "      <td>1654052400000</td>\n",
       "      <td>0</td>\n",
       "      <td>BR</td>\n",
       "      <td>Wednesday, June 01, 2022 12:00:00</td>\n",
       "    </tr>\n",
       "    <tr>\n",
       "      <th>4</th>\n",
       "      <td>1654056000000</td>\n",
       "      <td>0</td>\n",
       "      <td>BR</td>\n",
       "      <td>Wednesday, June 01, 2022 01:00:00</td>\n",
       "    </tr>\n",
       "  </tbody>\n",
       "</table>\n",
       "</div>"
      ],
      "text/plain": [
       "            hora  troca aero                      hora_formated\n",
       "0  1654041600000      0   BR     Tuesday, May 31, 2022 09:00:00\n",
       "1  1654045200000      0   BR     Tuesday, May 31, 2022 10:00:00\n",
       "2  1654048800000      0   BR     Tuesday, May 31, 2022 11:00:00\n",
       "3  1654052400000      0   BR  Wednesday, June 01, 2022 12:00:00\n",
       "4  1654056000000      0   BR  Wednesday, June 01, 2022 01:00:00"
      ]
     },
     "execution_count": 15,
     "metadata": {},
     "output_type": "execute_result"
    }
   ],
   "source": [
    "with open(pathfile, 'r') as arquivo:\n",
    "    # Carregue o conteúdo do arquivo em uma lista de dicionários\n",
    "    data_complete = json.load(arquivo)\n",
    "\n",
    "df = pd.DataFrame(data_complete)\n",
    "\n",
    "df['hora_formated'] = df['hora'].apply(lambda x: datetime.fromtimestamp(int(x)/1000).strftime(\"%A, %B %d, %Y %I:%M:%S\"))\n",
    "\n",
    "df.to_csv(\"./processed_data/tc-prev_bronze.csv\",index=False)\n",
    "\n",
    "df.head()"
   ]
  },
  {
   "cell_type": "markdown",
   "metadata": {},
   "source": [
    "### /Tc-real\n",
    "\n",
    "\n",
    "Fazer a requisição necessaria para baixar os dados e salvar em \"raw_tc-real\""
   ]
  },
  {
   "cell_type": "code",
   "execution_count": 16,
   "metadata": {},
   "outputs": [
    {
     "name": "stderr",
     "output_type": "stream",
     "text": [
      "  3%|▎         | 1/38 [00:00<00:04,  8.08it/s]"
     ]
    },
    {
     "name": "stdout",
     "output_type": "stream",
     "text": [
      "\n",
      "idate: 2020-01-01 , fdate: 2020-02-01\n",
      "\n",
      "idate: 2020-02-01 , fdate: 2020-03-01\n"
     ]
    },
    {
     "name": "stderr",
     "output_type": "stream",
     "text": [
      "  8%|▊         | 3/38 [00:00<00:04,  8.00it/s]"
     ]
    },
    {
     "name": "stdout",
     "output_type": "stream",
     "text": [
      "\n",
      "idate: 2020-03-01 , fdate: 2020-04-01\n",
      "\n",
      "idate: 2020-04-01 , fdate: 2020-05-01\n"
     ]
    },
    {
     "name": "stderr",
     "output_type": "stream",
     "text": [
      " 13%|█▎        | 5/38 [00:00<00:04,  8.11it/s]"
     ]
    },
    {
     "name": "stdout",
     "output_type": "stream",
     "text": [
      "\n",
      "idate: 2020-05-01 , fdate: 2020-06-01\n",
      "\n",
      "idate: 2020-06-01 , fdate: 2020-07-01\n"
     ]
    },
    {
     "name": "stderr",
     "output_type": "stream",
     "text": [
      " 18%|█▊        | 7/38 [00:00<00:03,  8.13it/s]"
     ]
    },
    {
     "name": "stdout",
     "output_type": "stream",
     "text": [
      "\n",
      "idate: 2020-07-01 , fdate: 2020-08-01\n",
      "\n",
      "idate: 2020-08-01 , fdate: 2020-09-01\n"
     ]
    },
    {
     "name": "stderr",
     "output_type": "stream",
     "text": [
      " 24%|██▎       | 9/38 [00:01<00:03,  7.76it/s]"
     ]
    },
    {
     "name": "stdout",
     "output_type": "stream",
     "text": [
      "\n",
      "idate: 2020-09-01 , fdate: 2020-10-01\n",
      "\n",
      "idate: 2020-10-01 , fdate: 2020-11-01\n"
     ]
    },
    {
     "name": "stderr",
     "output_type": "stream",
     "text": [
      " 29%|██▉       | 11/38 [00:01<00:03,  7.74it/s]"
     ]
    },
    {
     "name": "stdout",
     "output_type": "stream",
     "text": [
      "\n",
      "idate: 2020-11-01 , fdate: 2020-12-01\n",
      "\n",
      "idate: 2020-12-01 , fdate: 2021-01-01\n"
     ]
    },
    {
     "name": "stderr",
     "output_type": "stream",
     "text": [
      " 34%|███▍      | 13/38 [00:01<00:03,  7.80it/s]"
     ]
    },
    {
     "name": "stdout",
     "output_type": "stream",
     "text": [
      "\n",
      "idate: 2021-01-01 , fdate: 2021-02-01\n",
      "\n",
      "idate: 2021-02-01 , fdate: 2021-03-01\n"
     ]
    },
    {
     "name": "stderr",
     "output_type": "stream",
     "text": [
      " 39%|███▉      | 15/38 [00:01<00:02,  7.97it/s]"
     ]
    },
    {
     "name": "stdout",
     "output_type": "stream",
     "text": [
      "\n",
      "idate: 2021-03-01 , fdate: 2021-04-01\n",
      "\n",
      "idate: 2021-04-01 , fdate: 2021-05-01\n"
     ]
    },
    {
     "name": "stderr",
     "output_type": "stream",
     "text": [
      " 45%|████▍     | 17/38 [00:02<00:02,  7.91it/s]"
     ]
    },
    {
     "name": "stdout",
     "output_type": "stream",
     "text": [
      "\n",
      "idate: 2021-05-01 , fdate: 2021-06-01\n",
      "\n",
      "idate: 2021-06-01 , fdate: 2021-07-01\n"
     ]
    },
    {
     "name": "stderr",
     "output_type": "stream",
     "text": [
      " 50%|█████     | 19/38 [00:02<00:02,  8.07it/s]"
     ]
    },
    {
     "name": "stdout",
     "output_type": "stream",
     "text": [
      "\n",
      "idate: 2021-07-01 , fdate: 2021-08-01\n",
      "\n",
      "idate: 2021-08-01 , fdate: 2021-09-01\n"
     ]
    },
    {
     "name": "stderr",
     "output_type": "stream",
     "text": [
      " 55%|█████▌    | 21/38 [00:02<00:02,  7.38it/s]"
     ]
    },
    {
     "name": "stdout",
     "output_type": "stream",
     "text": [
      "\n",
      "idate: 2021-09-01 , fdate: 2021-10-01\n",
      "\n",
      "idate: 2021-10-01 , fdate: 2021-11-01\n"
     ]
    },
    {
     "name": "stderr",
     "output_type": "stream",
     "text": [
      " 61%|██████    | 23/38 [00:02<00:01,  7.56it/s]"
     ]
    },
    {
     "name": "stdout",
     "output_type": "stream",
     "text": [
      "\n",
      "idate: 2021-11-01 , fdate: 2021-12-01\n",
      "\n",
      "idate: 2021-12-01 , fdate: 2022-01-01\n"
     ]
    },
    {
     "name": "stderr",
     "output_type": "stream",
     "text": [
      " 66%|██████▌   | 25/38 [00:03<00:01,  7.69it/s]"
     ]
    },
    {
     "name": "stdout",
     "output_type": "stream",
     "text": [
      "\n",
      "idate: 2022-01-01 , fdate: 2022-02-01\n",
      "\n",
      "idate: 2022-02-01 , fdate: 2022-03-01\n"
     ]
    },
    {
     "name": "stderr",
     "output_type": "stream",
     "text": [
      " 71%|███████   | 27/38 [00:03<00:01,  7.74it/s]"
     ]
    },
    {
     "name": "stdout",
     "output_type": "stream",
     "text": [
      "\n",
      "idate: 2022-03-01 , fdate: 2022-04-01\n",
      "\n",
      "idate: 2022-04-01 , fdate: 2022-05-01\n"
     ]
    },
    {
     "name": "stderr",
     "output_type": "stream",
     "text": [
      " 76%|███████▋  | 29/38 [00:03<00:01,  7.99it/s]"
     ]
    },
    {
     "name": "stdout",
     "output_type": "stream",
     "text": [
      "\n",
      "idate: 2022-05-01 , fdate: 2022-06-01\n",
      "Saved data\n",
      "\n",
      "idate: 2022-06-01 , fdate: 2022-07-01\n"
     ]
    },
    {
     "name": "stderr",
     "output_type": "stream",
     "text": [
      " 79%|███████▉  | 30/38 [00:03<00:01,  5.77it/s]"
     ]
    },
    {
     "name": "stdout",
     "output_type": "stream",
     "text": [
      "Saved data\n",
      "\n",
      "idate: 2022-07-01 , fdate: 2022-08-01\n"
     ]
    },
    {
     "name": "stderr",
     "output_type": "stream",
     "text": [
      " 82%|████████▏ | 31/38 [00:04<00:01,  5.05it/s]"
     ]
    },
    {
     "name": "stdout",
     "output_type": "stream",
     "text": [
      "Saved data\n",
      "\n",
      "idate: 2022-08-01 , fdate: 2022-09-01\n"
     ]
    },
    {
     "name": "stderr",
     "output_type": "stream",
     "text": [
      " 84%|████████▍ | 32/38 [00:04<00:01,  4.54it/s]"
     ]
    },
    {
     "name": "stdout",
     "output_type": "stream",
     "text": [
      "Saved data\n",
      "\n",
      "idate: 2022-09-01 , fdate: 2022-10-01\n"
     ]
    },
    {
     "name": "stderr",
     "output_type": "stream",
     "text": [
      " 87%|████████▋ | 33/38 [00:04<00:01,  4.29it/s]"
     ]
    },
    {
     "name": "stdout",
     "output_type": "stream",
     "text": [
      "Saved data\n",
      "\n",
      "idate: 2022-10-01 , fdate: 2022-11-01\n"
     ]
    },
    {
     "name": "stderr",
     "output_type": "stream",
     "text": [
      " 89%|████████▉ | 34/38 [00:05<00:00,  4.13it/s]"
     ]
    },
    {
     "name": "stdout",
     "output_type": "stream",
     "text": [
      "Saved data\n",
      "\n",
      "idate: 2022-11-01 , fdate: 2022-12-01\n"
     ]
    },
    {
     "name": "stderr",
     "output_type": "stream",
     "text": [
      " 92%|█████████▏| 35/38 [00:05<00:00,  4.06it/s]"
     ]
    },
    {
     "name": "stdout",
     "output_type": "stream",
     "text": [
      "Saved data\n",
      "\n",
      "idate: 2022-12-01 , fdate: 2023-01-01\n"
     ]
    },
    {
     "name": "stderr",
     "output_type": "stream",
     "text": [
      " 95%|█████████▍| 36/38 [00:05<00:00,  3.88it/s]"
     ]
    },
    {
     "name": "stdout",
     "output_type": "stream",
     "text": [
      "Saved data\n",
      "\n",
      "idate: 2023-01-01 , fdate: 2023-02-01\n"
     ]
    },
    {
     "name": "stderr",
     "output_type": "stream",
     "text": [
      " 97%|█████████▋| 37/38 [00:05<00:00,  3.74it/s]"
     ]
    },
    {
     "name": "stdout",
     "output_type": "stream",
     "text": [
      "Saved data\n",
      "\n",
      "idate: 2023-02-01 , fdate: 2023-03-01\n"
     ]
    },
    {
     "name": "stderr",
     "output_type": "stream",
     "text": [
      "100%|██████████| 38/38 [00:06<00:00,  6.18it/s]"
     ]
    },
    {
     "name": "stdout",
     "output_type": "stream",
     "text": [
      "Saved data\n"
     ]
    },
    {
     "name": "stderr",
     "output_type": "stream",
     "text": [
      "\n"
     ]
    }
   ],
   "source": [
    "\n",
    "def metaf_req(idate,fdate):\n",
    "    url = 'http://montreal.icea.decea.mil.br:5002/api/v1/tc-real'\n",
    "    params = {\n",
    "        'token': 'a779d04f85c4bf6cfa586d30aaec57c44e9b7173',\n",
    "        'idate': idate,\n",
    "        'fdate': fdate\n",
    "    }\n",
    "    headers = {\n",
    "        'accept': 'application/json'\n",
    "    }\n",
    "\n",
    "    response = requests.get(url, params=params, headers=headers)\n",
    "\n",
    "    if response.status_code == 200:\n",
    "        data = response.json()\n",
    "        return data\n",
    "    else:\n",
    "        print(f\"Falha na requisição. Código de status: {response.status_code}\")\n",
    "\n",
    "dateArray = np.arange(np.datetime64('2020-01'), np.datetime64('2023-04'), np.timedelta64(1,'M'))\n",
    "pathfile = './raw_data/tc-real_raw.txt'\n",
    "\n",
    "if os.path.exists(pathfile) :\n",
    "    first = False\n",
    "else:\n",
    "    first = True\n",
    "\n",
    "for aux in tqdm(range(len(dateArray)-1)):\n",
    "    idate = str(dateArray[aux])+\"-01\"\n",
    "    fdate = str(dateArray[aux+1])+\"-01\"\n",
    "    print(f\"\\nidate: {idate} , fdate: {fdate}\")\n",
    "    data = metaf_req(idate,fdate)\n",
    "    data = str(data).replace(\"'\",'\"')\n",
    "    if str(data) != \"[]\": \n",
    "        with open(pathfile, 'a') as arquivo:\n",
    "            if first:\n",
    "                arquivo.write(str(data)[:-1])\n",
    "                first = False\n",
    "                \n",
    "            else:\n",
    "                arquivo.write(\",\"+str(data)[1:-1])\n",
    "            print(\"Saved data\")\n",
    "with open(pathfile, 'a') as arquivo:\n",
    "    arquivo.write(\"]\")\n",
    "\n"
   ]
  },
  {
   "cell_type": "code",
   "execution_count": 17,
   "metadata": {},
   "outputs": [
    {
     "data": {
      "text/html": [
       "<div>\n",
       "<style scoped>\n",
       "    .dataframe tbody tr th:only-of-type {\n",
       "        vertical-align: middle;\n",
       "    }\n",
       "\n",
       "    .dataframe tbody tr th {\n",
       "        vertical-align: top;\n",
       "    }\n",
       "\n",
       "    .dataframe thead th {\n",
       "        text-align: right;\n",
       "    }\n",
       "</style>\n",
       "<table border=\"1\" class=\"dataframe\">\n",
       "  <thead>\n",
       "    <tr style=\"text-align: right;\">\n",
       "      <th></th>\n",
       "      <th>hora</th>\n",
       "      <th>nova_cabeceira</th>\n",
       "      <th>antiga_cabeceira</th>\n",
       "      <th>aero</th>\n",
       "      <th>hora_formated</th>\n",
       "    </tr>\n",
       "  </thead>\n",
       "  <tbody>\n",
       "    <tr>\n",
       "      <th>0</th>\n",
       "      <td>1654092843000</td>\n",
       "      <td>32</td>\n",
       "      <td>03</td>\n",
       "      <td>FL</td>\n",
       "      <td>Wednesday, June 01, 2022 11:14:03</td>\n",
       "    </tr>\n",
       "    <tr>\n",
       "      <th>1</th>\n",
       "      <td>1654109470000</td>\n",
       "      <td>18</td>\n",
       "      <td>12</td>\n",
       "      <td>RF</td>\n",
       "      <td>Wednesday, June 01, 2022 03:51:10</td>\n",
       "    </tr>\n",
       "    <tr>\n",
       "      <th>2</th>\n",
       "      <td>1654110745000</td>\n",
       "      <td>16</td>\n",
       "      <td>13</td>\n",
       "      <td>CF</td>\n",
       "      <td>Wednesday, June 01, 2022 04:12:25</td>\n",
       "    </tr>\n",
       "    <tr>\n",
       "      <th>3</th>\n",
       "      <td>1654110758000</td>\n",
       "      <td>15</td>\n",
       "      <td>26</td>\n",
       "      <td>GL</td>\n",
       "      <td>Wednesday, June 01, 2022 04:12:38</td>\n",
       "    </tr>\n",
       "    <tr>\n",
       "      <th>4</th>\n",
       "      <td>1654110777000</td>\n",
       "      <td>15</td>\n",
       "      <td>26</td>\n",
       "      <td>GL</td>\n",
       "      <td>Wednesday, June 01, 2022 04:12:57</td>\n",
       "    </tr>\n",
       "  </tbody>\n",
       "</table>\n",
       "</div>"
      ],
      "text/plain": [
       "            hora nova_cabeceira antiga_cabeceira aero  \\\n",
       "0  1654092843000             32               03   FL   \n",
       "1  1654109470000             18               12   RF   \n",
       "2  1654110745000             16               13   CF   \n",
       "3  1654110758000             15               26   GL   \n",
       "4  1654110777000             15               26   GL   \n",
       "\n",
       "                       hora_formated  \n",
       "0  Wednesday, June 01, 2022 11:14:03  \n",
       "1  Wednesday, June 01, 2022 03:51:10  \n",
       "2  Wednesday, June 01, 2022 04:12:25  \n",
       "3  Wednesday, June 01, 2022 04:12:38  \n",
       "4  Wednesday, June 01, 2022 04:12:57  "
      ]
     },
     "execution_count": 17,
     "metadata": {},
     "output_type": "execute_result"
    }
   ],
   "source": [
    "with open(pathfile, 'r') as arquivo:\n",
    "    # Carregue o conteúdo do arquivo em uma lista de dicionários\n",
    "    data_complete = json.load(arquivo)\n",
    "\n",
    "df = pd.DataFrame(data_complete)\n",
    "\n",
    "df['hora_formated'] = df['hora'].apply(lambda x: datetime.fromtimestamp(int(x)/1000).strftime(\"%A, %B %d, %Y %I:%M:%S\"))\n",
    "\n",
    "df.to_csv(\"./processed_data/tc-real_bronze.csv\",index=False)\n",
    "\n",
    "df.head()"
   ]
  },
  {
   "cell_type": "markdown",
   "metadata": {},
   "source": [
    "### /cat-62\n",
    "\n",
    "\n",
    "Fazer a requisição necessaria para baixar os dados e salvar em \"raw_cat-62\""
   ]
  },
  {
   "cell_type": "code",
   "execution_count": 18,
   "metadata": {},
   "outputs": [
    {
     "name": "stderr",
     "output_type": "stream",
     "text": [
      "  0%|          | 0/1 [00:00<?, ?it/s]"
     ]
    },
    {
     "name": "stdout",
     "output_type": "stream",
     "text": [
      "\n",
      "idate: 2023-01-01 00:00:00.000 , fdate: 2023-01-01 01:00:00.000\n"
     ]
    },
    {
     "name": "stderr",
     "output_type": "stream",
     "text": [
      "100%|██████████| 1/1 [00:01<00:00,  1.64s/it]"
     ]
    },
    {
     "name": "stdout",
     "output_type": "stream",
     "text": [
      "Saved data\n"
     ]
    },
    {
     "name": "stderr",
     "output_type": "stream",
     "text": [
      "\n"
     ]
    }
   ],
   "source": [
    "\n",
    "def cat62_req(idate,fdate):\n",
    "    url = 'http://montreal.icea.decea.mil.br:5002/api/v1/cat-62'\n",
    "    params = {\n",
    "        'token': 'a779d04f85c4bf6cfa586d30aaec57c44e9b7173',\n",
    "        'idate': idate,\n",
    "        'fdate': fdate\n",
    "    }\n",
    "    headers = {\n",
    "        'accept': 'application/json'\n",
    "    }\n",
    "\n",
    "    response = requests.get(url, params=params, headers=headers)\n",
    "\n",
    "    if response.status_code == 200:\n",
    "        data = response.json()\n",
    "        return data\n",
    "    else:\n",
    "        print(f\"Falha na requisição. Código de status: {response.status_code}\")\n",
    "\n",
    "dateArray = np.arange(np.datetime64('2023-01-01 00:00:00.000'), np.datetime64('2023-01-01 02:00:00.000'), np.timedelta64(1,'h'))\n",
    "\n",
    "\n",
    "pathfile = './raw_data/cat62_raw.txt'\n",
    "\n",
    "if os.path.exists(pathfile) :\n",
    "    first = False\n",
    "else:\n",
    "    first = True\n",
    "\n",
    "for aux in tqdm(range(len(dateArray)-1)):\n",
    "    idate = str(dateArray[aux]).replace(\"T\",\" \")\n",
    "    fdate = str(dateArray[aux+1]).replace(\"T\",\" \")\n",
    "    print(f\"\\nidate: {idate} , fdate: {fdate}\")\n",
    "    data = cat62_req(idate,fdate)\n",
    "    data = str(data).replace(\"'\",'\"')\n",
    "    if str(data) != \"[]\": \n",
    "        with open(pathfile, 'a') as arquivo:\n",
    "            if first:\n",
    "                data = data.replace(\"None\",\"0.0\")\n",
    "                arquivo.write(str(data)[:-1])\n",
    "                first = False\n",
    "                \n",
    "            else:\n",
    "                data = data.replace(\"None\",\"0.0\")\n",
    "                arquivo.write(\",\"+str(data)[1:-1])\n",
    "            print(\"Saved data\")\n",
    "with open(pathfile, 'a') as arquivo:\n",
    "    arquivo.write(\"]\")\n",
    "\n"
   ]
  },
  {
   "cell_type": "code",
   "execution_count": 19,
   "metadata": {},
   "outputs": [
    {
     "name": "stdout",
     "output_type": "stream",
     "text": [
      "./raw_data/cat62_raw.txt\n"
     ]
    },
    {
     "data": {
      "text/html": [
       "<div>\n",
       "<style scoped>\n",
       "    .dataframe tbody tr th:only-of-type {\n",
       "        vertical-align: middle;\n",
       "    }\n",
       "\n",
       "    .dataframe tbody tr th {\n",
       "        vertical-align: top;\n",
       "    }\n",
       "\n",
       "    .dataframe thead th {\n",
       "        text-align: right;\n",
       "    }\n",
       "</style>\n",
       "<table border=\"1\" class=\"dataframe\">\n",
       "  <thead>\n",
       "    <tr style=\"text-align: right;\">\n",
       "      <th></th>\n",
       "      <th>flightid</th>\n",
       "      <th>lat</th>\n",
       "      <th>lon</th>\n",
       "      <th>flightlevel</th>\n",
       "      <th>speed</th>\n",
       "      <th>dt_radar</th>\n",
       "      <th>dt_radar_formated</th>\n",
       "    </tr>\n",
       "  </thead>\n",
       "  <tbody>\n",
       "    <tr>\n",
       "      <th>0</th>\n",
       "      <td>a0a06bda4afb87d6f0b597f264e1508f</td>\n",
       "      <td>-0.512903</td>\n",
       "      <td>-0.884901</td>\n",
       "      <td>251.0</td>\n",
       "      <td>416</td>\n",
       "      <td>1672532281000</td>\n",
       "      <td>Saturday, December 31, 2022 09:18:01</td>\n",
       "    </tr>\n",
       "    <tr>\n",
       "      <th>1</th>\n",
       "      <td>a0a06bda4afb87d6f0b597f264e1508f</td>\n",
       "      <td>-0.437192</td>\n",
       "      <td>-0.845624</td>\n",
       "      <td>390.0</td>\n",
       "      <td>501</td>\n",
       "      <td>1672534324000</td>\n",
       "      <td>Saturday, December 31, 2022 09:52:04</td>\n",
       "    </tr>\n",
       "    <tr>\n",
       "      <th>2</th>\n",
       "      <td>a0a06bda4afb87d6f0b597f264e1508f</td>\n",
       "      <td>-0.466081</td>\n",
       "      <td>-0.860230</td>\n",
       "      <td>390.0</td>\n",
       "      <td>507</td>\n",
       "      <td>1672533546000</td>\n",
       "      <td>Saturday, December 31, 2022 09:39:06</td>\n",
       "    </tr>\n",
       "    <tr>\n",
       "      <th>3</th>\n",
       "      <td>a0a06bda4afb87d6f0b597f264e1508f</td>\n",
       "      <td>-0.463969</td>\n",
       "      <td>-0.859149</td>\n",
       "      <td>390.0</td>\n",
       "      <td>508</td>\n",
       "      <td>1672533602000</td>\n",
       "      <td>Saturday, December 31, 2022 09:40:02</td>\n",
       "    </tr>\n",
       "    <tr>\n",
       "      <th>4</th>\n",
       "      <td>a0a06bda4afb87d6f0b597f264e1508f</td>\n",
       "      <td>-0.493152</td>\n",
       "      <td>-0.874323</td>\n",
       "      <td>387.0</td>\n",
       "      <td>515</td>\n",
       "      <td>1672532820000</td>\n",
       "      <td>Saturday, December 31, 2022 09:27:00</td>\n",
       "    </tr>\n",
       "  </tbody>\n",
       "</table>\n",
       "</div>"
      ],
      "text/plain": [
       "                           flightid       lat       lon  flightlevel  speed  \\\n",
       "0  a0a06bda4afb87d6f0b597f264e1508f -0.512903 -0.884901        251.0    416   \n",
       "1  a0a06bda4afb87d6f0b597f264e1508f -0.437192 -0.845624        390.0    501   \n",
       "2  a0a06bda4afb87d6f0b597f264e1508f -0.466081 -0.860230        390.0    507   \n",
       "3  a0a06bda4afb87d6f0b597f264e1508f -0.463969 -0.859149        390.0    508   \n",
       "4  a0a06bda4afb87d6f0b597f264e1508f -0.493152 -0.874323        387.0    515   \n",
       "\n",
       "        dt_radar                     dt_radar_formated  \n",
       "0  1672532281000  Saturday, December 31, 2022 09:18:01  \n",
       "1  1672534324000  Saturday, December 31, 2022 09:52:04  \n",
       "2  1672533546000  Saturday, December 31, 2022 09:39:06  \n",
       "3  1672533602000  Saturday, December 31, 2022 09:40:02  \n",
       "4  1672532820000  Saturday, December 31, 2022 09:27:00  "
      ]
     },
     "execution_count": 19,
     "metadata": {},
     "output_type": "execute_result"
    }
   ],
   "source": [
    "print(pathfile)\n",
    "with open(pathfile, 'r') as arquivo:\n",
    "    # Carregue o conteúdo do arquivo em uma lista de dicionários\n",
    "    data_complete = json.load(arquivo)\n",
    "\n",
    "df = pd.DataFrame(data_complete)\n",
    "\n",
    "df['dt_radar_formated'] = df['dt_radar'].apply(lambda x: datetime.fromtimestamp(int(x)/1000).strftime(\"%A, %B %d, %Y %I:%M:%S\"))\n",
    "\n",
    "df.to_csv(\"./processed_data/cat62_bronze.csv\",index=False)\n",
    "\n",
    "df.head()"
   ]
  }
 ],
 "metadata": {
  "kernelspec": {
   "display_name": "Python 3",
   "language": "python",
   "name": "python3"
  },
  "language_info": {
   "codemirror_mode": {
    "name": "ipython",
    "version": 3
   },
   "file_extension": ".py",
   "mimetype": "text/x-python",
   "name": "python",
   "nbconvert_exporter": "python",
   "pygments_lexer": "ipython3",
   "version": "3.11.5"
  },
  "orig_nbformat": 4
 },
 "nbformat": 4,
 "nbformat_minor": 2
}
